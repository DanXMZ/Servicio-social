{
 "cells": [
  {
   "cell_type": "markdown",
   "id": "d74caf1a",
   "metadata": {},
   "source": [
    "# SIMD: El paralelismo que puede (a veces) ocurrir automáticamente\n",
    "\n",
    "SIMD: Single-Intruction, Multiple Data\n",
    "\n",
    "(También llamado confusamente vectorización)"
   ]
  },
  {
   "cell_type": "markdown",
   "id": "d15c22d1",
   "metadata": {},
   "source": [
    "## The architecture\n",
    "\n",
    "En lugar de calcular cuatro sumas secuencialmente:\n",
    "\n",
    "\\begin{align}\n",
    "x_1 + y_1 &\\rightarrow z_1 \\\\\n",
    "x_2 + y_2 &\\rightarrow z_2 \\\\\n",
    "x_3 + y_3 &\\rightarrow z_3 \\\\\n",
    "x_4 + y_4 &\\rightarrow z_4\n",
    "\\end{align}\n",
    "\n",
    "Los procesadores modernos tienen ununidades de procesamiento de vectores que pueden hacerlo todo a la vez:\n",
    "\n",
    "$$\n",
    "\\left(\\begin{array}{cc}\n",
    "x_1 \\\\\n",
    "x_2 \\\\\n",
    "x_3 \\\\\n",
    "x_4\n",
    "\\end{array}\\right)\n",
    "+\n",
    "\\left(\\begin{array}{cc}\n",
    "y_1 \\\\\n",
    "y_2 \\\\\n",
    "y_3 \\\\\n",
    "y_4\n",
    "\\end{array}\\right)\n",
    "\\rightarrow\n",
    "\\left(\\begin{array}{cc}\n",
    "z_1 \\\\\n",
    "z_2 \\\\\n",
    "z_3 \\\\\n",
    "z_4\n",
    "\\end{array}\\right)\n",
    "$$"
   ]
  },
  {
   "cell_type": "markdown",
   "id": "41d09d73",
   "metadata": {},
   "source": [
    "## Hacer que suceda"
   ]
  },
  {
   "cell_type": "markdown",
   "id": "5aaac6c7",
   "metadata": {},
   "source": [
    "Tarea sencilla: calcular la suma de un vector:"
   ]
  },
  {
   "cell_type": "code",
   "execution_count": 2,
   "id": "9a792fca",
   "metadata": {},
   "outputs": [
    {
     "data": {
      "text/plain": [
       "49943.29477922153"
      ]
     },
     "execution_count": 2,
     "metadata": {},
     "output_type": "execute_result"
    }
   ],
   "source": [
    "A = rand(100_000)\n",
    "function simplesum(A)\n",
    "    result = zero(eltype(A))\n",
    "    for i in eachindex(A)\n",
    "        @inbounds result += A[i]\n",
    "    end\n",
    "    return result\n",
    "end\n",
    "\n",
    "simplesum(A)"
   ]
  },
  {
   "cell_type": "code",
   "execution_count": 3,
   "id": "5c927b3e",
   "metadata": {},
   "outputs": [
    {
     "name": "stdout",
     "output_type": "stream",
     "text": [
      "  117.900 μs (0 allocations: 0 bytes)\n"
     ]
    },
    {
     "data": {
      "text/plain": [
       "49943.29477922153"
      ]
     },
     "execution_count": 3,
     "metadata": {},
     "output_type": "execute_result"
    }
   ],
   "source": [
    "using BenchmarkTools\n",
    "@btime simplesum($A)"
   ]
  },
  {
   "cell_type": "markdown",
   "id": "0d7e1783",
   "metadata": {},
   "source": [
    "Entonces, ¿eso es bueno?"
   ]
  },
  {
   "cell_type": "code",
   "execution_count": 4,
   "id": "a84c0c28",
   "metadata": {},
   "outputs": [
    {
     "name": "stdout",
     "output_type": "stream",
     "text": [
      "  9.700 μs (0 allocations: 0 bytes)\n"
     ]
    },
    {
     "data": {
      "text/plain": [
       "49943.29477922161"
      ]
     },
     "execution_count": 4,
     "metadata": {},
     "output_type": "execute_result"
    }
   ],
   "source": [
    "@btime sum($A)"
   ]
  },
  {
   "cell_type": "markdown",
   "id": "c8fbd61b",
   "metadata": {},
   "source": [
    "Somos más lentos que la suma integrada, ¡y también obtenemos una respuesta diferente! Veamos qué sucede con un flotante de 32 bits en lugar de uno de 64 bits. Cada elemento tiene la mitad del número de bits, así que también dupliquemos la longitud (para que el número total de bits procesados ​​permanezca constante)."
   ]
  },
  {
   "cell_type": "code",
   "execution_count": 5,
   "id": "cbddb200",
   "metadata": {},
   "outputs": [
    {
     "name": "stdout",
     "output_type": "stream",
     "text": [
      "  190.900 μs (0 allocations: 0 bytes)\n",
      "  9.200 μs (0 allocations: 0 bytes)\n"
     ]
    }
   ],
   "source": [
    "A32 = rand(Float32, length(A)*2)\n",
    "@btime simplesum($A32)\n",
    "@btime sum($A32);"
   ]
  },
  {
   "cell_type": "markdown",
   "id": "095d1fcd",
   "metadata": {},
   "source": [
    "Miremos ¡Eso es aún peor! ¿Que está pasando aqui? Estamos viendo un número par múltiplo diferencia en nuestro rendimiento: ¿quizás la suma integrada de Julia está utilizando algún paralelismo? Intentemos usar SIMD nosotros mismos: "
   ]
  },
  {
   "cell_type": "code",
   "execution_count": 6,
   "id": "c0631913",
   "metadata": {},
   "outputs": [
    {
     "name": "stdout",
     "output_type": "stream",
     "text": [
      "  6.120 μs (0 allocations: 0 bytes)\n",
      "  6.120 μs (0 allocations: 0 bytes)\n"
     ]
    },
    {
     "data": {
      "text/plain": [
       "99960.83f0"
      ]
     },
     "execution_count": 6,
     "metadata": {},
     "output_type": "execute_result"
    }
   ],
   "source": [
    "function simdsum(A)\n",
    "    result = zero(eltype(A))\n",
    "    @simd for i in eachindex(A)\n",
    "        @inbounds result += A[i]\n",
    "    end\n",
    "    return result\n",
    "end\n",
    "@btime simdsum($A)\n",
    "@btime simdsum($A32)"
   ]
  },
  {
   "cell_type": "markdown",
   "id": "88156aaa",
   "metadata": {},
   "source": [
    "¿Qué hizo eso y por qué no siempre usamos `@simd`, o por qué Julia no siempre usa `@simd` para cada bucle for automáticamente? Mira los valores:"
   ]
  },
  {
   "cell_type": "code",
   "execution_count": 7,
   "id": "b2793220",
   "metadata": {},
   "outputs": [
    {
     "data": {
      "text/plain": [
       "(49943.29477922153, 49943.2947792216, 49943.29477922161)"
      ]
     },
     "execution_count": 7,
     "metadata": {},
     "output_type": "execute_result"
    }
   ],
   "source": [
    "simplesum(A), simdsum(A), sum(A)"
   ]
  },
  {
   "cell_type": "code",
   "execution_count": 8,
   "id": "935972fb",
   "metadata": {},
   "outputs": [
    {
     "data": {
      "text/plain": [
       "(99960.2f0, 99960.83f0, 99960.82f0)"
      ]
     },
     "execution_count": 8,
     "metadata": {},
     "output_type": "execute_result"
    }
   ],
   "source": [
    "simplesum(A32), simdsum(A32), sum(A32)"
   ]
  },
  {
   "cell_type": "markdown",
   "id": "74966bdf",
   "metadata": {},
   "source": [
    "Without `@simd`, Julia is doing _exactly_ what we told it to do: it's taking\n",
    "each element of our array and adding it to a big pile sequentially. Our answer\n",
    "is smaller than what Julia's builtin `sum` thinks it is: that's because as our\n",
    "pile gets bigger we begin losing the lower bits of each element that we're\n",
    "adding, and those small losses begin to add up!\n",
    "\n",
    "The `@simd` macro tells Julia that it can re-arrange floating point additions —\n",
    "even if it would change the answer. Depending on your CPU, this may lead to 2x or 4x\n",
    "or even 8x parallelism. Essentially, Julia is computing independent sums for\n",
    "the even indices and the odd indices simultaneously:\n",
    "\n",
    "\n",
    "¿Por qué no son iguales?\n",
    "\n",
    "Sin `@simd`, Julia está haciendo _exactamente_ lo que le dijimos que hiciera: está tomando cada elemento de nuestra matriz y agregándolo a una gran pila secuencialmente. Nuestra respuesta es más pequeña de lo que piensa la suma integrada de Julia `sum`: eso se debe a que a medida que nuestra pila crece, comenzamos a perder las partes inferiores de cada elemento que estamos agregando, ¡y esas pequeñas pérdidas comienzan a acumularse!\n",
    "\n",
    "La macro `@simd` le dice a Julia que puede reorganizar las adiciones de punto flotante, incluso si cambiaría la respuesta. Dependiendo de su CPU, esto puede conducir a un paralelismo de 2x, 4x o incluso 8x. Esencialmente, Julia está calculando sumas independientes para los índices pares y los índices impares simultáneamente:\n",
    "\n",
    "\\begin{align}\n",
    "impares &\\leftarrow 0 \\\\\n",
    "pares &\\leftarrow 0 \\\\\n",
    "\\text{loop}&\\ \\text{impar}\\ i: \\\\\n",
    "    &\\left(\\begin{array}{cc}\n",
    "impares \\\\\n",
    "pares\n",
    "\\end{array}\\right)\n",
    "\\leftarrow\n",
    "\\left(\\begin{array}{cc}\n",
    "impares \\\\\n",
    "pares\n",
    "\\end{array}\\right)\n",
    "+\n",
    "\\left(\\begin{array}{cc}\n",
    "x_{i} \\\\\n",
    "x_{i+1}\n",
    "\\end{array}\\right) \\\\\n",
    "total &\\leftarrow pares + impares\n",
    "\\end{align}"
   ]
  },
  {
   "cell_type": "markdown",
   "id": "fb2d5087",
   "metadata": {},
   "source": [
    "En muchos casos, Julia puede y sabe que un bucle `for` puede ser \" *vectorizado* \" (`SIMD-ed`) y se aprovechará de esto de forma predeterminada."
   ]
  },
  {
   "cell_type": "code",
   "execution_count": 9,
   "id": "4a4e6022",
   "metadata": {},
   "outputs": [
    {
     "name": "stdout",
     "output_type": "stream",
     "text": [
      "  6.060 μs (0 allocations: 0 bytes)\n",
      "  7.600 μs (0 allocations: 0 bytes)\n",
      "  6.120 μs (0 allocations: 0 bytes)\n",
      "  6.120 μs (0 allocations: 0 bytes)\n"
     ]
    },
    {
     "data": {
      "text/plain": [
       "1098730"
      ]
     },
     "execution_count": 9,
     "metadata": {},
     "output_type": "execute_result"
    }
   ],
   "source": [
    "B = rand(1:10, 100_000)\n",
    "@btime simplesum($B)\n",
    "@btime sum($B)\n",
    "B32 = rand(Int32(1):Int32(10), length(B)*2)\n",
    "@btime simplesum($B32)\n",
    "@btime simdsum($B32)"
   ]
  },
  {
   "cell_type": "markdown",
   "id": "886e1c56",
   "metadata": {},
   "source": [
    "¿Cómo podemos ver si algo se está vectorizando?"
   ]
  },
  {
   "cell_type": "code",
   "execution_count": 12,
   "id": "8322241d",
   "metadata": {},
   "outputs": [
    {
     "name": "stdout",
     "output_type": "stream",
     "text": [
      "\u001b[90m;  @ In[6]:1 within `simdsum`\u001b[39m\n",
      "\u001b[90m; Function Attrs: uwtable\u001b[39m\n",
      "\u001b[95mdefine\u001b[39m \u001b[36mfloat\u001b[39m \u001b[93m@julia_simdsum_1906\u001b[39m\u001b[33m(\u001b[39m\u001b[33m{\u001b[39m\u001b[33m}\u001b[39m\u001b[0m* \u001b[95mnonnull\u001b[39m \u001b[95malign\u001b[39m \u001b[33m16\u001b[39m \u001b[95mdereferenceable\u001b[39m\u001b[33m(\u001b[39m\u001b[33m40\u001b[39m\u001b[33m)\u001b[39m \u001b[0m%0\u001b[33m)\u001b[39m \u001b[0m#0 \u001b[33m{\u001b[39m\n",
      "\u001b[91mtop:\u001b[39m\n",
      "\u001b[90m;  @ In[6]:3 within `simdsum`\u001b[39m\n",
      "\u001b[90m; ┌ @ simdloop.jl:69 within `macro expansion`\u001b[39m\n",
      "\u001b[90m; │┌ @ abstractarray.jl:279 within `eachindex`\u001b[39m\n",
      "\u001b[90m; ││┌ @ abstractarray.jl:116 within `axes1`\u001b[39m\n",
      "\u001b[90m; │││┌ @ abstractarray.jl:95 within `axes`\u001b[39m\n",
      "\u001b[90m; ││││┌ @ array.jl:151 within `size`\u001b[39m\n",
      "       \u001b[0m%1 \u001b[0m= \u001b[96m\u001b[1mbitcast\u001b[22m\u001b[39m \u001b[33m{\u001b[39m\u001b[33m}\u001b[39m\u001b[0m* \u001b[0m%0 \u001b[95mto\u001b[39m \u001b[33m{\u001b[39m\u001b[33m}\u001b[39m\u001b[0m**\n",
      "       \u001b[0m%2 \u001b[0m= \u001b[96m\u001b[1mgetelementptr\u001b[22m\u001b[39m \u001b[95minbounds\u001b[39m \u001b[33m{\u001b[39m\u001b[33m}\u001b[39m\u001b[0m*\u001b[0m, \u001b[33m{\u001b[39m\u001b[33m}\u001b[39m\u001b[0m** \u001b[0m%1\u001b[0m, \u001b[36mi64\u001b[39m \u001b[33m3\u001b[39m\n",
      "       \u001b[0m%3 \u001b[0m= \u001b[96m\u001b[1mbitcast\u001b[22m\u001b[39m \u001b[33m{\u001b[39m\u001b[33m}\u001b[39m\u001b[0m** \u001b[0m%2 \u001b[95mto\u001b[39m \u001b[36mi64\u001b[39m\u001b[0m*\n",
      "       \u001b[0m%4 \u001b[0m= \u001b[96m\u001b[1mload\u001b[22m\u001b[39m \u001b[36mi64\u001b[39m\u001b[0m, \u001b[36mi64\u001b[39m\u001b[0m* \u001b[0m%3\u001b[0m, \u001b[95malign\u001b[39m \u001b[33m8\u001b[39m\n",
      "\u001b[90m; └└└└└\u001b[39m\n",
      "\u001b[90m; ┌ @ simdloop.jl:72 within `macro expansion`\u001b[39m\n",
      "\u001b[90m; │┌ @ int.jl:83 within `<`\u001b[39m\n",
      "    \u001b[0m%.not \u001b[0m= \u001b[96m\u001b[1micmp\u001b[22m\u001b[39m \u001b[96m\u001b[1meq\u001b[22m\u001b[39m \u001b[36mi64\u001b[39m \u001b[0m%4\u001b[0m, \u001b[33m0\u001b[39m\n",
      "\u001b[90m; │└\u001b[39m\n",
      "   \u001b[96m\u001b[1mbr\u001b[22m\u001b[39m \u001b[36mi1\u001b[39m \u001b[0m%.not\u001b[0m, \u001b[36mlabel\u001b[39m \u001b[91m%L30\u001b[39m\u001b[0m, \u001b[36mlabel\u001b[39m \u001b[91m%L13.lr.ph\u001b[39m\n",
      "\n",
      "\u001b[91mL13.lr.ph:\u001b[39m                                        \u001b[90m; preds = %top\u001b[39m\n",
      "   \u001b[0m%5 \u001b[0m= \u001b[96m\u001b[1mbitcast\u001b[22m\u001b[39m \u001b[33m{\u001b[39m\u001b[33m}\u001b[39m\u001b[0m* \u001b[0m%0 \u001b[95mto\u001b[39m \u001b[36mfloat\u001b[39m\u001b[0m**\n",
      "   \u001b[0m%6 \u001b[0m= \u001b[96m\u001b[1mload\u001b[22m\u001b[39m \u001b[36mfloat\u001b[39m\u001b[0m*\u001b[0m, \u001b[36mfloat\u001b[39m\u001b[0m** \u001b[0m%5\u001b[0m, \u001b[95malign\u001b[39m \u001b[33m8\u001b[39m\n",
      "\u001b[90m; └\u001b[39m\n",
      "\u001b[90m; ┌ @ simdloop.jl:75 within `macro expansion`\u001b[39m\n",
      "   \u001b[0m%min.iters.check \u001b[0m= \u001b[96m\u001b[1micmp\u001b[22m\u001b[39m \u001b[96m\u001b[1mult\u001b[22m\u001b[39m \u001b[36mi64\u001b[39m \u001b[0m%4\u001b[0m, \u001b[33m32\u001b[39m\n",
      "   \u001b[96m\u001b[1mbr\u001b[22m\u001b[39m \u001b[36mi1\u001b[39m \u001b[0m%min.iters.check\u001b[0m, \u001b[36mlabel\u001b[39m \u001b[91m%L13\u001b[39m\u001b[0m, \u001b[36mlabel\u001b[39m \u001b[91m%vector.ph\u001b[39m\n",
      "\n",
      "\u001b[91mvector.ph:\u001b[39m                                        \u001b[90m; preds = %L13.lr.ph\u001b[39m\n",
      "   \u001b[0m%n.vec \u001b[0m= \u001b[96m\u001b[1mand\u001b[22m\u001b[39m \u001b[36mi64\u001b[39m \u001b[0m%4\u001b[0m, \u001b[33m9223372036854775776\u001b[39m\n",
      "   \u001b[96m\u001b[1mbr\u001b[22m\u001b[39m \u001b[36mlabel\u001b[39m \u001b[91m%vector.body\u001b[39m\n",
      "\n",
      "\u001b[91mvector.body:\u001b[39m                                      \u001b[90m; preds = %vector.body, %vector.ph\u001b[39m\n",
      "\u001b[90m; └\u001b[39m\n",
      "\u001b[90m; ┌ @ simdloop.jl:78 within `macro expansion`\u001b[39m\n",
      "\u001b[90m; │┌ @ int.jl:87 within `+`\u001b[39m\n",
      "    \u001b[0m%index \u001b[0m= \u001b[96m\u001b[1mphi\u001b[22m\u001b[39m \u001b[36mi64\u001b[39m \u001b[33m[\u001b[39m \u001b[33m0\u001b[39m\u001b[0m, \u001b[91m%vector.ph\u001b[39m \u001b[33m]\u001b[39m\u001b[0m, \u001b[33m[\u001b[39m \u001b[0m%index.next\u001b[0m, \u001b[91m%vector.body\u001b[39m \u001b[33m]\u001b[39m\n",
      "    \u001b[0m%vec.phi \u001b[0m= \u001b[96m\u001b[1mphi\u001b[22m\u001b[39m \u001b[33m<\u001b[39m\u001b[33m8\u001b[39m \u001b[0mx \u001b[36mfloat\u001b[39m\u001b[33m>\u001b[39m \u001b[33m[\u001b[39m \u001b[95mzeroinitializer\u001b[39m\u001b[0m, \u001b[91m%vector.ph\u001b[39m \u001b[33m]\u001b[39m\u001b[0m, \u001b[33m[\u001b[39m \u001b[0m%15\u001b[0m, \u001b[91m%vector.body\u001b[39m \u001b[33m]\u001b[39m\n",
      "    \u001b[0m%vec.phi9 \u001b[0m= \u001b[96m\u001b[1mphi\u001b[22m\u001b[39m \u001b[33m<\u001b[39m\u001b[33m8\u001b[39m \u001b[0mx \u001b[36mfloat\u001b[39m\u001b[33m>\u001b[39m \u001b[33m[\u001b[39m \u001b[95mzeroinitializer\u001b[39m\u001b[0m, \u001b[91m%vector.ph\u001b[39m \u001b[33m]\u001b[39m\u001b[0m, \u001b[33m[\u001b[39m \u001b[0m%16\u001b[0m, \u001b[91m%vector.body\u001b[39m \u001b[33m]\u001b[39m\n",
      "    \u001b[0m%vec.phi10 \u001b[0m= \u001b[96m\u001b[1mphi\u001b[22m\u001b[39m \u001b[33m<\u001b[39m\u001b[33m8\u001b[39m \u001b[0mx \u001b[36mfloat\u001b[39m\u001b[33m>\u001b[39m \u001b[33m[\u001b[39m \u001b[95mzeroinitializer\u001b[39m\u001b[0m, \u001b[91m%vector.ph\u001b[39m \u001b[33m]\u001b[39m\u001b[0m, \u001b[33m[\u001b[39m \u001b[0m%17\u001b[0m, \u001b[91m%vector.body\u001b[39m \u001b[33m]\u001b[39m\n",
      "    \u001b[0m%vec.phi11 \u001b[0m= \u001b[96m\u001b[1mphi\u001b[22m\u001b[39m \u001b[33m<\u001b[39m\u001b[33m8\u001b[39m \u001b[0mx \u001b[36mfloat\u001b[39m\u001b[33m>\u001b[39m \u001b[33m[\u001b[39m \u001b[95mzeroinitializer\u001b[39m\u001b[0m, \u001b[91m%vector.ph\u001b[39m \u001b[33m]\u001b[39m\u001b[0m, \u001b[33m[\u001b[39m \u001b[0m%18\u001b[0m, \u001b[91m%vector.body\u001b[39m \u001b[33m]\u001b[39m\n",
      "\u001b[90m; └└\u001b[39m\n",
      "\u001b[90m; ┌ @ simdloop.jl:77 within `macro expansion` @ In[6]:4\u001b[39m\n",
      "\u001b[90m; │┌ @ array.jl:861 within `getindex`\u001b[39m\n",
      "    \u001b[0m%7 \u001b[0m= \u001b[96m\u001b[1mgetelementptr\u001b[22m\u001b[39m \u001b[95minbounds\u001b[39m \u001b[36mfloat\u001b[39m\u001b[0m, \u001b[36mfloat\u001b[39m\u001b[0m* \u001b[0m%6\u001b[0m, \u001b[36mi64\u001b[39m \u001b[0m%index\n",
      "    \u001b[0m%8 \u001b[0m= \u001b[96m\u001b[1mbitcast\u001b[22m\u001b[39m \u001b[36mfloat\u001b[39m\u001b[0m* \u001b[0m%7 \u001b[95mto\u001b[39m \u001b[33m<\u001b[39m\u001b[33m8\u001b[39m \u001b[0mx \u001b[36mfloat\u001b[39m\u001b[33m>\u001b[39m\u001b[0m*\n",
      "    \u001b[0m%wide.load \u001b[0m= \u001b[96m\u001b[1mload\u001b[22m\u001b[39m \u001b[33m<\u001b[39m\u001b[33m8\u001b[39m \u001b[0mx \u001b[36mfloat\u001b[39m\u001b[33m>\u001b[39m\u001b[0m, \u001b[33m<\u001b[39m\u001b[33m8\u001b[39m \u001b[0mx \u001b[36mfloat\u001b[39m\u001b[33m>\u001b[39m\u001b[0m* \u001b[0m%8\u001b[0m, \u001b[95malign\u001b[39m \u001b[33m4\u001b[39m\n",
      "    \u001b[0m%9 \u001b[0m= \u001b[96m\u001b[1mgetelementptr\u001b[22m\u001b[39m \u001b[95minbounds\u001b[39m \u001b[36mfloat\u001b[39m\u001b[0m, \u001b[36mfloat\u001b[39m\u001b[0m* \u001b[0m%7\u001b[0m, \u001b[36mi64\u001b[39m \u001b[33m8\u001b[39m\n",
      "    \u001b[0m%10 \u001b[0m= \u001b[96m\u001b[1mbitcast\u001b[22m\u001b[39m \u001b[36mfloat\u001b[39m\u001b[0m* \u001b[0m%9 \u001b[95mto\u001b[39m \u001b[33m<\u001b[39m\u001b[33m8\u001b[39m \u001b[0mx \u001b[36mfloat\u001b[39m\u001b[33m>\u001b[39m\u001b[0m*\n",
      "    \u001b[0m%wide.load12 \u001b[0m= \u001b[96m\u001b[1mload\u001b[22m\u001b[39m \u001b[33m<\u001b[39m\u001b[33m8\u001b[39m \u001b[0mx \u001b[36mfloat\u001b[39m\u001b[33m>\u001b[39m\u001b[0m, \u001b[33m<\u001b[39m\u001b[33m8\u001b[39m \u001b[0mx \u001b[36mfloat\u001b[39m\u001b[33m>\u001b[39m\u001b[0m* \u001b[0m%10\u001b[0m, \u001b[95malign\u001b[39m \u001b[33m4\u001b[39m\n",
      "    \u001b[0m%11 \u001b[0m= \u001b[96m\u001b[1mgetelementptr\u001b[22m\u001b[39m \u001b[95minbounds\u001b[39m \u001b[36mfloat\u001b[39m\u001b[0m, \u001b[36mfloat\u001b[39m\u001b[0m* \u001b[0m%7\u001b[0m, \u001b[36mi64\u001b[39m \u001b[33m16\u001b[39m\n",
      "    \u001b[0m%12 \u001b[0m= \u001b[96m\u001b[1mbitcast\u001b[22m\u001b[39m \u001b[36mfloat\u001b[39m\u001b[0m* \u001b[0m%11 \u001b[95mto\u001b[39m \u001b[33m<\u001b[39m\u001b[33m8\u001b[39m \u001b[0mx \u001b[36mfloat\u001b[39m\u001b[33m>\u001b[39m\u001b[0m*\n",
      "    \u001b[0m%wide.load13 \u001b[0m= \u001b[96m\u001b[1mload\u001b[22m\u001b[39m \u001b[33m<\u001b[39m\u001b[33m8\u001b[39m \u001b[0mx \u001b[36mfloat\u001b[39m\u001b[33m>\u001b[39m\u001b[0m, \u001b[33m<\u001b[39m\u001b[33m8\u001b[39m \u001b[0mx \u001b[36mfloat\u001b[39m\u001b[33m>\u001b[39m\u001b[0m* \u001b[0m%12\u001b[0m, \u001b[95malign\u001b[39m \u001b[33m4\u001b[39m\n",
      "    \u001b[0m%13 \u001b[0m= \u001b[96m\u001b[1mgetelementptr\u001b[22m\u001b[39m \u001b[95minbounds\u001b[39m \u001b[36mfloat\u001b[39m\u001b[0m, \u001b[36mfloat\u001b[39m\u001b[0m* \u001b[0m%7\u001b[0m, \u001b[36mi64\u001b[39m \u001b[33m24\u001b[39m\n",
      "    \u001b[0m%14 \u001b[0m= \u001b[96m\u001b[1mbitcast\u001b[22m\u001b[39m \u001b[36mfloat\u001b[39m\u001b[0m* \u001b[0m%13 \u001b[95mto\u001b[39m \u001b[33m<\u001b[39m\u001b[33m8\u001b[39m \u001b[0mx \u001b[36mfloat\u001b[39m\u001b[33m>\u001b[39m\u001b[0m*\n",
      "    \u001b[0m%wide.load14 \u001b[0m= \u001b[96m\u001b[1mload\u001b[22m\u001b[39m \u001b[33m<\u001b[39m\u001b[33m8\u001b[39m \u001b[0mx \u001b[36mfloat\u001b[39m\u001b[33m>\u001b[39m\u001b[0m, \u001b[33m<\u001b[39m\u001b[33m8\u001b[39m \u001b[0mx \u001b[36mfloat\u001b[39m\u001b[33m>\u001b[39m\u001b[0m* \u001b[0m%14\u001b[0m, \u001b[95malign\u001b[39m \u001b[33m4\u001b[39m\n",
      "\u001b[90m; │└\u001b[39m\n",
      "\u001b[90m; │┌ @ float.jl:398 within `+`\u001b[39m\n",
      "    \u001b[0m%15 \u001b[0m= \u001b[96m\u001b[1mfadd\u001b[22m\u001b[39m \u001b[95mfast\u001b[39m \u001b[33m<\u001b[39m\u001b[33m8\u001b[39m \u001b[0mx \u001b[36mfloat\u001b[39m\u001b[33m>\u001b[39m \u001b[0m%vec.phi\u001b[0m, \u001b[0m%wide.load\n",
      "    \u001b[0m%16 \u001b[0m= \u001b[96m\u001b[1mfadd\u001b[22m\u001b[39m \u001b[95mfast\u001b[39m \u001b[33m<\u001b[39m\u001b[33m8\u001b[39m \u001b[0mx \u001b[36mfloat\u001b[39m\u001b[33m>\u001b[39m \u001b[0m%vec.phi9\u001b[0m, \u001b[0m%wide.load12\n",
      "    \u001b[0m%17 \u001b[0m= \u001b[96m\u001b[1mfadd\u001b[22m\u001b[39m \u001b[95mfast\u001b[39m \u001b[33m<\u001b[39m\u001b[33m8\u001b[39m \u001b[0mx \u001b[36mfloat\u001b[39m\u001b[33m>\u001b[39m \u001b[0m%vec.phi10\u001b[0m, \u001b[0m%wide.load13\n",
      "    \u001b[0m%18 \u001b[0m= \u001b[96m\u001b[1mfadd\u001b[22m\u001b[39m \u001b[95mfast\u001b[39m \u001b[33m<\u001b[39m\u001b[33m8\u001b[39m \u001b[0mx \u001b[36mfloat\u001b[39m\u001b[33m>\u001b[39m \u001b[0m%vec.phi11\u001b[0m, \u001b[0m%wide.load14\n",
      "\u001b[90m; └└\u001b[39m\n",
      "\u001b[90m; ┌ @ simdloop.jl:78 within `macro expansion`\u001b[39m\n",
      "\u001b[90m; │┌ @ int.jl:87 within `+`\u001b[39m\n",
      "    \u001b[0m%index.next \u001b[0m= \u001b[96m\u001b[1madd\u001b[22m\u001b[39m \u001b[36mi64\u001b[39m \u001b[0m%index\u001b[0m, \u001b[33m32\u001b[39m\n",
      "    \u001b[0m%19 \u001b[0m= \u001b[96m\u001b[1micmp\u001b[22m\u001b[39m \u001b[96m\u001b[1meq\u001b[22m\u001b[39m \u001b[36mi64\u001b[39m \u001b[0m%index.next\u001b[0m, \u001b[0m%n.vec\n",
      "    \u001b[96m\u001b[1mbr\u001b[22m\u001b[39m \u001b[36mi1\u001b[39m \u001b[0m%19\u001b[0m, \u001b[36mlabel\u001b[39m \u001b[91m%middle.block\u001b[39m\u001b[0m, \u001b[36mlabel\u001b[39m \u001b[91m%vector.body\u001b[39m\n",
      "\n",
      "\u001b[91mmiddle.block:\u001b[39m                                     \u001b[90m; preds = %vector.body\u001b[39m\n",
      "\u001b[90m; └└\u001b[39m\n",
      "\u001b[90m; ┌ @ simdloop.jl:75 within `macro expansion`\u001b[39m\n",
      "   \u001b[0m%bin.rdx \u001b[0m= \u001b[96m\u001b[1mfadd\u001b[22m\u001b[39m \u001b[95mfast\u001b[39m \u001b[33m<\u001b[39m\u001b[33m8\u001b[39m \u001b[0mx \u001b[36mfloat\u001b[39m\u001b[33m>\u001b[39m \u001b[0m%16\u001b[0m, \u001b[0m%15\n",
      "   \u001b[0m%bin.rdx15 \u001b[0m= \u001b[96m\u001b[1mfadd\u001b[22m\u001b[39m \u001b[95mfast\u001b[39m \u001b[33m<\u001b[39m\u001b[33m8\u001b[39m \u001b[0mx \u001b[36mfloat\u001b[39m\u001b[33m>\u001b[39m \u001b[0m%17\u001b[0m, \u001b[0m%bin.rdx\n",
      "   \u001b[0m%bin.rdx16 \u001b[0m= \u001b[96m\u001b[1mfadd\u001b[22m\u001b[39m \u001b[95mfast\u001b[39m \u001b[33m<\u001b[39m\u001b[33m8\u001b[39m \u001b[0mx \u001b[36mfloat\u001b[39m\u001b[33m>\u001b[39m \u001b[0m%18\u001b[0m, \u001b[0m%bin.rdx15\n",
      "   \u001b[0m%20 \u001b[0m= \u001b[96m\u001b[1mcall\u001b[22m\u001b[39m \u001b[95mfast\u001b[39m \u001b[36mfloat\u001b[39m \u001b[93m@llvm.vector.reduce.fadd.v8f32\u001b[39m\u001b[33m(\u001b[39m\u001b[36mfloat\u001b[39m \u001b[33m-0.000000e+00\u001b[39m\u001b[0m, \u001b[33m<\u001b[39m\u001b[33m8\u001b[39m \u001b[0mx \u001b[36mfloat\u001b[39m\u001b[33m>\u001b[39m \u001b[0m%bin.rdx16\u001b[33m)\u001b[39m\n",
      "   \u001b[0m%cmp.n \u001b[0m= \u001b[96m\u001b[1micmp\u001b[22m\u001b[39m \u001b[96m\u001b[1meq\u001b[22m\u001b[39m \u001b[36mi64\u001b[39m \u001b[0m%4\u001b[0m, \u001b[0m%n.vec\n",
      "   \u001b[96m\u001b[1mbr\u001b[22m\u001b[39m \u001b[36mi1\u001b[39m \u001b[0m%cmp.n\u001b[0m, \u001b[36mlabel\u001b[39m \u001b[91m%L30\u001b[39m\u001b[0m, \u001b[36mlabel\u001b[39m \u001b[91m%L13\u001b[39m\n",
      "\n",
      "\u001b[91mL13:\u001b[39m                                              \u001b[90m; preds = %L13, %middle.block, %L13.lr.ph\u001b[39m\n",
      "   \u001b[0m%value_phi18 \u001b[0m= \u001b[96m\u001b[1mphi\u001b[22m\u001b[39m \u001b[36mi64\u001b[39m \u001b[33m[\u001b[39m \u001b[0m%24\u001b[0m, \u001b[91m%L13\u001b[39m \u001b[33m]\u001b[39m\u001b[0m, \u001b[33m[\u001b[39m \u001b[0m%n.vec\u001b[0m, \u001b[91m%middle.block\u001b[39m \u001b[33m]\u001b[39m\u001b[0m, \u001b[33m[\u001b[39m \u001b[33m0\u001b[39m\u001b[0m, \u001b[91m%L13.lr.ph\u001b[39m \u001b[33m]\u001b[39m\n",
      "   \u001b[0m%value_phi7 \u001b[0m= \u001b[96m\u001b[1mphi\u001b[22m\u001b[39m \u001b[36mfloat\u001b[39m \u001b[33m[\u001b[39m \u001b[0m%23\u001b[0m, \u001b[91m%L13\u001b[39m \u001b[33m]\u001b[39m\u001b[0m, \u001b[33m[\u001b[39m \u001b[0m%20\u001b[0m, \u001b[91m%middle.block\u001b[39m \u001b[33m]\u001b[39m\u001b[0m, \u001b[33m[\u001b[39m \u001b[33m0.000000e+00\u001b[39m\u001b[0m, \u001b[91m%L13.lr.ph\u001b[39m \u001b[33m]\u001b[39m\n",
      "\u001b[90m; └\u001b[39m\n",
      "\u001b[90m; ┌ @ simdloop.jl:77 within `macro expansion` @ In[6]:4\u001b[39m\n",
      "\u001b[90m; │┌ @ array.jl:861 within `getindex`\u001b[39m\n",
      "    \u001b[0m%21 \u001b[0m= \u001b[96m\u001b[1mgetelementptr\u001b[22m\u001b[39m \u001b[95minbounds\u001b[39m \u001b[36mfloat\u001b[39m\u001b[0m, \u001b[36mfloat\u001b[39m\u001b[0m* \u001b[0m%6\u001b[0m, \u001b[36mi64\u001b[39m \u001b[0m%value_phi18\n"
     ]
    },
    {
     "name": "stdout",
     "output_type": "stream",
     "text": [
      "    \u001b[0m%22 \u001b[0m= \u001b[96m\u001b[1mload\u001b[22m\u001b[39m \u001b[36mfloat\u001b[39m\u001b[0m, \u001b[36mfloat\u001b[39m\u001b[0m* \u001b[0m%21\u001b[0m, \u001b[95malign\u001b[39m \u001b[33m4\u001b[39m\n",
      "\u001b[90m; │└\u001b[39m\n",
      "\u001b[90m; │┌ @ float.jl:398 within `+`\u001b[39m\n",
      "    \u001b[0m%23 \u001b[0m= \u001b[96m\u001b[1mfadd\u001b[22m\u001b[39m \u001b[95mfast\u001b[39m \u001b[36mfloat\u001b[39m \u001b[0m%value_phi7\u001b[0m, \u001b[0m%22\n",
      "\u001b[90m; └└\u001b[39m\n",
      "\u001b[90m; ┌ @ simdloop.jl:78 within `macro expansion`\u001b[39m\n",
      "\u001b[90m; │┌ @ int.jl:87 within `+`\u001b[39m\n",
      "    \u001b[0m%24 \u001b[0m= \u001b[96m\u001b[1madd\u001b[22m\u001b[39m \u001b[95mnuw\u001b[39m \u001b[95mnsw\u001b[39m \u001b[36mi64\u001b[39m \u001b[0m%value_phi18\u001b[0m, \u001b[33m1\u001b[39m\n",
      "\u001b[90m; └└\u001b[39m\n",
      "\u001b[90m; ┌ @ simdloop.jl:75 within `macro expansion`\u001b[39m\n",
      "\u001b[90m; │┌ @ int.jl:83 within `<`\u001b[39m\n",
      "    \u001b[0m%exitcond.not \u001b[0m= \u001b[96m\u001b[1micmp\u001b[22m\u001b[39m \u001b[96m\u001b[1meq\u001b[22m\u001b[39m \u001b[36mi64\u001b[39m \u001b[0m%24\u001b[0m, \u001b[0m%4\n",
      "\u001b[90m; │└\u001b[39m\n",
      "   \u001b[96m\u001b[1mbr\u001b[22m\u001b[39m \u001b[36mi1\u001b[39m \u001b[0m%exitcond.not\u001b[0m, \u001b[36mlabel\u001b[39m \u001b[91m%L30\u001b[39m\u001b[0m, \u001b[36mlabel\u001b[39m \u001b[91m%L13\u001b[39m\n",
      "\n",
      "\u001b[91mL30:\u001b[39m                                              \u001b[90m; preds = %L13, %middle.block, %top\u001b[39m\n",
      "   \u001b[0m%value_phi2 \u001b[0m= \u001b[96m\u001b[1mphi\u001b[22m\u001b[39m \u001b[36mfloat\u001b[39m \u001b[33m[\u001b[39m \u001b[33m0.000000e+00\u001b[39m\u001b[0m, \u001b[91m%top\u001b[39m \u001b[33m]\u001b[39m\u001b[0m, \u001b[33m[\u001b[39m \u001b[0m%20\u001b[0m, \u001b[91m%middle.block\u001b[39m \u001b[33m]\u001b[39m\u001b[0m, \u001b[33m[\u001b[39m \u001b[0m%23\u001b[0m, \u001b[91m%L13\u001b[39m \u001b[33m]\u001b[39m\n",
      "\u001b[90m; └\u001b[39m\n",
      "\u001b[90m;  @ In[6]:6 within `simdsum`\u001b[39m\n",
      "  \u001b[96m\u001b[1mret\u001b[22m\u001b[39m \u001b[36mfloat\u001b[39m \u001b[0m%value_phi2\n",
      "\u001b[33m}\u001b[39m\n"
     ]
    }
   ],
   "source": [
    "@code_llvm simdsum(A32)"
   ]
  },
  {
   "cell_type": "markdown",
   "id": "3f57121f",
   "metadata": {},
   "source": [
    "Entonces, ¿cuáles son los desafíos?\n",
    "* El mayor obstáculo es que debe convencer a Julia y LLVM de que puede usar instrucciones SIMD para su algoritmo dado. Eso no siempre es posible.\n",
    "* Hay muchas limitaciones de lo que puede y no puede ser vectorizado (*SIMD-ed*):"
   ]
  },
  {
   "cell_type": "code",
   "execution_count": 13,
   "id": "4a2856ae",
   "metadata": {},
   "outputs": [
    {
     "data": {
      "text/latex": [
       "\\begin{verbatim}\n",
       "@simd\n",
       "\\end{verbatim}\n",
       "Annotate a \\texttt{for} loop to allow the compiler to take extra liberties to allow loop re-ordering\n",
       "\n",
       "\\begin{quote}\n",
       "\\textbf{warning}\n",
       "\n",
       "Warning\n",
       "\n",
       "This feature is experimental and could change or disappear in future versions of Julia. Incorrect use of the \\texttt{@simd} macro may cause unexpected results.\n",
       "\n",
       "\\end{quote}\n",
       "The object iterated over in a \\texttt{@simd for} loop should be a one-dimensional range. By using \\texttt{@simd}, you are asserting several properties of the loop:\n",
       "\n",
       "\\begin{itemize}\n",
       "\\item It is safe to execute iterations in arbitrary or overlapping order, with special consideration for reduction variables.\n",
       "\n",
       "\n",
       "\\item Floating-point operations on reduction variables can be reordered, possibly causing different results than without \\texttt{@simd}.\n",
       "\n",
       "\\end{itemize}\n",
       "In many cases, Julia is able to automatically vectorize inner for loops without the use of \\texttt{@simd}. Using \\texttt{@simd} gives the compiler a little extra leeway to make it possible in more situations. In either case, your inner loop should have the following properties to allow vectorization:\n",
       "\n",
       "\\begin{itemize}\n",
       "\\item The loop must be an innermost loop\n",
       "\n",
       "\n",
       "\\item The loop body must be straight-line code. Therefore, \\href{@ref}{\\texttt{@inbounds}} is   currently needed for all array accesses. The compiler can sometimes turn   short \\texttt{\\&\\&}, \\texttt{||}, and \\texttt{?:} expressions into straight-line code if it is safe   to evaluate all operands unconditionally. Consider using the \\href{@ref}{\\texttt{ifelse}}   function instead of \\texttt{?:} in the loop if it is safe to do so.\n",
       "\n",
       "\n",
       "\\item Accesses must have a stride pattern and cannot be \"gathers\" (random-index   reads) or \"scatters\" (random-index writes).\n",
       "\n",
       "\n",
       "\\item The stride should be unit stride.\n",
       "\n",
       "\\end{itemize}\n",
       "\\begin{quote}\n",
       "\\textbf{note}\n",
       "\n",
       "Note\n",
       "\n",
       "The \\texttt{@simd} does not assert by default that the loop is completely free of loop-carried memory dependencies, which is an assumption that can easily be violated in generic code. If you are writing non-generic code, you can use \\texttt{@simd ivdep for ... end} to also assert that:\n",
       "\n",
       "\\end{quote}\n",
       "\\begin{itemize}\n",
       "\\item There exists no loop-carried memory dependencies\n",
       "\n",
       "\n",
       "\\item No iteration ever waits on a previous iteration to make forward progress.\n",
       "\n",
       "\\end{itemize}\n"
      ],
      "text/markdown": [
       "```\n",
       "@simd\n",
       "```\n",
       "\n",
       "Annotate a `for` loop to allow the compiler to take extra liberties to allow loop re-ordering\n",
       "\n",
       "!!! warning\n",
       "    This feature is experimental and could change or disappear in future versions of Julia. Incorrect use of the `@simd` macro may cause unexpected results.\n",
       "\n",
       "\n",
       "The object iterated over in a `@simd for` loop should be a one-dimensional range. By using `@simd`, you are asserting several properties of the loop:\n",
       "\n",
       "  * It is safe to execute iterations in arbitrary or overlapping order, with special consideration for reduction variables.\n",
       "  * Floating-point operations on reduction variables can be reordered, possibly causing different results than without `@simd`.\n",
       "\n",
       "In many cases, Julia is able to automatically vectorize inner for loops without the use of `@simd`. Using `@simd` gives the compiler a little extra leeway to make it possible in more situations. In either case, your inner loop should have the following properties to allow vectorization:\n",
       "\n",
       "  * The loop must be an innermost loop\n",
       "  * The loop body must be straight-line code. Therefore, [`@inbounds`](@ref) is   currently needed for all array accesses. The compiler can sometimes turn   short `&&`, `||`, and `?:` expressions into straight-line code if it is safe   to evaluate all operands unconditionally. Consider using the [`ifelse`](@ref)   function instead of `?:` in the loop if it is safe to do so.\n",
       "  * Accesses must have a stride pattern and cannot be \"gathers\" (random-index   reads) or \"scatters\" (random-index writes).\n",
       "  * The stride should be unit stride.\n",
       "\n",
       "!!! note\n",
       "    The `@simd` does not assert by default that the loop is completely free of loop-carried memory dependencies, which is an assumption that can easily be violated in generic code. If you are writing non-generic code, you can use `@simd ivdep for ... end` to also assert that:\n",
       "\n",
       "\n",
       "  * There exists no loop-carried memory dependencies\n",
       "  * No iteration ever waits on a previous iteration to make forward progress.\n"
      ],
      "text/plain": [
       "\u001b[36m  @simd\u001b[39m\n",
       "\n",
       "  Annotate a \u001b[36mfor\u001b[39m loop to allow the compiler to take extra liberties to allow\n",
       "  loop re-ordering\n",
       "\n",
       "\u001b[33m\u001b[1m  │ \u001b[22m\u001b[39m\u001b[33m\u001b[1mWarning\u001b[22m\u001b[39m\n",
       "\u001b[33m\u001b[1m  │\u001b[22m\u001b[39m\n",
       "\u001b[33m\u001b[1m  │\u001b[22m\u001b[39m  This feature is experimental and could change or disappear in\n",
       "\u001b[33m\u001b[1m  │\u001b[22m\u001b[39m  future versions of Julia. Incorrect use of the \u001b[36m@simd\u001b[39m macro may\n",
       "\u001b[33m\u001b[1m  │\u001b[22m\u001b[39m  cause unexpected results.\n",
       "\n",
       "  The object iterated over in a \u001b[36m@simd for\u001b[39m loop should be a one-dimensional\n",
       "  range. By using \u001b[36m@simd\u001b[39m, you are asserting several properties of the loop:\n",
       "\n",
       "    •  It is safe to execute iterations in arbitrary or overlapping\n",
       "       order, with special consideration for reduction variables.\n",
       "\n",
       "    •  Floating-point operations on reduction variables can be reordered,\n",
       "       possibly causing different results than without \u001b[36m@simd\u001b[39m.\n",
       "\n",
       "  In many cases, Julia is able to automatically vectorize inner for loops\n",
       "  without the use of \u001b[36m@simd\u001b[39m. Using \u001b[36m@simd\u001b[39m gives the compiler a little extra\n",
       "  leeway to make it possible in more situations. In either case, your inner\n",
       "  loop should have the following properties to allow vectorization:\n",
       "\n",
       "    •  The loop must be an innermost loop\n",
       "\n",
       "    •  The loop body must be straight-line code. Therefore, \u001b[36m@inbounds\u001b[39m is\n",
       "       currently needed for all array accesses. The compiler can\n",
       "       sometimes turn short \u001b[36m&&\u001b[39m, \u001b[36m||\u001b[39m, and \u001b[36m?:\u001b[39m expressions into straight-line\n",
       "       code if it is safe to evaluate all operands unconditionally.\n",
       "       Consider using the \u001b[36mifelse\u001b[39m function instead of \u001b[36m?:\u001b[39m in the loop if it\n",
       "       is safe to do so.\n",
       "\n",
       "    •  Accesses must have a stride pattern and cannot be \"gathers\"\n",
       "       (random-index reads) or \"scatters\" (random-index writes).\n",
       "\n",
       "    •  The stride should be unit stride.\n",
       "\n",
       "\u001b[36m\u001b[1m  │ \u001b[22m\u001b[39m\u001b[36m\u001b[1mNote\u001b[22m\u001b[39m\n",
       "\u001b[36m\u001b[1m  │\u001b[22m\u001b[39m\n",
       "\u001b[36m\u001b[1m  │\u001b[22m\u001b[39m  The \u001b[36m@simd\u001b[39m does not assert by default that the loop is completely\n",
       "\u001b[36m\u001b[1m  │\u001b[22m\u001b[39m  free of loop-carried memory dependencies, which is an assumption\n",
       "\u001b[36m\u001b[1m  │\u001b[22m\u001b[39m  that can easily be violated in generic code. If you are writing\n",
       "\u001b[36m\u001b[1m  │\u001b[22m\u001b[39m  non-generic code, you can use \u001b[36m@simd ivdep for ... end\u001b[39m to also\n",
       "\u001b[36m\u001b[1m  │\u001b[22m\u001b[39m  assert that:\n",
       "\n",
       "    •  There exists no loop-carried memory dependencies\n",
       "\n",
       "    •  No iteration ever waits on a previous iteration to make forward\n",
       "       progress."
      ]
     },
     "execution_count": 13,
     "metadata": {},
     "output_type": "execute_result"
    }
   ],
   "source": [
    "@doc @simd"
   ]
  },
  {
   "cell_type": "markdown",
   "id": "782ab3df",
   "metadata": {},
   "source": [
    "* Debe pensar en las consecuencias de reordenar su algoritmo."
   ]
  },
  {
   "cell_type": "markdown",
   "id": "599dcb4f",
   "metadata": {},
   "source": [
    "## Un caso un poco más complicado"
   ]
  },
  {
   "cell_type": "code",
   "execution_count": 14,
   "id": "81f17370",
   "metadata": {},
   "outputs": [],
   "source": [
    "using BenchmarkTools"
   ]
  },
  {
   "cell_type": "code",
   "execution_count": 15,
   "id": "f173ee12",
   "metadata": {},
   "outputs": [
    {
     "data": {
      "text/plain": [
       "true"
      ]
     },
     "execution_count": 15,
     "metadata": {},
     "output_type": "execute_result"
    }
   ],
   "source": [
    "function diff!(A, B)\n",
    "    A[1] = B[1]\n",
    "    for i in 2:length(A)\n",
    "        @inbounds A[i] = B[i] - B[i-1]\n",
    "    end\n",
    "    return A\n",
    "end\n",
    "A = zeros(Float32, 100_000)\n",
    "B = rand(Float32, 100_000)\n",
    "\n",
    "diff!(A, B)\n",
    "[B[1];diff(B)] == A"
   ]
  },
  {
   "cell_type": "code",
   "execution_count": 16,
   "id": "9cc5b3a4",
   "metadata": {},
   "outputs": [
    {
     "name": "stdout",
     "output_type": "stream",
     "text": [
      "  8.700 μs (0 allocations: 0 bytes)\n",
      "  24.500 μs (2 allocations: 390.67 KiB)\n"
     ]
    }
   ],
   "source": [
    "@btime diff!($A, $B)\n",
    "@btime diff($B);"
   ]
  },
  {
   "cell_type": "markdown",
   "id": "6cdeb398",
   "metadata": {},
   "source": [
    "¿Pero qué pasa si en su lugar hacemos?"
   ]
  },
  {
   "cell_type": "code",
   "execution_count": 17,
   "id": "69730108",
   "metadata": {},
   "outputs": [
    {
     "name": "stdout",
     "output_type": "stream",
     "text": [
      "  214.800 μs (0 allocations: 0 bytes)\n"
     ]
    }
   ],
   "source": [
    "Bcopy = copy(B)\n",
    "@btime diff!($Bcopy, $Bcopy);"
   ]
  },
  {
   "cell_type": "markdown",
   "id": "5df669ec",
   "metadata": {},
   "source": [
    "¿Que sucedió?"
   ]
  },
  {
   "cell_type": "code",
   "execution_count": 18,
   "id": "240ce30e",
   "metadata": {},
   "outputs": [
    {
     "name": "stdout",
     "output_type": "stream",
     "text": [
      "\u001b[90m;  @ In[15]:1 within `diff!`\u001b[39m\n",
      "\u001b[90m; Function Attrs: uwtable\u001b[39m\n",
      "\u001b[95mdefine\u001b[39m \u001b[95mnonnull\u001b[39m \u001b[33m{\u001b[39m\u001b[33m}\u001b[39m\u001b[0m* \u001b[93m@\"japi1_diff!_2275\"\u001b[39m\u001b[33m(\u001b[39m\u001b[33m{\u001b[39m\u001b[33m}\u001b[39m\u001b[0m* \u001b[0m%0\u001b[0m, \u001b[33m{\u001b[39m\u001b[33m}\u001b[39m\u001b[0m** \u001b[0m%1\u001b[0m, \u001b[36mi32\u001b[39m \u001b[0m%2\u001b[33m)\u001b[39m \u001b[0m#0 \u001b[33m{\u001b[39m\n",
      "\u001b[91mtop:\u001b[39m\n",
      "  \u001b[0m%3 \u001b[0m= \u001b[96m\u001b[1malloca\u001b[22m\u001b[39m \u001b[33m{\u001b[39m\u001b[33m}\u001b[39m\u001b[0m**\u001b[0m, \u001b[95malign\u001b[39m \u001b[33m8\u001b[39m\n",
      "  \u001b[96m\u001b[1mstore\u001b[22m\u001b[39m \u001b[95mvolatile\u001b[39m \u001b[33m{\u001b[39m\u001b[33m}\u001b[39m\u001b[0m** \u001b[0m%1\u001b[0m, \u001b[33m{\u001b[39m\u001b[33m}\u001b[39m\u001b[0m*** \u001b[0m%3\u001b[0m, \u001b[95malign\u001b[39m \u001b[33m8\u001b[39m\n",
      "  \u001b[0m%4 \u001b[0m= \u001b[96m\u001b[1mload\u001b[22m\u001b[39m \u001b[33m{\u001b[39m\u001b[33m}\u001b[39m\u001b[0m*\u001b[0m, \u001b[33m{\u001b[39m\u001b[33m}\u001b[39m\u001b[0m** \u001b[0m%1\u001b[0m, \u001b[95malign\u001b[39m \u001b[33m8\u001b[39m\n",
      "  \u001b[0m%5 \u001b[0m= \u001b[96m\u001b[1mgetelementptr\u001b[22m\u001b[39m \u001b[95minbounds\u001b[39m \u001b[33m{\u001b[39m\u001b[33m}\u001b[39m\u001b[0m*\u001b[0m, \u001b[33m{\u001b[39m\u001b[33m}\u001b[39m\u001b[0m** \u001b[0m%1\u001b[0m, \u001b[36mi64\u001b[39m \u001b[33m1\u001b[39m\n",
      "  \u001b[0m%6 \u001b[0m= \u001b[96m\u001b[1mload\u001b[22m\u001b[39m \u001b[33m{\u001b[39m\u001b[33m}\u001b[39m\u001b[0m*\u001b[0m, \u001b[33m{\u001b[39m\u001b[33m}\u001b[39m\u001b[0m** \u001b[0m%5\u001b[0m, \u001b[95malign\u001b[39m \u001b[33m8\u001b[39m\n",
      "\u001b[90m;  @ In[15]:2 within `diff!`\u001b[39m\n",
      "\u001b[90m; ┌ @ array.jl:861 within `getindex`\u001b[39m\n",
      "   \u001b[0m%7 \u001b[0m= \u001b[96m\u001b[1mbitcast\u001b[22m\u001b[39m \u001b[33m{\u001b[39m\u001b[33m}\u001b[39m\u001b[0m* \u001b[0m%6 \u001b[95mto\u001b[39m \u001b[33m{\u001b[39m \u001b[36mi8\u001b[39m\u001b[0m*\u001b[0m, \u001b[36mi64\u001b[39m\u001b[0m, \u001b[36mi16\u001b[39m\u001b[0m, \u001b[36mi16\u001b[39m\u001b[0m, \u001b[36mi32\u001b[39m \u001b[33m}\u001b[39m\u001b[0m*\n",
      "   \u001b[0m%8 \u001b[0m= \u001b[96m\u001b[1mgetelementptr\u001b[22m\u001b[39m \u001b[95minbounds\u001b[39m \u001b[33m{\u001b[39m \u001b[36mi8\u001b[39m\u001b[0m*\u001b[0m, \u001b[36mi64\u001b[39m\u001b[0m, \u001b[36mi16\u001b[39m\u001b[0m, \u001b[36mi16\u001b[39m\u001b[0m, \u001b[36mi32\u001b[39m \u001b[33m}\u001b[39m\u001b[0m, \u001b[33m{\u001b[39m \u001b[36mi8\u001b[39m\u001b[0m*\u001b[0m, \u001b[36mi64\u001b[39m\u001b[0m, \u001b[36mi16\u001b[39m\u001b[0m, \u001b[36mi16\u001b[39m\u001b[0m, \u001b[36mi32\u001b[39m \u001b[33m}\u001b[39m\u001b[0m* \u001b[0m%7\u001b[0m, \u001b[36mi64\u001b[39m \u001b[33m0\u001b[39m\u001b[0m, \u001b[36mi32\u001b[39m \u001b[33m1\u001b[39m\n",
      "   \u001b[0m%9 \u001b[0m= \u001b[96m\u001b[1mload\u001b[22m\u001b[39m \u001b[36mi64\u001b[39m\u001b[0m, \u001b[36mi64\u001b[39m\u001b[0m* \u001b[0m%8\u001b[0m, \u001b[95malign\u001b[39m \u001b[33m8\u001b[39m\n",
      "   \u001b[0m%.not \u001b[0m= \u001b[96m\u001b[1micmp\u001b[22m\u001b[39m \u001b[96m\u001b[1meq\u001b[22m\u001b[39m \u001b[36mi64\u001b[39m \u001b[0m%9\u001b[0m, \u001b[33m0\u001b[39m\n",
      "   \u001b[96m\u001b[1mbr\u001b[22m\u001b[39m \u001b[36mi1\u001b[39m \u001b[0m%.not\u001b[0m, \u001b[36mlabel\u001b[39m \u001b[91m%oob\u001b[39m\u001b[0m, \u001b[36mlabel\u001b[39m \u001b[91m%idxend\u001b[39m\n",
      "\n",
      "\u001b[91mL16:\u001b[39m                                              \u001b[90m; preds = %middle.block, %vector.memcheck, %L16.preheader, %L16\u001b[39m\n",
      "   \u001b[0m%value_phi5 \u001b[0m= \u001b[96m\u001b[1mphi\u001b[22m\u001b[39m \u001b[36mi64\u001b[39m \u001b[33m[\u001b[39m \u001b[0m%18\u001b[0m, \u001b[91m%L16\u001b[39m \u001b[33m]\u001b[39m\u001b[0m, \u001b[33m[\u001b[39m \u001b[0m%ind.end\u001b[0m, \u001b[91m%middle.block\u001b[39m \u001b[33m]\u001b[39m\u001b[0m, \u001b[33m[\u001b[39m \u001b[33m2\u001b[39m\u001b[0m, \u001b[91m%L16.preheader\u001b[39m \u001b[33m]\u001b[39m\u001b[0m, \u001b[33m[\u001b[39m \u001b[33m2\u001b[39m\u001b[0m, \u001b[91m%vector.memcheck\u001b[39m \u001b[33m]\u001b[39m\n",
      "\u001b[90m; └\u001b[39m\n",
      "\u001b[90m;  @ In[15]:4 within `diff!`\u001b[39m\n",
      "\u001b[90m; ┌ @ array.jl:861 within `getindex`\u001b[39m\n",
      "   \u001b[0m%10 \u001b[0m= \u001b[96m\u001b[1madd\u001b[22m\u001b[39m \u001b[95mnsw\u001b[39m \u001b[36mi64\u001b[39m \u001b[0m%value_phi5\u001b[0m, \u001b[33m-1\u001b[39m\n",
      "   \u001b[0m%11 \u001b[0m= \u001b[96m\u001b[1mgetelementptr\u001b[22m\u001b[39m \u001b[95minbounds\u001b[39m \u001b[36mfloat\u001b[39m\u001b[0m, \u001b[36mfloat\u001b[39m\u001b[0m* \u001b[0m%25\u001b[0m, \u001b[36mi64\u001b[39m \u001b[0m%10\n",
      "   \u001b[0m%12 \u001b[0m= \u001b[96m\u001b[1mload\u001b[22m\u001b[39m \u001b[36mfloat\u001b[39m\u001b[0m, \u001b[36mfloat\u001b[39m\u001b[0m* \u001b[0m%11\u001b[0m, \u001b[95malign\u001b[39m \u001b[33m4\u001b[39m\n",
      "   \u001b[0m%13 \u001b[0m= \u001b[96m\u001b[1madd\u001b[22m\u001b[39m \u001b[95mnsw\u001b[39m \u001b[36mi64\u001b[39m \u001b[0m%value_phi5\u001b[0m, \u001b[33m-2\u001b[39m\n",
      "   \u001b[0m%14 \u001b[0m= \u001b[96m\u001b[1mgetelementptr\u001b[22m\u001b[39m \u001b[95minbounds\u001b[39m \u001b[36mfloat\u001b[39m\u001b[0m, \u001b[36mfloat\u001b[39m\u001b[0m* \u001b[0m%25\u001b[0m, \u001b[36mi64\u001b[39m \u001b[0m%13\n",
      "   \u001b[0m%15 \u001b[0m= \u001b[96m\u001b[1mload\u001b[22m\u001b[39m \u001b[36mfloat\u001b[39m\u001b[0m, \u001b[36mfloat\u001b[39m\u001b[0m* \u001b[0m%14\u001b[0m, \u001b[95malign\u001b[39m \u001b[33m4\u001b[39m\n",
      "\u001b[90m; └\u001b[39m\n",
      "\u001b[90m; ┌ @ float.jl:401 within `-`\u001b[39m\n",
      "   \u001b[0m%16 \u001b[0m= \u001b[96m\u001b[1mfsub\u001b[22m\u001b[39m \u001b[36mfloat\u001b[39m \u001b[0m%12\u001b[0m, \u001b[0m%15\n",
      "\u001b[90m; └\u001b[39m\n",
      "\u001b[90m; ┌ @ array.jl:903 within `setindex!`\u001b[39m\n",
      "   \u001b[0m%17 \u001b[0m= \u001b[96m\u001b[1mgetelementptr\u001b[22m\u001b[39m \u001b[95minbounds\u001b[39m \u001b[36mfloat\u001b[39m\u001b[0m, \u001b[36mfloat\u001b[39m\u001b[0m* \u001b[0m%28\u001b[0m, \u001b[36mi64\u001b[39m \u001b[0m%10\n",
      "   \u001b[96m\u001b[1mstore\u001b[22m\u001b[39m \u001b[36mfloat\u001b[39m \u001b[0m%16\u001b[0m, \u001b[36mfloat\u001b[39m\u001b[0m* \u001b[0m%17\u001b[0m, \u001b[95malign\u001b[39m \u001b[33m4\u001b[39m\n",
      "\u001b[90m; └\u001b[39m\n",
      "\u001b[90m; ┌ @ range.jl:837 within `iterate`\u001b[39m\n",
      "\u001b[90m; │┌ @ promotion.jl:468 within `==`\u001b[39m\n",
      "    \u001b[0m%.not11 \u001b[0m= \u001b[96m\u001b[1micmp\u001b[22m\u001b[39m \u001b[96m\u001b[1meq\u001b[22m\u001b[39m \u001b[36mi64\u001b[39m \u001b[0m%value_phi5\u001b[0m, \u001b[0m%22\n",
      "\u001b[90m; │└\u001b[39m\n",
      "   \u001b[0m%18 \u001b[0m= \u001b[96m\u001b[1madd\u001b[22m\u001b[39m \u001b[95mnuw\u001b[39m \u001b[95mnsw\u001b[39m \u001b[36mi64\u001b[39m \u001b[0m%value_phi5\u001b[0m, \u001b[33m1\u001b[39m\n",
      "\u001b[90m; └\u001b[39m\n",
      "  \u001b[96m\u001b[1mbr\u001b[22m\u001b[39m \u001b[36mi1\u001b[39m \u001b[0m%.not11\u001b[0m, \u001b[36mlabel\u001b[39m \u001b[91m%L35\u001b[39m\u001b[0m, \u001b[36mlabel\u001b[39m \u001b[91m%L16\u001b[39m\n",
      "\n",
      "\u001b[91mL35:\u001b[39m                                              \u001b[90m; preds = %middle.block, %idxend2, %L16\u001b[39m\n",
      "\u001b[90m;  @ In[15]:6 within `diff!`\u001b[39m\n",
      "  \u001b[96m\u001b[1mret\u001b[22m\u001b[39m \u001b[33m{\u001b[39m\u001b[33m}\u001b[39m\u001b[0m* \u001b[0m%4\n",
      "\n",
      "\u001b[91moob:\u001b[39m                                              \u001b[90m; preds = %top\u001b[39m\n",
      "\u001b[90m;  @ In[15]:2 within `diff!`\u001b[39m\n",
      "\u001b[90m; ┌ @ array.jl:861 within `getindex`\u001b[39m\n",
      "   \u001b[0m%19 \u001b[0m= \u001b[96m\u001b[1malloca\u001b[22m\u001b[39m \u001b[36mi64\u001b[39m\u001b[0m, \u001b[95malign\u001b[39m \u001b[33m8\u001b[39m\n",
      "   \u001b[96m\u001b[1mstore\u001b[22m\u001b[39m \u001b[36mi64\u001b[39m \u001b[33m1\u001b[39m\u001b[0m, \u001b[36mi64\u001b[39m\u001b[0m* \u001b[0m%19\u001b[0m, \u001b[95malign\u001b[39m \u001b[33m8\u001b[39m\n",
      "   \u001b[96m\u001b[1mcall\u001b[22m\u001b[39m \u001b[36mvoid\u001b[39m \u001b[93m@jl_bounds_error_ints\u001b[39m\u001b[33m(\u001b[39m\u001b[33m{\u001b[39m\u001b[33m}\u001b[39m\u001b[0m* \u001b[0m%6\u001b[0m, \u001b[36mi64\u001b[39m\u001b[0m* \u001b[95mnonnull\u001b[39m \u001b[0m%19\u001b[0m, \u001b[36mi64\u001b[39m \u001b[33m1\u001b[39m\u001b[33m)\u001b[39m\n",
      "   \u001b[96m\u001b[1munreachable\u001b[22m\u001b[39m\n",
      "\n",
      "\u001b[91midxend:\u001b[39m                                           \u001b[90m; preds = %top\u001b[39m\n",
      "\u001b[90m; └\u001b[39m\n",
      "\u001b[90m; ┌ @ array.jl:903 within `setindex!`\u001b[39m\n",
      "   \u001b[0m%20 \u001b[0m= \u001b[96m\u001b[1mbitcast\u001b[22m\u001b[39m \u001b[33m{\u001b[39m\u001b[33m}\u001b[39m\u001b[0m* \u001b[0m%4 \u001b[95mto\u001b[39m \u001b[33m{\u001b[39m \u001b[36mi8\u001b[39m\u001b[0m*\u001b[0m, \u001b[36mi64\u001b[39m\u001b[0m, \u001b[36mi16\u001b[39m\u001b[0m, \u001b[36mi16\u001b[39m\u001b[0m, \u001b[36mi32\u001b[39m \u001b[33m}\u001b[39m\u001b[0m*\n",
      "   \u001b[0m%21 \u001b[0m= \u001b[96m\u001b[1mgetelementptr\u001b[22m\u001b[39m \u001b[95minbounds\u001b[39m \u001b[33m{\u001b[39m \u001b[36mi8\u001b[39m\u001b[0m*\u001b[0m, \u001b[36mi64\u001b[39m\u001b[0m, \u001b[36mi16\u001b[39m\u001b[0m, \u001b[36mi16\u001b[39m\u001b[0m, \u001b[36mi32\u001b[39m \u001b[33m}\u001b[39m\u001b[0m, \u001b[33m{\u001b[39m \u001b[36mi8\u001b[39m\u001b[0m*\u001b[0m, \u001b[36mi64\u001b[39m\u001b[0m, \u001b[36mi16\u001b[39m\u001b[0m, \u001b[36mi16\u001b[39m\u001b[0m, \u001b[36mi32\u001b[39m \u001b[33m}\u001b[39m\u001b[0m* \u001b[0m%20\u001b[0m, \u001b[36mi64\u001b[39m \u001b[33m0\u001b[39m\u001b[0m, \u001b[36mi32\u001b[39m \u001b[33m1\u001b[39m\n",
      "   \u001b[0m%22 \u001b[0m= \u001b[96m\u001b[1mload\u001b[22m\u001b[39m \u001b[36mi64\u001b[39m\u001b[0m, \u001b[36mi64\u001b[39m\u001b[0m* \u001b[0m%21\u001b[0m, \u001b[95malign\u001b[39m \u001b[33m8\u001b[39m\n",
      "   \u001b[0m%.not10 \u001b[0m= \u001b[96m\u001b[1micmp\u001b[22m\u001b[39m \u001b[96m\u001b[1meq\u001b[22m\u001b[39m \u001b[36mi64\u001b[39m \u001b[0m%22\u001b[0m, \u001b[33m0\u001b[39m\n",
      "   \u001b[96m\u001b[1mbr\u001b[22m\u001b[39m \u001b[36mi1\u001b[39m \u001b[0m%.not10\u001b[0m, \u001b[36mlabel\u001b[39m \u001b[91m%oob1\u001b[39m\u001b[0m, \u001b[36mlabel\u001b[39m \u001b[91m%idxend2\u001b[39m\n",
      "\n",
      "\u001b[91moob1:\u001b[39m                                             \u001b[90m; preds = %idxend\u001b[39m\n",
      "   \u001b[0m%23 \u001b[0m= \u001b[96m\u001b[1malloca\u001b[22m\u001b[39m \u001b[36mi64\u001b[39m\u001b[0m, \u001b[95malign\u001b[39m \u001b[33m8\u001b[39m\n",
      "   \u001b[96m\u001b[1mstore\u001b[22m\u001b[39m \u001b[36mi64\u001b[39m \u001b[33m1\u001b[39m\u001b[0m, \u001b[36mi64\u001b[39m\u001b[0m* \u001b[0m%23\u001b[0m, \u001b[95malign\u001b[39m \u001b[33m8\u001b[39m\n",
      "   \u001b[96m\u001b[1mcall\u001b[22m\u001b[39m \u001b[36mvoid\u001b[39m \u001b[93m@jl_bounds_error_ints\u001b[39m\u001b[33m(\u001b[39m\u001b[33m{\u001b[39m\u001b[33m}\u001b[39m\u001b[0m* \u001b[0m%4\u001b[0m, \u001b[36mi64\u001b[39m\u001b[0m* \u001b[95mnonnull\u001b[39m \u001b[0m%23\u001b[0m, \u001b[36mi64\u001b[39m \u001b[33m1\u001b[39m\u001b[33m)\u001b[39m\n",
      "   \u001b[96m\u001b[1munreachable\u001b[22m\u001b[39m\n",
      "\n",
      "\u001b[91midxend2:\u001b[39m                                          \u001b[90m; preds = %idxend\u001b[39m\n",
      "\u001b[90m; └\u001b[39m\n",
      "\u001b[90m; ┌ @ array.jl:861 within `getindex`\u001b[39m\n",
      "   \u001b[0m%24 \u001b[0m= \u001b[96m\u001b[1mbitcast\u001b[22m\u001b[39m \u001b[33m{\u001b[39m\u001b[33m}\u001b[39m\u001b[0m* \u001b[0m%6 \u001b[95mto\u001b[39m \u001b[36mfloat\u001b[39m\u001b[0m**\n",
      "   \u001b[0m%25 \u001b[0m= \u001b[96m\u001b[1mload\u001b[22m\u001b[39m \u001b[36mfloat\u001b[39m\u001b[0m*\u001b[0m, \u001b[36mfloat\u001b[39m\u001b[0m** \u001b[0m%24\u001b[0m, \u001b[95malign\u001b[39m \u001b[33m8\u001b[39m\n",
      "   \u001b[0m%26 \u001b[0m= \u001b[96m\u001b[1mload\u001b[22m\u001b[39m \u001b[36mfloat\u001b[39m\u001b[0m, \u001b[36mfloat\u001b[39m\u001b[0m* \u001b[0m%25\u001b[0m, \u001b[95malign\u001b[39m \u001b[33m4\u001b[39m\n",
      "\u001b[90m; └\u001b[39m\n",
      "\u001b[90m; ┌ @ array.jl:903 within `setindex!`\u001b[39m\n",
      "   \u001b[0m%27 \u001b[0m= \u001b[96m\u001b[1mbitcast\u001b[22m\u001b[39m \u001b[33m{\u001b[39m\u001b[33m}\u001b[39m\u001b[0m* \u001b[0m%4 \u001b[95mto\u001b[39m \u001b[36mfloat\u001b[39m\u001b[0m**\n",
      "   \u001b[0m%28 \u001b[0m= \u001b[96m\u001b[1mload\u001b[22m\u001b[39m \u001b[36mfloat\u001b[39m\u001b[0m*\u001b[0m, \u001b[36mfloat\u001b[39m\u001b[0m** \u001b[0m%27\u001b[0m, \u001b[95malign\u001b[39m \u001b[33m8\u001b[39m\n",
      "   \u001b[96m\u001b[1mstore\u001b[22m\u001b[39m \u001b[36mfloat\u001b[39m \u001b[0m%26\u001b[0m, \u001b[36mfloat\u001b[39m\u001b[0m* \u001b[0m%28\u001b[0m, \u001b[95malign\u001b[39m \u001b[33m4\u001b[39m\n",
      "\u001b[90m; └\u001b[39m\n",
      "\u001b[90m;  @ In[15]:3 within `diff!`\u001b[39m\n",
      "\u001b[90m; ┌ @ range.jl:833 within `iterate`\u001b[39m\n",
      "\u001b[90m; │┌ @ range.jl:609 within `isempty`\u001b[39m\n",
      "\u001b[90m; ││┌ @ operators.jl:378 within `>`\u001b[39m\n",
      "\u001b[90m; │││┌ @ int.jl:83 within `<`\u001b[39m\n",
      "      \u001b[0m%29 \u001b[0m= \u001b[96m\u001b[1micmp\u001b[22m\u001b[39m \u001b[96m\u001b[1meq\u001b[22m\u001b[39m \u001b[36mi64\u001b[39m \u001b[0m%22\u001b[0m, \u001b[33m1\u001b[39m\n",
      "\u001b[90m; └└└└\u001b[39m\n",
      "  \u001b[96m\u001b[1mbr\u001b[22m\u001b[39m \u001b[36mi1\u001b[39m \u001b[0m%29\u001b[0m, \u001b[36mlabel\u001b[39m \u001b[91m%L35\u001b[39m\u001b[0m, \u001b[36mlabel\u001b[39m \u001b[91m%L16.preheader\u001b[39m\n",
      "\n",
      "\u001b[91mL16.preheader:\u001b[39m                                    \u001b[90m; preds = %idxend2\u001b[39m\n",
      "\u001b[90m;  @ In[15]:4 within `diff!`\u001b[39m\n",
      "  \u001b[0m%30 \u001b[0m= \u001b[96m\u001b[1madd\u001b[22m\u001b[39m \u001b[95mnsw\u001b[39m \u001b[36mi64\u001b[39m \u001b[0m%22\u001b[0m, \u001b[33m-1\u001b[39m\n",
      "  \u001b[0m%min.iters.check \u001b[0m= \u001b[96m\u001b[1micmp\u001b[22m\u001b[39m \u001b[96m\u001b[1mult\u001b[22m\u001b[39m \u001b[36mi64\u001b[39m \u001b[0m%30\u001b[0m, \u001b[33m32\u001b[39m\n",
      "  \u001b[96m\u001b[1mbr\u001b[22m\u001b[39m \u001b[36mi1\u001b[39m \u001b[0m%min.iters.check\u001b[0m, \u001b[36mlabel\u001b[39m \u001b[91m%L16\u001b[39m\u001b[0m, \u001b[36mlabel\u001b[39m \u001b[91m%vector.memcheck\u001b[39m\n",
      "\n",
      "\u001b[91mvector.memcheck:\u001b[39m                                  \u001b[90m; preds = %L16.preheader\u001b[39m\n"
     ]
    },
    {
     "name": "stdout",
     "output_type": "stream",
     "text": [
      "  \u001b[0m%scevgep \u001b[0m= \u001b[96m\u001b[1mgetelementptr\u001b[22m\u001b[39m \u001b[36mfloat\u001b[39m\u001b[0m, \u001b[36mfloat\u001b[39m\u001b[0m* \u001b[0m%28\u001b[0m, \u001b[36mi64\u001b[39m \u001b[33m1\u001b[39m\n",
      "  \u001b[0m%scevgep13 \u001b[0m= \u001b[96m\u001b[1mgetelementptr\u001b[22m\u001b[39m \u001b[36mfloat\u001b[39m\u001b[0m, \u001b[36mfloat\u001b[39m\u001b[0m* \u001b[0m%28\u001b[0m, \u001b[36mi64\u001b[39m \u001b[0m%22\n",
      "  \u001b[0m%scevgep15 \u001b[0m= \u001b[96m\u001b[1mgetelementptr\u001b[22m\u001b[39m \u001b[36mfloat\u001b[39m\u001b[0m, \u001b[36mfloat\u001b[39m\u001b[0m* \u001b[0m%25\u001b[0m, \u001b[36mi64\u001b[39m \u001b[0m%22\n",
      "  \u001b[0m%bound0 \u001b[0m= \u001b[96m\u001b[1micmp\u001b[22m\u001b[39m \u001b[96m\u001b[1mult\u001b[22m\u001b[39m \u001b[36mfloat\u001b[39m\u001b[0m* \u001b[0m%scevgep\u001b[0m, \u001b[0m%scevgep15\n",
      "  \u001b[0m%bound1 \u001b[0m= \u001b[96m\u001b[1micmp\u001b[22m\u001b[39m \u001b[96m\u001b[1mult\u001b[22m\u001b[39m \u001b[36mfloat\u001b[39m\u001b[0m* \u001b[0m%25\u001b[0m, \u001b[0m%scevgep13\n",
      "  \u001b[0m%found.conflict \u001b[0m= \u001b[96m\u001b[1mand\u001b[22m\u001b[39m \u001b[36mi1\u001b[39m \u001b[0m%bound0\u001b[0m, \u001b[0m%bound1\n",
      "  \u001b[96m\u001b[1mbr\u001b[22m\u001b[39m \u001b[36mi1\u001b[39m \u001b[0m%found.conflict\u001b[0m, \u001b[36mlabel\u001b[39m \u001b[91m%L16\u001b[39m\u001b[0m, \u001b[36mlabel\u001b[39m \u001b[91m%vector.ph\u001b[39m\n",
      "\n",
      "\u001b[91mvector.ph:\u001b[39m                                        \u001b[90m; preds = %vector.memcheck\u001b[39m\n",
      "  \u001b[0m%n.vec \u001b[0m= \u001b[96m\u001b[1mand\u001b[22m\u001b[39m \u001b[36mi64\u001b[39m \u001b[0m%30\u001b[0m, \u001b[33m-32\u001b[39m\n",
      "  \u001b[0m%ind.end \u001b[0m= \u001b[96m\u001b[1mor\u001b[22m\u001b[39m \u001b[36mi64\u001b[39m \u001b[0m%n.vec\u001b[0m, \u001b[33m2\u001b[39m\n",
      "  \u001b[96m\u001b[1mbr\u001b[22m\u001b[39m \u001b[36mlabel\u001b[39m \u001b[91m%vector.body\u001b[39m\n",
      "\n",
      "\u001b[91mvector.body:\u001b[39m                                      \u001b[90m; preds = %vector.body, %vector.ph\u001b[39m\n",
      "  \u001b[0m%index \u001b[0m= \u001b[96m\u001b[1mphi\u001b[22m\u001b[39m \u001b[36mi64\u001b[39m \u001b[33m[\u001b[39m \u001b[33m0\u001b[39m\u001b[0m, \u001b[91m%vector.ph\u001b[39m \u001b[33m]\u001b[39m\u001b[0m, \u001b[33m[\u001b[39m \u001b[0m%index.next\u001b[0m, \u001b[91m%vector.body\u001b[39m \u001b[33m]\u001b[39m\n",
      "  \u001b[0m%offset.idx \u001b[0m= \u001b[96m\u001b[1mor\u001b[22m\u001b[39m \u001b[36mi64\u001b[39m \u001b[0m%index\u001b[0m, \u001b[33m2\u001b[39m\n",
      "\u001b[90m; ┌ @ array.jl:861 within `getindex`\u001b[39m\n",
      "   \u001b[0m%31 \u001b[0m= \u001b[96m\u001b[1madd\u001b[22m\u001b[39m \u001b[95mnsw\u001b[39m \u001b[36mi64\u001b[39m \u001b[0m%offset.idx\u001b[0m, \u001b[33m-1\u001b[39m\n",
      "   \u001b[0m%32 \u001b[0m= \u001b[96m\u001b[1mgetelementptr\u001b[22m\u001b[39m \u001b[95minbounds\u001b[39m \u001b[36mfloat\u001b[39m\u001b[0m, \u001b[36mfloat\u001b[39m\u001b[0m* \u001b[0m%25\u001b[0m, \u001b[36mi64\u001b[39m \u001b[0m%31\n",
      "   \u001b[0m%33 \u001b[0m= \u001b[96m\u001b[1mbitcast\u001b[22m\u001b[39m \u001b[36mfloat\u001b[39m\u001b[0m* \u001b[0m%32 \u001b[95mto\u001b[39m \u001b[33m<\u001b[39m\u001b[33m8\u001b[39m \u001b[0mx \u001b[36mfloat\u001b[39m\u001b[33m>\u001b[39m\u001b[0m*\n",
      "   \u001b[0m%wide.load \u001b[0m= \u001b[96m\u001b[1mload\u001b[22m\u001b[39m \u001b[33m<\u001b[39m\u001b[33m8\u001b[39m \u001b[0mx \u001b[36mfloat\u001b[39m\u001b[33m>\u001b[39m\u001b[0m, \u001b[33m<\u001b[39m\u001b[33m8\u001b[39m \u001b[0mx \u001b[36mfloat\u001b[39m\u001b[33m>\u001b[39m\u001b[0m* \u001b[0m%33\u001b[0m, \u001b[95malign\u001b[39m \u001b[33m4\u001b[39m\n",
      "   \u001b[0m%34 \u001b[0m= \u001b[96m\u001b[1mgetelementptr\u001b[22m\u001b[39m \u001b[95minbounds\u001b[39m \u001b[36mfloat\u001b[39m\u001b[0m, \u001b[36mfloat\u001b[39m\u001b[0m* \u001b[0m%32\u001b[0m, \u001b[36mi64\u001b[39m \u001b[33m8\u001b[39m\n",
      "   \u001b[0m%35 \u001b[0m= \u001b[96m\u001b[1mbitcast\u001b[22m\u001b[39m \u001b[36mfloat\u001b[39m\u001b[0m* \u001b[0m%34 \u001b[95mto\u001b[39m \u001b[33m<\u001b[39m\u001b[33m8\u001b[39m \u001b[0mx \u001b[36mfloat\u001b[39m\u001b[33m>\u001b[39m\u001b[0m*\n",
      "   \u001b[0m%wide.load17 \u001b[0m= \u001b[96m\u001b[1mload\u001b[22m\u001b[39m \u001b[33m<\u001b[39m\u001b[33m8\u001b[39m \u001b[0mx \u001b[36mfloat\u001b[39m\u001b[33m>\u001b[39m\u001b[0m, \u001b[33m<\u001b[39m\u001b[33m8\u001b[39m \u001b[0mx \u001b[36mfloat\u001b[39m\u001b[33m>\u001b[39m\u001b[0m* \u001b[0m%35\u001b[0m, \u001b[95malign\u001b[39m \u001b[33m4\u001b[39m\n",
      "   \u001b[0m%36 \u001b[0m= \u001b[96m\u001b[1mgetelementptr\u001b[22m\u001b[39m \u001b[95minbounds\u001b[39m \u001b[36mfloat\u001b[39m\u001b[0m, \u001b[36mfloat\u001b[39m\u001b[0m* \u001b[0m%32\u001b[0m, \u001b[36mi64\u001b[39m \u001b[33m16\u001b[39m\n",
      "   \u001b[0m%37 \u001b[0m= \u001b[96m\u001b[1mbitcast\u001b[22m\u001b[39m \u001b[36mfloat\u001b[39m\u001b[0m* \u001b[0m%36 \u001b[95mto\u001b[39m \u001b[33m<\u001b[39m\u001b[33m8\u001b[39m \u001b[0mx \u001b[36mfloat\u001b[39m\u001b[33m>\u001b[39m\u001b[0m*\n",
      "   \u001b[0m%wide.load18 \u001b[0m= \u001b[96m\u001b[1mload\u001b[22m\u001b[39m \u001b[33m<\u001b[39m\u001b[33m8\u001b[39m \u001b[0mx \u001b[36mfloat\u001b[39m\u001b[33m>\u001b[39m\u001b[0m, \u001b[33m<\u001b[39m\u001b[33m8\u001b[39m \u001b[0mx \u001b[36mfloat\u001b[39m\u001b[33m>\u001b[39m\u001b[0m* \u001b[0m%37\u001b[0m, \u001b[95malign\u001b[39m \u001b[33m4\u001b[39m\n",
      "   \u001b[0m%38 \u001b[0m= \u001b[96m\u001b[1mgetelementptr\u001b[22m\u001b[39m \u001b[95minbounds\u001b[39m \u001b[36mfloat\u001b[39m\u001b[0m, \u001b[36mfloat\u001b[39m\u001b[0m* \u001b[0m%32\u001b[0m, \u001b[36mi64\u001b[39m \u001b[33m24\u001b[39m\n",
      "   \u001b[0m%39 \u001b[0m= \u001b[96m\u001b[1mbitcast\u001b[22m\u001b[39m \u001b[36mfloat\u001b[39m\u001b[0m* \u001b[0m%38 \u001b[95mto\u001b[39m \u001b[33m<\u001b[39m\u001b[33m8\u001b[39m \u001b[0mx \u001b[36mfloat\u001b[39m\u001b[33m>\u001b[39m\u001b[0m*\n",
      "   \u001b[0m%wide.load19 \u001b[0m= \u001b[96m\u001b[1mload\u001b[22m\u001b[39m \u001b[33m<\u001b[39m\u001b[33m8\u001b[39m \u001b[0mx \u001b[36mfloat\u001b[39m\u001b[33m>\u001b[39m\u001b[0m, \u001b[33m<\u001b[39m\u001b[33m8\u001b[39m \u001b[0mx \u001b[36mfloat\u001b[39m\u001b[33m>\u001b[39m\u001b[0m* \u001b[0m%39\u001b[0m, \u001b[95malign\u001b[39m \u001b[33m4\u001b[39m\n",
      "   \u001b[0m%40 \u001b[0m= \u001b[96m\u001b[1mgetelementptr\u001b[22m\u001b[39m \u001b[95minbounds\u001b[39m \u001b[36mfloat\u001b[39m\u001b[0m, \u001b[36mfloat\u001b[39m\u001b[0m* \u001b[0m%25\u001b[0m, \u001b[36mi64\u001b[39m \u001b[0m%index\n",
      "   \u001b[0m%41 \u001b[0m= \u001b[96m\u001b[1mbitcast\u001b[22m\u001b[39m \u001b[36mfloat\u001b[39m\u001b[0m* \u001b[0m%40 \u001b[95mto\u001b[39m \u001b[33m<\u001b[39m\u001b[33m8\u001b[39m \u001b[0mx \u001b[36mfloat\u001b[39m\u001b[33m>\u001b[39m\u001b[0m*\n",
      "   \u001b[0m%wide.load20 \u001b[0m= \u001b[96m\u001b[1mload\u001b[22m\u001b[39m \u001b[33m<\u001b[39m\u001b[33m8\u001b[39m \u001b[0mx \u001b[36mfloat\u001b[39m\u001b[33m>\u001b[39m\u001b[0m, \u001b[33m<\u001b[39m\u001b[33m8\u001b[39m \u001b[0mx \u001b[36mfloat\u001b[39m\u001b[33m>\u001b[39m\u001b[0m* \u001b[0m%41\u001b[0m, \u001b[95malign\u001b[39m \u001b[33m4\u001b[39m\n",
      "   \u001b[0m%42 \u001b[0m= \u001b[96m\u001b[1mgetelementptr\u001b[22m\u001b[39m \u001b[95minbounds\u001b[39m \u001b[36mfloat\u001b[39m\u001b[0m, \u001b[36mfloat\u001b[39m\u001b[0m* \u001b[0m%40\u001b[0m, \u001b[36mi64\u001b[39m \u001b[33m8\u001b[39m\n",
      "   \u001b[0m%43 \u001b[0m= \u001b[96m\u001b[1mbitcast\u001b[22m\u001b[39m \u001b[36mfloat\u001b[39m\u001b[0m* \u001b[0m%42 \u001b[95mto\u001b[39m \u001b[33m<\u001b[39m\u001b[33m8\u001b[39m \u001b[0mx \u001b[36mfloat\u001b[39m\u001b[33m>\u001b[39m\u001b[0m*\n",
      "   \u001b[0m%wide.load21 \u001b[0m= \u001b[96m\u001b[1mload\u001b[22m\u001b[39m \u001b[33m<\u001b[39m\u001b[33m8\u001b[39m \u001b[0mx \u001b[36mfloat\u001b[39m\u001b[33m>\u001b[39m\u001b[0m, \u001b[33m<\u001b[39m\u001b[33m8\u001b[39m \u001b[0mx \u001b[36mfloat\u001b[39m\u001b[33m>\u001b[39m\u001b[0m* \u001b[0m%43\u001b[0m, \u001b[95malign\u001b[39m \u001b[33m4\u001b[39m\n",
      "   \u001b[0m%44 \u001b[0m= \u001b[96m\u001b[1mgetelementptr\u001b[22m\u001b[39m \u001b[95minbounds\u001b[39m \u001b[36mfloat\u001b[39m\u001b[0m, \u001b[36mfloat\u001b[39m\u001b[0m* \u001b[0m%40\u001b[0m, \u001b[36mi64\u001b[39m \u001b[33m16\u001b[39m\n",
      "   \u001b[0m%45 \u001b[0m= \u001b[96m\u001b[1mbitcast\u001b[22m\u001b[39m \u001b[36mfloat\u001b[39m\u001b[0m* \u001b[0m%44 \u001b[95mto\u001b[39m \u001b[33m<\u001b[39m\u001b[33m8\u001b[39m \u001b[0mx \u001b[36mfloat\u001b[39m\u001b[33m>\u001b[39m\u001b[0m*\n",
      "   \u001b[0m%wide.load22 \u001b[0m= \u001b[96m\u001b[1mload\u001b[22m\u001b[39m \u001b[33m<\u001b[39m\u001b[33m8\u001b[39m \u001b[0mx \u001b[36mfloat\u001b[39m\u001b[33m>\u001b[39m\u001b[0m, \u001b[33m<\u001b[39m\u001b[33m8\u001b[39m \u001b[0mx \u001b[36mfloat\u001b[39m\u001b[33m>\u001b[39m\u001b[0m* \u001b[0m%45\u001b[0m, \u001b[95malign\u001b[39m \u001b[33m4\u001b[39m\n",
      "   \u001b[0m%46 \u001b[0m= \u001b[96m\u001b[1mgetelementptr\u001b[22m\u001b[39m \u001b[95minbounds\u001b[39m \u001b[36mfloat\u001b[39m\u001b[0m, \u001b[36mfloat\u001b[39m\u001b[0m* \u001b[0m%40\u001b[0m, \u001b[36mi64\u001b[39m \u001b[33m24\u001b[39m\n",
      "   \u001b[0m%47 \u001b[0m= \u001b[96m\u001b[1mbitcast\u001b[22m\u001b[39m \u001b[36mfloat\u001b[39m\u001b[0m* \u001b[0m%46 \u001b[95mto\u001b[39m \u001b[33m<\u001b[39m\u001b[33m8\u001b[39m \u001b[0mx \u001b[36mfloat\u001b[39m\u001b[33m>\u001b[39m\u001b[0m*\n",
      "   \u001b[0m%wide.load23 \u001b[0m= \u001b[96m\u001b[1mload\u001b[22m\u001b[39m \u001b[33m<\u001b[39m\u001b[33m8\u001b[39m \u001b[0mx \u001b[36mfloat\u001b[39m\u001b[33m>\u001b[39m\u001b[0m, \u001b[33m<\u001b[39m\u001b[33m8\u001b[39m \u001b[0mx \u001b[36mfloat\u001b[39m\u001b[33m>\u001b[39m\u001b[0m* \u001b[0m%47\u001b[0m, \u001b[95malign\u001b[39m \u001b[33m4\u001b[39m\n",
      "\u001b[90m; └\u001b[39m\n",
      "\u001b[90m; ┌ @ float.jl:401 within `-`\u001b[39m\n",
      "   \u001b[0m%48 \u001b[0m= \u001b[96m\u001b[1mfsub\u001b[22m\u001b[39m \u001b[33m<\u001b[39m\u001b[33m8\u001b[39m \u001b[0mx \u001b[36mfloat\u001b[39m\u001b[33m>\u001b[39m \u001b[0m%wide.load\u001b[0m, \u001b[0m%wide.load20\n",
      "   \u001b[0m%49 \u001b[0m= \u001b[96m\u001b[1mfsub\u001b[22m\u001b[39m \u001b[33m<\u001b[39m\u001b[33m8\u001b[39m \u001b[0mx \u001b[36mfloat\u001b[39m\u001b[33m>\u001b[39m \u001b[0m%wide.load17\u001b[0m, \u001b[0m%wide.load21\n",
      "   \u001b[0m%50 \u001b[0m= \u001b[96m\u001b[1mfsub\u001b[22m\u001b[39m \u001b[33m<\u001b[39m\u001b[33m8\u001b[39m \u001b[0mx \u001b[36mfloat\u001b[39m\u001b[33m>\u001b[39m \u001b[0m%wide.load18\u001b[0m, \u001b[0m%wide.load22\n",
      "   \u001b[0m%51 \u001b[0m= \u001b[96m\u001b[1mfsub\u001b[22m\u001b[39m \u001b[33m<\u001b[39m\u001b[33m8\u001b[39m \u001b[0mx \u001b[36mfloat\u001b[39m\u001b[33m>\u001b[39m \u001b[0m%wide.load19\u001b[0m, \u001b[0m%wide.load23\n",
      "\u001b[90m; └\u001b[39m\n",
      "\u001b[90m; ┌ @ array.jl:903 within `setindex!`\u001b[39m\n",
      "   \u001b[0m%52 \u001b[0m= \u001b[96m\u001b[1mgetelementptr\u001b[22m\u001b[39m \u001b[95minbounds\u001b[39m \u001b[36mfloat\u001b[39m\u001b[0m, \u001b[36mfloat\u001b[39m\u001b[0m* \u001b[0m%28\u001b[0m, \u001b[36mi64\u001b[39m \u001b[0m%31\n",
      "   \u001b[0m%53 \u001b[0m= \u001b[96m\u001b[1mbitcast\u001b[22m\u001b[39m \u001b[36mfloat\u001b[39m\u001b[0m* \u001b[0m%52 \u001b[95mto\u001b[39m \u001b[33m<\u001b[39m\u001b[33m8\u001b[39m \u001b[0mx \u001b[36mfloat\u001b[39m\u001b[33m>\u001b[39m\u001b[0m*\n",
      "   \u001b[96m\u001b[1mstore\u001b[22m\u001b[39m \u001b[33m<\u001b[39m\u001b[33m8\u001b[39m \u001b[0mx \u001b[36mfloat\u001b[39m\u001b[33m>\u001b[39m \u001b[0m%48\u001b[0m, \u001b[33m<\u001b[39m\u001b[33m8\u001b[39m \u001b[0mx \u001b[36mfloat\u001b[39m\u001b[33m>\u001b[39m\u001b[0m* \u001b[0m%53\u001b[0m, \u001b[95malign\u001b[39m \u001b[33m4\u001b[39m\n",
      "   \u001b[0m%54 \u001b[0m= \u001b[96m\u001b[1mgetelementptr\u001b[22m\u001b[39m \u001b[95minbounds\u001b[39m \u001b[36mfloat\u001b[39m\u001b[0m, \u001b[36mfloat\u001b[39m\u001b[0m* \u001b[0m%52\u001b[0m, \u001b[36mi64\u001b[39m \u001b[33m8\u001b[39m\n",
      "   \u001b[0m%55 \u001b[0m= \u001b[96m\u001b[1mbitcast\u001b[22m\u001b[39m \u001b[36mfloat\u001b[39m\u001b[0m* \u001b[0m%54 \u001b[95mto\u001b[39m \u001b[33m<\u001b[39m\u001b[33m8\u001b[39m \u001b[0mx \u001b[36mfloat\u001b[39m\u001b[33m>\u001b[39m\u001b[0m*\n",
      "   \u001b[96m\u001b[1mstore\u001b[22m\u001b[39m \u001b[33m<\u001b[39m\u001b[33m8\u001b[39m \u001b[0mx \u001b[36mfloat\u001b[39m\u001b[33m>\u001b[39m \u001b[0m%49\u001b[0m, \u001b[33m<\u001b[39m\u001b[33m8\u001b[39m \u001b[0mx \u001b[36mfloat\u001b[39m\u001b[33m>\u001b[39m\u001b[0m* \u001b[0m%55\u001b[0m, \u001b[95malign\u001b[39m \u001b[33m4\u001b[39m\n",
      "   \u001b[0m%56 \u001b[0m= \u001b[96m\u001b[1mgetelementptr\u001b[22m\u001b[39m \u001b[95minbounds\u001b[39m \u001b[36mfloat\u001b[39m\u001b[0m, \u001b[36mfloat\u001b[39m\u001b[0m* \u001b[0m%52\u001b[0m, \u001b[36mi64\u001b[39m \u001b[33m16\u001b[39m\n",
      "   \u001b[0m%57 \u001b[0m= \u001b[96m\u001b[1mbitcast\u001b[22m\u001b[39m \u001b[36mfloat\u001b[39m\u001b[0m* \u001b[0m%56 \u001b[95mto\u001b[39m \u001b[33m<\u001b[39m\u001b[33m8\u001b[39m \u001b[0mx \u001b[36mfloat\u001b[39m\u001b[33m>\u001b[39m\u001b[0m*\n",
      "   \u001b[96m\u001b[1mstore\u001b[22m\u001b[39m \u001b[33m<\u001b[39m\u001b[33m8\u001b[39m \u001b[0mx \u001b[36mfloat\u001b[39m\u001b[33m>\u001b[39m \u001b[0m%50\u001b[0m, \u001b[33m<\u001b[39m\u001b[33m8\u001b[39m \u001b[0mx \u001b[36mfloat\u001b[39m\u001b[33m>\u001b[39m\u001b[0m* \u001b[0m%57\u001b[0m, \u001b[95malign\u001b[39m \u001b[33m4\u001b[39m\n",
      "   \u001b[0m%58 \u001b[0m= \u001b[96m\u001b[1mgetelementptr\u001b[22m\u001b[39m \u001b[95minbounds\u001b[39m \u001b[36mfloat\u001b[39m\u001b[0m, \u001b[36mfloat\u001b[39m\u001b[0m* \u001b[0m%52\u001b[0m, \u001b[36mi64\u001b[39m \u001b[33m24\u001b[39m\n",
      "   \u001b[0m%59 \u001b[0m= \u001b[96m\u001b[1mbitcast\u001b[22m\u001b[39m \u001b[36mfloat\u001b[39m\u001b[0m* \u001b[0m%58 \u001b[95mto\u001b[39m \u001b[33m<\u001b[39m\u001b[33m8\u001b[39m \u001b[0mx \u001b[36mfloat\u001b[39m\u001b[33m>\u001b[39m\u001b[0m*\n"
     ]
    },
    {
     "name": "stdout",
     "output_type": "stream",
     "text": [
      "   \u001b[96m\u001b[1mstore\u001b[22m\u001b[39m \u001b[33m<\u001b[39m\u001b[33m8\u001b[39m \u001b[0mx \u001b[36mfloat\u001b[39m\u001b[33m>\u001b[39m \u001b[0m%51\u001b[0m, \u001b[33m<\u001b[39m\u001b[33m8\u001b[39m \u001b[0mx \u001b[36mfloat\u001b[39m\u001b[33m>\u001b[39m\u001b[0m* \u001b[0m%59\u001b[0m, \u001b[95malign\u001b[39m \u001b[33m4\u001b[39m\n",
      "   \u001b[0m%index.next \u001b[0m= \u001b[96m\u001b[1madd\u001b[22m\u001b[39m \u001b[36mi64\u001b[39m \u001b[0m%index\u001b[0m, \u001b[33m32\u001b[39m\n",
      "   \u001b[0m%60 \u001b[0m= \u001b[96m\u001b[1micmp\u001b[22m\u001b[39m \u001b[96m\u001b[1meq\u001b[22m\u001b[39m \u001b[36mi64\u001b[39m \u001b[0m%index.next\u001b[0m, \u001b[0m%n.vec\n",
      "   \u001b[96m\u001b[1mbr\u001b[22m\u001b[39m \u001b[36mi1\u001b[39m \u001b[0m%60\u001b[0m, \u001b[36mlabel\u001b[39m \u001b[91m%middle.block\u001b[39m\u001b[0m, \u001b[36mlabel\u001b[39m \u001b[91m%vector.body\u001b[39m\n",
      "\n",
      "\u001b[91mmiddle.block:\u001b[39m                                     \u001b[90m; preds = %vector.body\u001b[39m\n",
      "\u001b[90m; └\u001b[39m\n",
      "  \u001b[0m%cmp.n \u001b[0m= \u001b[96m\u001b[1micmp\u001b[22m\u001b[39m \u001b[96m\u001b[1meq\u001b[22m\u001b[39m \u001b[36mi64\u001b[39m \u001b[0m%30\u001b[0m, \u001b[0m%n.vec\n",
      "  \u001b[96m\u001b[1mbr\u001b[22m\u001b[39m \u001b[36mi1\u001b[39m \u001b[0m%cmp.n\u001b[0m, \u001b[36mlabel\u001b[39m \u001b[91m%L35\u001b[39m\u001b[0m, \u001b[36mlabel\u001b[39m \u001b[91m%L16\u001b[39m\n",
      "\u001b[33m}\u001b[39m\n"
     ]
    }
   ],
   "source": [
    "@code_llvm diff!(A, B)"
   ]
  },
  {
   "cell_type": "markdown",
   "id": "a2aa4a8c",
   "metadata": {},
   "source": [
    "Podemos asegurar manualmente que las matrices no tengan solapamiento (o tengan alguna dependencia de bucle), con el muy especial indicador `@simd ivdep` , pero esto puede ser desastroso:"
   ]
  },
  {
   "cell_type": "code",
   "execution_count": 19,
   "id": "3a0f9d62",
   "metadata": {},
   "outputs": [
    {
     "name": "stdout",
     "output_type": "stream",
     "text": [
      "  8.500 μs (0 allocations: 0 bytes)\n"
     ]
    },
    {
     "data": {
      "text/plain": [
       "false"
      ]
     },
     "execution_count": 19,
     "metadata": {},
     "output_type": "execute_result"
    }
   ],
   "source": [
    "function unsafe_diff!(A, B)\n",
    "    A[1] = B[1]\n",
    "    @simd ivdep for i in 2:length(A)\n",
    "        @inbounds A[i] = B[i] - B[i-1]\n",
    "    end\n",
    "    return A\n",
    "end\n",
    "@btime unsafe_diff!($A, $B)\n",
    "[B[1];diff(B)] == A\n",
    "Bcopy = copy(B)\n",
    "unsafe_diff!(Bcopy, Bcopy)\n",
    "[B[1];diff(B)] == Bcopy"
   ]
  },
  {
   "cell_type": "markdown",
   "id": "a5e33fc0",
   "metadata": {},
   "source": [
    "Si realmente quieres ensuciarte las manos, puede usar el paquete [SIMD.jl](https://github.com/eschnett/SIMD.jl) para especificar manualmente esas cosas `<8 x float>` que genera LLVM. PERO: esto es complicado y doloroso; a menudo es solo para estar consciente de lo que hace que el código de Julia sea automáticamente *SIMD-able* o vectorizable, algunos de los casos en los que puede fallar y cómo verificar su funcionamiento."
   ]
  },
  {
   "cell_type": "markdown",
   "id": "101c0e33",
   "metadata": {},
   "source": [
    "## SIMD\n",
    "\n",
    "* Explota el paralelismo incorporado en un procesador\n",
    "* Los mejores bucles `for` son más internos pequeños y ajustados\n",
    "* A menudo sucede automáticamente si eres cuidadoso.\n",
    "    * Sigue los consejos de [performance best practices](https://docs.julialang.org/en/v1/manual/performance-tips/)\n",
    "    *`@inbounds` accede a cualquier matriz \n",
    "    * Sin bifurcaciones o llamadas a funciones (no alineadas)\n",
    "* Puede usar `@simd` para permitir que Julia rompa algunas reglas para que esto suceda\n",
    "    * ¡Pero tenga cuidado, especialmente con `@simd ivdep`!\n",
    "* Dependiendo del procesador y los tipos involucrados, puede generar ganancias de 2 a 16 veces con una sobrecarga extraordinariamente pequeña\n",
    "    * Los tipos de datos más pequeños pueden mejorar esto aún más; use Float32 en lugar de Float64 si es posible, Int32 en lugar de Int64, etc.\n",
    "    * Al comprar un nuevo procesador, busque soporte [AVX-512](https://en.wikichip.org/wiki/x86/avx-512)"
   ]
  },
  {
   "cell_type": "code",
   "execution_count": null,
   "id": "5eadaf6d",
   "metadata": {},
   "outputs": [],
   "source": []
  }
 ],
 "metadata": {
  "kernelspec": {
   "display_name": "Julia 1.7.3",
   "language": "julia",
   "name": "julia-1.7"
  },
  "language_info": {
   "file_extension": ".jl",
   "mimetype": "application/julia",
   "name": "julia",
   "version": "1.7.3"
  }
 },
 "nbformat": 4,
 "nbformat_minor": 5
}
