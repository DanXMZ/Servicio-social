{
 "cells": [
  {
   "cell_type": "markdown",
   "metadata": {},
   "source": [
    "# Programación rápida  con Julia (en serie)\n",
    "\n",
    "Sí, este es un curso de computación paralela, pero para escribir programas paralelos eficientes, primero debemos aprender a escribir código serial Julia rápido. Esta es una introducción rápida a la programación de alto rendimiento (en serie).\n",
    "\n",
    "_Recomiendo mucho_ revisar los Consejos de rendimiento en el manual [Performance Tips](https://docs.julialang.org/en/v1.1/manual/performance-tips/). Esto sólo va a introducir brevemente algunos de los conceptos principales."
   ]
  },
  {
   "cell_type": "markdown",
   "metadata": {},
   "source": [
    "## Medir, medir, medir.\n",
    "Es muy fácil experimentar en Julia; puede probar rápidamente muchas opciones y ver cuál es la más rápida."
   ]
  },
  {
   "cell_type": "markdown",
   "metadata": {},
   "source": [
    "Usa el paquete  [BenchmarkTools](https://github.com/JuliaCI/BenchmarkTools.jl):"
   ]
  },
  {
   "cell_type": "code",
   "execution_count": 2,
   "metadata": {},
   "outputs": [
    {
     "data": {
      "text/plain": [
       "0.4999597704984099"
      ]
     },
     "execution_count": 2,
     "metadata": {},
     "output_type": "execute_result"
    }
   ],
   "source": [
    "using BenchmarkTools\n",
    "\n",
    "\"\"\"\n",
    "    findclosest(data, point)\n",
    "\n",
    "Un ejemplo simple que regresa el elemento en `data`que esta mas cercano al punto dado `point`.\n",
    "\"\"\"\n",
    "function findclosest(data, point)\n",
    "    _, index =  findmin(abs.(data .- point))\n",
    "    return data[index]\n",
    "end\n",
    "data = rand(5000)\n",
    "findclosest(data, 0.5)"
   ]
  },
  {
   "cell_type": "code",
   "execution_count": 3,
   "metadata": {},
   "outputs": [
    {
     "data": {
      "text/plain": [
       "(4.022950159010552e-5, 1328)"
      ]
     },
     "execution_count": 3,
     "metadata": {},
     "output_type": "execute_result"
    }
   ],
   "source": [
    "#data = rand(5000)\n",
    "findmin(abs.(data .- 0.5))"
   ]
  },
  {
   "cell_type": "code",
   "execution_count": 4,
   "metadata": {},
   "outputs": [
    {
     "name": "stdout",
     "output_type": "stream",
     "text": [
      "  26.400 μs (2 allocations: 39.11 KiB)\n"
     ]
    },
    {
     "data": {
      "text/plain": [
       "0.4999597704984099"
      ]
     },
     "execution_count": 4,
     "metadata": {},
     "output_type": "execute_result"
    }
   ],
   "source": [
    "@btime findclosest($data, $0.5)"
   ]
  },
  {
   "cell_type": "code",
   "execution_count": 5,
   "metadata": {},
   "outputs": [
    {
     "data": {
      "text/plain": [
       "BenchmarkTools.Trial: 10000 samples with 1 evaluation.\n",
       " Range \u001b[90m(\u001b[39m\u001b[36m\u001b[1mmin\u001b[22m\u001b[39m … \u001b[35mmax\u001b[39m\u001b[90m):  \u001b[39m\u001b[36m\u001b[1m24.000 μs\u001b[22m\u001b[39m … \u001b[35m  8.763 ms\u001b[39m  \u001b[90m┊\u001b[39m GC \u001b[90m(\u001b[39mmin … max\u001b[90m): \u001b[39m0.00% … 99.05%\n",
       " Time  \u001b[90m(\u001b[39m\u001b[34m\u001b[1mmedian\u001b[22m\u001b[39m\u001b[90m):     \u001b[39m\u001b[34m\u001b[1m73.200 μs               \u001b[22m\u001b[39m\u001b[90m┊\u001b[39m GC \u001b[90m(\u001b[39mmedian\u001b[90m):    \u001b[39m0.00%\n",
       " Time  \u001b[90m(\u001b[39m\u001b[32m\u001b[1mmean\u001b[22m\u001b[39m ± \u001b[32mσ\u001b[39m\u001b[90m):   \u001b[39m\u001b[32m\u001b[1m79.453 μs\u001b[22m\u001b[39m ± \u001b[32m202.231 μs\u001b[39m  \u001b[90m┊\u001b[39m GC \u001b[90m(\u001b[39mmean ± σ\u001b[90m):  \u001b[39m7.10% ±  2.79%\n",
       "\n",
       "  \u001b[39m \u001b[39m \u001b[39m \u001b[39m \u001b[39m \u001b[39m \u001b[39m \u001b[39m \u001b[39m \u001b[39m \u001b[39m \u001b[39m \u001b[39m \u001b[39m \u001b[39m \u001b[39m \u001b[39m \u001b[39m \u001b[39m \u001b[39m \u001b[39m \u001b[39m \u001b[39m \u001b[39m \u001b[39m \u001b[39m \u001b[39m \u001b[39m \u001b[39m \u001b[39m \u001b[39m \u001b[39m \u001b[39m▄\u001b[39m▄\u001b[39m▅\u001b[39m▆\u001b[39m█\u001b[34m▄\u001b[39m\u001b[39m▂\u001b[39m \u001b[39m \u001b[32m \u001b[39m\u001b[39m \u001b[39m \u001b[39m \u001b[39m \u001b[39m \u001b[39m \u001b[39m \u001b[39m \u001b[39m \u001b[39m \u001b[39m \u001b[39m \u001b[39m \u001b[39m \u001b[39m \u001b[39m \u001b[39m \u001b[39m \u001b[39m \u001b[39m \n",
       "  \u001b[39m▁\u001b[39m▁\u001b[39m▁\u001b[39m▁\u001b[39m▁\u001b[39m▁\u001b[39m▁\u001b[39m▁\u001b[39m▂\u001b[39m▁\u001b[39m▁\u001b[39m▁\u001b[39m▁\u001b[39m▁\u001b[39m▁\u001b[39m▁\u001b[39m▁\u001b[39m▁\u001b[39m▁\u001b[39m▂\u001b[39m▂\u001b[39m▁\u001b[39m▁\u001b[39m▁\u001b[39m▁\u001b[39m▁\u001b[39m▁\u001b[39m▁\u001b[39m▁\u001b[39m▁\u001b[39m▂\u001b[39m▆\u001b[39m█\u001b[39m█\u001b[39m█\u001b[39m█\u001b[39m█\u001b[34m█\u001b[39m\u001b[39m█\u001b[39m█\u001b[39m▇\u001b[32m█\u001b[39m\u001b[39m▇\u001b[39m▇\u001b[39m▄\u001b[39m▄\u001b[39m▃\u001b[39m▂\u001b[39m▂\u001b[39m▂\u001b[39m▂\u001b[39m▂\u001b[39m▂\u001b[39m▂\u001b[39m▂\u001b[39m▁\u001b[39m▁\u001b[39m▁\u001b[39m▁\u001b[39m▁\u001b[39m \u001b[39m▂\n",
       "  24 μs\u001b[90m           Histogram: frequency by time\u001b[39m          105 μs \u001b[0m\u001b[1m<\u001b[22m\n",
       "\n",
       " Memory estimate\u001b[90m: \u001b[39m\u001b[33m39.11 KiB\u001b[39m, allocs estimate\u001b[90m: \u001b[39m\u001b[33m2\u001b[39m."
      ]
     },
     "execution_count": 5,
     "metadata": {},
     "output_type": "execute_result"
    }
   ],
   "source": [
    "@benchmark findclosest($data, $0.5)"
   ]
  },
  {
   "cell_type": "markdown",
   "metadata": {},
   "source": [
    "### Profile!"
   ]
  },
  {
   "cell_type": "code",
   "execution_count": 6,
   "metadata": {},
   "outputs": [
    {
     "name": "stdout",
     "output_type": "stream",
     "text": [
      "Overhead ╎ [+additional indent] Count File:Line; Function\n",
      "=========================================================\n",
      "  ╎52 @Base\\task.jl:429; (::IJulia.var\"#15#18\")()\n",
      "  ╎ 52 @IJulia\\src\\eventloop.jl:8; eventloop(socket::ZMQ.Socket)\n",
      "  ╎  52 @Base\\essentials.jl:714; invokelatest\n",
      "  ╎   52 @Base\\essentials.jl:716; #invokelatest#2\n",
      "  ╎    52 ...c\\execute_request.jl:67; execute_request(socket::ZMQ.Soc...\n",
      "  ╎     52 ...\\SoftGlobalScope.jl:65; softscope_include_string(m::Mod...\n",
      "  ╎    ╎ 52 @Base\\loading.jl:1196; include_string(mapexpr::typeo...\n",
      "  ╎    ╎  52 @Base\\boot.jl:373; eval\n",
      "  ╎    ╎   52 ...ile\\src\\Profile.jl:28; top-level scope\n",
      "  ╎    ╎    52 In[6]:4; macro expansion\n",
      "  ╎    ╎     52 In[2]:9; findclosest(data::Vector{Flo...\n",
      "  ╎    ╎    ╎ 40 @Base\\broadcast.jl:860; materialize\n",
      "  ╎    ╎    ╎ 12 @Base\\reducedim.jl:1005; findmin\n",
      "Total snapshots: 52\n"
     ]
    }
   ],
   "source": [
    "using Profile\n",
    "\n",
    "Profile.clear()\n",
    "@profile for _ in 1:1000; findclosest(data, 0.5); end\n",
    "\n",
    "Profile.print(maxdepth=11)"
   ]
  },
  {
   "cell_type": "markdown",
   "metadata": {},
   "source": [
    "### Iterar!\n",
    "\n",
    "Antes teniamos:\n",
    "```julia\n",
    "function findclosest(data, point)\n",
    "    _, index =  findmin(abs.(data .- point))\n",
    "    return data[index]\n",
    "end\n",
    "```\n",
    "\n",
    "Propongamos una nueva definición que pueda combinar las dos operaciones:"
   ]
  },
  {
   "cell_type": "code",
   "execution_count": 7,
   "metadata": {},
   "outputs": [
    {
     "data": {
      "text/plain": [
       "true"
      ]
     },
     "execution_count": 7,
     "metadata": {},
     "output_type": "execute_result"
    }
   ],
   "source": [
    "function findclosest2(data, point)\n",
    "    bestval = first(data)\n",
    "    bestdist = abs(bestval - point)\n",
    "    for elt in data\n",
    "        dist = abs(elt - point)\n",
    "        if dist < bestdist\n",
    "            bestval = elt\n",
    "            bestdist = dist\n",
    "        end\n",
    "    end\n",
    "    return bestval\n",
    "end\n",
    "\n",
    "# Y se hace una verificación al azar para asegurar de que hicimos la optimización correctamente:\n",
    "findclosest2(data, 0.5) == findclosest(data, 0.5)"
   ]
  },
  {
   "cell_type": "code",
   "execution_count": 8,
   "metadata": {},
   "outputs": [
    {
     "data": {
      "text/plain": [
       "BenchmarkTools.Trial: 10000 samples with 6 evaluations.\n",
       " Range \u001b[90m(\u001b[39m\u001b[36m\u001b[1mmin\u001b[22m\u001b[39m … \u001b[35mmax\u001b[39m\u001b[90m):  \u001b[39m\u001b[36m\u001b[1m 5.650 μs\u001b[22m\u001b[39m … \u001b[35m196.050 μs\u001b[39m  \u001b[90m┊\u001b[39m GC \u001b[90m(\u001b[39mmin … max\u001b[90m): \u001b[39m0.00% … 0.00%\n",
       " Time  \u001b[90m(\u001b[39m\u001b[34m\u001b[1mmedian\u001b[22m\u001b[39m\u001b[90m):     \u001b[39m\u001b[34m\u001b[1m16.583 μs               \u001b[22m\u001b[39m\u001b[90m┊\u001b[39m GC \u001b[90m(\u001b[39mmedian\u001b[90m):    \u001b[39m0.00%\n",
       " Time  \u001b[90m(\u001b[39m\u001b[32m\u001b[1mmean\u001b[22m\u001b[39m ± \u001b[32mσ\u001b[39m\u001b[90m):   \u001b[39m\u001b[32m\u001b[1m15.716 μs\u001b[22m\u001b[39m ± \u001b[32m  5.100 μs\u001b[39m  \u001b[90m┊\u001b[39m GC \u001b[90m(\u001b[39mmean ± σ\u001b[90m):  \u001b[39m0.00% ± 0.00%\n",
       "\n",
       "  \u001b[39m▄\u001b[39m▂\u001b[39m▁\u001b[39m \u001b[39m \u001b[39m \u001b[39m \u001b[39m \u001b[39m \u001b[39m \u001b[39m \u001b[39m \u001b[39m \u001b[39m \u001b[39m \u001b[39m \u001b[39m \u001b[39m \u001b[39m \u001b[39m \u001b[39m \u001b[39m \u001b[39m \u001b[39m \u001b[39m \u001b[39m \u001b[39m \u001b[39m \u001b[32m \u001b[39m\u001b[39m \u001b[34m█\u001b[39m\u001b[39m▂\u001b[39m▄\u001b[39m \u001b[39m \u001b[39m \u001b[39m \u001b[39m \u001b[39m \u001b[39m \u001b[39m \u001b[39m \u001b[39m \u001b[39m \u001b[39m \u001b[39m \u001b[39m \u001b[39m \u001b[39m \u001b[39m \u001b[39m \u001b[39m \u001b[39m \u001b[39m \u001b[39m \u001b[39m \u001b[39m \u001b[39m \u001b[39m \u001b[39m \u001b[39m \u001b[39m▁\n",
       "  \u001b[39m█\u001b[39m█\u001b[39m█\u001b[39m█\u001b[39m▇\u001b[39m▆\u001b[39m▆\u001b[39m▇\u001b[39m█\u001b[39m▆\u001b[39m▇\u001b[39m▆\u001b[39m▇\u001b[39m▇\u001b[39m▆\u001b[39m▆\u001b[39m▅\u001b[39m▆\u001b[39m▆\u001b[39m▆\u001b[39m▆\u001b[39m▅\u001b[39m▅\u001b[39m▆\u001b[39m▆\u001b[39m▇\u001b[39m▆\u001b[39m▅\u001b[32m▆\u001b[39m\u001b[39m▇\u001b[34m█\u001b[39m\u001b[39m█\u001b[39m█\u001b[39m█\u001b[39m▇\u001b[39m▅\u001b[39m▆\u001b[39m▅\u001b[39m▄\u001b[39m▄\u001b[39m▄\u001b[39m▄\u001b[39m▄\u001b[39m▄\u001b[39m▄\u001b[39m▅\u001b[39m▄\u001b[39m▄\u001b[39m▄\u001b[39m▃\u001b[39m▃\u001b[39m▅\u001b[39m▄\u001b[39m▃\u001b[39m▄\u001b[39m▅\u001b[39m▂\u001b[39m▃\u001b[39m▃\u001b[39m▄\u001b[39m \u001b[39m█\n",
       "  5.65 μs\u001b[90m       \u001b[39m\u001b[90mHistogram: \u001b[39m\u001b[90m\u001b[1mlog(\u001b[22m\u001b[39m\u001b[90mfrequency\u001b[39m\u001b[90m\u001b[1m)\u001b[22m\u001b[39m\u001b[90m by time\u001b[39m      27.2 μs \u001b[0m\u001b[1m<\u001b[22m\n",
       "\n",
       " Memory estimate\u001b[90m: \u001b[39m\u001b[33m0 bytes\u001b[39m, allocs estimate\u001b[90m: \u001b[39m\u001b[33m0\u001b[39m."
      ]
     },
     "execution_count": 8,
     "metadata": {},
     "output_type": "execute_result"
    }
   ],
   "source": [
    "@benchmark findclosest2($data, $0.5)"
   ]
  },
  {
   "cell_type": "code",
   "execution_count": 9,
   "metadata": {},
   "outputs": [
    {
     "name": "stdout",
     "output_type": "stream",
     "text": [
      "  5.700 μs (0 allocations: 0 bytes)\n"
     ]
    },
    {
     "data": {
      "text/plain": [
       "0.4999597704984099"
      ]
     },
     "execution_count": 9,
     "metadata": {},
     "output_type": "execute_result"
    }
   ],
   "source": [
    "@btime findclosest2($data, $0.5)"
   ]
  },
  {
   "cell_type": "markdown",
   "metadata": {},
   "source": [
    "## Una palabra rápida en las macros\n",
    "\n",
    "Las macros son esas cosas divertidas que comienzan con `@`. Pueden reinterpretar lo que\n",
    "escribes y hacer algo diferente, esencialmente introduciendo una nueva palabra clave.\n",
    "\n",
    "Por ejemplo, la macro `@assert` simplemente toma una expresión y lanza un\n",
    "excepción si devuelve `falso`."
   ]
  },
  {
   "cell_type": "code",
   "execution_count": 10,
   "metadata": {},
   "outputs": [],
   "source": [
    "@assert 2+2 == 4"
   ]
  },
  {
   "cell_type": "code",
   "execution_count": 11,
   "metadata": {},
   "outputs": [
    {
     "ename": "LoadError",
     "evalue": "AssertionError: 2 + 2 == 8",
     "output_type": "error",
     "traceback": [
      "AssertionError: 2 + 2 == 8",
      "",
      "Stacktrace:",
      " [1] top-level scope",
      "   @ In[11]:1",
      " [2] eval",
      "   @ .\\boot.jl:373 [inlined]",
      " [3] include_string(mapexpr::typeof(REPL.softscope), mod::Module, code::String, filename::String)",
      "   @ Base .\\loading.jl:1196"
     ]
    }
   ],
   "source": [
    "@assert 2+2 == 8"
   ]
  },
  {
   "cell_type": "markdown",
   "metadata": {},
   "source": [
    "Lo hace literalmente reescribiendo lo que escribiste. Puedes verlo en acción\n",
    "con `@macroexpand`"
   ]
  },
  {
   "cell_type": "code",
   "execution_count": 12,
   "metadata": {},
   "outputs": [
    {
     "data": {
      "text/plain": [
       ":(if 2 + 2 == 4\n",
       "      nothing\n",
       "  else\n",
       "      Base.throw(Base.AssertionError(\"2 + 2 == 4\"))\n",
       "  end)"
      ]
     },
     "execution_count": 12,
     "metadata": {},
     "output_type": "execute_result"
    }
   ],
   "source": [
    "@macroexpand @assert 2+2 == 4"
   ]
  },
  {
   "cell_type": "code",
   "execution_count": 13,
   "metadata": {},
   "outputs": [
    {
     "data": {
      "text/plain": [
       "quote\n",
       "    \u001b[90m#= timing.jl:216 =#\u001b[39m\n",
       "    while false\n",
       "        \u001b[90m#= timing.jl:216 =#\u001b[39m\n",
       "    end\n",
       "    \u001b[90m#= timing.jl:217 =#\u001b[39m\n",
       "    local var\"#31#stats\" = Base.gc_num()\n",
       "    \u001b[90m#= timing.jl:218 =#\u001b[39m\n",
       "    local var\"#33#elapsedtime\" = Base.time_ns()\n",
       "    \u001b[90m#= timing.jl:219 =#\u001b[39m\n",
       "    local var\"#34#compile_elapsedtime\" = Base.cumulative_compile_time_ns_before()\n",
       "    \u001b[90m#= timing.jl:220 =#\u001b[39m\n",
       "    local var\"#32#val\" = $(Expr(:tryfinally, :(2 + 2 == 4), quote\n",
       "    var\"#33#elapsedtime\" = Base.time_ns() - var\"#33#elapsedtime\"\n",
       "    \u001b[90m#= timing.jl:222 =#\u001b[39m\n",
       "    var\"#34#compile_elapsedtime\" = Base.cumulative_compile_time_ns_after() - var\"#34#compile_elapsedtime\"\n",
       "end))\n",
       "    \u001b[90m#= timing.jl:224 =#\u001b[39m\n",
       "    local var\"#35#diff\" = Base.GC_Diff(Base.gc_num(), var\"#31#stats\")\n",
       "    \u001b[90m#= timing.jl:225 =#\u001b[39m\n",
       "    Base.time_print(var\"#33#elapsedtime\", (var\"#35#diff\").allocd, (var\"#35#diff\").total_time, Base.gc_alloc_count(var\"#35#diff\"), var\"#34#compile_elapsedtime\", true)\n",
       "    \u001b[90m#= timing.jl:226 =#\u001b[39m\n",
       "    var\"#32#val\"\n",
       "end"
      ]
     },
     "execution_count": 13,
     "metadata": {},
     "output_type": "execute_result"
    }
   ],
   "source": [
    "@macroexpand @time 2+2 == 4"
   ]
  },
  {
   "cell_type": "code",
   "execution_count": 14,
   "metadata": {},
   "outputs": [
    {
     "data": {
      "text/html": [
       "var\"@time\"(__source__::<b>LineNumberNode</b>, __module__::<b>Module</b>, ex) in Base at <a href=\"https://github.com/JuliaLang/julia/tree/742b9abb4dd4621b667ec5bb3434b8b3602f96fd/base/timing.jl#L214\" target=\"_blank\">timing.jl:214</a>"
      ],
      "text/plain": [
       "var\"@time\"(__source__::LineNumberNode, __module__::Module, ex) in Base at timing.jl:214"
      ]
     },
     "execution_count": 14,
     "metadata": {},
     "output_type": "execute_result"
    }
   ],
   "source": [
    "@which @time 2+2 == 4"
   ]
  },
  {
   "cell_type": "markdown",
   "metadata": {},
   "source": [
    "Cada macro puede definir su propia sintaxis especial, y esto se usa ampliamente para la introspección de código, las mejoras de rendimiento en serie y, quizás lo más importante, ¡pprivilegios de paralelización!"
   ]
  },
  {
   "cell_type": "markdown",
   "metadata": {},
   "source": [
    "## ¿Qué tan rápido es Julia?\n",
    "\n",
    "Al comprender los conceptos básicos de cómo Julia _puede_ ser rápida, puede obtener una mejor\n",
    "sentido de cómo escribir código Julia rápido.\n",
    "\n",
    "Perhaps most importantly, Julia can reason about types. Recall: this is the definition of `findclosest2`:\n",
    "\n",
    "```julia\n",
    "function findclosest2(data, point)\n",
    "    bestval = first(data)\n",
    "    bestdist = abs(bestval - point)\n",
    "    for elt in data\n",
    "        dist = abs(elt - point)\n",
    "        if dist < bestdist\n",
    "            bestval = elt\n",
    "            bestdist = dist\n",
    "        end\n",
    "    end\n",
    "    return bestval\n",
    "end\n",
    "```"
   ]
  },
  {
   "cell_type": "code",
   "execution_count": 15,
   "metadata": {
    "scrolled": true
   },
   "outputs": [
    {
     "data": {
      "text/plain": [
       "CodeInfo(\n",
       "\u001b[90m1 ─\u001b[39m       (bestval = Main.first(data))\u001b[90m::Float64\u001b[39m\n",
       "\u001b[90m│  \u001b[39m %2  = (bestval - point)\u001b[36m::Float64\u001b[39m\n",
       "\u001b[90m│  \u001b[39m       (bestdist = Main.abs(%2))\u001b[90m::Float64\u001b[39m\n",
       "\u001b[90m│  \u001b[39m %4  = data\u001b[36m::Vector{Float64}\u001b[39m\n",
       "\u001b[90m│  \u001b[39m       (@_4 = Base.iterate(%4))\u001b[90m::Union{Nothing, Tuple{Float64, Int64}}\u001b[39m\n",
       "\u001b[90m│  \u001b[39m %6  = (@_4 === nothing)\u001b[36m::Bool\u001b[39m\n",
       "\u001b[90m│  \u001b[39m %7  = Base.not_int(%6)\u001b[36m::Bool\u001b[39m\n",
       "\u001b[90m└──\u001b[39m       goto #6 if not %7\n",
       "\u001b[90m2 ┄\u001b[39m %9  = @_4\u001b[36m::Tuple{Float64, Int64}\u001b[39m\n",
       "\u001b[90m│  \u001b[39m       (elt = Core.getfield(%9, 1))\u001b[90m::Float64\u001b[39m\n",
       "\u001b[90m│  \u001b[39m %11 = Core.getfield(%9, 2)\u001b[36m::Int64\u001b[39m\n",
       "\u001b[90m│  \u001b[39m %12 = (elt - point)\u001b[36m::Float64\u001b[39m\n",
       "\u001b[90m│  \u001b[39m       (dist = Main.abs(%12))\u001b[90m::Float64\u001b[39m\n",
       "\u001b[90m│  \u001b[39m %14 = (dist < bestdist)\u001b[36m::Bool\u001b[39m\n",
       "\u001b[90m└──\u001b[39m       goto #4 if not %14\n",
       "\u001b[90m3 ─\u001b[39m       (bestval = elt)\u001b[90m::Float64\u001b[39m\n",
       "\u001b[90m└──\u001b[39m       (bestdist = dist)\u001b[90m::Float64\u001b[39m\n",
       "\u001b[90m4 ┄\u001b[39m       (@_4 = Base.iterate(%4, %11))\u001b[90m::Union{Nothing, Tuple{Float64, Int64}}\u001b[39m\n",
       "\u001b[90m│  \u001b[39m %19 = (@_4 === nothing)\u001b[36m::Bool\u001b[39m\n",
       "\u001b[90m│  \u001b[39m %20 = Base.not_int(%19)\u001b[36m::Bool\u001b[39m\n",
       "\u001b[90m└──\u001b[39m       goto #6 if not %20\n",
       "\u001b[90m5 ─\u001b[39m       goto #2\n",
       "\u001b[90m6 ┄\u001b[39m       return bestval\n",
       ") => Float64"
      ]
     },
     "execution_count": 15,
     "metadata": {},
     "output_type": "execute_result"
    }
   ],
   "source": [
    "@code_typed optimize=false findclosest2(data, 0.5)"
   ]
  },
  {
   "cell_type": "code",
   "execution_count": 16,
   "metadata": {},
   "outputs": [
    {
     "data": {
      "text/plain": [
       "Vector{Float64} (alias for Array{Float64, 1})"
      ]
     },
     "execution_count": 16,
     "metadata": {},
     "output_type": "execute_result"
    }
   ],
   "source": [
    "typeof(data)"
   ]
  },
  {
   "cell_type": "code",
   "execution_count": 17,
   "metadata": {},
   "outputs": [
    {
     "data": {
      "text/plain": [
       "Vector{Real} (alias for Array{Real, 1})"
      ]
     },
     "execution_count": 17,
     "metadata": {},
     "output_type": "execute_result"
    }
   ],
   "source": [
    "newdata = Real[data...]\n",
    "typeof(newdata)"
   ]
  },
  {
   "cell_type": "code",
   "execution_count": 19,
   "metadata": {
    "scrolled": true
   },
   "outputs": [
    {
     "data": {
      "text/plain": [
       "CodeInfo(\n",
       "\u001b[90m1 ─\u001b[39m       (bestval = Main.first(data))\u001b[90m::Real\u001b[39m\n",
       "\u001b[90m│  \u001b[39m %2  = (bestval - point)\u001b[36m::Any\u001b[39m\n",
       "\u001b[90m│  \u001b[39m       (bestdist = Main.abs(%2))\u001b[90m::Any\u001b[39m\n",
       "\u001b[90m│  \u001b[39m %4  = data\u001b[36m::Vector{Real}\u001b[39m\n",
       "\u001b[90m│  \u001b[39m       (@_4 = Base.iterate(%4))\u001b[90m::Union{Nothing, Tuple{Real, Int64}}\u001b[39m\n",
       "\u001b[90m│  \u001b[39m %6  = (@_4 === nothing)\u001b[36m::Bool\u001b[39m\n",
       "\u001b[90m│  \u001b[39m %7  = Base.not_int(%6)\u001b[36m::Bool\u001b[39m\n",
       "\u001b[90m└──\u001b[39m       goto #6 if not %7\n",
       "\u001b[90m2 ┄\u001b[39m %9  = @_4\u001b[36m::Tuple{Real, Int64}\u001b[39m\n",
       "\u001b[90m│  \u001b[39m       (elt = Core.getfield(%9, 1))\u001b[90m::Real\u001b[39m\n",
       "\u001b[90m│  \u001b[39m %11 = Core.getfield(%9, 2)\u001b[36m::Int64\u001b[39m\n",
       "\u001b[90m│  \u001b[39m %12 = (elt - point)\u001b[36m::Any\u001b[39m\n",
       "\u001b[90m│  \u001b[39m       (dist = Main.abs(%12))\u001b[90m::Any\u001b[39m\n",
       "\u001b[90m│  \u001b[39m %14 = (dist < bestdist)\u001b[36m::Any\u001b[39m\n",
       "\u001b[90m└──\u001b[39m       goto #4 if not %14\n",
       "\u001b[90m3 ─\u001b[39m       (bestval = elt)\u001b[90m::Real\u001b[39m\n",
       "\u001b[90m└──\u001b[39m       (bestdist = dist)\u001b[90m::Any\u001b[39m\n",
       "\u001b[90m4 ┄\u001b[39m       (@_4 = Base.iterate(%4, %11))\u001b[90m::Union{Nothing, Tuple{Real, Int64}}\u001b[39m\n",
       "\u001b[90m│  \u001b[39m %19 = (@_4 === nothing)\u001b[36m::Bool\u001b[39m\n",
       "\u001b[90m│  \u001b[39m %20 = Base.not_int(%19)\u001b[36m::Bool\u001b[39m\n",
       "\u001b[90m└──\u001b[39m       goto #6 if not %20\n",
       "\u001b[90m5 ─\u001b[39m       goto #2\n",
       "\u001b[90m6 ┄\u001b[39m       return bestval\n",
       ") => Real"
      ]
     },
     "execution_count": 19,
     "metadata": {},
     "output_type": "execute_result"
    }
   ],
   "source": [
    "@code_typed optimize=false findclosest2(newdata, 0.5)"
   ]
  },
  {
   "cell_type": "code",
   "execution_count": 20,
   "metadata": {},
   "outputs": [
    {
     "data": {
      "text/plain": [
       "BenchmarkTools.Trial: 10000 samples with 1 evaluation.\n",
       " Range \u001b[90m(\u001b[39m\u001b[36m\u001b[1mmin\u001b[22m\u001b[39m … \u001b[35mmax\u001b[39m\u001b[90m):  \u001b[39m\u001b[36m\u001b[1m142.000 μs\u001b[22m\u001b[39m … \u001b[35m  3.003 ms\u001b[39m  \u001b[90m┊\u001b[39m GC \u001b[90m(\u001b[39mmin … max\u001b[90m): \u001b[39m0.00% … 85.01%\n",
       " Time  \u001b[90m(\u001b[39m\u001b[34m\u001b[1mmedian\u001b[22m\u001b[39m\u001b[90m):     \u001b[39m\u001b[34m\u001b[1m403.900 μs               \u001b[22m\u001b[39m\u001b[90m┊\u001b[39m GC \u001b[90m(\u001b[39mmedian\u001b[90m):    \u001b[39m0.00%\n",
       " Time  \u001b[90m(\u001b[39m\u001b[32m\u001b[1mmean\u001b[22m\u001b[39m ± \u001b[32mσ\u001b[39m\u001b[90m):   \u001b[39m\u001b[32m\u001b[1m433.027 μs\u001b[22m\u001b[39m ± \u001b[32m163.739 μs\u001b[39m  \u001b[90m┊\u001b[39m GC \u001b[90m(\u001b[39mmean ± σ\u001b[90m):  \u001b[39m1.44% ±  4.75%\n",
       "\n",
       "  \u001b[39m▂\u001b[39m \u001b[39m \u001b[39m \u001b[39m \u001b[39m \u001b[39m \u001b[39m \u001b[39m \u001b[39m \u001b[39m \u001b[39m \u001b[39m \u001b[39m \u001b[39m▁\u001b[39m▂\u001b[39m▇\u001b[34m█\u001b[39m\u001b[39m▄\u001b[32m▃\u001b[39m\u001b[39m▃\u001b[39m▁\u001b[39m▂\u001b[39m▂\u001b[39m▁\u001b[39m \u001b[39m \u001b[39m \u001b[39m \u001b[39m \u001b[39m \u001b[39m \u001b[39m \u001b[39m \u001b[39m \u001b[39m \u001b[39m \u001b[39m \u001b[39m \u001b[39m \u001b[39m \u001b[39m \u001b[39m \u001b[39m \u001b[39m \u001b[39m \u001b[39m \u001b[39m \u001b[39m \u001b[39m \u001b[39m \u001b[39m \u001b[39m \u001b[39m \u001b[39m \u001b[39m \u001b[39m \u001b[39m \u001b[39m \u001b[39m \u001b[39m \u001b[39m \u001b[39m▁\n",
       "  \u001b[39m█\u001b[39m▇\u001b[39m▆\u001b[39m▆\u001b[39m▆\u001b[39m▆\u001b[39m█\u001b[39m█\u001b[39m█\u001b[39m█\u001b[39m█\u001b[39m▇\u001b[39m█\u001b[39m█\u001b[39m█\u001b[39m█\u001b[39m█\u001b[34m█\u001b[39m\u001b[39m█\u001b[32m█\u001b[39m\u001b[39m█\u001b[39m█\u001b[39m█\u001b[39m█\u001b[39m█\u001b[39m█\u001b[39m▇\u001b[39m█\u001b[39m▇\u001b[39m▇\u001b[39m█\u001b[39m▆\u001b[39m▆\u001b[39m▇\u001b[39m▆\u001b[39m▆\u001b[39m▆\u001b[39m▆\u001b[39m▇\u001b[39m▆\u001b[39m▆\u001b[39m▆\u001b[39m▆\u001b[39m▆\u001b[39m▆\u001b[39m▅\u001b[39m▆\u001b[39m▇\u001b[39m▇\u001b[39m▆\u001b[39m▅\u001b[39m▄\u001b[39m▅\u001b[39m▄\u001b[39m▅\u001b[39m▅\u001b[39m▅\u001b[39m▅\u001b[39m▄\u001b[39m▅\u001b[39m▅\u001b[39m \u001b[39m█\n",
       "  142 μs\u001b[90m        \u001b[39m\u001b[90mHistogram: \u001b[39m\u001b[90m\u001b[1mlog(\u001b[22m\u001b[39m\u001b[90mfrequency\u001b[39m\u001b[90m\u001b[1m)\u001b[22m\u001b[39m\u001b[90m by time\u001b[39m       1.07 ms \u001b[0m\u001b[1m<\u001b[22m\n",
       "\n",
       " Memory estimate\u001b[90m: \u001b[39m\u001b[33m156.28 KiB\u001b[39m, allocs estimate\u001b[90m: \u001b[39m\u001b[33m10002\u001b[39m."
      ]
     },
     "execution_count": 20,
     "metadata": {},
     "output_type": "execute_result"
    }
   ],
   "source": [
    "@benchmark findclosest2($newdata, $0.5)"
   ]
  },
  {
   "cell_type": "code",
   "execution_count": 21,
   "metadata": {},
   "outputs": [
    {
     "name": "stdout",
     "output_type": "stream",
     "text": [
      "MethodInstance for findclosest2(::Vector{Real}, ::Float64)\n",
      "  from findclosest2(data, point) in Main at In[7]:1\n",
      "Arguments\n",
      "  #self#\u001b[36m::Core.Const(findclosest2)\u001b[39m\n",
      "  data\u001b[36m::Vector{Real}\u001b[39m\n",
      "  point\u001b[36m::Float64\u001b[39m\n",
      "Locals\n",
      "  @_4\u001b[33m\u001b[1m::Union{Nothing, Tuple{Real, Int64}}\u001b[22m\u001b[39m\n",
      "  bestdist\u001b[91m\u001b[1m::Any\u001b[22m\u001b[39m\n",
      "  bestval\u001b[91m\u001b[1m::Real\u001b[22m\u001b[39m\n",
      "  elt\u001b[91m\u001b[1m::Real\u001b[22m\u001b[39m\n",
      "  dist\u001b[91m\u001b[1m::Any\u001b[22m\u001b[39m\n",
      "Body\u001b[91m\u001b[1m::Real\u001b[22m\u001b[39m\n",
      "\u001b[90m1 ─\u001b[39m       (bestval = Main.first(data))\n",
      "\u001b[90m│  \u001b[39m %2  = (bestval - point)\u001b[91m\u001b[1m::Any\u001b[22m\u001b[39m\n",
      "\u001b[90m│  \u001b[39m       (bestdist = Main.abs(%2))\n",
      "\u001b[90m│  \u001b[39m %4  = data\u001b[36m::Vector{Real}\u001b[39m\n",
      "\u001b[90m│  \u001b[39m       (@_4 = Base.iterate(%4))\n",
      "\u001b[90m│  \u001b[39m %6  = (@_4 === nothing)\u001b[36m::Bool\u001b[39m\n",
      "\u001b[90m│  \u001b[39m %7  = Base.not_int(%6)\u001b[36m::Bool\u001b[39m\n",
      "\u001b[90m└──\u001b[39m       goto #6 if not %7\n",
      "\u001b[90m2 ┄\u001b[39m %9  = @_4\u001b[91m\u001b[1m::Tuple{Real, Int64}\u001b[22m\u001b[39m\n",
      "\u001b[90m│  \u001b[39m       (elt = Core.getfield(%9, 1))\n",
      "\u001b[90m│  \u001b[39m %11 = Core.getfield(%9, 2)\u001b[36m::Int64\u001b[39m\n",
      "\u001b[90m│  \u001b[39m %12 = (elt - point)\u001b[91m\u001b[1m::Any\u001b[22m\u001b[39m\n",
      "\u001b[90m│  \u001b[39m       (dist = Main.abs(%12))\n",
      "\u001b[90m│  \u001b[39m %14 = (dist < bestdist)\u001b[91m\u001b[1m::Any\u001b[22m\u001b[39m\n",
      "\u001b[90m└──\u001b[39m       goto #4 if not %14\n",
      "\u001b[90m3 ─\u001b[39m       (bestval = elt)\n",
      "\u001b[90m└──\u001b[39m       (bestdist = dist)\n",
      "\u001b[90m4 ┄\u001b[39m       (@_4 = Base.iterate(%4, %11))\n",
      "\u001b[90m│  \u001b[39m %19 = (@_4 === nothing)\u001b[36m::Bool\u001b[39m\n",
      "\u001b[90m│  \u001b[39m %20 = Base.not_int(%19)\u001b[36m::Bool\u001b[39m\n",
      "\u001b[90m└──\u001b[39m       goto #6 if not %20\n",
      "\u001b[90m5 ─\u001b[39m       goto #2\n",
      "\u001b[90m6 ┄\u001b[39m       return bestval\n",
      "\n"
     ]
    }
   ],
   "source": [
    "@code_warntype findclosest2(newdata, 0.5)"
   ]
  },
  {
   "cell_type": "code",
   "execution_count": 22,
   "metadata": {},
   "outputs": [
    {
     "name": "stdout",
     "output_type": "stream",
     "text": [
      "MethodInstance for findclosest2(::Vector{Float64}, ::Float64)\n",
      "  from findclosest2(data, point) in Main at In[7]:1\n",
      "Arguments\n",
      "  #self#\u001b[36m::Core.Const(findclosest2)\u001b[39m\n",
      "  data\u001b[36m::Vector{Float64}\u001b[39m\n",
      "  point\u001b[36m::Float64\u001b[39m\n",
      "Locals\n",
      "  @_4\u001b[33m\u001b[1m::Union{Nothing, Tuple{Float64, Int64}}\u001b[22m\u001b[39m\n",
      "  bestdist\u001b[36m::Float64\u001b[39m\n",
      "  bestval\u001b[36m::Float64\u001b[39m\n",
      "  elt\u001b[36m::Float64\u001b[39m\n",
      "  dist\u001b[36m::Float64\u001b[39m\n",
      "Body\u001b[36m::Float64\u001b[39m\n",
      "\u001b[90m1 ─\u001b[39m       (bestval = Main.first(data))\n",
      "\u001b[90m│  \u001b[39m %2  = (bestval - point)\u001b[36m::Float64\u001b[39m\n",
      "\u001b[90m│  \u001b[39m       (bestdist = Main.abs(%2))\n",
      "\u001b[90m│  \u001b[39m %4  = data\u001b[36m::Vector{Float64}\u001b[39m\n",
      "\u001b[90m│  \u001b[39m       (@_4 = Base.iterate(%4))\n",
      "\u001b[90m│  \u001b[39m %6  = (@_4 === nothing)\u001b[36m::Bool\u001b[39m\n",
      "\u001b[90m│  \u001b[39m %7  = Base.not_int(%6)\u001b[36m::Bool\u001b[39m\n",
      "\u001b[90m└──\u001b[39m       goto #6 if not %7\n",
      "\u001b[90m2 ┄\u001b[39m %9  = @_4\u001b[36m::Tuple{Float64, Int64}\u001b[39m\n",
      "\u001b[90m│  \u001b[39m       (elt = Core.getfield(%9, 1))\n",
      "\u001b[90m│  \u001b[39m %11 = Core.getfield(%9, 2)\u001b[36m::Int64\u001b[39m\n",
      "\u001b[90m│  \u001b[39m %12 = (elt - point)\u001b[36m::Float64\u001b[39m\n",
      "\u001b[90m│  \u001b[39m       (dist = Main.abs(%12))\n",
      "\u001b[90m│  \u001b[39m %14 = (dist < bestdist)\u001b[36m::Bool\u001b[39m\n",
      "\u001b[90m└──\u001b[39m       goto #4 if not %14\n",
      "\u001b[90m3 ─\u001b[39m       (bestval = elt)\n",
      "\u001b[90m└──\u001b[39m       (bestdist = dist)\n",
      "\u001b[90m4 ┄\u001b[39m       (@_4 = Base.iterate(%4, %11))\n",
      "\u001b[90m│  \u001b[39m %19 = (@_4 === nothing)\u001b[36m::Bool\u001b[39m\n",
      "\u001b[90m│  \u001b[39m %20 = Base.not_int(%19)\u001b[36m::Bool\u001b[39m\n",
      "\u001b[90m└──\u001b[39m       goto #6 if not %20\n",
      "\u001b[90m5 ─\u001b[39m       goto #2\n",
      "\u001b[90m6 ┄\u001b[39m       return bestval\n",
      "\n"
     ]
    }
   ],
   "source": [
    "@code_warntype findclosest2(data, 0.5)"
   ]
  },
  {
   "cell_type": "markdown",
   "metadata": {},
   "source": [
    "### Tipo de estabilidad\n",
    "\n",
    "Una función se denomina de tipo estable si Julia puede inferir cuál será el tipo de salida basándose únicamente en los tipos de las entradas.\n",
    "\n",
    "Cosas que frustran la estabilidad del tipo:\n",
    "\n",
    "* Ejecutar cosas en el ámbito global: ¡cree funciones en su lugar!\n",
    "* Contenedores de un tipo no concreto\n",
    "* Estructuras con campos de tipo abstracto\n",
    "* Globales no constantes (¡podrían cambiar!)\n",
    "* Funciones que cambian lo que devuelven en función de los _valores_ :"
   ]
  },
  {
   "cell_type": "markdown",
   "metadata": {},
   "source": [
    "#### Más sobre macros\n",
    "Todas y cada una de las macros pueden definir su propia sintaxis. La macro `@benchmark` usa `$` de una manera especial. El objetivo detrás de `@benchmark` es evaluar el rendimiento de un fragmento de código como si estuviera escrito en una función. Use `$` para marcar lo que será un argumento o una variable local en la función. Olvidarse de usar `$` puede resultar en tiempos más rápidos o más lentos que el rendimiento del mundo real."
   ]
  },
  {
   "cell_type": "code",
   "execution_count": 23,
   "metadata": {},
   "outputs": [
    {
     "name": "stdout",
     "output_type": "stream",
     "text": [
      "  18.908 ns (1 allocation: 16 bytes)\n",
      "  3.103 ns (0 allocations: 0 bytes)\n"
     ]
    },
    {
     "data": {
      "text/plain": [
       "0.479425538604203"
      ]
     },
     "execution_count": 23,
     "metadata": {},
     "output_type": "execute_result"
    }
   ],
   "source": [
    "x = 0.5 # non-constant global\n",
    "@btime sin(x)\n",
    "@btime sin($x)"
   ]
  },
  {
   "cell_type": "code",
   "execution_count": 24,
   "metadata": {},
   "outputs": [
    {
     "name": "stdout",
     "output_type": "stream",
     "text": [
      "  0.900 ns (0 allocations: 0 bytes)\n",
      "  3.700 ns (0 allocations: 0 bytes)\n"
     ]
    },
    {
     "data": {
      "text/plain": [
       "0.479425538604203"
      ]
     },
     "execution_count": 24,
     "metadata": {},
     "output_type": "execute_result"
    }
   ],
   "source": [
    "@btime sin(0.5) # constant literal!\n",
    "@btime sin($0.5)"
   ]
  },
  {
   "cell_type": "code",
   "execution_count": 25,
   "metadata": {},
   "outputs": [
    {
     "data": {
      "text/plain": [
       "f (generic function with 1 method)"
      ]
     },
     "execution_count": 25,
     "metadata": {},
     "output_type": "execute_result"
    }
   ],
   "source": [
    "x=1\n",
    "f()=sin(x)"
   ]
  },
  {
   "cell_type": "code",
   "execution_count": 26,
   "metadata": {},
   "outputs": [
    {
     "name": "stdout",
     "output_type": "stream",
     "text": [
      "  21.988 ns (1 allocation: 16 bytes)\n"
     ]
    },
    {
     "data": {
      "text/plain": [
       "0.8414709848078965"
      ]
     },
     "execution_count": 26,
     "metadata": {},
     "output_type": "execute_result"
    }
   ],
   "source": [
    "@btime f()"
   ]
  },
  {
   "cell_type": "code",
   "execution_count": 27,
   "metadata": {},
   "outputs": [
    {
     "data": {
      "text/plain": [
       "g (generic function with 1 method)"
      ]
     },
     "execution_count": 27,
     "metadata": {},
     "output_type": "execute_result"
    }
   ],
   "source": [
    "g(x)=sin(x)"
   ]
  },
  {
   "cell_type": "code",
   "execution_count": 28,
   "metadata": {},
   "outputs": [
    {
     "name": "stdout",
     "output_type": "stream",
     "text": [
      "  0.001 ns (0 allocations: 0 bytes)\n"
     ]
    },
    {
     "data": {
      "text/plain": [
       "-0.87969575997167"
      ]
     },
     "execution_count": 28,
     "metadata": {},
     "output_type": "execute_result"
    }
   ],
   "source": [
    "@btime g(10.5)"
   ]
  },
  {
   "cell_type": "code",
   "execution_count": 29,
   "metadata": {},
   "outputs": [
    {
     "name": "stdout",
     "output_type": "stream",
     "text": [
      "  6.300 ns (0 allocations: 0 bytes)\n"
     ]
    },
    {
     "data": {
      "text/plain": [
       "-0.87969575997167"
      ]
     },
     "execution_count": 29,
     "metadata": {},
     "output_type": "execute_result"
    }
   ],
   "source": [
    "t=10.5\n",
    "@btime g($t)"
   ]
  },
  {
   "cell_type": "markdown",
   "metadata": {},
   "source": [
    "## Especializaciones\n",
    "\n",
    "El razonamiento de Julia sobre los tipos es particularmente importante ya que genera código de máquina especializado específicamente para los argumentos dados."
   ]
  },
  {
   "cell_type": "code",
   "execution_count": 30,
   "metadata": {},
   "outputs": [
    {
     "name": "stdout",
     "output_type": "stream",
     "text": [
      "\u001b[90m;  @ int.jl:87 within `+`\u001b[39m\n",
      "\u001b[90m; Function Attrs: uwtable\u001b[39m\n",
      "\u001b[95mdefine\u001b[39m \u001b[36mi64\u001b[39m \u001b[93m@\"julia_+_3361\"\u001b[39m\u001b[33m(\u001b[39m\u001b[36mi64\u001b[39m \u001b[95msignext\u001b[39m \u001b[0m%0\u001b[0m, \u001b[36mi64\u001b[39m \u001b[95msignext\u001b[39m \u001b[0m%1\u001b[33m)\u001b[39m \u001b[0m#0 \u001b[33m{\u001b[39m\n",
      "\u001b[91mtop:\u001b[39m\n",
      "  \u001b[0m%2 \u001b[0m= \u001b[96m\u001b[1madd\u001b[22m\u001b[39m \u001b[36mi64\u001b[39m \u001b[0m%1\u001b[0m, \u001b[0m%0\n",
      "  \u001b[96m\u001b[1mret\u001b[22m\u001b[39m \u001b[36mi64\u001b[39m \u001b[0m%2\n",
      "\u001b[33m}\u001b[39m\n"
     ]
    }
   ],
   "source": [
    "@code_llvm 1 + 2"
   ]
  },
  {
   "cell_type": "markdown",
   "metadata": {},
   "source": [
    "Esto se aplica de la misma manera a cualquier función que escribamos, incluso a las más complicadas:"
   ]
  },
  {
   "cell_type": "code",
   "execution_count": 31,
   "metadata": {
    "scrolled": true
   },
   "outputs": [
    {
     "name": "stdout",
     "output_type": "stream",
     "text": [
      "\u001b[90m;  @ In[7]:1 within `findclosest2`\u001b[39m\n",
      "\u001b[90m; Function Attrs: uwtable\u001b[39m\n",
      "\u001b[95mdefine\u001b[39m \u001b[36mfloat\u001b[39m \u001b[93m@julia_findclosest2_3382\u001b[39m\u001b[33m(\u001b[39m\u001b[33m{\u001b[39m\u001b[33m}\u001b[39m\u001b[0m* \u001b[95mnonnull\u001b[39m \u001b[95malign\u001b[39m \u001b[33m16\u001b[39m \u001b[95mdereferenceable\u001b[39m\u001b[33m(\u001b[39m\u001b[33m40\u001b[39m\u001b[33m)\u001b[39m \u001b[0m%0\u001b[0m, \u001b[36mfloat\u001b[39m \u001b[0m%1\u001b[33m)\u001b[39m \u001b[0m#0 \u001b[33m{\u001b[39m\n",
      "\u001b[91mtop:\u001b[39m\n",
      "\u001b[90m;  @ In[7]:2 within `findclosest2`\u001b[39m\n",
      "\u001b[90m; ┌ @ abstractarray.jl:398 within `first`\u001b[39m\n",
      "\u001b[90m; │┌ @ array.jl:861 within `getindex`\u001b[39m\n",
      "    \u001b[0m%2 \u001b[0m= \u001b[96m\u001b[1mbitcast\u001b[22m\u001b[39m \u001b[33m{\u001b[39m\u001b[33m}\u001b[39m\u001b[0m* \u001b[0m%0 \u001b[95mto\u001b[39m \u001b[33m{\u001b[39m \u001b[36mi8\u001b[39m\u001b[0m*\u001b[0m, \u001b[36mi64\u001b[39m\u001b[0m, \u001b[36mi16\u001b[39m\u001b[0m, \u001b[36mi16\u001b[39m\u001b[0m, \u001b[36mi32\u001b[39m \u001b[33m}\u001b[39m\u001b[0m*\n",
      "    \u001b[0m%3 \u001b[0m= \u001b[96m\u001b[1mgetelementptr\u001b[22m\u001b[39m \u001b[95minbounds\u001b[39m \u001b[33m{\u001b[39m \u001b[36mi8\u001b[39m\u001b[0m*\u001b[0m, \u001b[36mi64\u001b[39m\u001b[0m, \u001b[36mi16\u001b[39m\u001b[0m, \u001b[36mi16\u001b[39m\u001b[0m, \u001b[36mi32\u001b[39m \u001b[33m}\u001b[39m\u001b[0m, \u001b[33m{\u001b[39m \u001b[36mi8\u001b[39m\u001b[0m*\u001b[0m, \u001b[36mi64\u001b[39m\u001b[0m, \u001b[36mi16\u001b[39m\u001b[0m, \u001b[36mi16\u001b[39m\u001b[0m, \u001b[36mi32\u001b[39m \u001b[33m}\u001b[39m\u001b[0m* \u001b[0m%2\u001b[0m, \u001b[36mi64\u001b[39m \u001b[33m0\u001b[39m\u001b[0m, \u001b[36mi32\u001b[39m \u001b[33m1\u001b[39m\n",
      "    \u001b[0m%4 \u001b[0m= \u001b[96m\u001b[1mload\u001b[22m\u001b[39m \u001b[36mi64\u001b[39m\u001b[0m, \u001b[36mi64\u001b[39m\u001b[0m* \u001b[0m%3\u001b[0m, \u001b[95malign\u001b[39m \u001b[33m8\u001b[39m\n",
      "    \u001b[0m%.not \u001b[0m= \u001b[96m\u001b[1micmp\u001b[22m\u001b[39m \u001b[96m\u001b[1meq\u001b[22m\u001b[39m \u001b[36mi64\u001b[39m \u001b[0m%4\u001b[0m, \u001b[33m0\u001b[39m\n",
      "    \u001b[96m\u001b[1mbr\u001b[22m\u001b[39m \u001b[36mi1\u001b[39m \u001b[0m%.not\u001b[0m, \u001b[36mlabel\u001b[39m \u001b[91m%oob\u001b[39m\u001b[0m, \u001b[36mlabel\u001b[39m \u001b[91m%L22\u001b[39m\n",
      "\n",
      "\u001b[91mL22:\u001b[39m                                              \u001b[90m; preds = %top\u001b[39m\n",
      "    \u001b[0m%5 \u001b[0m= \u001b[96m\u001b[1mbitcast\u001b[22m\u001b[39m \u001b[33m{\u001b[39m\u001b[33m}\u001b[39m\u001b[0m* \u001b[0m%0 \u001b[95mto\u001b[39m \u001b[36mfloat\u001b[39m\u001b[0m**\n",
      "    \u001b[0m%6 \u001b[0m= \u001b[96m\u001b[1mload\u001b[22m\u001b[39m \u001b[36mfloat\u001b[39m\u001b[0m*\u001b[0m, \u001b[36mfloat\u001b[39m\u001b[0m** \u001b[0m%5\u001b[0m, \u001b[95malign\u001b[39m \u001b[33m8\u001b[39m\n",
      "    \u001b[0m%7 \u001b[0m= \u001b[96m\u001b[1mload\u001b[22m\u001b[39m \u001b[36mfloat\u001b[39m\u001b[0m, \u001b[36mfloat\u001b[39m\u001b[0m* \u001b[0m%6\u001b[0m, \u001b[95malign\u001b[39m \u001b[33m4\u001b[39m\n",
      "\u001b[90m; └└\u001b[39m\n",
      "\u001b[90m;  @ In[7]:8 within `findclosest2`\u001b[39m\n",
      "\u001b[90m; ┌ @ array.jl:835 within `iterate`\u001b[39m\n",
      "\u001b[90m; │┌ @ int.jl:483 within `<` @ int.jl:476\u001b[39m\n",
      "    \u001b[0m%.not1823.not \u001b[0m= \u001b[96m\u001b[1micmp\u001b[22m\u001b[39m \u001b[96m\u001b[1meq\u001b[22m\u001b[39m \u001b[36mi64\u001b[39m \u001b[0m%4\u001b[0m, \u001b[33m1\u001b[39m\n",
      "\u001b[90m; │└\u001b[39m\n",
      "   \u001b[96m\u001b[1mbr\u001b[22m\u001b[39m \u001b[36mi1\u001b[39m \u001b[0m%.not1823.not\u001b[0m, \u001b[36mlabel\u001b[39m \u001b[91m%L54\u001b[39m\u001b[0m, \u001b[36mlabel\u001b[39m \u001b[91m%L48.preheader\u001b[39m\n",
      "\n",
      "\u001b[91mL48.preheader:\u001b[39m                                    \u001b[90m; preds = %L22\u001b[39m\n",
      "\u001b[90m; └\u001b[39m\n",
      "\u001b[90m;  @ In[7]:3 within `findclosest2`\u001b[39m\n",
      "\u001b[90m; ┌ @ float.jl:401 within `-`\u001b[39m\n",
      "   \u001b[0m%8 \u001b[0m= \u001b[96m\u001b[1mfsub\u001b[22m\u001b[39m \u001b[36mfloat\u001b[39m \u001b[0m%7\u001b[0m, \u001b[0m%1\n",
      "\u001b[90m; └\u001b[39m\n",
      "\u001b[90m; ┌ @ float.jl:523 within `abs`\u001b[39m\n",
      "   \u001b[0m%9 \u001b[0m= \u001b[96m\u001b[1mcall\u001b[22m\u001b[39m \u001b[36mfloat\u001b[39m \u001b[93m@llvm.fabs.f32\u001b[39m\u001b[33m(\u001b[39m\u001b[36mfloat\u001b[39m \u001b[0m%8\u001b[33m)\u001b[39m\n",
      "\u001b[90m; └\u001b[39m\n",
      "\u001b[90m;  @ In[7]:8 within `findclosest2`\u001b[39m\n",
      "\u001b[90m; ┌ @ array.jl:835 within `iterate`\u001b[39m\n",
      "   \u001b[96m\u001b[1mbr\u001b[22m\u001b[39m \u001b[36mlabel\u001b[39m \u001b[91m%L48\u001b[39m\n",
      "\n",
      "\u001b[91mL48:\u001b[39m                                              \u001b[90m; preds = %L48, %L48.preheader\u001b[39m\n",
      "   \u001b[0m%10 \u001b[0m= \u001b[96m\u001b[1mphi\u001b[22m\u001b[39m \u001b[36mi64\u001b[39m \u001b[33m[\u001b[39m \u001b[0m%value_phi424\u001b[0m, \u001b[91m%L48\u001b[39m \u001b[33m]\u001b[39m\u001b[0m, \u001b[33m[\u001b[39m \u001b[33m1\u001b[39m\u001b[0m, \u001b[91m%L48.preheader\u001b[39m \u001b[33m]\u001b[39m\n",
      "   \u001b[0m%value_phi6.value_phi326 \u001b[0m= \u001b[96m\u001b[1mphi\u001b[22m\u001b[39m \u001b[36mfloat\u001b[39m \u001b[33m[\u001b[39m \u001b[0m%value_phi6.value_phi3\u001b[0m, \u001b[91m%L48\u001b[39m \u001b[33m]\u001b[39m\u001b[0m, \u001b[33m[\u001b[39m \u001b[0m%7\u001b[0m, \u001b[91m%L48.preheader\u001b[39m \u001b[33m]\u001b[39m\n",
      "   \u001b[0m%value_phi5.25 \u001b[0m= \u001b[96m\u001b[1mphi\u001b[22m\u001b[39m \u001b[36mfloat\u001b[39m \u001b[33m[\u001b[39m \u001b[0m%value_phi5.\u001b[0m, \u001b[91m%L48\u001b[39m \u001b[33m]\u001b[39m\u001b[0m, \u001b[33m[\u001b[39m \u001b[0m%9\u001b[0m, \u001b[91m%L48.preheader\u001b[39m \u001b[33m]\u001b[39m\n",
      "   \u001b[0m%value_phi424 \u001b[0m= \u001b[96m\u001b[1mphi\u001b[22m\u001b[39m \u001b[36mi64\u001b[39m \u001b[33m[\u001b[39m \u001b[0m%13\u001b[0m, \u001b[91m%L48\u001b[39m \u001b[33m]\u001b[39m\u001b[0m, \u001b[33m[\u001b[39m \u001b[33m2\u001b[39m\u001b[0m, \u001b[91m%L48.preheader\u001b[39m \u001b[33m]\u001b[39m\n",
      "\u001b[90m; │┌ @ array.jl:861 within `getindex`\u001b[39m\n",
      "    \u001b[0m%11 \u001b[0m= \u001b[96m\u001b[1mgetelementptr\u001b[22m\u001b[39m \u001b[95minbounds\u001b[39m \u001b[36mfloat\u001b[39m\u001b[0m, \u001b[36mfloat\u001b[39m\u001b[0m* \u001b[0m%6\u001b[0m, \u001b[36mi64\u001b[39m \u001b[0m%10\n",
      "    \u001b[0m%12 \u001b[0m= \u001b[96m\u001b[1mload\u001b[22m\u001b[39m \u001b[36mfloat\u001b[39m\u001b[0m, \u001b[36mfloat\u001b[39m\u001b[0m* \u001b[0m%11\u001b[0m, \u001b[95malign\u001b[39m \u001b[33m4\u001b[39m\n",
      "\u001b[90m; │└\u001b[39m\n",
      "\u001b[90m; │┌ @ int.jl:87 within `+`\u001b[39m\n",
      "    \u001b[0m%13 \u001b[0m= \u001b[96m\u001b[1madd\u001b[22m\u001b[39m \u001b[95mnuw\u001b[39m \u001b[95mnsw\u001b[39m \u001b[36mi64\u001b[39m \u001b[0m%value_phi424\u001b[0m, \u001b[33m1\u001b[39m\n",
      "\u001b[90m; └└\u001b[39m\n",
      "\u001b[90m;  @ In[7]:5 within `findclosest2`\u001b[39m\n",
      "\u001b[90m; ┌ @ float.jl:401 within `-`\u001b[39m\n",
      "   \u001b[0m%14 \u001b[0m= \u001b[96m\u001b[1mfsub\u001b[22m\u001b[39m \u001b[36mfloat\u001b[39m \u001b[0m%12\u001b[0m, \u001b[0m%1\n",
      "\u001b[90m; └\u001b[39m\n",
      "\u001b[90m; ┌ @ float.jl:523 within `abs`\u001b[39m\n",
      "   \u001b[0m%15 \u001b[0m= \u001b[96m\u001b[1mcall\u001b[22m\u001b[39m \u001b[36mfloat\u001b[39m \u001b[93m@llvm.fabs.f32\u001b[39m\u001b[33m(\u001b[39m\u001b[36mfloat\u001b[39m \u001b[0m%14\u001b[33m)\u001b[39m\n",
      "\u001b[90m; └\u001b[39m\n",
      "\u001b[90m;  @ In[7]:6 within `findclosest2`\u001b[39m\n",
      "\u001b[90m; ┌ @ float.jl:443 within `<`\u001b[39m\n",
      "   \u001b[0m%16 \u001b[0m= \u001b[96m\u001b[1mfcmp\u001b[22m\u001b[39m \u001b[96m\u001b[1muge\u001b[22m\u001b[39m \u001b[36mfloat\u001b[39m \u001b[0m%15\u001b[0m, \u001b[0m%value_phi5.25\n",
      "\u001b[90m; └\u001b[39m\n",
      "\u001b[90m;  @ In[7]:4 within `findclosest2`\u001b[39m\n",
      "\u001b[90m; ┌ @ array.jl:835 within `iterate` @ array.jl:835\u001b[39m\n",
      "   \u001b[0m%value_phi5. \u001b[0m= \u001b[96m\u001b[1mselect\u001b[22m\u001b[39m \u001b[36mi1\u001b[39m \u001b[0m%16\u001b[0m, \u001b[36mfloat\u001b[39m \u001b[0m%value_phi5.25\u001b[0m, \u001b[36mfloat\u001b[39m \u001b[0m%15\n",
      "   \u001b[0m%value_phi6.value_phi3 \u001b[0m= \u001b[96m\u001b[1mselect\u001b[22m\u001b[39m \u001b[36mi1\u001b[39m \u001b[0m%16\u001b[0m, \u001b[36mfloat\u001b[39m \u001b[0m%value_phi6.value_phi326\u001b[0m, \u001b[36mfloat\u001b[39m \u001b[0m%12\n",
      "\u001b[90m; └\u001b[39m\n",
      "\u001b[90m;  @ In[7]:8 within `findclosest2`\u001b[39m\n",
      "\u001b[90m; ┌ @ array.jl:835 within `iterate`\u001b[39m\n",
      "\u001b[90m; │┌ @ int.jl:483 within `<` @ int.jl:476\u001b[39m\n",
      "    \u001b[0m%exitcond.not \u001b[0m= \u001b[96m\u001b[1micmp\u001b[22m\u001b[39m \u001b[96m\u001b[1meq\u001b[22m\u001b[39m \u001b[36mi64\u001b[39m \u001b[0m%value_phi424\u001b[0m, \u001b[0m%4\n",
      "\u001b[90m; │└\u001b[39m\n",
      "   \u001b[96m\u001b[1mbr\u001b[22m\u001b[39m \u001b[36mi1\u001b[39m \u001b[0m%exitcond.not\u001b[0m, \u001b[36mlabel\u001b[39m \u001b[91m%L54\u001b[39m\u001b[0m, \u001b[36mlabel\u001b[39m \u001b[91m%L48\u001b[39m\n",
      "\n",
      "\u001b[91mL54:\u001b[39m                                              \u001b[90m; preds = %L48, %L22\u001b[39m\n",
      "   \u001b[0m%value_phi12 \u001b[0m= \u001b[96m\u001b[1mphi\u001b[22m\u001b[39m \u001b[36mfloat\u001b[39m \u001b[33m[\u001b[39m \u001b[0m%7\u001b[0m, \u001b[91m%L22\u001b[39m \u001b[33m]\u001b[39m\u001b[0m, \u001b[33m[\u001b[39m \u001b[0m%value_phi6.value_phi3\u001b[0m, \u001b[91m%L48\u001b[39m \u001b[33m]\u001b[39m\n",
      "\u001b[90m; └\u001b[39m\n",
      "\u001b[90m;  @ In[7]:11 within `findclosest2`\u001b[39m\n",
      "  \u001b[96m\u001b[1mret\u001b[22m\u001b[39m \u001b[36mfloat\u001b[39m \u001b[0m%value_phi12\n",
      "\n",
      "\u001b[91moob:\u001b[39m                                              \u001b[90m; preds = %top\u001b[39m\n",
      "\u001b[90m;  @ In[7]:2 within `findclosest2`\u001b[39m\n",
      "\u001b[90m; ┌ @ abstractarray.jl:398 within `first`\u001b[39m\n",
      "\u001b[90m; │┌ @ array.jl:861 within `getindex`\u001b[39m\n",
      "    \u001b[0m%17 \u001b[0m= \u001b[96m\u001b[1malloca\u001b[22m\u001b[39m \u001b[36mi64\u001b[39m\u001b[0m, \u001b[95malign\u001b[39m \u001b[33m8\u001b[39m\n",
      "    \u001b[96m\u001b[1mstore\u001b[22m\u001b[39m \u001b[36mi64\u001b[39m \u001b[33m1\u001b[39m\u001b[0m, \u001b[36mi64\u001b[39m\u001b[0m* \u001b[0m%17\u001b[0m, \u001b[95malign\u001b[39m \u001b[33m8\u001b[39m\n",
      "    \u001b[96m\u001b[1mcall\u001b[22m\u001b[39m \u001b[36mvoid\u001b[39m \u001b[93m@jl_bounds_error_ints\u001b[39m\u001b[33m(\u001b[39m\u001b[33m{\u001b[39m\u001b[33m}\u001b[39m\u001b[0m* \u001b[0m%0\u001b[0m, \u001b[36mi64\u001b[39m\u001b[0m* \u001b[95mnonnull\u001b[39m \u001b[0m%17\u001b[0m, \u001b[36mi64\u001b[39m \u001b[33m1\u001b[39m\u001b[33m)\u001b[39m\n",
      "    \u001b[96m\u001b[1munreachable\u001b[22m\u001b[39m\n",
      "\u001b[90m; └└\u001b[39m\n",
      "\u001b[33m}\u001b[39m\n"
     ]
    }
   ],
   "source": [
    "@code_llvm findclosest2(Float32[2.2,3.4,4.5],Float32(3.2))"
   ]
  },
  {
   "cell_type": "code",
   "execution_count": 32,
   "metadata": {
    "scrolled": true
   },
   "outputs": [
    {
     "name": "stdout",
     "output_type": "stream",
     "text": [
      "define float @julia_findclosest2_3390({}* nonnull align 16 dereferenceable(40) %0, i64 signext %1) #0 {\n",
      "top:\n",
      "    %2 = bitcast {}* %0 to { i8*, i64, i16, i16, i32 }*\n",
      "    %3 = getelementptr inbounds { i8*, i64, i16, i16, i32 }, { i8*, i64, i16, i16, i32 }* %2, i64 0, i32 1\n",
      "    %4 = load i64, i64* %3, align 8\n",
      "    %.not = icmp eq i64 %4, 0\n",
      "    br i1 %.not, label %oob, label %L23\n",
      "\n",
      "L23:                                              ; preds = %top\n",
      "    %5 = bitcast {}* %0 to float**\n",
      "    %6 = load float*, float** %5, align 8\n",
      "    %7 = load float, float* %6, align 4\n",
      "       %8 = sitofp i64 %1 to float\n",
      "    %.not1823.not = icmp eq i64 %4, 1\n",
      "   br i1 %.not1823.not, label %L56, label %L50.preheader\n",
      "\n",
      "L50.preheader:                                    ; preds = %L23\n",
      "   %9 = fsub float %7, %8\n",
      "   %10 = call float @llvm.fabs.f32(float %9)\n",
      "   br label %L50\n",
      "\n",
      "L50:                                              ; preds = %L50, %L50.preheader\n",
      "   %11 = phi i64 [ %value_phi424, %L50 ], [ 1, %L50.preheader ]\n",
      "   %value_phi6.value_phi326 = phi float [ %value_phi6.value_phi3, %L50 ], [ %7, %L50.preheader ]\n",
      "   %value_phi5.25 = phi float [ %value_phi5., %L50 ], [ %10, %L50.preheader ]\n",
      "   %value_phi424 = phi i64 [ %14, %L50 ], [ 2, %L50.preheader ]\n",
      "    %12 = getelementptr inbounds float, float* %6, i64 %11\n",
      "    %13 = load float, float* %12, align 4\n",
      "    %14 = add nuw nsw i64 %value_phi424, 1\n",
      "   %15 = fsub float %13, %8\n",
      "   %16 = call float @llvm.fabs.f32(float %15)\n",
      "   %17 = fcmp uge float %16, %value_phi5.25\n",
      "   %value_phi5. = select i1 %17, float %value_phi5.25, float %16\n",
      "   %value_phi6.value_phi3 = select i1 %17, float %value_phi6.value_phi326, float %13\n",
      "    %exitcond.not = icmp eq i64 %value_phi424, %4\n",
      "   br i1 %exitcond.not, label %L56, label %L50\n",
      "\n",
      "L56:                                              ; preds = %L50, %L23\n",
      "   %value_phi12 = phi float [ %7, %L23 ], [ %value_phi6.value_phi3, %L50 ]\n",
      "  ret float %value_phi12\n",
      "\n",
      "oob:                                              ; preds = %top\n",
      "    %18 = alloca i64, align 8\n",
      "    store i64 1, i64* %18, align 8\n",
      "    call void @jl_bounds_error_ints({}* %0, i64* nonnull %18, i64 1)\n",
      "    unreachable\n",
      "}\n"
     ]
    }
   ],
   "source": [
    "remove_comments(s) = join(filter(x->!startswith(x, \";\"), split(s, \"\\n\")), \"\\n\")\n",
    "sprint(code_llvm, findclosest2, Tuple{Vector{Float32}, Int}) |> remove_comments |> print"
   ]
  },
  {
   "cell_type": "markdown",
   "metadata": {},
   "source": [
    "## Efectos de hardware modernos\n",
    "\n",
    "Hay muchas pequeñas peculiaridades de rendimiento en las computadoras modernas; Solo cubriré dos interesantes aquí:"
   ]
  },
  {
   "cell_type": "code",
   "execution_count": 33,
   "metadata": {},
   "outputs": [
    {
     "data": {
      "text/plain": [
       "BenchmarkTools.Trial: 10000 samples with 4 evaluations.\n",
       " Range \u001b[90m(\u001b[39m\u001b[36m\u001b[1mmin\u001b[22m\u001b[39m … \u001b[35mmax\u001b[39m\u001b[90m):  \u001b[39m\u001b[36m\u001b[1m 6.925 μs\u001b[22m\u001b[39m … \u001b[35m351.775 μs\u001b[39m  \u001b[90m┊\u001b[39m GC \u001b[90m(\u001b[39mmin … max\u001b[90m): \u001b[39m0.00% … 0.00%\n",
       " Time  \u001b[90m(\u001b[39m\u001b[34m\u001b[1mmedian\u001b[22m\u001b[39m\u001b[90m):     \u001b[39m\u001b[34m\u001b[1m16.550 μs               \u001b[22m\u001b[39m\u001b[90m┊\u001b[39m GC \u001b[90m(\u001b[39mmedian\u001b[90m):    \u001b[39m0.00%\n",
       " Time  \u001b[90m(\u001b[39m\u001b[32m\u001b[1mmean\u001b[22m\u001b[39m ± \u001b[32mσ\u001b[39m\u001b[90m):   \u001b[39m\u001b[32m\u001b[1m15.959 μs\u001b[22m\u001b[39m ± \u001b[32m  5.341 μs\u001b[39m  \u001b[90m┊\u001b[39m GC \u001b[90m(\u001b[39mmean ± σ\u001b[90m):  \u001b[39m0.00% ± 0.00%\n",
       "\n",
       "  \u001b[39m \u001b[39m▂\u001b[39m▂\u001b[39m \u001b[39m \u001b[39m▁\u001b[39m \u001b[39m▂\u001b[39m \u001b[39m \u001b[39m \u001b[39m \u001b[39m \u001b[39m \u001b[39m \u001b[39m \u001b[39m \u001b[39m \u001b[39m \u001b[39m \u001b[39m \u001b[39m \u001b[39m \u001b[39m \u001b[39m \u001b[39m \u001b[39m \u001b[39m \u001b[39m \u001b[39m \u001b[39m \u001b[39m \u001b[39m \u001b[39m \u001b[39m \u001b[39m \u001b[39m \u001b[39m \u001b[39m \u001b[39m \u001b[32m▁\u001b[39m\u001b[39m \u001b[39m█\u001b[34m▇\u001b[39m\u001b[39m▂\u001b[39m \u001b[39m▂\u001b[39m▄\u001b[39m \u001b[39m \u001b[39m \u001b[39m \u001b[39m \u001b[39m \u001b[39m \u001b[39m \u001b[39m \u001b[39m \u001b[39m \u001b[39m \u001b[39m \u001b[39m▁\n",
       "  \u001b[39m▆\u001b[39m█\u001b[39m█\u001b[39m█\u001b[39m█\u001b[39m█\u001b[39m█\u001b[39m█\u001b[39m█\u001b[39m▇\u001b[39m▇\u001b[39m▇\u001b[39m▇\u001b[39m▆\u001b[39m▇\u001b[39m█\u001b[39m▇\u001b[39m▆\u001b[39m▅\u001b[39m▅\u001b[39m▆\u001b[39m▅\u001b[39m▅\u001b[39m▅\u001b[39m▅\u001b[39m▅\u001b[39m▅\u001b[39m▆\u001b[39m▅\u001b[39m▄\u001b[39m▄\u001b[39m▄\u001b[39m▄\u001b[39m▅\u001b[39m▅\u001b[39m▆\u001b[39m▆\u001b[39m▆\u001b[39m▇\u001b[39m█\u001b[32m█\u001b[39m\u001b[39m▇\u001b[39m█\u001b[34m█\u001b[39m\u001b[39m█\u001b[39m▇\u001b[39m█\u001b[39m█\u001b[39m█\u001b[39m▇\u001b[39m▇\u001b[39m▆\u001b[39m▆\u001b[39m▅\u001b[39m▅\u001b[39m▄\u001b[39m▅\u001b[39m▃\u001b[39m▅\u001b[39m▄\u001b[39m \u001b[39m█\n",
       "  6.92 μs\u001b[90m       \u001b[39m\u001b[90mHistogram: \u001b[39m\u001b[90m\u001b[1mlog(\u001b[22m\u001b[39m\u001b[90mfrequency\u001b[39m\u001b[90m\u001b[1m)\u001b[22m\u001b[39m\u001b[90m by time\u001b[39m      20.4 μs \u001b[0m\u001b[1m<\u001b[22m\n",
       "\n",
       " Memory estimate\u001b[90m: \u001b[39m\u001b[33m0 bytes\u001b[39m, allocs estimate\u001b[90m: \u001b[39m\u001b[33m0\u001b[39m."
      ]
     },
     "execution_count": 33,
     "metadata": {},
     "output_type": "execute_result"
    }
   ],
   "source": [
    "@benchmark findclosest2($data, $0.5)"
   ]
  },
  {
   "cell_type": "code",
   "execution_count": 34,
   "metadata": {},
   "outputs": [
    {
     "data": {
      "text/plain": [
       "BenchmarkTools.Trial: 10000 samples with 4 evaluations.\n",
       " Range \u001b[90m(\u001b[39m\u001b[36m\u001b[1mmin\u001b[22m\u001b[39m … \u001b[35mmax\u001b[39m\u001b[90m):  \u001b[39m\u001b[36m\u001b[1m 6.850 μs\u001b[22m\u001b[39m … \u001b[35m213.850 μs\u001b[39m  \u001b[90m┊\u001b[39m GC \u001b[90m(\u001b[39mmin … max\u001b[90m): \u001b[39m0.00% … 0.00%\n",
       " Time  \u001b[90m(\u001b[39m\u001b[34m\u001b[1mmedian\u001b[22m\u001b[39m\u001b[90m):     \u001b[39m\u001b[34m\u001b[1m16.550 μs               \u001b[22m\u001b[39m\u001b[90m┊\u001b[39m GC \u001b[90m(\u001b[39mmedian\u001b[90m):    \u001b[39m0.00%\n",
       " Time  \u001b[90m(\u001b[39m\u001b[32m\u001b[1mmean\u001b[22m\u001b[39m ± \u001b[32mσ\u001b[39m\u001b[90m):   \u001b[39m\u001b[32m\u001b[1m15.640 μs\u001b[22m\u001b[39m ± \u001b[32m  4.504 μs\u001b[39m  \u001b[90m┊\u001b[39m GC \u001b[90m(\u001b[39mmean ± σ\u001b[90m):  \u001b[39m0.00% ± 0.00%\n",
       "\n",
       "  \u001b[39m \u001b[39m▂\u001b[39m▂\u001b[39m▁\u001b[39m▂\u001b[39m▁\u001b[39m▂\u001b[39m▂\u001b[39m \u001b[39m \u001b[39m \u001b[39m \u001b[39m \u001b[39m \u001b[39m \u001b[39m \u001b[39m \u001b[39m \u001b[39m \u001b[39m \u001b[39m \u001b[39m \u001b[39m \u001b[39m \u001b[39m \u001b[39m \u001b[39m \u001b[39m \u001b[39m \u001b[39m \u001b[39m \u001b[39m \u001b[39m \u001b[39m \u001b[39m \u001b[39m \u001b[32m \u001b[39m\u001b[39m▁\u001b[39m▂\u001b[39m█\u001b[34m▇\u001b[39m\u001b[39m▂\u001b[39m▁\u001b[39m▄\u001b[39m▃\u001b[39m▁\u001b[39m \u001b[39m \u001b[39m \u001b[39m \u001b[39m \u001b[39m \u001b[39m \u001b[39m \u001b[39m \u001b[39m \u001b[39m \u001b[39m \u001b[39m \u001b[39m \u001b[39m \u001b[39m▁\n",
       "  \u001b[39m▅\u001b[39m█\u001b[39m█\u001b[39m█\u001b[39m█\u001b[39m█\u001b[39m█\u001b[39m█\u001b[39m█\u001b[39m█\u001b[39m█\u001b[39m▇\u001b[39m█\u001b[39m█\u001b[39m▇\u001b[39m▇\u001b[39m▇\u001b[39m▇\u001b[39m█\u001b[39m█\u001b[39m█\u001b[39m█\u001b[39m█\u001b[39m█\u001b[39m▇\u001b[39m▆\u001b[39m▆\u001b[39m▇\u001b[39m▇\u001b[39m▇\u001b[39m█\u001b[39m█\u001b[39m█\u001b[39m▇\u001b[39m▇\u001b[39m▇\u001b[32m▇\u001b[39m\u001b[39m█\u001b[39m█\u001b[39m█\u001b[34m█\u001b[39m\u001b[39m█\u001b[39m█\u001b[39m█\u001b[39m█\u001b[39m█\u001b[39m█\u001b[39m▇\u001b[39m▇\u001b[39m▇\u001b[39m▆\u001b[39m▅\u001b[39m▅\u001b[39m▆\u001b[39m▃\u001b[39m▃\u001b[39m▅\u001b[39m▄\u001b[39m▄\u001b[39m▄\u001b[39m \u001b[39m█\n",
       "  6.85 μs\u001b[90m       \u001b[39m\u001b[90mHistogram: \u001b[39m\u001b[90m\u001b[1mlog(\u001b[22m\u001b[39m\u001b[90mfrequency\u001b[39m\u001b[90m\u001b[1m)\u001b[22m\u001b[39m\u001b[90m by time\u001b[39m      21.4 μs \u001b[0m\u001b[1m<\u001b[22m\n",
       "\n",
       " Memory estimate\u001b[90m: \u001b[39m\u001b[33m0 bytes\u001b[39m, allocs estimate\u001b[90m: \u001b[39m\u001b[33m0\u001b[39m."
      ]
     },
     "execution_count": 34,
     "metadata": {},
     "output_type": "execute_result"
    }
   ],
   "source": [
    "sorteddata = sort(data)\n",
    "@benchmark findclosest2($sorteddata, $0.5)"
   ]
  },
  {
   "cell_type": "markdown",
   "metadata": {},
   "source": [
    "Desafortunadamente, esto no se puede demostrar en una plataforma de nube fortalecida... porque\n",
    "es un gran riesgo de seguridad!\n",
    "\n",
    "* https://meltdownattack.com\n",
    "* https://discourse.julialang.org/t/psa-microbenchmarks-remember-branch-history/17436"
   ]
  },
  {
   "cell_type": "code",
   "execution_count": 35,
   "metadata": {},
   "outputs": [
    {
     "data": {
      "text/plain": [
       "BenchmarkTools.Trial: 10000 samples with 3 evaluations.\n",
       " Range \u001b[90m(\u001b[39m\u001b[36m\u001b[1mmin\u001b[22m\u001b[39m … \u001b[35mmax\u001b[39m\u001b[90m):  \u001b[39m\u001b[36m\u001b[1m 7.100 μs\u001b[22m\u001b[39m … \u001b[35m136.567 μs\u001b[39m  \u001b[90m┊\u001b[39m GC \u001b[90m(\u001b[39mmin … max\u001b[90m): \u001b[39m0.00% … 0.00%\n",
       " Time  \u001b[90m(\u001b[39m\u001b[34m\u001b[1mmedian\u001b[22m\u001b[39m\u001b[90m):     \u001b[39m\u001b[34m\u001b[1m16.133 μs               \u001b[22m\u001b[39m\u001b[90m┊\u001b[39m GC \u001b[90m(\u001b[39mmedian\u001b[90m):    \u001b[39m0.00%\n",
       " Time  \u001b[90m(\u001b[39m\u001b[32m\u001b[1mmean\u001b[22m\u001b[39m ± \u001b[32mσ\u001b[39m\u001b[90m):   \u001b[39m\u001b[32m\u001b[1m15.367 μs\u001b[22m\u001b[39m ± \u001b[32m  4.104 μs\u001b[39m  \u001b[90m┊\u001b[39m GC \u001b[90m(\u001b[39mmean ± σ\u001b[90m):  \u001b[39m0.00% ± 0.00%\n",
       "\n",
       "  \u001b[39m \u001b[39m \u001b[39m \u001b[39m \u001b[39m▁\u001b[39m▁\u001b[39m▁\u001b[39m▂\u001b[39m▁\u001b[39m▁\u001b[39m▁\u001b[39m▁\u001b[39m \u001b[39m \u001b[39m \u001b[39m \u001b[39m \u001b[39m \u001b[39m \u001b[39m▁\u001b[39m \u001b[39m \u001b[39m \u001b[39m \u001b[39m \u001b[39m \u001b[39m \u001b[39m \u001b[39m \u001b[39m \u001b[39m \u001b[39m \u001b[39m \u001b[32m \u001b[39m\u001b[39m \u001b[39m \u001b[34m█\u001b[39m\u001b[39m▃\u001b[39m \u001b[39m▂\u001b[39m \u001b[39m▃\u001b[39m▁\u001b[39m \u001b[39m \u001b[39m \u001b[39m \u001b[39m \u001b[39m \u001b[39m \u001b[39m \u001b[39m \u001b[39m \u001b[39m \u001b[39m \u001b[39m \u001b[39m \u001b[39m \u001b[39m \u001b[39m \u001b[39m \u001b[39m▁\n",
       "  \u001b[39m█\u001b[39m▇\u001b[39m█\u001b[39m█\u001b[39m█\u001b[39m█\u001b[39m█\u001b[39m█\u001b[39m█\u001b[39m█\u001b[39m█\u001b[39m█\u001b[39m█\u001b[39m█\u001b[39m▇\u001b[39m█\u001b[39m▇\u001b[39m▇\u001b[39m▇\u001b[39m█\u001b[39m█\u001b[39m▇\u001b[39m▇\u001b[39m▆\u001b[39m▇\u001b[39m▇\u001b[39m▇\u001b[39m▆\u001b[39m▆\u001b[39m▆\u001b[39m▇\u001b[39m▇\u001b[39m▆\u001b[32m▇\u001b[39m\u001b[39m▇\u001b[39m▇\u001b[34m█\u001b[39m\u001b[39m█\u001b[39m█\u001b[39m█\u001b[39m█\u001b[39m█\u001b[39m█\u001b[39m█\u001b[39m█\u001b[39m▆\u001b[39m▇\u001b[39m▆\u001b[39m▆\u001b[39m▄\u001b[39m▅\u001b[39m▅\u001b[39m▅\u001b[39m▃\u001b[39m▃\u001b[39m▃\u001b[39m▅\u001b[39m▄\u001b[39m▄\u001b[39m▄\u001b[39m \u001b[39m█\n",
       "  7.1 μs\u001b[90m        \u001b[39m\u001b[90mHistogram: \u001b[39m\u001b[90m\u001b[1mlog(\u001b[22m\u001b[39m\u001b[90mfrequency\u001b[39m\u001b[90m\u001b[1m)\u001b[22m\u001b[39m\u001b[90m by time\u001b[39m        22 μs \u001b[0m\u001b[1m<\u001b[22m\n",
       "\n",
       " Memory estimate\u001b[90m: \u001b[39m\u001b[33m0 bytes\u001b[39m, allocs estimate\u001b[90m: \u001b[39m\u001b[33m0\u001b[39m."
      ]
     },
     "execution_count": 35,
     "metadata": {},
     "output_type": "execute_result"
    }
   ],
   "source": [
    "idxs = sortperm(data)\n",
    "sortedview = @view data[idxs]\n",
    "@benchmark findclosest2($sortedview, $0.5)"
   ]
  },
  {
   "cell_type": "markdown",
   "metadata": {},
   "source": [
    "### Latencias de memoria\n",
    "\n",
    "| System Event                   | Actual Latency | Scaled Latency |\n",
    "| ------------------------------ | -------------- | -------------- |\n",
    "| One CPU cycle                  |     0.4 ns     |     1 s        |\n",
    "| Level 1 cache access           |     0.9 ns     |     2 s        |\n",
    "| Level 2 cache access           |     2.8 ns     |     7 s        |\n",
    "| Level 3 cache access           |      28 ns     |     1 min      |\n",
    "| Main memory access (DDR DIMM)  |    ~100 ns     |     4 min      |\n",
    "| Intel Optane memory access     |     <10 μs     |     7 hrs      |\n",
    "| NVMe SSD I/O                   |     ~25 μs     |    17 hrs      |\n",
    "| SSD I/O                        |  50–150 μs     | 1.5–4 days     |\n",
    "| Rotational disk I/O            |    1–10 ms     |   1–9 months   |\n",
    "| Internet call: SF to NYC       |      65 ms     |     5 years    |\n",
    "| Internet call: SF to Hong Kong |     141 ms     |    11 years    |\n",
    "\n",
    " (Obtenida de: https://www.prowesscorp.com/computer-latency-at-a-human-scale/)"
   ]
  },
  {
   "cell_type": "markdown",
   "metadata": {},
   "source": [
    "### Conclusiones clave\n",
    "* ¡Mide, mide, mide!\n",
    "* Familiarícese con los consejos de rendimiento [Performance Tips](https://docs.julialang.org/en/v1/manual/performance-tips/)\n",
    "* No tengas miedo de  `@code_typed`/`@code_warntype` y `@code_llvm`"
   ]
  }
 ],
 "metadata": {
  "kernelspec": {
   "display_name": "Julia 1.7.3",
   "language": "julia",
   "name": "julia-1.7"
  },
  "language_info": {
   "file_extension": ".jl",
   "mimetype": "application/julia",
   "name": "julia",
   "version": "1.7.3"
  }
 },
 "nbformat": 4,
 "nbformat_minor": 2
}
