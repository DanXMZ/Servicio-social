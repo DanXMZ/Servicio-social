{
 "cells": [
  {
   "cell_type": "markdown",
   "metadata": {},
   "source": [
    "# Programación rápida  con Julia (en serie)\n",
    "\n",
    "Sí, este es un curso de computación paralela, pero para escribir programas paralelos eficientes, primero debemos aprender a escribir código serial Julia rápido. Esta es una introducción rápida a la programación de alto rendimiento (en serie).\n",
    "\n",
    "_Recomiendo mucho_ revisar los Consejos de rendimiento en el manual [Performance Tips](https://docs.julialang.org/en/v1.1/manual/performance-tips/). Esto sólo va a introducir brevemente algunos de los conceptos principales."
   ]
  },
  {
   "cell_type": "markdown",
   "metadata": {},
   "source": [
    "## Medir, medir, medir.\n",
    "Es muy fácil experimentar en Julia; puede probar rápidamente muchas opciones y ver cuál es la más rápida."
   ]
  },
  {
   "cell_type": "markdown",
   "metadata": {},
   "source": [
    "Usa el paquete  [BenchmarkTools](https://github.com/JuliaCI/BenchmarkTools.jl):"
   ]
  },
  {
   "cell_type": "code",
   "execution_count": 9,
   "metadata": {},
   "outputs": [
    {
     "name": "stdout",
     "output_type": "stream",
     "text": [
      "search: \u001b[0m\u001b[1mf\u001b[22m\u001b[0m\u001b[1mi\u001b[22m\u001b[0m\u001b[1mn\u001b[22m\u001b[0m\u001b[1md\u001b[22m\u001b[0m\u001b[1mm\u001b[22m\u001b[0m\u001b[1mi\u001b[22m\u001b[0m\u001b[1mn\u001b[22m \u001b[0m\u001b[1mf\u001b[22m\u001b[0m\u001b[1mi\u001b[22m\u001b[0m\u001b[1mn\u001b[22m\u001b[0m\u001b[1md\u001b[22m\u001b[0m\u001b[1mm\u001b[22m\u001b[0m\u001b[1mi\u001b[22m\u001b[0m\u001b[1mn\u001b[22m! \u001b[0m\u001b[1mf\u001b[22m\u001b[0m\u001b[1mi\u001b[22m\u001b[0m\u001b[1mn\u001b[22m\u001b[0m\u001b[1md\u001b[22m\u001b[0m\u001b[1mm\u001b[22max \u001b[0m\u001b[1mf\u001b[22m\u001b[0m\u001b[1mi\u001b[22m\u001b[0m\u001b[1mn\u001b[22m\u001b[0m\u001b[1md\u001b[22m\u001b[0m\u001b[1mm\u001b[22max!\n",
      "\n"
     ]
    },
    {
     "data": {
      "text/latex": [
       "\\begin{verbatim}\n",
       "findmin(f, domain) -> (f(x), index)\n",
       "\\end{verbatim}\n",
       "Returns a pair of a value in the codomain (outputs of \\texttt{f}) and the index of the corresponding value in the \\texttt{domain} (inputs to \\texttt{f}) such that \\texttt{f(x)} is minimised. If there are multiple minimal points, then the first one will be returned.\n",
       "\n",
       "\\texttt{domain} must be a non-empty iterable.\n",
       "\n",
       "\\texttt{NaN} is treated as less than all other values except \\texttt{missing}.\n",
       "\n",
       "\\begin{quote}\n",
       "\\textbf{compat}\n",
       "\n",
       "Julia 1.7\n",
       "\n",
       "This method requires Julia 1.7 or later.\n",
       "\n",
       "\\end{quote}\n",
       "\\section{Examples}\n",
       "\\begin{verbatim}\n",
       "julia> findmin(identity, 5:9)\n",
       "(5, 1)\n",
       "\n",
       "julia> findmin(-, 1:10)\n",
       "(-10, 10)\n",
       "\n",
       "julia> findmin(first, [(2, :a), (2, :b), (3, :c)])\n",
       "(2, 1)\n",
       "\n",
       "julia> findmin(cos, 0:π/2:2π)\n",
       "(-1.0, 3)\n",
       "\\end{verbatim}\n",
       "\\rule{\\textwidth}{1pt}\n",
       "\\begin{verbatim}\n",
       "findmin(itr) -> (x, index)\n",
       "\\end{verbatim}\n",
       "Return the minimal element of the collection \\texttt{itr} and its index or key. If there are multiple minimal elements, then the first one will be returned. \\texttt{NaN} is treated as less than all other values except \\texttt{missing}.\n",
       "\n",
       "See also: \\href{@ref}{\\texttt{findmax}}, \\href{@ref}{\\texttt{argmin}}, \\href{@ref}{\\texttt{minimum}}.\n",
       "\n",
       "\\section{Examples}\n",
       "\\begin{verbatim}\n",
       "julia> findmin([8, 0.1, -9, pi])\n",
       "(-9.0, 3)\n",
       "\n",
       "julia> findmin([1, 7, 7, 6])\n",
       "(1, 1)\n",
       "\n",
       "julia> findmin([1, 7, 7, NaN])\n",
       "(NaN, 4)\n",
       "\\end{verbatim}\n",
       "\\rule{\\textwidth}{1pt}\n",
       "\\begin{verbatim}\n",
       "findmin(A; dims) -> (minval, index)\n",
       "\\end{verbatim}\n",
       "For an array input, returns the value and index of the minimum over the given dimensions. \\texttt{NaN} is treated as less than all other values except \\texttt{missing}.\n",
       "\n",
       "\\section{Examples}\n",
       "\\begin{verbatim}\n",
       "julia> A = [1.0 2; 3 4]\n",
       "2×2 Matrix{Float64}:\n",
       " 1.0  2.0\n",
       " 3.0  4.0\n",
       "\n",
       "julia> findmin(A, dims=1)\n",
       "([1.0 2.0], CartesianIndex{2}[CartesianIndex(1, 1) CartesianIndex(1, 2)])\n",
       "\n",
       "julia> findmin(A, dims=2)\n",
       "([1.0; 3.0;;], CartesianIndex{2}[CartesianIndex(1, 1); CartesianIndex(2, 1);;])\n",
       "\\end{verbatim}\n"
      ],
      "text/markdown": [
       "```\n",
       "findmin(f, domain) -> (f(x), index)\n",
       "```\n",
       "\n",
       "Returns a pair of a value in the codomain (outputs of `f`) and the index of the corresponding value in the `domain` (inputs to `f`) such that `f(x)` is minimised. If there are multiple minimal points, then the first one will be returned.\n",
       "\n",
       "`domain` must be a non-empty iterable.\n",
       "\n",
       "`NaN` is treated as less than all other values except `missing`.\n",
       "\n",
       "!!! compat \"Julia 1.7\"\n",
       "    This method requires Julia 1.7 or later.\n",
       "\n",
       "\n",
       "# Examples\n",
       "\n",
       "```jldoctest\n",
       "julia> findmin(identity, 5:9)\n",
       "(5, 1)\n",
       "\n",
       "julia> findmin(-, 1:10)\n",
       "(-10, 10)\n",
       "\n",
       "julia> findmin(first, [(2, :a), (2, :b), (3, :c)])\n",
       "(2, 1)\n",
       "\n",
       "julia> findmin(cos, 0:π/2:2π)\n",
       "(-1.0, 3)\n",
       "```\n",
       "\n",
       "---\n",
       "\n",
       "```\n",
       "findmin(itr) -> (x, index)\n",
       "```\n",
       "\n",
       "Return the minimal element of the collection `itr` and its index or key. If there are multiple minimal elements, then the first one will be returned. `NaN` is treated as less than all other values except `missing`.\n",
       "\n",
       "See also: [`findmax`](@ref), [`argmin`](@ref), [`minimum`](@ref).\n",
       "\n",
       "# Examples\n",
       "\n",
       "```jldoctest\n",
       "julia> findmin([8, 0.1, -9, pi])\n",
       "(-9.0, 3)\n",
       "\n",
       "julia> findmin([1, 7, 7, 6])\n",
       "(1, 1)\n",
       "\n",
       "julia> findmin([1, 7, 7, NaN])\n",
       "(NaN, 4)\n",
       "```\n",
       "\n",
       "---\n",
       "\n",
       "```\n",
       "findmin(A; dims) -> (minval, index)\n",
       "```\n",
       "\n",
       "For an array input, returns the value and index of the minimum over the given dimensions. `NaN` is treated as less than all other values except `missing`.\n",
       "\n",
       "# Examples\n",
       "\n",
       "```jldoctest\n",
       "julia> A = [1.0 2; 3 4]\n",
       "2×2 Matrix{Float64}:\n",
       " 1.0  2.0\n",
       " 3.0  4.0\n",
       "\n",
       "julia> findmin(A, dims=1)\n",
       "([1.0 2.0], CartesianIndex{2}[CartesianIndex(1, 1) CartesianIndex(1, 2)])\n",
       "\n",
       "julia> findmin(A, dims=2)\n",
       "([1.0; 3.0;;], CartesianIndex{2}[CartesianIndex(1, 1); CartesianIndex(2, 1);;])\n",
       "```\n"
      ],
      "text/plain": [
       "\u001b[36m  findmin(f, domain) -> (f(x), index)\u001b[39m\n",
       "\n",
       "  Returns a pair of a value in the codomain (outputs of \u001b[36mf\u001b[39m) and the index of\n",
       "  the corresponding value in the \u001b[36mdomain\u001b[39m (inputs to \u001b[36mf\u001b[39m) such that \u001b[36mf(x)\u001b[39m is\n",
       "  minimised. If there are multiple minimal points, then the first one will be\n",
       "  returned.\n",
       "\n",
       "  \u001b[36mdomain\u001b[39m must be a non-empty iterable.\n",
       "\n",
       "  \u001b[36mNaN\u001b[39m is treated as less than all other values except \u001b[36mmissing\u001b[39m.\n",
       "\n",
       "\u001b[39m\u001b[1m  │ \u001b[22m\u001b[39m\u001b[1mJulia 1.7\u001b[22m\n",
       "\u001b[39m\u001b[1m  │\u001b[22m\n",
       "\u001b[39m\u001b[1m  │\u001b[22m  This method requires Julia 1.7 or later.\n",
       "\n",
       "\u001b[1m  Examples\u001b[22m\n",
       "\u001b[1m  ≡≡≡≡≡≡≡≡≡≡\u001b[22m\n",
       "\n",
       "\u001b[36m  julia> findmin(identity, 5:9)\u001b[39m\n",
       "\u001b[36m  (5, 1)\u001b[39m\n",
       "\u001b[36m  \u001b[39m\n",
       "\u001b[36m  julia> findmin(-, 1:10)\u001b[39m\n",
       "\u001b[36m  (-10, 10)\u001b[39m\n",
       "\u001b[36m  \u001b[39m\n",
       "\u001b[36m  julia> findmin(first, [(2, :a), (2, :b), (3, :c)])\u001b[39m\n",
       "\u001b[36m  (2, 1)\u001b[39m\n",
       "\u001b[36m  \u001b[39m\n",
       "\u001b[36m  julia> findmin(cos, 0:π/2:2π)\u001b[39m\n",
       "\u001b[36m  (-1.0, 3)\u001b[39m\n",
       "\n",
       "  ────────────────────────────────────────────────────────────────────────────\n",
       "\n",
       "\u001b[36m  findmin(itr) -> (x, index)\u001b[39m\n",
       "\n",
       "  Return the minimal element of the collection \u001b[36mitr\u001b[39m and its index or key. If\n",
       "  there are multiple minimal elements, then the first one will be returned.\n",
       "  \u001b[36mNaN\u001b[39m is treated as less than all other values except \u001b[36mmissing\u001b[39m.\n",
       "\n",
       "  See also: \u001b[36mfindmax\u001b[39m, \u001b[36margmin\u001b[39m, \u001b[36mminimum\u001b[39m.\n",
       "\n",
       "\u001b[1m  Examples\u001b[22m\n",
       "\u001b[1m  ≡≡≡≡≡≡≡≡≡≡\u001b[22m\n",
       "\n",
       "\u001b[36m  julia> findmin([8, 0.1, -9, pi])\u001b[39m\n",
       "\u001b[36m  (-9.0, 3)\u001b[39m\n",
       "\u001b[36m  \u001b[39m\n",
       "\u001b[36m  julia> findmin([1, 7, 7, 6])\u001b[39m\n",
       "\u001b[36m  (1, 1)\u001b[39m\n",
       "\u001b[36m  \u001b[39m\n",
       "\u001b[36m  julia> findmin([1, 7, 7, NaN])\u001b[39m\n",
       "\u001b[36m  (NaN, 4)\u001b[39m\n",
       "\n",
       "  ────────────────────────────────────────────────────────────────────────────\n",
       "\n",
       "\u001b[36m  findmin(A; dims) -> (minval, index)\u001b[39m\n",
       "\n",
       "  For an array input, returns the value and index of the minimum over the\n",
       "  given dimensions. \u001b[36mNaN\u001b[39m is treated as less than all other values except\n",
       "  \u001b[36mmissing\u001b[39m.\n",
       "\n",
       "\u001b[1m  Examples\u001b[22m\n",
       "\u001b[1m  ≡≡≡≡≡≡≡≡≡≡\u001b[22m\n",
       "\n",
       "\u001b[36m  julia> A = [1.0 2; 3 4]\u001b[39m\n",
       "\u001b[36m  2×2 Matrix{Float64}:\u001b[39m\n",
       "\u001b[36m   1.0  2.0\u001b[39m\n",
       "\u001b[36m   3.0  4.0\u001b[39m\n",
       "\u001b[36m  \u001b[39m\n",
       "\u001b[36m  julia> findmin(A, dims=1)\u001b[39m\n",
       "\u001b[36m  ([1.0 2.0], CartesianIndex{2}[CartesianIndex(1, 1) CartesianIndex(1, 2)])\u001b[39m\n",
       "\u001b[36m  \u001b[39m\n",
       "\u001b[36m  julia> findmin(A, dims=2)\u001b[39m\n",
       "\u001b[36m  ([1.0; 3.0;;], CartesianIndex{2}[CartesianIndex(1, 1); CartesianIndex(2, 1);;])\u001b[39m"
      ]
     },
     "execution_count": 9,
     "metadata": {},
     "output_type": "execute_result"
    }
   ],
   "source": [
    "? findmin"
   ]
  },
  {
   "cell_type": "code",
   "execution_count": 2,
   "metadata": {},
   "outputs": [
    {
     "data": {
      "text/plain": [
       "0.5001596495221731"
      ]
     },
     "execution_count": 2,
     "metadata": {},
     "output_type": "execute_result"
    }
   ],
   "source": [
    "using BenchmarkTools\n",
    "\n",
    "\"\"\"\n",
    "    findclosest(data, point)\n",
    "\n",
    "Un ejemplo simple que regresa el elemento en `data`que esta mas cercano al punto dado `point`.\n",
    "\"\"\"\n",
    "function findclosest(data, point)\n",
    "    _, index =  findmin(abs.(data .- point))\n",
    "    return data[index]\n",
    "end\n",
    "data = rand(5000)\n",
    "findclosest(data, 0.5)"
   ]
  },
  {
   "cell_type": "code",
   "execution_count": 11,
   "metadata": {},
   "outputs": [
    {
     "data": {
      "text/plain": [
       "(0.0001596495221730665, 375)"
      ]
     },
     "execution_count": 11,
     "metadata": {},
     "output_type": "execute_result"
    }
   ],
   "source": [
    "#data = rand(5000)\n",
    "findmin(abs.(data .- 0.5))"
   ]
  },
  {
   "cell_type": "code",
   "execution_count": 4,
   "metadata": {},
   "outputs": [
    {
     "name": "stdout",
     "output_type": "stream",
     "text": [
      "  13.658 μs (2 allocations: 39.11 KiB)\n"
     ]
    },
    {
     "data": {
      "text/plain": [
       "0.5001596495221731"
      ]
     },
     "execution_count": 4,
     "metadata": {},
     "output_type": "execute_result"
    }
   ],
   "source": [
    "@btime findclosest($data, $0.5)"
   ]
  },
  {
   "cell_type": "code",
   "execution_count": 5,
   "metadata": {},
   "outputs": [
    {
     "data": {
      "text/plain": [
       "BenchmarkTools.Trial: 10000 samples with 1 evaluation.\n",
       " Range \u001b[90m(\u001b[39m\u001b[36m\u001b[1mmin\u001b[22m\u001b[39m … \u001b[35mmax\u001b[39m\u001b[90m):  \u001b[39m\u001b[36m\u001b[1m14.021 μs\u001b[22m\u001b[39m … \u001b[35m758.309 μs\u001b[39m  \u001b[90m┊\u001b[39m GC \u001b[90m(\u001b[39mmin … max\u001b[90m): \u001b[39m0.00% … 96.67%\n",
       " Time  \u001b[90m(\u001b[39m\u001b[34m\u001b[1mmedian\u001b[22m\u001b[39m\u001b[90m):     \u001b[39m\u001b[34m\u001b[1m14.647 μs               \u001b[22m\u001b[39m\u001b[90m┊\u001b[39m GC \u001b[90m(\u001b[39mmedian\u001b[90m):    \u001b[39m0.00%\n",
       " Time  \u001b[90m(\u001b[39m\u001b[32m\u001b[1mmean\u001b[22m\u001b[39m ± \u001b[32mσ\u001b[39m\u001b[90m):   \u001b[39m\u001b[32m\u001b[1m16.273 μs\u001b[22m\u001b[39m ± \u001b[32m 20.557 μs\u001b[39m  \u001b[90m┊\u001b[39m GC \u001b[90m(\u001b[39mmean ± σ\u001b[90m):  \u001b[39m3.50% ±  2.74%\n",
       "\n",
       "  \u001b[39m▃\u001b[39m▇\u001b[39m█\u001b[34m▇\u001b[39m\u001b[39m▅\u001b[39m▂\u001b[39m \u001b[39m \u001b[39m \u001b[39m \u001b[32m \u001b[39m\u001b[39m \u001b[39m \u001b[39m \u001b[39m \u001b[39m \u001b[39m \u001b[39m \u001b[39m \u001b[39m \u001b[39m \u001b[39m \u001b[39m \u001b[39m \u001b[39m \u001b[39m \u001b[39m \u001b[39m \u001b[39m \u001b[39m \u001b[39m \u001b[39m \u001b[39m \u001b[39m \u001b[39m \u001b[39m▁\u001b[39m▃\u001b[39m▂\u001b[39m \u001b[39m \u001b[39m▃\u001b[39m▃\u001b[39m▂\u001b[39m \u001b[39m▁\u001b[39m \u001b[39m \u001b[39m \u001b[39m \u001b[39m \u001b[39m \u001b[39m \u001b[39m \u001b[39m \u001b[39m \u001b[39m \u001b[39m \u001b[39m \u001b[39m \u001b[39m \u001b[39m \u001b[39m▂\n",
       "  \u001b[39m█\u001b[39m█\u001b[39m█\u001b[34m█\u001b[39m\u001b[39m█\u001b[39m█\u001b[39m█\u001b[39m▇\u001b[39m▇\u001b[39m▄\u001b[32m▆\u001b[39m\u001b[39m▄\u001b[39m▄\u001b[39m▁\u001b[39m▄\u001b[39m▁\u001b[39m▃\u001b[39m▁\u001b[39m▁\u001b[39m▁\u001b[39m▁\u001b[39m▁\u001b[39m▁\u001b[39m▁\u001b[39m▁\u001b[39m▁\u001b[39m▁\u001b[39m▁\u001b[39m▁\u001b[39m▁\u001b[39m▁\u001b[39m█\u001b[39m█\u001b[39m▆\u001b[39m▅\u001b[39m█\u001b[39m█\u001b[39m█\u001b[39m█\u001b[39m█\u001b[39m█\u001b[39m█\u001b[39m█\u001b[39m█\u001b[39m█\u001b[39m▇\u001b[39m▆\u001b[39m▃\u001b[39m▁\u001b[39m▄\u001b[39m▃\u001b[39m▆\u001b[39m▆\u001b[39m▅\u001b[39m▄\u001b[39m▆\u001b[39m▇\u001b[39m▆\u001b[39m▅\u001b[39m▅\u001b[39m \u001b[39m█\n",
       "  14 μs\u001b[90m         \u001b[39m\u001b[90mHistogram: \u001b[39m\u001b[90m\u001b[1mlog(\u001b[22m\u001b[39m\u001b[90mfrequency\u001b[39m\u001b[90m\u001b[1m)\u001b[22m\u001b[39m\u001b[90m by time\u001b[39m      27.6 μs \u001b[0m\u001b[1m<\u001b[22m\n",
       "\n",
       " Memory estimate\u001b[90m: \u001b[39m\u001b[33m39.11 KiB\u001b[39m, allocs estimate\u001b[90m: \u001b[39m\u001b[33m2\u001b[39m."
      ]
     },
     "execution_count": 5,
     "metadata": {},
     "output_type": "execute_result"
    }
   ],
   "source": [
    "@benchmark findclosest($data, $0.5)"
   ]
  },
  {
   "cell_type": "markdown",
   "metadata": {},
   "source": [
    "### Profile!"
   ]
  },
  {
   "cell_type": "code",
   "execution_count": 6,
   "metadata": {},
   "outputs": [
    {
     "name": "stdout",
     "output_type": "stream",
     "text": [
      "Overhead ╎ [+additional indent] Count File:Line; Function\n",
      "=========================================================\n",
      "  ╎46 @Base/task.jl:484; (::IJulia.var\"#15#18\")()\n",
      "  ╎ 46 @IJulia/src/eventloop.jl:8; eventloop(socket::ZMQ.Socket)\n",
      "  ╎  46 @Base/essentials.jl:726; invokelatest\n",
      "  ╎   46 @Base/essentials.jl:729; #invokelatest#2\n",
      "  ╎    46 ...c/execute_request.jl:67; execute_request(socket::ZMQ.Soc...\n",
      "  ╎     46 .../SoftGlobalScope.jl:65; softscope_include_string(m::Mod...\n",
      "  ╎    ╎ 46 @Base/loading.jl:1428; include_string(mapexpr::typeo...\n",
      "  ╎    ╎  46 @Base/boot.jl:368; eval\n",
      "  ╎    ╎   46 ...ile/src/Profile.jl:27; top-level scope\n",
      " 1╎    ╎    46 In[6]:4; macro expansion\n",
      "  ╎    ╎     45 In[2]:9; findclosest(data::Vector{Flo...\n",
      "  ╎    ╎    ╎ 23 @Base/broadcast.jl:860; materialize\n",
      "  ╎    ╎    ╎ 22 @Base/reducedim.jl:1112; findmin\n",
      "Total snapshots: 46. Utilization: 100% across all threads and tasks. Use the `groupby` kwarg to break down by thread and/or task\n"
     ]
    }
   ],
   "source": [
    "using Profile\n",
    "\n",
    "Profile.clear()\n",
    "@profile for _ in 1:1000; findclosest(data, 0.5); end\n",
    "\n",
    "Profile.print(maxdepth=11)"
   ]
  },
  {
   "cell_type": "markdown",
   "metadata": {},
   "source": [
    "### Iterar!\n",
    "\n",
    "Antes teniamos:\n",
    "```julia\n",
    "function findclosest(data, point)\n",
    "    _, index =  findmin(abs.(data .- point))\n",
    "    return data[index]\n",
    "end\n",
    "```\n",
    "\n",
    "Propongamos una nueva definición que pueda combinar las dos operaciones:"
   ]
  },
  {
   "cell_type": "code",
   "execution_count": 12,
   "metadata": {},
   "outputs": [
    {
     "data": {
      "text/plain": [
       "true"
      ]
     },
     "execution_count": 12,
     "metadata": {},
     "output_type": "execute_result"
    }
   ],
   "source": [
    "function findclosest2(data, point)\n",
    "    bestval = first(data)\n",
    "    bestdist = abs(bestval - point)\n",
    "    for elt in data\n",
    "        dist = abs(elt - point)\n",
    "        if dist < bestdist\n",
    "            bestval = elt\n",
    "            bestdist = dist\n",
    "        end\n",
    "    end\n",
    "    return bestval\n",
    "end\n",
    "\n",
    "# And do a spot-check to make sure we did the optimization correctly:\n",
    "findclosest2(data, 0.5) == findclosest(data, 0.5)"
   ]
  },
  {
   "cell_type": "code",
   "execution_count": 13,
   "metadata": {},
   "outputs": [
    {
     "data": {
      "text/plain": [
       "BenchmarkTools.Trial: 10000 samples with 7 evaluations.\n",
       " Range \u001b[90m(\u001b[39m\u001b[36m\u001b[1mmin\u001b[22m\u001b[39m … \u001b[35mmax\u001b[39m\u001b[90m):  \u001b[39m\u001b[36m\u001b[1m4.730 μs\u001b[22m\u001b[39m … \u001b[35m 10.857 μs\u001b[39m  \u001b[90m┊\u001b[39m GC \u001b[90m(\u001b[39mmin … max\u001b[90m): \u001b[39m0.00% … 0.00%\n",
       " Time  \u001b[90m(\u001b[39m\u001b[34m\u001b[1mmedian\u001b[22m\u001b[39m\u001b[90m):     \u001b[39m\u001b[34m\u001b[1m4.768 μs               \u001b[22m\u001b[39m\u001b[90m┊\u001b[39m GC \u001b[90m(\u001b[39mmedian\u001b[90m):    \u001b[39m0.00%\n",
       " Time  \u001b[90m(\u001b[39m\u001b[32m\u001b[1mmean\u001b[22m\u001b[39m ± \u001b[32mσ\u001b[39m\u001b[90m):   \u001b[39m\u001b[32m\u001b[1m4.807 μs\u001b[22m\u001b[39m ± \u001b[32m303.300 ns\u001b[39m  \u001b[90m┊\u001b[39m GC \u001b[90m(\u001b[39mmean ± σ\u001b[90m):  \u001b[39m0.00% ± 0.00%\n",
       "\n",
       "  \u001b[39m▄\u001b[39m█\u001b[34m▆\u001b[39m\u001b[32m▂\u001b[39m\u001b[39m \u001b[39m \u001b[39m▃\u001b[39m▂\u001b[39m \u001b[39m \u001b[39m \u001b[39m \u001b[39m \u001b[39m \u001b[39m \u001b[39m \u001b[39m \u001b[39m \u001b[39m \u001b[39m \u001b[39m \u001b[39m \u001b[39m \u001b[39m \u001b[39m \u001b[39m \u001b[39m \u001b[39m \u001b[39m \u001b[39m \u001b[39m \u001b[39m \u001b[39m \u001b[39m \u001b[39m \u001b[39m \u001b[39m \u001b[39m \u001b[39m \u001b[39m \u001b[39m \u001b[39m \u001b[39m \u001b[39m \u001b[39m \u001b[39m \u001b[39m \u001b[39m \u001b[39m \u001b[39m \u001b[39m \u001b[39m \u001b[39m \u001b[39m \u001b[39m \u001b[39m \u001b[39m \u001b[39m \u001b[39m \u001b[39m \u001b[39m▁\n",
       "  \u001b[39m█\u001b[39m█\u001b[34m█\u001b[39m\u001b[32m█\u001b[39m\u001b[39m▁\u001b[39m▃\u001b[39m█\u001b[39m█\u001b[39m▇\u001b[39m▅\u001b[39m▅\u001b[39m▇\u001b[39m▆\u001b[39m▅\u001b[39m▅\u001b[39m▄\u001b[39m▄\u001b[39m▁\u001b[39m▄\u001b[39m▃\u001b[39m▁\u001b[39m▁\u001b[39m▃\u001b[39m▅\u001b[39m▇\u001b[39m▅\u001b[39m▁\u001b[39m▁\u001b[39m▁\u001b[39m▁\u001b[39m▁\u001b[39m▁\u001b[39m▁\u001b[39m▁\u001b[39m▁\u001b[39m▁\u001b[39m▁\u001b[39m▁\u001b[39m▁\u001b[39m▁\u001b[39m▁\u001b[39m▁\u001b[39m▁\u001b[39m▁\u001b[39m▁\u001b[39m▁\u001b[39m▁\u001b[39m▁\u001b[39m▁\u001b[39m▁\u001b[39m▁\u001b[39m▁\u001b[39m▅\u001b[39m▄\u001b[39m▃\u001b[39m▅\u001b[39m▅\u001b[39m▆\u001b[39m▅\u001b[39m \u001b[39m█\n",
       "  4.73 μs\u001b[90m      \u001b[39m\u001b[90mHistogram: \u001b[39m\u001b[90m\u001b[1mlog(\u001b[22m\u001b[39m\u001b[90mfrequency\u001b[39m\u001b[90m\u001b[1m)\u001b[22m\u001b[39m\u001b[90m by time\u001b[39m      6.09 μs \u001b[0m\u001b[1m<\u001b[22m\n",
       "\n",
       " Memory estimate\u001b[90m: \u001b[39m\u001b[33m0 bytes\u001b[39m, allocs estimate\u001b[90m: \u001b[39m\u001b[33m0\u001b[39m."
      ]
     },
     "execution_count": 13,
     "metadata": {},
     "output_type": "execute_result"
    }
   ],
   "source": [
    "@benchmark findclosest2($data, $0.5)"
   ]
  },
  {
   "cell_type": "code",
   "execution_count": 14,
   "metadata": {},
   "outputs": [
    {
     "name": "stdout",
     "output_type": "stream",
     "text": [
      "  4.732 μs (0 allocations: 0 bytes)\n"
     ]
    },
    {
     "data": {
      "text/plain": [
       "0.5001596495221731"
      ]
     },
     "execution_count": 14,
     "metadata": {},
     "output_type": "execute_result"
    }
   ],
   "source": [
    "@btime findclosest2($data, $0.5)"
   ]
  },
  {
   "cell_type": "markdown",
   "metadata": {},
   "source": [
    "## Una palabra rápida en las macros\n",
    "\n",
    "Las macros son esas cosas divertidas que comienzan con `@`. Pueden reinterpretar lo que\n",
    "escribes y hacer algo diferente, esencialmente introduciendo una nueva palabra clave.\n",
    "\n",
    "Por ejemplo, la macro `@assert` simplemente toma una expresión y lanza un\n",
    "excepción si devuelve `falso`."
   ]
  },
  {
   "cell_type": "code",
   "execution_count": 17,
   "metadata": {},
   "outputs": [],
   "source": [
    "@assert 2+2 == 4"
   ]
  },
  {
   "cell_type": "code",
   "execution_count": 19,
   "metadata": {},
   "outputs": [
    {
     "ename": "LoadError",
     "evalue": "AssertionError: 2 + 2 == 8",
     "output_type": "error",
     "traceback": [
      "AssertionError: 2 + 2 == 8",
      "",
      "Stacktrace:",
      " [1] top-level scope",
      "   @ In[19]:1",
      " [2] eval",
      "   @ ./boot.jl:368 [inlined]",
      " [3] include_string(mapexpr::typeof(REPL.softscope), mod::Module, code::String, filename::String)",
      "   @ Base ./loading.jl:1428"
     ]
    }
   ],
   "source": [
    "@assert 2+2 == 8"
   ]
  },
  {
   "cell_type": "markdown",
   "metadata": {},
   "source": [
    "Lo hace literalmente reescribiendo lo que escribiste. Puedes verlo en acción\n",
    "con `@macroexpand`"
   ]
  },
  {
   "cell_type": "code",
   "execution_count": 18,
   "metadata": {},
   "outputs": [
    {
     "data": {
      "text/plain": [
       ":(if 2 + 2 == 4\n",
       "      nothing\n",
       "  else\n",
       "      Base.throw(Base.AssertionError(\"2 + 2 == 4\"))\n",
       "  end)"
      ]
     },
     "execution_count": 18,
     "metadata": {},
     "output_type": "execute_result"
    }
   ],
   "source": [
    "@macroexpand @assert 2+2 == 4"
   ]
  },
  {
   "cell_type": "code",
   "execution_count": 20,
   "metadata": {},
   "outputs": [
    {
     "data": {
      "text/plain": [
       "quote\n",
       "    \u001b[90m#= timing.jl:252 =#\u001b[39m\n",
       "    begin\n",
       "        \u001b[90m#= timing.jl:257 =#\u001b[39m\n",
       "        $(Expr(:meta, :force_compile))\n",
       "        \u001b[90m#= timing.jl:258 =#\u001b[39m\n",
       "        local var\"#33#stats\" = Base.gc_num()\n",
       "        \u001b[90m#= timing.jl:259 =#\u001b[39m\n",
       "        local var\"#35#elapsedtime\" = Base.time_ns()\n",
       "        \u001b[90m#= timing.jl:260 =#\u001b[39m\n",
       "        Base.cumulative_compile_timing(true)\n",
       "        \u001b[90m#= timing.jl:261 =#\u001b[39m\n",
       "        local var\"#36#compile_elapsedtimes\" = Base.cumulative_compile_time_ns()\n",
       "        \u001b[90m#= timing.jl:262 =#\u001b[39m\n",
       "        local var\"#34#val\" = $(Expr(:tryfinally, :(2 + 2 == 4), quote\n",
       "    var\"#35#elapsedtime\" = Base.time_ns() - var\"#35#elapsedtime\"\n",
       "    \u001b[90m#= timing.jl:264 =#\u001b[39m\n",
       "    Base.cumulative_compile_timing(false)\n",
       "    \u001b[90m#= timing.jl:265 =#\u001b[39m\n",
       "    var\"#36#compile_elapsedtimes\" = Base.cumulative_compile_time_ns() .- var\"#36#compile_elapsedtimes\"\n",
       "end))\n",
       "        \u001b[90m#= timing.jl:267 =#\u001b[39m\n",
       "        local var\"#37#diff\" = Base.GC_Diff(Base.gc_num(), var\"#33#stats\")\n",
       "        \u001b[90m#= timing.jl:268 =#\u001b[39m\n",
       "        local var\"#38#_msg\" = Base.nothing\n",
       "        \u001b[90m#= timing.jl:269 =#\u001b[39m\n",
       "        local var\"#39#has_msg\" = !(Base.isnothing(var\"#38#_msg\"))\n",
       "        \u001b[90m#= timing.jl:270 =#\u001b[39m\n",
       "        var\"#39#has_msg\" && Base.print(var\"#38#_msg\", \": \")\n",
       "        \u001b[90m#= timing.jl:271 =#\u001b[39m\n",
       "        Base.time_print(var\"#35#elapsedtime\", (var\"#37#diff\").allocd, (var\"#37#diff\").total_time, Base.gc_alloc_count(var\"#37#diff\"), Base.first(var\"#36#compile_elapsedtimes\"), Base.last(var\"#36#compile_elapsedtimes\"), true, !var\"#39#has_msg\")\n",
       "        \u001b[90m#= timing.jl:272 =#\u001b[39m\n",
       "        var\"#34#val\"\n",
       "    end\n",
       "end"
      ]
     },
     "execution_count": 20,
     "metadata": {},
     "output_type": "execute_result"
    }
   ],
   "source": [
    "@macroexpand @time 2+2 == 4"
   ]
  },
  {
   "cell_type": "code",
   "execution_count": 21,
   "metadata": {},
   "outputs": [
    {
     "data": {
      "text/html": [
       "var\"@time\"(__source__::<b>LineNumberNode</b>, __module__::<b>Module</b>, ex) in Base at <a href=\"https://github.com/JuliaLang/julia/tree/0434deb161e17103eabdd7d82b17a1cd6b410572/base/timing.jl#L250\" target=\"_blank\">timing.jl:250</a>"
      ],
      "text/plain": [
       "var\"@time\"(__source__::LineNumberNode, __module__::Module, ex) in Base at timing.jl:250"
      ]
     },
     "execution_count": 21,
     "metadata": {},
     "output_type": "execute_result"
    }
   ],
   "source": [
    "@which @time 2+2 == 4"
   ]
  },
  {
   "cell_type": "markdown",
   "metadata": {},
   "source": [
    "Cada macro puede definir su propia sintaxis especial, y esto se usa ampliamente para la introspección de código, las mejoras de rendimiento en serie y, quizás lo más importante, ¡pprivilegios de paralelización!"
   ]
  },
  {
   "cell_type": "markdown",
   "metadata": {},
   "source": [
    "## ¿Qué tan rápido es Julia?\n",
    "\n",
    "Al comprender los conceptos básicos de cómo Julia _puede_ ser rápida, puede obtener una mejor\n",
    "sentido de cómo escribir código Julia rápido.\n",
    "\n",
    "Perhaps most importantly, Julia can reason about types. Recall: this is the definition of `findclosest2`:\n",
    "\n",
    "```julia\n",
    "function findclosest2(data, point)\n",
    "    bestval = first(data)\n",
    "    bestdist = abs(bestval - point)\n",
    "    for elt in data\n",
    "        dist = abs(elt - point)\n",
    "        if dist < bestdist\n",
    "            bestval = elt\n",
    "            bestdist = dist\n",
    "        end\n",
    "    end\n",
    "    return bestval\n",
    "end\n",
    "```"
   ]
  },
  {
   "cell_type": "code",
   "execution_count": 22,
   "metadata": {},
   "outputs": [
    {
     "data": {
      "text/plain": [
       "CodeInfo(\n",
       "\u001b[90m1 ─\u001b[39m       (bestval = Main.first(data))\u001b[90m::Float64\u001b[39m\n",
       "\u001b[90m│  \u001b[39m %2  = (bestval - point)\u001b[36m::Float64\u001b[39m\n",
       "\u001b[90m│  \u001b[39m       (bestdist = Main.abs(%2))\u001b[90m::Float64\u001b[39m\n",
       "\u001b[90m│  \u001b[39m %4  = data\u001b[36m::Vector{Float64}\u001b[39m\n",
       "\u001b[90m│  \u001b[39m       (@_4 = Base.iterate(%4))\u001b[90m::Union{Nothing, Tuple{Float64, Int64}}\u001b[39m\n",
       "\u001b[90m│  \u001b[39m %6  = (@_4 === nothing)\u001b[36m::Bool\u001b[39m\n",
       "\u001b[90m│  \u001b[39m %7  = Base.not_int(%6)\u001b[36m::Bool\u001b[39m\n",
       "\u001b[90m└──\u001b[39m       goto #6 if not %7\n",
       "\u001b[90m2 ┄\u001b[39m %9  = @_4\u001b[36m::Tuple{Float64, Int64}\u001b[39m\n",
       "\u001b[90m│  \u001b[39m       (elt = Core.getfield(%9, 1))\u001b[90m::Float64\u001b[39m\n",
       "\u001b[90m│  \u001b[39m %11 = Core.getfield(%9, 2)\u001b[36m::Int64\u001b[39m\n",
       "\u001b[90m│  \u001b[39m %12 = (elt - point)\u001b[36m::Float64\u001b[39m\n",
       "\u001b[90m│  \u001b[39m       (dist = Main.abs(%12))\u001b[90m::Float64\u001b[39m\n",
       "\u001b[90m│  \u001b[39m %14 = (dist < bestdist)\u001b[36m::Bool\u001b[39m\n",
       "\u001b[90m└──\u001b[39m       goto #4 if not %14\n",
       "\u001b[90m3 ─\u001b[39m       (bestval = elt)\u001b[90m::Float64\u001b[39m\n",
       "\u001b[90m└──\u001b[39m       (bestdist = dist)\u001b[90m::Float64\u001b[39m\n",
       "\u001b[90m4 ┄\u001b[39m       (@_4 = Base.iterate(%4, %11))\u001b[90m::Union{Nothing, Tuple{Float64, Int64}}\u001b[39m\n",
       "\u001b[90m│  \u001b[39m %19 = (@_4 === nothing)\u001b[36m::Bool\u001b[39m\n",
       "\u001b[90m│  \u001b[39m %20 = Base.not_int(%19)\u001b[36m::Bool\u001b[39m\n",
       "\u001b[90m└──\u001b[39m       goto #6 if not %20\n",
       "\u001b[90m5 ─\u001b[39m       goto #2\n",
       "\u001b[90m6 ┄\u001b[39m       return bestval\n",
       ") => Float64"
      ]
     },
     "execution_count": 22,
     "metadata": {},
     "output_type": "execute_result"
    }
   ],
   "source": [
    "@code_typed optimize=false findclosest2(data, 0.5)"
   ]
  },
  {
   "cell_type": "code",
   "execution_count": 23,
   "metadata": {},
   "outputs": [
    {
     "data": {
      "text/plain": [
       "Vector{Float64}\u001b[90m (alias for \u001b[39m\u001b[90mArray{Float64, 1}\u001b[39m\u001b[90m)\u001b[39m"
      ]
     },
     "execution_count": 23,
     "metadata": {},
     "output_type": "execute_result"
    }
   ],
   "source": [
    "typeof(data)"
   ]
  },
  {
   "cell_type": "code",
   "execution_count": 24,
   "metadata": {},
   "outputs": [
    {
     "data": {
      "text/plain": [
       "Vector{Real}\u001b[90m (alias for \u001b[39m\u001b[90mArray{Real, 1}\u001b[39m\u001b[90m)\u001b[39m"
      ]
     },
     "execution_count": 24,
     "metadata": {},
     "output_type": "execute_result"
    }
   ],
   "source": [
    "newdata = Real[data...]\n",
    "typeof(newdata)"
   ]
  },
  {
   "cell_type": "code",
   "execution_count": 25,
   "metadata": {},
   "outputs": [
    {
     "data": {
      "text/plain": [
       "CodeInfo(\n",
       "\u001b[90m1 ─\u001b[39m       (bestval = Main.first(data))\u001b[90m::Real\u001b[39m\n",
       "\u001b[90m│  \u001b[39m %2  = (bestval - point)\u001b[36m::Any\u001b[39m\n",
       "\u001b[90m│  \u001b[39m       (bestdist = Main.abs(%2))\u001b[90m::Any\u001b[39m\n",
       "\u001b[90m│  \u001b[39m %4  = data\u001b[36m::Vector{Real}\u001b[39m\n",
       "\u001b[90m│  \u001b[39m       (@_4 = Base.iterate(%4))\u001b[90m::Union{Nothing, Tuple{Real, Int64}}\u001b[39m\n",
       "\u001b[90m│  \u001b[39m %6  = (@_4 === nothing)\u001b[36m::Bool\u001b[39m\n",
       "\u001b[90m│  \u001b[39m %7  = Base.not_int(%6)\u001b[36m::Bool\u001b[39m\n",
       "\u001b[90m└──\u001b[39m       goto #6 if not %7\n",
       "\u001b[90m2 ┄\u001b[39m %9  = @_4\u001b[36m::Tuple{Real, Int64}\u001b[39m\n",
       "\u001b[90m│  \u001b[39m       (elt = Core.getfield(%9, 1))\u001b[90m::Real\u001b[39m\n",
       "\u001b[90m│  \u001b[39m %11 = Core.getfield(%9, 2)\u001b[36m::Int64\u001b[39m\n",
       "\u001b[90m│  \u001b[39m %12 = (elt - point)\u001b[36m::Any\u001b[39m\n",
       "\u001b[90m│  \u001b[39m       (dist = Main.abs(%12))\u001b[90m::Any\u001b[39m\n",
       "\u001b[90m│  \u001b[39m %14 = (dist < bestdist)\u001b[36m::Any\u001b[39m\n",
       "\u001b[90m└──\u001b[39m       goto #4 if not %14\n",
       "\u001b[90m3 ─\u001b[39m       (bestval = elt)\u001b[90m::Real\u001b[39m\n",
       "\u001b[90m└──\u001b[39m       (bestdist = dist)\u001b[90m::Any\u001b[39m\n",
       "\u001b[90m4 ┄\u001b[39m       (@_4 = Base.iterate(%4, %11))\u001b[90m::Union{Nothing, Tuple{Real, Int64}}\u001b[39m\n",
       "\u001b[90m│  \u001b[39m %19 = (@_4 === nothing)\u001b[36m::Bool\u001b[39m\n",
       "\u001b[90m│  \u001b[39m %20 = Base.not_int(%19)\u001b[36m::Bool\u001b[39m\n",
       "\u001b[90m└──\u001b[39m       goto #6 if not %20\n",
       "\u001b[90m5 ─\u001b[39m       goto #2\n",
       "\u001b[90m6 ┄\u001b[39m       return bestval\n",
       ") => Real"
      ]
     },
     "execution_count": 25,
     "metadata": {},
     "output_type": "execute_result"
    }
   ],
   "source": [
    "@code_typed optimize=false findclosest2(newdata, 0.5)"
   ]
  },
  {
   "cell_type": "code",
   "execution_count": 26,
   "metadata": {},
   "outputs": [
    {
     "data": {
      "text/plain": [
       "BenchmarkTools.Trial: 10000 samples with 1 evaluation.\n",
       " Range \u001b[90m(\u001b[39m\u001b[36m\u001b[1mmin\u001b[22m\u001b[39m … \u001b[35mmax\u001b[39m\u001b[90m):  \u001b[39m\u001b[36m\u001b[1m146.229 μs\u001b[22m\u001b[39m … \u001b[35m 1.984 ms\u001b[39m  \u001b[90m┊\u001b[39m GC \u001b[90m(\u001b[39mmin … max\u001b[90m): \u001b[39m0.00% … 90.97%\n",
       " Time  \u001b[90m(\u001b[39m\u001b[34m\u001b[1mmedian\u001b[22m\u001b[39m\u001b[90m):     \u001b[39m\u001b[34m\u001b[1m153.479 μs              \u001b[22m\u001b[39m\u001b[90m┊\u001b[39m GC \u001b[90m(\u001b[39mmedian\u001b[90m):    \u001b[39m0.00%\n",
       " Time  \u001b[90m(\u001b[39m\u001b[32m\u001b[1mmean\u001b[22m\u001b[39m ± \u001b[32mσ\u001b[39m\u001b[90m):   \u001b[39m\u001b[32m\u001b[1m163.144 μs\u001b[22m\u001b[39m ± \u001b[32m78.498 μs\u001b[39m  \u001b[90m┊\u001b[39m GC \u001b[90m(\u001b[39mmean ± σ\u001b[90m):  \u001b[39m2.73% ±  5.24%\n",
       "\n",
       "  \u001b[39m▃\u001b[39m \u001b[39m█\u001b[34m▃\u001b[39m\u001b[39m▃\u001b[39m \u001b[32m \u001b[39m\u001b[39m \u001b[39m \u001b[39m \u001b[39m \u001b[39m \u001b[39m \u001b[39m \u001b[39m \u001b[39m \u001b[39m \u001b[39m \u001b[39m▁\u001b[39m▁\u001b[39m \u001b[39m \u001b[39m \u001b[39m \u001b[39m \u001b[39m \u001b[39m \u001b[39m \u001b[39m \u001b[39m \u001b[39m \u001b[39m \u001b[39m \u001b[39m \u001b[39m \u001b[39m \u001b[39m \u001b[39m \u001b[39m \u001b[39m \u001b[39m \u001b[39m \u001b[39m \u001b[39m \u001b[39m \u001b[39m \u001b[39m \u001b[39m \u001b[39m \u001b[39m \u001b[39m \u001b[39m \u001b[39m \u001b[39m \u001b[39m \u001b[39m \u001b[39m \u001b[39m \u001b[39m \u001b[39m \u001b[39m \u001b[39m▁\n",
       "  \u001b[39m█\u001b[39m█\u001b[39m█\u001b[34m█\u001b[39m\u001b[39m█\u001b[39m▇\u001b[32m█\u001b[39m\u001b[39m▇\u001b[39m▇\u001b[39m▇\u001b[39m▇\u001b[39m▇\u001b[39m▇\u001b[39m▇\u001b[39m▆\u001b[39m▆\u001b[39m▆\u001b[39m▇\u001b[39m█\u001b[39m█\u001b[39m▇\u001b[39m▆\u001b[39m▆\u001b[39m▅\u001b[39m▅\u001b[39m▄\u001b[39m▄\u001b[39m▅\u001b[39m▄\u001b[39m▄\u001b[39m▄\u001b[39m▅\u001b[39m▄\u001b[39m▃\u001b[39m▃\u001b[39m▃\u001b[39m▃\u001b[39m▂\u001b[39m▂\u001b[39m▂\u001b[39m▃\u001b[39m▂\u001b[39m▄\u001b[39m▃\u001b[39m▂\u001b[39m▃\u001b[39m▃\u001b[39m▃\u001b[39m▃\u001b[39m▂\u001b[39m▃\u001b[39m▂\u001b[39m▃\u001b[39m▄\u001b[39m▃\u001b[39m▄\u001b[39m▄\u001b[39m▄\u001b[39m▅\u001b[39m▆\u001b[39m \u001b[39m█\n",
       "  146 μs\u001b[90m        \u001b[39m\u001b[90mHistogram: \u001b[39m\u001b[90m\u001b[1mlog(\u001b[22m\u001b[39m\u001b[90mfrequency\u001b[39m\u001b[90m\u001b[1m)\u001b[22m\u001b[39m\u001b[90m by time\u001b[39m       310 μs \u001b[0m\u001b[1m<\u001b[22m\n",
       "\n",
       " Memory estimate\u001b[90m: \u001b[39m\u001b[33m156.28 KiB\u001b[39m, allocs estimate\u001b[90m: \u001b[39m\u001b[33m10002\u001b[39m."
      ]
     },
     "execution_count": 26,
     "metadata": {},
     "output_type": "execute_result"
    }
   ],
   "source": [
    "@benchmark findclosest2($newdata, $0.5)"
   ]
  },
  {
   "cell_type": "code",
   "execution_count": 27,
   "metadata": {
    "collapsed": true
   },
   "outputs": [
    {
     "name": "stdout",
     "output_type": "stream",
     "text": [
      "MethodInstance for findclosest2(::Vector{Real}, ::Float64)\n",
      "  from findclosest2(data, point) in Main at In[12]:1\n",
      "Arguments\n",
      "  #self#\u001b[36m::Core.Const(findclosest2)\u001b[39m\n",
      "  data\u001b[36m::Vector{Real}\u001b[39m\n",
      "  point\u001b[36m::Float64\u001b[39m\n",
      "Locals\n",
      "  @_4\u001b[33m\u001b[1m::Union{Nothing, Tuple{Real, Int64}}\u001b[22m\u001b[39m\n",
      "  bestdist\u001b[91m\u001b[1m::Any\u001b[22m\u001b[39m\n",
      "  bestval\u001b[91m\u001b[1m::Real\u001b[22m\u001b[39m\n",
      "  elt\u001b[91m\u001b[1m::Real\u001b[22m\u001b[39m\n",
      "  dist\u001b[91m\u001b[1m::Any\u001b[22m\u001b[39m\n",
      "Body\u001b[91m\u001b[1m::Real\u001b[22m\u001b[39m\n",
      "\u001b[90m1 ─\u001b[39m       (bestval = Main.first(data))\n",
      "\u001b[90m│  \u001b[39m %2  = (bestval - point)\u001b[91m\u001b[1m::Any\u001b[22m\u001b[39m\n",
      "\u001b[90m│  \u001b[39m       (bestdist = Main.abs(%2))\n",
      "\u001b[90m│  \u001b[39m %4  = data\u001b[36m::Vector{Real}\u001b[39m\n",
      "\u001b[90m│  \u001b[39m       (@_4 = Base.iterate(%4))\n",
      "\u001b[90m│  \u001b[39m %6  = (@_4 === nothing)\u001b[36m::Bool\u001b[39m\n",
      "\u001b[90m│  \u001b[39m %7  = Base.not_int(%6)\u001b[36m::Bool\u001b[39m\n",
      "\u001b[90m└──\u001b[39m       goto #6 if not %7\n",
      "\u001b[90m2 ┄\u001b[39m %9  = @_4\u001b[91m\u001b[1m::Tuple{Real, Int64}\u001b[22m\u001b[39m\n",
      "\u001b[90m│  \u001b[39m       (elt = Core.getfield(%9, 1))\n",
      "\u001b[90m│  \u001b[39m %11 = Core.getfield(%9, 2)\u001b[36m::Int64\u001b[39m\n",
      "\u001b[90m│  \u001b[39m %12 = (elt - point)\u001b[91m\u001b[1m::Any\u001b[22m\u001b[39m\n",
      "\u001b[90m│  \u001b[39m       (dist = Main.abs(%12))\n",
      "\u001b[90m│  \u001b[39m %14 = (dist < bestdist)\u001b[91m\u001b[1m::Any\u001b[22m\u001b[39m\n",
      "\u001b[90m└──\u001b[39m       goto #4 if not %14\n",
      "\u001b[90m3 ─\u001b[39m       (bestval = elt)\n",
      "\u001b[90m└──\u001b[39m       (bestdist = dist)\n",
      "\u001b[90m4 ┄\u001b[39m       (@_4 = Base.iterate(%4, %11))\n",
      "\u001b[90m│  \u001b[39m %19 = (@_4 === nothing)\u001b[36m::Bool\u001b[39m\n",
      "\u001b[90m│  \u001b[39m %20 = Base.not_int(%19)\u001b[36m::Bool\u001b[39m\n",
      "\u001b[90m└──\u001b[39m       goto #6 if not %20\n",
      "\u001b[90m5 ─\u001b[39m       goto #2\n",
      "\u001b[90m6 ┄\u001b[39m       return bestval\n",
      "\n"
     ]
    }
   ],
   "source": [
    "@code_warntype findclosest2(newdata, 0.5)"
   ]
  },
  {
   "cell_type": "code",
   "execution_count": 28,
   "metadata": {
    "collapsed": true
   },
   "outputs": [
    {
     "name": "stdout",
     "output_type": "stream",
     "text": [
      "MethodInstance for findclosest2(::Vector{Float64}, ::Float64)\n",
      "  from findclosest2(data, point) in Main at In[12]:1\n",
      "Arguments\n",
      "  #self#\u001b[36m::Core.Const(findclosest2)\u001b[39m\n",
      "  data\u001b[36m::Vector{Float64}\u001b[39m\n",
      "  point\u001b[36m::Float64\u001b[39m\n",
      "Locals\n",
      "  @_4\u001b[33m\u001b[1m::Union{Nothing, Tuple{Float64, Int64}}\u001b[22m\u001b[39m\n",
      "  bestdist\u001b[36m::Float64\u001b[39m\n",
      "  bestval\u001b[36m::Float64\u001b[39m\n",
      "  elt\u001b[36m::Float64\u001b[39m\n",
      "  dist\u001b[36m::Float64\u001b[39m\n",
      "Body\u001b[36m::Float64\u001b[39m\n",
      "\u001b[90m1 ─\u001b[39m       (bestval = Main.first(data))\n",
      "\u001b[90m│  \u001b[39m %2  = (bestval - point)\u001b[36m::Float64\u001b[39m\n",
      "\u001b[90m│  \u001b[39m       (bestdist = Main.abs(%2))\n",
      "\u001b[90m│  \u001b[39m %4  = data\u001b[36m::Vector{Float64}\u001b[39m\n",
      "\u001b[90m│  \u001b[39m       (@_4 = Base.iterate(%4))\n",
      "\u001b[90m│  \u001b[39m %6  = (@_4 === nothing)\u001b[36m::Bool\u001b[39m\n",
      "\u001b[90m│  \u001b[39m %7  = Base.not_int(%6)\u001b[36m::Bool\u001b[39m\n",
      "\u001b[90m└──\u001b[39m       goto #6 if not %7\n",
      "\u001b[90m2 ┄\u001b[39m %9  = @_4\u001b[36m::Tuple{Float64, Int64}\u001b[39m\n",
      "\u001b[90m│  \u001b[39m       (elt = Core.getfield(%9, 1))\n",
      "\u001b[90m│  \u001b[39m %11 = Core.getfield(%9, 2)\u001b[36m::Int64\u001b[39m\n",
      "\u001b[90m│  \u001b[39m %12 = (elt - point)\u001b[36m::Float64\u001b[39m\n",
      "\u001b[90m│  \u001b[39m       (dist = Main.abs(%12))\n",
      "\u001b[90m│  \u001b[39m %14 = (dist < bestdist)\u001b[36m::Bool\u001b[39m\n",
      "\u001b[90m└──\u001b[39m       goto #4 if not %14\n",
      "\u001b[90m3 ─\u001b[39m       (bestval = elt)\n",
      "\u001b[90m└──\u001b[39m       (bestdist = dist)\n",
      "\u001b[90m4 ┄\u001b[39m       (@_4 = Base.iterate(%4, %11))\n",
      "\u001b[90m│  \u001b[39m %19 = (@_4 === nothing)\u001b[36m::Bool\u001b[39m\n",
      "\u001b[90m│  \u001b[39m %20 = Base.not_int(%19)\u001b[36m::Bool\u001b[39m\n",
      "\u001b[90m└──\u001b[39m       goto #6 if not %20\n",
      "\u001b[90m5 ─\u001b[39m       goto #2\n",
      "\u001b[90m6 ┄\u001b[39m       return bestval\n",
      "\n"
     ]
    }
   ],
   "source": [
    "@code_warntype findclosest2(data, 0.5)"
   ]
  },
  {
   "cell_type": "markdown",
   "metadata": {},
   "source": [
    "### Tipo de estabilidad\n",
    "\n",
    "Una función se denomina de tipo estable si Julia puede inferir cuál será el tipo de salida basándose únicamente en los tipos de las entradas.\n",
    "\n",
    "Cosas que frustran la estabilidad del tipo:\n",
    "\n",
    "* Ejecutar cosas en el ámbito global: ¡cree funciones en su lugar!\n",
    "* Contenedores de un tipo no concreto\n",
    "* Estructuras con campos de tipo abstracto\n",
    "* Globales no constantes (¡podrían cambiar!)\n",
    "* Funciones que cambian lo que devuelven en función de los _valores_ :"
   ]
  },
  {
   "cell_type": "markdown",
   "metadata": {},
   "source": [
    "#### Más sobre macros\n",
    "Todas y cada una de las macros pueden definir su propia sintaxis. La macro @benchmark usa $ de una manera especial. El objetivo detrás de @benchmark es evaluar el rendimiento de un fragmento de código como si estuviera escrito en una función. Use $ para marcar lo que será un argumento o una variable local en la función. Olvidarse de usar $ puede resultar en tiempos más rápidos o más lentos que el rendimiento del mundo real."
   ]
  },
  {
   "cell_type": "code",
   "execution_count": 29,
   "metadata": {},
   "outputs": [
    {
     "name": "stdout",
     "output_type": "stream",
     "text": [
      "  18.578 ns (1 allocation: 16 bytes)\n",
      "  5.284 ns (0 allocations: 0 bytes)\n"
     ]
    },
    {
     "data": {
      "text/plain": [
       "0.479425538604203"
      ]
     },
     "execution_count": 29,
     "metadata": {},
     "output_type": "execute_result"
    }
   ],
   "source": [
    "x = 0.5 # non-constant global\n",
    "@btime sin(x)\n",
    "@btime sin($x)"
   ]
  },
  {
   "cell_type": "code",
   "execution_count": 30,
   "metadata": {},
   "outputs": [
    {
     "name": "stdout",
     "output_type": "stream",
     "text": [
      "  1.268 ns (0 allocations: 0 bytes)\n",
      "  5.284 ns (0 allocations: 0 bytes)\n"
     ]
    },
    {
     "data": {
      "text/plain": [
       "0.479425538604203"
      ]
     },
     "execution_count": 30,
     "metadata": {},
     "output_type": "execute_result"
    }
   ],
   "source": [
    "@btime sin(0.5) # constant literal!\n",
    "@btime sin($0.5)"
   ]
  },
  {
   "cell_type": "code",
   "execution_count": 31,
   "metadata": {},
   "outputs": [
    {
     "data": {
      "text/plain": [
       "f (generic function with 1 method)"
      ]
     },
     "execution_count": 31,
     "metadata": {},
     "output_type": "execute_result"
    }
   ],
   "source": [
    "x=1\n",
    "f()=sin(x)"
   ]
  },
  {
   "cell_type": "code",
   "execution_count": 33,
   "metadata": {},
   "outputs": [
    {
     "name": "stdout",
     "output_type": "stream",
     "text": [
      "  22.847 ns (1 allocation: 16 bytes)\n"
     ]
    },
    {
     "data": {
      "text/plain": [
       "0.8414709848078965"
      ]
     },
     "execution_count": 33,
     "metadata": {},
     "output_type": "execute_result"
    }
   ],
   "source": [
    "@btime f()"
   ]
  },
  {
   "cell_type": "code",
   "execution_count": 34,
   "metadata": {},
   "outputs": [
    {
     "data": {
      "text/plain": [
       "g (generic function with 1 method)"
      ]
     },
     "execution_count": 34,
     "metadata": {},
     "output_type": "execute_result"
    }
   ],
   "source": [
    "g(x)=sin(x)"
   ]
  },
  {
   "cell_type": "code",
   "execution_count": 35,
   "metadata": {},
   "outputs": [
    {
     "name": "stdout",
     "output_type": "stream",
     "text": [
      "  1.269 ns (0 allocations: 0 bytes)\n"
     ]
    },
    {
     "data": {
      "text/plain": [
       "-0.87969575997167"
      ]
     },
     "execution_count": 35,
     "metadata": {},
     "output_type": "execute_result"
    }
   ],
   "source": [
    "@btime g(10.5)"
   ]
  },
  {
   "cell_type": "code",
   "execution_count": 36,
   "metadata": {},
   "outputs": [
    {
     "name": "stdout",
     "output_type": "stream",
     "text": [
      "  9.798 ns (0 allocations: 0 bytes)\n"
     ]
    },
    {
     "data": {
      "text/plain": [
       "-0.87969575997167"
      ]
     },
     "execution_count": 36,
     "metadata": {},
     "output_type": "execute_result"
    }
   ],
   "source": [
    "t=10.5\n",
    "@btime g($t)"
   ]
  },
  {
   "cell_type": "code",
   "execution_count": null,
   "metadata": {},
   "outputs": [],
   "source": []
  }
 ],
 "metadata": {
  "kernelspec": {
   "display_name": "Julia 1.8.3",
   "language": "julia",
   "name": "julia-1.8"
  },
  "language_info": {
   "file_extension": ".jl",
   "mimetype": "application/julia",
   "name": "julia",
   "version": "1.8.3"
  }
 },
 "nbformat": 4,
 "nbformat_minor": 2
}
