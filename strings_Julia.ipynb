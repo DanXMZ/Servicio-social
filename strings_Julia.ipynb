{
 "cells": [
  {
   "cell_type": "code",
   "execution_count": null,
   "id": "4b4db3c0",
   "metadata": {},
   "outputs": [],
   "source": [
    "#Operaciones con cadenas de caracteres(Strings)"
   ]
  },
  {
   "cell_type": "code",
   "execution_count": 1,
   "id": "4bd7cde4",
   "metadata": {
    "scrolled": true
   },
   "outputs": [
    {
     "data": {
      "text/plain": [
       "\"abcdef\""
      ]
     },
     "execution_count": 1,
     "metadata": {},
     "output_type": "execute_result"
    }
   ],
   "source": [
    "var1=\"abcdef\""
   ]
  },
  {
   "cell_type": "code",
   "execution_count": null,
   "id": "7e16a5f2",
   "metadata": {},
   "outputs": [],
   "source": [
    "#Concatenar dos cadenas de caracteres(* operator)"
   ]
  },
  {
   "cell_type": "code",
   "execution_count": 3,
   "id": "a3ede49f",
   "metadata": {},
   "outputs": [
    {
     "data": {
      "text/plain": [
       "\"Julia Language\""
      ]
     },
     "execution_count": 3,
     "metadata": {},
     "output_type": "execute_result"
    }
   ],
   "source": [
    "\"Julia \"*\"Language\""
   ]
  },
  {
   "cell_type": "code",
   "execution_count": null,
   "id": "7b5f1b3d",
   "metadata": {},
   "outputs": [],
   "source": [
    "#otra forma"
   ]
  },
  {
   "cell_type": "code",
   "execution_count": 4,
   "id": "48ae6ffa",
   "metadata": {},
   "outputs": [
    {
     "data": {
      "text/plain": [
       "\"DanX\""
      ]
     },
     "execution_count": 4,
     "metadata": {},
     "output_type": "execute_result"
    }
   ],
   "source": [
    "Greeting=\"What's up?\";\n",
    "Name=\"DanX\""
   ]
  },
  {
   "cell_type": "code",
   "execution_count": 5,
   "id": "510b7589",
   "metadata": {},
   "outputs": [
    {
     "data": {
      "text/plain": [
       "\"What's up?,DanX\""
      ]
     },
     "execution_count": 5,
     "metadata": {},
     "output_type": "execute_result"
    }
   ],
   "source": [
    "Greeting*\",\"*Name"
   ]
  },
  {
   "cell_type": "code",
   "execution_count": 6,
   "id": "45c62370",
   "metadata": {},
   "outputs": [],
   "source": [
    "#Repetir cadena (^ operator)"
   ]
  },
  {
   "cell_type": "code",
   "execution_count": 8,
   "id": "d9ac502e",
   "metadata": {},
   "outputs": [
    {
     "data": {
      "text/plain": [
       "\"Julia language.Julia language.Julia language.Julia language.\""
      ]
     },
     "execution_count": 8,
     "metadata": {},
     "output_type": "execute_result"
    }
   ],
   "source": [
    "\"Julia language.\"^4"
   ]
  },
  {
   "cell_type": "code",
   "execution_count": 9,
   "id": "5bd29727",
   "metadata": {},
   "outputs": [
    {
     "data": {
      "text/plain": [
       "\"What's up?What's up?What's up?\""
      ]
     },
     "execution_count": 9,
     "metadata": {},
     "output_type": "execute_result"
    }
   ],
   "source": [
    "Greeting^3"
   ]
  },
  {
   "cell_type": "code",
   "execution_count": 12,
   "id": "e36063c6",
   "metadata": {},
   "outputs": [
    {
     "data": {
      "text/plain": [
       "(\"let's \", \"to \", \"repeat.\")"
      ]
     },
     "execution_count": 12,
     "metadata": {},
     "output_type": "execute_result"
    }
   ],
   "source": [
    "x,y,z=\"let's \",\"to \",\"repeat.\""
   ]
  },
  {
   "cell_type": "code",
   "execution_count": 13,
   "id": "6d8bda31",
   "metadata": {},
   "outputs": [
    {
     "data": {
      "text/plain": [
       "\"let's to repeat.\""
      ]
     },
     "execution_count": 13,
     "metadata": {},
     "output_type": "execute_result"
    }
   ],
   "source": [
    "x*y*z"
   ]
  },
  {
   "cell_type": "code",
   "execution_count": 14,
   "id": "bb8c1797",
   "metadata": {},
   "outputs": [
    {
     "data": {
      "text/plain": [
       "\"let's to repeat.let's to repeat.\""
      ]
     },
     "execution_count": 14,
     "metadata": {},
     "output_type": "execute_result"
    }
   ],
   "source": [
    "(x*y*z)^2"
   ]
  },
  {
   "cell_type": "code",
   "execution_count": 16,
   "id": "e4dfa0d1",
   "metadata": {},
   "outputs": [
    {
     "data": {
      "text/plain": [
       "\"let's to repeat.repeat.repeat.\""
      ]
     },
     "execution_count": 16,
     "metadata": {},
     "output_type": "execute_result"
    }
   ],
   "source": [
    "x*y*z^3"
   ]
  },
  {
   "cell_type": "code",
   "execution_count": 17,
   "id": "d572666d",
   "metadata": {},
   "outputs": [],
   "source": [
    "#caracteres especiales imprimibles que no estan en teclado, por ejemplo alfabeto griego\n",
    "#usamos \"\\ + nombre_caracter(letra)+TAB(teclado) ej. \\alpha[TAB]"
   ]
  },
  {
   "cell_type": "code",
   "execution_count": 18,
   "id": "d9121d99",
   "metadata": {},
   "outputs": [
    {
     "name": "stdout",
     "output_type": "stream",
     "text": [
      "Imprimiré las tres primeras letras del alfabeto griego:\n",
      "α\n",
      "β\n",
      "γ\n"
     ]
    }
   ],
   "source": [
    "println(\"Imprimiré las tres primeras letras del alfabeto griego:\")\n",
    "println(\"α\")\n",
    "println(\"β\")\n",
    "println(\"γ\")"
   ]
  },
  {
   "cell_type": "code",
   "execution_count": 19,
   "id": "87f77086",
   "metadata": {},
   "outputs": [],
   "source": [
    "#Como nombre de variables"
   ]
  },
  {
   "cell_type": "code",
   "execution_count": 22,
   "id": "25041196",
   "metadata": {},
   "outputs": [
    {
     "data": {
      "text/plain": [
       "\"Esto es una cadena de caracteres.\""
      ]
     },
     "execution_count": 22,
     "metadata": {},
     "output_type": "execute_result"
    }
   ],
   "source": [
    "δ=\"Esto es una cadena de caracteres.\""
   ]
  },
  {
   "cell_type": "code",
   "execution_count": 23,
   "id": "aa440e27",
   "metadata": {},
   "outputs": [
    {
     "data": {
      "text/plain": [
       "\"Esto es una cadena de caracteres.Esto es una cadena de caracteres.\""
      ]
     },
     "execution_count": 23,
     "metadata": {},
     "output_type": "execute_result"
    }
   ],
   "source": [
    "δ^2"
   ]
  },
  {
   "cell_type": "code",
   "execution_count": 24,
   "id": "f2b9428c",
   "metadata": {},
   "outputs": [
    {
     "data": {
      "text/plain": [
       "'b': ASCII/Unicode U+0062 (category Ll: Letter, lowercase)"
      ]
     },
     "execution_count": 24,
     "metadata": {},
     "output_type": "execute_result"
    }
   ],
   "source": [
    "'a'+1"
   ]
  },
  {
   "cell_type": "code",
   "execution_count": null,
   "id": "e522da56",
   "metadata": {},
   "outputs": [],
   "source": []
  }
 ],
 "metadata": {
  "kernelspec": {
   "display_name": "Julia 1.7.3",
   "language": "julia",
   "name": "julia-1.7"
  },
  "language_info": {
   "file_extension": ".jl",
   "mimetype": "application/julia",
   "name": "julia",
   "version": "1.7.3"
  }
 },
 "nbformat": 4,
 "nbformat_minor": 5
}
