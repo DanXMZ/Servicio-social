{
 "cells": [
  {
   "cell_type": "markdown",
   "id": "9c913050",
   "metadata": {},
   "source": [
    "## Optimización"
   ]
  },
  {
   "cell_type": "markdown",
   "id": "63330902",
   "metadata": {},
   "source": [
    "## Gradiente descendente $\\nabla$"
   ]
  },
  {
   "cell_type": "markdown",
   "id": "1533f01d",
   "metadata": {},
   "source": [
    "Algoritmo computacional que permite determinar el mínimo de una función matemática.\n",
    "\n",
    "El gradiente como tal es sinónimo de pendiente o inclinación, lo que matematicamente definimos como derivada de una función.\n",
    "Esto es, el algoritmo de gradiente descendente es un metodo iterativo basado en dos paramatros de entrada:\n",
    "- El numero de iteraciones que tendra el procedimiento que podemos definir como $n$\n",
    "- La taza de aprendizaje o (learning rate), conocido como el parametro $\\alpha$. Este nos indicará el numero de iteraciones requerido aproximado para que se encuentre el mínimo de la función.\n",
    "Una vez que se definieron estos parametros se realiza de la siguiente forma:\n",
    "- Se define un numero aleatorio inicial que definiremos como $\\omega$, el cual será el valor de la variable independiente en el caso de que nuestra función sea de dos dimensiones unicamente.\n",
    "- Cada iteración actualiza el valor de la variable independiente con la siguiente relación $\\omega = \\omega - \\alpha * \\nabla$, que como se mencionó corresponde a la derivada de la función evaluada en el punto $\\omega .$\n",
    "- Esto se repite las $n$ veces que definimos al inicio.\n",
    "\n",
    "Ejemplificando esto, se define una función sencilla $f(x) = x^2 +2$. Por inspección podemos determinar que el valor de $x$ para obtenr el valor mínimo de la función seria 0. Ahora con el algoritmo tenemos que:\n",
    "\n",
    "Si $\\alpha = 0.25$, $\\omega_0 = 5$ y la derivada o gradiente de la función $f'(x)=\\nabla=2x$\n",
    "\n",
    "$$\n",
    "\\begin{align}\n",
    "\\omega_1 &= \\omega_0 - \\alpha * \\nabla\\\\\n",
    "&= 5-(0.25)(2(5))\\\\\n",
    "&=2.5\n",
    "\\end{align}\n",
    "$$\n",
    "Por lo tanto,\n",
    "$$\n",
    "\\begin{align}\n",
    "\\omega_2 &= 1.25\\\\\n",
    "\\omega_3 &= 0.625\\\\\n",
    "\\omega_4 &= 0.3125\\\\\n",
    "\\omega_5 &= 0.156\\\\\n",
    "\\omega_6 &= 0.078\\\\\n",
    "\\end{align}\n",
    "$$\n",
    "Se observa que despues de seis iteraciones nos acercamos mucho al valor real, como en cualquier otro método numérico el numero que se define de iteraciones determinará cuan próximo esta el valor obtenido, es este caso a $x=0$.\n",
    "\n"
   ]
  },
  {
   "cell_type": "code",
   "execution_count": null,
   "id": "5a2c6922",
   "metadata": {},
   "outputs": [],
   "source": []
  },
  {
   "cell_type": "code",
   "execution_count": null,
   "id": "039759d9",
   "metadata": {},
   "outputs": [],
   "source": []
  }
 ],
 "metadata": {
  "kernelspec": {
   "display_name": "Julia 1.7.3",
   "language": "julia",
   "name": "julia-1.7"
  },
  "language_info": {
   "file_extension": ".jl",
   "mimetype": "application/julia",
   "name": "julia",
   "version": "1.7.3"
  }
 },
 "nbformat": 4,
 "nbformat_minor": 5
}
