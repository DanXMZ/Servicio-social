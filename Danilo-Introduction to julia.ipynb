{
 "cells": [
  {
   "cell_type": "markdown",
   "metadata": {},
   "source": [
    "# Introduction to julia David Sanders "
   ]
  },
  {
   "cell_type": "markdown",
   "metadata": {},
   "source": [
    "##  Sintaxis basica de julia"
   ]
  },
  {
   "cell_type": "markdown",
   "metadata": {},
   "source": [
    "Vamos a ver una definicion básica de una funcion en julia, la cual compara un dato de entrada con un numero generado aleatoriamente."
   ]
  },
  {
   "cell_type": "code",
   "execution_count": 1,
   "metadata": {},
   "outputs": [
    {
     "data": {
      "text/plain": [
       "print_result (generic function with 1 method)"
      ]
     },
     "execution_count": 1,
     "metadata": {},
     "output_type": "execute_result"
    }
   ],
   "source": [
    "function coin(p)\n",
    "    r = rand()\n",
    "    println(r)\n",
    "    \n",
    "    return r < p\n",
    "end\n",
    "function print_result(val)\n",
    "    if val == true\n",
    "        println(\"es mayor\")\n",
    "        else println(\"es menor\")\n",
    "    end\n",
    "end\n"
   ]
  },
  {
   "cell_type": "code",
   "execution_count": 2,
   "metadata": {},
   "outputs": [
    {
     "name": "stdout",
     "output_type": "stream",
     "text": [
      "0.1991365641818923\n",
      "es mayor\n"
     ]
    }
   ],
   "source": [
    "val=coin(5)\n",
    "\n",
    "print_result(val)"
   ]
  },
  {
   "cell_type": "code",
   "execution_count": 3,
   "metadata": {},
   "outputs": [
    {
     "data": {
      "text/plain": [
       "g (generic function with 1 method)"
      ]
     },
     "execution_count": 3,
     "metadata": {},
     "output_type": "execute_result"
    }
   ],
   "source": [
    "f(x)=2x^2+3x+1\n",
    "g(x)=f(x)-(2x+1)*(x+1)"
   ]
  },
  {
   "cell_type": "code",
   "execution_count": 4,
   "metadata": {},
   "outputs": [
    {
     "data": {
      "text/plain": [
       "28"
      ]
     },
     "execution_count": 4,
     "metadata": {},
     "output_type": "execute_result"
    }
   ],
   "source": [
    "f(3)"
   ]
  },
  {
   "cell_type": "code",
   "execution_count": 5,
   "metadata": {},
   "outputs": [
    {
     "data": {
      "text/plain": [
       "0.0"
      ]
     },
     "execution_count": 5,
     "metadata": {},
     "output_type": "execute_result"
    }
   ],
   "source": [
    "g(3.5)"
   ]
  },
  {
   "cell_type": "markdown",
   "metadata": {},
   "source": [
    "#sustitucion de variable con $ "
   ]
  },
  {
   "cell_type": "code",
   "execution_count": 6,
   "metadata": {},
   "outputs": [
    {
     "name": "stdout",
     "output_type": "stream",
     "text": [
      "Hello,Danilo\n"
     ]
    }
   ],
   "source": [
    "name= \"Danilo\"\n",
    "greeting =\"Hello,$name\"\n",
    "println(greeting)"
   ]
  },
  {
   "cell_type": "markdown",
   "metadata": {},
   "source": [
    "# numerical types\n",
    "    hay tipos de numeros con diferentes precisiones: tecleando float<Tab> o int<TAB>"
   ]
  },
  {
   "cell_type": "code",
   "execution_count": 7,
   "metadata": {},
   "outputs": [
    {
     "data": {
      "text/plain": [
       "3"
      ]
     },
     "execution_count": 7,
     "metadata": {},
     "output_type": "execute_result"
    }
   ],
   "source": [
    "a=Int8(1)\n",
    "b=Int8(2)\n",
    "a+b"
   ]
  },
  {
   "cell_type": "code",
   "execution_count": 8,
   "metadata": {},
   "outputs": [
    {
     "data": {
      "text/plain": [
       "Int8"
      ]
     },
     "execution_count": 8,
     "metadata": {},
     "output_type": "execute_result"
    }
   ],
   "source": [
    "typeof(ans)"
   ]
  },
  {
   "cell_type": "markdown",
   "metadata": {},
   "source": [
    "#BigInt"
   ]
  },
  {
   "cell_type": "code",
   "execution_count": 9,
   "metadata": {},
   "outputs": [
    {
     "data": {
      "text/plain": [
       "100000"
      ]
     },
     "execution_count": 9,
     "metadata": {},
     "output_type": "execute_result"
    }
   ],
   "source": [
    "10^5"
   ]
  },
  {
   "cell_type": "code",
   "execution_count": 10,
   "metadata": {
    "scrolled": true
   },
   "outputs": [
    {
     "data": {
      "text/plain": [
       "Int64"
      ]
     },
     "execution_count": 10,
     "metadata": {},
     "output_type": "execute_result"
    }
   ],
   "source": [
    "typeof(ans)"
   ]
  },
  {
   "cell_type": "code",
   "execution_count": 11,
   "metadata": {},
   "outputs": [
    {
     "data": {
      "text/plain": [
       "-8446744073709551616"
      ]
     },
     "execution_count": 11,
     "metadata": {},
     "output_type": "execute_result"
    }
   ],
   "source": [
    "10^19"
   ]
  },
  {
   "cell_type": "code",
   "execution_count": 12,
   "metadata": {},
   "outputs": [
    {
     "data": {
      "text/plain": [
       "10"
      ]
     },
     "execution_count": 12,
     "metadata": {},
     "output_type": "execute_result"
    }
   ],
   "source": [
    "ten=big(10)"
   ]
  },
  {
   "cell_type": "code",
   "execution_count": 13,
   "metadata": {},
   "outputs": [
    {
     "data": {
      "text/plain": [
       "10000000000000000000"
      ]
     },
     "execution_count": 13,
     "metadata": {},
     "output_type": "execute_result"
    }
   ],
   "source": [
    "ten^19"
   ]
  },
  {
   "cell_type": "code",
   "execution_count": 14,
   "metadata": {},
   "outputs": [
    {
     "data": {
      "text/plain": [
       "BigInt"
      ]
     },
     "execution_count": 14,
     "metadata": {},
     "output_type": "execute_result"
    }
   ],
   "source": [
    "typeof(ans)"
   ]
  },
  {
   "cell_type": "code",
   "execution_count": 15,
   "metadata": {},
   "outputs": [
    {
     "data": {
      "text/plain": [
       "10"
      ]
     },
     "execution_count": 15,
     "metadata": {},
     "output_type": "execute_result"
    }
   ],
   "source": [
    "i=Int8(10)"
   ]
  },
  {
   "cell_type": "code",
   "execution_count": 16,
   "metadata": {},
   "outputs": [
    {
     "data": {
      "text/plain": [
       "1000"
      ]
     },
     "execution_count": 16,
     "metadata": {},
     "output_type": "execute_result"
    }
   ],
   "source": [
    "i*100"
   ]
  },
  {
   "cell_type": "code",
   "execution_count": 17,
   "metadata": {},
   "outputs": [
    {
     "data": {
      "text/plain": [
       "Int64"
      ]
     },
     "execution_count": 17,
     "metadata": {},
     "output_type": "execute_result"
    }
   ],
   "source": [
    "typeof(ans)"
   ]
  },
  {
   "cell_type": "code",
   "execution_count": 18,
   "metadata": {},
   "outputs": [
    {
     "data": {
      "text/plain": [
       "127"
      ]
     },
     "execution_count": 18,
     "metadata": {},
     "output_type": "execute_result"
    }
   ],
   "source": [
    "typemax(Int8)"
   ]
  },
  {
   "cell_type": "code",
   "execution_count": 19,
   "metadata": {},
   "outputs": [
    {
     "data": {
      "text/plain": [
       "-128"
      ]
     },
     "execution_count": 19,
     "metadata": {},
     "output_type": "execute_result"
    }
   ],
   "source": [
    "typemin(Int8)"
   ]
  },
  {
   "cell_type": "markdown",
   "metadata": {},
   "source": [
    "numeros complejos usando im para la parte imaginaria"
   ]
  },
  {
   "cell_type": "code",
   "execution_count": 20,
   "metadata": {},
   "outputs": [
    {
     "data": {
      "text/plain": [
       "7.0 + 24.5im"
      ]
     },
     "execution_count": 20,
     "metadata": {},
     "output_type": "execute_result"
    }
   ],
   "source": [
    "a=7\n",
    "c=(1+3.5im)*a"
   ]
  },
  {
   "cell_type": "code",
   "execution_count": 21,
   "metadata": {},
   "outputs": [
    {
     "data": {
      "text/plain": [
       "7.0 + 24.5im"
      ]
     },
     "execution_count": 21,
     "metadata": {},
     "output_type": "execute_result"
    }
   ],
   "source": [
    "c=(1+3.5im)*a"
   ]
  },
  {
   "cell_type": "code",
   "execution_count": 22,
   "metadata": {},
   "outputs": [
    {
     "data": {
      "text/plain": [
       "7.0 - 24.5im"
      ]
     },
     "execution_count": 22,
     "metadata": {},
     "output_type": "execute_result"
    }
   ],
   "source": [
    "conj(c) #conjugado de c"
   ]
  },
  {
   "cell_type": "code",
   "execution_count": 23,
   "metadata": {},
   "outputs": [
    {
     "data": {
      "text/plain": [
       "649.25 + 0.0im"
      ]
     },
     "execution_count": 23,
     "metadata": {},
     "output_type": "execute_result"
    }
   ],
   "source": [
    "c*conj(c)"
   ]
  },
  {
   "cell_type": "markdown",
   "metadata": {},
   "source": [
    "numeros racionales tambien pueden ser creados en julia usando el operator //"
   ]
  },
  {
   "cell_type": "code",
   "execution_count": 24,
   "metadata": {},
   "outputs": [
    {
     "data": {
      "text/plain": [
       "19//12"
      ]
     },
     "execution_count": 24,
     "metadata": {},
     "output_type": "execute_result"
    }
   ],
   "source": [
    "3//4 + 5//6"
   ]
  },
  {
   "cell_type": "markdown",
   "metadata": {},
   "source": [
    "los operadores son una manera conveniente de escribir funciones"
   ]
  },
  {
   "cell_type": "code",
   "execution_count": 25,
   "metadata": {},
   "outputs": [
    {
     "data": {
      "text/plain": [
       "3//4"
      ]
     },
     "execution_count": 25,
     "metadata": {},
     "output_type": "execute_result"
    }
   ],
   "source": [
    "//(3,4)"
   ]
  },
  {
   "cell_type": "code",
   "execution_count": 26,
   "metadata": {},
   "outputs": [
    {
     "data": {
      "text/plain": [
       "Rational{Int64}"
      ]
     },
     "execution_count": 26,
     "metadata": {},
     "output_type": "execute_result"
    }
   ],
   "source": [
    "typeof(ans)"
   ]
  },
  {
   "cell_type": "markdown",
   "metadata": {},
   "source": [
    "## Evaluación de un condicional"
   ]
  },
  {
   "cell_type": "code",
   "execution_count": 27,
   "metadata": {},
   "outputs": [
    {
     "name": "stdout",
     "output_type": "stream",
     "text": [
      "small\n"
     ]
    }
   ],
   "source": [
    "a= 3\n",
    "a<5 && println(\"small\") #evalua la segunda sentencia solo si se cumple la primera"
   ]
  },
  {
   "cell_type": "code",
   "execution_count": 28,
   "metadata": {},
   "outputs": [
    {
     "data": {
      "text/plain": [
       "true"
      ]
     },
     "execution_count": 28,
     "metadata": {},
     "output_type": "execute_result"
    }
   ],
   "source": [
    "a<5 || println(\"small\") #estructura si-no-entonces"
   ]
  },
  {
   "cell_type": "code",
   "execution_count": 29,
   "metadata": {},
   "outputs": [
    {
     "name": "stdout",
     "output_type": "stream",
     "text": [
      "Hello\n"
     ]
    }
   ],
   "source": [
    "val=3\n",
    "val == 3 ? println(\"Hello\") : println(\"Not true\") # evalua condición a==3 y ejecuta instrucción segun sea el caso"
   ]
  },
  {
   "cell_type": "code",
   "execution_count": 30,
   "metadata": {},
   "outputs": [
    {
     "name": "stdout",
     "output_type": "stream",
     "text": [
      "Not true\n"
     ]
    }
   ],
   "source": [
    "val=8\n",
    "val == 3 ? println(\"Hello\") : println(\"Not true\") # evalua condición a==3 y ejecuta instrucción segun sea el caso "
   ]
  },
  {
   "cell_type": "markdown",
   "metadata": {},
   "source": [
    "## Comprensión arreglos"
   ]
  },
  {
   "cell_type": "markdown",
   "metadata": {},
   "source": [
    "Definicion de arreglo."
   ]
  },
  {
   "cell_type": "code",
   "execution_count": 31,
   "metadata": {},
   "outputs": [
    {
     "data": {
      "text/plain": [
       "3-element Vector{Int64}:\n",
       " 3\n",
       " 4\n",
       " 5"
      ]
     },
     "execution_count": 31,
     "metadata": {},
     "output_type": "execute_result"
    }
   ],
   "source": [
    "l=[3,4,5]"
   ]
  },
  {
   "cell_type": "markdown",
   "metadata": {},
   "source": [
    "Los arreglos pueden contener distintos tipos de datos"
   ]
  },
  {
   "cell_type": "code",
   "execution_count": 32,
   "metadata": {},
   "outputs": [
    {
     "data": {
      "text/plain": [
       "5"
      ]
     },
     "execution_count": 32,
     "metadata": {},
     "output_type": "execute_result"
    }
   ],
   "source": [
    "α=5"
   ]
  },
  {
   "cell_type": "code",
   "execution_count": 33,
   "metadata": {},
   "outputs": [
    {
     "data": {
      "text/plain": [
       "4-element Vector{Any}:\n",
       " 3.0\n",
       "  \"Hello\"\n",
       " 2\n",
       " 5"
      ]
     },
     "execution_count": 33,
     "metadata": {},
     "output_type": "execute_result"
    }
   ],
   "source": [
    "Ar=[3.0, \"Hello\", 2, α]"
   ]
  },
  {
   "cell_type": "code",
   "execution_count": 34,
   "metadata": {},
   "outputs": [
    {
     "data": {
      "text/plain": [
       "5-element Vector{Int64}:\n",
       "  1\n",
       "  9\n",
       " 25\n",
       " 49\n",
       " 81"
      ]
     },
     "execution_count": 34,
     "metadata": {},
     "output_type": "execute_result"
    }
   ],
   "source": [
    "squares = [ i^2 for i = 1:2:10]"
   ]
  },
  {
   "cell_type": "markdown",
   "metadata": {},
   "source": [
    "### Matrices"
   ]
  },
  {
   "cell_type": "code",
   "execution_count": 35,
   "metadata": {},
   "outputs": [
    {
     "data": {
      "text/plain": [
       "5×5 Matrix{Int64}:\n",
       " 2  3  4  5   6\n",
       " 3  4  5  6   7\n",
       " 4  5  6  7   8\n",
       " 5  6  7  8   9\n",
       " 6  7  8  9  10"
      ]
     },
     "execution_count": 35,
     "metadata": {},
     "output_type": "execute_result"
    }
   ],
   "source": [
    "sums = [i+j for i=1:5, j=1:5]"
   ]
  },
  {
   "cell_type": "code",
   "execution_count": 36,
   "metadata": {},
   "outputs": [
    {
     "data": {
      "text/plain": [
       "2×2 Matrix{Float64}:\n",
       " 0.474727  0.0656445\n",
       " 0.689585  0.0744643"
      ]
     },
     "execution_count": 36,
     "metadata": {},
     "output_type": "execute_result"
    }
   ],
   "source": [
    "Mat_random = rand(2,2)"
   ]
  },
  {
   "cell_type": "markdown",
   "metadata": {},
   "source": [
    "Multiplicacion de matrices"
   ]
  },
  {
   "cell_type": "markdown",
   "metadata": {},
   "source": [
    "LAmultiplicacion de matrices deben seguir las reglas de conformidad para que la función (*) pueda aplica un metodo."
   ]
  },
  {
   "cell_type": "code",
   "execution_count": 37,
   "metadata": {},
   "outputs": [
    {
     "data": {
      "text/plain": [
       "2×2 Matrix{Int64}:\n",
       " 2  1\n",
       " 1  1"
      ]
     },
     "execution_count": 37,
     "metadata": {},
     "output_type": "execute_result"
    }
   ],
   "source": [
    "Mat_1 = [2 1;1 1]"
   ]
  },
  {
   "cell_type": "code",
   "execution_count": 38,
   "metadata": {},
   "outputs": [
    {
     "data": {
      "text/plain": [
       "2×2 Matrix{Int64}:\n",
       " 1  1\n",
       " 2  2"
      ]
     },
     "execution_count": 38,
     "metadata": {},
     "output_type": "execute_result"
    }
   ],
   "source": [
    "Mat_2 = [1 1 ; 2 2]"
   ]
  },
  {
   "cell_type": "markdown",
   "metadata": {},
   "source": [
    "Usando *@which* podemos saber especificamente que metodo de una funcion se utilizó con base en la dedución de tipo de dato de entrada."
   ]
  },
  {
   "cell_type": "code",
   "execution_count": 39,
   "metadata": {},
   "outputs": [
    {
     "data": {
      "text/html": [
       "*(A::<b>AbstractMatrix</b>, B::<b>AbstractMatrix</b>) in LinearAlgebra at <a href=\"file://C:/buildbot/worker/package_win64/build/usr/share/julia/stdlib/v1.7/LinearAlgebra/src/matmul.jl\" target=\"_blank\">C:\\Users\\dan_x\\AppData\\Local\\Programs\\Julia-1.7.3\\share\\julia\\stdlib\\v1.7\\LinearAlgebra\\src\\matmul.jl:151</a>"
      ],
      "text/plain": [
       "*(A::AbstractMatrix, B::AbstractMatrix) in LinearAlgebra at C:\\Users\\dan_x\\AppData\\Local\\Programs\\Julia-1.7.3\\share\\julia\\stdlib\\v1.7\\LinearAlgebra\\src\\matmul.jl:151"
      ]
     },
     "execution_count": 39,
     "metadata": {},
     "output_type": "execute_result"
    }
   ],
   "source": [
    "@which Mat_1 * Mat_2\n"
   ]
  },
  {
   "cell_type": "code",
   "execution_count": 40,
   "metadata": {},
   "outputs": [
    {
     "data": {
      "text/plain": [
       "2×2 Matrix{Int64}:\n",
       " 4  4\n",
       " 3  3"
      ]
     },
     "execution_count": 40,
     "metadata": {},
     "output_type": "execute_result"
    }
   ],
   "source": [
    "*(Mat_1,Mat_2) #Otra forma de definir la funcion de multiplicacion de matrices"
   ]
  },
  {
   "cell_type": "markdown",
   "metadata": {},
   "source": [
    "## Funciones"
   ]
  },
  {
   "cell_type": "markdown",
   "metadata": {},
   "source": [
    "Las funciones pueden  ser definidas usando de la sintaxis corta o un formato mas largo:"
   ]
  },
  {
   "cell_type": "markdown",
   "metadata": {},
   "source": [
    "-Declaración completa:"
   ]
  },
  {
   "cell_type": "code",
   "execution_count": 41,
   "metadata": {},
   "outputs": [
    {
     "data": {
      "text/plain": [
       "duplicate (generic function with 1 method)"
      ]
     },
     "execution_count": 41,
     "metadata": {},
     "output_type": "execute_result"
    }
   ],
   "source": [
    "function duplicate(x::Int64) \n",
    "    2*x # En este caso no es necesario explicitamente el return\n",
    "    end # julia interpreta que es calcula y regresa un valor de salida"
   ]
  },
  {
   "cell_type": "markdown",
   "metadata": {},
   "source": [
    "-Declaración corta."
   ]
  },
  {
   "cell_type": "code",
   "execution_count": 42,
   "metadata": {},
   "outputs": [
    {
     "data": {
      "text/plain": [
       "duplicar (generic function with 1 method)"
      ]
     },
     "execution_count": 42,
     "metadata": {},
     "output_type": "execute_result"
    }
   ],
   "source": [
    "duplicar(x)=2*x"
   ]
  },
  {
   "cell_type": "code",
   "execution_count": 43,
   "metadata": {},
   "outputs": [
    {
     "data": {
      "text/plain": [
       "10"
      ]
     },
     "execution_count": 43,
     "metadata": {},
     "output_type": "execute_result"
    }
   ],
   "source": [
    "duplicate(5)"
   ]
  },
  {
   "cell_type": "code",
   "execution_count": 44,
   "metadata": {},
   "outputs": [
    {
     "data": {
      "text/plain": [
       "10"
      ]
     },
     "execution_count": 44,
     "metadata": {},
     "output_type": "execute_result"
    }
   ],
   "source": [
    "duplicar(5)"
   ]
  },
  {
   "cell_type": "markdown",
   "metadata": {},
   "source": [
    "Un caso particular con las cadenas de caracteres es que funciones como + ó * tienes metodos para operarlas, sin embargo debemos especificar el tipo en la funcion, de este modo podremos agregar a la definicion de la funcion un metodo nuevo para operar dichos valores, esto es:"
   ]
  },
  {
   "cell_type": "code",
   "execution_count": 45,
   "metadata": {},
   "outputs": [
    {
     "data": {
      "text/plain": [
       "\"Segundo string\""
      ]
     },
     "execution_count": 45,
     "metadata": {},
     "output_type": "execute_result"
    }
   ],
   "source": [
    "s1= \"Primer string \"\n",
    "s2=\"Segundo string\""
   ]
  },
  {
   "cell_type": "code",
   "execution_count": 46,
   "metadata": {},
   "outputs": [],
   "source": [
    "import Base:+ #impotamos la funcion de la biblioteca para modificarla y agregar el metodo"
   ]
  },
  {
   "cell_type": "code",
   "execution_count": 47,
   "metadata": {},
   "outputs": [
    {
     "data": {
      "text/plain": [
       "+ (generic function with 209 methods)"
      ]
     },
     "execution_count": 47,
     "metadata": {},
     "output_type": "execute_result"
    }
   ],
   "source": [
    "+(s1::String, s2::String) = string(s1, s2)"
   ]
  },
  {
   "cell_type": "markdown",
   "metadata": {},
   "source": [
    "Podemos definir los metodos que necesitemos a la función y lo notamos cuando visualizamos la salida, por ejemplo sumar un numero de tipo *float* y otro de tipo *int*."
   ]
  },
  {
   "cell_type": "code",
   "execution_count": 48,
   "metadata": {},
   "outputs": [
    {
     "data": {
      "text/plain": [
       "+ (generic function with 210 methods)"
      ]
     },
     "execution_count": 48,
     "metadata": {},
     "output_type": "execute_result"
    }
   ],
   "source": [
    "+(a::Float64 , b::Int64)= a-b"
   ]
  },
  {
   "cell_type": "code",
   "execution_count": 49,
   "metadata": {},
   "outputs": [
    {
     "data": {
      "text/plain": [
       "\"Primer string Segundo string\""
      ]
     },
     "execution_count": 49,
     "metadata": {},
     "output_type": "execute_result"
    }
   ],
   "source": [
    "s1+s2"
   ]
  },
  {
   "cell_type": "markdown",
   "metadata": {},
   "source": [
    "## Despacho multiple"
   ]
  },
  {
   "cell_type": "markdown",
   "metadata": {},
   "source": [
    "#### Las funciones despacharán (ejecutaran) distintos procesos (llamados métodos) según el tipo de variables que hayan sido insertados en la entrada (*inputs*)"
   ]
  },
  {
   "cell_type": "markdown",
   "metadata": {},
   "source": [
    "Vamos a crear una funcion simple que realice una multiplicación"
   ]
  },
  {
   "cell_type": "code",
   "execution_count": 50,
   "metadata": {},
   "outputs": [
    {
     "data": {
      "text/plain": [
       "mult (generic function with 1 method)"
      ]
     },
     "execution_count": 50,
     "metadata": {},
     "output_type": "execute_result"
    }
   ],
   "source": [
    "function mult(x,y)\n",
    "    return x*y\n",
    "end"
   ]
  },
  {
   "cell_type": "markdown",
   "metadata": {},
   "source": [
    "La salida de la ejecución (*output*) del metodo anterior nos muestra que es una funcion con un metodo dado por (\"*\"), con lo cual podemos evaluar:"
   ]
  },
  {
   "cell_type": "code",
   "execution_count": 51,
   "metadata": {},
   "outputs": [
    {
     "data": {
      "text/plain": [
       "24.0"
      ]
     },
     "execution_count": 51,
     "metadata": {},
     "output_type": "execute_result"
    }
   ],
   "source": [
    "mult(8.0,3.0)"
   ]
  },
  {
   "cell_type": "code",
   "execution_count": 52,
   "metadata": {},
   "outputs": [
    {
     "data": {
      "text/plain": [
       "\"Buenos Dias\""
      ]
     },
     "execution_count": 52,
     "metadata": {},
     "output_type": "execute_result"
    }
   ],
   "source": [
    "mult(\"Buenos \",\"Dias\")"
   ]
  },
  {
   "cell_type": "markdown",
   "metadata": {},
   "source": [
    "Podemos evaluar cadenas de caracteres **string** gracias a que es un metodo de *.\n",
    "La función *() posee distintos metodos de los que julia ejecuta cuando identifica el tipo de dato de entrada:\n",
    "Podemos conocer mas de los metodos de una funcion usando : methods(nombre_funcion)"
   ]
  },
  {
   "cell_type": "code",
   "execution_count": 53,
   "metadata": {
    "collapsed": true
   },
   "outputs": [
    {
     "data": {
      "text/html": [
       "# 364 methods for generic function <b>*</b>:<ul><li> *(x::<b>T</b>, y::<b>T</b>)<i> where T<:Union{Int128, UInt128}</i> in Base at <a href=\"https://github.com/JuliaLang/julia/tree/742b9abb4dd4621b667ec5bb3434b8b3602f96fd/base/int.jl#L967\" target=\"_blank\">int.jl:967</a></li> <li> *(x::<b>T</b>, y::<b>T</b>)<i> where T<:Union{Int128, Int16, Int32, Int64, Int8, UInt128, UInt16, UInt32, UInt64, UInt8}</i> in Base at <a href=\"https://github.com/JuliaLang/julia/tree/742b9abb4dd4621b667ec5bb3434b8b3602f96fd/base/int.jl#L88\" target=\"_blank\">int.jl:88</a></li> <li> *(s1::<b>Union{AbstractChar, AbstractString}</b>, ss::<b>Union{AbstractChar, AbstractString}...</b>) in Base at <a href=\"https://github.com/JuliaLang/julia/tree/742b9abb4dd4621b667ec5bb3434b8b3602f96fd/base/strings/basic.jl#L260\" target=\"_blank\">strings/basic.jl:260</a></li> <li> *(d::<b>Union{AbstractChar, AbstractString}</b>, x::<b>Missing</b>) in Base at <a href=\"https://github.com/JuliaLang/julia/tree/742b9abb4dd4621b667ec5bb3434b8b3602f96fd/base/missing.jl#L183\" target=\"_blank\">missing.jl:183</a></li> <li> *(c::<b>Union{UInt16, UInt32, UInt8}</b>, x::<b>BigInt</b>) in Base.GMP at <a href=\"https://github.com/JuliaLang/julia/tree/742b9abb4dd4621b667ec5bb3434b8b3602f96fd/base/gmp.jl#L540\" target=\"_blank\">gmp.jl:540</a></li> <li> *(c::<b>Union{Int16, Int32, Int8}</b>, x::<b>BigInt</b>) in Base.GMP at <a href=\"https://github.com/JuliaLang/julia/tree/742b9abb4dd4621b667ec5bb3434b8b3602f96fd/base/gmp.jl#L542\" target=\"_blank\">gmp.jl:542</a></li> <li> *(c::<b>Union{UInt16, UInt32, UInt8}</b>, x::<b>BigFloat</b>) in Base.MPFR at <a href=\"https://github.com/JuliaLang/julia/tree/742b9abb4dd4621b667ec5bb3434b8b3602f96fd/base/mpfr.jl#L397\" target=\"_blank\">mpfr.jl:397</a></li> <li> *(c::<b>Union{Int16, Int32, Int8}</b>, x::<b>BigFloat</b>) in Base.MPFR at <a href=\"https://github.com/JuliaLang/julia/tree/742b9abb4dd4621b667ec5bb3434b8b3602f96fd/base/mpfr.jl#L405\" target=\"_blank\">mpfr.jl:405</a></li> <li> *(c::<b>Union{Float16, Float32, Float64}</b>, x::<b>BigFloat</b>) in Base.MPFR at <a href=\"https://github.com/JuliaLang/julia/tree/742b9abb4dd4621b667ec5bb3434b8b3602f96fd/base/mpfr.jl#L413\" target=\"_blank\">mpfr.jl:413</a></li> <li> *(A::<b>StridedMatrix{T}</b>, x::<b>StridedVector{S}</b>)<i> where {T<:Union{Float32, Float64, ComplexF32, ComplexF64}, S<:Real}</i> in LinearAlgebra at <a href=\"file://C:/buildbot/worker/package_win64/build/usr/share/julia/stdlib/v1.7/LinearAlgebra/src/matmul.jl\" target=\"_blank\">C:\\Users\\dan_x\\AppData\\Local\\Programs\\Julia-1.7.3\\share\\julia\\stdlib\\v1.7\\LinearAlgebra\\src\\matmul.jl:44</a></li> <li> *(A::<b>StridedMatrix{var\"#s861\"} where var\"#s861\"<:Union{Float32, Float64}</b>, B::<b>StridedMatrix{var\"#s860\"} where var\"#s860\"<:Union{Float32, Float64, ComplexF32, ComplexF64}</b>) in LinearAlgebra at <a href=\"file://C:/buildbot/worker/package_win64/build/usr/share/julia/stdlib/v1.7/LinearAlgebra/src/matmul.jl\" target=\"_blank\">C:\\Users\\dan_x\\AppData\\Local\\Programs\\Julia-1.7.3\\share\\julia\\stdlib\\v1.7\\LinearAlgebra\\src\\matmul.jl:158</a></li> <li> *(A::<b>StridedMatrix{var\"#s861\"} where var\"#s861\"<:Union{ComplexF32, ComplexF64}</b>, B::<b>StridedMatrix{var\"#s860\"} where var\"#s860\"<:Union{ComplexF32, ComplexF64}</b>) in LinearAlgebra at <a href=\"file://C:/buildbot/worker/package_win64/build/usr/share/julia/stdlib/v1.7/LinearAlgebra/src/matmul.jl\" target=\"_blank\">C:\\Users\\dan_x\\AppData\\Local\\Programs\\Julia-1.7.3\\share\\julia\\stdlib\\v1.7\\LinearAlgebra\\src\\matmul.jl:162</a></li> <li> *(α::<b>Union{Real, Complex}</b>, vt::<b>Union{LinearAlgebra.Adjoint{var\"#s861\", var\"#s8611\"}, LinearAlgebra.Transpose{var\"#s861\", var\"#s8611\"}} where {var\"#s861\"<:Union{Real, Complex}, var\"#s8611\"<:(AbstractVector)}</b>, C::<b>AbstractMatrix{<:Union{Real, Complex}}</b>, D::<b>AbstractMatrix{<:Union{Real, Complex}}</b>) in LinearAlgebra at <a href=\"file://C:/buildbot/worker/package_win64/build/usr/share/julia/stdlib/v1.7/LinearAlgebra/src/matmul.jl\" target=\"_blank\">C:\\Users\\dan_x\\AppData\\Local\\Programs\\Julia-1.7.3\\share\\julia\\stdlib\\v1.7\\LinearAlgebra\\src\\matmul.jl:1172</a></li> <li> *(A::<b>StridedMatrix{T} where T</b>, Q::<b>LinearAlgebra.AbstractQ</b>) in LinearAlgebra at <a href=\"file://C:/buildbot/worker/package_win64/build/usr/share/julia/stdlib/v1.7/LinearAlgebra/src/qr.jl\" target=\"_blank\">C:\\Users\\dan_x\\AppData\\Local\\Programs\\Julia-1.7.3\\share\\julia\\stdlib\\v1.7\\LinearAlgebra\\src\\qr.jl:755</a></li> <li> *(A::<b>StridedMatrix{T} where T</b>, adjB::<b>LinearAlgebra.Adjoint{<:Any, <:LinearAlgebra.AbstractQ}</b>) in LinearAlgebra at <a href=\"file://C:/buildbot/worker/package_win64/build/usr/share/julia/stdlib/v1.7/LinearAlgebra/src/qr.jl\" target=\"_blank\">C:\\Users\\dan_x\\AppData\\Local\\Programs\\Julia-1.7.3\\share\\julia\\stdlib\\v1.7\\LinearAlgebra\\src\\qr.jl:802</a></li> <li> *(A::<b>StridedVecOrMat</b>, adjQ::<b>LinearAlgebra.Adjoint{<:Any, <:LinearAlgebra.LQPackedQ}</b>) in LinearAlgebra at <a href=\"file://C:/buildbot/worker/package_win64/build/usr/share/julia/stdlib/v1.7/LinearAlgebra/src/lq.jl\" target=\"_blank\">C:\\Users\\dan_x\\AppData\\Local\\Programs\\Julia-1.7.3\\share\\julia\\stdlib\\v1.7\\LinearAlgebra\\src\\lq.jl:266</a></li> <li> *(A::<b>StridedVecOrMat</b>, Q::<b>LinearAlgebra.LQPackedQ</b>) in LinearAlgebra at <a href=\"file://C:/buildbot/worker/package_win64/build/usr/share/julia/stdlib/v1.7/LinearAlgebra/src/lq.jl\" target=\"_blank\">C:\\Users\\dan_x\\AppData\\Local\\Programs\\Julia-1.7.3\\share\\julia\\stdlib\\v1.7\\LinearAlgebra\\src\\lq.jl:290</a></li> <li> *(A::<b>Union{LinearAlgebra.Hermitian{T, S}, LinearAlgebra.Symmetric{T, S}} where {T, S}</b>, B::<b>Union{LinearAlgebra.Hermitian{T, S}, LinearAlgebra.Symmetric{T, S}} where {T, S}</b>) in LinearAlgebra at <a href=\"file://C:/buildbot/worker/package_win64/build/usr/share/julia/stdlib/v1.7/LinearAlgebra/src/symmetric.jl\" target=\"_blank\">C:\\Users\\dan_x\\AppData\\Local\\Programs\\Julia-1.7.3\\share\\julia\\stdlib\\v1.7\\LinearAlgebra\\src\\symmetric.jl:576</a></li> <li> *(A::<b>Union{LinearAlgebra.UnitUpperTriangular, LinearAlgebra.UpperTriangular}</b>, B::<b>LinearAlgebra.Bidiagonal</b>) in LinearAlgebra at <a href=\"file://C:/buildbot/worker/package_win64/build/usr/share/julia/stdlib/v1.7/LinearAlgebra/src/bidiag.jl\" target=\"_blank\">C:\\Users\\dan_x\\AppData\\Local\\Programs\\Julia-1.7.3\\share\\julia\\stdlib\\v1.7\\LinearAlgebra\\src\\bidiag.jl:639</a></li> <li> *(A::<b>Union{LinearAlgebra.LowerTriangular, LinearAlgebra.UnitLowerTriangular}</b>, B::<b>LinearAlgebra.Bidiagonal</b>) in LinearAlgebra at <a href=\"file://C:/buildbot/worker/package_win64/build/usr/share/julia/stdlib/v1.7/LinearAlgebra/src/bidiag.jl\" target=\"_blank\">C:\\Users\\dan_x\\AppData\\Local\\Programs\\Julia-1.7.3\\share\\julia\\stdlib\\v1.7\\LinearAlgebra\\src\\bidiag.jl:648</a></li> <li> *(A::<b>Union{LinearAlgebra.SymTridiagonal, LinearAlgebra.Tridiagonal}</b>, B::<b>LinearAlgebra.AbstractTriangular</b>) in LinearAlgebra at <a href=\"file://C:/buildbot/worker/package_win64/build/usr/share/julia/stdlib/v1.7/LinearAlgebra/src/bidiag.jl\" target=\"_blank\">C:\\Users\\dan_x\\AppData\\Local\\Programs\\Julia-1.7.3\\share\\julia\\stdlib\\v1.7\\LinearAlgebra\\src\\bidiag.jl:657</a></li> <li> *(A::<b>Union{LinearAlgebra.Bidiagonal, LinearAlgebra.Tridiagonal}</b>, B::<b>LinearAlgebra.Diagonal</b>) in LinearAlgebra at <a href=\"file://C:/buildbot/worker/package_win64/build/usr/share/julia/stdlib/v1.7/LinearAlgebra/src/bidiag.jl\" target=\"_blank\">C:\\Users\\dan_x\\AppData\\Local\\Programs\\Julia-1.7.3\\share\\julia\\stdlib\\v1.7\\LinearAlgebra\\src\\bidiag.jl:680</a></li> <li> *(U::<b>Union{LinearAlgebra.UnitUpperTriangular, LinearAlgebra.UpperTriangular}</b>, H::<b>LinearAlgebra.UpperHessenberg</b>) in LinearAlgebra at <a href=\"file://C:/buildbot/worker/package_win64/build/usr/share/julia/stdlib/v1.7/LinearAlgebra/src/hessenberg.jl\" target=\"_blank\">C:\\Users\\dan_x\\AppData\\Local\\Programs\\Julia-1.7.3\\share\\julia\\stdlib\\v1.7\\LinearAlgebra\\src\\hessenberg.jl:128</a></li> <li> *(X::<b>StridedArray{P}</b>, y::<b>Real</b>)<i> where P<:Dates.Period</i> in Dates at <a href=\"file://C:/buildbot/worker/package_win64/build/usr/share/julia/stdlib/v1.7/Dates/src/deprecated.jl\" target=\"_blank\">C:\\Users\\dan_x\\AppData\\Local\\Programs\\Julia-1.7.3\\share\\julia\\stdlib\\v1.7\\Dates\\src\\deprecated.jl:44</a></li> <li> *(x::<b>Union{SparseArrays.SparseVector{Tv, Ti}, SubArray{Tv, 1, <:SparseArrays.AbstractSparseVector{Tv, Ti}, Tuple{Base.Slice{Base.OneTo{Int64}}}, false}, SubArray{Tv, 1, <:SparseArrays.AbstractSparseMatrixCSC{Tv, Ti}, Tuple{Base.Slice{Base.OneTo{Int64}}, Int64}, false}} where {Tv, Ti}</b>, a::<b>Number</b>) in SparseArrays at <a href=\"file://C:/buildbot/worker/package_win64/build/usr/share/julia/stdlib/v1.7/SparseArrays/src/sparsevector.jl\" target=\"_blank\">C:\\Users\\dan_x\\AppData\\Local\\Programs\\Julia-1.7.3\\share\\julia\\stdlib\\v1.7\\SparseArrays\\src\\sparsevector.jl:1474</a></li> <li> *(A::<b>Union{SparseArrays.AbstractSparseMatrixCSC{TA, Ti}, SubArray{TA, 2, <:SparseArrays.AbstractSparseMatrixCSC{TA, Ti}, Tuple{Base.Slice{Base.OneTo{Int64}}, I}} where I<:AbstractUnitRange} where Ti</b>, x::<b>Union{StridedVector, BitVector}</b>)<i> where TA</i> in SparseArrays at <a href=\"file://C:/buildbot/worker/package_win64/build/usr/share/julia/stdlib/v1.7/SparseArrays/src/linalg.jl\" target=\"_blank\">C:\\Users\\dan_x\\AppData\\Local\\Programs\\Julia-1.7.3\\share\\julia\\stdlib\\v1.7\\SparseArrays\\src\\linalg.jl:50</a></li> <li> *(A::<b>Union{SparseArrays.AbstractSparseMatrixCSC{Tv, Ti}, SubArray{Tv, 2, <:SparseArrays.AbstractSparseMatrixCSC{Tv, Ti}, Tuple{Base.Slice{Base.OneTo{Int64}}, I}} where I<:AbstractUnitRange, LinearAlgebra.LowerTriangular{Tv, <:Union{SparseArrays.AbstractSparseMatrixCSC{Tv, Ti}, SubArray{Tv, 2, <:SparseArrays.AbstractSparseMatrixCSC{Tv, Ti}, Tuple{Base.Slice{Base.OneTo{Int64}}, I}} where I<:AbstractUnitRange}}, LinearAlgebra.UpperTriangular{Tv, <:Union{SparseArrays.AbstractSparseMatrixCSC{Tv, Ti}, SubArray{Tv, 2, <:SparseArrays.AbstractSparseMatrixCSC{Tv, Ti}, Tuple{Base.Slice{Base.OneTo{Int64}}, I}} where I<:AbstractUnitRange}}} where {Tv, Ti}</b>, B::<b>SubArray{Tv, 1, <:SparseArrays.AbstractSparseMatrixCSC{Tv, Ti}, Tuple{Base.Slice{Base.OneTo{Int64}}, Int64}, false} where {Tv, Ti}</b>) in SparseArrays at <a href=\"file://C:/buildbot/worker/package_win64/build/usr/share/julia/stdlib/v1.7/SparseArrays/src/linalg.jl\" target=\"_blank\">C:\\Users\\dan_x\\AppData\\Local\\Programs\\Julia-1.7.3\\share\\julia\\stdlib\\v1.7\\SparseArrays\\src\\linalg.jl:164</a></li> <li> *(A::<b>Union{SparseArrays.AbstractSparseMatrixCSC{Tv, Ti}, SubArray{Tv, 2, <:SparseArrays.AbstractSparseMatrixCSC{Tv, Ti}, Tuple{Base.Slice{Base.OneTo{Int64}}, I}} where I<:AbstractUnitRange, LinearAlgebra.LowerTriangular{Tv, <:Union{SparseArrays.AbstractSparseMatrixCSC{Tv, Ti}, SubArray{Tv, 2, <:SparseArrays.AbstractSparseMatrixCSC{Tv, Ti}, Tuple{Base.Slice{Base.OneTo{Int64}}, I}} where I<:AbstractUnitRange}}, LinearAlgebra.UpperTriangular{Tv, <:Union{SparseArrays.AbstractSparseMatrixCSC{Tv, Ti}, SubArray{Tv, 2, <:SparseArrays.AbstractSparseMatrixCSC{Tv, Ti}, Tuple{Base.Slice{Base.OneTo{Int64}}, I}} where I<:AbstractUnitRange}}} where {Tv, Ti}</b>, B::<b>SubArray{Tv, 1, <:SparseArrays.AbstractSparseVector{Tv, Ti}, Tuple{Base.Slice{Base.OneTo{Int64}}}, false} where {Tv, Ti}</b>) in SparseArrays at <a href=\"file://C:/buildbot/worker/package_win64/build/usr/share/julia/stdlib/v1.7/SparseArrays/src/linalg.jl\" target=\"_blank\">C:\\Users\\dan_x\\AppData\\Local\\Programs\\Julia-1.7.3\\share\\julia\\stdlib\\v1.7\\SparseArrays\\src\\linalg.jl:165</a></li> <li> *(A::<b>Union{SparseArrays.AbstractSparseMatrixCSC{Tv, Ti}, SubArray{Tv, 2, <:SparseArrays.AbstractSparseMatrixCSC{Tv, Ti}, Tuple{Base.Slice{Base.OneTo{Int64}}, I}} where I<:AbstractUnitRange} where {Tv, Ti}</b>, B::<b>Union{SparseArrays.AbstractSparseMatrixCSC{Tv, Ti}, SubArray{Tv, 2, <:SparseArrays.AbstractSparseMatrixCSC{Tv, Ti}, Tuple{Base.Slice{Base.OneTo{Int64}}, I}} where I<:AbstractUnitRange} where {Tv, Ti}</b>) in SparseArrays at <a href=\"file://C:/buildbot/worker/package_win64/build/usr/share/julia/stdlib/v1.7/SparseArrays/src/linalg.jl\" target=\"_blank\">C:\\Users\\dan_x\\AppData\\Local\\Programs\\Julia-1.7.3\\share\\julia\\stdlib\\v1.7\\SparseArrays\\src\\linalg.jl:166</a></li> <li> *(A::<b>Union{LinearAlgebra.LowerTriangular{Tv, <:Union{SparseArrays.AbstractSparseMatrixCSC{Tv, Ti}, SubArray{Tv, 2, <:SparseArrays.AbstractSparseMatrixCSC{Tv, Ti}, Tuple{Base.Slice{Base.OneTo{Int64}}, I}} where I<:AbstractUnitRange}}, LinearAlgebra.UpperTriangular{Tv, <:Union{SparseArrays.AbstractSparseMatrixCSC{Tv, Ti}, SubArray{Tv, 2, <:SparseArrays.AbstractSparseMatrixCSC{Tv, Ti}, Tuple{Base.Slice{Base.OneTo{Int64}}, I}} where I<:AbstractUnitRange}}} where {Tv, Ti}</b>, B::<b>Union{SparseArrays.AbstractSparseMatrixCSC{Tv, Ti}, SubArray{Tv, 2, <:SparseArrays.AbstractSparseMatrixCSC{Tv, Ti}, Tuple{Base.Slice{Base.OneTo{Int64}}, I}} where I<:AbstractUnitRange} where {Tv, Ti}</b>) in SparseArrays at <a href=\"file://C:/buildbot/worker/package_win64/build/usr/share/julia/stdlib/v1.7/SparseArrays/src/linalg.jl\" target=\"_blank\">C:\\Users\\dan_x\\AppData\\Local\\Programs\\Julia-1.7.3\\share\\julia\\stdlib\\v1.7\\SparseArrays\\src\\linalg.jl:167</a></li> <li> *(X::<b>Union{LinearAlgebra.Adjoint{<:Any, <:Union{LinearAlgebra.LowerTriangular, LinearAlgebra.UnitLowerTriangular, LinearAlgebra.UnitUpperTriangular, LinearAlgebra.UpperTriangular, StridedMatrix, BitMatrix}}, LinearAlgebra.LowerTriangular, LinearAlgebra.Transpose{<:Any, <:Union{LinearAlgebra.LowerTriangular, LinearAlgebra.UnitLowerTriangular, LinearAlgebra.UnitUpperTriangular, LinearAlgebra.UpperTriangular, StridedMatrix, BitMatrix}}, LinearAlgebra.UnitLowerTriangular, LinearAlgebra.UnitUpperTriangular, LinearAlgebra.UpperTriangular, StridedMatrix, BitMatrix}</b>, A::<b>Union{SparseArrays.AbstractSparseMatrixCSC{TvA, Ti}, SubArray{TvA, 2, <:SparseArrays.AbstractSparseMatrixCSC{TvA, Ti}, Tuple{Base.Slice{Base.OneTo{Int64}}, I}} where I<:AbstractUnitRange} where Ti</b>)<i> where TvA</i> in SparseArrays at <a href=\"file://C:/buildbot/worker/package_win64/build/usr/share/julia/stdlib/v1.7/SparseArrays/src/linalg.jl\" target=\"_blank\">C:\\Users\\dan_x\\AppData\\Local\\Programs\\Julia-1.7.3\\share\\julia\\stdlib\\v1.7\\SparseArrays\\src\\linalg.jl:114</a></li> <li> *(A::<b>Union{SparseArrays.AbstractSparseMatrixCSC{Tv, Ti}, SubArray{Tv, 2, <:SparseArrays.AbstractSparseMatrixCSC{Tv, Ti}, Tuple{Base.Slice{Base.OneTo{Int64}}, I}} where I<:AbstractUnitRange} where {Tv, Ti}</b>, B::<b>Union{LinearAlgebra.LowerTriangular{Tv, <:Union{SparseArrays.AbstractSparseMatrixCSC{Tv, Ti}, SubArray{Tv, 2, <:SparseArrays.AbstractSparseMatrixCSC{Tv, Ti}, Tuple{Base.Slice{Base.OneTo{Int64}}, I}} where I<:AbstractUnitRange}}, LinearAlgebra.UpperTriangular{Tv, <:Union{SparseArrays.AbstractSparseMatrixCSC{Tv, Ti}, SubArray{Tv, 2, <:SparseArrays.AbstractSparseMatrixCSC{Tv, Ti}, Tuple{Base.Slice{Base.OneTo{Int64}}, I}} where I<:AbstractUnitRange}}} where {Tv, Ti}</b>) in SparseArrays at <a href=\"file://C:/buildbot/worker/package_win64/build/usr/share/julia/stdlib/v1.7/SparseArrays/src/linalg.jl\" target=\"_blank\">C:\\Users\\dan_x\\AppData\\Local\\Programs\\Julia-1.7.3\\share\\julia\\stdlib\\v1.7\\SparseArrays\\src\\linalg.jl:168</a></li> <li> *(A::<b>Union{SparseArrays.AbstractSparseMatrixCSC{TA, Ti}, SubArray{TA, 2, <:SparseArrays.AbstractSparseMatrixCSC{TA, Ti}, Tuple{Base.Slice{Base.OneTo{Int64}}, I}} where I<:AbstractUnitRange} where Ti</b>, B::<b>Union{LinearAlgebra.Adjoint{<:Any, <:Union{LinearAlgebra.LowerTriangular, LinearAlgebra.UnitLowerTriangular, LinearAlgebra.UnitUpperTriangular, LinearAlgebra.UpperTriangular, StridedMatrix, BitMatrix}}, LinearAlgebra.LowerTriangular, LinearAlgebra.Transpose{<:Any, <:Union{LinearAlgebra.LowerTriangular, LinearAlgebra.UnitLowerTriangular, LinearAlgebra.UnitUpperTriangular, LinearAlgebra.UpperTriangular, StridedMatrix, BitMatrix}}, LinearAlgebra.UnitLowerTriangular, LinearAlgebra.UnitUpperTriangular, LinearAlgebra.UpperTriangular, StridedMatrix, BitMatrix}</b>)<i> where TA</i> in SparseArrays at <a href=\"file://C:/buildbot/worker/package_win64/build/usr/share/julia/stdlib/v1.7/SparseArrays/src/linalg.jl\" target=\"_blank\">C:\\Users\\dan_x\\AppData\\Local\\Programs\\Julia-1.7.3\\share\\julia\\stdlib\\v1.7\\SparseArrays\\src\\linalg.jl:52</a></li> <li> *(A::<b>Union{LinearAlgebra.LowerTriangular{Tv, <:Union{SparseArrays.AbstractSparseMatrixCSC{Tv, Ti}, SubArray{Tv, 2, <:SparseArrays.AbstractSparseMatrixCSC{Tv, Ti}, Tuple{Base.Slice{Base.OneTo{Int64}}, I}} where I<:AbstractUnitRange}}, LinearAlgebra.UpperTriangular{Tv, <:Union{SparseArrays.AbstractSparseMatrixCSC{Tv, Ti}, SubArray{Tv, 2, <:SparseArrays.AbstractSparseMatrixCSC{Tv, Ti}, Tuple{Base.Slice{Base.OneTo{Int64}}, I}} where I<:AbstractUnitRange}}} where {Tv, Ti}</b>, B::<b>Union{LinearAlgebra.LowerTriangular{Tv, <:Union{SparseArrays.AbstractSparseMatrixCSC{Tv, Ti}, SubArray{Tv, 2, <:SparseArrays.AbstractSparseMatrixCSC{Tv, Ti}, Tuple{Base.Slice{Base.OneTo{Int64}}, I}} where I<:AbstractUnitRange}}, LinearAlgebra.UpperTriangular{Tv, <:Union{SparseArrays.AbstractSparseMatrixCSC{Tv, Ti}, SubArray{Tv, 2, <:SparseArrays.AbstractSparseMatrixCSC{Tv, Ti}, Tuple{Base.Slice{Base.OneTo{Int64}}, I}} where I<:AbstractUnitRange}}} where {Tv, Ti}</b>) in SparseArrays at <a href=\"file://C:/buildbot/worker/package_win64/build/usr/share/julia/stdlib/v1.7/SparseArrays/src/linalg.jl\" target=\"_blank\">C:\\Users\\dan_x\\AppData\\Local\\Programs\\Julia-1.7.3\\share\\julia\\stdlib\\v1.7\\SparseArrays\\src\\linalg.jl:169</a></li> <li> *(A::<b>Union{SparseArrays.AbstractSparseMatrixCSC{Tv, Ti}, SubArray{Tv, 2, <:SparseArrays.AbstractSparseMatrixCSC{Tv, Ti}, Tuple{Base.Slice{Base.OneTo{Int64}}, I}} where I<:AbstractUnitRange, LinearAlgebra.LowerTriangular{Tv, <:Union{SparseArrays.AbstractSparseMatrixCSC{Tv, Ti}, SubArray{Tv, 2, <:SparseArrays.AbstractSparseMatrixCSC{Tv, Ti}, Tuple{Base.Slice{Base.OneTo{Int64}}, I}} where I<:AbstractUnitRange}}, LinearAlgebra.UpperTriangular{Tv, <:Union{SparseArrays.AbstractSparseMatrixCSC{Tv, Ti}, SubArray{Tv, 2, <:SparseArrays.AbstractSparseMatrixCSC{Tv, Ti}, Tuple{Base.Slice{Base.OneTo{Int64}}, I}} where I<:AbstractUnitRange}}} where {Tv, Ti}</b>, B::<b>LinearAlgebra.Adjoint{<:Any, <:SparseArrays.AbstractSparseMatrixCSC}</b>) in SparseArrays at <a href=\"file://C:/buildbot/worker/package_win64/build/usr/share/julia/stdlib/v1.7/SparseArrays/src/linalg.jl\" target=\"_blank\">C:\\Users\\dan_x\\AppData\\Local\\Programs\\Julia-1.7.3\\share\\julia\\stdlib\\v1.7\\SparseArrays\\src\\linalg.jl:170</a></li> <li> *(X::<b>Union{LinearAlgebra.Adjoint{<:Any, <:Union{LinearAlgebra.LowerTriangular, LinearAlgebra.UnitLowerTriangular, LinearAlgebra.UnitUpperTriangular, LinearAlgebra.UpperTriangular, StridedMatrix, BitMatrix}}, LinearAlgebra.LowerTriangular, LinearAlgebra.Transpose{<:Any, <:Union{LinearAlgebra.LowerTriangular, LinearAlgebra.UnitLowerTriangular, LinearAlgebra.UnitUpperTriangular, LinearAlgebra.UpperTriangular, StridedMatrix, BitMatrix}}, LinearAlgebra.UnitLowerTriangular, LinearAlgebra.UnitUpperTriangular, LinearAlgebra.UpperTriangular, StridedMatrix, BitMatrix}</b>, adjA::<b>LinearAlgebra.Adjoint{<:Any, <:SparseArrays.AbstractSparseMatrixCSC}</b>) in SparseArrays at <a href=\"file://C:/buildbot/worker/package_win64/build/usr/share/julia/stdlib/v1.7/SparseArrays/src/linalg.jl\" target=\"_blank\">C:\\Users\\dan_x\\AppData\\Local\\Programs\\Julia-1.7.3\\share\\julia\\stdlib\\v1.7\\SparseArrays\\src\\linalg.jl:139</a></li> <li> *(A::<b>Union{SparseArrays.AbstractSparseMatrixCSC{Tv, Ti}, SubArray{Tv, 2, <:SparseArrays.AbstractSparseMatrixCSC{Tv, Ti}, Tuple{Base.Slice{Base.OneTo{Int64}}, I}} where I<:AbstractUnitRange, LinearAlgebra.LowerTriangular{Tv, <:Union{SparseArrays.AbstractSparseMatrixCSC{Tv, Ti}, SubArray{Tv, 2, <:SparseArrays.AbstractSparseMatrixCSC{Tv, Ti}, Tuple{Base.Slice{Base.OneTo{Int64}}, I}} where I<:AbstractUnitRange}}, LinearAlgebra.UpperTriangular{Tv, <:Union{SparseArrays.AbstractSparseMatrixCSC{Tv, Ti}, SubArray{Tv, 2, <:SparseArrays.AbstractSparseMatrixCSC{Tv, Ti}, Tuple{Base.Slice{Base.OneTo{Int64}}, I}} where I<:AbstractUnitRange}}} where {Tv, Ti}</b>, B::<b>LinearAlgebra.Transpose{<:Any, <:SparseArrays.AbstractSparseMatrixCSC}</b>) in SparseArrays at <a href=\"file://C:/buildbot/worker/package_win64/build/usr/share/julia/stdlib/v1.7/SparseArrays/src/linalg.jl\" target=\"_blank\">C:\\Users\\dan_x\\AppData\\Local\\Programs\\Julia-1.7.3\\share\\julia\\stdlib\\v1.7\\SparseArrays\\src\\linalg.jl:171</a></li> <li> *(X::<b>Union{LinearAlgebra.Adjoint{<:Any, <:Union{LinearAlgebra.LowerTriangular, LinearAlgebra.UnitLowerTriangular, LinearAlgebra.UnitUpperTriangular, LinearAlgebra.UpperTriangular, StridedMatrix, BitMatrix}}, LinearAlgebra.LowerTriangular, LinearAlgebra.Transpose{<:Any, <:Union{LinearAlgebra.LowerTriangular, LinearAlgebra.UnitLowerTriangular, LinearAlgebra.UnitUpperTriangular, LinearAlgebra.UpperTriangular, StridedMatrix, BitMatrix}}, LinearAlgebra.UnitLowerTriangular, LinearAlgebra.UnitUpperTriangular, LinearAlgebra.UpperTriangular, StridedMatrix, BitMatrix}</b>, transA::<b>LinearAlgebra.Transpose{<:Any, <:SparseArrays.AbstractSparseMatrixCSC}</b>) in SparseArrays at <a href=\"file://C:/buildbot/worker/package_win64/build/usr/share/julia/stdlib/v1.7/SparseArrays/src/linalg.jl\" target=\"_blank\">C:\\Users\\dan_x\\AppData\\Local\\Programs\\Julia-1.7.3\\share\\julia\\stdlib\\v1.7\\SparseArrays\\src\\linalg.jl:141</a></li> <li> *(A::<b>Union{LinearAlgebra.Bidiagonal, LinearAlgebra.SymTridiagonal, LinearAlgebra.Tridiagonal}</b>, B::<b>Union{LinearAlgebra.Bidiagonal, LinearAlgebra.SymTridiagonal, LinearAlgebra.Tridiagonal}</b>) in SparseArrays at <a href=\"file://C:/buildbot/worker/package_win64/build/usr/share/julia/stdlib/v1.7/SparseArrays/src/SparseArrays.jl\" target=\"_blank\">C:\\Users\\dan_x\\AppData\\Local\\Programs\\Julia-1.7.3\\share\\julia\\stdlib\\v1.7\\SparseArrays\\src\\SparseArrays.jl:58</a></li> <li> *(A::<b>Union{SparseArrays.SparseMatrixCSC{Float64, Ti}, SparseArrays.SparseVector{Float64, Ti}}</b>, B::<b>LinearAlgebra.Symmetric{Float64, SparseArrays.SparseMatrixCSC{Float64, Ti}}</b>)<i> where Ti</i> in SuiteSparse.CHOLMOD at <a href=\"file://C:/buildbot/worker/package_win64/build/usr/share/julia/stdlib/v1.7/SuiteSparse/src/cholmod.jl\" target=\"_blank\">C:\\Users\\dan_x\\AppData\\Local\\Programs\\Julia-1.7.3\\share\\julia\\stdlib\\v1.7\\SuiteSparse\\src\\cholmod.jl:1687</a></li> <li> *(A::<b>Union{SparseArrays.SparseMatrixCSC{ComplexF64, Ti}, SparseArrays.SparseVector{ComplexF64, Ti}}</b>, B::<b>LinearAlgebra.Hermitian{ComplexF64, SparseArrays.SparseMatrixCSC{ComplexF64, Ti}}</b>)<i> where Ti</i> in SuiteSparse.CHOLMOD at <a href=\"file://C:/buildbot/worker/package_win64/build/usr/share/julia/stdlib/v1.7/SuiteSparse/src/cholmod.jl\" target=\"_blank\">C:\\Users\\dan_x\\AppData\\Local\\Programs\\Julia-1.7.3\\share\\julia\\stdlib\\v1.7\\SuiteSparse\\src\\cholmod.jl:1689</a></li> <li> *(A::<b>Union{SparseArrays.SparseMatrixCSC{Float64, Ti}, SparseArrays.SparseVector{Float64, Ti}}</b>, B::<b>LinearAlgebra.Hermitian{Float64, SparseArrays.SparseMatrixCSC{Float64, Ti}}</b>)<i> where Ti</i> in SuiteSparse.CHOLMOD at <a href=\"file://C:/buildbot/worker/package_win64/build/usr/share/julia/stdlib/v1.7/SuiteSparse/src/cholmod.jl\" target=\"_blank\">C:\\Users\\dan_x\\AppData\\Local\\Programs\\Julia-1.7.3\\share\\julia\\stdlib\\v1.7\\SuiteSparse\\src\\cholmod.jl:1691</a></li> <li> *(A::<b>AbstractMatrix{T}</b>, R::<b>LinearAlgebra.AbstractRotation{S}</b>)<i> where {T, S}</i> in LinearAlgebra at <a href=\"file://C:/buildbot/worker/package_win64/build/usr/share/julia/stdlib/v1.7/LinearAlgebra/src/givens.jl\" target=\"_blank\">C:\\Users\\dan_x\\AppData\\Local\\Programs\\Julia-1.7.3\\share\\julia\\stdlib\\v1.7\\LinearAlgebra\\src\\givens.jl:20</a></li> <li> *(A::<b>LinearAlgebra.AbstractQ</b>, b::<b>StridedVector{T} where T</b>) in LinearAlgebra at <a href=\"file://C:/buildbot/worker/package_win64/build/usr/share/julia/stdlib/v1.7/LinearAlgebra/src/qr.jl\" target=\"_blank\">C:\\Users\\dan_x\\AppData\\Local\\Programs\\Julia-1.7.3\\share\\julia\\stdlib\\v1.7\\LinearAlgebra\\src\\qr.jl:636</a></li> <li> *(A::<b>LinearAlgebra.AbstractQ</b>, B::<b>StridedMatrix{T} where T</b>) in LinearAlgebra at <a href=\"file://C:/buildbot/worker/package_win64/build/usr/share/julia/stdlib/v1.7/LinearAlgebra/src/qr.jl\" target=\"_blank\">C:\\Users\\dan_x\\AppData\\Local\\Programs\\Julia-1.7.3\\share\\julia\\stdlib\\v1.7\\LinearAlgebra\\src\\qr.jl:648</a></li> <li> *(A::<b>LinearAlgebra.AbstractQ</b>, b::<b>Number</b>) in LinearAlgebra at <a href=\"file://C:/buildbot/worker/package_win64/build/usr/share/julia/stdlib/v1.7/LinearAlgebra/src/qr.jl\" target=\"_blank\">C:\\Users\\dan_x\\AppData\\Local\\Programs\\Julia-1.7.3\\share\\julia\\stdlib\\v1.7\\LinearAlgebra\\src\\qr.jl:661</a></li> <li> *(Q::<b>LinearAlgebra.AbstractQ</b>, adjB::<b>LinearAlgebra.Adjoint{<:Any, <:StridedVecOrMat}</b>) in LinearAlgebra at <a href=\"file://C:/buildbot/worker/package_win64/build/usr/share/julia/stdlib/v1.7/LinearAlgebra/src/qr.jl\" target=\"_blank\">C:\\Users\\dan_x\\AppData\\Local\\Programs\\Julia-1.7.3\\share\\julia\\stdlib\\v1.7\\LinearAlgebra\\src\\qr.jl:710</a></li> <li> *(A::<b>SuiteSparse.CHOLMOD.Sparse</b>, B::<b>SuiteSparse.CHOLMOD.Sparse</b>) in SuiteSparse.CHOLMOD at <a href=\"file://C:/buildbot/worker/package_win64/build/usr/share/julia/stdlib/v1.7/SuiteSparse/src/cholmod.jl\" target=\"_blank\">C:\\Users\\dan_x\\AppData\\Local\\Programs\\Julia-1.7.3\\share\\julia\\stdlib\\v1.7\\SuiteSparse\\src\\cholmod.jl:1077</a></li> <li> *(A::<b>SuiteSparse.CHOLMOD.Sparse</b>, B::<b>SuiteSparse.CHOLMOD.Dense</b>) in SuiteSparse.CHOLMOD at <a href=\"file://C:/buildbot/worker/package_win64/build/usr/share/julia/stdlib/v1.7/SuiteSparse/src/cholmod.jl\" target=\"_blank\">C:\\Users\\dan_x\\AppData\\Local\\Programs\\Julia-1.7.3\\share\\julia\\stdlib\\v1.7\\SuiteSparse\\src\\cholmod.jl:1078</a></li> <li> *(A::<b>SuiteSparse.CHOLMOD.Sparse</b>, B::<b>VecOrMat</b>) in SuiteSparse.CHOLMOD at <a href=\"file://C:/buildbot/worker/package_win64/build/usr/share/julia/stdlib/v1.7/SuiteSparse/src/cholmod.jl\" target=\"_blank\">C:\\Users\\dan_x\\AppData\\Local\\Programs\\Julia-1.7.3\\share\\julia\\stdlib\\v1.7\\SuiteSparse\\src\\cholmod.jl:1079</a></li> <li> *(A::<b>SuiteSparse.CHOLMOD.Sparse{Tv}</b>, adjB::<b>LinearAlgebra.Adjoint{Tv, SuiteSparse.CHOLMOD.Sparse{Tv}}</b>)<i> where Tv<:Float64</i> in SuiteSparse.CHOLMOD at <a href=\"file://C:/buildbot/worker/package_win64/build/usr/share/julia/stdlib/v1.7/SuiteSparse/src/cholmod.jl\" target=\"_blank\">C:\\Users\\dan_x\\AppData\\Local\\Programs\\Julia-1.7.3\\share\\julia\\stdlib\\v1.7\\SuiteSparse\\src\\cholmod.jl:1081</a></li> <li> *(A::<b>LinearAlgebra.SymTridiagonal</b>, B::<b>Number</b>) in LinearAlgebra at <a href=\"file://C:/buildbot/worker/package_win64/build/usr/share/julia/stdlib/v1.7/LinearAlgebra/src/tridiag.jl\" target=\"_blank\">C:\\Users\\dan_x\\AppData\\Local\\Programs\\Julia-1.7.3\\share\\julia\\stdlib\\v1.7\\LinearAlgebra\\src\\tridiag.jl:211</a></li> <li> *(A::<b>LinearAlgebra.SymTridiagonal</b>, B::<b>LinearAlgebra.Diagonal</b>) in LinearAlgebra at <a href=\"file://C:/buildbot/worker/package_win64/build/usr/share/julia/stdlib/v1.7/LinearAlgebra/src/bidiag.jl\" target=\"_blank\">C:\\Users\\dan_x\\AppData\\Local\\Programs\\Julia-1.7.3\\share\\julia\\stdlib\\v1.7\\LinearAlgebra\\src\\bidiag.jl:695</a></li> <li> *(J1::<b>LinearAlgebra.UniformScaling</b>, J2::<b>LinearAlgebra.UniformScaling</b>) in LinearAlgebra at <a href=\"file://C:/buildbot/worker/package_win64/build/usr/share/julia/stdlib/v1.7/LinearAlgebra/src/uniformscaling.jl\" target=\"_blank\">C:\\Users\\dan_x\\AppData\\Local\\Programs\\Julia-1.7.3\\share\\julia\\stdlib\\v1.7\\LinearAlgebra\\src\\uniformscaling.jl:258</a></li> <li> *(J::<b>LinearAlgebra.UniformScaling</b>, B::<b>BitMatrix</b>) in LinearAlgebra at <a href=\"file://C:/buildbot/worker/package_win64/build/usr/share/julia/stdlib/v1.7/LinearAlgebra/src/uniformscaling.jl\" target=\"_blank\">C:\\Users\\dan_x\\AppData\\Local\\Programs\\Julia-1.7.3\\share\\julia\\stdlib\\v1.7\\LinearAlgebra\\src\\uniformscaling.jl:260</a></li> <li> *(J::<b>LinearAlgebra.UniformScaling</b>, x::<b>Number</b>) in LinearAlgebra at <a href=\"file://C:/buildbot/worker/package_win64/build/usr/share/julia/stdlib/v1.7/LinearAlgebra/src/uniformscaling.jl\" target=\"_blank\">C:\\Users\\dan_x\\AppData\\Local\\Programs\\Julia-1.7.3\\share\\julia\\stdlib\\v1.7\\LinearAlgebra\\src\\uniformscaling.jl:265</a></li> <li> *(x::<b>LinearAlgebra.UniformScaling</b>, H::<b>LinearAlgebra.UpperHessenberg</b>) in LinearAlgebra at <a href=\"file://C:/buildbot/worker/package_win64/build/usr/share/julia/stdlib/v1.7/LinearAlgebra/src/hessenberg.jl\" target=\"_blank\">C:\\Users\\dan_x\\AppData\\Local\\Programs\\Julia-1.7.3\\share\\julia\\stdlib\\v1.7\\LinearAlgebra\\src\\hessenberg.jl:115</a></li> <li> *(J::<b>LinearAlgebra.UniformScaling</b>, A::<b>AbstractVecOrMat</b>) in LinearAlgebra at <a href=\"file://C:/buildbot/worker/package_win64/build/usr/share/julia/stdlib/v1.7/LinearAlgebra/src/uniformscaling.jl\" target=\"_blank\">C:\\Users\\dan_x\\AppData\\Local\\Programs\\Julia-1.7.3\\share\\julia\\stdlib\\v1.7\\LinearAlgebra\\src\\uniformscaling.jl:263</a></li> <li> *(x::<b>Rational</b>, y::<b>Integer</b>) in Base at <a href=\"https://github.com/JuliaLang/julia/tree/742b9abb4dd4621b667ec5bb3434b8b3602f96fd/base/rational.jl#L336\" target=\"_blank\">rational.jl:336</a></li> <li> *(adjQ::<b>LinearAlgebra.Adjoint{<:Any, <:LinearAlgebra.AbstractQ}</b>, B::<b>StridedVecOrMat</b>) in LinearAlgebra at <a href=\"file://C:/buildbot/worker/package_win64/build/usr/share/julia/stdlib/v1.7/LinearAlgebra/src/qr.jl\" target=\"_blank\">C:\\Users\\dan_x\\AppData\\Local\\Programs\\Julia-1.7.3\\share\\julia\\stdlib\\v1.7\\LinearAlgebra\\src\\qr.jl:703</a></li> <li> *(adjA::<b>LinearAlgebra.Adjoint{<:Any, <:StridedMatrix{T}}</b>, x::<b>StridedVector{S}</b>)<i> where {T<:Union{Float32, Float64, ComplexF32, ComplexF64}, S}</i> in LinearAlgebra at <a href=\"file://C:/buildbot/worker/package_win64/build/usr/share/julia/stdlib/v1.7/LinearAlgebra/src/matmul.jl\" target=\"_blank\">C:\\Users\\dan_x\\AppData\\Local\\Programs\\Julia-1.7.3\\share\\julia\\stdlib\\v1.7\\LinearAlgebra\\src\\matmul.jl:105</a></li> <li> *(adjA::<b>LinearAlgebra.Adjoint{<:Any, <:LinearAlgebra.LQPackedQ}</b>, B::<b>StridedVecOrMat</b>) in LinearAlgebra at <a href=\"file://C:/buildbot/worker/package_win64/build/usr/share/julia/stdlib/v1.7/LinearAlgebra/src/lq.jl\" target=\"_blank\">C:\\Users\\dan_x\\AppData\\Local\\Programs\\Julia-1.7.3\\share\\julia\\stdlib\\v1.7\\LinearAlgebra\\src\\lq.jl:214</a></li> <li> *(adjA::<b>LinearAlgebra.Adjoint{<:Any, <:SparseArrays.AbstractSparseMatrixCSC}</b>, x::<b>Union{StridedVector, BitVector}</b>) in SparseArrays at <a href=\"file://C:/buildbot/worker/package_win64/build/usr/share/julia/stdlib/v1.7/SparseArrays/src/linalg.jl\" target=\"_blank\">C:\\Users\\dan_x\\AppData\\Local\\Programs\\Julia-1.7.3\\share\\julia\\stdlib\\v1.7\\SparseArrays\\src\\linalg.jl:78</a></li> <li> *(A::<b>LinearAlgebra.Adjoint{<:Any, <:SparseArrays.AbstractSparseMatrixCSC}</b>, B::<b>Union{SparseArrays.AbstractSparseMatrixCSC{Tv, Ti}, SubArray{Tv, 2, <:SparseArrays.AbstractSparseMatrixCSC{Tv, Ti}, Tuple{Base.Slice{Base.OneTo{Int64}}, I}} where I<:AbstractUnitRange, LinearAlgebra.LowerTriangular{Tv, <:Union{SparseArrays.AbstractSparseMatrixCSC{Tv, Ti}, SubArray{Tv, 2, <:SparseArrays.AbstractSparseMatrixCSC{Tv, Ti}, Tuple{Base.Slice{Base.OneTo{Int64}}, I}} where I<:AbstractUnitRange}}, LinearAlgebra.UpperTriangular{Tv, <:Union{SparseArrays.AbstractSparseMatrixCSC{Tv, Ti}, SubArray{Tv, 2, <:SparseArrays.AbstractSparseMatrixCSC{Tv, Ti}, Tuple{Base.Slice{Base.OneTo{Int64}}, I}} where I<:AbstractUnitRange}}} where {Tv, Ti}</b>) in SparseArrays at <a href=\"file://C:/buildbot/worker/package_win64/build/usr/share/julia/stdlib/v1.7/SparseArrays/src/linalg.jl\" target=\"_blank\">C:\\Users\\dan_x\\AppData\\Local\\Programs\\Julia-1.7.3\\share\\julia\\stdlib\\v1.7\\SparseArrays\\src\\linalg.jl:173</a></li> <li> *(adjA::<b>LinearAlgebra.Adjoint{<:Any, <:SparseArrays.AbstractSparseMatrixCSC}</b>, B::<b>Union{LinearAlgebra.Adjoint{<:Any, <:Union{LinearAlgebra.LowerTriangular, LinearAlgebra.UnitLowerTriangular, LinearAlgebra.UnitUpperTriangular, LinearAlgebra.UpperTriangular, StridedMatrix, BitMatrix}}, LinearAlgebra.LowerTriangular, LinearAlgebra.Transpose{<:Any, <:Union{LinearAlgebra.LowerTriangular, LinearAlgebra.UnitLowerTriangular, LinearAlgebra.UnitUpperTriangular, LinearAlgebra.UpperTriangular, StridedMatrix, BitMatrix}}, LinearAlgebra.UnitLowerTriangular, LinearAlgebra.UnitUpperTriangular, LinearAlgebra.UpperTriangular, StridedMatrix, BitMatrix}</b>) in SparseArrays at <a href=\"file://C:/buildbot/worker/package_win64/build/usr/share/julia/stdlib/v1.7/SparseArrays/src/linalg.jl\" target=\"_blank\">C:\\Users\\dan_x\\AppData\\Local\\Programs\\Julia-1.7.3\\share\\julia\\stdlib\\v1.7\\SparseArrays\\src\\linalg.jl:80</a></li> <li> *(adjA::<b>LinearAlgebra.Adjoint{<:Any, <:Union{LinearAlgebra.Hermitian{Complex{T}, S}, LinearAlgebra.Hermitian{T, S}, LinearAlgebra.Symmetric{T, S}} where {T<:Real, S}}</b>, B::<b>LinearAlgebra.AbstractTriangular</b>) in LinearAlgebra at <a href=\"file://C:/buildbot/worker/package_win64/build/usr/share/julia/stdlib/v1.7/LinearAlgebra/src/symmetric.jl\" target=\"_blank\">C:\\Users\\dan_x\\AppData\\Local\\Programs\\Julia-1.7.3\\share\\julia\\stdlib\\v1.7\\LinearAlgebra\\src\\symmetric.jl:630</a></li> <li> *(A::<b>LinearAlgebra.Adjoint{<:Any, <:AbstractMatrix}</b>, B::<b>LinearAlgebra.AbstractTriangular</b>) in LinearAlgebra at <a href=\"file://C:/buildbot/worker/package_win64/build/usr/share/julia/stdlib/v1.7/LinearAlgebra/src/triangular.jl\" target=\"_blank\">C:\\Users\\dan_x\\AppData\\Local\\Programs\\Julia-1.7.3\\share\\julia\\stdlib\\v1.7\\LinearAlgebra\\src\\triangular.jl:1698</a></li> <li> *(v::<b>LinearAlgebra.Adjoint{T, <:AbstractVector} where T</b>, A::<b>LinearAlgebra.AbstractTriangular</b>) in LinearAlgebra at <a href=\"file://C:/buildbot/worker/package_win64/build/usr/share/julia/stdlib/v1.7/LinearAlgebra/src/triangular.jl\" target=\"_blank\">C:\\Users\\dan_x\\AppData\\Local\\Programs\\Julia-1.7.3\\share\\julia\\stdlib\\v1.7\\LinearAlgebra\\src\\triangular.jl:1690</a></li> <li> *(adjA::<b>LinearAlgebra.Adjoint{<:Any, <:StridedMatrix{T} where T}</b>, Q::<b>LinearAlgebra.LQPackedQ</b>) in LinearAlgebra at <a href=\"file://C:/buildbot/worker/package_win64/build/usr/share/julia/stdlib/v1.7/LinearAlgebra/src/lq.jl\" target=\"_blank\">C:\\Users\\dan_x\\AppData\\Local\\Programs\\Julia-1.7.3\\share\\julia\\stdlib\\v1.7\\LinearAlgebra\\src\\lq.jl:302</a></li> <li> *(u::<b>LinearAlgebra.Adjoint{<:Number, <:AbstractVector}</b>, v::<b>AbstractVector{<:Number}</b>) in LinearAlgebra at <a href=\"file://C:/buildbot/worker/package_win64/build/usr/share/julia/stdlib/v1.7/LinearAlgebra/src/adjtrans.jl\" target=\"_blank\">C:\\Users\\dan_x\\AppData\\Local\\Programs\\Julia-1.7.3\\share\\julia\\stdlib\\v1.7\\LinearAlgebra\\src\\adjtrans.jl:291</a></li> <li> *(adjA::<b>LinearAlgebra.Adjoint{<:Any, <:Union{LinearAlgebra.Hermitian{T, S}, LinearAlgebra.Symmetric{T, S}} where {T<:Real, S}}</b>, adjB::<b>LinearAlgebra.Adjoint{<:Any, <:Union{LinearAlgebra.Hermitian{T, S}, LinearAlgebra.Symmetric{T, S}} where {T<:Real, S}}</b>) in LinearAlgebra at <a href=\"file://C:/buildbot/worker/package_win64/build/usr/share/julia/stdlib/v1.7/LinearAlgebra/src/symmetric.jl\" target=\"_blank\">C:\\Users\\dan_x\\AppData\\Local\\Programs\\Julia-1.7.3\\share\\julia\\stdlib\\v1.7\\LinearAlgebra\\src\\symmetric.jl:620</a></li> <li> *(adjA::<b>LinearAlgebra.Adjoint{<:Any, <:Union{LinearAlgebra.Hermitian{Complex{T}, S}, LinearAlgebra.Hermitian{T, S}, LinearAlgebra.Symmetric{T, S}} where {T<:Real, S}}</b>, adjB::<b>LinearAlgebra.Adjoint{<:Any, <:Union{LinearAlgebra.Hermitian{T, S}, LinearAlgebra.Symmetric{T, S}} where {T<:Real, S}}</b>) in LinearAlgebra at <a href=\"file://C:/buildbot/worker/package_win64/build/usr/share/julia/stdlib/v1.7/LinearAlgebra/src/symmetric.jl\" target=\"_blank\">C:\\Users\\dan_x\\AppData\\Local\\Programs\\Julia-1.7.3\\share\\julia\\stdlib\\v1.7\\LinearAlgebra\\src\\symmetric.jl:624</a></li> <li> *(adjA::<b>LinearAlgebra.Adjoint{<:Any, <:Union{LinearAlgebra.Hermitian{Complex{T}, S}, LinearAlgebra.Hermitian{T, S}, LinearAlgebra.Symmetric{T, S}} where {T<:Real, S}}</b>, adjB::<b>LinearAlgebra.Adjoint{<:Any, <:Union{LinearAlgebra.Hermitian{T, S}, LinearAlgebra.Symmetric{Complex{T}, S}, LinearAlgebra.Symmetric{T, S}} where {T<:Real, S}}</b>) in LinearAlgebra at <a href=\"file://C:/buildbot/worker/package_win64/build/usr/share/julia/stdlib/v1.7/LinearAlgebra/src/symmetric.jl\" target=\"_blank\">C:\\Users\\dan_x\\AppData\\Local\\Programs\\Julia-1.7.3\\share\\julia\\stdlib\\v1.7\\LinearAlgebra\\src\\symmetric.jl:625</a></li> <li> *(adjA::<b>LinearAlgebra.Adjoint{<:Any, <:Union{LinearAlgebra.Hermitian{T, S}, LinearAlgebra.Symmetric{T, S}} where {T<:Real, S}}</b>, adjB::<b>LinearAlgebra.Adjoint{<:Any, <:Union{LinearAlgebra.Hermitian{Complex{T}, S}, LinearAlgebra.Hermitian{T, S}, LinearAlgebra.Symmetric{T, S}} where {T<:Real, S}}</b>) in LinearAlgebra at <a href=\"file://C:/buildbot/worker/package_win64/build/usr/share/julia/stdlib/v1.7/LinearAlgebra/src/symmetric.jl\" target=\"_blank\">C:\\Users\\dan_x\\AppData\\Local\\Programs\\Julia-1.7.3\\share\\julia\\stdlib\\v1.7\\LinearAlgebra\\src\\symmetric.jl:622</a></li> <li> *(adjA::<b>LinearAlgebra.Adjoint{<:Any, <:Union{LinearAlgebra.Hermitian{T, S}, LinearAlgebra.Symmetric{Complex{T}, S}, LinearAlgebra.Symmetric{T, S}} where {T<:Real, S}}</b>, adjB::<b>LinearAlgebra.Adjoint{<:Any, <:Union{LinearAlgebra.Hermitian{Complex{T}, S}, LinearAlgebra.Hermitian{T, S}, LinearAlgebra.Symmetric{T, S}} where {T<:Real, S}}</b>) in LinearAlgebra at <a href=\"file://C:/buildbot/worker/package_win64/build/usr/share/julia/stdlib/v1.7/LinearAlgebra/src/symmetric.jl\" target=\"_blank\">C:\\Users\\dan_x\\AppData\\Local\\Programs\\Julia-1.7.3\\share\\julia\\stdlib\\v1.7\\LinearAlgebra\\src\\symmetric.jl:623</a></li> <li> *(adjA::<b>LinearAlgebra.Adjoint{<:Any, <:Union{LinearAlgebra.Hermitian{Complex{T}, S}, LinearAlgebra.Hermitian{T, S}, LinearAlgebra.Symmetric{T, S}} where {T<:Real, S}}</b>, adjB::<b>LinearAlgebra.Adjoint{<:Any, <:Union{LinearAlgebra.Hermitian{Complex{T}, S}, LinearAlgebra.Hermitian{T, S}, LinearAlgebra.Symmetric{T, S}} where {T<:Real, S}}</b>) in LinearAlgebra at <a href=\"file://C:/buildbot/worker/package_win64/build/usr/share/julia/stdlib/v1.7/LinearAlgebra/src/symmetric.jl\" target=\"_blank\">C:\\Users\\dan_x\\AppData\\Local\\Programs\\Julia-1.7.3\\share\\julia\\stdlib\\v1.7\\LinearAlgebra\\src\\symmetric.jl:621</a></li> <li> *(adjA::<b>LinearAlgebra.Adjoint{<:Any, <:StridedMatrix{T} where T}</b>, adjQ::<b>LinearAlgebra.Adjoint{<:Any, <:LinearAlgebra.LQPackedQ}</b>) in LinearAlgebra at <a href=\"file://C:/buildbot/worker/package_win64/build/usr/share/julia/stdlib/v1.7/LinearAlgebra/src/lq.jl\" target=\"_blank\">C:\\Users\\dan_x\\AppData\\Local\\Programs\\Julia-1.7.3\\share\\julia\\stdlib\\v1.7\\LinearAlgebra\\src\\lq.jl:271</a></li> <li> *(adjA::<b>LinearAlgebra.Adjoint{<:Any, <:LinearAlgebra.LQPackedQ}</b>, adjB::<b>LinearAlgebra.Adjoint{<:Any, <:StridedVecOrMat}</b>) in LinearAlgebra at <a href=\"file://C:/buildbot/worker/package_win64/build/usr/share/julia/stdlib/v1.7/LinearAlgebra/src/lq.jl\" target=\"_blank\">C:\\Users\\dan_x\\AppData\\Local\\Programs\\Julia-1.7.3\\share\\julia\\stdlib\\v1.7\\LinearAlgebra\\src\\lq.jl:234</a></li> <li> *(adjA::<b>LinearAlgebra.Adjoint{<:Any, <:StridedVecOrMat}</b>, adjQ::<b>LinearAlgebra.Adjoint{<:Any, <:LinearAlgebra.AbstractQ}</b>) in LinearAlgebra at <a href=\"file://C:/buildbot/worker/package_win64/build/usr/share/julia/stdlib/v1.7/LinearAlgebra/src/qr.jl\" target=\"_blank\">C:\\Users\\dan_x\\AppData\\Local\\Programs\\Julia-1.7.3\\share\\julia\\stdlib\\v1.7\\LinearAlgebra\\src\\qr.jl:827</a></li> <li> *(u::<b>LinearAlgebra.Adjoint{T, <:AbstractVector} where T</b>, v::<b>LinearAlgebra.Adjoint{<:Any, <:LinearAlgebra.Transpose{T, <:AbstractVector} where T}</b>) in LinearAlgebra at <a href=\"file://C:/buildbot/worker/package_win64/build/usr/share/julia/stdlib/v1.7/LinearAlgebra/src/adjtrans.jl\" target=\"_blank\">C:\\Users\\dan_x\\AppData\\Local\\Programs\\Julia-1.7.3\\share\\julia\\stdlib\\v1.7\\LinearAlgebra\\src\\adjtrans.jl:306</a></li> <li> *(adjQ::<b>LinearAlgebra.Adjoint{<:Any, <:LinearAlgebra.AbstractQ}</b>, adjB::<b>LinearAlgebra.Adjoint{<:Any, <:StridedVecOrMat}</b>) in LinearAlgebra at <a href=\"file://C:/buildbot/worker/package_win64/build/usr/share/julia/stdlib/v1.7/LinearAlgebra/src/qr.jl\" target=\"_blank\">C:\\Users\\dan_x\\AppData\\Local\\Programs\\Julia-1.7.3\\share\\julia\\stdlib\\v1.7\\LinearAlgebra\\src\\qr.jl:717</a></li> <li> *(u::<b>LinearAlgebra.Adjoint{T, <:AbstractVector} where T</b>, A::<b>LinearAlgebra.Adjoint{<:Any, <:LinearAlgebra.AbstractQ}</b>) in LinearAlgebra at <a href=\"file://C:/buildbot/worker/package_win64/build/usr/share/julia/stdlib/v1.7/LinearAlgebra/src/qr.jl\" target=\"_blank\">C:\\Users\\dan_x\\AppData\\Local\\Programs\\Julia-1.7.3\\share\\julia\\stdlib\\v1.7\\LinearAlgebra\\src\\qr.jl:816</a></li> <li> *(A::<b>LinearAlgebra.Adjoint{<:Any, <:LinearAlgebra.AbstractTriangular}</b>, B::<b>LinearAlgebra.Adjoint{<:Any, <:Union{LinearAlgebra.Hermitian{Complex{T}, S}, LinearAlgebra.Hermitian{T, S}, LinearAlgebra.Symmetric{T, S}} where {T<:Real, S}}</b>) in LinearAlgebra at <a href=\"file://C:/buildbot/worker/package_win64/build/usr/share/julia/stdlib/v1.7/LinearAlgebra/src/symmetric.jl\" target=\"_blank\">C:\\Users\\dan_x\\AppData\\Local\\Programs\\Julia-1.7.3\\share\\julia\\stdlib\\v1.7\\LinearAlgebra\\src\\symmetric.jl:911</a></li> <li> *(A::<b>LinearAlgebra.Adjoint{<:Any, <:Union{LinearAlgebra.Hermitian{Complex{T}, S}, LinearAlgebra.Hermitian{T, S}, LinearAlgebra.Symmetric{T, S}} where {T<:Real, S}}</b>, B::<b>LinearAlgebra.Adjoint{<:Any, <:LinearAlgebra.AbstractTriangular}</b>) in LinearAlgebra at <a href=\"file://C:/buildbot/worker/package_win64/build/usr/share/julia/stdlib/v1.7/LinearAlgebra/src/symmetric.jl\" target=\"_blank\">C:\\Users\\dan_x\\AppData\\Local\\Programs\\Julia-1.7.3\\share\\julia\\stdlib\\v1.7\\LinearAlgebra\\src\\symmetric.jl:915</a></li> <li> *(D::<b>LinearAlgebra.Adjoint{<:Any, <:LinearAlgebra.Diagonal}</b>, B::<b>LinearAlgebra.Adjoint{<:Any, <:LinearAlgebra.Diagonal}</b>) in LinearAlgebra at <a href=\"file://C:/buildbot/worker/package_win64/build/usr/share/julia/stdlib/v1.7/LinearAlgebra/src/diagonal.jl\" target=\"_blank\">C:\\Users\\dan_x\\AppData\\Local\\Programs\\Julia-1.7.3\\share\\julia\\stdlib\\v1.7\\LinearAlgebra\\src\\diagonal.jl:319</a></li> <li> *(adjA::<b>LinearAlgebra.Adjoint{<:Any, <:Union{LinearAlgebra.Hermitian{Complex{T}, S}, LinearAlgebra.Hermitian{T, S}, LinearAlgebra.Symmetric{T, S}} where {T<:Real, S}}</b>, adjD::<b>LinearAlgebra.Adjoint{<:Any, <:LinearAlgebra.Diagonal}</b>) in LinearAlgebra at <a href=\"file://C:/buildbot/worker/package_win64/build/usr/share/julia/stdlib/v1.7/LinearAlgebra/src/diagonal.jl\" target=\"_blank\">C:\\Users\\dan_x\\AppData\\Local\\Programs\\Julia-1.7.3\\share\\julia\\stdlib\\v1.7\\LinearAlgebra\\src\\diagonal.jl:424</a></li> <li> *(A::<b>LinearAlgebra.Adjoint{<:Any, <:Union{LinearAlgebra.Hermitian{Complex{T}, S}, LinearAlgebra.Hermitian{T, S}, LinearAlgebra.Symmetric{T, S}} where {T<:Real, S}}</b>, B::<b>LinearAlgebra.Adjoint{<:Any, <:AbstractVector}</b>) in LinearAlgebra at <a href=\"file://C:/buildbot/worker/package_win64/build/usr/share/julia/stdlib/v1.7/LinearAlgebra/src/symmetric.jl\" target=\"_blank\">C:\\Users\\dan_x\\AppData\\Local\\Programs\\Julia-1.7.3\\share\\julia\\stdlib\\v1.7\\LinearAlgebra\\src\\symmetric.jl:901</a></li> <li> *(A::<b>LinearAlgebra.Adjoint{<:Any, <:Union{LinearAlgebra.Hermitian{Complex{T}, S}, LinearAlgebra.Hermitian{T, S}, LinearAlgebra.Symmetric{T, S}} where {T<:Real, S}}</b>, B::<b>LinearAlgebra.Adjoint{<:Any, <:AbstractMatrix}</b>) in LinearAlgebra at <a href=\"file://C:/buildbot/worker/package_win64/build/usr/share/julia/stdlib/v1.7/LinearAlgebra/src/symmetric.jl\" target=\"_blank\">C:\\Users\\dan_x\\AppData\\Local\\Programs\\Julia-1.7.3\\share\\julia\\stdlib\\v1.7\\LinearAlgebra\\src\\symmetric.jl:902</a></li> <li> *(adjD::<b>LinearAlgebra.Adjoint{<:Any, <:LinearAlgebra.Diagonal}</b>, adjA::<b>LinearAlgebra.Adjoint{<:Any, <:Union{LinearAlgebra.Hermitian{Complex{T}, S}, LinearAlgebra.Hermitian{T, S}, LinearAlgebra.Symmetric{T, S}} where {T<:Real, S}}</b>) in LinearAlgebra at <a href=\"file://C:/buildbot/worker/package_win64/build/usr/share/julia/stdlib/v1.7/LinearAlgebra/src/diagonal.jl\" target=\"_blank\">C:\\Users\\dan_x\\AppData\\Local\\Programs\\Julia-1.7.3\\share\\julia\\stdlib\\v1.7\\LinearAlgebra\\src\\diagonal.jl:425</a></li> <li> *(A::<b>LinearAlgebra.Adjoint{<:Any, <:AbstractVector}</b>, B::<b>LinearAlgebra.Adjoint{<:Any, <:Union{LinearAlgebra.Hermitian{Complex{T}, S}, LinearAlgebra.Hermitian{T, S}, LinearAlgebra.Symmetric{T, S}} where {T<:Real, S}}</b>) in LinearAlgebra at <a href=\"file://C:/buildbot/worker/package_win64/build/usr/share/julia/stdlib/v1.7/LinearAlgebra/src/symmetric.jl\" target=\"_blank\">C:\\Users\\dan_x\\AppData\\Local\\Programs\\Julia-1.7.3\\share\\julia\\stdlib\\v1.7\\LinearAlgebra\\src\\symmetric.jl:892</a></li> <li> *(A::<b>LinearAlgebra.Adjoint{<:Any, <:AbstractMatrix}</b>, B::<b>LinearAlgebra.Adjoint{<:Any, <:Union{LinearAlgebra.Hermitian{Complex{T}, S}, LinearAlgebra.Hermitian{T, S}, LinearAlgebra.Symmetric{T, S}} where {T<:Real, S}}</b>) in LinearAlgebra at <a href=\"file://C:/buildbot/worker/package_win64/build/usr/share/julia/stdlib/v1.7/LinearAlgebra/src/symmetric.jl\" target=\"_blank\">C:\\Users\\dan_x\\AppData\\Local\\Programs\\Julia-1.7.3\\share\\julia\\stdlib\\v1.7\\LinearAlgebra\\src\\symmetric.jl:893</a></li> <li> *(A::<b>LinearAlgebra.Adjoint{<:Any, <:LinearAlgebra.AbstractTriangular}</b>, B::<b>LinearAlgebra.Adjoint{<:Any, <:LinearAlgebra.AbstractRotation}</b>) in LinearAlgebra at <a href=\"file://C:/buildbot/worker/package_win64/build/usr/share/julia/stdlib/v1.7/LinearAlgebra/src/givens.jl\" target=\"_blank\">C:\\Users\\dan_x\\AppData\\Local\\Programs\\Julia-1.7.3\\share\\julia\\stdlib\\v1.7\\LinearAlgebra\\src\\givens.jl:407</a></li> <li> *(A::<b>LinearAlgebra.Adjoint{<:Any, <:Union{LinearAlgebra.Hermitian{Complex{T}, S}, LinearAlgebra.Hermitian{T, S}, LinearAlgebra.Symmetric{T, S}} where {T<:Real, S}}</b>, B::<b>LinearAlgebra.Adjoint{<:Any, <:LinearAlgebra.AbstractRotation}</b>) in LinearAlgebra at <a href=\"file://C:/buildbot/worker/package_win64/build/usr/share/julia/stdlib/v1.7/LinearAlgebra/src/givens.jl\" target=\"_blank\">C:\\Users\\dan_x\\AppData\\Local\\Programs\\Julia-1.7.3\\share\\julia\\stdlib\\v1.7\\LinearAlgebra\\src\\givens.jl:409</a></li> <li> *(A::<b>LinearAlgebra.Adjoint{<:Any, <:AbstractVector}</b>, B::<b>LinearAlgebra.Adjoint{<:Any, <:LinearAlgebra.AbstractRotation}</b>) in LinearAlgebra at <a href=\"file://C:/buildbot/worker/package_win64/build/usr/share/julia/stdlib/v1.7/LinearAlgebra/src/givens.jl\" target=\"_blank\">C:\\Users\\dan_x\\AppData\\Local\\Programs\\Julia-1.7.3\\share\\julia\\stdlib\\v1.7\\LinearAlgebra\\src\\givens.jl:402</a></li> <li> *(A::<b>LinearAlgebra.Adjoint{<:Any, <:AbstractMatrix}</b>, B::<b>LinearAlgebra.Adjoint{<:Any, <:LinearAlgebra.AbstractRotation}</b>) in LinearAlgebra at <a href=\"file://C:/buildbot/worker/package_win64/build/usr/share/julia/stdlib/v1.7/LinearAlgebra/src/givens.jl\" target=\"_blank\">C:\\Users\\dan_x\\AppData\\Local\\Programs\\Julia-1.7.3\\share\\julia\\stdlib\\v1.7\\LinearAlgebra\\src\\givens.jl:403</a></li> <li> *(A::<b>LinearAlgebra.Adjoint{<:Any, <:SparseArrays.AbstractSparseMatrixCSC}</b>, B::<b>LinearAlgebra.Adjoint{<:Any, <:SparseArrays.AbstractSparseMatrixCSC}</b>) in SparseArrays at <a href=\"file://C:/buildbot/worker/package_win64/build/usr/share/julia/stdlib/v1.7/SparseArrays/src/linalg.jl\" target=\"_blank\">C:\\Users\\dan_x\\AppData\\Local\\Programs\\Julia-1.7.3\\share\\julia\\stdlib\\v1.7\\SparseArrays\\src\\linalg.jl:174</a></li> <li> *(u::<b>LinearAlgebra.Adjoint{T, <:AbstractVector} where T</b>, v::<b>LinearAlgebra.Adjoint{T, <:AbstractVector} where T</b>) in LinearAlgebra at <a href=\"file://C:/buildbot/worker/package_win64/build/usr/share/julia/stdlib/v1.7/LinearAlgebra/src/adjtrans.jl\" target=\"_blank\">C:\\Users\\dan_x\\AppData\\Local\\Programs\\Julia-1.7.3\\share\\julia\\stdlib\\v1.7\\LinearAlgebra\\src\\adjtrans.jl:300</a></li> <li> *(u::<b>LinearAlgebra.Adjoint{T, <:AbstractVector} where T</b>, v::<b>LinearAlgebra.Transpose{<:Any, <:LinearAlgebra.Adjoint{T, <:AbstractVector} where T}</b>) in LinearAlgebra at <a href=\"file://C:/buildbot/worker/package_win64/build/usr/share/julia/stdlib/v1.7/LinearAlgebra/src/adjtrans.jl\" target=\"_blank\">C:\\Users\\dan_x\\AppData\\Local\\Programs\\Julia-1.7.3\\share\\julia\\stdlib\\v1.7\\LinearAlgebra\\src\\adjtrans.jl:308</a></li> <li> *(A::<b>LinearAlgebra.Adjoint{<:Any, <:Union{LinearAlgebra.Hermitian{Complex{T}, S}, LinearAlgebra.Hermitian{T, S}, LinearAlgebra.Symmetric{T, S}} where {T<:Real, S}}</b>, B::<b>LinearAlgebra.Transpose{<:Any, <:Union{LinearAlgebra.Hermitian{T, S}, LinearAlgebra.Symmetric{Complex{T}, S}, LinearAlgebra.Symmetric{T, S}} where {T<:Real, S}}</b>) in LinearAlgebra at <a href=\"file://C:/buildbot/worker/package_win64/build/usr/share/julia/stdlib/v1.7/LinearAlgebra/src/symmetric.jl\" target=\"_blank\">C:\\Users\\dan_x\\AppData\\Local\\Programs\\Julia-1.7.3\\share\\julia\\stdlib\\v1.7\\LinearAlgebra\\src\\symmetric.jl:889</a></li> <li> *(A::<b>LinearAlgebra.Adjoint{<:Any, <:LinearAlgebra.AbstractTriangular}</b>, B::<b>LinearAlgebra.Transpose{<:Any, <:Union{LinearAlgebra.Hermitian{T, S}, LinearAlgebra.Symmetric{Complex{T}, S}, LinearAlgebra.Symmetric{T, S}} where {T<:Real, S}}</b>) in LinearAlgebra at <a href=\"file://C:/buildbot/worker/package_win64/build/usr/share/julia/stdlib/v1.7/LinearAlgebra/src/symmetric.jl\" target=\"_blank\">C:\\Users\\dan_x\\AppData\\Local\\Programs\\Julia-1.7.3\\share\\julia\\stdlib\\v1.7\\LinearAlgebra\\src\\symmetric.jl:912</a></li> <li> *(A::<b>LinearAlgebra.Adjoint{<:Any, <:AbstractVector}</b>, B::<b>LinearAlgebra.Transpose{<:Any, <:Union{LinearAlgebra.Hermitian{T, S}, LinearAlgebra.Symmetric{Complex{T}, S}, LinearAlgebra.Symmetric{T, S}} where {T<:Real, S}}</b>) in LinearAlgebra at <a href=\"file://C:/buildbot/worker/package_win64/build/usr/share/julia/stdlib/v1.7/LinearAlgebra/src/symmetric.jl\" target=\"_blank\">C:\\Users\\dan_x\\AppData\\Local\\Programs\\Julia-1.7.3\\share\\julia\\stdlib\\v1.7\\LinearAlgebra\\src\\symmetric.jl:894</a></li> <li> *(A::<b>LinearAlgebra.Adjoint{<:Any, <:AbstractMatrix}</b>, B::<b>LinearAlgebra.Transpose{<:Any, <:Union{LinearAlgebra.Hermitian{T, S}, LinearAlgebra.Symmetric{Complex{T}, S}, LinearAlgebra.Symmetric{T, S}} where {T<:Real, S}}</b>) in LinearAlgebra at <a href=\"file://C:/buildbot/worker/package_win64/build/usr/share/julia/stdlib/v1.7/LinearAlgebra/src/symmetric.jl\" target=\"_blank\">C:\\Users\\dan_x\\AppData\\Local\\Programs\\Julia-1.7.3\\share\\julia\\stdlib\\v1.7\\LinearAlgebra\\src\\symmetric.jl:895</a></li> <li> *(A::<b>LinearAlgebra.Adjoint{<:Any, <:Union{LinearAlgebra.Hermitian{Complex{T}, S}, LinearAlgebra.Hermitian{T, S}, LinearAlgebra.Symmetric{T, S}} where {T<:Real, S}}</b>, B::<b>LinearAlgebra.Transpose{<:Any, <:LinearAlgebra.AbstractTriangular}</b>) in LinearAlgebra at <a href=\"file://C:/buildbot/worker/package_win64/build/usr/share/julia/stdlib/v1.7/LinearAlgebra/src/symmetric.jl\" target=\"_blank\">C:\\Users\\dan_x\\AppData\\Local\\Programs\\Julia-1.7.3\\share\\julia\\stdlib\\v1.7\\LinearAlgebra\\src\\symmetric.jl:916</a></li> <li> *(A::<b>LinearAlgebra.Adjoint{<:Any, <:Union{LinearAlgebra.Hermitian{Complex{T}, S}, LinearAlgebra.Hermitian{T, S}, LinearAlgebra.Symmetric{T, S}} where {T<:Real, S}}</b>, B::<b>LinearAlgebra.Transpose{<:Any, <:AbstractVector}</b>) in LinearAlgebra at <a href=\"file://C:/buildbot/worker/package_win64/build/usr/share/julia/stdlib/v1.7/LinearAlgebra/src/symmetric.jl\" target=\"_blank\">C:\\Users\\dan_x\\AppData\\Local\\Programs\\Julia-1.7.3\\share\\julia\\stdlib\\v1.7\\LinearAlgebra\\src\\symmetric.jl:903</a></li> <li> *(A::<b>LinearAlgebra.Adjoint{<:Any, <:Union{LinearAlgebra.Hermitian{Complex{T}, S}, LinearAlgebra.Hermitian{T, S}, LinearAlgebra.Symmetric{T, S}} where {T<:Real, S}}</b>, B::<b>LinearAlgebra.Transpose{<:Any, <:AbstractMatrix}</b>) in LinearAlgebra at <a href=\"file://C:/buildbot/worker/package_win64/build/usr/share/julia/stdlib/v1.7/LinearAlgebra/src/symmetric.jl\" target=\"_blank\">C:\\Users\\dan_x\\AppData\\Local\\Programs\\Julia-1.7.3\\share\\julia\\stdlib\\v1.7\\LinearAlgebra\\src\\symmetric.jl:904</a></li> <li> *(adjA::<b>LinearAlgebra.Adjoint{<:Any, <:StridedVecOrMat}</b>, Q::<b>LinearAlgebra.AbstractQ</b>) in LinearAlgebra at <a href=\"file://C:/buildbot/worker/package_win64/build/usr/share/julia/stdlib/v1.7/LinearAlgebra/src/qr.jl\" target=\"_blank\">C:\\Users\\dan_x\\AppData\\Local\\Programs\\Julia-1.7.3\\share\\julia\\stdlib\\v1.7\\LinearAlgebra\\src\\qr.jl:820</a></li> <li> *(adjA::<b>LinearAlgebra.Adjoint{<:Any, <:SuiteSparse.CHOLMOD.Sparse}</b>, B::<b>SuiteSparse.CHOLMOD.Sparse</b>) in SuiteSparse.CHOLMOD at <a href=\"file://C:/buildbot/worker/package_win64/build/usr/share/julia/stdlib/v1.7/SuiteSparse/src/cholmod.jl\" target=\"_blank\">C:\\Users\\dan_x\\AppData\\Local\\Programs\\Julia-1.7.3\\share\\julia\\stdlib\\v1.7\\SuiteSparse\\src\\cholmod.jl:1102</a></li> <li> *(D::<b>LinearAlgebra.Adjoint{<:Any, <:LinearAlgebra.Diagonal}</b>, B::<b>LinearAlgebra.Diagonal</b>) in LinearAlgebra at <a href=\"file://C:/buildbot/worker/package_win64/build/usr/share/julia/stdlib/v1.7/LinearAlgebra/src/diagonal.jl\" target=\"_blank\">C:\\Users\\dan_x\\AppData\\Local\\Programs\\Julia-1.7.3\\share\\julia\\stdlib\\v1.7\\LinearAlgebra\\src\\diagonal.jl:278</a></li> <li> *(A::<b>LinearAlgebra.Adjoint{<:Any, <:LinearAlgebra.AbstractTriangular}</b>, D::<b>LinearAlgebra.Diagonal</b>) in LinearAlgebra at <a href=\"file://C:/buildbot/worker/package_win64/build/usr/share/julia/stdlib/v1.7/LinearAlgebra/src/diagonal.jl\" target=\"_blank\">C:\\Users\\dan_x\\AppData\\Local\\Programs\\Julia-1.7.3\\share\\julia\\stdlib\\v1.7\\LinearAlgebra\\src\\diagonal.jl:279</a></li> <li> *(adjA::<b>LinearAlgebra.Adjoint{<:Any, <:Union{LinearAlgebra.Hermitian{Complex{T}, S}, LinearAlgebra.Hermitian{T, S}, LinearAlgebra.Symmetric{T, S}} where {T<:Real, S}}</b>, B::<b>LinearAlgebra.Diagonal</b>) in LinearAlgebra at <a href=\"file://C:/buildbot/worker/package_win64/build/usr/share/julia/stdlib/v1.7/LinearAlgebra/src/diagonal.jl\" target=\"_blank\">C:\\Users\\dan_x\\AppData\\Local\\Programs\\Julia-1.7.3\\share\\julia\\stdlib\\v1.7\\LinearAlgebra\\src\\diagonal.jl:421</a></li> <li> *(adjA::<b>LinearAlgebra.Adjoint{<:Any, <:Union{LinearAlgebra.Hermitian{Complex{T}, S}, LinearAlgebra.Hermitian{T, S}, LinearAlgebra.Symmetric{T, S}} where {T<:Real, S}}</b>, B::<b>AbstractVector</b>) in LinearAlgebra at <a href=\"file://C:/buildbot/worker/package_win64/build/usr/share/julia/stdlib/v1.7/LinearAlgebra/src/symmetric.jl\" target=\"_blank\">C:\\Users\\dan_x\\AppData\\Local\\Programs\\Julia-1.7.3\\share\\julia\\stdlib\\v1.7\\LinearAlgebra\\src\\symmetric.jl:609</a></li> <li> *(adjA::<b>LinearAlgebra.Adjoint{<:Any, <:Union{LinearAlgebra.Hermitian{Complex{T}, S}, LinearAlgebra.Hermitian{T, S}, LinearAlgebra.Symmetric{T, S}} where {T<:Real, S}}</b>, B::<b>AbstractMatrix</b>) in LinearAlgebra at <a href=\"file://C:/buildbot/worker/package_win64/build/usr/share/julia/stdlib/v1.7/LinearAlgebra/src/symmetric.jl\" target=\"_blank\">C:\\Users\\dan_x\\AppData\\Local\\Programs\\Julia-1.7.3\\share\\julia\\stdlib\\v1.7\\LinearAlgebra\\src\\symmetric.jl:610</a></li> <li> *(adjA::<b>LinearAlgebra.Adjoint{<:Any, <:AbstractMatrix}</b>, D::<b>LinearAlgebra.Diagonal</b>) in LinearAlgebra at <a href=\"file://C:/buildbot/worker/package_win64/build/usr/share/julia/stdlib/v1.7/LinearAlgebra/src/diagonal.jl\" target=\"_blank\">C:\\Users\\dan_x\\AppData\\Local\\Programs\\Julia-1.7.3\\share\\julia\\stdlib\\v1.7\\LinearAlgebra\\src\\diagonal.jl:281</a></li> <li> *(x::<b>LinearAlgebra.Adjoint{<:Any, <:AbstractVector}</b>, D::<b>LinearAlgebra.Diagonal</b>) in LinearAlgebra at <a href=\"file://C:/buildbot/worker/package_win64/build/usr/share/julia/stdlib/v1.7/LinearAlgebra/src/diagonal.jl\" target=\"_blank\">C:\\Users\\dan_x\\AppData\\Local\\Programs\\Julia-1.7.3\\share\\julia\\stdlib\\v1.7\\LinearAlgebra\\src\\diagonal.jl:676</a></li> <li> *(x::<b>LinearAlgebra.Adjoint{<:Any, <:AbstractVector}</b>, D::<b>LinearAlgebra.Diagonal</b>, y::<b>AbstractVector</b>) in LinearAlgebra at <a href=\"file://C:/buildbot/worker/package_win64/build/usr/share/julia/stdlib/v1.7/LinearAlgebra/src/diagonal.jl\" target=\"_blank\">C:\\Users\\dan_x\\AppData\\Local\\Programs\\Julia-1.7.3\\share\\julia\\stdlib\\v1.7\\LinearAlgebra\\src\\diagonal.jl:678</a></li> <li> *(adjA::<b>LinearAlgebra.Adjoint{<:Any, <:SuiteSparse.CHOLMOD.Sparse}</b>, B::<b>SuiteSparse.CHOLMOD.Dense</b>) in SuiteSparse.CHOLMOD at <a href=\"file://C:/buildbot/worker/package_win64/build/usr/share/julia/stdlib/v1.7/SuiteSparse/src/cholmod.jl\" target=\"_blank\">C:\\Users\\dan_x\\AppData\\Local\\Programs\\Julia-1.7.3\\share\\julia\\stdlib\\v1.7\\SuiteSparse\\src\\cholmod.jl:1112</a></li> <li> *(adjA::<b>LinearAlgebra.Adjoint{<:Any, <:Union{LinearAlgebra.LowerTriangular{Ta, S} where S<:AbstractMatrix{Ta}, LinearAlgebra.UnitLowerTriangular{Ta, S} where S<:AbstractMatrix{Ta}, LinearAlgebra.UnitUpperTriangular{Ta, S} where S<:AbstractMatrix{Ta}, LinearAlgebra.UpperTriangular{Ta, S} where S<:AbstractMatrix{Ta}, StridedArray{Ta, 2}}}</b>, x::<b>SparseArrays.AbstractSparseVector{Tx}</b>)<i> where {Ta, Tx}</i> in SparseArrays at <a href=\"file://C:/buildbot/worker/package_win64/build/usr/share/julia/stdlib/v1.7/SparseArrays/src/sparsevector.jl\" target=\"_blank\">C:\\Users\\dan_x\\AppData\\Local\\Programs\\Julia-1.7.3\\share\\julia\\stdlib\\v1.7\\SparseArrays\\src\\sparsevector.jl:1642</a></li> <li> *(adjA::<b>LinearAlgebra.Adjoint{<:Any, <:SparseArrays.AbstractSparseMatrixCSC}</b>, x::<b>SparseArrays.AbstractSparseVector</b>) in SparseArrays at <a href=\"file://C:/buildbot/worker/package_win64/build/usr/share/julia/stdlib/v1.7/SparseArrays/src/sparsevector.jl\" target=\"_blank\">C:\\Users\\dan_x\\AppData\\Local\\Programs\\Julia-1.7.3\\share\\julia\\stdlib\\v1.7\\SparseArrays\\src\\sparsevector.jl:1797</a></li> <li> *(adjA::<b>LinearAlgebra.Adjoint{<:Any, <:SuiteSparse.CHOLMOD.Sparse}</b>, B::<b>VecOrMat</b>) in SuiteSparse.CHOLMOD at <a href=\"file://C:/buildbot/worker/package_win64/build/usr/share/julia/stdlib/v1.7/SuiteSparse/src/cholmod.jl\" target=\"_blank\">C:\\Users\\dan_x\\AppData\\Local\\Programs\\Julia-1.7.3\\share\\julia\\stdlib\\v1.7\\SuiteSparse\\src\\cholmod.jl:1114</a></li> <li> *(x::<b>LinearAlgebra.Adjoint{T, <:AbstractVector} where T</b>, A::<b>AbstractMatrix</b>) in LinearAlgebra at <a href=\"file://C:/buildbot/worker/package_win64/build/usr/share/julia/stdlib/v1.7/LinearAlgebra/src/matmul.jl\" target=\"_blank\">C:\\Users\\dan_x\\AppData\\Local\\Programs\\Julia-1.7.3\\share\\julia\\stdlib\\v1.7\\LinearAlgebra\\src\\matmul.jl:133</a></li> <li> *(adjA::<b>LinearAlgebra.Adjoint{<:Any, <:AbstractMatrix{T}}</b>, x::<b>AbstractVector{S}</b>)<i> where {T, S}</i> in LinearAlgebra at <a href=\"file://C:/buildbot/worker/package_win64/build/usr/share/julia/stdlib/v1.7/LinearAlgebra/src/matmul.jl\" target=\"_blank\">C:\\Users\\dan_x\\AppData\\Local\\Programs\\Julia-1.7.3\\share\\julia\\stdlib\\v1.7\\LinearAlgebra\\src\\matmul.jl:110</a></li> <li> *(z::<b>Complex</b>, w::<b>Complex</b>) in Base at <a href=\"https://github.com/JuliaLang/julia/tree/742b9abb4dd4621b667ec5bb3434b8b3602f96fd/base/complex.jl#L290\" target=\"_blank\">complex.jl:290</a></li> <li> *(A::<b>LinearAlgebra.Symmetric</b>, x::<b>Number</b>) in LinearAlgebra at <a href=\"file://C:/buildbot/worker/package_win64/build/usr/share/julia/stdlib/v1.7/LinearAlgebra/src/symmetric.jl\" target=\"_blank\">C:\\Users\\dan_x\\AppData\\Local\\Programs\\Julia-1.7.3\\share\\julia\\stdlib\\v1.7\\LinearAlgebra\\src\\symmetric.jl:634</a></li> <li> *(A::<b>LinearAlgebra.Symmetric{Float64, SparseArrays.SparseMatrixCSC{Float64, Ti}}</b>, B::<b>Union{SparseArrays.SparseMatrixCSC{Float64, Ti}, SparseArrays.SparseVector{Float64, Ti}}</b>)<i> where Ti</i> in SuiteSparse.CHOLMOD at <a href=\"file://C:/buildbot/worker/package_win64/build/usr/share/julia/stdlib/v1.7/SuiteSparse/src/cholmod.jl\" target=\"_blank\">C:\\Users\\dan_x\\AppData\\Local\\Programs\\Julia-1.7.3\\share\\julia\\stdlib\\v1.7\\SuiteSparse\\src\\cholmod.jl:1680</a></li> <li> *(A::<b>LinearAlgebra.UnitLowerTriangular</b>, x::<b>Number</b>) in LinearAlgebra at <a href=\"file://C:/buildbot/worker/package_win64/build/usr/share/julia/stdlib/v1.7/LinearAlgebra/src/triangular.jl\" target=\"_blank\">C:\\Users\\dan_x\\AppData\\Local\\Programs\\Julia-1.7.3\\share\\julia\\stdlib\\v1.7\\LinearAlgebra\\src\\triangular.jl:851</a></li> <li> *(A::<b>LinearAlgebra.UnitLowerTriangular</b>, B::<b>LinearAlgebra.LowerTriangular</b>) in LinearAlgebra at <a href=\"file://C:/buildbot/worker/package_win64/build/usr/share/julia/stdlib/v1.7/LinearAlgebra/src/triangular.jl\" target=\"_blank\">C:\\Users\\dan_x\\AppData\\Local\\Programs\\Julia-1.7.3\\share\\julia\\stdlib\\v1.7\\LinearAlgebra\\src\\triangular.jl:1514</a></li> <li> *(A::<b>LinearAlgebra.UnitLowerTriangular</b>, B::<b>LinearAlgebra.UnitLowerTriangular</b>) in LinearAlgebra at <a href=\"file://C:/buildbot/worker/package_win64/build/usr/share/julia/stdlib/v1.7/LinearAlgebra/src/triangular.jl\" target=\"_blank\">C:\\Users\\dan_x\\AppData\\Local\\Programs\\Julia-1.7.3\\share\\julia\\stdlib\\v1.7\\LinearAlgebra\\src\\triangular.jl:1530</a></li> <li> *(a::<b>Number</b>, x::<b>Union{SparseArrays.SparseVector{Tv, Ti}, SubArray{Tv, 1, <:SparseArrays.AbstractSparseVector{Tv, Ti}, Tuple{Base.Slice{Base.OneTo{Int64}}}, false}, SubArray{Tv, 1, <:SparseArrays.AbstractSparseMatrixCSC{Tv, Ti}, Tuple{Base.Slice{Base.OneTo{Int64}}, Int64}, false}} where {Tv, Ti}</b>) in SparseArrays at <a href=\"file://C:/buildbot/worker/package_win64/build/usr/share/julia/stdlib/v1.7/SparseArrays/src/sparsevector.jl\" target=\"_blank\">C:\\Users\\dan_x\\AppData\\Local\\Programs\\Julia-1.7.3\\share\\julia\\stdlib\\v1.7\\SparseArrays\\src\\sparsevector.jl:1475</a></li> <li> *(B::<b>Number</b>, A::<b>LinearAlgebra.Bidiagonal</b>) in LinearAlgebra at <a href=\"file://C:/buildbot/worker/package_win64/build/usr/share/julia/stdlib/v1.7/LinearAlgebra/src/bidiag.jl\" target=\"_blank\">C:\\Users\\dan_x\\AppData\\Local\\Programs\\Julia-1.7.3\\share\\julia\\stdlib\\v1.7\\LinearAlgebra\\src\\bidiag.jl:374</a></li> <li> *(x::<b>Number</b>, D::<b>LinearAlgebra.Diagonal</b>) in LinearAlgebra at <a href=\"file://C:/buildbot/worker/package_win64/build/usr/share/julia/stdlib/v1.7/LinearAlgebra/src/diagonal.jl\" target=\"_blank\">C:\\Users\\dan_x\\AppData\\Local\\Programs\\Julia-1.7.3\\share\\julia\\stdlib\\v1.7\\LinearAlgebra\\src\\diagonal.jl:190</a></li> <li> *(x::<b>Number</b>, A::<b>LinearAlgebra.LowerTriangular</b>) in LinearAlgebra at <a href=\"file://C:/buildbot/worker/package_win64/build/usr/share/julia/stdlib/v1.7/LinearAlgebra/src/triangular.jl\" target=\"_blank\">C:\\Users\\dan_x\\AppData\\Local\\Programs\\Julia-1.7.3\\share\\julia\\stdlib\\v1.7\\LinearAlgebra\\src\\triangular.jl:859</a></li> <li> *(x::<b>Number</b>, A::<b>LinearAlgebra.Symmetric</b>) in LinearAlgebra at <a href=\"file://C:/buildbot/worker/package_win64/build/usr/share/julia/stdlib/v1.7/LinearAlgebra/src/symmetric.jl\" target=\"_blank\">C:\\Users\\dan_x\\AppData\\Local\\Programs\\Julia-1.7.3\\share\\julia\\stdlib\\v1.7\\LinearAlgebra\\src\\symmetric.jl:635</a></li> <li> *(a::<b>Number</b>, B::<b>LinearAlgebra.AbstractQ</b>) in LinearAlgebra at <a href=\"file://C:/buildbot/worker/package_win64/build/usr/share/julia/stdlib/v1.7/LinearAlgebra/src/qr.jl\" target=\"_blank\">C:\\Users\\dan_x\\AppData\\Local\\Programs\\Julia-1.7.3\\share\\julia\\stdlib\\v1.7\\LinearAlgebra\\src\\qr.jl:761</a></li> <li> *(v::<b>Number</b>, x::<b>Base.TwicePrecision</b>) in Base at <a href=\"https://github.com/JuliaLang/julia/tree/742b9abb4dd4621b667ec5bb3434b8b3602f96fd/base/twiceprecision.jl#L306\" target=\"_blank\">twiceprecision.jl:306</a></li> <li> *(x::<b>Number</b>, A::<b>LinearAlgebra.UnitLowerTriangular</b>) in LinearAlgebra at <a href=\"file://C:/buildbot/worker/package_win64/build/usr/share/julia/stdlib/v1.7/LinearAlgebra/src/triangular.jl\" target=\"_blank\">C:\\Users\\dan_x\\AppData\\Local\\Programs\\Julia-1.7.3\\share\\julia\\stdlib\\v1.7\\LinearAlgebra\\src\\triangular.jl:861</a></li> <li> *(x::<b>Number</b>, A::<b>LinearAlgebra.UnitUpperTriangular</b>) in LinearAlgebra at <a href=\"file://C:/buildbot/worker/package_win64/build/usr/share/julia/stdlib/v1.7/LinearAlgebra/src/triangular.jl\" target=\"_blank\">C:\\Users\\dan_x\\AppData\\Local\\Programs\\Julia-1.7.3\\share\\julia\\stdlib\\v1.7\\LinearAlgebra\\src\\triangular.jl:861</a></li> <li> *(B::<b>Number</b>, A::<b>LinearAlgebra.SymTridiagonal</b>) in LinearAlgebra at <a href=\"file://C:/buildbot/worker/package_win64/build/usr/share/julia/stdlib/v1.7/LinearAlgebra/src/tridiag.jl\" target=\"_blank\">C:\\Users\\dan_x\\AppData\\Local\\Programs\\Julia-1.7.3\\share\\julia\\stdlib\\v1.7\\LinearAlgebra\\src\\tridiag.jl:212</a></li> <li> *(B::<b>Number</b>, A::<b>LinearAlgebra.Tridiagonal</b>) in LinearAlgebra at <a href=\"file://C:/buildbot/worker/package_win64/build/usr/share/julia/stdlib/v1.7/LinearAlgebra/src/tridiag.jl\" target=\"_blank\">C:\\Users\\dan_x\\AppData\\Local\\Programs\\Julia-1.7.3\\share\\julia\\stdlib\\v1.7\\LinearAlgebra\\src\\tridiag.jl:743</a></li> <li> *(x::<b>Number</b>, J::<b>LinearAlgebra.UniformScaling</b>) in LinearAlgebra at <a href=\"file://C:/buildbot/worker/package_win64/build/usr/share/julia/stdlib/v1.7/LinearAlgebra/src/uniformscaling.jl\" target=\"_blank\">C:\\Users\\dan_x\\AppData\\Local\\Programs\\Julia-1.7.3\\share\\julia\\stdlib\\v1.7\\LinearAlgebra\\src\\uniformscaling.jl:264</a></li> <li> *(x::<b>Number</b>, A::<b>LinearAlgebra.UpperTriangular</b>) in LinearAlgebra at <a href=\"file://C:/buildbot/worker/package_win64/build/usr/share/julia/stdlib/v1.7/LinearAlgebra/src/triangular.jl\" target=\"_blank\">C:\\Users\\dan_x\\AppData\\Local\\Programs\\Julia-1.7.3\\share\\julia\\stdlib\\v1.7\\LinearAlgebra\\src\\triangular.jl:859</a></li> <li> *(x::<b>S</b>, F::<b>LinearAlgebra.Hessenberg{<:Any, <:AbstractMatrix{T}}</b>)<i> where {T, S<:Number}</i> in LinearAlgebra at <a href=\"file://C:/buildbot/worker/package_win64/build/usr/share/julia/stdlib/v1.7/LinearAlgebra/src/hessenberg.jl\" target=\"_blank\">C:\\Users\\dan_x\\AppData\\Local\\Programs\\Julia-1.7.3\\share\\julia\\stdlib\\v1.7\\LinearAlgebra\\src\\hessenberg.jl:629</a></li> <li> *(x::<b>Number</b>, H::<b>LinearAlgebra.UpperHessenberg</b>) in LinearAlgebra at <a href=\"file://C:/buildbot/worker/package_win64/build/usr/share/julia/stdlib/v1.7/LinearAlgebra/src/hessenberg.jl\" target=\"_blank\">C:\\Users\\dan_x\\AppData\\Local\\Programs\\Julia-1.7.3\\share\\julia\\stdlib\\v1.7\\LinearAlgebra\\src\\hessenberg.jl:115</a></li> <li> *(::<b>Number</b>, ::<b>Missing</b>) in Base at <a href=\"https://github.com/JuliaLang/julia/tree/742b9abb4dd4621b667ec5bb3434b8b3602f96fd/base/missing.jl#L124\" target=\"_blank\">missing.jl:124</a></li> <li> *(A::<b>LinearAlgebra.UpperTriangular</b>, x::<b>Number</b>) in LinearAlgebra at <a href=\"file://C:/buildbot/worker/package_win64/build/usr/share/julia/stdlib/v1.7/LinearAlgebra/src/triangular.jl\" target=\"_blank\">C:\\Users\\dan_x\\AppData\\Local\\Programs\\Julia-1.7.3\\share\\julia\\stdlib\\v1.7\\LinearAlgebra\\src\\triangular.jl:849</a></li> <li> *(A::<b>LinearAlgebra.UpperTriangular</b>, B::<b>LinearAlgebra.UpperTriangular</b>) in LinearAlgebra at <a href=\"file://C:/buildbot/worker/package_win64/build/usr/share/julia/stdlib/v1.7/LinearAlgebra/src/triangular.jl\" target=\"_blank\">C:\\Users\\dan_x\\AppData\\Local\\Programs\\Julia-1.7.3\\share\\julia\\stdlib\\v1.7\\LinearAlgebra\\src\\triangular.jl:1538</a></li> <li> *(A::<b>LinearAlgebra.UpperTriangular</b>, B::<b>LinearAlgebra.UnitUpperTriangular</b>) in LinearAlgebra at <a href=\"file://C:/buildbot/worker/package_win64/build/usr/share/julia/stdlib/v1.7/LinearAlgebra/src/triangular.jl\" target=\"_blank\">C:\\Users\\dan_x\\AppData\\Local\\Programs\\Julia-1.7.3\\share\\julia\\stdlib\\v1.7\\LinearAlgebra\\src\\triangular.jl:1554</a></li> <li> *(r::<b>StepRangeLen{<:Real, <:Base.TwicePrecision}</b>, x::<b>Real</b>) in Base at <a href=\"https://github.com/JuliaLang/julia/tree/742b9abb4dd4621b667ec5bb3434b8b3602f96fd/base/twiceprecision.jl#L523\" target=\"_blank\">twiceprecision.jl:523</a></li> <li> *(x::<b>Real</b>, r::<b>StepRangeLen{<:Real, <:Base.TwicePrecision}</b>) in Base at <a href=\"https://github.com/JuliaLang/julia/tree/742b9abb4dd4621b667ec5bb3434b8b3602f96fd/base/twiceprecision.jl#L521\" target=\"_blank\">twiceprecision.jl:521</a></li> <li> *(x::<b>Real</b>, A::<b>LinearAlgebra.Hermitian</b>) in LinearAlgebra at <a href=\"file://C:/buildbot/worker/package_win64/build/usr/share/julia/stdlib/v1.7/LinearAlgebra/src/symmetric.jl\" target=\"_blank\">C:\\Users\\dan_x\\AppData\\Local\\Programs\\Julia-1.7.3\\share\\julia\\stdlib\\v1.7\\LinearAlgebra\\src\\symmetric.jl:637</a></li> <li> *(α::<b>Union{Real, Complex}</b>, B::<b>AbstractMatrix{<:Union{Real, Complex}}</b>, C::<b>AbstractVector{<:Union{Real, Complex}}</b>) in LinearAlgebra at <a href=\"file://C:/buildbot/worker/package_win64/build/usr/share/julia/stdlib/v1.7/LinearAlgebra/src/matmul.jl\" target=\"_blank\">C:\\Users\\dan_x\\AppData\\Local\\Programs\\Julia-1.7.3\\share\\julia\\stdlib\\v1.7\\LinearAlgebra\\src\\matmul.jl:1111</a></li> <li> *(α::<b>Union{Real, Complex}</b>, B::<b>AbstractMatrix{<:Union{Real, Complex}}</b>, C::<b>AbstractMatrix{<:Union{Real, Complex}}</b>) in LinearAlgebra at <a href=\"file://C:/buildbot/worker/package_win64/build/usr/share/julia/stdlib/v1.7/LinearAlgebra/src/matmul.jl\" target=\"_blank\">C:\\Users\\dan_x\\AppData\\Local\\Programs\\Julia-1.7.3\\share\\julia\\stdlib\\v1.7\\LinearAlgebra\\src\\matmul.jl:1113</a></li> <li> *(α::<b>Union{Real, Complex}</b>, B::<b>AbstractMatrix{<:Union{Real, Complex}}</b>, C::<b>AbstractMatrix{<:Union{Real, Complex}}</b>, D::<b>AbstractMatrix{<:Union{Real, Complex}}</b>) in LinearAlgebra at <a href=\"file://C:/buildbot/worker/package_win64/build/usr/share/julia/stdlib/v1.7/LinearAlgebra/src/matmul.jl\" target=\"_blank\">C:\\Users\\dan_x\\AppData\\Local\\Programs\\Julia-1.7.3\\share\\julia\\stdlib\\v1.7\\LinearAlgebra\\src\\matmul.jl:1187</a></li> <li> *(α::<b>Number</b>, B::<b>AbstractMatrix</b>, C::<b>AbstractMatrix</b>, x::<b>AbstractVector</b>) in LinearAlgebra at <a href=\"file://C:/buildbot/worker/package_win64/build/usr/share/julia/stdlib/v1.7/LinearAlgebra/src/matmul.jl\" target=\"_blank\">C:\\Users\\dan_x\\AppData\\Local\\Programs\\Julia-1.7.3\\share\\julia\\stdlib\\v1.7\\LinearAlgebra\\src\\matmul.jl:1170</a></li> <li> *(α::<b>Number</b>, u::<b>AbstractVector</b>, tv::<b>Union{LinearAlgebra.Adjoint{T, var\"#s861\"}, LinearAlgebra.Transpose{T, var\"#s861\"}} where {T, var\"#s861\"<:(AbstractVector)}</b>) in LinearAlgebra at <a href=\"file://C:/buildbot/worker/package_win64/build/usr/share/julia/stdlib/v1.7/LinearAlgebra/src/matmul.jl\" target=\"_blank\">C:\\Users\\dan_x\\AppData\\Local\\Programs\\Julia-1.7.3\\share\\julia\\stdlib\\v1.7\\LinearAlgebra\\src\\matmul.jl:1116</a></li> <li> *(A::<b>Number</b>, B::<b>AbstractArray</b>) in Base at <a href=\"https://github.com/JuliaLang/julia/tree/742b9abb4dd4621b667ec5bb3434b8b3602f96fd/base/arraymath.jl#L52\" target=\"_blank\">arraymath.jl:52</a></li> <li> *(y::<b>Real</b>, x::<b>Dates.Period</b>) in Dates at <a href=\"file://C:/buildbot/worker/package_win64/build/usr/share/julia/stdlib/v1.7/Dates/src/periods.jl\" target=\"_blank\">C:\\Users\\dan_x\\AppData\\Local\\Programs\\Julia-1.7.3\\share\\julia\\stdlib\\v1.7\\Dates\\src\\periods.jl:95</a></li> <li> *(G1::<b>LinearAlgebra.Givens{T}</b>, G2::<b>LinearAlgebra.Givens{T}</b>)<i> where T</i> in LinearAlgebra at <a href=\"file://C:/buildbot/worker/package_win64/build/usr/share/julia/stdlib/v1.7/LinearAlgebra/src/givens.jl\" target=\"_blank\">C:\\Users\\dan_x\\AppData\\Local\\Programs\\Julia-1.7.3\\share\\julia\\stdlib\\v1.7\\LinearAlgebra\\src\\givens.jl:396</a></li> <li> *(A::<b>LinearAlgebra.LQPackedQ</b>, B::<b>StridedVecOrMat</b>) in LinearAlgebra at <a href=\"file://C:/buildbot/worker/package_win64/build/usr/share/julia/stdlib/v1.7/LinearAlgebra/src/lq.jl\" target=\"_blank\">C:\\Users\\dan_x\\AppData\\Local\\Programs\\Julia-1.7.3\\share\\julia\\stdlib\\v1.7\\LinearAlgebra\\src\\lq.jl:203</a></li> <li> *(A::<b>LinearAlgebra.LQPackedQ</b>, adjB::<b>LinearAlgebra.Adjoint{<:Any, <:StridedVecOrMat}</b>) in LinearAlgebra at <a href=\"file://C:/buildbot/worker/package_win64/build/usr/share/julia/stdlib/v1.7/LinearAlgebra/src/lq.jl\" target=\"_blank\">C:\\Users\\dan_x\\AppData\\Local\\Programs\\Julia-1.7.3\\share\\julia\\stdlib\\v1.7\\LinearAlgebra\\src\\lq.jl:227</a></li> <li> *(A::<b>SparseArrays.AbstractSparseMatrixCSC</b>, x::<b>SparseArrays.AbstractSparseVector</b>) in SparseArrays at <a href=\"file://C:/buildbot/worker/package_win64/build/usr/share/julia/stdlib/v1.7/SparseArrays/src/sparsevector.jl\" target=\"_blank\">C:\\Users\\dan_x\\AppData\\Local\\Programs\\Julia-1.7.3\\share\\julia\\stdlib\\v1.7\\SparseArrays\\src\\sparsevector.jl:1787</a></li> <li> *(A::<b>Union{SparseArrays.AbstractSparseMatrixCSC{Tv, Ti}, SubArray{Tv, 2, <:SparseArrays.AbstractSparseMatrixCSC{Tv, Ti}, Tuple{Base.Slice{Base.OneTo{Int64}}, I}} where I<:AbstractUnitRange, LinearAlgebra.LowerTriangular{Tv, <:Union{SparseArrays.AbstractSparseMatrixCSC{Tv, Ti}, SubArray{Tv, 2, <:SparseArrays.AbstractSparseMatrixCSC{Tv, Ti}, Tuple{Base.Slice{Base.OneTo{Int64}}, I}} where I<:AbstractUnitRange}}, LinearAlgebra.UpperTriangular{Tv, <:Union{SparseArrays.AbstractSparseMatrixCSC{Tv, Ti}, SubArray{Tv, 2, <:SparseArrays.AbstractSparseMatrixCSC{Tv, Ti}, Tuple{Base.Slice{Base.OneTo{Int64}}, I}} where I<:AbstractUnitRange}}} where {Tv, Ti}</b>, B::<b>SparseArrays.AbstractSparseVector</b>) in SparseArrays at <a href=\"file://C:/buildbot/worker/package_win64/build/usr/share/julia/stdlib/v1.7/SparseArrays/src/linalg.jl\" target=\"_blank\">C:\\Users\\dan_x\\AppData\\Local\\Programs\\Julia-1.7.3\\share\\julia\\stdlib\\v1.7\\SparseArrays\\src\\linalg.jl:163</a></li> <li> *(A::<b>Union{LinearAlgebra.LowerTriangular{Ta, S} where S<:AbstractMatrix{Ta}, LinearAlgebra.UnitLowerTriangular{Ta, S} where S<:AbstractMatrix{Ta}, LinearAlgebra.UnitUpperTriangular{Ta, S} where S<:AbstractMatrix{Ta}, LinearAlgebra.UpperTriangular{Ta, S} where S<:AbstractMatrix{Ta}, StridedArray{Ta, 2}}</b>, x::<b>SparseArrays.AbstractSparseVector{Tx}</b>)<i> where {Ta, Tx}</i> in SparseArrays at <a href=\"file://C:/buildbot/worker/package_win64/build/usr/share/julia/stdlib/v1.7/SparseArrays/src/sparsevector.jl\" target=\"_blank\">C:\\Users\\dan_x\\AppData\\Local\\Programs\\Julia-1.7.3\\share\\julia\\stdlib\\v1.7\\SparseArrays\\src\\sparsevector.jl:1562</a></li> <li> *(A::<b>SparseArrays.AbstractSparseMatrixCSC</b>, D::<b>LinearAlgebra.Diagonal</b>) in SparseArrays at <a href=\"file://C:/buildbot/worker/package_win64/build/usr/share/julia/stdlib/v1.7/SparseArrays/src/linalg.jl\" target=\"_blank\">C:\\Users\\dan_x\\AppData\\Local\\Programs\\Julia-1.7.3\\share\\julia\\stdlib\\v1.7\\SparseArrays\\src\\linalg.jl:148</a></li> <li> *(transA::<b>LinearAlgebra.Transpose{<:Any, <:StridedMatrix{T}}</b>, x::<b>StridedVector{S}</b>)<i> where {T<:Union{Float32, Float64, ComplexF32, ComplexF64}, S}</i> in LinearAlgebra at <a href=\"file://C:/buildbot/worker/package_win64/build/usr/share/julia/stdlib/v1.7/LinearAlgebra/src/matmul.jl\" target=\"_blank\">C:\\Users\\dan_x\\AppData\\Local\\Programs\\Julia-1.7.3\\share\\julia\\stdlib\\v1.7\\LinearAlgebra\\src\\matmul.jl:84</a></li> <li> *(transx::<b>LinearAlgebra.Transpose{<:Any, <:StridedVector{T}}</b>, y::<b>StridedVector{T}</b>)<i> where T<:Union{ComplexF32, ComplexF64}</i> in LinearAlgebra at <a href=\"file://C:/buildbot/worker/package_win64/build/usr/share/julia/stdlib/v1.7/LinearAlgebra/src/matmul.jl\" target=\"_blank\">C:\\Users\\dan_x\\AppData\\Local\\Programs\\Julia-1.7.3\\share\\julia\\stdlib\\v1.7\\LinearAlgebra\\src\\matmul.jl:38</a></li> <li> *(transA::<b>LinearAlgebra.Transpose{<:Any, <:SparseArrays.AbstractSparseMatrixCSC}</b>, x::<b>Union{StridedVector, BitVector}</b>) in SparseArrays at <a href=\"file://C:/buildbot/worker/package_win64/build/usr/share/julia/stdlib/v1.7/SparseArrays/src/linalg.jl\" target=\"_blank\">C:\\Users\\dan_x\\AppData\\Local\\Programs\\Julia-1.7.3\\share\\julia\\stdlib\\v1.7\\SparseArrays\\src\\linalg.jl:82</a></li> <li> *(A::<b>LinearAlgebra.Transpose{<:Any, <:SparseArrays.AbstractSparseMatrixCSC}</b>, B::<b>Union{SparseArrays.AbstractSparseMatrixCSC{Tv, Ti}, SubArray{Tv, 2, <:SparseArrays.AbstractSparseMatrixCSC{Tv, Ti}, Tuple{Base.Slice{Base.OneTo{Int64}}, I}} where I<:AbstractUnitRange, LinearAlgebra.LowerTriangular{Tv, <:Union{SparseArrays.AbstractSparseMatrixCSC{Tv, Ti}, SubArray{Tv, 2, <:SparseArrays.AbstractSparseMatrixCSC{Tv, Ti}, Tuple{Base.Slice{Base.OneTo{Int64}}, I}} where I<:AbstractUnitRange}}, LinearAlgebra.UpperTriangular{Tv, <:Union{SparseArrays.AbstractSparseMatrixCSC{Tv, Ti}, SubArray{Tv, 2, <:SparseArrays.AbstractSparseMatrixCSC{Tv, Ti}, Tuple{Base.Slice{Base.OneTo{Int64}}, I}} where I<:AbstractUnitRange}}} where {Tv, Ti}</b>) in SparseArrays at <a href=\"file://C:/buildbot/worker/package_win64/build/usr/share/julia/stdlib/v1.7/SparseArrays/src/linalg.jl\" target=\"_blank\">C:\\Users\\dan_x\\AppData\\Local\\Programs\\Julia-1.7.3\\share\\julia\\stdlib\\v1.7\\SparseArrays\\src\\linalg.jl:172</a></li> <li> *(transA::<b>LinearAlgebra.Transpose{<:Any, <:SparseArrays.AbstractSparseMatrixCSC}</b>, B::<b>Union{LinearAlgebra.Adjoint{<:Any, <:Union{LinearAlgebra.LowerTriangular, LinearAlgebra.UnitLowerTriangular, LinearAlgebra.UnitUpperTriangular, LinearAlgebra.UpperTriangular, StridedMatrix, BitMatrix}}, LinearAlgebra.LowerTriangular, LinearAlgebra.Transpose{<:Any, <:Union{LinearAlgebra.LowerTriangular, LinearAlgebra.UnitLowerTriangular, LinearAlgebra.UnitUpperTriangular, LinearAlgebra.UpperTriangular, StridedMatrix, BitMatrix}}, LinearAlgebra.UnitLowerTriangular, LinearAlgebra.UnitUpperTriangular, LinearAlgebra.UpperTriangular, StridedMatrix, BitMatrix}</b>) in SparseArrays at <a href=\"file://C:/buildbot/worker/package_win64/build/usr/share/julia/stdlib/v1.7/SparseArrays/src/linalg.jl\" target=\"_blank\">C:\\Users\\dan_x\\AppData\\Local\\Programs\\Julia-1.7.3\\share\\julia\\stdlib\\v1.7\\SparseArrays\\src\\linalg.jl:84</a></li> <li> *(transA::<b>LinearAlgebra.Transpose{<:Any, <:Union{LinearAlgebra.Hermitian{T, S}, LinearAlgebra.Symmetric{Complex{T}, S}, LinearAlgebra.Symmetric{T, S}} where {T<:Real, S}}</b>, B::<b>LinearAlgebra.AbstractTriangular</b>) in LinearAlgebra at <a href=\"file://C:/buildbot/worker/package_win64/build/usr/share/julia/stdlib/v1.7/LinearAlgebra/src/symmetric.jl\" target=\"_blank\">C:\\Users\\dan_x\\AppData\\Local\\Programs\\Julia-1.7.3\\share\\julia\\stdlib\\v1.7\\LinearAlgebra\\src\\symmetric.jl:628</a></li> <li> *(A::<b>LinearAlgebra.Transpose{<:Any, <:AbstractMatrix}</b>, B::<b>LinearAlgebra.AbstractTriangular</b>) in LinearAlgebra at <a href=\"file://C:/buildbot/worker/package_win64/build/usr/share/julia/stdlib/v1.7/LinearAlgebra/src/triangular.jl\" target=\"_blank\">C:\\Users\\dan_x\\AppData\\Local\\Programs\\Julia-1.7.3\\share\\julia\\stdlib\\v1.7\\LinearAlgebra\\src\\triangular.jl:1699</a></li> <li> *(v::<b>LinearAlgebra.Transpose{T, <:AbstractVector} where T</b>, A::<b>LinearAlgebra.AbstractTriangular</b>) in LinearAlgebra at <a href=\"file://C:/buildbot/worker/package_win64/build/usr/share/julia/stdlib/v1.7/LinearAlgebra/src/triangular.jl\" target=\"_blank\">C:\\Users\\dan_x\\AppData\\Local\\Programs\\Julia-1.7.3\\share\\julia\\stdlib\\v1.7\\LinearAlgebra\\src\\triangular.jl:1691</a></li> <li> *(D::<b>LinearAlgebra.Transpose{<:Any, <:LinearAlgebra.Diagonal}</b>, B::<b>LinearAlgebra.Diagonal</b>) in LinearAlgebra at <a href=\"file://C:/buildbot/worker/package_win64/build/usr/share/julia/stdlib/v1.7/LinearAlgebra/src/diagonal.jl\" target=\"_blank\">C:\\Users\\dan_x\\AppData\\Local\\Programs\\Julia-1.7.3\\share\\julia\\stdlib\\v1.7\\LinearAlgebra\\src\\diagonal.jl:288</a></li> <li> *(A::<b>LinearAlgebra.Transpose{<:Any, <:LinearAlgebra.AbstractTriangular}</b>, D::<b>LinearAlgebra.Diagonal</b>) in LinearAlgebra at <a href=\"file://C:/buildbot/worker/package_win64/build/usr/share/julia/stdlib/v1.7/LinearAlgebra/src/diagonal.jl\" target=\"_blank\">C:\\Users\\dan_x\\AppData\\Local\\Programs\\Julia-1.7.3\\share\\julia\\stdlib\\v1.7\\LinearAlgebra\\src\\diagonal.jl:289</a></li> <li> *(transA::<b>LinearAlgebra.Transpose{<:Any, <:Union{LinearAlgebra.Hermitian{T, S}, LinearAlgebra.Symmetric{Complex{T}, S}, LinearAlgebra.Symmetric{T, S}} where {T<:Real, S}}</b>, B::<b>LinearAlgebra.Diagonal</b>) in LinearAlgebra at <a href=\"file://C:/buildbot/worker/package_win64/build/usr/share/julia/stdlib/v1.7/LinearAlgebra/src/diagonal.jl\" target=\"_blank\">C:\\Users\\dan_x\\AppData\\Local\\Programs\\Julia-1.7.3\\share\\julia\\stdlib\\v1.7\\LinearAlgebra\\src\\diagonal.jl:419</a></li> <li> *(transA::<b>LinearAlgebra.Transpose{<:Any, <:AbstractMatrix}</b>, D::<b>LinearAlgebra.Diagonal</b>) in LinearAlgebra at <a href=\"file://C:/buildbot/worker/package_win64/build/usr/share/julia/stdlib/v1.7/LinearAlgebra/src/diagonal.jl\" target=\"_blank\">C:\\Users\\dan_x\\AppData\\Local\\Programs\\Julia-1.7.3\\share\\julia\\stdlib\\v1.7\\LinearAlgebra\\src\\diagonal.jl:291</a></li> <li> *(x::<b>LinearAlgebra.Transpose{<:Any, <:AbstractVector}</b>, D::<b>LinearAlgebra.Diagonal</b>) in LinearAlgebra at <a href=\"file://C:/buildbot/worker/package_win64/build/usr/share/julia/stdlib/v1.7/LinearAlgebra/src/diagonal.jl\" target=\"_blank\">C:\\Users\\dan_x\\AppData\\Local\\Programs\\Julia-1.7.3\\share\\julia\\stdlib\\v1.7\\LinearAlgebra\\src\\diagonal.jl:677</a></li> <li> *(x::<b>LinearAlgebra.Transpose{<:Any, <:AbstractVector}</b>, D::<b>LinearAlgebra.Diagonal</b>, y::<b>AbstractVector</b>) in LinearAlgebra at <a href=\"file://C:/buildbot/worker/package_win64/build/usr/share/julia/stdlib/v1.7/LinearAlgebra/src/diagonal.jl\" target=\"_blank\">C:\\Users\\dan_x\\AppData\\Local\\Programs\\Julia-1.7.3\\share\\julia\\stdlib\\v1.7\\LinearAlgebra\\src\\diagonal.jl:679</a></li> <li> *(u::<b>LinearAlgebra.Transpose{T, <:AbstractVector} where T</b>, v::<b>LinearAlgebra.Adjoint{<:Any, <:LinearAlgebra.Transpose{T, <:AbstractVector} where T}</b>) in LinearAlgebra at <a href=\"file://C:/buildbot/worker/package_win64/build/usr/share/julia/stdlib/v1.7/LinearAlgebra/src/adjtrans.jl\" target=\"_blank\">C:\\Users\\dan_x\\AppData\\Local\\Programs\\Julia-1.7.3\\share\\julia\\stdlib\\v1.7\\LinearAlgebra\\src\\adjtrans.jl:305</a></li> <li> *(A::<b>LinearAlgebra.Transpose{<:Any, <:Union{LinearAlgebra.Hermitian{T, S}, LinearAlgebra.Symmetric{Complex{T}, S}, LinearAlgebra.Symmetric{T, S}} where {T<:Real, S}}</b>, B::<b>LinearAlgebra.Adjoint{<:Any, <:Union{LinearAlgebra.Hermitian{Complex{T}, S}, LinearAlgebra.Hermitian{T, S}, LinearAlgebra.Symmetric{T, S}} where {T<:Real, S}}</b>) in LinearAlgebra at <a href=\"file://C:/buildbot/worker/package_win64/build/usr/share/julia/stdlib/v1.7/LinearAlgebra/src/symmetric.jl\" target=\"_blank\">C:\\Users\\dan_x\\AppData\\Local\\Programs\\Julia-1.7.3\\share\\julia\\stdlib\\v1.7\\LinearAlgebra\\src\\symmetric.jl:890</a></li> <li> *(A::<b>LinearAlgebra.Transpose{<:Any, <:LinearAlgebra.AbstractTriangular}</b>, B::<b>LinearAlgebra.Adjoint{<:Any, <:Union{LinearAlgebra.Hermitian{Complex{T}, S}, LinearAlgebra.Hermitian{T, S}, LinearAlgebra.Symmetric{T, S}} where {T<:Real, S}}</b>) in LinearAlgebra at <a href=\"file://C:/buildbot/worker/package_win64/build/usr/share/julia/stdlib/v1.7/LinearAlgebra/src/symmetric.jl\" target=\"_blank\">C:\\Users\\dan_x\\AppData\\Local\\Programs\\Julia-1.7.3\\share\\julia\\stdlib\\v1.7\\LinearAlgebra\\src\\symmetric.jl:913</a></li> <li> *(A::<b>LinearAlgebra.Transpose{<:Any, <:AbstractVector}</b>, B::<b>LinearAlgebra.Adjoint{<:Any, <:Union{LinearAlgebra.Hermitian{Complex{T}, S}, LinearAlgebra.Hermitian{T, S}, LinearAlgebra.Symmetric{T, S}} where {T<:Real, S}}</b>) in LinearAlgebra at <a href=\"file://C:/buildbot/worker/package_win64/build/usr/share/julia/stdlib/v1.7/LinearAlgebra/src/symmetric.jl\" target=\"_blank\">C:\\Users\\dan_x\\AppData\\Local\\Programs\\Julia-1.7.3\\share\\julia\\stdlib\\v1.7\\LinearAlgebra\\src\\symmetric.jl:896</a></li> <li> *(A::<b>LinearAlgebra.Transpose{<:Any, <:AbstractMatrix}</b>, B::<b>LinearAlgebra.Adjoint{<:Any, <:Union{LinearAlgebra.Hermitian{Complex{T}, S}, LinearAlgebra.Hermitian{T, S}, LinearAlgebra.Symmetric{T, S}} where {T<:Real, S}}</b>) in LinearAlgebra at <a href=\"file://C:/buildbot/worker/package_win64/build/usr/share/julia/stdlib/v1.7/LinearAlgebra/src/symmetric.jl\" target=\"_blank\">C:\\Users\\dan_x\\AppData\\Local\\Programs\\Julia-1.7.3\\share\\julia\\stdlib\\v1.7\\LinearAlgebra\\src\\symmetric.jl:897</a></li> <li> *(A::<b>LinearAlgebra.Transpose{<:Any, <:Union{LinearAlgebra.Hermitian{T, S}, LinearAlgebra.Symmetric{Complex{T}, S}, LinearAlgebra.Symmetric{T, S}} where {T<:Real, S}}</b>, B::<b>LinearAlgebra.Adjoint{<:Any, <:LinearAlgebra.AbstractTriangular}</b>) in LinearAlgebra at <a href=\"file://C:/buildbot/worker/package_win64/build/usr/share/julia/stdlib/v1.7/LinearAlgebra/src/symmetric.jl\" target=\"_blank\">C:\\Users\\dan_x\\AppData\\Local\\Programs\\Julia-1.7.3\\share\\julia\\stdlib\\v1.7\\LinearAlgebra\\src\\symmetric.jl:917</a></li> <li> *(A::<b>LinearAlgebra.Transpose{<:Any, <:Union{LinearAlgebra.Hermitian{T, S}, LinearAlgebra.Symmetric{Complex{T}, S}, LinearAlgebra.Symmetric{T, S}} where {T<:Real, S}}</b>, B::<b>LinearAlgebra.Adjoint{<:Any, <:AbstractVector}</b>) in LinearAlgebra at <a href=\"file://C:/buildbot/worker/package_win64/build/usr/share/julia/stdlib/v1.7/LinearAlgebra/src/symmetric.jl\" target=\"_blank\">C:\\Users\\dan_x\\AppData\\Local\\Programs\\Julia-1.7.3\\share\\julia\\stdlib\\v1.7\\LinearAlgebra\\src\\symmetric.jl:905</a></li> <li> *(A::<b>LinearAlgebra.Transpose{<:Any, <:Union{LinearAlgebra.Hermitian{T, S}, LinearAlgebra.Symmetric{Complex{T}, S}, LinearAlgebra.Symmetric{T, S}} where {T<:Real, S}}</b>, B::<b>LinearAlgebra.Adjoint{<:Any, <:AbstractMatrix}</b>) in LinearAlgebra at <a href=\"file://C:/buildbot/worker/package_win64/build/usr/share/julia/stdlib/v1.7/LinearAlgebra/src/symmetric.jl\" target=\"_blank\">C:\\Users\\dan_x\\AppData\\Local\\Programs\\Julia-1.7.3\\share\\julia\\stdlib\\v1.7\\LinearAlgebra\\src\\symmetric.jl:906</a></li> <li> *(A::<b>LinearAlgebra.Transpose{<:Any, <:LinearAlgebra.AbstractTriangular}</b>, B::<b>LinearAlgebra.Adjoint{<:Any, <:LinearAlgebra.AbstractRotation}</b>) in LinearAlgebra at <a href=\"file://C:/buildbot/worker/package_win64/build/usr/share/julia/stdlib/v1.7/LinearAlgebra/src/givens.jl\" target=\"_blank\">C:\\Users\\dan_x\\AppData\\Local\\Programs\\Julia-1.7.3\\share\\julia\\stdlib\\v1.7\\LinearAlgebra\\src\\givens.jl:408</a></li> <li> *(A::<b>LinearAlgebra.Transpose{<:Any, <:Union{LinearAlgebra.Hermitian{T, S}, LinearAlgebra.Symmetric{Complex{T}, S}, LinearAlgebra.Symmetric{T, S}} where {T<:Real, S}}</b>, B::<b>LinearAlgebra.Adjoint{<:Any, <:LinearAlgebra.AbstractRotation}</b>) in LinearAlgebra at <a href=\"file://C:/buildbot/worker/package_win64/build/usr/share/julia/stdlib/v1.7/LinearAlgebra/src/givens.jl\" target=\"_blank\">C:\\Users\\dan_x\\AppData\\Local\\Programs\\Julia-1.7.3\\share\\julia\\stdlib\\v1.7\\LinearAlgebra\\src\\givens.jl:410</a></li> <li> *(A::<b>LinearAlgebra.Transpose{<:Any, <:AbstractVector}</b>, B::<b>LinearAlgebra.Adjoint{<:Any, <:LinearAlgebra.AbstractRotation}</b>) in LinearAlgebra at <a href=\"file://C:/buildbot/worker/package_win64/build/usr/share/julia/stdlib/v1.7/LinearAlgebra/src/givens.jl\" target=\"_blank\">C:\\Users\\dan_x\\AppData\\Local\\Programs\\Julia-1.7.3\\share\\julia\\stdlib\\v1.7\\LinearAlgebra\\src\\givens.jl:404</a></li> <li> *(A::<b>LinearAlgebra.Transpose{<:Any, <:AbstractMatrix}</b>, B::<b>LinearAlgebra.Adjoint{<:Any, <:LinearAlgebra.AbstractRotation}</b>) in LinearAlgebra at <a href=\"file://C:/buildbot/worker/package_win64/build/usr/share/julia/stdlib/v1.7/LinearAlgebra/src/givens.jl\" target=\"_blank\">C:\\Users\\dan_x\\AppData\\Local\\Programs\\Julia-1.7.3\\share\\julia\\stdlib\\v1.7\\LinearAlgebra\\src\\givens.jl:405</a></li> <li> *(u::<b>LinearAlgebra.Transpose{T, <:AbstractVector}</b>, v::<b>AbstractVector{T}</b>)<i> where T<:Real</i> in LinearAlgebra at <a href=\"file://C:/buildbot/worker/package_win64/build/usr/share/julia/stdlib/v1.7/LinearAlgebra/src/adjtrans.jl\" target=\"_blank\">C:\\Users\\dan_x\\AppData\\Local\\Programs\\Julia-1.7.3\\share\\julia\\stdlib\\v1.7\\LinearAlgebra\\src\\adjtrans.jl:292</a></li> <li> *(A::<b>LinearAlgebra.Transpose{<:Any, <:LinearAlgebra.AbstractTriangular}</b>, B::<b>LinearAlgebra.Transpose{<:Any, <:Union{LinearAlgebra.Hermitian{T, S}, LinearAlgebra.Symmetric{Complex{T}, S}, LinearAlgebra.Symmetric{T, S}} where {T<:Real, S}}</b>) in LinearAlgebra at <a href=\"file://C:/buildbot/worker/package_win64/build/usr/share/julia/stdlib/v1.7/LinearAlgebra/src/symmetric.jl\" target=\"_blank\">C:\\Users\\dan_x\\AppData\\Local\\Programs\\Julia-1.7.3\\share\\julia\\stdlib\\v1.7\\LinearAlgebra\\src\\symmetric.jl:914</a></li> <li> *(u::<b>LinearAlgebra.Transpose{T, <:AbstractVector} where T</b>, v::<b>LinearAlgebra.Transpose{<:Any, <:LinearAlgebra.Adjoint{T, <:AbstractVector} where T}</b>) in LinearAlgebra at <a href=\"file://C:/buildbot/worker/package_win64/build/usr/share/julia/stdlib/v1.7/LinearAlgebra/src/adjtrans.jl\" target=\"_blank\">C:\\Users\\dan_x\\AppData\\Local\\Programs\\Julia-1.7.3\\share\\julia\\stdlib\\v1.7\\LinearAlgebra\\src\\adjtrans.jl:307</a></li> <li> *(transA::<b>LinearAlgebra.Transpose{<:Any, <:Union{LinearAlgebra.Hermitian{T, S}, LinearAlgebra.Symmetric{T, S}} where {T<:Real, S}}</b>, transB::<b>LinearAlgebra.Transpose{<:Any, <:Union{LinearAlgebra.Hermitian{T, S}, LinearAlgebra.Symmetric{T, S}} where {T<:Real, S}}</b>) in LinearAlgebra at <a href=\"file://C:/buildbot/worker/package_win64/build/usr/share/julia/stdlib/v1.7/LinearAlgebra/src/symmetric.jl\" target=\"_blank\">C:\\Users\\dan_x\\AppData\\Local\\Programs\\Julia-1.7.3\\share\\julia\\stdlib\\v1.7\\LinearAlgebra\\src\\symmetric.jl:614</a></li> <li> *(transA::<b>LinearAlgebra.Transpose{<:Any, <:Union{LinearAlgebra.Hermitian{T, S}, LinearAlgebra.Symmetric{Complex{T}, S}, LinearAlgebra.Symmetric{T, S}} where {T<:Real, S}}</b>, transB::<b>LinearAlgebra.Transpose{<:Any, <:Union{LinearAlgebra.Hermitian{T, S}, LinearAlgebra.Symmetric{T, S}} where {T<:Real, S}}</b>) in LinearAlgebra at <a href=\"file://C:/buildbot/worker/package_win64/build/usr/share/julia/stdlib/v1.7/LinearAlgebra/src/symmetric.jl\" target=\"_blank\">C:\\Users\\dan_x\\AppData\\Local\\Programs\\Julia-1.7.3\\share\\julia\\stdlib\\v1.7\\LinearAlgebra\\src\\symmetric.jl:617</a></li> <li> *(transA::<b>LinearAlgebra.Transpose{<:Any, <:Union{LinearAlgebra.Hermitian{T, S}, LinearAlgebra.Symmetric{Complex{T}, S}, LinearAlgebra.Symmetric{T, S}} where {T<:Real, S}}</b>, transB::<b>LinearAlgebra.Transpose{<:Any, <:Union{LinearAlgebra.Hermitian{Complex{T}, S}, LinearAlgebra.Hermitian{T, S}, LinearAlgebra.Symmetric{T, S}} where {T<:Real, S}}</b>) in LinearAlgebra at <a href=\"file://C:/buildbot/worker/package_win64/build/usr/share/julia/stdlib/v1.7/LinearAlgebra/src/symmetric.jl\" target=\"_blank\">C:\\Users\\dan_x\\AppData\\Local\\Programs\\Julia-1.7.3\\share\\julia\\stdlib\\v1.7\\LinearAlgebra\\src\\symmetric.jl:618</a></li> <li> *(transA::<b>LinearAlgebra.Transpose{<:Any, <:Union{LinearAlgebra.Hermitian{T, S}, LinearAlgebra.Symmetric{T, S}} where {T<:Real, S}}</b>, transB::<b>LinearAlgebra.Transpose{<:Any, <:Union{LinearAlgebra.Hermitian{T, S}, LinearAlgebra.Symmetric{Complex{T}, S}, LinearAlgebra.Symmetric{T, S}} where {T<:Real, S}}</b>) in LinearAlgebra at <a href=\"file://C:/buildbot/worker/package_win64/build/usr/share/julia/stdlib/v1.7/LinearAlgebra/src/symmetric.jl\" target=\"_blank\">C:\\Users\\dan_x\\AppData\\Local\\Programs\\Julia-1.7.3\\share\\julia\\stdlib\\v1.7\\LinearAlgebra\\src\\symmetric.jl:615</a></li> <li> *(transA::<b>LinearAlgebra.Transpose{<:Any, <:Union{LinearAlgebra.Hermitian{Complex{T}, S}, LinearAlgebra.Hermitian{T, S}, LinearAlgebra.Symmetric{T, S}} where {T<:Real, S}}</b>, transB::<b>LinearAlgebra.Transpose{<:Any, <:Union{LinearAlgebra.Hermitian{T, S}, LinearAlgebra.Symmetric{Complex{T}, S}, LinearAlgebra.Symmetric{T, S}} where {T<:Real, S}}</b>) in LinearAlgebra at <a href=\"file://C:/buildbot/worker/package_win64/build/usr/share/julia/stdlib/v1.7/LinearAlgebra/src/symmetric.jl\" target=\"_blank\">C:\\Users\\dan_x\\AppData\\Local\\Programs\\Julia-1.7.3\\share\\julia\\stdlib\\v1.7\\LinearAlgebra\\src\\symmetric.jl:619</a></li> <li> *(transA::<b>LinearAlgebra.Transpose{<:Any, <:Union{LinearAlgebra.Hermitian{T, S}, LinearAlgebra.Symmetric{Complex{T}, S}, LinearAlgebra.Symmetric{T, S}} where {T<:Real, S}}</b>, transB::<b>LinearAlgebra.Transpose{<:Any, <:Union{LinearAlgebra.Hermitian{T, S}, LinearAlgebra.Symmetric{Complex{T}, S}, LinearAlgebra.Symmetric{T, S}} where {T<:Real, S}}</b>) in LinearAlgebra at <a href=\"file://C:/buildbot/worker/package_win64/build/usr/share/julia/stdlib/v1.7/LinearAlgebra/src/symmetric.jl\" target=\"_blank\">C:\\Users\\dan_x\\AppData\\Local\\Programs\\Julia-1.7.3\\share\\julia\\stdlib\\v1.7\\LinearAlgebra\\src\\symmetric.jl:616</a></li> <li> *(A::<b>LinearAlgebra.Transpose{<:Any, <:Union{LinearAlgebra.Hermitian{T, S}, LinearAlgebra.Symmetric{Complex{T}, S}, LinearAlgebra.Symmetric{T, S}} where {T<:Real, S}}</b>, B::<b>LinearAlgebra.Transpose{<:Any, <:LinearAlgebra.AbstractTriangular}</b>) in LinearAlgebra at <a href=\"file://C:/buildbot/worker/package_win64/build/usr/share/julia/stdlib/v1.7/LinearAlgebra/src/symmetric.jl\" target=\"_blank\">C:\\Users\\dan_x\\AppData\\Local\\Programs\\Julia-1.7.3\\share\\julia\\stdlib\\v1.7\\LinearAlgebra\\src\\symmetric.jl:918</a></li> <li> *(D::<b>LinearAlgebra.Transpose{<:Any, <:LinearAlgebra.Diagonal}</b>, B::<b>LinearAlgebra.Transpose{<:Any, <:LinearAlgebra.Diagonal}</b>) in LinearAlgebra at <a href=\"file://C:/buildbot/worker/package_win64/build/usr/share/julia/stdlib/v1.7/LinearAlgebra/src/diagonal.jl\" target=\"_blank\">C:\\Users\\dan_x\\AppData\\Local\\Programs\\Julia-1.7.3\\share\\julia\\stdlib\\v1.7\\LinearAlgebra\\src\\diagonal.jl:321</a></li> <li> *(transA::<b>LinearAlgebra.Transpose{<:Any, <:Union{LinearAlgebra.Hermitian{T, S}, LinearAlgebra.Symmetric{Complex{T}, S}, LinearAlgebra.Symmetric{T, S}} where {T<:Real, S}}</b>, transD::<b>LinearAlgebra.Transpose{<:Any, <:LinearAlgebra.Diagonal}</b>) in LinearAlgebra at <a href=\"file://C:/buildbot/worker/package_win64/build/usr/share/julia/stdlib/v1.7/LinearAlgebra/src/diagonal.jl\" target=\"_blank\">C:\\Users\\dan_x\\AppData\\Local\\Programs\\Julia-1.7.3\\share\\julia\\stdlib\\v1.7\\LinearAlgebra\\src\\diagonal.jl:422</a></li> <li> *(A::<b>LinearAlgebra.Transpose{<:Any, <:Union{LinearAlgebra.Hermitian{T, S}, LinearAlgebra.Symmetric{Complex{T}, S}, LinearAlgebra.Symmetric{T, S}} where {T<:Real, S}}</b>, B::<b>LinearAlgebra.Transpose{<:Any, <:AbstractMatrix}</b>) in LinearAlgebra at <a href=\"file://C:/buildbot/worker/package_win64/build/usr/share/julia/stdlib/v1.7/LinearAlgebra/src/symmetric.jl\" target=\"_blank\">C:\\Users\\dan_x\\AppData\\Local\\Programs\\Julia-1.7.3\\share\\julia\\stdlib\\v1.7\\LinearAlgebra\\src\\symmetric.jl:908</a></li> <li> *(A::<b>LinearAlgebra.Transpose{<:Any, <:Union{LinearAlgebra.Hermitian{T, S}, LinearAlgebra.Symmetric{Complex{T}, S}, LinearAlgebra.Symmetric{T, S}} where {T<:Real, S}}</b>, B::<b>LinearAlgebra.Transpose{<:Any, <:AbstractVector}</b>) in LinearAlgebra at <a href=\"file://C:/buildbot/worker/package_win64/build/usr/share/julia/stdlib/v1.7/LinearAlgebra/src/symmetric.jl\" target=\"_blank\">C:\\Users\\dan_x\\AppData\\Local\\Programs\\Julia-1.7.3\\share\\julia\\stdlib\\v1.7\\LinearAlgebra\\src\\symmetric.jl:907</a></li> <li> *(transA::<b>LinearAlgebra.Transpose{<:Any, <:Union{LinearAlgebra.Hermitian{T, S}, LinearAlgebra.Symmetric{Complex{T}, S}, LinearAlgebra.Symmetric{T, S}} where {T<:Real, S}}</b>, B::<b>AbstractMatrix</b>) in LinearAlgebra at <a href=\"file://C:/buildbot/worker/package_win64/build/usr/share/julia/stdlib/v1.7/LinearAlgebra/src/symmetric.jl\" target=\"_blank\">C:\\Users\\dan_x\\AppData\\Local\\Programs\\Julia-1.7.3\\share\\julia\\stdlib\\v1.7\\LinearAlgebra\\src\\symmetric.jl:606</a></li> <li> *(transA::<b>LinearAlgebra.Transpose{<:Any, <:Union{LinearAlgebra.Hermitian{T, S}, LinearAlgebra.Symmetric{Complex{T}, S}, LinearAlgebra.Symmetric{T, S}} where {T<:Real, S}}</b>, B::<b>AbstractVector</b>) in LinearAlgebra at <a href=\"file://C:/buildbot/worker/package_win64/build/usr/share/julia/stdlib/v1.7/LinearAlgebra/src/symmetric.jl\" target=\"_blank\">C:\\Users\\dan_x\\AppData\\Local\\Programs\\Julia-1.7.3\\share\\julia\\stdlib\\v1.7\\LinearAlgebra\\src\\symmetric.jl:605</a></li> <li> *(transD::<b>LinearAlgebra.Transpose{<:Any, <:LinearAlgebra.Diagonal}</b>, transA::<b>LinearAlgebra.Transpose{<:Any, <:Union{LinearAlgebra.Hermitian{T, S}, LinearAlgebra.Symmetric{Complex{T}, S}, LinearAlgebra.Symmetric{T, S}} where {T<:Real, S}}</b>) in LinearAlgebra at <a href=\"file://C:/buildbot/worker/package_win64/build/usr/share/julia/stdlib/v1.7/LinearAlgebra/src/diagonal.jl\" target=\"_blank\">C:\\Users\\dan_x\\AppData\\Local\\Programs\\Julia-1.7.3\\share\\julia\\stdlib\\v1.7\\LinearAlgebra\\src\\diagonal.jl:423</a></li> <li> *(A::<b>LinearAlgebra.Transpose{<:Any, <:AbstractMatrix}</b>, B::<b>LinearAlgebra.Transpose{<:Any, <:Union{LinearAlgebra.Hermitian{T, S}, LinearAlgebra.Symmetric{Complex{T}, S}, LinearAlgebra.Symmetric{T, S}} where {T<:Real, S}}</b>) in LinearAlgebra at <a href=\"file://C:/buildbot/worker/package_win64/build/usr/share/julia/stdlib/v1.7/LinearAlgebra/src/symmetric.jl\" target=\"_blank\">C:\\Users\\dan_x\\AppData\\Local\\Programs\\Julia-1.7.3\\share\\julia\\stdlib\\v1.7\\LinearAlgebra\\src\\symmetric.jl:899</a></li> <li> *(A::<b>LinearAlgebra.Transpose{<:Any, <:AbstractVector}</b>, B::<b>LinearAlgebra.Transpose{<:Any, <:Union{LinearAlgebra.Hermitian{T, S}, LinearAlgebra.Symmetric{Complex{T}, S}, LinearAlgebra.Symmetric{T, S}} where {T<:Real, S}}</b>) in LinearAlgebra at <a href=\"file://C:/buildbot/worker/package_win64/build/usr/share/julia/stdlib/v1.7/LinearAlgebra/src/symmetric.jl\" target=\"_blank\">C:\\Users\\dan_x\\AppData\\Local\\Programs\\Julia-1.7.3\\share\\julia\\stdlib\\v1.7\\LinearAlgebra\\src\\symmetric.jl:898</a></li> <li> *(A::<b>LinearAlgebra.Transpose{<:Any, <:SparseArrays.AbstractSparseMatrixCSC}</b>, B::<b>LinearAlgebra.Transpose{<:Any, <:SparseArrays.AbstractSparseMatrixCSC}</b>) in SparseArrays at <a href=\"file://C:/buildbot/worker/package_win64/build/usr/share/julia/stdlib/v1.7/SparseArrays/src/linalg.jl\" target=\"_blank\">C:\\Users\\dan_x\\AppData\\Local\\Programs\\Julia-1.7.3\\share\\julia\\stdlib\\v1.7\\SparseArrays\\src\\linalg.jl:175</a></li> <li> *(tu::<b>Union{LinearAlgebra.Adjoint{T, var\"#s861\"}, LinearAlgebra.Transpose{T, var\"#s861\"}} where {T, var\"#s861\"<:(AbstractVector)}</b>, B::<b>Union{LinearAlgebra.Adjoint{T, var\"#s861\"}, LinearAlgebra.Transpose{T, var\"#s861\"}} where {T, var\"#s861\"<:(AbstractMatrix)}</b>, v::<b>AbstractVector</b>) in LinearAlgebra at <a href=\"file://C:/buildbot/worker/package_win64/build/usr/share/julia/stdlib/v1.7/LinearAlgebra/src/matmul.jl\" target=\"_blank\">C:\\Users\\dan_x\\AppData\\Local\\Programs\\Julia-1.7.3\\share\\julia\\stdlib\\v1.7\\LinearAlgebra\\src\\matmul.jl:1107</a></li> <li> *(u::<b>LinearAlgebra.Transpose{T, <:AbstractVector} where T</b>, v::<b>LinearAlgebra.Transpose{T, <:AbstractVector} where T</b>) in LinearAlgebra at <a href=\"file://C:/buildbot/worker/package_win64/build/usr/share/julia/stdlib/v1.7/LinearAlgebra/src/adjtrans.jl\" target=\"_blank\">C:\\Users\\dan_x\\AppData\\Local\\Programs\\Julia-1.7.3\\share\\julia\\stdlib\\v1.7\\LinearAlgebra\\src\\adjtrans.jl:301</a></li> <li> *(transA::<b>LinearAlgebra.Transpose{<:Any, <:Union{LinearAlgebra.LowerTriangular{Ta, S} where S<:AbstractMatrix{Ta}, LinearAlgebra.UnitLowerTriangular{Ta, S} where S<:AbstractMatrix{Ta}, LinearAlgebra.UnitUpperTriangular{Ta, S} where S<:AbstractMatrix{Ta}, LinearAlgebra.UpperTriangular{Ta, S} where S<:AbstractMatrix{Ta}, StridedArray{Ta, 2}}}</b>, x::<b>SparseArrays.AbstractSparseVector{Tx}</b>)<i> where {Ta, Tx}</i> in SparseArrays at <a href=\"file://C:/buildbot/worker/package_win64/build/usr/share/julia/stdlib/v1.7/SparseArrays/src/sparsevector.jl\" target=\"_blank\">C:\\Users\\dan_x\\AppData\\Local\\Programs\\Julia-1.7.3\\share\\julia\\stdlib\\v1.7\\SparseArrays\\src\\sparsevector.jl:1601</a></li> <li> *(transA::<b>LinearAlgebra.Transpose{<:Any, <:SparseArrays.AbstractSparseMatrixCSC}</b>, x::<b>SparseArrays.AbstractSparseVector</b>) in SparseArrays at <a href=\"file://C:/buildbot/worker/package_win64/build/usr/share/julia/stdlib/v1.7/SparseArrays/src/sparsevector.jl\" target=\"_blank\">C:\\Users\\dan_x\\AppData\\Local\\Programs\\Julia-1.7.3\\share\\julia\\stdlib\\v1.7\\SparseArrays\\src\\sparsevector.jl:1794</a></li> <li> *(u::<b>Union{LinearAlgebra.Adjoint{T, var\"#s861\"}, LinearAlgebra.Transpose{T, var\"#s861\"}} where {T, var\"#s861\"<:(AbstractVector)}</b>, v::<b>AbstractVector</b>) in LinearAlgebra at <a href=\"file://C:/buildbot/worker/package_win64/build/usr/share/julia/stdlib/v1.7/LinearAlgebra/src/adjtrans.jl\" target=\"_blank\">C:\\Users\\dan_x\\AppData\\Local\\Programs\\Julia-1.7.3\\share\\julia\\stdlib\\v1.7\\LinearAlgebra\\src\\adjtrans.jl:293</a></li> <li> *(x::<b>LinearAlgebra.Transpose{T, <:AbstractVector} where T</b>, A::<b>AbstractMatrix</b>) in LinearAlgebra at <a href=\"file://C:/buildbot/worker/package_win64/build/usr/share/julia/stdlib/v1.7/LinearAlgebra/src/matmul.jl\" target=\"_blank\">C:\\Users\\dan_x\\AppData\\Local\\Programs\\Julia-1.7.3\\share\\julia\\stdlib\\v1.7\\LinearAlgebra\\src\\matmul.jl:134</a></li> <li> *(tu::<b>Union{LinearAlgebra.Adjoint{T, var\"#s861\"}, LinearAlgebra.Transpose{T, var\"#s861\"}} where {T, var\"#s861\"<:(AbstractVector)}</b>, B::<b>AbstractMatrix</b>, v::<b>AbstractVector</b>) in LinearAlgebra at <a href=\"file://C:/buildbot/worker/package_win64/build/usr/share/julia/stdlib/v1.7/LinearAlgebra/src/matmul.jl\" target=\"_blank\">C:\\Users\\dan_x\\AppData\\Local\\Programs\\Julia-1.7.3\\share\\julia\\stdlib\\v1.7\\LinearAlgebra\\src\\matmul.jl:1106</a></li> <li> *(tv::<b>Union{LinearAlgebra.Adjoint{T, var\"#s861\"}, LinearAlgebra.Transpose{T, var\"#s861\"}} where {T, var\"#s861\"<:(AbstractVector)}</b>, B::<b>AbstractMatrix</b>, C::<b>AbstractMatrix</b>) in LinearAlgebra at <a href=\"file://C:/buildbot/worker/package_win64/build/usr/share/julia/stdlib/v1.7/LinearAlgebra/src/matmul.jl\" target=\"_blank\">C:\\Users\\dan_x\\AppData\\Local\\Programs\\Julia-1.7.3\\share\\julia\\stdlib\\v1.7\\LinearAlgebra\\src\\matmul.jl:1121</a></li> <li> *(vt::<b>Union{LinearAlgebra.Adjoint{T, var\"#s861\"}, LinearAlgebra.Transpose{T, var\"#s861\"}} where {T, var\"#s861\"<:(AbstractVector)}</b>, B::<b>AbstractMatrix</b>, x::<b>AbstractVector</b>, δ::<b>Number</b>) in LinearAlgebra at <a href=\"file://C:/buildbot/worker/package_win64/build/usr/share/julia/stdlib/v1.7/LinearAlgebra/src/matmul.jl\" target=\"_blank\">C:\\Users\\dan_x\\AppData\\Local\\Programs\\Julia-1.7.3\\share\\julia\\stdlib\\v1.7\\LinearAlgebra\\src\\matmul.jl:1178</a></li> <li> *(vt::<b>Union{LinearAlgebra.Adjoint{T, var\"#s861\"}, LinearAlgebra.Transpose{T, var\"#s861\"}} where {T, var\"#s861\"<:(AbstractVector)}</b>, B::<b>AbstractMatrix</b>, C::<b>AbstractMatrix</b>, δ::<b>Number</b>) in LinearAlgebra at <a href=\"file://C:/buildbot/worker/package_win64/build/usr/share/julia/stdlib/v1.7/LinearAlgebra/src/matmul.jl\" target=\"_blank\">C:\\Users\\dan_x\\AppData\\Local\\Programs\\Julia-1.7.3\\share\\julia\\stdlib\\v1.7\\LinearAlgebra\\src\\matmul.jl:1179</a></li> <li> *(vt::<b>Union{LinearAlgebra.Adjoint{T, var\"#s861\"}, LinearAlgebra.Transpose{T, var\"#s861\"}} where {T, var\"#s861\"<:(AbstractVector)}</b>, B::<b>AbstractMatrix</b>, C::<b>AbstractMatrix</b>, D::<b>AbstractMatrix</b>) in LinearAlgebra at <a href=\"file://C:/buildbot/worker/package_win64/build/usr/share/julia/stdlib/v1.7/LinearAlgebra/src/matmul.jl\" target=\"_blank\">C:\\Users\\dan_x\\AppData\\Local\\Programs\\Julia-1.7.3\\share\\julia\\stdlib\\v1.7\\LinearAlgebra\\src\\matmul.jl:1182</a></li> <li> *(vt::<b>Union{LinearAlgebra.Adjoint{T, var\"#s861\"}, LinearAlgebra.Transpose{T, var\"#s861\"}} where {T, var\"#s861\"<:(AbstractVector)}</b>, B::<b>AbstractMatrix</b>, C::<b>AbstractMatrix</b>, x::<b>AbstractVector</b>) in LinearAlgebra at <a href=\"file://C:/buildbot/worker/package_win64/build/usr/share/julia/stdlib/v1.7/LinearAlgebra/src/matmul.jl\" target=\"_blank\">C:\\Users\\dan_x\\AppData\\Local\\Programs\\Julia-1.7.3\\share\\julia\\stdlib\\v1.7\\LinearAlgebra\\src\\matmul.jl:1183</a></li> <li> *(transA::<b>LinearAlgebra.Transpose{<:Any, <:AbstractMatrix{T}}</b>, x::<b>AbstractVector{S}</b>)<i> where {T, S}</i> in LinearAlgebra at <a href=\"file://C:/buildbot/worker/package_win64/build/usr/share/julia/stdlib/v1.7/LinearAlgebra/src/matmul.jl\" target=\"_blank\">C:\\Users\\dan_x\\AppData\\Local\\Programs\\Julia-1.7.3\\share\\julia\\stdlib\\v1.7\\LinearAlgebra\\src\\matmul.jl:89</a></li> <li> *(A::<b>LinearAlgebra.Hermitian</b>, x::<b>Real</b>) in LinearAlgebra at <a href=\"file://C:/buildbot/worker/package_win64/build/usr/share/julia/stdlib/v1.7/LinearAlgebra/src/symmetric.jl\" target=\"_blank\">C:\\Users\\dan_x\\AppData\\Local\\Programs\\Julia-1.7.3\\share\\julia\\stdlib\\v1.7\\LinearAlgebra\\src\\symmetric.jl:636</a></li> <li> *(A::<b>LinearAlgebra.Hermitian{ComplexF64, SparseArrays.SparseMatrixCSC{ComplexF64, Ti}}</b>, B::<b>Union{SparseArrays.SparseMatrixCSC{ComplexF64, Ti}, SparseArrays.SparseVector{ComplexF64, Ti}}</b>)<i> where Ti</i> in SuiteSparse.CHOLMOD at <a href=\"file://C:/buildbot/worker/package_win64/build/usr/share/julia/stdlib/v1.7/SuiteSparse/src/cholmod.jl\" target=\"_blank\">C:\\Users\\dan_x\\AppData\\Local\\Programs\\Julia-1.7.3\\share\\julia\\stdlib\\v1.7\\SuiteSparse\\src\\cholmod.jl:1682</a></li> <li> *(A::<b>LinearAlgebra.Hermitian{Float64, SparseArrays.SparseMatrixCSC{Float64, Ti}}</b>, B::<b>Union{SparseArrays.SparseMatrixCSC{Float64, Ti}, SparseArrays.SparseVector{Float64, Ti}}</b>)<i> where Ti</i> in SuiteSparse.CHOLMOD at <a href=\"file://C:/buildbot/worker/package_win64/build/usr/share/julia/stdlib/v1.7/SuiteSparse/src/cholmod.jl\" target=\"_blank\">C:\\Users\\dan_x\\AppData\\Local\\Programs\\Julia-1.7.3\\share\\julia\\stdlib\\v1.7\\SuiteSparse\\src\\cholmod.jl:1684</a></li> <li> *(A::<b>LinearAlgebra.Bidiagonal</b>, B::<b>Number</b>) in LinearAlgebra at <a href=\"file://C:/buildbot/worker/package_win64/build/usr/share/julia/stdlib/v1.7/LinearAlgebra/src/bidiag.jl\" target=\"_blank\">C:\\Users\\dan_x\\AppData\\Local\\Programs\\Julia-1.7.3\\share\\julia\\stdlib\\v1.7\\LinearAlgebra\\src\\bidiag.jl:373</a></li> <li> *(A::<b>LinearAlgebra.Bidiagonal</b>, B::<b>Union{LinearAlgebra.UnitUpperTriangular, LinearAlgebra.UpperTriangular}</b>) in LinearAlgebra at <a href=\"file://C:/buildbot/worker/package_win64/build/usr/share/julia/stdlib/v1.7/LinearAlgebra/src/bidiag.jl\" target=\"_blank\">C:\\Users\\dan_x\\AppData\\Local\\Programs\\Julia-1.7.3\\share\\julia\\stdlib\\v1.7\\LinearAlgebra\\src\\bidiag.jl:662</a></li> <li> *(A::<b>LinearAlgebra.Bidiagonal</b>, B::<b>Union{LinearAlgebra.LowerTriangular, LinearAlgebra.UnitLowerTriangular}</b>) in LinearAlgebra at <a href=\"file://C:/buildbot/worker/package_win64/build/usr/share/julia/stdlib/v1.7/LinearAlgebra/src/bidiag.jl\" target=\"_blank\">C:\\Users\\dan_x\\AppData\\Local\\Programs\\Julia-1.7.3\\share\\julia\\stdlib\\v1.7\\LinearAlgebra\\src\\bidiag.jl:671</a></li> <li> *(B::<b>LinearAlgebra.Bidiagonal</b>, H::<b>LinearAlgebra.UpperHessenberg</b>) in LinearAlgebra at <a href=\"file://C:/buildbot/worker/package_win64/build/usr/share/julia/stdlib/v1.7/LinearAlgebra/src/hessenberg.jl\" target=\"_blank\">C:\\Users\\dan_x\\AppData\\Local\\Programs\\Julia-1.7.3\\share\\julia\\stdlib\\v1.7\\LinearAlgebra\\src\\hessenberg.jl:174</a></li> <li> *(A::<b>LinearAlgebra.Tridiagonal</b>, B::<b>Number</b>) in LinearAlgebra at <a href=\"file://C:/buildbot/worker/package_win64/build/usr/share/julia/stdlib/v1.7/LinearAlgebra/src/tridiag.jl\" target=\"_blank\">C:\\Users\\dan_x\\AppData\\Local\\Programs\\Julia-1.7.3\\share\\julia\\stdlib\\v1.7\\LinearAlgebra\\src\\tridiag.jl:742</a></li> <li> *(y::<b>Integer</b>, x::<b>Rational</b>) in Base at <a href=\"https://github.com/JuliaLang/julia/tree/742b9abb4dd4621b667ec5bb3434b8b3602f96fd/base/rational.jl#L340\" target=\"_blank\">rational.jl:340</a></li> <li> *(a::<b>Integer</b>, index::<b>CartesianIndex{N}</b>)<i> where N</i> in Base.IteratorsMD at <a href=\"https://github.com/JuliaLang/julia/tree/742b9abb4dd4621b667ec5bb3434b8b3602f96fd/base/multidimensional.jl#L123\" target=\"_blank\">multidimensional.jl:123</a></li> <li> *(x::<b>AbstractIrrational</b>, y::<b>AbstractIrrational</b>) in Base at <a href=\"https://github.com/JuliaLang/julia/tree/742b9abb4dd4621b667ec5bb3434b8b3602f96fd/base/irrationals.jl#L158\" target=\"_blank\">irrationals.jl:158</a></li> <li> *(A::<b>LinearAlgebra.AbstractTriangular</b>, transB::<b>LinearAlgebra.Transpose{<:Any, <:Union{LinearAlgebra.Hermitian{T, S}, LinearAlgebra.Symmetric{Complex{T}, S}, LinearAlgebra.Symmetric{T, S}} where {T<:Real, S}}</b>) in LinearAlgebra at <a href=\"file://C:/buildbot/worker/package_win64/build/usr/share/julia/stdlib/v1.7/LinearAlgebra/src/symmetric.jl\" target=\"_blank\">C:\\Users\\dan_x\\AppData\\Local\\Programs\\Julia-1.7.3\\share\\julia\\stdlib\\v1.7\\LinearAlgebra\\src\\symmetric.jl:629</a></li> <li> *(A::<b>LinearAlgebra.AbstractTriangular</b>, B::<b>LinearAlgebra.Transpose{<:Any, <:AbstractMatrix}</b>) in LinearAlgebra at <a href=\"file://C:/buildbot/worker/package_win64/build/usr/share/julia/stdlib/v1.7/LinearAlgebra/src/triangular.jl\" target=\"_blank\">C:\\Users\\dan_x\\AppData\\Local\\Programs\\Julia-1.7.3\\share\\julia\\stdlib\\v1.7\\LinearAlgebra\\src\\triangular.jl:1701</a></li> <li> *(A::<b>LinearAlgebra.AbstractTriangular</b>, B::<b>LinearAlgebra.Transpose{T, <:AbstractVector} where T</b>) in LinearAlgebra at <a href=\"file://C:/buildbot/worker/package_win64/build/usr/share/julia/stdlib/v1.7/LinearAlgebra/src/triangular.jl\" target=\"_blank\">C:\\Users\\dan_x\\AppData\\Local\\Programs\\Julia-1.7.3\\share\\julia\\stdlib\\v1.7\\LinearAlgebra\\src\\triangular.jl:2573</a></li> <li> *(A::<b>LinearAlgebra.AbstractTriangular</b>, adjB::<b>LinearAlgebra.Adjoint{<:Any, <:Union{LinearAlgebra.Hermitian{Complex{T}, S}, LinearAlgebra.Hermitian{T, S}, LinearAlgebra.Symmetric{T, S}} where {T<:Real, S}}</b>) in LinearAlgebra at <a href=\"file://C:/buildbot/worker/package_win64/build/usr/share/julia/stdlib/v1.7/LinearAlgebra/src/symmetric.jl\" target=\"_blank\">C:\\Users\\dan_x\\AppData\\Local\\Programs\\Julia-1.7.3\\share\\julia\\stdlib\\v1.7\\LinearAlgebra\\src\\symmetric.jl:631</a></li> <li> *(A::<b>LinearAlgebra.AbstractTriangular</b>, D::<b>LinearAlgebra.Diagonal</b>) in LinearAlgebra at <a href=\"file://C:/buildbot/worker/package_win64/build/usr/share/julia/stdlib/v1.7/LinearAlgebra/src/diagonal.jl\" target=\"_blank\">C:\\Users\\dan_x\\AppData\\Local\\Programs\\Julia-1.7.3\\share\\julia\\stdlib\\v1.7\\LinearAlgebra\\src\\diagonal.jl:217</a></li> <li> *(A::<b>LinearAlgebra.AbstractTriangular</b>, B::<b>Union{LinearAlgebra.SymTridiagonal, LinearAlgebra.Tridiagonal}</b>) in LinearAlgebra at <a href=\"file://C:/buildbot/worker/package_win64/build/usr/share/julia/stdlib/v1.7/LinearAlgebra/src/bidiag.jl\" target=\"_blank\">C:\\Users\\dan_x\\AppData\\Local\\Programs\\Julia-1.7.3\\share\\julia\\stdlib\\v1.7\\LinearAlgebra\\src\\bidiag.jl:631</a></li> <li> *(A::<b>LinearAlgebra.AbstractTriangular</b>, B::<b>LinearAlgebra.Adjoint{<:Any, <:LinearAlgebra.AbstractRotation}</b>) in LinearAlgebra at <a href=\"file://C:/buildbot/worker/package_win64/build/usr/share/julia/stdlib/v1.7/LinearAlgebra/src/givens.jl\" target=\"_blank\">C:\\Users\\dan_x\\AppData\\Local\\Programs\\Julia-1.7.3\\share\\julia\\stdlib\\v1.7\\LinearAlgebra\\src\\givens.jl:413</a></li> <li> *(A::<b>LinearAlgebra.AbstractTriangular</b>, adjB::<b>LinearAlgebra.Adjoint{<:Any, <:Union{LinearAlgebra.QRCompactWYQ, LinearAlgebra.QRPackedQ}}</b>) in LinearAlgebra at <a href=\"file://C:/buildbot/worker/package_win64/build/usr/share/julia/stdlib/v1.7/LinearAlgebra/src/special.jl\" target=\"_blank\">C:\\Users\\dan_x\\AppData\\Local\\Programs\\Julia-1.7.3\\share\\julia\\stdlib\\v1.7\\LinearAlgebra\\src\\special.jl:285</a></li> <li> *(A::<b>LinearAlgebra.AbstractTriangular</b>, B::<b>LinearAlgebra.Adjoint{<:Any, <:AbstractMatrix}</b>) in LinearAlgebra at <a href=\"file://C:/buildbot/worker/package_win64/build/usr/share/julia/stdlib/v1.7/LinearAlgebra/src/triangular.jl\" target=\"_blank\">C:\\Users\\dan_x\\AppData\\Local\\Programs\\Julia-1.7.3\\share\\julia\\stdlib\\v1.7\\LinearAlgebra\\src\\triangular.jl:1700</a></li> <li> *(A::<b>LinearAlgebra.AbstractTriangular</b>, B::<b>LinearAlgebra.Adjoint{T, <:AbstractVector} where T</b>) in LinearAlgebra at <a href=\"file://C:/buildbot/worker/package_win64/build/usr/share/julia/stdlib/v1.7/LinearAlgebra/src/triangular.jl\" target=\"_blank\">C:\\Users\\dan_x\\AppData\\Local\\Programs\\Julia-1.7.3\\share\\julia\\stdlib\\v1.7\\LinearAlgebra\\src\\triangular.jl:2572</a></li> <li> *(R::<b>LinearAlgebra.AbstractRotation{T}</b>, A::<b>AbstractVecOrMat{S}</b>)<i> where {T, S}</i> in LinearAlgebra at <a href=\"file://C:/buildbot/worker/package_win64/build/usr/share/julia/stdlib/v1.7/LinearAlgebra/src/givens.jl\" target=\"_blank\">C:\\Users\\dan_x\\AppData\\Local\\Programs\\Julia-1.7.3\\share\\julia\\stdlib\\v1.7\\LinearAlgebra\\src\\givens.jl:9</a></li> <li> *(A::<b>LinearAlgebra.LowerTriangular</b>, x::<b>Number</b>) in LinearAlgebra at <a href=\"file://C:/buildbot/worker/package_win64/build/usr/share/julia/stdlib/v1.7/LinearAlgebra/src/triangular.jl\" target=\"_blank\">C:\\Users\\dan_x\\AppData\\Local\\Programs\\Julia-1.7.3\\share\\julia\\stdlib\\v1.7\\LinearAlgebra\\src\\triangular.jl:849</a></li> <li> *(A::<b>LinearAlgebra.LowerTriangular</b>, B::<b>LinearAlgebra.LowerTriangular</b>) in LinearAlgebra at <a href=\"file://C:/buildbot/worker/package_win64/build/usr/share/julia/stdlib/v1.7/LinearAlgebra/src/triangular.jl\" target=\"_blank\">C:\\Users\\dan_x\\AppData\\Local\\Programs\\Julia-1.7.3\\share\\julia\\stdlib\\v1.7\\LinearAlgebra\\src\\triangular.jl:1506</a></li> <li> *(A::<b>LinearAlgebra.LowerTriangular</b>, B::<b>LinearAlgebra.UnitLowerTriangular</b>) in LinearAlgebra at <a href=\"file://C:/buildbot/worker/package_win64/build/usr/share/julia/stdlib/v1.7/LinearAlgebra/src/triangular.jl\" target=\"_blank\">C:\\Users\\dan_x\\AppData\\Local\\Programs\\Julia-1.7.3\\share\\julia\\stdlib\\v1.7\\LinearAlgebra\\src\\triangular.jl:1522</a></li> <li> *(A::<b>LinearAlgebra.LQ{TA, S} where S<:AbstractMatrix{TA}</b>, B::<b>StridedVecOrMat{TB}</b>)<i> where {TA, TB}</i> in LinearAlgebra at <a href=\"file://C:/buildbot/worker/package_win64/build/usr/share/julia/stdlib/v1.7/LinearAlgebra/src/lq.jl\" target=\"_blank\">C:\\Users\\dan_x\\AppData\\Local\\Programs\\Julia-1.7.3\\share\\julia\\stdlib\\v1.7\\LinearAlgebra\\src\\lq.jl:195</a></li> <li> *(x::<b>Base.TwicePrecision{<:Union{Float16, Float32, Float64}}</b>, v::<b>Integer</b>) in Base at <a href=\"https://github.com/JuliaLang/julia/tree/742b9abb4dd4621b667ec5bb3434b8b3602f96fd/base/twiceprecision.jl#L300\" target=\"_blank\">twiceprecision.jl:300</a></li> <li> *(x::<b>Base.TwicePrecision</b>, v::<b>Number</b>) in Base at <a href=\"https://github.com/JuliaLang/julia/tree/742b9abb4dd4621b667ec5bb3434b8b3602f96fd/base/twiceprecision.jl#L296\" target=\"_blank\">twiceprecision.jl:296</a></li> <li> *(x::<b>Base.TwicePrecision{T}</b>, y::<b>Base.TwicePrecision{T}</b>)<i> where T</i> in Base at <a href=\"https://github.com/JuliaLang/julia/tree/742b9abb4dd4621b667ec5bb3434b8b3602f96fd/base/twiceprecision.jl#L308\" target=\"_blank\">twiceprecision.jl:308</a></li> <li> *(x::<b>Base.TwicePrecision</b>, y::<b>Base.TwicePrecision</b>) in Base at <a href=\"https://github.com/JuliaLang/julia/tree/742b9abb4dd4621b667ec5bb3434b8b3602f96fd/base/twiceprecision.jl#L313\" target=\"_blank\">twiceprecision.jl:313</a></li> <li> *(x::<b>P</b>, y::<b>Real</b>)<i> where P<:Dates.Period</i> in Dates at <a href=\"file://C:/buildbot/worker/package_win64/build/usr/share/julia/stdlib/v1.7/Dates/src/periods.jl\" target=\"_blank\">C:\\Users\\dan_x\\AppData\\Local\\Programs\\Julia-1.7.3\\share\\julia\\stdlib\\v1.7\\Dates\\src\\periods.jl:94</a></li> <li> *(x::<b>Dates.Period</b>, r::<b>AbstractRange{<:Real}</b>) in Dates at <a href=\"file://C:/buildbot/worker/package_win64/build/usr/share/julia/stdlib/v1.7/Dates/src/ranges.jl\" target=\"_blank\">C:\\Users\\dan_x\\AppData\\Local\\Programs\\Julia-1.7.3\\share\\julia\\stdlib\\v1.7\\Dates\\src\\ranges.jl:65</a></li> <li> *(A::<b>Dates.Period</b>, B::<b>AbstractArray</b>) in Dates at <a href=\"file://C:/buildbot/worker/package_win64/build/usr/share/julia/stdlib/v1.7/Dates/src/periods.jl\" target=\"_blank\">C:\\Users\\dan_x\\AppData\\Local\\Programs\\Julia-1.7.3\\share\\julia\\stdlib\\v1.7\\Dates\\src\\periods.jl:97</a></li> <li> *(H::<b>LinearAlgebra.UpperHessenberg</b>, x::<b>Number</b>) in LinearAlgebra at <a href=\"file://C:/buildbot/worker/package_win64/build/usr/share/julia/stdlib/v1.7/LinearAlgebra/src/hessenberg.jl\" target=\"_blank\">C:\\Users\\dan_x\\AppData\\Local\\Programs\\Julia-1.7.3\\share\\julia\\stdlib\\v1.7\\LinearAlgebra\\src\\hessenberg.jl:114</a></li> <li> *(H::<b>LinearAlgebra.UpperHessenberg</b>, x::<b>LinearAlgebra.UniformScaling</b>) in LinearAlgebra at <a href=\"file://C:/buildbot/worker/package_win64/build/usr/share/julia/stdlib/v1.7/LinearAlgebra/src/hessenberg.jl\" target=\"_blank\">C:\\Users\\dan_x\\AppData\\Local\\Programs\\Julia-1.7.3\\share\\julia\\stdlib\\v1.7\\LinearAlgebra\\src\\hessenberg.jl:114</a></li> <li> *(H::<b>LinearAlgebra.UpperHessenberg</b>, x::<b>LinearAlgebra.Diagonal</b>) in LinearAlgebra at <a href=\"file://C:/buildbot/worker/package_win64/build/usr/share/julia/stdlib/v1.7/LinearAlgebra/src/hessenberg.jl\" target=\"_blank\">C:\\Users\\dan_x\\AppData\\Local\\Programs\\Julia-1.7.3\\share\\julia\\stdlib\\v1.7\\LinearAlgebra\\src\\hessenberg.jl:114</a></li> <li> *(H::<b>LinearAlgebra.UpperHessenberg</b>, U::<b>Union{LinearAlgebra.UnitUpperTriangular, LinearAlgebra.UpperTriangular}</b>) in LinearAlgebra at <a href=\"file://C:/buildbot/worker/package_win64/build/usr/share/julia/stdlib/v1.7/LinearAlgebra/src/hessenberg.jl\" target=\"_blank\">C:\\Users\\dan_x\\AppData\\Local\\Programs\\Julia-1.7.3\\share\\julia\\stdlib\\v1.7\\LinearAlgebra\\src\\hessenberg.jl:121</a></li> <li> *(H::<b>LinearAlgebra.UpperHessenberg</b>, B::<b>LinearAlgebra.Bidiagonal</b>) in LinearAlgebra at <a href=\"file://C:/buildbot/worker/package_win64/build/usr/share/julia/stdlib/v1.7/LinearAlgebra/src/hessenberg.jl\" target=\"_blank\">C:\\Users\\dan_x\\AppData\\Local\\Programs\\Julia-1.7.3\\share\\julia\\stdlib\\v1.7\\LinearAlgebra\\src\\hessenberg.jl:166</a></li> <li> *(A::<b>LinearAlgebra.UnitUpperTriangular</b>, x::<b>Number</b>) in LinearAlgebra at <a href=\"file://C:/buildbot/worker/package_win64/build/usr/share/julia/stdlib/v1.7/LinearAlgebra/src/triangular.jl\" target=\"_blank\">C:\\Users\\dan_x\\AppData\\Local\\Programs\\Julia-1.7.3\\share\\julia\\stdlib\\v1.7\\LinearAlgebra\\src\\triangular.jl:851</a></li> <li> *(A::<b>LinearAlgebra.UnitUpperTriangular</b>, B::<b>LinearAlgebra.UpperTriangular</b>) in LinearAlgebra at <a href=\"file://C:/buildbot/worker/package_win64/build/usr/share/julia/stdlib/v1.7/LinearAlgebra/src/triangular.jl\" target=\"_blank\">C:\\Users\\dan_x\\AppData\\Local\\Programs\\Julia-1.7.3\\share\\julia\\stdlib\\v1.7\\LinearAlgebra\\src\\triangular.jl:1546</a></li> <li> *(A::<b>LinearAlgebra.UnitUpperTriangular</b>, B::<b>LinearAlgebra.UnitUpperTriangular</b>) in LinearAlgebra at <a href=\"file://C:/buildbot/worker/package_win64/build/usr/share/julia/stdlib/v1.7/LinearAlgebra/src/triangular.jl\" target=\"_blank\">C:\\Users\\dan_x\\AppData\\Local\\Programs\\Julia-1.7.3\\share\\julia\\stdlib\\v1.7\\LinearAlgebra\\src\\triangular.jl:1562</a></li> <li> *(A::<b>LinearAlgebra.AbstractTriangular</b>, B::<b>LinearAlgebra.AbstractTriangular</b>) in LinearAlgebra at <a href=\"file://C:/buildbot/worker/package_win64/build/usr/share/julia/stdlib/v1.7/LinearAlgebra/src/triangular.jl\" target=\"_blank\">C:\\Users\\dan_x\\AppData\\Local\\Programs\\Julia-1.7.3\\share\\julia\\stdlib\\v1.7\\LinearAlgebra\\src\\triangular.jl:1631</a></li> <li> *(A::<b>LinearAlgebra.AbstractTriangular</b>, B::<b>AbstractVector</b>) in LinearAlgebra at <a href=\"file://C:/buildbot/worker/package_win64/build/usr/share/julia/stdlib/v1.7/LinearAlgebra/src/triangular.jl\" target=\"_blank\">C:\\Users\\dan_x\\AppData\\Local\\Programs\\Julia-1.7.3\\share\\julia\\stdlib\\v1.7\\LinearAlgebra\\src\\triangular.jl:1640</a></li> <li> *(A::<b>LinearAlgebra.AbstractTriangular</b>, B::<b>AbstractMatrix</b>) in LinearAlgebra at <a href=\"file://C:/buildbot/worker/package_win64/build/usr/share/julia/stdlib/v1.7/LinearAlgebra/src/triangular.jl\" target=\"_blank\">C:\\Users\\dan_x\\AppData\\Local\\Programs\\Julia-1.7.3\\share\\julia\\stdlib\\v1.7\\LinearAlgebra\\src\\triangular.jl:1640</a></li> <li> *(A::<b>LinearAlgebra.Diagonal</b>, B::<b>Union{LinearAlgebra.Bidiagonal, LinearAlgebra.Tridiagonal}</b>) in LinearAlgebra at <a href=\"file://C:/buildbot/worker/package_win64/build/usr/share/julia/stdlib/v1.7/LinearAlgebra/src/bidiag.jl\" target=\"_blank\">C:\\Users\\dan_x\\AppData\\Local\\Programs\\Julia-1.7.3\\share\\julia\\stdlib\\v1.7\\LinearAlgebra\\src\\bidiag.jl:685</a></li> <li> *(D::<b>LinearAlgebra.Diagonal</b>, B::<b>LinearAlgebra.AbstractTriangular</b>) in LinearAlgebra at <a href=\"file://C:/buildbot/worker/package_win64/build/usr/share/julia/stdlib/v1.7/LinearAlgebra/src/diagonal.jl\" target=\"_blank\">C:\\Users\\dan_x\\AppData\\Local\\Programs\\Julia-1.7.3\\share\\julia\\stdlib\\v1.7\\LinearAlgebra\\src\\diagonal.jl:219</a></li> <li> *(A::<b>AbstractMatrix</b>, B::<b>LinearAlgebra.AbstractTriangular</b>) in LinearAlgebra at <a href=\"file://C:/buildbot/worker/package_win64/build/usr/share/julia/stdlib/v1.7/LinearAlgebra/src/triangular.jl\" target=\"_blank\">C:\\Users\\dan_x\\AppData\\Local\\Programs\\Julia-1.7.3\\share\\julia\\stdlib\\v1.7\\LinearAlgebra\\src\\triangular.jl:1682</a></li> <li> *(D::<b>LinearAlgebra.Diagonal</b>, A::<b>SparseArrays.AbstractSparseMatrixCSC</b>) in SparseArrays at <a href=\"file://C:/buildbot/worker/package_win64/build/usr/share/julia/stdlib/v1.7/SparseArrays/src/linalg.jl\" target=\"_blank\">C:\\Users\\dan_x\\AppData\\Local\\Programs\\Julia-1.7.3\\share\\julia\\stdlib\\v1.7\\SparseArrays\\src\\linalg.jl:144</a></li> <li> *(D::<b>LinearAlgebra.Diagonal</b>, adjQ::<b>LinearAlgebra.Adjoint{<:Any, <:Union{LinearAlgebra.QRCompactWYQ, LinearAlgebra.QRPackedQ}}</b>) in LinearAlgebra at <a href=\"file://C:/buildbot/worker/package_win64/build/usr/share/julia/stdlib/v1.7/LinearAlgebra/src/diagonal.jl\" target=\"_blank\">C:\\Users\\dan_x\\AppData\\Local\\Programs\\Julia-1.7.3\\share\\julia\\stdlib\\v1.7\\LinearAlgebra\\src\\diagonal.jl:301</a></li> <li> *(D::<b>LinearAlgebra.Diagonal</b>, B::<b>LinearAlgebra.Adjoint{<:Any, <:LinearAlgebra.AbstractTriangular}</b>) in LinearAlgebra at <a href=\"file://C:/buildbot/worker/package_win64/build/usr/share/julia/stdlib/v1.7/LinearAlgebra/src/diagonal.jl\" target=\"_blank\">C:\\Users\\dan_x\\AppData\\Local\\Programs\\Julia-1.7.3\\share\\julia\\stdlib\\v1.7\\LinearAlgebra\\src\\diagonal.jl:299</a></li> <li> *(D::<b>LinearAlgebra.Diagonal</b>, B::<b>LinearAlgebra.Adjoint{<:Any, <:LinearAlgebra.Diagonal}</b>) in LinearAlgebra at <a href=\"file://C:/buildbot/worker/package_win64/build/usr/share/julia/stdlib/v1.7/LinearAlgebra/src/diagonal.jl\" target=\"_blank\">C:\\Users\\dan_x\\AppData\\Local\\Programs\\Julia-1.7.3\\share\\julia\\stdlib\\v1.7\\LinearAlgebra\\src\\diagonal.jl:298</a></li> <li> *(A::<b>LinearAlgebra.Diagonal</b>, adjB::<b>LinearAlgebra.Adjoint{<:Any, <:Union{LinearAlgebra.Hermitian{Complex{T}, S}, LinearAlgebra.Hermitian{T, S}, LinearAlgebra.Symmetric{T, S}} where {T<:Real, S}}</b>) in LinearAlgebra at <a href=\"file://C:/buildbot/worker/package_win64/build/usr/share/julia/stdlib/v1.7/LinearAlgebra/src/diagonal.jl\" target=\"_blank\">C:\\Users\\dan_x\\AppData\\Local\\Programs\\Julia-1.7.3\\share\\julia\\stdlib\\v1.7\\LinearAlgebra\\src\\diagonal.jl:420</a></li> <li> *(A::<b>AbstractMatrix</b>, adjB::<b>LinearAlgebra.Adjoint{<:Any, <:Union{LinearAlgebra.Hermitian{Complex{T}, S}, LinearAlgebra.Hermitian{T, S}, LinearAlgebra.Symmetric{T, S}} where {T<:Real, S}}</b>) in LinearAlgebra at <a href=\"file://C:/buildbot/worker/package_win64/build/usr/share/julia/stdlib/v1.7/LinearAlgebra/src/symmetric.jl\" target=\"_blank\">C:\\Users\\dan_x\\AppData\\Local\\Programs\\Julia-1.7.3\\share\\julia\\stdlib\\v1.7\\LinearAlgebra\\src\\symmetric.jl:611</a></li> <li> *(D::<b>LinearAlgebra.Diagonal</b>, adjA::<b>LinearAlgebra.Adjoint{<:Any, <:AbstractMatrix}</b>) in LinearAlgebra at <a href=\"file://C:/buildbot/worker/package_win64/build/usr/share/julia/stdlib/v1.7/LinearAlgebra/src/diagonal.jl\" target=\"_blank\">C:\\Users\\dan_x\\AppData\\Local\\Programs\\Julia-1.7.3\\share\\julia\\stdlib\\v1.7\\LinearAlgebra\\src\\diagonal.jl:302</a></li> <li> *(a::<b>AbstractVector</b>, adjB::<b>LinearAlgebra.Adjoint{<:Any, <:AbstractMatrix}</b>) in LinearAlgebra at <a href=\"file://C:/buildbot/worker/package_win64/build/usr/share/julia/stdlib/v1.7/LinearAlgebra/src/matmul.jl\" target=\"_blank\">C:\\Users\\dan_x\\AppData\\Local\\Programs\\Julia-1.7.3\\share\\julia\\stdlib\\v1.7\\LinearAlgebra\\src\\matmul.jl:59</a></li> <li> *(A::<b>LinearAlgebra.Diagonal</b>, B::<b>LinearAlgebra.Adjoint{<:Any, <:LinearAlgebra.AbstractRotation}</b>) in LinearAlgebra at <a href=\"file://C:/buildbot/worker/package_win64/build/usr/share/julia/stdlib/v1.7/LinearAlgebra/src/givens.jl\" target=\"_blank\">C:\\Users\\dan_x\\AppData\\Local\\Programs\\Julia-1.7.3\\share\\julia\\stdlib\\v1.7\\LinearAlgebra\\src\\givens.jl:412</a></li> <li> *(A::<b>AbstractVector</b>, adjR::<b>LinearAlgebra.Adjoint{<:Any, <:LinearAlgebra.AbstractRotation}</b>) in LinearAlgebra at <a href=\"file://C:/buildbot/worker/package_win64/build/usr/share/julia/stdlib/v1.7/LinearAlgebra/src/givens.jl\" target=\"_blank\">C:\\Users\\dan_x\\AppData\\Local\\Programs\\Julia-1.7.3\\share\\julia\\stdlib\\v1.7\\LinearAlgebra\\src\\givens.jl:13</a></li> <li> *(A::<b>AbstractMatrix</b>, adjR::<b>LinearAlgebra.Adjoint{<:Any, <:LinearAlgebra.AbstractRotation}</b>) in LinearAlgebra at <a href=\"file://C:/buildbot/worker/package_win64/build/usr/share/julia/stdlib/v1.7/LinearAlgebra/src/givens.jl\" target=\"_blank\">C:\\Users\\dan_x\\AppData\\Local\\Programs\\Julia-1.7.3\\share\\julia\\stdlib\\v1.7\\LinearAlgebra\\src\\givens.jl:14</a></li> <li> *(A::<b>LinearAlgebra.Diagonal</b>, transB::<b>LinearAlgebra.Transpose{<:Any, <:Union{LinearAlgebra.Hermitian{T, S}, LinearAlgebra.Symmetric{Complex{T}, S}, LinearAlgebra.Symmetric{T, S}} where {T<:Real, S}}</b>) in LinearAlgebra at <a href=\"file://C:/buildbot/worker/package_win64/build/usr/share/julia/stdlib/v1.7/LinearAlgebra/src/diagonal.jl\" target=\"_blank\">C:\\Users\\dan_x\\AppData\\Local\\Programs\\Julia-1.7.3\\share\\julia\\stdlib\\v1.7\\LinearAlgebra\\src\\diagonal.jl:418</a></li> <li> *(A::<b>AbstractMatrix</b>, transB::<b>LinearAlgebra.Transpose{<:Any, <:Union{LinearAlgebra.Hermitian{T, S}, LinearAlgebra.Symmetric{Complex{T}, S}, LinearAlgebra.Symmetric{T, S}} where {T<:Real, S}}</b>) in LinearAlgebra at <a href=\"file://C:/buildbot/worker/package_win64/build/usr/share/julia/stdlib/v1.7/LinearAlgebra/src/symmetric.jl\" target=\"_blank\">C:\\Users\\dan_x\\AppData\\Local\\Programs\\Julia-1.7.3\\share\\julia\\stdlib\\v1.7\\LinearAlgebra\\src\\symmetric.jl:607</a></li> <li> *(D::<b>LinearAlgebra.Diagonal</b>, B::<b>LinearAlgebra.Transpose{<:Any, <:LinearAlgebra.AbstractTriangular}</b>) in LinearAlgebra at <a href=\"file://C:/buildbot/worker/package_win64/build/usr/share/julia/stdlib/v1.7/LinearAlgebra/src/diagonal.jl\" target=\"_blank\">C:\\Users\\dan_x\\AppData\\Local\\Programs\\Julia-1.7.3\\share\\julia\\stdlib\\v1.7\\LinearAlgebra\\src\\diagonal.jl:310</a></li> <li> *(D::<b>LinearAlgebra.Diagonal</b>, B::<b>LinearAlgebra.Transpose{<:Any, <:LinearAlgebra.Diagonal}</b>) in LinearAlgebra at <a href=\"file://C:/buildbot/worker/package_win64/build/usr/share/julia/stdlib/v1.7/LinearAlgebra/src/diagonal.jl\" target=\"_blank\">C:\\Users\\dan_x\\AppData\\Local\\Programs\\Julia-1.7.3\\share\\julia\\stdlib\\v1.7\\LinearAlgebra\\src\\diagonal.jl:309</a></li> <li> *(u::<b>AbstractVector</b>, v::<b>Union{LinearAlgebra.Adjoint{T, var\"#s861\"}, LinearAlgebra.Transpose{T, var\"#s861\"}} where {T, var\"#s861\"<:(AbstractVector)}</b>) in LinearAlgebra at <a href=\"file://C:/buildbot/worker/package_win64/build/usr/share/julia/stdlib/v1.7/LinearAlgebra/src/adjtrans.jl\" target=\"_blank\">C:\\Users\\dan_x\\AppData\\Local\\Programs\\Julia-1.7.3\\share\\julia\\stdlib\\v1.7\\LinearAlgebra\\src\\adjtrans.jl:297</a></li> <li> *(u::<b>AbstractVector</b>, tv::<b>Union{LinearAlgebra.Adjoint{T, var\"#s861\"}, LinearAlgebra.Transpose{T, var\"#s861\"}} where {T, var\"#s861\"<:(AbstractVector)}</b>, C::<b>AbstractMatrix</b>) in LinearAlgebra at <a href=\"file://C:/buildbot/worker/package_win64/build/usr/share/julia/stdlib/v1.7/LinearAlgebra/src/matmul.jl\" target=\"_blank\">C:\\Users\\dan_x\\AppData\\Local\\Programs\\Julia-1.7.3\\share\\julia\\stdlib\\v1.7\\LinearAlgebra\\src\\matmul.jl:1118</a></li> <li> *(u::<b>AbstractVector</b>, tv::<b>Union{LinearAlgebra.Adjoint{T, var\"#s861\"}, LinearAlgebra.Transpose{T, var\"#s861\"}} where {T, var\"#s861\"<:(AbstractVector)}</b>, γ::<b>Number</b>) in LinearAlgebra at <a href=\"file://C:/buildbot/worker/package_win64/build/usr/share/julia/stdlib/v1.7/LinearAlgebra/src/matmul.jl\" target=\"_blank\">C:\\Users\\dan_x\\AppData\\Local\\Programs\\Julia-1.7.3\\share\\julia\\stdlib\\v1.7\\LinearAlgebra\\src\\matmul.jl:1117</a></li> <li> *(D::<b>LinearAlgebra.Diagonal</b>, transA::<b>LinearAlgebra.Transpose{<:Any, <:AbstractMatrix}</b>) in LinearAlgebra at <a href=\"file://C:/buildbot/worker/package_win64/build/usr/share/julia/stdlib/v1.7/LinearAlgebra/src/diagonal.jl\" target=\"_blank\">C:\\Users\\dan_x\\AppData\\Local\\Programs\\Julia-1.7.3\\share\\julia\\stdlib\\v1.7\\LinearAlgebra\\src\\diagonal.jl:312</a></li> <li> *(a::<b>AbstractVector</b>, transB::<b>LinearAlgebra.Transpose{<:Any, <:AbstractMatrix}</b>) in LinearAlgebra at <a href=\"file://C:/buildbot/worker/package_win64/build/usr/share/julia/stdlib/v1.7/LinearAlgebra/src/matmul.jl\" target=\"_blank\">C:\\Users\\dan_x\\AppData\\Local\\Programs\\Julia-1.7.3\\share\\julia\\stdlib\\v1.7\\LinearAlgebra\\src\\matmul.jl:55</a></li> <li> *(Da::<b>LinearAlgebra.Diagonal</b>, Db::<b>LinearAlgebra.Diagonal</b>) in LinearAlgebra at <a href=\"file://C:/buildbot/worker/package_win64/build/usr/share/julia/stdlib/v1.7/LinearAlgebra/src/diagonal.jl\" target=\"_blank\">C:\\Users\\dan_x\\AppData\\Local\\Programs\\Julia-1.7.3\\share\\julia\\stdlib\\v1.7\\LinearAlgebra\\src\\diagonal.jl:201</a></li> <li> *(A::<b>AbstractMatrix</b>, D::<b>LinearAlgebra.Diagonal</b>) in LinearAlgebra at <a href=\"file://C:/buildbot/worker/package_win64/build/usr/share/julia/stdlib/v1.7/LinearAlgebra/src/diagonal.jl\" target=\"_blank\">C:\\Users\\dan_x\\AppData\\Local\\Programs\\Julia-1.7.3\\share\\julia\\stdlib\\v1.7\\LinearAlgebra\\src\\diagonal.jl:222</a></li> <li> *(x::<b>LinearAlgebra.Diagonal</b>, H::<b>LinearAlgebra.UpperHessenberg</b>) in LinearAlgebra at <a href=\"file://C:/buildbot/worker/package_win64/build/usr/share/julia/stdlib/v1.7/LinearAlgebra/src/hessenberg.jl\" target=\"_blank\">C:\\Users\\dan_x\\AppData\\Local\\Programs\\Julia-1.7.3\\share\\julia\\stdlib\\v1.7\\LinearAlgebra\\src\\hessenberg.jl:115</a></li> <li> *(A::<b>LinearAlgebra.Diagonal</b>, B::<b>LinearAlgebra.SymTridiagonal</b>) in LinearAlgebra at <a href=\"file://C:/buildbot/worker/package_win64/build/usr/share/julia/stdlib/v1.7/LinearAlgebra/src/bidiag.jl\" target=\"_blank\">C:\\Users\\dan_x\\AppData\\Local\\Programs\\Julia-1.7.3\\share\\julia\\stdlib\\v1.7\\LinearAlgebra\\src\\bidiag.jl:690</a></li> <li> *(D::<b>LinearAlgebra.Diagonal</b>, A::<b>AbstractMatrix</b>) in LinearAlgebra at <a href=\"file://C:/buildbot/worker/package_win64/build/usr/share/julia/stdlib/v1.7/LinearAlgebra/src/diagonal.jl\" target=\"_blank\">C:\\Users\\dan_x\\AppData\\Local\\Programs\\Julia-1.7.3\\share\\julia\\stdlib\\v1.7\\LinearAlgebra\\src\\diagonal.jl:224</a></li> <li> *(A::<b>AbstractMatrix</b>, B::<b>AbstractMatrix</b>) in LinearAlgebra at <a href=\"file://C:/buildbot/worker/package_win64/build/usr/share/julia/stdlib/v1.7/LinearAlgebra/src/matmul.jl\" target=\"_blank\">C:\\Users\\dan_x\\AppData\\Local\\Programs\\Julia-1.7.3\\share\\julia\\stdlib\\v1.7\\LinearAlgebra\\src\\matmul.jl:151</a></li> <li> *(A::<b>AbstractMatrix</b>, B::<b>AbstractMatrix</b>, γ::<b>Number</b>) in LinearAlgebra at <a href=\"file://C:/buildbot/worker/package_win64/build/usr/share/julia/stdlib/v1.7/LinearAlgebra/src/matmul.jl\" target=\"_blank\">C:\\Users\\dan_x\\AppData\\Local\\Programs\\Julia-1.7.3\\share\\julia\\stdlib\\v1.7\\LinearAlgebra\\src\\matmul.jl:1110</a></li> <li> *(A::<b>AbstractMatrix</b>, B::<b>AbstractMatrix</b>, x::<b>AbstractVector</b>) in LinearAlgebra at <a href=\"file://C:/buildbot/worker/package_win64/build/usr/share/julia/stdlib/v1.7/LinearAlgebra/src/matmul.jl\" target=\"_blank\">C:\\Users\\dan_x\\AppData\\Local\\Programs\\Julia-1.7.3\\share\\julia\\stdlib\\v1.7\\LinearAlgebra\\src\\matmul.jl:1104</a></li> <li> *(a::<b>AbstractVector</b>, B::<b>AbstractMatrix</b>) in LinearAlgebra at <a href=\"file://C:/buildbot/worker/package_win64/build/usr/share/julia/stdlib/v1.7/LinearAlgebra/src/matmul.jl\" target=\"_blank\">C:\\Users\\dan_x\\AppData\\Local\\Programs\\Julia-1.7.3\\share\\julia\\stdlib\\v1.7\\LinearAlgebra\\src\\matmul.jl:63</a></li> <li> *(A::<b>AbstractMatrix</b>, B::<b>AbstractMatrix</b>, C::<b>AbstractMatrix</b>) in LinearAlgebra at <a href=\"file://C:/buildbot/worker/package_win64/build/usr/share/julia/stdlib/v1.7/LinearAlgebra/src/matmul.jl\" target=\"_blank\">C:\\Users\\dan_x\\AppData\\Local\\Programs\\Julia-1.7.3\\share\\julia\\stdlib\\v1.7\\LinearAlgebra\\src\\matmul.jl:1120</a></li> <li> *(A::<b>AbstractMatrix</b>, B::<b>AbstractMatrix</b>, γ::<b>Number</b>, δ::<b>Number</b>) in LinearAlgebra at <a href=\"file://C:/buildbot/worker/package_win64/build/usr/share/julia/stdlib/v1.7/LinearAlgebra/src/matmul.jl\" target=\"_blank\">C:\\Users\\dan_x\\AppData\\Local\\Programs\\Julia-1.7.3\\share\\julia\\stdlib\\v1.7\\LinearAlgebra\\src\\matmul.jl:1176</a></li> <li> *(A::<b>AbstractMatrix</b>, B::<b>AbstractMatrix</b>, x::<b>AbstractVector</b>, δ::<b>Number</b>) in LinearAlgebra at <a href=\"file://C:/buildbot/worker/package_win64/build/usr/share/julia/stdlib/v1.7/LinearAlgebra/src/matmul.jl\" target=\"_blank\">C:\\Users\\dan_x\\AppData\\Local\\Programs\\Julia-1.7.3\\share\\julia\\stdlib\\v1.7\\LinearAlgebra\\src\\matmul.jl:1177</a></li> <li> *(A::<b>AbstractMatrix</b>, B::<b>AbstractMatrix</b>, C::<b>AbstractMatrix</b>, x::<b>AbstractVector</b>) in LinearAlgebra at <a href=\"file://C:/buildbot/worker/package_win64/build/usr/share/julia/stdlib/v1.7/LinearAlgebra/src/matmul.jl\" target=\"_blank\">C:\\Users\\dan_x\\AppData\\Local\\Programs\\Julia-1.7.3\\share\\julia\\stdlib\\v1.7\\LinearAlgebra\\src\\matmul.jl:1181</a></li> <li> *(A::<b>AbstractMatrix</b>, B::<b>AbstractMatrix</b>, C::<b>AbstractMatrix</b>, δ::<b>Number</b>) in LinearAlgebra at <a href=\"file://C:/buildbot/worker/package_win64/build/usr/share/julia/stdlib/v1.7/LinearAlgebra/src/matmul.jl\" target=\"_blank\">C:\\Users\\dan_x\\AppData\\Local\\Programs\\Julia-1.7.3\\share\\julia\\stdlib\\v1.7\\LinearAlgebra\\src\\matmul.jl:1186</a></li> <li> *(A::<b>AbstractMatrix</b>, B::<b>AbstractMatrix</b>, C::<b>AbstractMatrix</b>, D::<b>AbstractMatrix</b>) in LinearAlgebra at <a href=\"file://C:/buildbot/worker/package_win64/build/usr/share/julia/stdlib/v1.7/LinearAlgebra/src/matmul.jl\" target=\"_blank\">C:\\Users\\dan_x\\AppData\\Local\\Programs\\Julia-1.7.3\\share\\julia\\stdlib\\v1.7\\LinearAlgebra\\src\\matmul.jl:1189</a></li> <li> *(D::<b>LinearAlgebra.Diagonal</b>, V::<b>AbstractVector</b>) in LinearAlgebra at <a href=\"file://C:/buildbot/worker/package_win64/build/usr/share/julia/stdlib/v1.7/LinearAlgebra/src/diagonal.jl\" target=\"_blank\">C:\\Users\\dan_x\\AppData\\Local\\Programs\\Julia-1.7.3\\share\\julia\\stdlib\\v1.7\\LinearAlgebra\\src\\diagonal.jl:209</a></li> <li> *(A::<b>AbstractMatrix{T}</b>, x::<b>AbstractVector{S}</b>)<i> where {T, S}</i> in LinearAlgebra at <a href=\"file://C:/buildbot/worker/package_win64/build/usr/share/julia/stdlib/v1.7/LinearAlgebra/src/matmul.jl\" target=\"_blank\">C:\\Users\\dan_x\\AppData\\Local\\Programs\\Julia-1.7.3\\share\\julia\\stdlib\\v1.7\\LinearAlgebra\\src\\matmul.jl:49</a></li> <li> *(A::<b>AbstractMatrix</b>, x::<b>AbstractVector</b>, γ::<b>Number</b>) in LinearAlgebra at <a href=\"file://C:/buildbot/worker/package_win64/build/usr/share/julia/stdlib/v1.7/LinearAlgebra/src/matmul.jl\" target=\"_blank\">C:\\Users\\dan_x\\AppData\\Local\\Programs\\Julia-1.7.3\\share\\julia\\stdlib\\v1.7\\LinearAlgebra\\src\\matmul.jl:1109</a></li> <li> *(A::<b>AbstractMatrix</b>, x::<b>AbstractVector</b>, γ::<b>Number</b>, δ::<b>Number</b>) in LinearAlgebra at <a href=\"file://C:/buildbot/worker/package_win64/build/usr/share/julia/stdlib/v1.7/LinearAlgebra/src/matmul.jl\" target=\"_blank\">C:\\Users\\dan_x\\AppData\\Local\\Programs\\Julia-1.7.3\\share\\julia\\stdlib\\v1.7\\LinearAlgebra\\src\\matmul.jl:1175</a></li> <li> *(D::<b>LinearAlgebra.Diagonal</b>, x::<b>Number</b>) in LinearAlgebra at <a href=\"file://C:/buildbot/worker/package_win64/build/usr/share/julia/stdlib/v1.7/LinearAlgebra/src/diagonal.jl\" target=\"_blank\">C:\\Users\\dan_x\\AppData\\Local\\Programs\\Julia-1.7.3\\share\\julia\\stdlib\\v1.7\\LinearAlgebra\\src\\diagonal.jl:191</a></li> <li> *(A::<b>AbstractArray</b>, B::<b>Number</b>) in Base at <a href=\"https://github.com/JuliaLang/julia/tree/742b9abb4dd4621b667ec5bb3434b8b3602f96fd/base/arraymath.jl#L55\" target=\"_blank\">arraymath.jl:55</a></li> <li> *(index::<b>CartesianIndex</b>, a::<b>Integer</b>) in Base.IteratorsMD at <a href=\"https://github.com/JuliaLang/julia/tree/742b9abb4dd4621b667ec5bb3434b8b3602f96fd/base/multidimensional.jl#L124\" target=\"_blank\">multidimensional.jl:124</a></li> <li> *(r::<b>AbstractRange{<:Real}</b>, x::<b>Dates.Period</b>) in Dates at <a href=\"file://C:/buildbot/worker/package_win64/build/usr/share/julia/stdlib/v1.7/Dates/src/ranges.jl\" target=\"_blank\">C:\\Users\\dan_x\\AppData\\Local\\Programs\\Julia-1.7.3\\share\\julia\\stdlib\\v1.7\\Dates\\src\\ranges.jl:66</a></li> <li> *(A::<b>AbstractArray</b>, B::<b>Dates.Period</b>) in Dates at <a href=\"file://C:/buildbot/worker/package_win64/build/usr/share/julia/stdlib/v1.7/Dates/src/periods.jl\" target=\"_blank\">C:\\Users\\dan_x\\AppData\\Local\\Programs\\Julia-1.7.3\\share\\julia\\stdlib\\v1.7\\Dates\\src\\periods.jl:98</a></li> <li> *(y::<b>AbstractFloat</b>, x::<b>Bool</b>) in Base at <a href=\"https://github.com/JuliaLang/julia/tree/742b9abb4dd4621b667ec5bb3434b8b3602f96fd/base/bool.jl#L178\" target=\"_blank\">bool.jl:178</a></li> <li> *(F::<b>LinearAlgebra.Hessenberg{<:Any, <:AbstractMatrix{T}}</b>, x::<b>S</b>)<i> where {T, S<:Number}</i> in LinearAlgebra at <a href=\"file://C:/buildbot/worker/package_win64/build/usr/share/julia/stdlib/v1.7/LinearAlgebra/src/hessenberg.jl\" target=\"_blank\">C:\\Users\\dan_x\\AppData\\Local\\Programs\\Julia-1.7.3\\share\\julia\\stdlib\\v1.7\\LinearAlgebra\\src\\hessenberg.jl:621</a></li> <li> *(::<b>Missing</b>) in Base at <a href=\"https://github.com/JuliaLang/julia/tree/742b9abb4dd4621b667ec5bb3434b8b3602f96fd/base/missing.jl#L101\" target=\"_blank\">missing.jl:101</a></li> <li> *(::<b>Missing</b>, ::<b>Number</b>) in Base at <a href=\"https://github.com/JuliaLang/julia/tree/742b9abb4dd4621b667ec5bb3434b8b3602f96fd/base/missing.jl#L123\" target=\"_blank\">missing.jl:123</a></li> <li> *(d::<b>Missing</b>, x::<b>Union{AbstractChar, AbstractString}</b>) in Base at <a href=\"https://github.com/JuliaLang/julia/tree/742b9abb4dd4621b667ec5bb3434b8b3602f96fd/base/missing.jl#L182\" target=\"_blank\">missing.jl:182</a></li> <li> *(::<b>Missing</b>, ::<b>Missing</b>) in Base at <a href=\"https://github.com/JuliaLang/julia/tree/742b9abb4dd4621b667ec5bb3434b8b3602f96fd/base/missing.jl#L122\" target=\"_blank\">missing.jl:122</a></li> <li> *(x::<b>Float16</b>, y::<b>Float16</b>) in Base at <a href=\"https://github.com/JuliaLang/julia/tree/742b9abb4dd4621b667ec5bb3434b8b3602f96fd/base/float.jl#L403\" target=\"_blank\">float.jl:403</a></li> <li> *(x::<b>Float32</b>, y::<b>Float32</b>) in Base at <a href=\"https://github.com/JuliaLang/julia/tree/742b9abb4dd4621b667ec5bb3434b8b3602f96fd/base/float.jl#L404\" target=\"_blank\">float.jl:404</a></li> <li> *(x::<b>Bool</b>, y::<b>T</b>)<i> where T<:AbstractFloat</i> in Base at <a href=\"https://github.com/JuliaLang/julia/tree/742b9abb4dd4621b667ec5bb3434b8b3602f96fd/base/bool.jl#L175\" target=\"_blank\">bool.jl:175</a></li> <li> *(x::<b>Bool</b>, y::<b>AbstractIrrational</b>) in Base at <a href=\"https://github.com/JuliaLang/julia/tree/742b9abb4dd4621b667ec5bb3434b8b3602f96fd/base/irrationals.jl#L160\" target=\"_blank\">irrationals.jl:160</a></li> <li> *(x::<b>Bool</b>, y::<b>Bool</b>) in Base at <a href=\"https://github.com/JuliaLang/julia/tree/742b9abb4dd4621b667ec5bb3434b8b3602f96fd/base/bool.jl#L164\" target=\"_blank\">bool.jl:164</a></li> <li> *(x::<b>Bool</b>, z::<b>Complex{Bool}</b>) in Base at <a href=\"https://github.com/JuliaLang/julia/tree/742b9abb4dd4621b667ec5bb3434b8b3602f96fd/base/complex.jl#L303\" target=\"_blank\">complex.jl:303</a></li> <li> *(x::<b>Real</b>, z::<b>Complex{Bool}</b>) in Base at <a href=\"https://github.com/JuliaLang/julia/tree/742b9abb4dd4621b667ec5bb3434b8b3602f96fd/base/complex.jl#L321\" target=\"_blank\">complex.jl:321</a></li> <li> *(x::<b>Bool</b>, z::<b>Complex</b>) in Base at <a href=\"https://github.com/JuliaLang/julia/tree/742b9abb4dd4621b667ec5bb3434b8b3602f96fd/base/complex.jl#L310\" target=\"_blank\">complex.jl:310</a></li> <li> *(x::<b>Real</b>, z::<b>Complex</b>) in Base at <a href=\"https://github.com/JuliaLang/julia/tree/742b9abb4dd4621b667ec5bb3434b8b3602f96fd/base/complex.jl#L333\" target=\"_blank\">complex.jl:333</a></li> <li> *(B::<b>BitMatrix</b>, J::<b>LinearAlgebra.UniformScaling</b>) in LinearAlgebra at <a href=\"file://C:/buildbot/worker/package_win64/build/usr/share/julia/stdlib/v1.7/LinearAlgebra/src/uniformscaling.jl\" target=\"_blank\">C:\\Users\\dan_x\\AppData\\Local\\Programs\\Julia-1.7.3\\share\\julia\\stdlib\\v1.7\\LinearAlgebra\\src\\uniformscaling.jl:259</a></li> <li> *(x::<b>AbstractMatrix{<:Number}</b>) in Base at <a href=\"https://github.com/JuliaLang/julia/tree/742b9abb4dd4621b667ec5bb3434b8b3602f96fd/base/abstractarraymath.jl#L105\" target=\"_blank\">abstractarraymath.jl:105</a></li> <li> *(A::<b>AbstractMatrix</b>, J::<b>LinearAlgebra.UniformScaling</b>) in LinearAlgebra at <a href=\"file://C:/buildbot/worker/package_win64/build/usr/share/julia/stdlib/v1.7/LinearAlgebra/src/uniformscaling.jl\" target=\"_blank\">C:\\Users\\dan_x\\AppData\\Local\\Programs\\Julia-1.7.3\\share\\julia\\stdlib\\v1.7\\LinearAlgebra\\src\\uniformscaling.jl:261</a></li> <li> *(v::<b>AbstractVector</b>, J::<b>LinearAlgebra.UniformScaling</b>) in LinearAlgebra at <a href=\"file://C:/buildbot/worker/package_win64/build/usr/share/julia/stdlib/v1.7/LinearAlgebra/src/uniformscaling.jl\" target=\"_blank\">C:\\Users\\dan_x\\AppData\\Local\\Programs\\Julia-1.7.3\\share\\julia\\stdlib\\v1.7\\LinearAlgebra\\src\\uniformscaling.jl:262</a></li> <li> *(x::<b>BigFloat</b>, c::<b>Union{UInt16, UInt32, UInt8}</b>) in Base.MPFR at <a href=\"https://github.com/JuliaLang/julia/tree/742b9abb4dd4621b667ec5bb3434b8b3602f96fd/base/mpfr.jl#L392\" target=\"_blank\">mpfr.jl:392</a></li> <li> *(x::<b>BigFloat</b>, c::<b>Union{Int16, Int32, Int8}</b>) in Base.MPFR at <a href=\"https://github.com/JuliaLang/julia/tree/742b9abb4dd4621b667ec5bb3434b8b3602f96fd/base/mpfr.jl#L400\" target=\"_blank\">mpfr.jl:400</a></li> <li> *(x::<b>BigFloat</b>, c::<b>Union{Float16, Float32, Float64}</b>) in Base.MPFR at <a href=\"https://github.com/JuliaLang/julia/tree/742b9abb4dd4621b667ec5bb3434b8b3602f96fd/base/mpfr.jl#L408\" target=\"_blank\">mpfr.jl:408</a></li> <li> *(x::<b>BigFloat</b>, y::<b>BigFloat</b>) in Base.MPFR at <a href=\"https://github.com/JuliaLang/julia/tree/742b9abb4dd4621b667ec5bb3434b8b3602f96fd/base/mpfr.jl#L385\" target=\"_blank\">mpfr.jl:385</a></li> <li> *(x::<b>BigFloat</b>, c::<b>BigInt</b>) in Base.MPFR at <a href=\"https://github.com/JuliaLang/julia/tree/742b9abb4dd4621b667ec5bb3434b8b3602f96fd/base/mpfr.jl#L416\" target=\"_blank\">mpfr.jl:416</a></li> <li> *(a::<b>BigFloat</b>, b::<b>BigFloat</b>, c::<b>BigFloat</b>) in Base.MPFR at <a href=\"https://github.com/JuliaLang/julia/tree/742b9abb4dd4621b667ec5bb3434b8b3602f96fd/base/mpfr.jl#L557\" target=\"_blank\">mpfr.jl:557</a></li> <li> *(a::<b>BigFloat</b>, b::<b>BigFloat</b>, c::<b>BigFloat</b>, d::<b>BigFloat</b>) in Base.MPFR at <a href=\"https://github.com/JuliaLang/julia/tree/742b9abb4dd4621b667ec5bb3434b8b3602f96fd/base/mpfr.jl#L563\" target=\"_blank\">mpfr.jl:563</a></li> <li> *(a::<b>BigFloat</b>, b::<b>BigFloat</b>, c::<b>BigFloat</b>, d::<b>BigFloat</b>, e::<b>BigFloat</b>) in Base.MPFR at <a href=\"https://github.com/JuliaLang/julia/tree/742b9abb4dd4621b667ec5bb3434b8b3602f96fd/base/mpfr.jl#L570\" target=\"_blank\">mpfr.jl:570</a></li> <li> *(x::<b>Rational{BigInt}</b>, y::<b>Rational{BigInt}</b>) in Base.GMP.MPQ at <a href=\"https://github.com/JuliaLang/julia/tree/742b9abb4dd4621b667ec5bb3434b8b3602f96fd/base/gmp.jl#L909\" target=\"_blank\">gmp.jl:909</a></li> <li> *(x::<b>Rational</b>, y::<b>Rational</b>) in Base at <a href=\"https://github.com/JuliaLang/julia/tree/742b9abb4dd4621b667ec5bb3434b8b3602f96fd/base/rational.jl#L331\" target=\"_blank\">rational.jl:331</a></li> <li> *(z::<b>Complex{Bool}</b>, x::<b>Bool</b>) in Base at <a href=\"https://github.com/JuliaLang/julia/tree/742b9abb4dd4621b667ec5bb3434b8b3602f96fd/base/complex.jl#L304\" target=\"_blank\">complex.jl:304</a></li> <li> *(z::<b>Complex</b>, x::<b>Bool</b>) in Base at <a href=\"https://github.com/JuliaLang/julia/tree/742b9abb4dd4621b667ec5bb3434b8b3602f96fd/base/complex.jl#L311\" target=\"_blank\">complex.jl:311</a></li> <li> *(z::<b>Complex{Bool}</b>, x::<b>Real</b>) in Base at <a href=\"https://github.com/JuliaLang/julia/tree/742b9abb4dd4621b667ec5bb3434b8b3602f96fd/base/complex.jl#L322\" target=\"_blank\">complex.jl:322</a></li> <li> *(z::<b>Complex</b>, x::<b>Real</b>) in Base at <a href=\"https://github.com/JuliaLang/julia/tree/742b9abb4dd4621b667ec5bb3434b8b3602f96fd/base/complex.jl#L334\" target=\"_blank\">complex.jl:334</a></li> <li> *(x::<b>Float64</b>, y::<b>Float64</b>) in Base at <a href=\"https://github.com/JuliaLang/julia/tree/742b9abb4dd4621b667ec5bb3434b8b3602f96fd/base/float.jl#L405\" target=\"_blank\">float.jl:405</a></li> <li> *(x::<b>BigInt</b>, c::<b>Union{UInt16, UInt32, UInt8}</b>) in Base.GMP at <a href=\"https://github.com/JuliaLang/julia/tree/742b9abb4dd4621b667ec5bb3434b8b3602f96fd/base/gmp.jl#L539\" target=\"_blank\">gmp.jl:539</a></li> <li> *(x::<b>BigInt</b>, c::<b>Union{Int16, Int32, Int8}</b>) in Base.GMP at <a href=\"https://github.com/JuliaLang/julia/tree/742b9abb4dd4621b667ec5bb3434b8b3602f96fd/base/gmp.jl#L541\" target=\"_blank\">gmp.jl:541</a></li> <li> *(x::<b>BigInt</b>, y::<b>BigInt</b>) in Base.GMP at <a href=\"https://github.com/JuliaLang/julia/tree/742b9abb4dd4621b667ec5bb3434b8b3602f96fd/base/gmp.jl#L480\" target=\"_blank\">gmp.jl:480</a></li> <li> *(a::<b>BigInt</b>, b::<b>BigInt</b>, c::<b>BigInt</b>) in Base.GMP at <a href=\"https://github.com/JuliaLang/julia/tree/742b9abb4dd4621b667ec5bb3434b8b3602f96fd/base/gmp.jl#L520\" target=\"_blank\">gmp.jl:520</a></li> <li> *(a::<b>BigInt</b>, b::<b>BigInt</b>, c::<b>BigInt</b>, d::<b>BigInt</b>) in Base.GMP at <a href=\"https://github.com/JuliaLang/julia/tree/742b9abb4dd4621b667ec5bb3434b8b3602f96fd/base/gmp.jl#L521\" target=\"_blank\">gmp.jl:521</a></li> <li> *(a::<b>BigInt</b>, b::<b>BigInt</b>, c::<b>BigInt</b>, d::<b>BigInt</b>, e::<b>BigInt</b>) in Base.GMP at <a href=\"https://github.com/JuliaLang/julia/tree/742b9abb4dd4621b667ec5bb3434b8b3602f96fd/base/gmp.jl#L522\" target=\"_blank\">gmp.jl:522</a></li> <li> *(a::<b>Integer</b>, b::<b>Integer</b>) in Base at <a href=\"https://github.com/JuliaLang/julia/tree/742b9abb4dd4621b667ec5bb3434b8b3602f96fd/base/int.jl#L978\" target=\"_blank\">int.jl:978</a></li> <li> *(c::<b>BigInt</b>, x::<b>BigFloat</b>) in Base.MPFR at <a href=\"https://github.com/JuliaLang/julia/tree/742b9abb4dd4621b667ec5bb3434b8b3602f96fd/base/mpfr.jl#L421\" target=\"_blank\">mpfr.jl:421</a></li> <li> *(x::<b>Number</b>) in Base at <a href=\"https://github.com/JuliaLang/julia/tree/742b9abb4dd4621b667ec5bb3434b8b3602f96fd/base/operators.jl#L593\" target=\"_blank\">operators.jl:593</a></li> <li> *(α::<b>Number</b>, vt::<b>Union{LinearAlgebra.Adjoint{T, var\"#s861\"}, LinearAlgebra.Transpose{T, var\"#s861\"}} where {T, var\"#s861\"<:(AbstractVector)}</b>, C::<b>AbstractMatrix</b>, x::<b>AbstractVector</b>) in LinearAlgebra at <a href=\"file://C:/buildbot/worker/package_win64/build/usr/share/julia/stdlib/v1.7/LinearAlgebra/src/matmul.jl\" target=\"_blank\">C:\\Users\\dan_x\\AppData\\Local\\Programs\\Julia-1.7.3\\share\\julia\\stdlib\\v1.7\\LinearAlgebra\\src\\matmul.jl:1171</a></li> <li> *(x::<b>T</b>, y::<b>T</b>)<i> where T<:Number</i> in Base at <a href=\"https://github.com/JuliaLang/julia/tree/742b9abb4dd4621b667ec5bb3434b8b3602f96fd/base/promotion.jl#L455\" target=\"_blank\">promotion.jl:455</a></li> <li> *(x::<b>Number</b>, y::<b>Number</b>) in Base at <a href=\"https://github.com/JuliaLang/julia/tree/742b9abb4dd4621b667ec5bb3434b8b3602f96fd/base/promotion.jl#L380\" target=\"_blank\">promotion.jl:380</a></li> <li> *(α::<b>Number</b>, β::<b>Number</b>, C::<b>AbstractMatrix</b>, D::<b>AbstractMatrix</b>) in LinearAlgebra at <a href=\"file://C:/buildbot/worker/package_win64/build/usr/share/julia/stdlib/v1.7/LinearAlgebra/src/matmul.jl\" target=\"_blank\">C:\\Users\\dan_x\\AppData\\Local\\Programs\\Julia-1.7.3\\share\\julia\\stdlib\\v1.7\\LinearAlgebra\\src\\matmul.jl:1169</a></li> <li> *(α::<b>Number</b>, β::<b>Number</b>, C::<b>AbstractMatrix</b>, x::<b>AbstractVector</b>) in LinearAlgebra at <a href=\"file://C:/buildbot/worker/package_win64/build/usr/share/julia/stdlib/v1.7/LinearAlgebra/src/matmul.jl\" target=\"_blank\">C:\\Users\\dan_x\\AppData\\Local\\Programs\\Julia-1.7.3\\share\\julia\\stdlib\\v1.7\\LinearAlgebra\\src\\matmul.jl:1168</a></li> <li> *(r::<b>Regex</b>) in Base at <a href=\"https://github.com/JuliaLang/julia/tree/742b9abb4dd4621b667ec5bb3434b8b3602f96fd/base/regex.jl#L809\" target=\"_blank\">regex.jl:809</a></li> <li> *(r1::<b>Union{Regex, AbstractChar, AbstractString}</b>, rs::<b>Union{Regex, AbstractChar, AbstractString}...</b>) in Base at <a href=\"https://github.com/JuliaLang/julia/tree/742b9abb4dd4621b667ec5bb3434b8b3602f96fd/base/regex.jl#L788\" target=\"_blank\">regex.jl:788</a></li> <li> *(a, b, c, xs...) in Base at <a href=\"https://github.com/JuliaLang/julia/tree/742b9abb4dd4621b667ec5bb3434b8b3602f96fd/base/operators.jl#L655\" target=\"_blank\">operators.jl:655</a></li> </ul>"
      ],
      "text/plain": [
       "# 364 methods for generic function \"*\":\n",
       "[1] *(x::T, y::T) where T<:Union{Int128, UInt128} in Base at int.jl:967\n",
       "[2] *(x::T, y::T) where T<:Union{Int128, Int16, Int32, Int64, Int8, UInt128, UInt16, UInt32, UInt64, UInt8} in Base at int.jl:88\n",
       "[3] *(s1::Union{AbstractChar, AbstractString}, ss::Union{AbstractChar, AbstractString}...) in Base at strings/basic.jl:260\n",
       "[4] *(d::Union{AbstractChar, AbstractString}, x::Missing) in Base at missing.jl:183\n",
       "[5] *(c::Union{UInt16, UInt32, UInt8}, x::BigInt) in Base.GMP at gmp.jl:540\n",
       "[6] *(c::Union{Int16, Int32, Int8}, x::BigInt) in Base.GMP at gmp.jl:542\n",
       "[7] *(c::Union{UInt16, UInt32, UInt8}, x::BigFloat) in Base.MPFR at mpfr.jl:397\n",
       "[8] *(c::Union{Int16, Int32, Int8}, x::BigFloat) in Base.MPFR at mpfr.jl:405\n",
       "[9] *(c::Union{Float16, Float32, Float64}, x::BigFloat) in Base.MPFR at mpfr.jl:413\n",
       "[10] *(A::StridedMatrix{T}, x::StridedVector{S}) where {T<:Union{Float32, Float64, ComplexF32, ComplexF64}, S<:Real} in LinearAlgebra at C:\\Users\\dan_x\\AppData\\Local\\Programs\\Julia-1.7.3\\share\\julia\\stdlib\\v1.7\\LinearAlgebra\\src\\matmul.jl:44\n",
       "[11] *(A::StridedMatrix{var\"#s861\"} where var\"#s861\"<:Union{Float32, Float64}, B::StridedMatrix{var\"#s860\"} where var\"#s860\"<:Union{Float32, Float64, ComplexF32, ComplexF64}) in LinearAlgebra at C:\\Users\\dan_x\\AppData\\Local\\Programs\\Julia-1.7.3\\share\\julia\\stdlib\\v1.7\\LinearAlgebra\\src\\matmul.jl:158\n",
       "[12] *(A::StridedMatrix{var\"#s861\"} where var\"#s861\"<:Union{ComplexF32, ComplexF64}, B::StridedMatrix{var\"#s860\"} where var\"#s860\"<:Union{ComplexF32, ComplexF64}) in LinearAlgebra at C:\\Users\\dan_x\\AppData\\Local\\Programs\\Julia-1.7.3\\share\\julia\\stdlib\\v1.7\\LinearAlgebra\\src\\matmul.jl:162\n",
       "[13] *(α::Union{Real, Complex}, vt::Union{LinearAlgebra.Adjoint{var\"#s861\", var\"#s8611\"}, LinearAlgebra.Transpose{var\"#s861\", var\"#s8611\"}} where {var\"#s861\"<:Union{Real, Complex}, var\"#s8611\"<:(AbstractVector)}, C::AbstractMatrix{<:Union{Real, Complex}}, D::AbstractMatrix{<:Union{Real, Complex}}) in LinearAlgebra at C:\\Users\\dan_x\\AppData\\Local\\Programs\\Julia-1.7.3\\share\\julia\\stdlib\\v1.7\\LinearAlgebra\\src\\matmul.jl:1172\n",
       "[14] *(A::StridedMatrix{T} where T, Q::LinearAlgebra.AbstractQ) in LinearAlgebra at C:\\Users\\dan_x\\AppData\\Local\\Programs\\Julia-1.7.3\\share\\julia\\stdlib\\v1.7\\LinearAlgebra\\src\\qr.jl:755\n",
       "[15] *(A::StridedMatrix{T} where T, adjB::LinearAlgebra.Adjoint{<:Any, <:LinearAlgebra.AbstractQ}) in LinearAlgebra at C:\\Users\\dan_x\\AppData\\Local\\Programs\\Julia-1.7.3\\share\\julia\\stdlib\\v1.7\\LinearAlgebra\\src\\qr.jl:802\n",
       "[16] *(A::StridedVecOrMat, adjQ::LinearAlgebra.Adjoint{<:Any, <:LinearAlgebra.LQPackedQ}) in LinearAlgebra at C:\\Users\\dan_x\\AppData\\Local\\Programs\\Julia-1.7.3\\share\\julia\\stdlib\\v1.7\\LinearAlgebra\\src\\lq.jl:266\n",
       "[17] *(A::StridedVecOrMat, Q::LinearAlgebra.LQPackedQ) in LinearAlgebra at C:\\Users\\dan_x\\AppData\\Local\\Programs\\Julia-1.7.3\\share\\julia\\stdlib\\v1.7\\LinearAlgebra\\src\\lq.jl:290\n",
       "[18] *(A::Union{LinearAlgebra.Hermitian{T, S}, LinearAlgebra.Symmetric{T, S}} where {T, S}, B::Union{LinearAlgebra.Hermitian{T, S}, LinearAlgebra.Symmetric{T, S}} where {T, S}) in LinearAlgebra at C:\\Users\\dan_x\\AppData\\Local\\Programs\\Julia-1.7.3\\share\\julia\\stdlib\\v1.7\\LinearAlgebra\\src\\symmetric.jl:576\n",
       "[19] *(A::Union{LinearAlgebra.UnitUpperTriangular, LinearAlgebra.UpperTriangular}, B::LinearAlgebra.Bidiagonal) in LinearAlgebra at C:\\Users\\dan_x\\AppData\\Local\\Programs\\Julia-1.7.3\\share\\julia\\stdlib\\v1.7\\LinearAlgebra\\src\\bidiag.jl:639\n",
       "[20] *(A::Union{LinearAlgebra.LowerTriangular, LinearAlgebra.UnitLowerTriangular}, B::LinearAlgebra.Bidiagonal) in LinearAlgebra at C:\\Users\\dan_x\\AppData\\Local\\Programs\\Julia-1.7.3\\share\\julia\\stdlib\\v1.7\\LinearAlgebra\\src\\bidiag.jl:648\n",
       "[21] *(A::Union{LinearAlgebra.SymTridiagonal, LinearAlgebra.Tridiagonal}, B::LinearAlgebra.AbstractTriangular) in LinearAlgebra at C:\\Users\\dan_x\\AppData\\Local\\Programs\\Julia-1.7.3\\share\\julia\\stdlib\\v1.7\\LinearAlgebra\\src\\bidiag.jl:657\n",
       "[22] *(A::Union{LinearAlgebra.Bidiagonal, LinearAlgebra.Tridiagonal}, B::LinearAlgebra.Diagonal) in LinearAlgebra at C:\\Users\\dan_x\\AppData\\Local\\Programs\\Julia-1.7.3\\share\\julia\\stdlib\\v1.7\\LinearAlgebra\\src\\bidiag.jl:680\n",
       "[23] *(U::Union{LinearAlgebra.UnitUpperTriangular, LinearAlgebra.UpperTriangular}, H::LinearAlgebra.UpperHessenberg) in LinearAlgebra at C:\\Users\\dan_x\\AppData\\Local\\Programs\\Julia-1.7.3\\share\\julia\\stdlib\\v1.7\\LinearAlgebra\\src\\hessenberg.jl:128\n",
       "[24] *(X::StridedArray{P}, y::Real) where P<:Dates.Period in Dates at C:\\Users\\dan_x\\AppData\\Local\\Programs\\Julia-1.7.3\\share\\julia\\stdlib\\v1.7\\Dates\\src\\deprecated.jl:44\n",
       "[25] *(x::Union{SparseArrays.SparseVector{Tv, Ti}, SubArray{Tv, 1, <:SparseArrays.AbstractSparseVector{Tv, Ti}, Tuple{Base.Slice{Base.OneTo{Int64}}}, false}, SubArray{Tv, 1, <:SparseArrays.AbstractSparseMatrixCSC{Tv, Ti}, Tuple{Base.Slice{Base.OneTo{Int64}}, Int64}, false}} where {Tv, Ti}, a::Number) in SparseArrays at C:\\Users\\dan_x\\AppData\\Local\\Programs\\Julia-1.7.3\\share\\julia\\stdlib\\v1.7\\SparseArrays\\src\\sparsevector.jl:1474\n",
       "[26] *(A::Union{SparseArrays.AbstractSparseMatrixCSC{TA, Ti}, SubArray{TA, 2, <:SparseArrays.AbstractSparseMatrixCSC{TA, Ti}, Tuple{Base.Slice{Base.OneTo{Int64}}, I}} where I<:AbstractUnitRange} where Ti, x::Union{StridedVector, BitVector}) where TA in SparseArrays at C:\\Users\\dan_x\\AppData\\Local\\Programs\\Julia-1.7.3\\share\\julia\\stdlib\\v1.7\\SparseArrays\\src\\linalg.jl:50\n",
       "[27] *(A::Union{SparseArrays.AbstractSparseMatrixCSC{Tv, Ti}, SubArray{Tv, 2, <:SparseArrays.AbstractSparseMatrixCSC{Tv, Ti}, Tuple{Base.Slice{Base.OneTo{Int64}}, I}} where I<:AbstractUnitRange, LinearAlgebra.LowerTriangular{Tv, <:Union{SparseArrays.AbstractSparseMatrixCSC{Tv, Ti}, SubArray{Tv, 2, <:SparseArrays.AbstractSparseMatrixCSC{Tv, Ti}, Tuple{Base.Slice{Base.OneTo{Int64}}, I}} where I<:AbstractUnitRange}}, LinearAlgebra.UpperTriangular{Tv, <:Union{SparseArrays.AbstractSparseMatrixCSC{Tv, Ti}, SubArray{Tv, 2, <:SparseArrays.AbstractSparseMatrixCSC{Tv, Ti}, Tuple{Base.Slice{Base.OneTo{Int64}}, I}} where I<:AbstractUnitRange}}} where {Tv, Ti}, B::SubArray{Tv, 1, <:SparseArrays.AbstractSparseMatrixCSC{Tv, Ti}, Tuple{Base.Slice{Base.OneTo{Int64}}, Int64}, false} where {Tv, Ti}) in SparseArrays at C:\\Users\\dan_x\\AppData\\Local\\Programs\\Julia-1.7.3\\share\\julia\\stdlib\\v1.7\\SparseArrays\\src\\linalg.jl:164\n",
       "[28] *(A::Union{SparseArrays.AbstractSparseMatrixCSC{Tv, Ti}, SubArray{Tv, 2, <:SparseArrays.AbstractSparseMatrixCSC{Tv, Ti}, Tuple{Base.Slice{Base.OneTo{Int64}}, I}} where I<:AbstractUnitRange, LinearAlgebra.LowerTriangular{Tv, <:Union{SparseArrays.AbstractSparseMatrixCSC{Tv, Ti}, SubArray{Tv, 2, <:SparseArrays.AbstractSparseMatrixCSC{Tv, Ti}, Tuple{Base.Slice{Base.OneTo{Int64}}, I}} where I<:AbstractUnitRange}}, LinearAlgebra.UpperTriangular{Tv, <:Union{SparseArrays.AbstractSparseMatrixCSC{Tv, Ti}, SubArray{Tv, 2, <:SparseArrays.AbstractSparseMatrixCSC{Tv, Ti}, Tuple{Base.Slice{Base.OneTo{Int64}}, I}} where I<:AbstractUnitRange}}} where {Tv, Ti}, B::SubArray{Tv, 1, <:SparseArrays.AbstractSparseVector{Tv, Ti}, Tuple{Base.Slice{Base.OneTo{Int64}}}, false} where {Tv, Ti}) in SparseArrays at C:\\Users\\dan_x\\AppData\\Local\\Programs\\Julia-1.7.3\\share\\julia\\stdlib\\v1.7\\SparseArrays\\src\\linalg.jl:165\n",
       "[29] *(A::Union{SparseArrays.AbstractSparseMatrixCSC{Tv, Ti}, SubArray{Tv, 2, <:SparseArrays.AbstractSparseMatrixCSC{Tv, Ti}, Tuple{Base.Slice{Base.OneTo{Int64}}, I}} where I<:AbstractUnitRange} where {Tv, Ti}, B::Union{SparseArrays.AbstractSparseMatrixCSC{Tv, Ti}, SubArray{Tv, 2, <:SparseArrays.AbstractSparseMatrixCSC{Tv, Ti}, Tuple{Base.Slice{Base.OneTo{Int64}}, I}} where I<:AbstractUnitRange} where {Tv, Ti}) in SparseArrays at C:\\Users\\dan_x\\AppData\\Local\\Programs\\Julia-1.7.3\\share\\julia\\stdlib\\v1.7\\SparseArrays\\src\\linalg.jl:166\n",
       "[30] *(A::Union{LinearAlgebra.LowerTriangular{Tv, <:Union{SparseArrays.AbstractSparseMatrixCSC{Tv, Ti}, SubArray{Tv, 2, <:SparseArrays.AbstractSparseMatrixCSC{Tv, Ti}, Tuple{Base.Slice{Base.OneTo{Int64}}, I}} where I<:AbstractUnitRange}}, LinearAlgebra.UpperTriangular{Tv, <:Union{SparseArrays.AbstractSparseMatrixCSC{Tv, Ti}, SubArray{Tv, 2, <:SparseArrays.AbstractSparseMatrixCSC{Tv, Ti}, Tuple{Base.Slice{Base.OneTo{Int64}}, I}} where I<:AbstractUnitRange}}} where {Tv, Ti}, B::Union{SparseArrays.AbstractSparseMatrixCSC{Tv, Ti}, SubArray{Tv, 2, <:SparseArrays.AbstractSparseMatrixCSC{Tv, Ti}, Tuple{Base.Slice{Base.OneTo{Int64}}, I}} where I<:AbstractUnitRange} where {Tv, Ti}) in SparseArrays at C:\\Users\\dan_x\\AppData\\Local\\Programs\\Julia-1.7.3\\share\\julia\\stdlib\\v1.7\\SparseArrays\\src\\linalg.jl:167\n",
       "[31] *(X::Union{LinearAlgebra.Adjoint{<:Any, <:Union{LinearAlgebra.LowerTriangular, LinearAlgebra.UnitLowerTriangular, LinearAlgebra.UnitUpperTriangular, LinearAlgebra.UpperTriangular, StridedMatrix, BitMatrix}}, LinearAlgebra.LowerTriangular, LinearAlgebra.Transpose{<:Any, <:Union{LinearAlgebra.LowerTriangular, LinearAlgebra.UnitLowerTriangular, LinearAlgebra.UnitUpperTriangular, LinearAlgebra.UpperTriangular, StridedMatrix, BitMatrix}}, LinearAlgebra.UnitLowerTriangular, LinearAlgebra.UnitUpperTriangular, LinearAlgebra.UpperTriangular, StridedMatrix, BitMatrix}, A::Union{SparseArrays.AbstractSparseMatrixCSC{TvA, Ti}, SubArray{TvA, 2, <:SparseArrays.AbstractSparseMatrixCSC{TvA, Ti}, Tuple{Base.Slice{Base.OneTo{Int64}}, I}} where I<:AbstractUnitRange} where Ti) where TvA in SparseArrays at C:\\Users\\dan_x\\AppData\\Local\\Programs\\Julia-1.7.3\\share\\julia\\stdlib\\v1.7\\SparseArrays\\src\\linalg.jl:114\n",
       "[32] *(A::Union{SparseArrays.AbstractSparseMatrixCSC{Tv, Ti}, SubArray{Tv, 2, <:SparseArrays.AbstractSparseMatrixCSC{Tv, Ti}, Tuple{Base.Slice{Base.OneTo{Int64}}, I}} where I<:AbstractUnitRange} where {Tv, Ti}, B::Union{LinearAlgebra.LowerTriangular{Tv, <:Union{SparseArrays.AbstractSparseMatrixCSC{Tv, Ti}, SubArray{Tv, 2, <:SparseArrays.AbstractSparseMatrixCSC{Tv, Ti}, Tuple{Base.Slice{Base.OneTo{Int64}}, I}} where I<:AbstractUnitRange}}, LinearAlgebra.UpperTriangular{Tv, <:Union{SparseArrays.AbstractSparseMatrixCSC{Tv, Ti}, SubArray{Tv, 2, <:SparseArrays.AbstractSparseMatrixCSC{Tv, Ti}, Tuple{Base.Slice{Base.OneTo{Int64}}, I}} where I<:AbstractUnitRange}}} where {Tv, Ti}) in SparseArrays at C:\\Users\\dan_x\\AppData\\Local\\Programs\\Julia-1.7.3\\share\\julia\\stdlib\\v1.7\\SparseArrays\\src\\linalg.jl:168\n",
       "[33] *(A::Union{SparseArrays.AbstractSparseMatrixCSC{TA, Ti}, SubArray{TA, 2, <:SparseArrays.AbstractSparseMatrixCSC{TA, Ti}, Tuple{Base.Slice{Base.OneTo{Int64}}, I}} where I<:AbstractUnitRange} where Ti, B::Union{LinearAlgebra.Adjoint{<:Any, <:Union{LinearAlgebra.LowerTriangular, LinearAlgebra.UnitLowerTriangular, LinearAlgebra.UnitUpperTriangular, LinearAlgebra.UpperTriangular, StridedMatrix, BitMatrix}}, LinearAlgebra.LowerTriangular, LinearAlgebra.Transpose{<:Any, <:Union{LinearAlgebra.LowerTriangular, LinearAlgebra.UnitLowerTriangular, LinearAlgebra.UnitUpperTriangular, LinearAlgebra.UpperTriangular, StridedMatrix, BitMatrix}}, LinearAlgebra.UnitLowerTriangular, LinearAlgebra.UnitUpperTriangular, LinearAlgebra.UpperTriangular, StridedMatrix, BitMatrix}) where TA in SparseArrays at C:\\Users\\dan_x\\AppData\\Local\\Programs\\Julia-1.7.3\\share\\julia\\stdlib\\v1.7\\SparseArrays\\src\\linalg.jl:52\n",
       "[34] *(A::Union{LinearAlgebra.LowerTriangular{Tv, <:Union{SparseArrays.AbstractSparseMatrixCSC{Tv, Ti}, SubArray{Tv, 2, <:SparseArrays.AbstractSparseMatrixCSC{Tv, Ti}, Tuple{Base.Slice{Base.OneTo{Int64}}, I}} where I<:AbstractUnitRange}}, LinearAlgebra.UpperTriangular{Tv, <:Union{SparseArrays.AbstractSparseMatrixCSC{Tv, Ti}, SubArray{Tv, 2, <:SparseArrays.AbstractSparseMatrixCSC{Tv, Ti}, Tuple{Base.Slice{Base.OneTo{Int64}}, I}} where I<:AbstractUnitRange}}} where {Tv, Ti}, B::Union{LinearAlgebra.LowerTriangular{Tv, <:Union{SparseArrays.AbstractSparseMatrixCSC{Tv, Ti}, SubArray{Tv, 2, <:SparseArrays.AbstractSparseMatrixCSC{Tv, Ti}, Tuple{Base.Slice{Base.OneTo{Int64}}, I}} where I<:AbstractUnitRange}}, LinearAlgebra.UpperTriangular{Tv, <:Union{SparseArrays.AbstractSparseMatrixCSC{Tv, Ti}, SubArray{Tv, 2, <:SparseArrays.AbstractSparseMatrixCSC{Tv, Ti}, Tuple{Base.Slice{Base.OneTo{Int64}}, I}} where I<:AbstractUnitRange}}} where {Tv, Ti}) in SparseArrays at C:\\Users\\dan_x\\AppData\\Local\\Programs\\Julia-1.7.3\\share\\julia\\stdlib\\v1.7\\SparseArrays\\src\\linalg.jl:169\n",
       "[35] *(A::Union{SparseArrays.AbstractSparseMatrixCSC{Tv, Ti}, SubArray{Tv, 2, <:SparseArrays.AbstractSparseMatrixCSC{Tv, Ti}, Tuple{Base.Slice{Base.OneTo{Int64}}, I}} where I<:AbstractUnitRange, LinearAlgebra.LowerTriangular{Tv, <:Union{SparseArrays.AbstractSparseMatrixCSC{Tv, Ti}, SubArray{Tv, 2, <:SparseArrays.AbstractSparseMatrixCSC{Tv, Ti}, Tuple{Base.Slice{Base.OneTo{Int64}}, I}} where I<:AbstractUnitRange}}, LinearAlgebra.UpperTriangular{Tv, <:Union{SparseArrays.AbstractSparseMatrixCSC{Tv, Ti}, SubArray{Tv, 2, <:SparseArrays.AbstractSparseMatrixCSC{Tv, Ti}, Tuple{Base.Slice{Base.OneTo{Int64}}, I}} where I<:AbstractUnitRange}}} where {Tv, Ti}, B::LinearAlgebra.Adjoint{<:Any, <:SparseArrays.AbstractSparseMatrixCSC}) in SparseArrays at C:\\Users\\dan_x\\AppData\\Local\\Programs\\Julia-1.7.3\\share\\julia\\stdlib\\v1.7\\SparseArrays\\src\\linalg.jl:170\n",
       "[36] *(X::Union{LinearAlgebra.Adjoint{<:Any, <:Union{LinearAlgebra.LowerTriangular, LinearAlgebra.UnitLowerTriangular, LinearAlgebra.UnitUpperTriangular, LinearAlgebra.UpperTriangular, StridedMatrix, BitMatrix}}, LinearAlgebra.LowerTriangular, LinearAlgebra.Transpose{<:Any, <:Union{LinearAlgebra.LowerTriangular, LinearAlgebra.UnitLowerTriangular, LinearAlgebra.UnitUpperTriangular, LinearAlgebra.UpperTriangular, StridedMatrix, BitMatrix}}, LinearAlgebra.UnitLowerTriangular, LinearAlgebra.UnitUpperTriangular, LinearAlgebra.UpperTriangular, StridedMatrix, BitMatrix}, adjA::LinearAlgebra.Adjoint{<:Any, <:SparseArrays.AbstractSparseMatrixCSC}) in SparseArrays at C:\\Users\\dan_x\\AppData\\Local\\Programs\\Julia-1.7.3\\share\\julia\\stdlib\\v1.7\\SparseArrays\\src\\linalg.jl:139\n",
       "[37] *(A::Union{SparseArrays.AbstractSparseMatrixCSC{Tv, Ti}, SubArray{Tv, 2, <:SparseArrays.AbstractSparseMatrixCSC{Tv, Ti}, Tuple{Base.Slice{Base.OneTo{Int64}}, I}} where I<:AbstractUnitRange, LinearAlgebra.LowerTriangular{Tv, <:Union{SparseArrays.AbstractSparseMatrixCSC{Tv, Ti}, SubArray{Tv, 2, <:SparseArrays.AbstractSparseMatrixCSC{Tv, Ti}, Tuple{Base.Slice{Base.OneTo{Int64}}, I}} where I<:AbstractUnitRange}}, LinearAlgebra.UpperTriangular{Tv, <:Union{SparseArrays.AbstractSparseMatrixCSC{Tv, Ti}, SubArray{Tv, 2, <:SparseArrays.AbstractSparseMatrixCSC{Tv, Ti}, Tuple{Base.Slice{Base.OneTo{Int64}}, I}} where I<:AbstractUnitRange}}} where {Tv, Ti}, B::LinearAlgebra.Transpose{<:Any, <:SparseArrays.AbstractSparseMatrixCSC}) in SparseArrays at C:\\Users\\dan_x\\AppData\\Local\\Programs\\Julia-1.7.3\\share\\julia\\stdlib\\v1.7\\SparseArrays\\src\\linalg.jl:171\n",
       "[38] *(X::Union{LinearAlgebra.Adjoint{<:Any, <:Union{LinearAlgebra.LowerTriangular, LinearAlgebra.UnitLowerTriangular, LinearAlgebra.UnitUpperTriangular, LinearAlgebra.UpperTriangular, StridedMatrix, BitMatrix}}, LinearAlgebra.LowerTriangular, LinearAlgebra.Transpose{<:Any, <:Union{LinearAlgebra.LowerTriangular, LinearAlgebra.UnitLowerTriangular, LinearAlgebra.UnitUpperTriangular, LinearAlgebra.UpperTriangular, StridedMatrix, BitMatrix}}, LinearAlgebra.UnitLowerTriangular, LinearAlgebra.UnitUpperTriangular, LinearAlgebra.UpperTriangular, StridedMatrix, BitMatrix}, transA::LinearAlgebra.Transpose{<:Any, <:SparseArrays.AbstractSparseMatrixCSC}) in SparseArrays at C:\\Users\\dan_x\\AppData\\Local\\Programs\\Julia-1.7.3\\share\\julia\\stdlib\\v1.7\\SparseArrays\\src\\linalg.jl:141\n",
       "[39] *(A::Union{LinearAlgebra.Bidiagonal, LinearAlgebra.SymTridiagonal, LinearAlgebra.Tridiagonal}, B::Union{LinearAlgebra.Bidiagonal, LinearAlgebra.SymTridiagonal, LinearAlgebra.Tridiagonal}) in SparseArrays at C:\\Users\\dan_x\\AppData\\Local\\Programs\\Julia-1.7.3\\share\\julia\\stdlib\\v1.7\\SparseArrays\\src\\SparseArrays.jl:58\n",
       "[40] *(A::Union{SparseArrays.SparseMatrixCSC{Float64, Ti}, SparseArrays.SparseVector{Float64, Ti}}, B::LinearAlgebra.Symmetric{Float64, SparseArrays.SparseMatrixCSC{Float64, Ti}}) where Ti in SuiteSparse.CHOLMOD at C:\\Users\\dan_x\\AppData\\Local\\Programs\\Julia-1.7.3\\share\\julia\\stdlib\\v1.7\\SuiteSparse\\src\\cholmod.jl:1687\n",
       "[41] *(A::Union{SparseArrays.SparseMatrixCSC{ComplexF64, Ti}, SparseArrays.SparseVector{ComplexF64, Ti}}, B::LinearAlgebra.Hermitian{ComplexF64, SparseArrays.SparseMatrixCSC{ComplexF64, Ti}}) where Ti in SuiteSparse.CHOLMOD at C:\\Users\\dan_x\\AppData\\Local\\Programs\\Julia-1.7.3\\share\\julia\\stdlib\\v1.7\\SuiteSparse\\src\\cholmod.jl:1689\n",
       "[42] *(A::Union{SparseArrays.SparseMatrixCSC{Float64, Ti}, SparseArrays.SparseVector{Float64, Ti}}, B::LinearAlgebra.Hermitian{Float64, SparseArrays.SparseMatrixCSC{Float64, Ti}}) where Ti in SuiteSparse.CHOLMOD at C:\\Users\\dan_x\\AppData\\Local\\Programs\\Julia-1.7.3\\share\\julia\\stdlib\\v1.7\\SuiteSparse\\src\\cholmod.jl:1691\n",
       "[43] *(A::AbstractMatrix{T}, R::LinearAlgebra.AbstractRotation{S}) where {T, S} in LinearAlgebra at C:\\Users\\dan_x\\AppData\\Local\\Programs\\Julia-1.7.3\\share\\julia\\stdlib\\v1.7\\LinearAlgebra\\src\\givens.jl:20\n",
       "[44] *(A::LinearAlgebra.AbstractQ, b::StridedVector{T} where T) in LinearAlgebra at C:\\Users\\dan_x\\AppData\\Local\\Programs\\Julia-1.7.3\\share\\julia\\stdlib\\v1.7\\LinearAlgebra\\src\\qr.jl:636\n",
       "[45] *(A::LinearAlgebra.AbstractQ, B::StridedMatrix{T} where T) in LinearAlgebra at C:\\Users\\dan_x\\AppData\\Local\\Programs\\Julia-1.7.3\\share\\julia\\stdlib\\v1.7\\LinearAlgebra\\src\\qr.jl:648\n",
       "[46] *(A::LinearAlgebra.AbstractQ, b::Number) in LinearAlgebra at C:\\Users\\dan_x\\AppData\\Local\\Programs\\Julia-1.7.3\\share\\julia\\stdlib\\v1.7\\LinearAlgebra\\src\\qr.jl:661\n",
       "[47] *(Q::LinearAlgebra.AbstractQ, adjB::LinearAlgebra.Adjoint{<:Any, <:StridedVecOrMat}) in LinearAlgebra at C:\\Users\\dan_x\\AppData\\Local\\Programs\\Julia-1.7.3\\share\\julia\\stdlib\\v1.7\\LinearAlgebra\\src\\qr.jl:710\n",
       "[48] *(A::SuiteSparse.CHOLMOD.Sparse, B::SuiteSparse.CHOLMOD.Sparse) in SuiteSparse.CHOLMOD at C:\\Users\\dan_x\\AppData\\Local\\Programs\\Julia-1.7.3\\share\\julia\\stdlib\\v1.7\\SuiteSparse\\src\\cholmod.jl:1077\n",
       "[49] *(A::SuiteSparse.CHOLMOD.Sparse, B::SuiteSparse.CHOLMOD.Dense) in SuiteSparse.CHOLMOD at C:\\Users\\dan_x\\AppData\\Local\\Programs\\Julia-1.7.3\\share\\julia\\stdlib\\v1.7\\SuiteSparse\\src\\cholmod.jl:1078\n",
       "[50] *(A::SuiteSparse.CHOLMOD.Sparse, B::VecOrMat) in SuiteSparse.CHOLMOD at C:\\Users\\dan_x\\AppData\\Local\\Programs\\Julia-1.7.3\\share\\julia\\stdlib\\v1.7\\SuiteSparse\\src\\cholmod.jl:1079\n",
       "[51] *(A::SuiteSparse.CHOLMOD.Sparse{Tv}, adjB::LinearAlgebra.Adjoint{Tv, SuiteSparse.CHOLMOD.Sparse{Tv}}) where Tv<:Float64 in SuiteSparse.CHOLMOD at C:\\Users\\dan_x\\AppData\\Local\\Programs\\Julia-1.7.3\\share\\julia\\stdlib\\v1.7\\SuiteSparse\\src\\cholmod.jl:1081\n",
       "[52] *(A::LinearAlgebra.SymTridiagonal, B::Number) in LinearAlgebra at C:\\Users\\dan_x\\AppData\\Local\\Programs\\Julia-1.7.3\\share\\julia\\stdlib\\v1.7\\LinearAlgebra\\src\\tridiag.jl:211\n",
       "[53] *(A::LinearAlgebra.SymTridiagonal, B::LinearAlgebra.Diagonal) in LinearAlgebra at C:\\Users\\dan_x\\AppData\\Local\\Programs\\Julia-1.7.3\\share\\julia\\stdlib\\v1.7\\LinearAlgebra\\src\\bidiag.jl:695\n",
       "[54] *(J1::LinearAlgebra.UniformScaling, J2::LinearAlgebra.UniformScaling) in LinearAlgebra at C:\\Users\\dan_x\\AppData\\Local\\Programs\\Julia-1.7.3\\share\\julia\\stdlib\\v1.7\\LinearAlgebra\\src\\uniformscaling.jl:258\n",
       "[55] *(J::LinearAlgebra.UniformScaling, B::BitMatrix) in LinearAlgebra at C:\\Users\\dan_x\\AppData\\Local\\Programs\\Julia-1.7.3\\share\\julia\\stdlib\\v1.7\\LinearAlgebra\\src\\uniformscaling.jl:260\n",
       "[56] *(J::LinearAlgebra.UniformScaling, x::Number) in LinearAlgebra at C:\\Users\\dan_x\\AppData\\Local\\Programs\\Julia-1.7.3\\share\\julia\\stdlib\\v1.7\\LinearAlgebra\\src\\uniformscaling.jl:265\n",
       "[57] *(x::LinearAlgebra.UniformScaling, H::LinearAlgebra.UpperHessenberg) in LinearAlgebra at C:\\Users\\dan_x\\AppData\\Local\\Programs\\Julia-1.7.3\\share\\julia\\stdlib\\v1.7\\LinearAlgebra\\src\\hessenberg.jl:115\n",
       "[58] *(J::LinearAlgebra.UniformScaling, A::AbstractVecOrMat) in LinearAlgebra at C:\\Users\\dan_x\\AppData\\Local\\Programs\\Julia-1.7.3\\share\\julia\\stdlib\\v1.7\\LinearAlgebra\\src\\uniformscaling.jl:263\n",
       "[59] *(x::Rational, y::Integer) in Base at rational.jl:336\n",
       "[60] *(adjQ::LinearAlgebra.Adjoint{<:Any, <:LinearAlgebra.AbstractQ}, B::StridedVecOrMat) in LinearAlgebra at C:\\Users\\dan_x\\AppData\\Local\\Programs\\Julia-1.7.3\\share\\julia\\stdlib\\v1.7\\LinearAlgebra\\src\\qr.jl:703\n",
       "[61] *(adjA::LinearAlgebra.Adjoint{<:Any, <:StridedMatrix{T}}, x::StridedVector{S}) where {T<:Union{Float32, Float64, ComplexF32, ComplexF64}, S} in LinearAlgebra at C:\\Users\\dan_x\\AppData\\Local\\Programs\\Julia-1.7.3\\share\\julia\\stdlib\\v1.7\\LinearAlgebra\\src\\matmul.jl:105\n",
       "[62] *(adjA::LinearAlgebra.Adjoint{<:Any, <:LinearAlgebra.LQPackedQ}, B::StridedVecOrMat) in LinearAlgebra at C:\\Users\\dan_x\\AppData\\Local\\Programs\\Julia-1.7.3\\share\\julia\\stdlib\\v1.7\\LinearAlgebra\\src\\lq.jl:214\n",
       "[63] *(adjA::LinearAlgebra.Adjoint{<:Any, <:SparseArrays.AbstractSparseMatrixCSC}, x::Union{StridedVector, BitVector}) in SparseArrays at C:\\Users\\dan_x\\AppData\\Local\\Programs\\Julia-1.7.3\\share\\julia\\stdlib\\v1.7\\SparseArrays\\src\\linalg.jl:78\n",
       "[64] *(A::LinearAlgebra.Adjoint{<:Any, <:SparseArrays.AbstractSparseMatrixCSC}, B::Union{SparseArrays.AbstractSparseMatrixCSC{Tv, Ti}, SubArray{Tv, 2, <:SparseArrays.AbstractSparseMatrixCSC{Tv, Ti}, Tuple{Base.Slice{Base.OneTo{Int64}}, I}} where I<:AbstractUnitRange, LinearAlgebra.LowerTriangular{Tv, <:Union{SparseArrays.AbstractSparseMatrixCSC{Tv, Ti}, SubArray{Tv, 2, <:SparseArrays.AbstractSparseMatrixCSC{Tv, Ti}, Tuple{Base.Slice{Base.OneTo{Int64}}, I}} where I<:AbstractUnitRange}}, LinearAlgebra.UpperTriangular{Tv, <:Union{SparseArrays.AbstractSparseMatrixCSC{Tv, Ti}, SubArray{Tv, 2, <:SparseArrays.AbstractSparseMatrixCSC{Tv, Ti}, Tuple{Base.Slice{Base.OneTo{Int64}}, I}} where I<:AbstractUnitRange}}} where {Tv, Ti}) in SparseArrays at C:\\Users\\dan_x\\AppData\\Local\\Programs\\Julia-1.7.3\\share\\julia\\stdlib\\v1.7\\SparseArrays\\src\\linalg.jl:173\n",
       "[65] *(adjA::LinearAlgebra.Adjoint{<:Any, <:SparseArrays.AbstractSparseMatrixCSC}, B::Union{LinearAlgebra.Adjoint{<:Any, <:Union{LinearAlgebra.LowerTriangular, LinearAlgebra.UnitLowerTriangular, LinearAlgebra.UnitUpperTriangular, LinearAlgebra.UpperTriangular, StridedMatrix, BitMatrix}}, LinearAlgebra.LowerTriangular, LinearAlgebra.Transpose{<:Any, <:Union{LinearAlgebra.LowerTriangular, LinearAlgebra.UnitLowerTriangular, LinearAlgebra.UnitUpperTriangular, LinearAlgebra.UpperTriangular, StridedMatrix, BitMatrix}}, LinearAlgebra.UnitLowerTriangular, LinearAlgebra.UnitUpperTriangular, LinearAlgebra.UpperTriangular, StridedMatrix, BitMatrix}) in SparseArrays at C:\\Users\\dan_x\\AppData\\Local\\Programs\\Julia-1.7.3\\share\\julia\\stdlib\\v1.7\\SparseArrays\\src\\linalg.jl:80\n",
       "[66] *(adjA::LinearAlgebra.Adjoint{<:Any, <:Union{LinearAlgebra.Hermitian{Complex{T}, S}, LinearAlgebra.Hermitian{T, S}, LinearAlgebra.Symmetric{T, S}} where {T<:Real, S}}, B::LinearAlgebra.AbstractTriangular) in LinearAlgebra at C:\\Users\\dan_x\\AppData\\Local\\Programs\\Julia-1.7.3\\share\\julia\\stdlib\\v1.7\\LinearAlgebra\\src\\symmetric.jl:630\n",
       "[67] *(A::LinearAlgebra.Adjoint{<:Any, <:AbstractMatrix}, B::LinearAlgebra.AbstractTriangular) in LinearAlgebra at C:\\Users\\dan_x\\AppData\\Local\\Programs\\Julia-1.7.3\\share\\julia\\stdlib\\v1.7\\LinearAlgebra\\src\\triangular.jl:1698\n",
       "[68] *(v::LinearAlgebra.Adjoint{T, <:AbstractVector} where T, A::LinearAlgebra.AbstractTriangular) in LinearAlgebra at C:\\Users\\dan_x\\AppData\\Local\\Programs\\Julia-1.7.3\\share\\julia\\stdlib\\v1.7\\LinearAlgebra\\src\\triangular.jl:1690\n",
       "[69] *(adjA::LinearAlgebra.Adjoint{<:Any, <:StridedMatrix{T} where T}, Q::LinearAlgebra.LQPackedQ) in LinearAlgebra at C:\\Users\\dan_x\\AppData\\Local\\Programs\\Julia-1.7.3\\share\\julia\\stdlib\\v1.7\\LinearAlgebra\\src\\lq.jl:302\n",
       "[70] *(u::LinearAlgebra.Adjoint{<:Number, <:AbstractVector}, v::AbstractVector{<:Number}) in LinearAlgebra at C:\\Users\\dan_x\\AppData\\Local\\Programs\\Julia-1.7.3\\share\\julia\\stdlib\\v1.7\\LinearAlgebra\\src\\adjtrans.jl:291\n",
       "[71] *(adjA::LinearAlgebra.Adjoint{<:Any, <:Union{LinearAlgebra.Hermitian{T, S}, LinearAlgebra.Symmetric{T, S}} where {T<:Real, S}}, adjB::LinearAlgebra.Adjoint{<:Any, <:Union{LinearAlgebra.Hermitian{T, S}, LinearAlgebra.Symmetric{T, S}} where {T<:Real, S}}) in LinearAlgebra at C:\\Users\\dan_x\\AppData\\Local\\Programs\\Julia-1.7.3\\share\\julia\\stdlib\\v1.7\\LinearAlgebra\\src\\symmetric.jl:620\n",
       "[72] *(adjA::LinearAlgebra.Adjoint{<:Any, <:Union{LinearAlgebra.Hermitian{Complex{T}, S}, LinearAlgebra.Hermitian{T, S}, LinearAlgebra.Symmetric{T, S}} where {T<:Real, S}}, adjB::LinearAlgebra.Adjoint{<:Any, <:Union{LinearAlgebra.Hermitian{T, S}, LinearAlgebra.Symmetric{T, S}} where {T<:Real, S}}) in LinearAlgebra at C:\\Users\\dan_x\\AppData\\Local\\Programs\\Julia-1.7.3\\share\\julia\\stdlib\\v1.7\\LinearAlgebra\\src\\symmetric.jl:624\n",
       "[73] *(adjA::LinearAlgebra.Adjoint{<:Any, <:Union{LinearAlgebra.Hermitian{Complex{T}, S}, LinearAlgebra.Hermitian{T, S}, LinearAlgebra.Symmetric{T, S}} where {T<:Real, S}}, adjB::LinearAlgebra.Adjoint{<:Any, <:Union{LinearAlgebra.Hermitian{T, S}, LinearAlgebra.Symmetric{Complex{T}, S}, LinearAlgebra.Symmetric{T, S}} where {T<:Real, S}}) in LinearAlgebra at C:\\Users\\dan_x\\AppData\\Local\\Programs\\Julia-1.7.3\\share\\julia\\stdlib\\v1.7\\LinearAlgebra\\src\\symmetric.jl:625\n",
       "[74] *(adjA::LinearAlgebra.Adjoint{<:Any, <:Union{LinearAlgebra.Hermitian{T, S}, LinearAlgebra.Symmetric{T, S}} where {T<:Real, S}}, adjB::LinearAlgebra.Adjoint{<:Any, <:Union{LinearAlgebra.Hermitian{Complex{T}, S}, LinearAlgebra.Hermitian{T, S}, LinearAlgebra.Symmetric{T, S}} where {T<:Real, S}}) in LinearAlgebra at C:\\Users\\dan_x\\AppData\\Local\\Programs\\Julia-1.7.3\\share\\julia\\stdlib\\v1.7\\LinearAlgebra\\src\\symmetric.jl:622\n",
       "[75] *(adjA::LinearAlgebra.Adjoint{<:Any, <:Union{LinearAlgebra.Hermitian{T, S}, LinearAlgebra.Symmetric{Complex{T}, S}, LinearAlgebra.Symmetric{T, S}} where {T<:Real, S}}, adjB::LinearAlgebra.Adjoint{<:Any, <:Union{LinearAlgebra.Hermitian{Complex{T}, S}, LinearAlgebra.Hermitian{T, S}, LinearAlgebra.Symmetric{T, S}} where {T<:Real, S}}) in LinearAlgebra at C:\\Users\\dan_x\\AppData\\Local\\Programs\\Julia-1.7.3\\share\\julia\\stdlib\\v1.7\\LinearAlgebra\\src\\symmetric.jl:623\n",
       "[76] *(adjA::LinearAlgebra.Adjoint{<:Any, <:Union{LinearAlgebra.Hermitian{Complex{T}, S}, LinearAlgebra.Hermitian{T, S}, LinearAlgebra.Symmetric{T, S}} where {T<:Real, S}}, adjB::LinearAlgebra.Adjoint{<:Any, <:Union{LinearAlgebra.Hermitian{Complex{T}, S}, LinearAlgebra.Hermitian{T, S}, LinearAlgebra.Symmetric{T, S}} where {T<:Real, S}}) in LinearAlgebra at C:\\Users\\dan_x\\AppData\\Local\\Programs\\Julia-1.7.3\\share\\julia\\stdlib\\v1.7\\LinearAlgebra\\src\\symmetric.jl:621\n",
       "[77] *(adjA::LinearAlgebra.Adjoint{<:Any, <:StridedMatrix{T} where T}, adjQ::LinearAlgebra.Adjoint{<:Any, <:LinearAlgebra.LQPackedQ}) in LinearAlgebra at C:\\Users\\dan_x\\AppData\\Local\\Programs\\Julia-1.7.3\\share\\julia\\stdlib\\v1.7\\LinearAlgebra\\src\\lq.jl:271\n",
       "[78] *(adjA::LinearAlgebra.Adjoint{<:Any, <:LinearAlgebra.LQPackedQ}, adjB::LinearAlgebra.Adjoint{<:Any, <:StridedVecOrMat}) in LinearAlgebra at C:\\Users\\dan_x\\AppData\\Local\\Programs\\Julia-1.7.3\\share\\julia\\stdlib\\v1.7\\LinearAlgebra\\src\\lq.jl:234\n",
       "[79] *(adjA::LinearAlgebra.Adjoint{<:Any, <:StridedVecOrMat}, adjQ::LinearAlgebra.Adjoint{<:Any, <:LinearAlgebra.AbstractQ}) in LinearAlgebra at C:\\Users\\dan_x\\AppData\\Local\\Programs\\Julia-1.7.3\\share\\julia\\stdlib\\v1.7\\LinearAlgebra\\src\\qr.jl:827\n",
       "[80] *(u::LinearAlgebra.Adjoint{T, <:AbstractVector} where T, v::LinearAlgebra.Adjoint{<:Any, <:LinearAlgebra.Transpose{T, <:AbstractVector} where T}) in LinearAlgebra at C:\\Users\\dan_x\\AppData\\Local\\Programs\\Julia-1.7.3\\share\\julia\\stdlib\\v1.7\\LinearAlgebra\\src\\adjtrans.jl:306\n",
       "[81] *(adjQ::LinearAlgebra.Adjoint{<:Any, <:LinearAlgebra.AbstractQ}, adjB::LinearAlgebra.Adjoint{<:Any, <:StridedVecOrMat}) in LinearAlgebra at C:\\Users\\dan_x\\AppData\\Local\\Programs\\Julia-1.7.3\\share\\julia\\stdlib\\v1.7\\LinearAlgebra\\src\\qr.jl:717\n",
       "[82] *(u::LinearAlgebra.Adjoint{T, <:AbstractVector} where T, A::LinearAlgebra.Adjoint{<:Any, <:LinearAlgebra.AbstractQ}) in LinearAlgebra at C:\\Users\\dan_x\\AppData\\Local\\Programs\\Julia-1.7.3\\share\\julia\\stdlib\\v1.7\\LinearAlgebra\\src\\qr.jl:816\n",
       "[83] *(A::LinearAlgebra.Adjoint{<:Any, <:LinearAlgebra.AbstractTriangular}, B::LinearAlgebra.Adjoint{<:Any, <:Union{LinearAlgebra.Hermitian{Complex{T}, S}, LinearAlgebra.Hermitian{T, S}, LinearAlgebra.Symmetric{T, S}} where {T<:Real, S}}) in LinearAlgebra at C:\\Users\\dan_x\\AppData\\Local\\Programs\\Julia-1.7.3\\share\\julia\\stdlib\\v1.7\\LinearAlgebra\\src\\symmetric.jl:911\n",
       "[84] *(A::LinearAlgebra.Adjoint{<:Any, <:Union{LinearAlgebra.Hermitian{Complex{T}, S}, LinearAlgebra.Hermitian{T, S}, LinearAlgebra.Symmetric{T, S}} where {T<:Real, S}}, B::LinearAlgebra.Adjoint{<:Any, <:LinearAlgebra.AbstractTriangular}) in LinearAlgebra at C:\\Users\\dan_x\\AppData\\Local\\Programs\\Julia-1.7.3\\share\\julia\\stdlib\\v1.7\\LinearAlgebra\\src\\symmetric.jl:915\n",
       "[85] *(D::LinearAlgebra.Adjoint{<:Any, <:LinearAlgebra.Diagonal}, B::LinearAlgebra.Adjoint{<:Any, <:LinearAlgebra.Diagonal}) in LinearAlgebra at C:\\Users\\dan_x\\AppData\\Local\\Programs\\Julia-1.7.3\\share\\julia\\stdlib\\v1.7\\LinearAlgebra\\src\\diagonal.jl:319\n",
       "[86] *(adjA::LinearAlgebra.Adjoint{<:Any, <:Union{LinearAlgebra.Hermitian{Complex{T}, S}, LinearAlgebra.Hermitian{T, S}, LinearAlgebra.Symmetric{T, S}} where {T<:Real, S}}, adjD::LinearAlgebra.Adjoint{<:Any, <:LinearAlgebra.Diagonal}) in LinearAlgebra at C:\\Users\\dan_x\\AppData\\Local\\Programs\\Julia-1.7.3\\share\\julia\\stdlib\\v1.7\\LinearAlgebra\\src\\diagonal.jl:424\n",
       "[87] *(A::LinearAlgebra.Adjoint{<:Any, <:Union{LinearAlgebra.Hermitian{Complex{T}, S}, LinearAlgebra.Hermitian{T, S}, LinearAlgebra.Symmetric{T, S}} where {T<:Real, S}}, B::LinearAlgebra.Adjoint{<:Any, <:AbstractVector}) in LinearAlgebra at C:\\Users\\dan_x\\AppData\\Local\\Programs\\Julia-1.7.3\\share\\julia\\stdlib\\v1.7\\LinearAlgebra\\src\\symmetric.jl:901\n",
       "[88] *(A::LinearAlgebra.Adjoint{<:Any, <:Union{LinearAlgebra.Hermitian{Complex{T}, S}, LinearAlgebra.Hermitian{T, S}, LinearAlgebra.Symmetric{T, S}} where {T<:Real, S}}, B::LinearAlgebra.Adjoint{<:Any, <:AbstractMatrix}) in LinearAlgebra at C:\\Users\\dan_x\\AppData\\Local\\Programs\\Julia-1.7.3\\share\\julia\\stdlib\\v1.7\\LinearAlgebra\\src\\symmetric.jl:902\n",
       "[89] *(adjD::LinearAlgebra.Adjoint{<:Any, <:LinearAlgebra.Diagonal}, adjA::LinearAlgebra.Adjoint{<:Any, <:Union{LinearAlgebra.Hermitian{Complex{T}, S}, LinearAlgebra.Hermitian{T, S}, LinearAlgebra.Symmetric{T, S}} where {T<:Real, S}}) in LinearAlgebra at C:\\Users\\dan_x\\AppData\\Local\\Programs\\Julia-1.7.3\\share\\julia\\stdlib\\v1.7\\LinearAlgebra\\src\\diagonal.jl:425\n",
       "[90] *(A::LinearAlgebra.Adjoint{<:Any, <:AbstractVector}, B::LinearAlgebra.Adjoint{<:Any, <:Union{LinearAlgebra.Hermitian{Complex{T}, S}, LinearAlgebra.Hermitian{T, S}, LinearAlgebra.Symmetric{T, S}} where {T<:Real, S}}) in LinearAlgebra at C:\\Users\\dan_x\\AppData\\Local\\Programs\\Julia-1.7.3\\share\\julia\\stdlib\\v1.7\\LinearAlgebra\\src\\symmetric.jl:892\n",
       "[91] *(A::LinearAlgebra.Adjoint{<:Any, <:AbstractMatrix}, B::LinearAlgebra.Adjoint{<:Any, <:Union{LinearAlgebra.Hermitian{Complex{T}, S}, LinearAlgebra.Hermitian{T, S}, LinearAlgebra.Symmetric{T, S}} where {T<:Real, S}}) in LinearAlgebra at C:\\Users\\dan_x\\AppData\\Local\\Programs\\Julia-1.7.3\\share\\julia\\stdlib\\v1.7\\LinearAlgebra\\src\\symmetric.jl:893\n",
       "[92] *(A::LinearAlgebra.Adjoint{<:Any, <:LinearAlgebra.AbstractTriangular}, B::LinearAlgebra.Adjoint{<:Any, <:LinearAlgebra.AbstractRotation}) in LinearAlgebra at C:\\Users\\dan_x\\AppData\\Local\\Programs\\Julia-1.7.3\\share\\julia\\stdlib\\v1.7\\LinearAlgebra\\src\\givens.jl:407\n",
       "[93] *(A::LinearAlgebra.Adjoint{<:Any, <:Union{LinearAlgebra.Hermitian{Complex{T}, S}, LinearAlgebra.Hermitian{T, S}, LinearAlgebra.Symmetric{T, S}} where {T<:Real, S}}, B::LinearAlgebra.Adjoint{<:Any, <:LinearAlgebra.AbstractRotation}) in LinearAlgebra at C:\\Users\\dan_x\\AppData\\Local\\Programs\\Julia-1.7.3\\share\\julia\\stdlib\\v1.7\\LinearAlgebra\\src\\givens.jl:409\n",
       "[94] *(A::LinearAlgebra.Adjoint{<:Any, <:AbstractVector}, B::LinearAlgebra.Adjoint{<:Any, <:LinearAlgebra.AbstractRotation}) in LinearAlgebra at C:\\Users\\dan_x\\AppData\\Local\\Programs\\Julia-1.7.3\\share\\julia\\stdlib\\v1.7\\LinearAlgebra\\src\\givens.jl:402\n",
       "[95] *(A::LinearAlgebra.Adjoint{<:Any, <:AbstractMatrix}, B::LinearAlgebra.Adjoint{<:Any, <:LinearAlgebra.AbstractRotation}) in LinearAlgebra at C:\\Users\\dan_x\\AppData\\Local\\Programs\\Julia-1.7.3\\share\\julia\\stdlib\\v1.7\\LinearAlgebra\\src\\givens.jl:403\n",
       "[96] *(A::LinearAlgebra.Adjoint{<:Any, <:SparseArrays.AbstractSparseMatrixCSC}, B::LinearAlgebra.Adjoint{<:Any, <:SparseArrays.AbstractSparseMatrixCSC}) in SparseArrays at C:\\Users\\dan_x\\AppData\\Local\\Programs\\Julia-1.7.3\\share\\julia\\stdlib\\v1.7\\SparseArrays\\src\\linalg.jl:174\n",
       "[97] *(u::LinearAlgebra.Adjoint{T, <:AbstractVector} where T, v::LinearAlgebra.Adjoint{T, <:AbstractVector} where T) in LinearAlgebra at C:\\Users\\dan_x\\AppData\\Local\\Programs\\Julia-1.7.3\\share\\julia\\stdlib\\v1.7\\LinearAlgebra\\src\\adjtrans.jl:300\n",
       "[98] *(u::LinearAlgebra.Adjoint{T, <:AbstractVector} where T, v::LinearAlgebra.Transpose{<:Any, <:LinearAlgebra.Adjoint{T, <:AbstractVector} where T}) in LinearAlgebra at C:\\Users\\dan_x\\AppData\\Local\\Programs\\Julia-1.7.3\\share\\julia\\stdlib\\v1.7\\LinearAlgebra\\src\\adjtrans.jl:308\n",
       "[99] *(A::LinearAlgebra.Adjoint{<:Any, <:Union{LinearAlgebra.Hermitian{Complex{T}, S}, LinearAlgebra.Hermitian{T, S}, LinearAlgebra.Symmetric{T, S}} where {T<:Real, S}}, B::LinearAlgebra.Transpose{<:Any, <:Union{LinearAlgebra.Hermitian{T, S}, LinearAlgebra.Symmetric{Complex{T}, S}, LinearAlgebra.Symmetric{T, S}} where {T<:Real, S}}) in LinearAlgebra at C:\\Users\\dan_x\\AppData\\Local\\Programs\\Julia-1.7.3\\share\\julia\\stdlib\\v1.7\\LinearAlgebra\\src\\symmetric.jl:889\n",
       "[100] *(A::LinearAlgebra.Adjoint{<:Any, <:LinearAlgebra.AbstractTriangular}, B::LinearAlgebra.Transpose{<:Any, <:Union{LinearAlgebra.Hermitian{T, S}, LinearAlgebra.Symmetric{Complex{T}, S}, LinearAlgebra.Symmetric{T, S}} where {T<:Real, S}}) in LinearAlgebra at C:\\Users\\dan_x\\AppData\\Local\\Programs\\Julia-1.7.3\\share\\julia\\stdlib\\v1.7\\LinearAlgebra\\src\\symmetric.jl:912\n",
       "[101] *(A::LinearAlgebra.Adjoint{<:Any, <:AbstractVector}, B::LinearAlgebra.Transpose{<:Any, <:Union{LinearAlgebra.Hermitian{T, S}, LinearAlgebra.Symmetric{Complex{T}, S}, LinearAlgebra.Symmetric{T, S}} where {T<:Real, S}}) in LinearAlgebra at C:\\Users\\dan_x\\AppData\\Local\\Programs\\Julia-1.7.3\\share\\julia\\stdlib\\v1.7\\LinearAlgebra\\src\\symmetric.jl:894\n",
       "[102] *(A::LinearAlgebra.Adjoint{<:Any, <:AbstractMatrix}, B::LinearAlgebra.Transpose{<:Any, <:Union{LinearAlgebra.Hermitian{T, S}, LinearAlgebra.Symmetric{Complex{T}, S}, LinearAlgebra.Symmetric{T, S}} where {T<:Real, S}}) in LinearAlgebra at C:\\Users\\dan_x\\AppData\\Local\\Programs\\Julia-1.7.3\\share\\julia\\stdlib\\v1.7\\LinearAlgebra\\src\\symmetric.jl:895\n",
       "[103] *(A::LinearAlgebra.Adjoint{<:Any, <:Union{LinearAlgebra.Hermitian{Complex{T}, S}, LinearAlgebra.Hermitian{T, S}, LinearAlgebra.Symmetric{T, S}} where {T<:Real, S}}, B::LinearAlgebra.Transpose{<:Any, <:LinearAlgebra.AbstractTriangular}) in LinearAlgebra at C:\\Users\\dan_x\\AppData\\Local\\Programs\\Julia-1.7.3\\share\\julia\\stdlib\\v1.7\\LinearAlgebra\\src\\symmetric.jl:916\n",
       "[104] *(A::LinearAlgebra.Adjoint{<:Any, <:Union{LinearAlgebra.Hermitian{Complex{T}, S}, LinearAlgebra.Hermitian{T, S}, LinearAlgebra.Symmetric{T, S}} where {T<:Real, S}}, B::LinearAlgebra.Transpose{<:Any, <:AbstractVector}) in LinearAlgebra at C:\\Users\\dan_x\\AppData\\Local\\Programs\\Julia-1.7.3\\share\\julia\\stdlib\\v1.7\\LinearAlgebra\\src\\symmetric.jl:903\n",
       "[105] *(A::LinearAlgebra.Adjoint{<:Any, <:Union{LinearAlgebra.Hermitian{Complex{T}, S}, LinearAlgebra.Hermitian{T, S}, LinearAlgebra.Symmetric{T, S}} where {T<:Real, S}}, B::LinearAlgebra.Transpose{<:Any, <:AbstractMatrix}) in LinearAlgebra at C:\\Users\\dan_x\\AppData\\Local\\Programs\\Julia-1.7.3\\share\\julia\\stdlib\\v1.7\\LinearAlgebra\\src\\symmetric.jl:904\n",
       "[106] *(adjA::LinearAlgebra.Adjoint{<:Any, <:StridedVecOrMat}, Q::LinearAlgebra.AbstractQ) in LinearAlgebra at C:\\Users\\dan_x\\AppData\\Local\\Programs\\Julia-1.7.3\\share\\julia\\stdlib\\v1.7\\LinearAlgebra\\src\\qr.jl:820\n",
       "[107] *(adjA::LinearAlgebra.Adjoint{<:Any, <:SuiteSparse.CHOLMOD.Sparse}, B::SuiteSparse.CHOLMOD.Sparse) in SuiteSparse.CHOLMOD at C:\\Users\\dan_x\\AppData\\Local\\Programs\\Julia-1.7.3\\share\\julia\\stdlib\\v1.7\\SuiteSparse\\src\\cholmod.jl:1102\n",
       "[108] *(D::LinearAlgebra.Adjoint{<:Any, <:LinearAlgebra.Diagonal}, B::LinearAlgebra.Diagonal) in LinearAlgebra at C:\\Users\\dan_x\\AppData\\Local\\Programs\\Julia-1.7.3\\share\\julia\\stdlib\\v1.7\\LinearAlgebra\\src\\diagonal.jl:278\n",
       "[109] *(A::LinearAlgebra.Adjoint{<:Any, <:LinearAlgebra.AbstractTriangular}, D::LinearAlgebra.Diagonal) in LinearAlgebra at C:\\Users\\dan_x\\AppData\\Local\\Programs\\Julia-1.7.3\\share\\julia\\stdlib\\v1.7\\LinearAlgebra\\src\\diagonal.jl:279\n",
       "[110] *(adjA::LinearAlgebra.Adjoint{<:Any, <:Union{LinearAlgebra.Hermitian{Complex{T}, S}, LinearAlgebra.Hermitian{T, S}, LinearAlgebra.Symmetric{T, S}} where {T<:Real, S}}, B::LinearAlgebra.Diagonal) in LinearAlgebra at C:\\Users\\dan_x\\AppData\\Local\\Programs\\Julia-1.7.3\\share\\julia\\stdlib\\v1.7\\LinearAlgebra\\src\\diagonal.jl:421\n",
       "[111] *(adjA::LinearAlgebra.Adjoint{<:Any, <:Union{LinearAlgebra.Hermitian{Complex{T}, S}, LinearAlgebra.Hermitian{T, S}, LinearAlgebra.Symmetric{T, S}} where {T<:Real, S}}, B::AbstractVector) in LinearAlgebra at C:\\Users\\dan_x\\AppData\\Local\\Programs\\Julia-1.7.3\\share\\julia\\stdlib\\v1.7\\LinearAlgebra\\src\\symmetric.jl:609\n",
       "[112] *(adjA::LinearAlgebra.Adjoint{<:Any, <:Union{LinearAlgebra.Hermitian{Complex{T}, S}, LinearAlgebra.Hermitian{T, S}, LinearAlgebra.Symmetric{T, S}} where {T<:Real, S}}, B::AbstractMatrix) in LinearAlgebra at C:\\Users\\dan_x\\AppData\\Local\\Programs\\Julia-1.7.3\\share\\julia\\stdlib\\v1.7\\LinearAlgebra\\src\\symmetric.jl:610\n",
       "[113] *(adjA::LinearAlgebra.Adjoint{<:Any, <:AbstractMatrix}, D::LinearAlgebra.Diagonal) in LinearAlgebra at C:\\Users\\dan_x\\AppData\\Local\\Programs\\Julia-1.7.3\\share\\julia\\stdlib\\v1.7\\LinearAlgebra\\src\\diagonal.jl:281\n",
       "[114] *(x::LinearAlgebra.Adjoint{<:Any, <:AbstractVector}, D::LinearAlgebra.Diagonal) in LinearAlgebra at C:\\Users\\dan_x\\AppData\\Local\\Programs\\Julia-1.7.3\\share\\julia\\stdlib\\v1.7\\LinearAlgebra\\src\\diagonal.jl:676\n",
       "[115] *(x::LinearAlgebra.Adjoint{<:Any, <:AbstractVector}, D::LinearAlgebra.Diagonal, y::AbstractVector) in LinearAlgebra at C:\\Users\\dan_x\\AppData\\Local\\Programs\\Julia-1.7.3\\share\\julia\\stdlib\\v1.7\\LinearAlgebra\\src\\diagonal.jl:678\n",
       "[116] *(adjA::LinearAlgebra.Adjoint{<:Any, <:SuiteSparse.CHOLMOD.Sparse}, B::SuiteSparse.CHOLMOD.Dense) in SuiteSparse.CHOLMOD at C:\\Users\\dan_x\\AppData\\Local\\Programs\\Julia-1.7.3\\share\\julia\\stdlib\\v1.7\\SuiteSparse\\src\\cholmod.jl:1112\n",
       "[117] *(adjA::LinearAlgebra.Adjoint{<:Any, <:Union{LinearAlgebra.LowerTriangular{Ta, S} where S<:AbstractMatrix{Ta}, LinearAlgebra.UnitLowerTriangular{Ta, S} where S<:AbstractMatrix{Ta}, LinearAlgebra.UnitUpperTriangular{Ta, S} where S<:AbstractMatrix{Ta}, LinearAlgebra.UpperTriangular{Ta, S} where S<:AbstractMatrix{Ta}, StridedArray{Ta, 2}}}, x::SparseArrays.AbstractSparseVector{Tx}) where {Ta, Tx} in SparseArrays at C:\\Users\\dan_x\\AppData\\Local\\Programs\\Julia-1.7.3\\share\\julia\\stdlib\\v1.7\\SparseArrays\\src\\sparsevector.jl:1642\n",
       "[118] *(adjA::LinearAlgebra.Adjoint{<:Any, <:SparseArrays.AbstractSparseMatrixCSC}, x::SparseArrays.AbstractSparseVector) in SparseArrays at C:\\Users\\dan_x\\AppData\\Local\\Programs\\Julia-1.7.3\\share\\julia\\stdlib\\v1.7\\SparseArrays\\src\\sparsevector.jl:1797\n",
       "[119] *(adjA::LinearAlgebra.Adjoint{<:Any, <:SuiteSparse.CHOLMOD.Sparse}, B::VecOrMat) in SuiteSparse.CHOLMOD at C:\\Users\\dan_x\\AppData\\Local\\Programs\\Julia-1.7.3\\share\\julia\\stdlib\\v1.7\\SuiteSparse\\src\\cholmod.jl:1114\n",
       "[120] *(x::LinearAlgebra.Adjoint{T, <:AbstractVector} where T, A::AbstractMatrix) in LinearAlgebra at C:\\Users\\dan_x\\AppData\\Local\\Programs\\Julia-1.7.3\\share\\julia\\stdlib\\v1.7\\LinearAlgebra\\src\\matmul.jl:133\n",
       "[121] *(adjA::LinearAlgebra.Adjoint{<:Any, <:AbstractMatrix{T}}, x::AbstractVector{S}) where {T, S} in LinearAlgebra at C:\\Users\\dan_x\\AppData\\Local\\Programs\\Julia-1.7.3\\share\\julia\\stdlib\\v1.7\\LinearAlgebra\\src\\matmul.jl:110\n",
       "[122] *(z::Complex, w::Complex) in Base at complex.jl:290\n",
       "[123] *(A::LinearAlgebra.Symmetric, x::Number) in LinearAlgebra at C:\\Users\\dan_x\\AppData\\Local\\Programs\\Julia-1.7.3\\share\\julia\\stdlib\\v1.7\\LinearAlgebra\\src\\symmetric.jl:634\n",
       "[124] *(A::LinearAlgebra.Symmetric{Float64, SparseArrays.SparseMatrixCSC{Float64, Ti}}, B::Union{SparseArrays.SparseMatrixCSC{Float64, Ti}, SparseArrays.SparseVector{Float64, Ti}}) where Ti in SuiteSparse.CHOLMOD at C:\\Users\\dan_x\\AppData\\Local\\Programs\\Julia-1.7.3\\share\\julia\\stdlib\\v1.7\\SuiteSparse\\src\\cholmod.jl:1680\n",
       "[125] *(A::LinearAlgebra.UnitLowerTriangular, x::Number) in LinearAlgebra at C:\\Users\\dan_x\\AppData\\Local\\Programs\\Julia-1.7.3\\share\\julia\\stdlib\\v1.7\\LinearAlgebra\\src\\triangular.jl:851\n",
       "[126] *(A::LinearAlgebra.UnitLowerTriangular, B::LinearAlgebra.LowerTriangular) in LinearAlgebra at C:\\Users\\dan_x\\AppData\\Local\\Programs\\Julia-1.7.3\\share\\julia\\stdlib\\v1.7\\LinearAlgebra\\src\\triangular.jl:1514\n",
       "[127] *(A::LinearAlgebra.UnitLowerTriangular, B::LinearAlgebra.UnitLowerTriangular) in LinearAlgebra at C:\\Users\\dan_x\\AppData\\Local\\Programs\\Julia-1.7.3\\share\\julia\\stdlib\\v1.7\\LinearAlgebra\\src\\triangular.jl:1530\n",
       "[128] *(a::Number, x::Union{SparseArrays.SparseVector{Tv, Ti}, SubArray{Tv, 1, <:SparseArrays.AbstractSparseVector{Tv, Ti}, Tuple{Base.Slice{Base.OneTo{Int64}}}, false}, SubArray{Tv, 1, <:SparseArrays.AbstractSparseMatrixCSC{Tv, Ti}, Tuple{Base.Slice{Base.OneTo{Int64}}, Int64}, false}} where {Tv, Ti}) in SparseArrays at C:\\Users\\dan_x\\AppData\\Local\\Programs\\Julia-1.7.3\\share\\julia\\stdlib\\v1.7\\SparseArrays\\src\\sparsevector.jl:1475\n",
       "[129] *(B::Number, A::LinearAlgebra.Bidiagonal) in LinearAlgebra at C:\\Users\\dan_x\\AppData\\Local\\Programs\\Julia-1.7.3\\share\\julia\\stdlib\\v1.7\\LinearAlgebra\\src\\bidiag.jl:374\n",
       "[130] *(x::Number, D::LinearAlgebra.Diagonal) in LinearAlgebra at C:\\Users\\dan_x\\AppData\\Local\\Programs\\Julia-1.7.3\\share\\julia\\stdlib\\v1.7\\LinearAlgebra\\src\\diagonal.jl:190\n",
       "[131] *(x::Number, A::LinearAlgebra.LowerTriangular) in LinearAlgebra at C:\\Users\\dan_x\\AppData\\Local\\Programs\\Julia-1.7.3\\share\\julia\\stdlib\\v1.7\\LinearAlgebra\\src\\triangular.jl:859\n",
       "[132] *(x::Number, A::LinearAlgebra.Symmetric) in LinearAlgebra at C:\\Users\\dan_x\\AppData\\Local\\Programs\\Julia-1.7.3\\share\\julia\\stdlib\\v1.7\\LinearAlgebra\\src\\symmetric.jl:635\n",
       "[133] *(a::Number, B::LinearAlgebra.AbstractQ) in LinearAlgebra at C:\\Users\\dan_x\\AppData\\Local\\Programs\\Julia-1.7.3\\share\\julia\\stdlib\\v1.7\\LinearAlgebra\\src\\qr.jl:761\n",
       "[134] *(v::Number, x::Base.TwicePrecision) in Base at twiceprecision.jl:306\n",
       "[135] *(x::Number, A::LinearAlgebra.UnitLowerTriangular) in LinearAlgebra at C:\\Users\\dan_x\\AppData\\Local\\Programs\\Julia-1.7.3\\share\\julia\\stdlib\\v1.7\\LinearAlgebra\\src\\triangular.jl:861\n",
       "[136] *(x::Number, A::LinearAlgebra.UnitUpperTriangular) in LinearAlgebra at C:\\Users\\dan_x\\AppData\\Local\\Programs\\Julia-1.7.3\\share\\julia\\stdlib\\v1.7\\LinearAlgebra\\src\\triangular.jl:861\n",
       "[137] *(B::Number, A::LinearAlgebra.SymTridiagonal) in LinearAlgebra at C:\\Users\\dan_x\\AppData\\Local\\Programs\\Julia-1.7.3\\share\\julia\\stdlib\\v1.7\\LinearAlgebra\\src\\tridiag.jl:212\n",
       "[138] *(B::Number, A::LinearAlgebra.Tridiagonal) in LinearAlgebra at C:\\Users\\dan_x\\AppData\\Local\\Programs\\Julia-1.7.3\\share\\julia\\stdlib\\v1.7\\LinearAlgebra\\src\\tridiag.jl:743\n",
       "[139] *(x::Number, J::LinearAlgebra.UniformScaling) in LinearAlgebra at C:\\Users\\dan_x\\AppData\\Local\\Programs\\Julia-1.7.3\\share\\julia\\stdlib\\v1.7\\LinearAlgebra\\src\\uniformscaling.jl:264\n",
       "[140] *(x::Number, A::LinearAlgebra.UpperTriangular) in LinearAlgebra at C:\\Users\\dan_x\\AppData\\Local\\Programs\\Julia-1.7.3\\share\\julia\\stdlib\\v1.7\\LinearAlgebra\\src\\triangular.jl:859\n",
       "[141] *(x::S, F::LinearAlgebra.Hessenberg{<:Any, <:AbstractMatrix{T}}) where {T, S<:Number} in LinearAlgebra at C:\\Users\\dan_x\\AppData\\Local\\Programs\\Julia-1.7.3\\share\\julia\\stdlib\\v1.7\\LinearAlgebra\\src\\hessenberg.jl:629\n",
       "[142] *(x::Number, H::LinearAlgebra.UpperHessenberg) in LinearAlgebra at C:\\Users\\dan_x\\AppData\\Local\\Programs\\Julia-1.7.3\\share\\julia\\stdlib\\v1.7\\LinearAlgebra\\src\\hessenberg.jl:115\n",
       "[143] *(::Number, ::Missing) in Base at missing.jl:124\n",
       "[144] *(A::LinearAlgebra.UpperTriangular, x::Number) in LinearAlgebra at C:\\Users\\dan_x\\AppData\\Local\\Programs\\Julia-1.7.3\\share\\julia\\stdlib\\v1.7\\LinearAlgebra\\src\\triangular.jl:849\n",
       "[145] *(A::LinearAlgebra.UpperTriangular, B::LinearAlgebra.UpperTriangular) in LinearAlgebra at C:\\Users\\dan_x\\AppData\\Local\\Programs\\Julia-1.7.3\\share\\julia\\stdlib\\v1.7\\LinearAlgebra\\src\\triangular.jl:1538\n",
       "[146] *(A::LinearAlgebra.UpperTriangular, B::LinearAlgebra.UnitUpperTriangular) in LinearAlgebra at C:\\Users\\dan_x\\AppData\\Local\\Programs\\Julia-1.7.3\\share\\julia\\stdlib\\v1.7\\LinearAlgebra\\src\\triangular.jl:1554\n",
       "[147] *(r::StepRangeLen{<:Real, <:Base.TwicePrecision}, x::Real) in Base at twiceprecision.jl:523\n",
       "[148] *(x::Real, r::StepRangeLen{<:Real, <:Base.TwicePrecision}) in Base at twiceprecision.jl:521\n",
       "[149] *(x::Real, A::LinearAlgebra.Hermitian) in LinearAlgebra at C:\\Users\\dan_x\\AppData\\Local\\Programs\\Julia-1.7.3\\share\\julia\\stdlib\\v1.7\\LinearAlgebra\\src\\symmetric.jl:637\n",
       "[150] *(α::Union{Real, Complex}, B::AbstractMatrix{<:Union{Real, Complex}}, C::AbstractVector{<:Union{Real, Complex}}) in LinearAlgebra at C:\\Users\\dan_x\\AppData\\Local\\Programs\\Julia-1.7.3\\share\\julia\\stdlib\\v1.7\\LinearAlgebra\\src\\matmul.jl:1111\n",
       "[151] *(α::Union{Real, Complex}, B::AbstractMatrix{<:Union{Real, Complex}}, C::AbstractMatrix{<:Union{Real, Complex}}) in LinearAlgebra at C:\\Users\\dan_x\\AppData\\Local\\Programs\\Julia-1.7.3\\share\\julia\\stdlib\\v1.7\\LinearAlgebra\\src\\matmul.jl:1113\n",
       "[152] *(α::Union{Real, Complex}, B::AbstractMatrix{<:Union{Real, Complex}}, C::AbstractMatrix{<:Union{Real, Complex}}, D::AbstractMatrix{<:Union{Real, Complex}}) in LinearAlgebra at C:\\Users\\dan_x\\AppData\\Local\\Programs\\Julia-1.7.3\\share\\julia\\stdlib\\v1.7\\LinearAlgebra\\src\\matmul.jl:1187\n",
       "[153] *(α::Number, B::AbstractMatrix, C::AbstractMatrix, x::AbstractVector) in LinearAlgebra at C:\\Users\\dan_x\\AppData\\Local\\Programs\\Julia-1.7.3\\share\\julia\\stdlib\\v1.7\\LinearAlgebra\\src\\matmul.jl:1170\n",
       "[154] *(α::Number, u::AbstractVector, tv::Union{LinearAlgebra.Adjoint{T, var\"#s861\"}, LinearAlgebra.Transpose{T, var\"#s861\"}} where {T, var\"#s861\"<:(AbstractVector)}) in LinearAlgebra at C:\\Users\\dan_x\\AppData\\Local\\Programs\\Julia-1.7.3\\share\\julia\\stdlib\\v1.7\\LinearAlgebra\\src\\matmul.jl:1116\n",
       "[155] *(A::Number, B::AbstractArray) in Base at arraymath.jl:52\n",
       "[156] *(y::Real, x::Dates.Period) in Dates at C:\\Users\\dan_x\\AppData\\Local\\Programs\\Julia-1.7.3\\share\\julia\\stdlib\\v1.7\\Dates\\src\\periods.jl:95\n",
       "[157] *(G1::LinearAlgebra.Givens{T}, G2::LinearAlgebra.Givens{T}) where T in LinearAlgebra at C:\\Users\\dan_x\\AppData\\Local\\Programs\\Julia-1.7.3\\share\\julia\\stdlib\\v1.7\\LinearAlgebra\\src\\givens.jl:396\n",
       "[158] *(A::LinearAlgebra.LQPackedQ, B::StridedVecOrMat) in LinearAlgebra at C:\\Users\\dan_x\\AppData\\Local\\Programs\\Julia-1.7.3\\share\\julia\\stdlib\\v1.7\\LinearAlgebra\\src\\lq.jl:203\n",
       "[159] *(A::LinearAlgebra.LQPackedQ, adjB::LinearAlgebra.Adjoint{<:Any, <:StridedVecOrMat}) in LinearAlgebra at C:\\Users\\dan_x\\AppData\\Local\\Programs\\Julia-1.7.3\\share\\julia\\stdlib\\v1.7\\LinearAlgebra\\src\\lq.jl:227\n",
       "[160] *(A::SparseArrays.AbstractSparseMatrixCSC, x::SparseArrays.AbstractSparseVector) in SparseArrays at C:\\Users\\dan_x\\AppData\\Local\\Programs\\Julia-1.7.3\\share\\julia\\stdlib\\v1.7\\SparseArrays\\src\\sparsevector.jl:1787\n",
       "[161] *(A::Union{SparseArrays.AbstractSparseMatrixCSC{Tv, Ti}, SubArray{Tv, 2, <:SparseArrays.AbstractSparseMatrixCSC{Tv, Ti}, Tuple{Base.Slice{Base.OneTo{Int64}}, I}} where I<:AbstractUnitRange, LinearAlgebra.LowerTriangular{Tv, <:Union{SparseArrays.AbstractSparseMatrixCSC{Tv, Ti}, SubArray{Tv, 2, <:SparseArrays.AbstractSparseMatrixCSC{Tv, Ti}, Tuple{Base.Slice{Base.OneTo{Int64}}, I}} where I<:AbstractUnitRange}}, LinearAlgebra.UpperTriangular{Tv, <:Union{SparseArrays.AbstractSparseMatrixCSC{Tv, Ti}, SubArray{Tv, 2, <:SparseArrays.AbstractSparseMatrixCSC{Tv, Ti}, Tuple{Base.Slice{Base.OneTo{Int64}}, I}} where I<:AbstractUnitRange}}} where {Tv, Ti}, B::SparseArrays.AbstractSparseVector) in SparseArrays at C:\\Users\\dan_x\\AppData\\Local\\Programs\\Julia-1.7.3\\share\\julia\\stdlib\\v1.7\\SparseArrays\\src\\linalg.jl:163\n",
       "[162] *(A::Union{LinearAlgebra.LowerTriangular{Ta, S} where S<:AbstractMatrix{Ta}, LinearAlgebra.UnitLowerTriangular{Ta, S} where S<:AbstractMatrix{Ta}, LinearAlgebra.UnitUpperTriangular{Ta, S} where S<:AbstractMatrix{Ta}, LinearAlgebra.UpperTriangular{Ta, S} where S<:AbstractMatrix{Ta}, StridedArray{Ta, 2}}, x::SparseArrays.AbstractSparseVector{Tx}) where {Ta, Tx} in SparseArrays at C:\\Users\\dan_x\\AppData\\Local\\Programs\\Julia-1.7.3\\share\\julia\\stdlib\\v1.7\\SparseArrays\\src\\sparsevector.jl:1562\n",
       "[163] *(A::SparseArrays.AbstractSparseMatrixCSC, D::LinearAlgebra.Diagonal) in SparseArrays at C:\\Users\\dan_x\\AppData\\Local\\Programs\\Julia-1.7.3\\share\\julia\\stdlib\\v1.7\\SparseArrays\\src\\linalg.jl:148\n",
       "[164] *(transA::LinearAlgebra.Transpose{<:Any, <:StridedMatrix{T}}, x::StridedVector{S}) where {T<:Union{Float32, Float64, ComplexF32, ComplexF64}, S} in LinearAlgebra at C:\\Users\\dan_x\\AppData\\Local\\Programs\\Julia-1.7.3\\share\\julia\\stdlib\\v1.7\\LinearAlgebra\\src\\matmul.jl:84\n",
       "[165] *(transx::LinearAlgebra.Transpose{<:Any, <:StridedVector{T}}, y::StridedVector{T}) where T<:Union{ComplexF32, ComplexF64} in LinearAlgebra at C:\\Users\\dan_x\\AppData\\Local\\Programs\\Julia-1.7.3\\share\\julia\\stdlib\\v1.7\\LinearAlgebra\\src\\matmul.jl:38\n",
       "[166] *(transA::LinearAlgebra.Transpose{<:Any, <:SparseArrays.AbstractSparseMatrixCSC}, x::Union{StridedVector, BitVector}) in SparseArrays at C:\\Users\\dan_x\\AppData\\Local\\Programs\\Julia-1.7.3\\share\\julia\\stdlib\\v1.7\\SparseArrays\\src\\linalg.jl:82\n",
       "[167] *(A::LinearAlgebra.Transpose{<:Any, <:SparseArrays.AbstractSparseMatrixCSC}, B::Union{SparseArrays.AbstractSparseMatrixCSC{Tv, Ti}, SubArray{Tv, 2, <:SparseArrays.AbstractSparseMatrixCSC{Tv, Ti}, Tuple{Base.Slice{Base.OneTo{Int64}}, I}} where I<:AbstractUnitRange, LinearAlgebra.LowerTriangular{Tv, <:Union{SparseArrays.AbstractSparseMatrixCSC{Tv, Ti}, SubArray{Tv, 2, <:SparseArrays.AbstractSparseMatrixCSC{Tv, Ti}, Tuple{Base.Slice{Base.OneTo{Int64}}, I}} where I<:AbstractUnitRange}}, LinearAlgebra.UpperTriangular{Tv, <:Union{SparseArrays.AbstractSparseMatrixCSC{Tv, Ti}, SubArray{Tv, 2, <:SparseArrays.AbstractSparseMatrixCSC{Tv, Ti}, Tuple{Base.Slice{Base.OneTo{Int64}}, I}} where I<:AbstractUnitRange}}} where {Tv, Ti}) in SparseArrays at C:\\Users\\dan_x\\AppData\\Local\\Programs\\Julia-1.7.3\\share\\julia\\stdlib\\v1.7\\SparseArrays\\src\\linalg.jl:172\n",
       "[168] *(transA::LinearAlgebra.Transpose{<:Any, <:SparseArrays.AbstractSparseMatrixCSC}, B::Union{LinearAlgebra.Adjoint{<:Any, <:Union{LinearAlgebra.LowerTriangular, LinearAlgebra.UnitLowerTriangular, LinearAlgebra.UnitUpperTriangular, LinearAlgebra.UpperTriangular, StridedMatrix, BitMatrix}}, LinearAlgebra.LowerTriangular, LinearAlgebra.Transpose{<:Any, <:Union{LinearAlgebra.LowerTriangular, LinearAlgebra.UnitLowerTriangular, LinearAlgebra.UnitUpperTriangular, LinearAlgebra.UpperTriangular, StridedMatrix, BitMatrix}}, LinearAlgebra.UnitLowerTriangular, LinearAlgebra.UnitUpperTriangular, LinearAlgebra.UpperTriangular, StridedMatrix, BitMatrix}) in SparseArrays at C:\\Users\\dan_x\\AppData\\Local\\Programs\\Julia-1.7.3\\share\\julia\\stdlib\\v1.7\\SparseArrays\\src\\linalg.jl:84\n",
       "[169] *(transA::LinearAlgebra.Transpose{<:Any, <:Union{LinearAlgebra.Hermitian{T, S}, LinearAlgebra.Symmetric{Complex{T}, S}, LinearAlgebra.Symmetric{T, S}} where {T<:Real, S}}, B::LinearAlgebra.AbstractTriangular) in LinearAlgebra at C:\\Users\\dan_x\\AppData\\Local\\Programs\\Julia-1.7.3\\share\\julia\\stdlib\\v1.7\\LinearAlgebra\\src\\symmetric.jl:628\n",
       "[170] *(A::LinearAlgebra.Transpose{<:Any, <:AbstractMatrix}, B::LinearAlgebra.AbstractTriangular) in LinearAlgebra at C:\\Users\\dan_x\\AppData\\Local\\Programs\\Julia-1.7.3\\share\\julia\\stdlib\\v1.7\\LinearAlgebra\\src\\triangular.jl:1699\n",
       "[171] *(v::LinearAlgebra.Transpose{T, <:AbstractVector} where T, A::LinearAlgebra.AbstractTriangular) in LinearAlgebra at C:\\Users\\dan_x\\AppData\\Local\\Programs\\Julia-1.7.3\\share\\julia\\stdlib\\v1.7\\LinearAlgebra\\src\\triangular.jl:1691\n",
       "[172] *(D::LinearAlgebra.Transpose{<:Any, <:LinearAlgebra.Diagonal}, B::LinearAlgebra.Diagonal) in LinearAlgebra at C:\\Users\\dan_x\\AppData\\Local\\Programs\\Julia-1.7.3\\share\\julia\\stdlib\\v1.7\\LinearAlgebra\\src\\diagonal.jl:288\n",
       "[173] *(A::LinearAlgebra.Transpose{<:Any, <:LinearAlgebra.AbstractTriangular}, D::LinearAlgebra.Diagonal) in LinearAlgebra at C:\\Users\\dan_x\\AppData\\Local\\Programs\\Julia-1.7.3\\share\\julia\\stdlib\\v1.7\\LinearAlgebra\\src\\diagonal.jl:289\n",
       "[174] *(transA::LinearAlgebra.Transpose{<:Any, <:Union{LinearAlgebra.Hermitian{T, S}, LinearAlgebra.Symmetric{Complex{T}, S}, LinearAlgebra.Symmetric{T, S}} where {T<:Real, S}}, B::LinearAlgebra.Diagonal) in LinearAlgebra at C:\\Users\\dan_x\\AppData\\Local\\Programs\\Julia-1.7.3\\share\\julia\\stdlib\\v1.7\\LinearAlgebra\\src\\diagonal.jl:419\n",
       "[175] *(transA::LinearAlgebra.Transpose{<:Any, <:AbstractMatrix}, D::LinearAlgebra.Diagonal) in LinearAlgebra at C:\\Users\\dan_x\\AppData\\Local\\Programs\\Julia-1.7.3\\share\\julia\\stdlib\\v1.7\\LinearAlgebra\\src\\diagonal.jl:291\n",
       "[176] *(x::LinearAlgebra.Transpose{<:Any, <:AbstractVector}, D::LinearAlgebra.Diagonal) in LinearAlgebra at C:\\Users\\dan_x\\AppData\\Local\\Programs\\Julia-1.7.3\\share\\julia\\stdlib\\v1.7\\LinearAlgebra\\src\\diagonal.jl:677\n",
       "[177] *(x::LinearAlgebra.Transpose{<:Any, <:AbstractVector}, D::LinearAlgebra.Diagonal, y::AbstractVector) in LinearAlgebra at C:\\Users\\dan_x\\AppData\\Local\\Programs\\Julia-1.7.3\\share\\julia\\stdlib\\v1.7\\LinearAlgebra\\src\\diagonal.jl:679\n",
       "[178] *(u::LinearAlgebra.Transpose{T, <:AbstractVector} where T, v::LinearAlgebra.Adjoint{<:Any, <:LinearAlgebra.Transpose{T, <:AbstractVector} where T}) in LinearAlgebra at C:\\Users\\dan_x\\AppData\\Local\\Programs\\Julia-1.7.3\\share\\julia\\stdlib\\v1.7\\LinearAlgebra\\src\\adjtrans.jl:305\n",
       "[179] *(A::LinearAlgebra.Transpose{<:Any, <:Union{LinearAlgebra.Hermitian{T, S}, LinearAlgebra.Symmetric{Complex{T}, S}, LinearAlgebra.Symmetric{T, S}} where {T<:Real, S}}, B::LinearAlgebra.Adjoint{<:Any, <:Union{LinearAlgebra.Hermitian{Complex{T}, S}, LinearAlgebra.Hermitian{T, S}, LinearAlgebra.Symmetric{T, S}} where {T<:Real, S}}) in LinearAlgebra at C:\\Users\\dan_x\\AppData\\Local\\Programs\\Julia-1.7.3\\share\\julia\\stdlib\\v1.7\\LinearAlgebra\\src\\symmetric.jl:890\n",
       "[180] *(A::LinearAlgebra.Transpose{<:Any, <:LinearAlgebra.AbstractTriangular}, B::LinearAlgebra.Adjoint{<:Any, <:Union{LinearAlgebra.Hermitian{Complex{T}, S}, LinearAlgebra.Hermitian{T, S}, LinearAlgebra.Symmetric{T, S}} where {T<:Real, S}}) in LinearAlgebra at C:\\Users\\dan_x\\AppData\\Local\\Programs\\Julia-1.7.3\\share\\julia\\stdlib\\v1.7\\LinearAlgebra\\src\\symmetric.jl:913\n",
       "[181] *(A::LinearAlgebra.Transpose{<:Any, <:AbstractVector}, B::LinearAlgebra.Adjoint{<:Any, <:Union{LinearAlgebra.Hermitian{Complex{T}, S}, LinearAlgebra.Hermitian{T, S}, LinearAlgebra.Symmetric{T, S}} where {T<:Real, S}}) in LinearAlgebra at C:\\Users\\dan_x\\AppData\\Local\\Programs\\Julia-1.7.3\\share\\julia\\stdlib\\v1.7\\LinearAlgebra\\src\\symmetric.jl:896\n",
       "[182] *(A::LinearAlgebra.Transpose{<:Any, <:AbstractMatrix}, B::LinearAlgebra.Adjoint{<:Any, <:Union{LinearAlgebra.Hermitian{Complex{T}, S}, LinearAlgebra.Hermitian{T, S}, LinearAlgebra.Symmetric{T, S}} where {T<:Real, S}}) in LinearAlgebra at C:\\Users\\dan_x\\AppData\\Local\\Programs\\Julia-1.7.3\\share\\julia\\stdlib\\v1.7\\LinearAlgebra\\src\\symmetric.jl:897\n",
       "[183] *(A::LinearAlgebra.Transpose{<:Any, <:Union{LinearAlgebra.Hermitian{T, S}, LinearAlgebra.Symmetric{Complex{T}, S}, LinearAlgebra.Symmetric{T, S}} where {T<:Real, S}}, B::LinearAlgebra.Adjoint{<:Any, <:LinearAlgebra.AbstractTriangular}) in LinearAlgebra at C:\\Users\\dan_x\\AppData\\Local\\Programs\\Julia-1.7.3\\share\\julia\\stdlib\\v1.7\\LinearAlgebra\\src\\symmetric.jl:917\n",
       "[184] *(A::LinearAlgebra.Transpose{<:Any, <:Union{LinearAlgebra.Hermitian{T, S}, LinearAlgebra.Symmetric{Complex{T}, S}, LinearAlgebra.Symmetric{T, S}} where {T<:Real, S}}, B::LinearAlgebra.Adjoint{<:Any, <:AbstractVector}) in LinearAlgebra at C:\\Users\\dan_x\\AppData\\Local\\Programs\\Julia-1.7.3\\share\\julia\\stdlib\\v1.7\\LinearAlgebra\\src\\symmetric.jl:905\n",
       "[185] *(A::LinearAlgebra.Transpose{<:Any, <:Union{LinearAlgebra.Hermitian{T, S}, LinearAlgebra.Symmetric{Complex{T}, S}, LinearAlgebra.Symmetric{T, S}} where {T<:Real, S}}, B::LinearAlgebra.Adjoint{<:Any, <:AbstractMatrix}) in LinearAlgebra at C:\\Users\\dan_x\\AppData\\Local\\Programs\\Julia-1.7.3\\share\\julia\\stdlib\\v1.7\\LinearAlgebra\\src\\symmetric.jl:906\n",
       "[186] *(A::LinearAlgebra.Transpose{<:Any, <:LinearAlgebra.AbstractTriangular}, B::LinearAlgebra.Adjoint{<:Any, <:LinearAlgebra.AbstractRotation}) in LinearAlgebra at C:\\Users\\dan_x\\AppData\\Local\\Programs\\Julia-1.7.3\\share\\julia\\stdlib\\v1.7\\LinearAlgebra\\src\\givens.jl:408\n",
       "[187] *(A::LinearAlgebra.Transpose{<:Any, <:Union{LinearAlgebra.Hermitian{T, S}, LinearAlgebra.Symmetric{Complex{T}, S}, LinearAlgebra.Symmetric{T, S}} where {T<:Real, S}}, B::LinearAlgebra.Adjoint{<:Any, <:LinearAlgebra.AbstractRotation}) in LinearAlgebra at C:\\Users\\dan_x\\AppData\\Local\\Programs\\Julia-1.7.3\\share\\julia\\stdlib\\v1.7\\LinearAlgebra\\src\\givens.jl:410\n",
       "[188] *(A::LinearAlgebra.Transpose{<:Any, <:AbstractVector}, B::LinearAlgebra.Adjoint{<:Any, <:LinearAlgebra.AbstractRotation}) in LinearAlgebra at C:\\Users\\dan_x\\AppData\\Local\\Programs\\Julia-1.7.3\\share\\julia\\stdlib\\v1.7\\LinearAlgebra\\src\\givens.jl:404\n",
       "[189] *(A::LinearAlgebra.Transpose{<:Any, <:AbstractMatrix}, B::LinearAlgebra.Adjoint{<:Any, <:LinearAlgebra.AbstractRotation}) in LinearAlgebra at C:\\Users\\dan_x\\AppData\\Local\\Programs\\Julia-1.7.3\\share\\julia\\stdlib\\v1.7\\LinearAlgebra\\src\\givens.jl:405\n",
       "[190] *(u::LinearAlgebra.Transpose{T, <:AbstractVector}, v::AbstractVector{T}) where T<:Real in LinearAlgebra at C:\\Users\\dan_x\\AppData\\Local\\Programs\\Julia-1.7.3\\share\\julia\\stdlib\\v1.7\\LinearAlgebra\\src\\adjtrans.jl:292\n",
       "[191] *(A::LinearAlgebra.Transpose{<:Any, <:LinearAlgebra.AbstractTriangular}, B::LinearAlgebra.Transpose{<:Any, <:Union{LinearAlgebra.Hermitian{T, S}, LinearAlgebra.Symmetric{Complex{T}, S}, LinearAlgebra.Symmetric{T, S}} where {T<:Real, S}}) in LinearAlgebra at C:\\Users\\dan_x\\AppData\\Local\\Programs\\Julia-1.7.3\\share\\julia\\stdlib\\v1.7\\LinearAlgebra\\src\\symmetric.jl:914\n",
       "[192] *(u::LinearAlgebra.Transpose{T, <:AbstractVector} where T, v::LinearAlgebra.Transpose{<:Any, <:LinearAlgebra.Adjoint{T, <:AbstractVector} where T}) in LinearAlgebra at C:\\Users\\dan_x\\AppData\\Local\\Programs\\Julia-1.7.3\\share\\julia\\stdlib\\v1.7\\LinearAlgebra\\src\\adjtrans.jl:307\n",
       "[193] *(transA::LinearAlgebra.Transpose{<:Any, <:Union{LinearAlgebra.Hermitian{T, S}, LinearAlgebra.Symmetric{T, S}} where {T<:Real, S}}, transB::LinearAlgebra.Transpose{<:Any, <:Union{LinearAlgebra.Hermitian{T, S}, LinearAlgebra.Symmetric{T, S}} where {T<:Real, S}}) in LinearAlgebra at C:\\Users\\dan_x\\AppData\\Local\\Programs\\Julia-1.7.3\\share\\julia\\stdlib\\v1.7\\LinearAlgebra\\src\\symmetric.jl:614\n",
       "[194] *(transA::LinearAlgebra.Transpose{<:Any, <:Union{LinearAlgebra.Hermitian{T, S}, LinearAlgebra.Symmetric{Complex{T}, S}, LinearAlgebra.Symmetric{T, S}} where {T<:Real, S}}, transB::LinearAlgebra.Transpose{<:Any, <:Union{LinearAlgebra.Hermitian{T, S}, LinearAlgebra.Symmetric{T, S}} where {T<:Real, S}}) in LinearAlgebra at C:\\Users\\dan_x\\AppData\\Local\\Programs\\Julia-1.7.3\\share\\julia\\stdlib\\v1.7\\LinearAlgebra\\src\\symmetric.jl:617\n",
       "[195] *(transA::LinearAlgebra.Transpose{<:Any, <:Union{LinearAlgebra.Hermitian{T, S}, LinearAlgebra.Symmetric{Complex{T}, S}, LinearAlgebra.Symmetric{T, S}} where {T<:Real, S}}, transB::LinearAlgebra.Transpose{<:Any, <:Union{LinearAlgebra.Hermitian{Complex{T}, S}, LinearAlgebra.Hermitian{T, S}, LinearAlgebra.Symmetric{T, S}} where {T<:Real, S}}) in LinearAlgebra at C:\\Users\\dan_x\\AppData\\Local\\Programs\\Julia-1.7.3\\share\\julia\\stdlib\\v1.7\\LinearAlgebra\\src\\symmetric.jl:618\n",
       "[196] *(transA::LinearAlgebra.Transpose{<:Any, <:Union{LinearAlgebra.Hermitian{T, S}, LinearAlgebra.Symmetric{T, S}} where {T<:Real, S}}, transB::LinearAlgebra.Transpose{<:Any, <:Union{LinearAlgebra.Hermitian{T, S}, LinearAlgebra.Symmetric{Complex{T}, S}, LinearAlgebra.Symmetric{T, S}} where {T<:Real, S}}) in LinearAlgebra at C:\\Users\\dan_x\\AppData\\Local\\Programs\\Julia-1.7.3\\share\\julia\\stdlib\\v1.7\\LinearAlgebra\\src\\symmetric.jl:615\n",
       "[197] *(transA::LinearAlgebra.Transpose{<:Any, <:Union{LinearAlgebra.Hermitian{Complex{T}, S}, LinearAlgebra.Hermitian{T, S}, LinearAlgebra.Symmetric{T, S}} where {T<:Real, S}}, transB::LinearAlgebra.Transpose{<:Any, <:Union{LinearAlgebra.Hermitian{T, S}, LinearAlgebra.Symmetric{Complex{T}, S}, LinearAlgebra.Symmetric{T, S}} where {T<:Real, S}}) in LinearAlgebra at C:\\Users\\dan_x\\AppData\\Local\\Programs\\Julia-1.7.3\\share\\julia\\stdlib\\v1.7\\LinearAlgebra\\src\\symmetric.jl:619\n",
       "[198] *(transA::LinearAlgebra.Transpose{<:Any, <:Union{LinearAlgebra.Hermitian{T, S}, LinearAlgebra.Symmetric{Complex{T}, S}, LinearAlgebra.Symmetric{T, S}} where {T<:Real, S}}, transB::LinearAlgebra.Transpose{<:Any, <:Union{LinearAlgebra.Hermitian{T, S}, LinearAlgebra.Symmetric{Complex{T}, S}, LinearAlgebra.Symmetric{T, S}} where {T<:Real, S}}) in LinearAlgebra at C:\\Users\\dan_x\\AppData\\Local\\Programs\\Julia-1.7.3\\share\\julia\\stdlib\\v1.7\\LinearAlgebra\\src\\symmetric.jl:616\n",
       "[199] *(A::LinearAlgebra.Transpose{<:Any, <:Union{LinearAlgebra.Hermitian{T, S}, LinearAlgebra.Symmetric{Complex{T}, S}, LinearAlgebra.Symmetric{T, S}} where {T<:Real, S}}, B::LinearAlgebra.Transpose{<:Any, <:LinearAlgebra.AbstractTriangular}) in LinearAlgebra at C:\\Users\\dan_x\\AppData\\Local\\Programs\\Julia-1.7.3\\share\\julia\\stdlib\\v1.7\\LinearAlgebra\\src\\symmetric.jl:918\n",
       "[200] *(D::LinearAlgebra.Transpose{<:Any, <:LinearAlgebra.Diagonal}, B::LinearAlgebra.Transpose{<:Any, <:LinearAlgebra.Diagonal}) in LinearAlgebra at C:\\Users\\dan_x\\AppData\\Local\\Programs\\Julia-1.7.3\\share\\julia\\stdlib\\v1.7\\LinearAlgebra\\src\\diagonal.jl:321\n",
       "[201] *(transA::LinearAlgebra.Transpose{<:Any, <:Union{LinearAlgebra.Hermitian{T, S}, LinearAlgebra.Symmetric{Complex{T}, S}, LinearAlgebra.Symmetric{T, S}} where {T<:Real, S}}, transD::LinearAlgebra.Transpose{<:Any, <:LinearAlgebra.Diagonal}) in LinearAlgebra at C:\\Users\\dan_x\\AppData\\Local\\Programs\\Julia-1.7.3\\share\\julia\\stdlib\\v1.7\\LinearAlgebra\\src\\diagonal.jl:422\n",
       "[202] *(A::LinearAlgebra.Transpose{<:Any, <:Union{LinearAlgebra.Hermitian{T, S}, LinearAlgebra.Symmetric{Complex{T}, S}, LinearAlgebra.Symmetric{T, S}} where {T<:Real, S}}, B::LinearAlgebra.Transpose{<:Any, <:AbstractMatrix}) in LinearAlgebra at C:\\Users\\dan_x\\AppData\\Local\\Programs\\Julia-1.7.3\\share\\julia\\stdlib\\v1.7\\LinearAlgebra\\src\\symmetric.jl:908\n",
       "[203] *(A::LinearAlgebra.Transpose{<:Any, <:Union{LinearAlgebra.Hermitian{T, S}, LinearAlgebra.Symmetric{Complex{T}, S}, LinearAlgebra.Symmetric{T, S}} where {T<:Real, S}}, B::LinearAlgebra.Transpose{<:Any, <:AbstractVector}) in LinearAlgebra at C:\\Users\\dan_x\\AppData\\Local\\Programs\\Julia-1.7.3\\share\\julia\\stdlib\\v1.7\\LinearAlgebra\\src\\symmetric.jl:907\n",
       "[204] *(transA::LinearAlgebra.Transpose{<:Any, <:Union{LinearAlgebra.Hermitian{T, S}, LinearAlgebra.Symmetric{Complex{T}, S}, LinearAlgebra.Symmetric{T, S}} where {T<:Real, S}}, B::AbstractMatrix) in LinearAlgebra at C:\\Users\\dan_x\\AppData\\Local\\Programs\\Julia-1.7.3\\share\\julia\\stdlib\\v1.7\\LinearAlgebra\\src\\symmetric.jl:606\n",
       "[205] *(transA::LinearAlgebra.Transpose{<:Any, <:Union{LinearAlgebra.Hermitian{T, S}, LinearAlgebra.Symmetric{Complex{T}, S}, LinearAlgebra.Symmetric{T, S}} where {T<:Real, S}}, B::AbstractVector) in LinearAlgebra at C:\\Users\\dan_x\\AppData\\Local\\Programs\\Julia-1.7.3\\share\\julia\\stdlib\\v1.7\\LinearAlgebra\\src\\symmetric.jl:605\n",
       "[206] *(transD::LinearAlgebra.Transpose{<:Any, <:LinearAlgebra.Diagonal}, transA::LinearAlgebra.Transpose{<:Any, <:Union{LinearAlgebra.Hermitian{T, S}, LinearAlgebra.Symmetric{Complex{T}, S}, LinearAlgebra.Symmetric{T, S}} where {T<:Real, S}}) in LinearAlgebra at C:\\Users\\dan_x\\AppData\\Local\\Programs\\Julia-1.7.3\\share\\julia\\stdlib\\v1.7\\LinearAlgebra\\src\\diagonal.jl:423\n",
       "[207] *(A::LinearAlgebra.Transpose{<:Any, <:AbstractMatrix}, B::LinearAlgebra.Transpose{<:Any, <:Union{LinearAlgebra.Hermitian{T, S}, LinearAlgebra.Symmetric{Complex{T}, S}, LinearAlgebra.Symmetric{T, S}} where {T<:Real, S}}) in LinearAlgebra at C:\\Users\\dan_x\\AppData\\Local\\Programs\\Julia-1.7.3\\share\\julia\\stdlib\\v1.7\\LinearAlgebra\\src\\symmetric.jl:899\n",
       "[208] *(A::LinearAlgebra.Transpose{<:Any, <:AbstractVector}, B::LinearAlgebra.Transpose{<:Any, <:Union{LinearAlgebra.Hermitian{T, S}, LinearAlgebra.Symmetric{Complex{T}, S}, LinearAlgebra.Symmetric{T, S}} where {T<:Real, S}}) in LinearAlgebra at C:\\Users\\dan_x\\AppData\\Local\\Programs\\Julia-1.7.3\\share\\julia\\stdlib\\v1.7\\LinearAlgebra\\src\\symmetric.jl:898\n",
       "[209] *(A::LinearAlgebra.Transpose{<:Any, <:SparseArrays.AbstractSparseMatrixCSC}, B::LinearAlgebra.Transpose{<:Any, <:SparseArrays.AbstractSparseMatrixCSC}) in SparseArrays at C:\\Users\\dan_x\\AppData\\Local\\Programs\\Julia-1.7.3\\share\\julia\\stdlib\\v1.7\\SparseArrays\\src\\linalg.jl:175\n",
       "[210] *(tu::Union{LinearAlgebra.Adjoint{T, var\"#s861\"}, LinearAlgebra.Transpose{T, var\"#s861\"}} where {T, var\"#s861\"<:(AbstractVector)}, B::Union{LinearAlgebra.Adjoint{T, var\"#s861\"}, LinearAlgebra.Transpose{T, var\"#s861\"}} where {T, var\"#s861\"<:(AbstractMatrix)}, v::AbstractVector) in LinearAlgebra at C:\\Users\\dan_x\\AppData\\Local\\Programs\\Julia-1.7.3\\share\\julia\\stdlib\\v1.7\\LinearAlgebra\\src\\matmul.jl:1107\n",
       "[211] *(u::LinearAlgebra.Transpose{T, <:AbstractVector} where T, v::LinearAlgebra.Transpose{T, <:AbstractVector} where T) in LinearAlgebra at C:\\Users\\dan_x\\AppData\\Local\\Programs\\Julia-1.7.3\\share\\julia\\stdlib\\v1.7\\LinearAlgebra\\src\\adjtrans.jl:301\n",
       "[212] *(transA::LinearAlgebra.Transpose{<:Any, <:Union{LinearAlgebra.LowerTriangular{Ta, S} where S<:AbstractMatrix{Ta}, LinearAlgebra.UnitLowerTriangular{Ta, S} where S<:AbstractMatrix{Ta}, LinearAlgebra.UnitUpperTriangular{Ta, S} where S<:AbstractMatrix{Ta}, LinearAlgebra.UpperTriangular{Ta, S} where S<:AbstractMatrix{Ta}, StridedArray{Ta, 2}}}, x::SparseArrays.AbstractSparseVector{Tx}) where {Ta, Tx} in SparseArrays at C:\\Users\\dan_x\\AppData\\Local\\Programs\\Julia-1.7.3\\share\\julia\\stdlib\\v1.7\\SparseArrays\\src\\sparsevector.jl:1601\n",
       "[213] *(transA::LinearAlgebra.Transpose{<:Any, <:SparseArrays.AbstractSparseMatrixCSC}, x::SparseArrays.AbstractSparseVector) in SparseArrays at C:\\Users\\dan_x\\AppData\\Local\\Programs\\Julia-1.7.3\\share\\julia\\stdlib\\v1.7\\SparseArrays\\src\\sparsevector.jl:1794\n",
       "[214] *(u::Union{LinearAlgebra.Adjoint{T, var\"#s861\"}, LinearAlgebra.Transpose{T, var\"#s861\"}} where {T, var\"#s861\"<:(AbstractVector)}, v::AbstractVector) in LinearAlgebra at C:\\Users\\dan_x\\AppData\\Local\\Programs\\Julia-1.7.3\\share\\julia\\stdlib\\v1.7\\LinearAlgebra\\src\\adjtrans.jl:293\n",
       "[215] *(x::LinearAlgebra.Transpose{T, <:AbstractVector} where T, A::AbstractMatrix) in LinearAlgebra at C:\\Users\\dan_x\\AppData\\Local\\Programs\\Julia-1.7.3\\share\\julia\\stdlib\\v1.7\\LinearAlgebra\\src\\matmul.jl:134\n",
       "[216] *(tu::Union{LinearAlgebra.Adjoint{T, var\"#s861\"}, LinearAlgebra.Transpose{T, var\"#s861\"}} where {T, var\"#s861\"<:(AbstractVector)}, B::AbstractMatrix, v::AbstractVector) in LinearAlgebra at C:\\Users\\dan_x\\AppData\\Local\\Programs\\Julia-1.7.3\\share\\julia\\stdlib\\v1.7\\LinearAlgebra\\src\\matmul.jl:1106\n",
       "[217] *(tv::Union{LinearAlgebra.Adjoint{T, var\"#s861\"}, LinearAlgebra.Transpose{T, var\"#s861\"}} where {T, var\"#s861\"<:(AbstractVector)}, B::AbstractMatrix, C::AbstractMatrix) in LinearAlgebra at C:\\Users\\dan_x\\AppData\\Local\\Programs\\Julia-1.7.3\\share\\julia\\stdlib\\v1.7\\LinearAlgebra\\src\\matmul.jl:1121\n",
       "[218] *(vt::Union{LinearAlgebra.Adjoint{T, var\"#s861\"}, LinearAlgebra.Transpose{T, var\"#s861\"}} where {T, var\"#s861\"<:(AbstractVector)}, B::AbstractMatrix, x::AbstractVector, δ::Number) in LinearAlgebra at C:\\Users\\dan_x\\AppData\\Local\\Programs\\Julia-1.7.3\\share\\julia\\stdlib\\v1.7\\LinearAlgebra\\src\\matmul.jl:1178\n",
       "[219] *(vt::Union{LinearAlgebra.Adjoint{T, var\"#s861\"}, LinearAlgebra.Transpose{T, var\"#s861\"}} where {T, var\"#s861\"<:(AbstractVector)}, B::AbstractMatrix, C::AbstractMatrix, δ::Number) in LinearAlgebra at C:\\Users\\dan_x\\AppData\\Local\\Programs\\Julia-1.7.3\\share\\julia\\stdlib\\v1.7\\LinearAlgebra\\src\\matmul.jl:1179\n",
       "[220] *(vt::Union{LinearAlgebra.Adjoint{T, var\"#s861\"}, LinearAlgebra.Transpose{T, var\"#s861\"}} where {T, var\"#s861\"<:(AbstractVector)}, B::AbstractMatrix, C::AbstractMatrix, D::AbstractMatrix) in LinearAlgebra at C:\\Users\\dan_x\\AppData\\Local\\Programs\\Julia-1.7.3\\share\\julia\\stdlib\\v1.7\\LinearAlgebra\\src\\matmul.jl:1182\n",
       "[221] *(vt::Union{LinearAlgebra.Adjoint{T, var\"#s861\"}, LinearAlgebra.Transpose{T, var\"#s861\"}} where {T, var\"#s861\"<:(AbstractVector)}, B::AbstractMatrix, C::AbstractMatrix, x::AbstractVector) in LinearAlgebra at C:\\Users\\dan_x\\AppData\\Local\\Programs\\Julia-1.7.3\\share\\julia\\stdlib\\v1.7\\LinearAlgebra\\src\\matmul.jl:1183\n",
       "[222] *(transA::LinearAlgebra.Transpose{<:Any, <:AbstractMatrix{T}}, x::AbstractVector{S}) where {T, S} in LinearAlgebra at C:\\Users\\dan_x\\AppData\\Local\\Programs\\Julia-1.7.3\\share\\julia\\stdlib\\v1.7\\LinearAlgebra\\src\\matmul.jl:89\n",
       "[223] *(A::LinearAlgebra.Hermitian, x::Real) in LinearAlgebra at C:\\Users\\dan_x\\AppData\\Local\\Programs\\Julia-1.7.3\\share\\julia\\stdlib\\v1.7\\LinearAlgebra\\src\\symmetric.jl:636\n",
       "[224] *(A::LinearAlgebra.Hermitian{ComplexF64, SparseArrays.SparseMatrixCSC{ComplexF64, Ti}}, B::Union{SparseArrays.SparseMatrixCSC{ComplexF64, Ti}, SparseArrays.SparseVector{ComplexF64, Ti}}) where Ti in SuiteSparse.CHOLMOD at C:\\Users\\dan_x\\AppData\\Local\\Programs\\Julia-1.7.3\\share\\julia\\stdlib\\v1.7\\SuiteSparse\\src\\cholmod.jl:1682\n",
       "[225] *(A::LinearAlgebra.Hermitian{Float64, SparseArrays.SparseMatrixCSC{Float64, Ti}}, B::Union{SparseArrays.SparseMatrixCSC{Float64, Ti}, SparseArrays.SparseVector{Float64, Ti}}) where Ti in SuiteSparse.CHOLMOD at C:\\Users\\dan_x\\AppData\\Local\\Programs\\Julia-1.7.3\\share\\julia\\stdlib\\v1.7\\SuiteSparse\\src\\cholmod.jl:1684\n",
       "[226] *(A::LinearAlgebra.Bidiagonal, B::Number) in LinearAlgebra at C:\\Users\\dan_x\\AppData\\Local\\Programs\\Julia-1.7.3\\share\\julia\\stdlib\\v1.7\\LinearAlgebra\\src\\bidiag.jl:373\n",
       "[227] *(A::LinearAlgebra.Bidiagonal, B::Union{LinearAlgebra.UnitUpperTriangular, LinearAlgebra.UpperTriangular}) in LinearAlgebra at C:\\Users\\dan_x\\AppData\\Local\\Programs\\Julia-1.7.3\\share\\julia\\stdlib\\v1.7\\LinearAlgebra\\src\\bidiag.jl:662\n",
       "[228] *(A::LinearAlgebra.Bidiagonal, B::Union{LinearAlgebra.LowerTriangular, LinearAlgebra.UnitLowerTriangular}) in LinearAlgebra at C:\\Users\\dan_x\\AppData\\Local\\Programs\\Julia-1.7.3\\share\\julia\\stdlib\\v1.7\\LinearAlgebra\\src\\bidiag.jl:671\n",
       "[229] *(B::LinearAlgebra.Bidiagonal, H::LinearAlgebra.UpperHessenberg) in LinearAlgebra at C:\\Users\\dan_x\\AppData\\Local\\Programs\\Julia-1.7.3\\share\\julia\\stdlib\\v1.7\\LinearAlgebra\\src\\hessenberg.jl:174\n",
       "[230] *(A::LinearAlgebra.Tridiagonal, B::Number) in LinearAlgebra at C:\\Users\\dan_x\\AppData\\Local\\Programs\\Julia-1.7.3\\share\\julia\\stdlib\\v1.7\\LinearAlgebra\\src\\tridiag.jl:742\n",
       "[231] *(y::Integer, x::Rational) in Base at rational.jl:340\n",
       "[232] *(a::Integer, index::CartesianIndex{N}) where N in Base.IteratorsMD at multidimensional.jl:123\n",
       "[233] *(x::AbstractIrrational, y::AbstractIrrational) in Base at irrationals.jl:158\n",
       "[234] *(A::LinearAlgebra.AbstractTriangular, transB::LinearAlgebra.Transpose{<:Any, <:Union{LinearAlgebra.Hermitian{T, S}, LinearAlgebra.Symmetric{Complex{T}, S}, LinearAlgebra.Symmetric{T, S}} where {T<:Real, S}}) in LinearAlgebra at C:\\Users\\dan_x\\AppData\\Local\\Programs\\Julia-1.7.3\\share\\julia\\stdlib\\v1.7\\LinearAlgebra\\src\\symmetric.jl:629\n",
       "[235] *(A::LinearAlgebra.AbstractTriangular, B::LinearAlgebra.Transpose{<:Any, <:AbstractMatrix}) in LinearAlgebra at C:\\Users\\dan_x\\AppData\\Local\\Programs\\Julia-1.7.3\\share\\julia\\stdlib\\v1.7\\LinearAlgebra\\src\\triangular.jl:1701\n",
       "[236] *(A::LinearAlgebra.AbstractTriangular, B::LinearAlgebra.Transpose{T, <:AbstractVector} where T) in LinearAlgebra at C:\\Users\\dan_x\\AppData\\Local\\Programs\\Julia-1.7.3\\share\\julia\\stdlib\\v1.7\\LinearAlgebra\\src\\triangular.jl:2573\n",
       "[237] *(A::LinearAlgebra.AbstractTriangular, adjB::LinearAlgebra.Adjoint{<:Any, <:Union{LinearAlgebra.Hermitian{Complex{T}, S}, LinearAlgebra.Hermitian{T, S}, LinearAlgebra.Symmetric{T, S}} where {T<:Real, S}}) in LinearAlgebra at C:\\Users\\dan_x\\AppData\\Local\\Programs\\Julia-1.7.3\\share\\julia\\stdlib\\v1.7\\LinearAlgebra\\src\\symmetric.jl:631\n",
       "[238] *(A::LinearAlgebra.AbstractTriangular, D::LinearAlgebra.Diagonal) in LinearAlgebra at C:\\Users\\dan_x\\AppData\\Local\\Programs\\Julia-1.7.3\\share\\julia\\stdlib\\v1.7\\LinearAlgebra\\src\\diagonal.jl:217\n",
       "[239] *(A::LinearAlgebra.AbstractTriangular, B::Union{LinearAlgebra.SymTridiagonal, LinearAlgebra.Tridiagonal}) in LinearAlgebra at C:\\Users\\dan_x\\AppData\\Local\\Programs\\Julia-1.7.3\\share\\julia\\stdlib\\v1.7\\LinearAlgebra\\src\\bidiag.jl:631\n",
       "[240] *(A::LinearAlgebra.AbstractTriangular, B::LinearAlgebra.Adjoint{<:Any, <:LinearAlgebra.AbstractRotation}) in LinearAlgebra at C:\\Users\\dan_x\\AppData\\Local\\Programs\\Julia-1.7.3\\share\\julia\\stdlib\\v1.7\\LinearAlgebra\\src\\givens.jl:413\n",
       "[241] *(A::LinearAlgebra.AbstractTriangular, adjB::LinearAlgebra.Adjoint{<:Any, <:Union{LinearAlgebra.QRCompactWYQ, LinearAlgebra.QRPackedQ}}) in LinearAlgebra at C:\\Users\\dan_x\\AppData\\Local\\Programs\\Julia-1.7.3\\share\\julia\\stdlib\\v1.7\\LinearAlgebra\\src\\special.jl:285\n",
       "[242] *(A::LinearAlgebra.AbstractTriangular, B::LinearAlgebra.Adjoint{<:Any, <:AbstractMatrix}) in LinearAlgebra at C:\\Users\\dan_x\\AppData\\Local\\Programs\\Julia-1.7.3\\share\\julia\\stdlib\\v1.7\\LinearAlgebra\\src\\triangular.jl:1700\n",
       "[243] *(A::LinearAlgebra.AbstractTriangular, B::LinearAlgebra.Adjoint{T, <:AbstractVector} where T) in LinearAlgebra at C:\\Users\\dan_x\\AppData\\Local\\Programs\\Julia-1.7.3\\share\\julia\\stdlib\\v1.7\\LinearAlgebra\\src\\triangular.jl:2572\n",
       "[244] *(R::LinearAlgebra.AbstractRotation{T}, A::AbstractVecOrMat{S}) where {T, S} in LinearAlgebra at C:\\Users\\dan_x\\AppData\\Local\\Programs\\Julia-1.7.3\\share\\julia\\stdlib\\v1.7\\LinearAlgebra\\src\\givens.jl:9\n",
       "[245] *(A::LinearAlgebra.LowerTriangular, x::Number) in LinearAlgebra at C:\\Users\\dan_x\\AppData\\Local\\Programs\\Julia-1.7.3\\share\\julia\\stdlib\\v1.7\\LinearAlgebra\\src\\triangular.jl:849\n",
       "[246] *(A::LinearAlgebra.LowerTriangular, B::LinearAlgebra.LowerTriangular) in LinearAlgebra at C:\\Users\\dan_x\\AppData\\Local\\Programs\\Julia-1.7.3\\share\\julia\\stdlib\\v1.7\\LinearAlgebra\\src\\triangular.jl:1506\n",
       "[247] *(A::LinearAlgebra.LowerTriangular, B::LinearAlgebra.UnitLowerTriangular) in LinearAlgebra at C:\\Users\\dan_x\\AppData\\Local\\Programs\\Julia-1.7.3\\share\\julia\\stdlib\\v1.7\\LinearAlgebra\\src\\triangular.jl:1522\n",
       "[248] *(A::LinearAlgebra.LQ{TA, S} where S<:AbstractMatrix{TA}, B::StridedVecOrMat{TB}) where {TA, TB} in LinearAlgebra at C:\\Users\\dan_x\\AppData\\Local\\Programs\\Julia-1.7.3\\share\\julia\\stdlib\\v1.7\\LinearAlgebra\\src\\lq.jl:195\n",
       "[249] *(x::Base.TwicePrecision{<:Union{Float16, Float32, Float64}}, v::Integer) in Base at twiceprecision.jl:300\n",
       "[250] *(x::Base.TwicePrecision, v::Number) in Base at twiceprecision.jl:296\n",
       "[251] *(x::Base.TwicePrecision{T}, y::Base.TwicePrecision{T}) where T in Base at twiceprecision.jl:308\n",
       "[252] *(x::Base.TwicePrecision, y::Base.TwicePrecision) in Base at twiceprecision.jl:313\n",
       "[253] *(x::P, y::Real) where P<:Dates.Period in Dates at C:\\Users\\dan_x\\AppData\\Local\\Programs\\Julia-1.7.3\\share\\julia\\stdlib\\v1.7\\Dates\\src\\periods.jl:94\n",
       "[254] *(x::Dates.Period, r::AbstractRange{<:Real}) in Dates at C:\\Users\\dan_x\\AppData\\Local\\Programs\\Julia-1.7.3\\share\\julia\\stdlib\\v1.7\\Dates\\src\\ranges.jl:65\n",
       "[255] *(A::Dates.Period, B::AbstractArray) in Dates at C:\\Users\\dan_x\\AppData\\Local\\Programs\\Julia-1.7.3\\share\\julia\\stdlib\\v1.7\\Dates\\src\\periods.jl:97\n",
       "[256] *(H::LinearAlgebra.UpperHessenberg, x::Number) in LinearAlgebra at C:\\Users\\dan_x\\AppData\\Local\\Programs\\Julia-1.7.3\\share\\julia\\stdlib\\v1.7\\LinearAlgebra\\src\\hessenberg.jl:114\n",
       "[257] *(H::LinearAlgebra.UpperHessenberg, x::LinearAlgebra.UniformScaling) in LinearAlgebra at C:\\Users\\dan_x\\AppData\\Local\\Programs\\Julia-1.7.3\\share\\julia\\stdlib\\v1.7\\LinearAlgebra\\src\\hessenberg.jl:114\n",
       "[258] *(H::LinearAlgebra.UpperHessenberg, x::LinearAlgebra.Diagonal) in LinearAlgebra at C:\\Users\\dan_x\\AppData\\Local\\Programs\\Julia-1.7.3\\share\\julia\\stdlib\\v1.7\\LinearAlgebra\\src\\hessenberg.jl:114\n",
       "[259] *(H::LinearAlgebra.UpperHessenberg, U::Union{LinearAlgebra.UnitUpperTriangular, LinearAlgebra.UpperTriangular}) in LinearAlgebra at C:\\Users\\dan_x\\AppData\\Local\\Programs\\Julia-1.7.3\\share\\julia\\stdlib\\v1.7\\LinearAlgebra\\src\\hessenberg.jl:121\n",
       "[260] *(H::LinearAlgebra.UpperHessenberg, B::LinearAlgebra.Bidiagonal) in LinearAlgebra at C:\\Users\\dan_x\\AppData\\Local\\Programs\\Julia-1.7.3\\share\\julia\\stdlib\\v1.7\\LinearAlgebra\\src\\hessenberg.jl:166\n",
       "[261] *(A::LinearAlgebra.UnitUpperTriangular, x::Number) in LinearAlgebra at C:\\Users\\dan_x\\AppData\\Local\\Programs\\Julia-1.7.3\\share\\julia\\stdlib\\v1.7\\LinearAlgebra\\src\\triangular.jl:851\n",
       "[262] *(A::LinearAlgebra.UnitUpperTriangular, B::LinearAlgebra.UpperTriangular) in LinearAlgebra at C:\\Users\\dan_x\\AppData\\Local\\Programs\\Julia-1.7.3\\share\\julia\\stdlib\\v1.7\\LinearAlgebra\\src\\triangular.jl:1546\n",
       "[263] *(A::LinearAlgebra.UnitUpperTriangular, B::LinearAlgebra.UnitUpperTriangular) in LinearAlgebra at C:\\Users\\dan_x\\AppData\\Local\\Programs\\Julia-1.7.3\\share\\julia\\stdlib\\v1.7\\LinearAlgebra\\src\\triangular.jl:1562\n",
       "[264] *(A::LinearAlgebra.AbstractTriangular, B::LinearAlgebra.AbstractTriangular) in LinearAlgebra at C:\\Users\\dan_x\\AppData\\Local\\Programs\\Julia-1.7.3\\share\\julia\\stdlib\\v1.7\\LinearAlgebra\\src\\triangular.jl:1631\n",
       "[265] *(A::LinearAlgebra.AbstractTriangular, B::AbstractVector) in LinearAlgebra at C:\\Users\\dan_x\\AppData\\Local\\Programs\\Julia-1.7.3\\share\\julia\\stdlib\\v1.7\\LinearAlgebra\\src\\triangular.jl:1640\n",
       "[266] *(A::LinearAlgebra.AbstractTriangular, B::AbstractMatrix) in LinearAlgebra at C:\\Users\\dan_x\\AppData\\Local\\Programs\\Julia-1.7.3\\share\\julia\\stdlib\\v1.7\\LinearAlgebra\\src\\triangular.jl:1640\n",
       "[267] *(A::LinearAlgebra.Diagonal, B::Union{LinearAlgebra.Bidiagonal, LinearAlgebra.Tridiagonal}) in LinearAlgebra at C:\\Users\\dan_x\\AppData\\Local\\Programs\\Julia-1.7.3\\share\\julia\\stdlib\\v1.7\\LinearAlgebra\\src\\bidiag.jl:685\n",
       "[268] *(D::LinearAlgebra.Diagonal, B::LinearAlgebra.AbstractTriangular) in LinearAlgebra at C:\\Users\\dan_x\\AppData\\Local\\Programs\\Julia-1.7.3\\share\\julia\\stdlib\\v1.7\\LinearAlgebra\\src\\diagonal.jl:219\n",
       "[269] *(A::AbstractMatrix, B::LinearAlgebra.AbstractTriangular) in LinearAlgebra at C:\\Users\\dan_x\\AppData\\Local\\Programs\\Julia-1.7.3\\share\\julia\\stdlib\\v1.7\\LinearAlgebra\\src\\triangular.jl:1682\n",
       "[270] *(D::LinearAlgebra.Diagonal, A::SparseArrays.AbstractSparseMatrixCSC) in SparseArrays at C:\\Users\\dan_x\\AppData\\Local\\Programs\\Julia-1.7.3\\share\\julia\\stdlib\\v1.7\\SparseArrays\\src\\linalg.jl:144\n",
       "[271] *(D::LinearAlgebra.Diagonal, adjQ::LinearAlgebra.Adjoint{<:Any, <:Union{LinearAlgebra.QRCompactWYQ, LinearAlgebra.QRPackedQ}}) in LinearAlgebra at C:\\Users\\dan_x\\AppData\\Local\\Programs\\Julia-1.7.3\\share\\julia\\stdlib\\v1.7\\LinearAlgebra\\src\\diagonal.jl:301\n",
       "[272] *(D::LinearAlgebra.Diagonal, B::LinearAlgebra.Adjoint{<:Any, <:LinearAlgebra.AbstractTriangular}) in LinearAlgebra at C:\\Users\\dan_x\\AppData\\Local\\Programs\\Julia-1.7.3\\share\\julia\\stdlib\\v1.7\\LinearAlgebra\\src\\diagonal.jl:299\n",
       "[273] *(D::LinearAlgebra.Diagonal, B::LinearAlgebra.Adjoint{<:Any, <:LinearAlgebra.Diagonal}) in LinearAlgebra at C:\\Users\\dan_x\\AppData\\Local\\Programs\\Julia-1.7.3\\share\\julia\\stdlib\\v1.7\\LinearAlgebra\\src\\diagonal.jl:298\n",
       "[274] *(A::LinearAlgebra.Diagonal, adjB::LinearAlgebra.Adjoint{<:Any, <:Union{LinearAlgebra.Hermitian{Complex{T}, S}, LinearAlgebra.Hermitian{T, S}, LinearAlgebra.Symmetric{T, S}} where {T<:Real, S}}) in LinearAlgebra at C:\\Users\\dan_x\\AppData\\Local\\Programs\\Julia-1.7.3\\share\\julia\\stdlib\\v1.7\\LinearAlgebra\\src\\diagonal.jl:420\n",
       "[275] *(A::AbstractMatrix, adjB::LinearAlgebra.Adjoint{<:Any, <:Union{LinearAlgebra.Hermitian{Complex{T}, S}, LinearAlgebra.Hermitian{T, S}, LinearAlgebra.Symmetric{T, S}} where {T<:Real, S}}) in LinearAlgebra at C:\\Users\\dan_x\\AppData\\Local\\Programs\\Julia-1.7.3\\share\\julia\\stdlib\\v1.7\\LinearAlgebra\\src\\symmetric.jl:611\n",
       "[276] *(D::LinearAlgebra.Diagonal, adjA::LinearAlgebra.Adjoint{<:Any, <:AbstractMatrix}) in LinearAlgebra at C:\\Users\\dan_x\\AppData\\Local\\Programs\\Julia-1.7.3\\share\\julia\\stdlib\\v1.7\\LinearAlgebra\\src\\diagonal.jl:302\n",
       "[277] *(a::AbstractVector, adjB::LinearAlgebra.Adjoint{<:Any, <:AbstractMatrix}) in LinearAlgebra at C:\\Users\\dan_x\\AppData\\Local\\Programs\\Julia-1.7.3\\share\\julia\\stdlib\\v1.7\\LinearAlgebra\\src\\matmul.jl:59\n",
       "[278] *(A::LinearAlgebra.Diagonal, B::LinearAlgebra.Adjoint{<:Any, <:LinearAlgebra.AbstractRotation}) in LinearAlgebra at C:\\Users\\dan_x\\AppData\\Local\\Programs\\Julia-1.7.3\\share\\julia\\stdlib\\v1.7\\LinearAlgebra\\src\\givens.jl:412\n",
       "[279] *(A::AbstractVector, adjR::LinearAlgebra.Adjoint{<:Any, <:LinearAlgebra.AbstractRotation}) in LinearAlgebra at C:\\Users\\dan_x\\AppData\\Local\\Programs\\Julia-1.7.3\\share\\julia\\stdlib\\v1.7\\LinearAlgebra\\src\\givens.jl:13\n",
       "[280] *(A::AbstractMatrix, adjR::LinearAlgebra.Adjoint{<:Any, <:LinearAlgebra.AbstractRotation}) in LinearAlgebra at C:\\Users\\dan_x\\AppData\\Local\\Programs\\Julia-1.7.3\\share\\julia\\stdlib\\v1.7\\LinearAlgebra\\src\\givens.jl:14\n",
       "[281] *(A::LinearAlgebra.Diagonal, transB::LinearAlgebra.Transpose{<:Any, <:Union{LinearAlgebra.Hermitian{T, S}, LinearAlgebra.Symmetric{Complex{T}, S}, LinearAlgebra.Symmetric{T, S}} where {T<:Real, S}}) in LinearAlgebra at C:\\Users\\dan_x\\AppData\\Local\\Programs\\Julia-1.7.3\\share\\julia\\stdlib\\v1.7\\LinearAlgebra\\src\\diagonal.jl:418\n",
       "[282] *(A::AbstractMatrix, transB::LinearAlgebra.Transpose{<:Any, <:Union{LinearAlgebra.Hermitian{T, S}, LinearAlgebra.Symmetric{Complex{T}, S}, LinearAlgebra.Symmetric{T, S}} where {T<:Real, S}}) in LinearAlgebra at C:\\Users\\dan_x\\AppData\\Local\\Programs\\Julia-1.7.3\\share\\julia\\stdlib\\v1.7\\LinearAlgebra\\src\\symmetric.jl:607\n",
       "[283] *(D::LinearAlgebra.Diagonal, B::LinearAlgebra.Transpose{<:Any, <:LinearAlgebra.AbstractTriangular}) in LinearAlgebra at C:\\Users\\dan_x\\AppData\\Local\\Programs\\Julia-1.7.3\\share\\julia\\stdlib\\v1.7\\LinearAlgebra\\src\\diagonal.jl:310\n",
       "[284] *(D::LinearAlgebra.Diagonal, B::LinearAlgebra.Transpose{<:Any, <:LinearAlgebra.Diagonal}) in LinearAlgebra at C:\\Users\\dan_x\\AppData\\Local\\Programs\\Julia-1.7.3\\share\\julia\\stdlib\\v1.7\\LinearAlgebra\\src\\diagonal.jl:309\n",
       "[285] *(u::AbstractVector, v::Union{LinearAlgebra.Adjoint{T, var\"#s861\"}, LinearAlgebra.Transpose{T, var\"#s861\"}} where {T, var\"#s861\"<:(AbstractVector)}) in LinearAlgebra at C:\\Users\\dan_x\\AppData\\Local\\Programs\\Julia-1.7.3\\share\\julia\\stdlib\\v1.7\\LinearAlgebra\\src\\adjtrans.jl:297\n",
       "[286] *(u::AbstractVector, tv::Union{LinearAlgebra.Adjoint{T, var\"#s861\"}, LinearAlgebra.Transpose{T, var\"#s861\"}} where {T, var\"#s861\"<:(AbstractVector)}, C::AbstractMatrix) in LinearAlgebra at C:\\Users\\dan_x\\AppData\\Local\\Programs\\Julia-1.7.3\\share\\julia\\stdlib\\v1.7\\LinearAlgebra\\src\\matmul.jl:1118\n",
       "[287] *(u::AbstractVector, tv::Union{LinearAlgebra.Adjoint{T, var\"#s861\"}, LinearAlgebra.Transpose{T, var\"#s861\"}} where {T, var\"#s861\"<:(AbstractVector)}, γ::Number) in LinearAlgebra at C:\\Users\\dan_x\\AppData\\Local\\Programs\\Julia-1.7.3\\share\\julia\\stdlib\\v1.7\\LinearAlgebra\\src\\matmul.jl:1117\n",
       "[288] *(D::LinearAlgebra.Diagonal, transA::LinearAlgebra.Transpose{<:Any, <:AbstractMatrix}) in LinearAlgebra at C:\\Users\\dan_x\\AppData\\Local\\Programs\\Julia-1.7.3\\share\\julia\\stdlib\\v1.7\\LinearAlgebra\\src\\diagonal.jl:312\n",
       "[289] *(a::AbstractVector, transB::LinearAlgebra.Transpose{<:Any, <:AbstractMatrix}) in LinearAlgebra at C:\\Users\\dan_x\\AppData\\Local\\Programs\\Julia-1.7.3\\share\\julia\\stdlib\\v1.7\\LinearAlgebra\\src\\matmul.jl:55\n",
       "[290] *(Da::LinearAlgebra.Diagonal, Db::LinearAlgebra.Diagonal) in LinearAlgebra at C:\\Users\\dan_x\\AppData\\Local\\Programs\\Julia-1.7.3\\share\\julia\\stdlib\\v1.7\\LinearAlgebra\\src\\diagonal.jl:201\n",
       "[291] *(A::AbstractMatrix, D::LinearAlgebra.Diagonal) in LinearAlgebra at C:\\Users\\dan_x\\AppData\\Local\\Programs\\Julia-1.7.3\\share\\julia\\stdlib\\v1.7\\LinearAlgebra\\src\\diagonal.jl:222\n",
       "[292] *(x::LinearAlgebra.Diagonal, H::LinearAlgebra.UpperHessenberg) in LinearAlgebra at C:\\Users\\dan_x\\AppData\\Local\\Programs\\Julia-1.7.3\\share\\julia\\stdlib\\v1.7\\LinearAlgebra\\src\\hessenberg.jl:115\n",
       "[293] *(A::LinearAlgebra.Diagonal, B::LinearAlgebra.SymTridiagonal) in LinearAlgebra at C:\\Users\\dan_x\\AppData\\Local\\Programs\\Julia-1.7.3\\share\\julia\\stdlib\\v1.7\\LinearAlgebra\\src\\bidiag.jl:690\n",
       "[294] *(D::LinearAlgebra.Diagonal, A::AbstractMatrix) in LinearAlgebra at C:\\Users\\dan_x\\AppData\\Local\\Programs\\Julia-1.7.3\\share\\julia\\stdlib\\v1.7\\LinearAlgebra\\src\\diagonal.jl:224\n",
       "[295] *(A::AbstractMatrix, B::AbstractMatrix) in LinearAlgebra at C:\\Users\\dan_x\\AppData\\Local\\Programs\\Julia-1.7.3\\share\\julia\\stdlib\\v1.7\\LinearAlgebra\\src\\matmul.jl:151\n",
       "[296] *(A::AbstractMatrix, B::AbstractMatrix, γ::Number) in LinearAlgebra at C:\\Users\\dan_x\\AppData\\Local\\Programs\\Julia-1.7.3\\share\\julia\\stdlib\\v1.7\\LinearAlgebra\\src\\matmul.jl:1110\n",
       "[297] *(A::AbstractMatrix, B::AbstractMatrix, x::AbstractVector) in LinearAlgebra at C:\\Users\\dan_x\\AppData\\Local\\Programs\\Julia-1.7.3\\share\\julia\\stdlib\\v1.7\\LinearAlgebra\\src\\matmul.jl:1104\n",
       "[298] *(a::AbstractVector, B::AbstractMatrix) in LinearAlgebra at C:\\Users\\dan_x\\AppData\\Local\\Programs\\Julia-1.7.3\\share\\julia\\stdlib\\v1.7\\LinearAlgebra\\src\\matmul.jl:63\n",
       "[299] *(A::AbstractMatrix, B::AbstractMatrix, C::AbstractMatrix) in LinearAlgebra at C:\\Users\\dan_x\\AppData\\Local\\Programs\\Julia-1.7.3\\share\\julia\\stdlib\\v1.7\\LinearAlgebra\\src\\matmul.jl:1120\n",
       "[300] *(A::AbstractMatrix, B::AbstractMatrix, γ::Number, δ::Number) in LinearAlgebra at C:\\Users\\dan_x\\AppData\\Local\\Programs\\Julia-1.7.3\\share\\julia\\stdlib\\v1.7\\LinearAlgebra\\src\\matmul.jl:1176\n",
       "[301] *(A::AbstractMatrix, B::AbstractMatrix, x::AbstractVector, δ::Number) in LinearAlgebra at C:\\Users\\dan_x\\AppData\\Local\\Programs\\Julia-1.7.3\\share\\julia\\stdlib\\v1.7\\LinearAlgebra\\src\\matmul.jl:1177\n",
       "[302] *(A::AbstractMatrix, B::AbstractMatrix, C::AbstractMatrix, x::AbstractVector) in LinearAlgebra at C:\\Users\\dan_x\\AppData\\Local\\Programs\\Julia-1.7.3\\share\\julia\\stdlib\\v1.7\\LinearAlgebra\\src\\matmul.jl:1181\n",
       "[303] *(A::AbstractMatrix, B::AbstractMatrix, C::AbstractMatrix, δ::Number) in LinearAlgebra at C:\\Users\\dan_x\\AppData\\Local\\Programs\\Julia-1.7.3\\share\\julia\\stdlib\\v1.7\\LinearAlgebra\\src\\matmul.jl:1186\n",
       "[304] *(A::AbstractMatrix, B::AbstractMatrix, C::AbstractMatrix, D::AbstractMatrix) in LinearAlgebra at C:\\Users\\dan_x\\AppData\\Local\\Programs\\Julia-1.7.3\\share\\julia\\stdlib\\v1.7\\LinearAlgebra\\src\\matmul.jl:1189\n",
       "[305] *(D::LinearAlgebra.Diagonal, V::AbstractVector) in LinearAlgebra at C:\\Users\\dan_x\\AppData\\Local\\Programs\\Julia-1.7.3\\share\\julia\\stdlib\\v1.7\\LinearAlgebra\\src\\diagonal.jl:209\n",
       "[306] *(A::AbstractMatrix{T}, x::AbstractVector{S}) where {T, S} in LinearAlgebra at C:\\Users\\dan_x\\AppData\\Local\\Programs\\Julia-1.7.3\\share\\julia\\stdlib\\v1.7\\LinearAlgebra\\src\\matmul.jl:49\n",
       "[307] *(A::AbstractMatrix, x::AbstractVector, γ::Number) in LinearAlgebra at C:\\Users\\dan_x\\AppData\\Local\\Programs\\Julia-1.7.3\\share\\julia\\stdlib\\v1.7\\LinearAlgebra\\src\\matmul.jl:1109\n",
       "[308] *(A::AbstractMatrix, x::AbstractVector, γ::Number, δ::Number) in LinearAlgebra at C:\\Users\\dan_x\\AppData\\Local\\Programs\\Julia-1.7.3\\share\\julia\\stdlib\\v1.7\\LinearAlgebra\\src\\matmul.jl:1175\n",
       "[309] *(D::LinearAlgebra.Diagonal, x::Number) in LinearAlgebra at C:\\Users\\dan_x\\AppData\\Local\\Programs\\Julia-1.7.3\\share\\julia\\stdlib\\v1.7\\LinearAlgebra\\src\\diagonal.jl:191\n",
       "[310] *(A::AbstractArray, B::Number) in Base at arraymath.jl:55\n",
       "[311] *(index::CartesianIndex, a::Integer) in Base.IteratorsMD at multidimensional.jl:124\n",
       "[312] *(r::AbstractRange{<:Real}, x::Dates.Period) in Dates at C:\\Users\\dan_x\\AppData\\Local\\Programs\\Julia-1.7.3\\share\\julia\\stdlib\\v1.7\\Dates\\src\\ranges.jl:66\n",
       "[313] *(A::AbstractArray, B::Dates.Period) in Dates at C:\\Users\\dan_x\\AppData\\Local\\Programs\\Julia-1.7.3\\share\\julia\\stdlib\\v1.7\\Dates\\src\\periods.jl:98\n",
       "[314] *(y::AbstractFloat, x::Bool) in Base at bool.jl:178\n",
       "[315] *(F::LinearAlgebra.Hessenberg{<:Any, <:AbstractMatrix{T}}, x::S) where {T, S<:Number} in LinearAlgebra at C:\\Users\\dan_x\\AppData\\Local\\Programs\\Julia-1.7.3\\share\\julia\\stdlib\\v1.7\\LinearAlgebra\\src\\hessenberg.jl:621\n",
       "[316] *(::Missing) in Base at missing.jl:101\n",
       "[317] *(::Missing, ::Number) in Base at missing.jl:123\n",
       "[318] *(d::Missing, x::Union{AbstractChar, AbstractString}) in Base at missing.jl:182\n",
       "[319] *(::Missing, ::Missing) in Base at missing.jl:122\n",
       "[320] *(x::Float16, y::Float16) in Base at float.jl:403\n",
       "[321] *(x::Float32, y::Float32) in Base at float.jl:404\n",
       "[322] *(x::Bool, y::T) where T<:AbstractFloat in Base at bool.jl:175\n",
       "[323] *(x::Bool, y::AbstractIrrational) in Base at irrationals.jl:160\n",
       "[324] *(x::Bool, y::Bool) in Base at bool.jl:164\n",
       "[325] *(x::Bool, z::Complex{Bool}) in Base at complex.jl:303\n",
       "[326] *(x::Real, z::Complex{Bool}) in Base at complex.jl:321\n",
       "[327] *(x::Bool, z::Complex) in Base at complex.jl:310\n",
       "[328] *(x::Real, z::Complex) in Base at complex.jl:333\n",
       "[329] *(B::BitMatrix, J::LinearAlgebra.UniformScaling) in LinearAlgebra at C:\\Users\\dan_x\\AppData\\Local\\Programs\\Julia-1.7.3\\share\\julia\\stdlib\\v1.7\\LinearAlgebra\\src\\uniformscaling.jl:259\n",
       "[330] *(x::AbstractMatrix{<:Number}) in Base at abstractarraymath.jl:105\n",
       "[331] *(A::AbstractMatrix, J::LinearAlgebra.UniformScaling) in LinearAlgebra at C:\\Users\\dan_x\\AppData\\Local\\Programs\\Julia-1.7.3\\share\\julia\\stdlib\\v1.7\\LinearAlgebra\\src\\uniformscaling.jl:261\n",
       "[332] *(v::AbstractVector, J::LinearAlgebra.UniformScaling) in LinearAlgebra at C:\\Users\\dan_x\\AppData\\Local\\Programs\\Julia-1.7.3\\share\\julia\\stdlib\\v1.7\\LinearAlgebra\\src\\uniformscaling.jl:262\n",
       "[333] *(x::BigFloat, c::Union{UInt16, UInt32, UInt8}) in Base.MPFR at mpfr.jl:392\n",
       "[334] *(x::BigFloat, c::Union{Int16, Int32, Int8}) in Base.MPFR at mpfr.jl:400\n",
       "[335] *(x::BigFloat, c::Union{Float16, Float32, Float64}) in Base.MPFR at mpfr.jl:408\n",
       "[336] *(x::BigFloat, y::BigFloat) in Base.MPFR at mpfr.jl:385\n",
       "[337] *(x::BigFloat, c::BigInt) in Base.MPFR at mpfr.jl:416\n",
       "[338] *(a::BigFloat, b::BigFloat, c::BigFloat) in Base.MPFR at mpfr.jl:557\n",
       "[339] *(a::BigFloat, b::BigFloat, c::BigFloat, d::BigFloat) in Base.MPFR at mpfr.jl:563\n",
       "[340] *(a::BigFloat, b::BigFloat, c::BigFloat, d::BigFloat, e::BigFloat) in Base.MPFR at mpfr.jl:570\n",
       "[341] *(x::Rational{BigInt}, y::Rational{BigInt}) in Base.GMP.MPQ at gmp.jl:909\n",
       "[342] *(x::Rational, y::Rational) in Base at rational.jl:331\n",
       "[343] *(z::Complex{Bool}, x::Bool) in Base at complex.jl:304\n",
       "[344] *(z::Complex, x::Bool) in Base at complex.jl:311\n",
       "[345] *(z::Complex{Bool}, x::Real) in Base at complex.jl:322\n",
       "[346] *(z::Complex, x::Real) in Base at complex.jl:334\n",
       "[347] *(x::Float64, y::Float64) in Base at float.jl:405\n",
       "[348] *(x::BigInt, c::Union{UInt16, UInt32, UInt8}) in Base.GMP at gmp.jl:539\n",
       "[349] *(x::BigInt, c::Union{Int16, Int32, Int8}) in Base.GMP at gmp.jl:541\n",
       "[350] *(x::BigInt, y::BigInt) in Base.GMP at gmp.jl:480\n",
       "[351] *(a::BigInt, b::BigInt, c::BigInt) in Base.GMP at gmp.jl:520\n",
       "[352] *(a::BigInt, b::BigInt, c::BigInt, d::BigInt) in Base.GMP at gmp.jl:521\n",
       "[353] *(a::BigInt, b::BigInt, c::BigInt, d::BigInt, e::BigInt) in Base.GMP at gmp.jl:522\n",
       "[354] *(a::Integer, b::Integer) in Base at int.jl:978\n",
       "[355] *(c::BigInt, x::BigFloat) in Base.MPFR at mpfr.jl:421\n",
       "[356] *(x::Number) in Base at operators.jl:593\n",
       "[357] *(α::Number, vt::Union{LinearAlgebra.Adjoint{T, var\"#s861\"}, LinearAlgebra.Transpose{T, var\"#s861\"}} where {T, var\"#s861\"<:(AbstractVector)}, C::AbstractMatrix, x::AbstractVector) in LinearAlgebra at C:\\Users\\dan_x\\AppData\\Local\\Programs\\Julia-1.7.3\\share\\julia\\stdlib\\v1.7\\LinearAlgebra\\src\\matmul.jl:1171\n",
       "[358] *(x::T, y::T) where T<:Number in Base at promotion.jl:455\n",
       "[359] *(x::Number, y::Number) in Base at promotion.jl:380\n",
       "[360] *(α::Number, β::Number, C::AbstractMatrix, D::AbstractMatrix) in LinearAlgebra at C:\\Users\\dan_x\\AppData\\Local\\Programs\\Julia-1.7.3\\share\\julia\\stdlib\\v1.7\\LinearAlgebra\\src\\matmul.jl:1169\n",
       "[361] *(α::Number, β::Number, C::AbstractMatrix, x::AbstractVector) in LinearAlgebra at C:\\Users\\dan_x\\AppData\\Local\\Programs\\Julia-1.7.3\\share\\julia\\stdlib\\v1.7\\LinearAlgebra\\src\\matmul.jl:1168\n",
       "[362] *(r::Regex) in Base at regex.jl:809\n",
       "[363] *(r1::Union{Regex, AbstractChar, AbstractString}, rs::Union{Regex, AbstractChar, AbstractString}...) in Base at regex.jl:788\n",
       "[364] *(a, b, c, xs...) in Base at operators.jl:655"
      ]
     },
     "execution_count": 53,
     "metadata": {},
     "output_type": "execute_result"
    }
   ],
   "source": [
    "methods(*)"
   ]
  },
  {
   "cell_type": "code",
   "execution_count": 54,
   "metadata": {},
   "outputs": [
    {
     "data": {
      "text/html": [
       "# 1 method for generic function <b>mult</b>:<ul><li> mult(x, y) in Main at In[50]:1</li> </ul>"
      ],
      "text/plain": [
       "# 1 method for generic function \"mult\":\n",
       "[1] mult(x, y) in Main at In[50]:1"
      ]
     },
     "execution_count": 54,
     "metadata": {},
     "output_type": "execute_result"
    }
   ],
   "source": [
    "methods(mult)"
   ]
  },
  {
   "cell_type": "code",
   "execution_count": 55,
   "metadata": {
    "collapsed": true
   },
   "outputs": [
    {
     "ename": "LoadError",
     "evalue": "MethodError: no method matching *(::Vector{Int64}, ::Vector{Int64})\n\u001b[0mClosest candidates are:\n\u001b[0m  *(::Any, ::Any, \u001b[91m::Any\u001b[39m, \u001b[91m::Any...\u001b[39m) at C:\\Users\\dan_x\\AppData\\Local\\Programs\\Julia-1.7.3\\share\\julia\\base\\operators.jl:655\n\u001b[0m  *(\u001b[91m::StridedMatrix{T}\u001b[39m, ::StridedVector{S}) where {T<:Union{Float32, Float64, ComplexF32, ComplexF64}, S<:Real} at C:\\Users\\dan_x\\AppData\\Local\\Programs\\Julia-1.7.3\\share\\julia\\stdlib\\v1.7\\LinearAlgebra\\src\\matmul.jl:44\n\u001b[0m  *(::StridedVecOrMat, \u001b[91m::LinearAlgebra.Adjoint{<:Any, <:LinearAlgebra.LQPackedQ}\u001b[39m) at C:\\Users\\dan_x\\AppData\\Local\\Programs\\Julia-1.7.3\\share\\julia\\stdlib\\v1.7\\LinearAlgebra\\src\\lq.jl:266\n\u001b[0m  ...",
     "output_type": "error",
     "traceback": [
      "MethodError: no method matching *(::Vector{Int64}, ::Vector{Int64})\n\u001b[0mClosest candidates are:\n\u001b[0m  *(::Any, ::Any, \u001b[91m::Any\u001b[39m, \u001b[91m::Any...\u001b[39m) at C:\\Users\\dan_x\\AppData\\Local\\Programs\\Julia-1.7.3\\share\\julia\\base\\operators.jl:655\n\u001b[0m  *(\u001b[91m::StridedMatrix{T}\u001b[39m, ::StridedVector{S}) where {T<:Union{Float32, Float64, ComplexF32, ComplexF64}, S<:Real} at C:\\Users\\dan_x\\AppData\\Local\\Programs\\Julia-1.7.3\\share\\julia\\stdlib\\v1.7\\LinearAlgebra\\src\\matmul.jl:44\n\u001b[0m  *(::StridedVecOrMat, \u001b[91m::LinearAlgebra.Adjoint{<:Any, <:LinearAlgebra.LQPackedQ}\u001b[39m) at C:\\Users\\dan_x\\AppData\\Local\\Programs\\Julia-1.7.3\\share\\julia\\stdlib\\v1.7\\LinearAlgebra\\src\\lq.jl:266\n\u001b[0m  ...",
      "",
      "Stacktrace:",
      " [1] mult(x::Vector{Int64}, y::Vector{Int64})",
      "   @ Main .\\In[50]:2",
      " [2] top-level scope",
      "   @ In[55]:1",
      " [3] eval",
      "   @ .\\boot.jl:373 [inlined]",
      " [4] include_string(mapexpr::typeof(REPL.softscope), mod::Module, code::String, filename::String)",
      "   @ Base .\\loading.jl:1196"
     ]
    }
   ],
   "source": [
    "mult([2, 3, 4, 5],[7, 8, 1, 2])"
   ]
  },
  {
   "cell_type": "markdown",
   "metadata": {},
   "source": [
    "**El error anterior surge debido a que *() no tiene un metodo definido para dichos valores, es decir los vectores**\n",
    "En realidad, si tiene un metodo para multiplicarlos,sin embargo estos tendrian que cumplir con las reglas de conformidad de matrices "
   ]
  },
  {
   "cell_type": "code",
   "execution_count": 56,
   "metadata": {
    "collapsed": true
   },
   "outputs": [
    {
     "ename": "LoadError",
     "evalue": "UndefVarError: multiplica not defined",
     "output_type": "error",
     "traceback": [
      "UndefVarError: multiplica not defined",
      "",
      "Stacktrace:",
      " [1] top-level scope",
      "   @ In[56]:1",
      " [2] eval",
      "   @ .\\boot.jl:373 [inlined]",
      " [3] include_string(mapexpr::typeof(REPL.softscope), mod::Module, code::String, filename::String)",
      "   @ Base .\\loading.jl:1196"
     ]
    }
   ],
   "source": [
    "multiplica(reshape([2, 3, 4, 5],(1,4)),[7, 8, 1, 2]) #convertimos el vector en una matriz de 1x4 para \n",
    "                                                     #poder realizar la operacion"
   ]
  },
  {
   "cell_type": "code",
   "execution_count": 57,
   "metadata": {
    "scrolled": true
   },
   "outputs": [
    {
     "data": {
      "text/plain": [
       "1×4 Matrix{Int64}:\n",
       " 2  3  4  5"
      ]
     },
     "execution_count": 57,
     "metadata": {},
     "output_type": "execute_result"
    }
   ],
   "source": [
    "reshape([2, 3, 4, 5],(1,4))"
   ]
  },
  {
   "cell_type": "markdown",
   "metadata": {},
   "source": [
    "#### Podemos entender tambien el despacho multiple definiendo una función con el tipo de entrada de manera explicita, agregando en el argumento despues de la variable el tipo de dato de la siguiente forma *variables::tipo*"
   ]
  },
  {
   "cell_type": "code",
   "execution_count": 58,
   "metadata": {},
   "outputs": [
    {
     "data": {
      "text/plain": [
       "func_tipo (generic function with 1 method)"
      ]
     },
     "execution_count": 58,
     "metadata": {},
     "output_type": "execute_result"
    }
   ],
   "source": [
    "function func_tipo(x::Int64)\n",
    "    println(\"$x es un dato de tipo entero de 64 bits Int64\")\n",
    "end"
   ]
  },
  {
   "cell_type": "code",
   "execution_count": 59,
   "metadata": {},
   "outputs": [
    {
     "data": {
      "text/plain": [
       "func_tipo (generic function with 2 methods)"
      ]
     },
     "execution_count": 59,
     "metadata": {},
     "output_type": "execute_result"
    }
   ],
   "source": [
    "function func_tipo(x::String)\n",
    "    println(\"$x es una cadena de caracteres, un dato de tipo String\")\n",
    "end"
   ]
  },
  {
   "cell_type": "code",
   "execution_count": 60,
   "metadata": {},
   "outputs": [
    {
     "data": {
      "text/plain": [
       "func_tipo (generic function with 3 methods)"
      ]
     },
     "execution_count": 60,
     "metadata": {},
     "output_type": "execute_result"
    }
   ],
   "source": [
    "function func_tipo(x::Float64)\n",
    "    println(\"$x es un dato de tipo decimal o punto flotante de 64 bits Float64\")\n",
    "end"
   ]
  },
  {
   "cell_type": "markdown",
   "metadata": {},
   "source": [
    "En este ejemplo definimos la misma funcion tres veces con diferente dato de entrada mostrandonos en el *output* el cambio en el numero de metodos que ahora tiene, esto es, los tipos de datos que ahora recibe."
   ]
  },
  {
   "cell_type": "code",
   "execution_count": 61,
   "metadata": {},
   "outputs": [
    {
     "data": {
      "text/html": [
       "# 3 methods for generic function <b>func_tipo</b>:<ul><li> func_tipo(x::<b>Int64</b>) in Main at In[58]:1</li> <li> func_tipo(x::<b>String</b>) in Main at In[59]:1</li> <li> func_tipo(x::<b>Float64</b>) in Main at In[60]:1</li> </ul>"
      ],
      "text/plain": [
       "# 3 methods for generic function \"func_tipo\":\n",
       "[1] func_tipo(x::Int64) in Main at In[58]:1\n",
       "[2] func_tipo(x::String) in Main at In[59]:1\n",
       "[3] func_tipo(x::Float64) in Main at In[60]:1"
      ]
     },
     "execution_count": 61,
     "metadata": {},
     "output_type": "execute_result"
    }
   ],
   "source": [
    "methods(func_tipo)"
   ]
  },
  {
   "cell_type": "code",
   "execution_count": 62,
   "metadata": {},
   "outputs": [
    {
     "name": "stdout",
     "output_type": "stream",
     "text": [
      "85 es un dato de tipo entero de 64 bits Int64\n"
     ]
    }
   ],
   "source": [
    "func_tipo(85)"
   ]
  },
  {
   "cell_type": "code",
   "execution_count": 63,
   "metadata": {},
   "outputs": [
    {
     "name": "stdout",
     "output_type": "stream",
     "text": [
      "Danilo es una cadena de caracteres, un dato de tipo String\n"
     ]
    }
   ],
   "source": [
    "func_tipo(\"Danilo\")"
   ]
  },
  {
   "cell_type": "markdown",
   "metadata": {},
   "source": [
    " Cualquier otro tipo de dato distinto a los anteriores nos regresa un error, por ejemplo un valor boolean"
   ]
  },
  {
   "cell_type": "code",
   "execution_count": 64,
   "metadata": {},
   "outputs": [
    {
     "ename": "LoadError",
     "evalue": "MethodError: no method matching func_tipo(::Bool)\n\u001b[0mClosest candidates are:\n\u001b[0m  func_tipo(\u001b[91m::Int64\u001b[39m) at In[58]:1\n\u001b[0m  func_tipo(\u001b[91m::String\u001b[39m) at In[59]:1\n\u001b[0m  func_tipo(\u001b[91m::Float64\u001b[39m) at In[60]:1",
     "output_type": "error",
     "traceback": [
      "MethodError: no method matching func_tipo(::Bool)\n\u001b[0mClosest candidates are:\n\u001b[0m  func_tipo(\u001b[91m::Int64\u001b[39m) at In[58]:1\n\u001b[0m  func_tipo(\u001b[91m::String\u001b[39m) at In[59]:1\n\u001b[0m  func_tipo(\u001b[91m::Float64\u001b[39m) at In[60]:1",
      "",
      "Stacktrace:",
      " [1] top-level scope",
      "   @ In[64]:1",
      " [2] eval",
      "   @ .\\boot.jl:373 [inlined]",
      " [3] include_string(mapexpr::typeof(REPL.softscope), mod::Module, code::String, filename::String)",
      "   @ Base .\\loading.jl:1196"
     ]
    }
   ],
   "source": [
    "func_tipo(true)"
   ]
  },
  {
   "cell_type": "markdown",
   "metadata": {},
   "source": [
    "**Ejercicio**: Define operaciones matematicas sobre un vector 2D. Define una particula con posicion y velocidad en 2D.Define una función de movimiento que actúa sobre una partícula para moverla durante un tiempo $\\delta t$"
   ]
  },
  {
   "cell_type": "markdown",
   "metadata": {},
   "source": [
    "Primero definimos un tipo de dato compuesto:"
   ]
  },
  {
   "cell_type": "code",
   "execution_count": 65,
   "metadata": {},
   "outputs": [],
   "source": [
    "struct V2D #nuevo tipo\n",
    "    x::Float64\n",
    "    y::Float64\n",
    "end"
   ]
  },
  {
   "cell_type": "code",
   "execution_count": 72,
   "metadata": {},
   "outputs": [
    {
     "data": {
      "text/plain": [
       "V2D(8.0, 6.0)"
      ]
     },
     "execution_count": 72,
     "metadata": {},
     "output_type": "execute_result"
    }
   ],
   "source": [
    "v = V2D(3,4)\n",
    "w = V2D(8,6)"
   ]
  },
  {
   "cell_type": "markdown",
   "metadata": {},
   "source": [
    "Puesto que no hay un metodo definido de suma para nuestro nuevo tipo de dato, creamos la \"regla\" para realizar la operación, como lo hicimos anteriormente para concatenar las cadenas."
   ]
  },
  {
   "cell_type": "code",
   "execution_count": 75,
   "metadata": {},
   "outputs": [
    {
     "data": {
      "text/plain": [
       "+ (generic function with 211 methods)"
      ]
     },
     "execution_count": 75,
     "metadata": {},
     "output_type": "execute_result"
    }
   ],
   "source": [
    "import Base:+\n",
    "+(v::V2D, w::V2D)= V2D(v.x+w.x, v.y+w.y)"
   ]
  },
  {
   "cell_type": "code",
   "execution_count": 76,
   "metadata": {},
   "outputs": [
    {
     "data": {
      "text/plain": [
       "V2D(11.0, 10.0)"
      ]
     },
     "execution_count": 76,
     "metadata": {},
     "output_type": "execute_result"
    }
   ],
   "source": [
    "v+w"
   ]
  },
  {
   "cell_type": "markdown",
   "metadata": {},
   "source": [
    "Podemos tambien crear un metodo para multiplicar por un escalar nuestro dato tipo vector2D:"
   ]
  },
  {
   "cell_type": "code",
   "execution_count": 92,
   "metadata": {},
   "outputs": [
    {
     "data": {
      "text/plain": [
       "* (generic function with 366 methods)"
      ]
     },
     "execution_count": 92,
     "metadata": {},
     "output_type": "execute_result"
    }
   ],
   "source": [
    "import Base:*\n",
    "*(α::Number,ω::V2D) = V2D(α*ω.x, α*ω.y)"
   ]
  },
  {
   "cell_type": "code",
   "execution_count": 95,
   "metadata": {},
   "outputs": [
    {
     "data": {
      "text/plain": [
       "V2D(15.0, 20.0)"
      ]
     },
     "execution_count": 95,
     "metadata": {},
     "output_type": "execute_result"
    }
   ],
   "source": [
    "v*5.0"
   ]
  },
  {
   "cell_type": "code",
   "execution_count": 113,
   "metadata": {},
   "outputs": [
    {
     "name": "stderr",
     "output_type": "stream",
     "text": [
      "\u001b[32m\u001b[1m   Resolving\u001b[22m\u001b[39m package versions...\n",
      "\u001b[32m\u001b[1m   Installed\u001b[22m\u001b[39m PyPlot ─ v2.11.0\n",
      "\u001b[32m\u001b[1m   Installed\u001b[22m\u001b[39m PyCall ─ v1.94.1\n",
      "\u001b[32m\u001b[1m    Updating\u001b[22m\u001b[39m `C:\\Users\\dan_x\\.julia\\environments\\v1.7\\Project.toml`\n",
      " \u001b[90m [d330b81b] \u001b[39m\u001b[92m+ PyPlot v2.11.0\u001b[39m\n",
      "\u001b[32m\u001b[1m    Updating\u001b[22m\u001b[39m `C:\\Users\\dan_x\\.julia\\environments\\v1.7\\Manifest.toml`\n",
      " \u001b[90m [438e738f] \u001b[39m\u001b[92m+ PyCall v1.94.1\u001b[39m\n",
      " \u001b[90m [d330b81b] \u001b[39m\u001b[92m+ PyPlot v2.11.0\u001b[39m\n",
      "\u001b[32m\u001b[1m    Building\u001b[22m\u001b[39m PyCall → `C:\\Users\\dan_x\\.julia\\scratchspaces\\44cfe95a-1eb2-52ea-b672-e2afdf69b78f\\53b8b07b721b77144a0fbbbc2675222ebf40a02d\\build.log`\n",
      "\u001b[32m\u001b[1mPrecompiling\u001b[22m\u001b[39m project...\n",
      "\u001b[32m  ✓ \u001b[39m\u001b[90mPyCall\u001b[39m\n",
      "\u001b[32m  ✓ \u001b[39mPyPlot\n",
      "  2 dependencies successfully precompiled in 7 seconds (217 already precompiled)\n"
     ]
    }
   ],
   "source": [
    "Pkg.add(\"PyPlot\")"
   ]
  },
  {
   "cell_type": "code",
   "execution_count": 114,
   "metadata": {},
   "outputs": [
    {
     "name": "stderr",
     "output_type": "stream",
     "text": [
      "┌ Info: Installing matplotlib via the Conda matplotlib package...\n",
      "└ @ PyCall C:\\Users\\dan_x\\.julia\\packages\\PyCall\\ygXW2\\src\\PyCall.jl:719\n",
      "┌ Info: Running `conda install -y matplotlib` in root environment\n",
      "└ @ Conda C:\\Users\\dan_x\\.julia\\packages\\Conda\\x2UxR\\src\\Conda.jl:127\n"
     ]
    },
    {
     "name": "stdout",
     "output_type": "stream",
     "text": [
      "Collecting package metadata (current_repodata.json): ...working... done\n",
      "Solving environment: ...working... failed with initial frozen solve. Retrying with flexible solve.\n",
      "Solving environment: ...working... failed with repodata from current_repodata.json, will retry with next repodata source.\n",
      "Collecting package metadata (repodata.json): ...working... done\n",
      "Solving environment: ...working... done\n",
      "\n",
      "## Package Plan ##\n",
      "\n",
      "  environment location: C:\\Users\\dan_x\\.julia\\conda\\3\n",
      "\n",
      "  added / updated specs:\n",
      "    - matplotlib\n",
      "\n",
      "\n",
      "The following packages will be downloaded:\n",
      "\n",
      "    package                    |            build\n",
      "    ---------------------------|-----------------\n",
      "    brotli-1.0.9               |       h8ffe710_7          18 KB  conda-forge\n",
      "    brotli-bin-1.0.9           |       h8ffe710_7          21 KB  conda-forge\n",
      "    cycler-0.11.0              |     pyhd8ed1ab_0          10 KB  conda-forge\n",
      "    fonttools-4.37.1           |  py310he2412df_0         1.7 MB  conda-forge\n",
      "    freetype-2.12.1            |       h546665d_0         506 KB  conda-forge\n",
      "    gettext-0.19.8.1           |    h5728263_1009         4.7 MB  conda-forge\n",
      "    glib-2.72.1                |       h7755175_0         460 KB  conda-forge\n",
      "    glib-tools-2.72.1          |       h7755175_0         167 KB  conda-forge\n",
      "    gst-plugins-base-1.20.3    |       he07aa86_0         2.3 MB  conda-forge\n",
      "    gstreamer-1.20.3           |       hdff456e_0         2.1 MB  conda-forge\n",
      "    icu-70.1                   |       h0e60522_0        17.0 MB  conda-forge\n",
      "    jpeg-9e                    |       h8ffe710_2         366 KB  conda-forge\n",
      "    kiwisolver-1.4.4           |  py310h476a331_0          61 KB  conda-forge\n",
      "    krb5-1.19.3                |       h1176d77_0         847 KB  conda-forge\n",
      "    lcms2-2.12                 |       h2a16943_0         882 KB  conda-forge\n",
      "    lerc-4.0.0                 |       h63175ca_0         190 KB  conda-forge\n",
      "    libbrotlicommon-1.0.9      |       h8ffe710_7          67 KB  conda-forge\n",
      "    libbrotlidec-1.0.9         |       h8ffe710_7          33 KB  conda-forge\n",
      "    libbrotlienc-1.0.9         |       h8ffe710_7         716 KB  conda-forge\n",
      "    libclang-14.0.6            |default_h77d9078_0         144 KB  conda-forge\n",
      "    libclang13-14.0.6          |default_h77d9078_0        24.5 MB  conda-forge\n",
      "    libdeflate-1.13            |       h8ffe710_0          72 KB  conda-forge\n",
      "    libglib-2.72.1             |       h3be07f2_0         3.1 MB  conda-forge\n",
      "    libiconv-1.17              |       h8ffe710_0         698 KB  conda-forge\n",
      "    libogg-1.3.4               |       h8ffe710_1          34 KB  conda-forge\n",
      "    libpng-1.6.37              |       h1d00b33_4         736 KB  conda-forge\n",
      "    libtiff-4.4.0              |       h92677e6_3         1.1 MB  conda-forge\n",
      "    libvorbis-1.3.7            |       h0e60522_0         267 KB  conda-forge\n",
      "    libwebp-base-1.2.4         |       h8ffe710_0         328 KB  conda-forge\n",
      "    libxcb-1.13                |    hcd874cb_1004         1.3 MB  conda-forge\n",
      "    m2w64-gcc-libgfortran-5.3.0|                6         342 KB  conda-forge\n",
      "    m2w64-gcc-libs-5.3.0       |                7         520 KB  conda-forge\n",
      "    m2w64-gcc-libs-core-5.3.0  |                7         214 KB  conda-forge\n",
      "    m2w64-gmp-6.1.0            |                2         726 KB  conda-forge\n",
      "    m2w64-libwinpthread-git-5.0.0.4634.697f757|                2          31 KB  conda-forge\n",
      "    matplotlib-3.5.3           |  py310h5588dad_2           7 KB  conda-forge\n",
      "    matplotlib-base-3.5.3      |  py310h7329aa0_2         7.4 MB  conda-forge\n",
      "    msys2-conda-epoch-20160418 |                1           3 KB  conda-forge\n",
      "    munkres-1.1.4              |     pyh9f0ad1d_0          12 KB  conda-forge\n",
      "    openjpeg-2.5.0             |       hc9384bd_1         256 KB  conda-forge\n",
      "    packaging-21.3             |     pyhd8ed1ab_0          36 KB  conda-forge\n",
      "    pcre-8.45                  |       h0e60522_0         518 KB  conda-forge\n",
      "    pillow-9.2.0               |  py310h52929f7_2        45.4 MB  conda-forge\n",
      "    ply-3.11                   |             py_1          44 KB  conda-forge\n",
      "    pthread-stubs-0.4          |    hcd874cb_1001           6 KB  conda-forge\n",
      "    pyparsing-3.0.9            |     pyhd8ed1ab_0          79 KB  conda-forge\n",
      "    pyqt-5.15.7                |  py310hbabf5d4_0         4.7 MB  conda-forge\n",
      "    pyqt5-sip-12.11.0          |  py310h8a704f9_0          82 KB  conda-forge\n",
      "    python-dateutil-2.8.2      |     pyhd8ed1ab_0         240 KB  conda-forge\n",
      "    qt-main-5.15.4             |       h467ea89_2        69.8 MB  conda-forge\n",
      "    sip-6.6.2                  |  py310h8a704f9_0         523 KB  conda-forge\n",
      "    sqlite-3.39.2              |       h8ffe710_1         660 KB  conda-forge\n",
      "    toml-0.10.2                |     pyhd8ed1ab_0          18 KB  conda-forge\n",
      "    tornado-6.2                |  py310he2412df_0         666 KB  conda-forge\n",
      "    unicodedata2-14.0.0        |  py310he2412df_1         491 KB  conda-forge\n",
      "    xorg-libxau-1.0.9          |       hcd874cb_0          57 KB  conda-forge\n",
      "    xorg-libxdmcp-1.1.3        |       hcd874cb_0          66 KB  conda-forge\n",
      "    zstd-1.5.2                 |       h7755175_4         401 KB  conda-forge\n",
      "    ------------------------------------------------------------\n",
      "                                           Total:       197.5 MB\n",
      "\n",
      "The following NEW packages will be INSTALLED:\n",
      "\n",
      "  brotli             conda-forge/win-64::brotli-1.0.9-h8ffe710_7\n",
      "  brotli-bin         conda-forge/win-64::brotli-bin-1.0.9-h8ffe710_7\n",
      "  cycler             conda-forge/noarch::cycler-0.11.0-pyhd8ed1ab_0\n",
      "  fonttools          conda-forge/win-64::fonttools-4.37.1-py310he2412df_0\n",
      "  freetype           conda-forge/win-64::freetype-2.12.1-h546665d_0\n",
      "  gettext            conda-forge/win-64::gettext-0.19.8.1-h5728263_1009\n",
      "  glib               conda-forge/win-64::glib-2.72.1-h7755175_0\n",
      "  glib-tools         conda-forge/win-64::glib-tools-2.72.1-h7755175_0\n",
      "  gst-plugins-base   conda-forge/win-64::gst-plugins-base-1.20.3-he07aa86_0\n",
      "  gstreamer          conda-forge/win-64::gstreamer-1.20.3-hdff456e_0\n",
      "  icu                conda-forge/win-64::icu-70.1-h0e60522_0\n",
      "  jpeg               conda-forge/win-64::jpeg-9e-h8ffe710_2\n",
      "  kiwisolver         conda-forge/win-64::kiwisolver-1.4.4-py310h476a331_0\n",
      "  krb5               conda-forge/win-64::krb5-1.19.3-h1176d77_0\n",
      "  lcms2              conda-forge/win-64::lcms2-2.12-h2a16943_0\n",
      "  lerc               conda-forge/win-64::lerc-4.0.0-h63175ca_0\n",
      "  libbrotlicommon    conda-forge/win-64::libbrotlicommon-1.0.9-h8ffe710_7\n",
      "  libbrotlidec       conda-forge/win-64::libbrotlidec-1.0.9-h8ffe710_7\n",
      "  libbrotlienc       conda-forge/win-64::libbrotlienc-1.0.9-h8ffe710_7\n",
      "  libclang           conda-forge/win-64::libclang-14.0.6-default_h77d9078_0\n",
      "  libclang13         conda-forge/win-64::libclang13-14.0.6-default_h77d9078_0\n",
      "  libdeflate         conda-forge/win-64::libdeflate-1.13-h8ffe710_0\n",
      "  libglib            conda-forge/win-64::libglib-2.72.1-h3be07f2_0\n",
      "  libiconv           conda-forge/win-64::libiconv-1.17-h8ffe710_0\n",
      "  libogg             conda-forge/win-64::libogg-1.3.4-h8ffe710_1\n",
      "  libpng             conda-forge/win-64::libpng-1.6.37-h1d00b33_4\n",
      "  libtiff            conda-forge/win-64::libtiff-4.4.0-h92677e6_3\n",
      "  libvorbis          conda-forge/win-64::libvorbis-1.3.7-h0e60522_0\n",
      "  libwebp-base       conda-forge/win-64::libwebp-base-1.2.4-h8ffe710_0\n",
      "  libxcb             conda-forge/win-64::libxcb-1.13-hcd874cb_1004\n",
      "  m2w64-gcc-libgfor~ conda-forge/win-64::m2w64-gcc-libgfortran-5.3.0-6\n",
      "  m2w64-gcc-libs     conda-forge/win-64::m2w64-gcc-libs-5.3.0-7\n",
      "  m2w64-gcc-libs-co~ conda-forge/win-64::m2w64-gcc-libs-core-5.3.0-7\n",
      "  m2w64-gmp          conda-forge/win-64::m2w64-gmp-6.1.0-2\n",
      "  m2w64-libwinpthre~ conda-forge/win-64::m2w64-libwinpthread-git-5.0.0.4634.697f757-2\n",
      "  matplotlib         conda-forge/win-64::matplotlib-3.5.3-py310h5588dad_2\n",
      "  matplotlib-base    conda-forge/win-64::matplotlib-base-3.5.3-py310h7329aa0_2\n",
      "  msys2-conda-epoch  conda-forge/win-64::msys2-conda-epoch-20160418-1\n",
      "  munkres            conda-forge/noarch::munkres-1.1.4-pyh9f0ad1d_0\n",
      "  openjpeg           conda-forge/win-64::openjpeg-2.5.0-hc9384bd_1\n",
      "  packaging          conda-forge/noarch::packaging-21.3-pyhd8ed1ab_0\n",
      "  pcre               conda-forge/win-64::pcre-8.45-h0e60522_0\n",
      "  pillow             conda-forge/win-64::pillow-9.2.0-py310h52929f7_2\n",
      "  ply                conda-forge/noarch::ply-3.11-py_1\n",
      "  pthread-stubs      conda-forge/win-64::pthread-stubs-0.4-hcd874cb_1001\n",
      "  pyparsing          conda-forge/noarch::pyparsing-3.0.9-pyhd8ed1ab_0\n",
      "  pyqt               conda-forge/win-64::pyqt-5.15.7-py310hbabf5d4_0\n",
      "  pyqt5-sip          conda-forge/win-64::pyqt5-sip-12.11.0-py310h8a704f9_0\n",
      "  python-dateutil    conda-forge/noarch::python-dateutil-2.8.2-pyhd8ed1ab_0\n",
      "  qt-main            conda-forge/win-64::qt-main-5.15.4-h467ea89_2\n",
      "  sip                conda-forge/win-64::sip-6.6.2-py310h8a704f9_0\n",
      "  sqlite             conda-forge/win-64::sqlite-3.39.2-h8ffe710_1\n",
      "  toml               conda-forge/noarch::toml-0.10.2-pyhd8ed1ab_0\n",
      "  tornado            conda-forge/win-64::tornado-6.2-py310he2412df_0\n",
      "  unicodedata2       conda-forge/win-64::unicodedata2-14.0.0-py310he2412df_1\n",
      "  xorg-libxau        conda-forge/win-64::xorg-libxau-1.0.9-hcd874cb_0\n",
      "  xorg-libxdmcp      conda-forge/win-64::xorg-libxdmcp-1.1.3-hcd874cb_0\n",
      "  zstd               conda-forge/win-64::zstd-1.5.2-h7755175_4\n",
      "\n"
     ]
    },
    {
     "name": "stdout",
     "output_type": "stream",
     "text": [
      "\n",
      "\n",
      "Downloading and Extracting Packages\n",
      "lerc-4.0.0           | 190 KB    | ########## | 100% \n",
      "libiconv-1.17        | 698 KB    | ########## | 100% \n",
      "pyqt-5.15.7          | 4.7 MB    | ########## | 100% \n",
      "gstreamer-1.20.3     | 2.1 MB    | ########## | 100% \n",
      "xorg-libxau-1.0.9    | 57 KB     | ########## | 100% \n",
      "openjpeg-2.5.0       | 256 KB    | ########## | 100% \n",
      "libpng-1.6.37        | 736 KB    | ########## | 100% \n",
      "glib-tools-2.72.1    | 167 KB    | ########## | 100% \n",
      "m2w64-gcc-libs-5.3.0 | 520 KB    | ########## | 100% \n",
      "pcre-8.45            | 518 KB    | ########## | 100% \n",
      "brotli-1.0.9         | 18 KB     | ########## | 100% \n",
      "munkres-1.1.4        | 12 KB     | ########## | 100% \n",
      "qt-main-5.15.4       | 69.8 MB   | ########## | 100% \n",
      "cycler-0.11.0        | 10 KB     | ########## | 100% \n",
      "matplotlib-3.5.3     | 7 KB      | ########## | 100% \n",
      "pillow-9.2.0         | 45.4 MB   | ########## | 100% \n",
      "kiwisolver-1.4.4     | 61 KB     | ########## | 100% \n",
      "libclang-14.0.6      | 144 KB    | ########## | 100% \n",
      "tornado-6.2          | 666 KB    | ########## | 100% \n",
      "sqlite-3.39.2        | 660 KB    | ########## | 100% \n",
      "fonttools-4.37.1     | 1.7 MB    | ########## | 100% \n",
      "packaging-21.3       | 36 KB     | ########## | 100% \n",
      "jpeg-9e              | 366 KB    | ########## | 100% \n",
      "libclang13-14.0.6    | 24.5 MB   | ########## | 100% \n",
      "m2w64-gcc-libgfortra | 342 KB    | ########## | 100% \n",
      "libogg-1.3.4         | 34 KB     | ########## | 100% \n",
      "m2w64-libwinpthread- | 31 KB     | ########## | 100% \n",
      "libxcb-1.13          | 1.3 MB    | ########## | 100% \n",
      "freetype-2.12.1      | 506 KB    | ########## | 100% \n",
      "libbrotlidec-1.0.9   | 33 KB     | ########## | 100% \n",
      "ply-3.11             | 44 KB     | ########## | 100% \n",
      "zstd-1.5.2           | 401 KB    | ########## | 100% \n",
      "matplotlib-base-3.5. | 7.4 MB    | ########## | 100% \n",
      "krb5-1.19.3          | 847 KB    | ########## | 100% \n",
      "toml-0.10.2          | 18 KB     | ########## | 100% \n",
      "msys2-conda-epoch-20 | 3 KB      | ########## | 100% \n",
      "gst-plugins-base-1.2 | 2.3 MB    | ########## | 100% \n",
      "python-dateutil-2.8. | 240 KB    | ########## | 100% \n",
      "m2w64-gmp-6.1.0      | 726 KB    | ########## | 100% \n",
      "xorg-libxdmcp-1.1.3  | 66 KB     | ########## | 100% \n",
      "glib-2.72.1          | 460 KB    | ########## | 100% \n",
      "icu-70.1             | 17.0 MB   | ########## | 100% \n",
      "unicodedata2-14.0.0  | 491 KB    | ########## | 100% \n",
      "sip-6.6.2            | 523 KB    | ########## | 100% \n",
      "libbrotlicommon-1.0. | 67 KB     | ########## | 100% \n",
      "libdeflate-1.13      | 72 KB     | ########## | 100% \n",
      "libvorbis-1.3.7      | 267 KB    | ########## | 100% \n",
      "libglib-2.72.1       | 3.1 MB    | ########## | 100% \n",
      "m2w64-gcc-libs-core- | 214 KB    | ########## | 100% \n",
      "gettext-0.19.8.1     | 4.7 MB    | ########## | 100% \n",
      "lcms2-2.12           | 882 KB    | ########## | 100% \n",
      "pyparsing-3.0.9      | 79 KB     | ########## | 100% \n",
      "pyqt5-sip-12.11.0    | 82 KB     | ########## | 100% \n",
      "brotli-bin-1.0.9     | 21 KB     | ########## | 100% \n",
      "libwebp-base-1.2.4   | 328 KB    | ########## | 100% \n",
      "libtiff-4.4.0        | 1.1 MB    | ########## | 100% \n",
      "pthread-stubs-0.4    | 6 KB      | ########## | 100% \n",
      "libbrotlienc-1.0.9   | 716 KB    | ########## | 100% \n",
      "Preparing transaction: ...working... done\n",
      "Verifying transaction: ...working... done\n",
      "Executing transaction: ...working... done\n",
      "Retrieving notices: ...working... done\n"
     ]
    },
    {
     "name": "stderr",
     "output_type": "stream",
     "text": [
      "WARNING: using PyPlot.plot in module Main conflicts with an existing identifier.\n"
     ]
    }
   ],
   "source": [
    "using PyPlot"
   ]
  },
  {
   "cell_type": "code",
   "execution_count": 97,
   "metadata": {
    "collapsed": true
   },
   "outputs": [
    {
     "name": "stderr",
     "output_type": "stream",
     "text": [
      "\u001b[32m\u001b[1m    Updating\u001b[22m\u001b[39m registry at `C:\\Users\\dan_x\\.julia\\registries\\General.toml`\n",
      "\u001b[32m\u001b[1m   Resolving\u001b[22m\u001b[39m package versions...\n",
      "\u001b[32m\u001b[1m   Installed\u001b[22m\u001b[39m Media ───────────── v0.5.0\n",
      "\u001b[32m\u001b[1m   Installed\u001b[22m\u001b[39m Measures ────────── v0.3.1\n",
      "\u001b[32m\u001b[1m   Installed\u001b[22m\u001b[39m StaticArraysCore ── v1.4.0\n",
      "\u001b[32m\u001b[1m   Installed\u001b[22m\u001b[39m StaticArrays ────── v1.5.8\n",
      "\u001b[32m\u001b[1m   Installed\u001b[22m\u001b[39m OpenSSL ─────────── v1.1.1\n",
      "\u001b[32m\u001b[1m   Installed\u001b[22m\u001b[39m Contour ─────────── v0.5.7\n",
      "\u001b[32m\u001b[1m   Installed\u001b[22m\u001b[39m HTTP ────────────── v1.4.0\n",
      "\u001b[32m\u001b[1m   Installed\u001b[22m\u001b[39m Gadfly ──────────── v1.3.4\n",
      "\u001b[32m\u001b[1m   Installed\u001b[22m\u001b[39m Loess ───────────── v0.5.4\n",
      "\u001b[32m\u001b[1m   Installed\u001b[22m\u001b[39m Hexagons ────────── v0.2.0\n",
      "\u001b[32m\u001b[1m   Installed\u001b[22m\u001b[39m BitFlags ────────── v0.1.5\n",
      "\u001b[32m\u001b[1m   Installed\u001b[22m\u001b[39m CategoricalArrays ─ v0.10.7\n",
      "\u001b[32m\u001b[1m   Installed\u001b[22m\u001b[39m DataAPI ─────────── v1.11.0\n",
      "\u001b[32m\u001b[1m   Installed\u001b[22m\u001b[39m ChainRulesCore ──── v1.15.6\n",
      "\u001b[32m\u001b[1m   Installed\u001b[22m\u001b[39m Tables ──────────── v1.9.0\n",
      "\u001b[32m\u001b[1m   Installed\u001b[22m\u001b[39m CoupledFields ───── v0.2.0\n",
      "\u001b[32m\u001b[1m   Installed\u001b[22m\u001b[39m Compose ─────────── v0.9.4\n",
      "\u001b[32m\u001b[1m   Installed\u001b[22m\u001b[39m Juno ────────────── v0.8.4\n",
      "\u001b[32m\u001b[1m   Installed\u001b[22m\u001b[39m Distributions ───── v0.25.75\n",
      "\u001b[32m\u001b[1m    Updating\u001b[22m\u001b[39m `C:\\Users\\dan_x\\.julia\\environments\\v1.7\\Project.toml`\n",
      " \u001b[90m [c91e804a] \u001b[39m\u001b[92m+ Gadfly v1.3.4\u001b[39m\n",
      "\u001b[32m\u001b[1m    Updating\u001b[22m\u001b[39m `C:\\Users\\dan_x\\.julia\\environments\\v1.7\\Manifest.toml`\n",
      " \u001b[90m [d1d4a3ce] \u001b[39m\u001b[92m+ BitFlags v0.1.5\u001b[39m\n",
      " \u001b[90m [324d7699] \u001b[39m\u001b[92m+ CategoricalArrays v0.10.7\u001b[39m\n",
      " \u001b[90m [d360d2e6] \u001b[39m\u001b[93m↑ ChainRulesCore v1.15.5 ⇒ v1.15.6\u001b[39m\n",
      " \u001b[90m [a81c6b42] \u001b[39m\u001b[92m+ Compose v0.9.4\u001b[39m\n",
      " \u001b[90m [d38c429a] \u001b[39m\u001b[95m↓ Contour v0.6.2 ⇒ v0.5.7\u001b[39m\n",
      " \u001b[90m [7ad07ef1] \u001b[39m\u001b[92m+ CoupledFields v0.2.0\u001b[39m\n",
      " \u001b[90m [9a962f9c] \u001b[39m\u001b[93m↑ DataAPI v1.10.0 ⇒ v1.11.0\u001b[39m\n",
      " \u001b[90m [b4f34e82] \u001b[39m\u001b[92m+ Distances v0.10.7\u001b[39m\n",
      " \u001b[90m [31c24e10] \u001b[39m\u001b[93m↑ Distributions v0.25.73 ⇒ v0.25.75\u001b[39m\n",
      " \u001b[90m [ffbed154] \u001b[39m\u001b[95m↓ DocStringExtensions v0.9.1 ⇒ v0.8.6\u001b[39m\n",
      " \u001b[90m [c91e804a] \u001b[39m\u001b[92m+ Gadfly v1.3.4\u001b[39m\n",
      " \u001b[90m [cd3eb016] \u001b[39m\u001b[93m↑ HTTP v1.3.3 ⇒ v1.4.0\u001b[39m\n",
      " \u001b[90m [a1b4810d] \u001b[39m\u001b[92m+ Hexagons v0.2.0\u001b[39m\n",
      " \u001b[90m [e5e0dc1b] \u001b[39m\u001b[92m+ Juno v0.8.4\u001b[39m\n",
      " \u001b[90m [4345ca2d] \u001b[39m\u001b[92m+ Loess v0.5.4\u001b[39m\n",
      " \u001b[90m [1914dd2f] \u001b[39m\u001b[92m+ MacroTools v0.5.9\u001b[39m\n",
      " \u001b[90m [442fdcdd] \u001b[39m\u001b[92m+ Measures v0.3.1\u001b[39m\n",
      " \u001b[90m [e89f7d12] \u001b[39m\u001b[92m+ Media v0.5.0\u001b[39m\n",
      " \u001b[90m [4d8831e6] \u001b[39m\u001b[92m+ OpenSSL v1.1.1\u001b[39m\n",
      " \u001b[90m [90137ffa] \u001b[39m\u001b[93m↑ StaticArrays v1.5.7 ⇒ v1.5.8\u001b[39m\n",
      " \u001b[90m [1e83bf80] \u001b[39m\u001b[93m↑ StaticArraysCore v1.3.0 ⇒ v1.4.0\u001b[39m\n",
      " \u001b[90m [bd369af6] \u001b[39m\u001b[93m↑ Tables v1.8.1 ⇒ v1.9.0\u001b[39m\n",
      " \u001b[90m [9fa8497b] \u001b[39m\u001b[92m+ Future\u001b[39m\n",
      " \u001b[90m [9abbd945] \u001b[39m\u001b[92m+ Profile\u001b[39m\n",
      "\u001b[32m\u001b[1mPrecompiling\u001b[22m\u001b[39m project...\n",
      "\u001b[32m  ✓ \u001b[39m\u001b[90mHexagons\u001b[39m\n",
      "\u001b[32m  ✓ \u001b[39m\u001b[90mMeasures\u001b[39m\n",
      "\u001b[32m  ✓ \u001b[39m\u001b[90mDataAPI\u001b[39m\n",
      "\u001b[32m  ✓ \u001b[39m\u001b[90mLoess\u001b[39m\n",
      "\u001b[32m  ✓ \u001b[39m\u001b[90mBitFlags\u001b[39m\n",
      "\u001b[32m  ✓ \u001b[39m\u001b[90mStaticArraysCore\u001b[39m\n",
      "\u001b[32m  ✓ \u001b[39m\u001b[90mMissings\u001b[39m\n",
      "\u001b[32m  ✓ \u001b[39m\u001b[90mChainRulesCore\u001b[39m\n",
      "\u001b[32m  ✓ \u001b[39m\u001b[90mMedia\u001b[39m\n",
      "\u001b[32m  ✓ \u001b[39m\u001b[90mTables\u001b[39m\n",
      "\u001b[32m  ✓ \u001b[39m\u001b[90mChangesOfVariables\u001b[39m\n",
      "\u001b[32m  ✓ \u001b[39m\u001b[90mOpenSSL\u001b[39m\n",
      "\u001b[32m  ✓ \u001b[39m\u001b[90mCategoricalArrays\u001b[39m\n",
      "\u001b[32m  ✓ \u001b[39m\u001b[90mAbstractFFTs\u001b[39m\n",
      "\u001b[32m  ✓ \u001b[39m\u001b[90mStructArrays\u001b[39m\n",
      "\u001b[32m  ✓ \u001b[39m\u001b[90mJuno\u001b[39m\n",
      "\u001b[32m  ✓ \u001b[39m\u001b[90mCompose\u001b[39m\n",
      "\u001b[32m  ✓ \u001b[39m\u001b[90mLogExpFunctions\u001b[39m\n",
      "\u001b[32m  ✓ \u001b[39m\u001b[90mHTTP\u001b[39m\n",
      "\u001b[32m  ✓ \u001b[39m\u001b[90mStatsBase\u001b[39m\n",
      "\u001b[32m  ✓ \u001b[39m\u001b[90mStaticArrays\u001b[39m\n",
      "\u001b[32m  ✓ \u001b[39m\u001b[90mCoupledFields\u001b[39m\n",
      "\u001b[32m  ✓ \u001b[39m\u001b[90mFFTW\u001b[39m\n",
      "\u001b[32m  ✓ \u001b[39m\u001b[90mContour\u001b[39m\n",
      "\u001b[32m  ✓ \u001b[39m\u001b[90mSpecialFunctions\u001b[39m\n",
      "\u001b[32m  ✓ \u001b[39m\u001b[90mDualNumbers\u001b[39m\n",
      "\u001b[32m  ✓ \u001b[39m\u001b[90mHypergeometricFunctions\u001b[39m\n",
      "\u001b[32m  ✓ \u001b[39m\u001b[90mInterpolations\u001b[39m\n",
      "\u001b[32m  ✓ \u001b[39m\u001b[90mColorVectorSpace\u001b[39m\n",
      "\u001b[32m  ✓ \u001b[39m\u001b[90mStatsFuns\u001b[39m\n",
      "\u001b[32m  ✓ \u001b[39m\u001b[90mGeometryBasics\u001b[39m\n",
      "\u001b[32m  ✓ \u001b[39m\u001b[90mPacking\u001b[39m\n",
      "\u001b[32m  ✓ \u001b[39m\u001b[90mColorSchemes\u001b[39m\n",
      "\u001b[32m  ✓ \u001b[39m\u001b[90mDistributions\u001b[39m\n",
      "\u001b[32m  ✓ \u001b[39m\u001b[90mMeshIO\u001b[39m\n",
      "\u001b[32m  ✓ \u001b[39m\u001b[90mGridLayoutBase\u001b[39m\n",
      "\u001b[32m  ✓ \u001b[39m\u001b[90mShaderAbstractions\u001b[39m\n",
      "\u001b[32m  ✓ \u001b[39m\u001b[90mFreeTypeAbstraction\u001b[39m\n",
      "\u001b[32m  ✓ \u001b[39m\u001b[90mKernelDensity\u001b[39m\n",
      "\u001b[32m  ✓ \u001b[39m\u001b[90mPlotUtils\u001b[39m\n",
      "\u001b[32m  ✓ \u001b[39mPluto\n",
      "\u001b[32m  ✓ \u001b[39mGadfly\n",
      "\u001b[32m  ✓ \u001b[39m\u001b[90mMathTeXEngine\u001b[39m\n",
      "\u001b[32m  ✓ \u001b[39m\u001b[90mImageCore\u001b[39m\n",
      "\u001b[32m  ✓ \u001b[39m\u001b[90mNetpbm\u001b[39m\n",
      "\u001b[32m  ✓ \u001b[39m\u001b[90mSixel\u001b[39m\n",
      "\u001b[32m  ✓ \u001b[39m\u001b[90mJpegTurbo\u001b[39m\n",
      "\u001b[32m  ✓ \u001b[39m\u001b[90mPNGFiles\u001b[39m\n",
      "\u001b[32m  ✓ \u001b[39m\u001b[90mImageIO\u001b[39m\n",
      "\u001b[32m  ✓ \u001b[39m\u001b[90mMakie\u001b[39m\n",
      "\u001b[32m  ✓ \u001b[39mGLMakie\n",
      "  51 dependencies successfully precompiled in 264 seconds (166 already precompiled)\n"
     ]
    }
   ],
   "source": [
    "]add Gadfly"
   ]
  },
  {
   "cell_type": "code",
   "execution_count": 98,
   "metadata": {},
   "outputs": [],
   "source": [
    "using Gadfly"
   ]
  },
  {
   "cell_type": "code",
   "execution_count": 99,
   "metadata": {},
   "outputs": [
    {
     "data": {
      "text/plain": [
       "1:10"
      ]
     },
     "execution_count": 99,
     "metadata": {},
     "output_type": "execute_result"
    }
   ],
   "source": [
    "xs=1:10"
   ]
  },
  {
   "cell_type": "code",
   "execution_count": 104,
   "metadata": {},
   "outputs": [
    {
     "data": {
      "text/plain": [
       "Main"
      ]
     },
     "execution_count": 104,
     "metadata": {},
     "output_type": "execute_result"
    }
   ],
   "source": [
    "@which xs"
   ]
  },
  {
   "cell_type": "code",
   "execution_count": 105,
   "metadata": {},
   "outputs": [
    {
     "data": {
      "text/plain": [
       "10-element Vector{Float64}:\n",
       " 0.8574233920552561\n",
       " 0.42602960974891013\n",
       " 0.5161042272310953\n",
       " 0.8694323240481162\n",
       " 0.6784598107272453\n",
       " 0.9603058097447011\n",
       " 0.7724398314691032\n",
       " 0.9456068740624068\n",
       " 0.5822544770918241\n",
       " 0.26868617735309597"
      ]
     },
     "execution_count": 105,
     "metadata": {},
     "output_type": "execute_result"
    }
   ],
   "source": [
    "ys=rand(10)"
   ]
  },
  {
   "cell_type": "code",
   "execution_count": 106,
   "metadata": {
    "scrolled": true
   },
   "outputs": [
    {
     "data": {
      "text/plain": [
       "Plot(...)"
      ]
     },
     "execution_count": 106,
     "metadata": {},
     "output_type": "execute_result"
    }
   ],
   "source": [
    "plot(x=xs,y=ys)"
   ]
  },
  {
   "cell_type": "code",
   "execution_count": null,
   "metadata": {},
   "outputs": [],
   "source": []
  }
 ],
 "metadata": {
  "kernelspec": {
   "display_name": "Julia 1.7.3",
   "language": "julia",
   "name": "julia-1.7"
  },
  "language_info": {
   "file_extension": ".jl",
   "mimetype": "application/julia",
   "name": "julia",
   "version": "1.7.3"
  }
 },
 "nbformat": 4,
 "nbformat_minor": 2
}
