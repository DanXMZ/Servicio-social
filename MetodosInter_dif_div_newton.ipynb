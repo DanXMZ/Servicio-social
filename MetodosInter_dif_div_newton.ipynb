{
 "cells": [
  {
   "cell_type": "markdown",
   "metadata": {},
   "source": [
    "## Metodos de Interpolación"
   ]
  },
  {
   "cell_type": "markdown",
   "metadata": {},
   "source": [
    "### Diferencias divididas de Newton"
   ]
  },
  {
   "cell_type": "code",
   "execution_count": 1,
   "metadata": {},
   "outputs": [
    {
     "data": {
      "text/plain": [
       "Met_Dif_Div_Newton (generic function with 1 method)"
      ]
     },
     "execution_count": 1,
     "metadata": {},
     "output_type": "execute_result"
    }
   ],
   "source": [
    "function Met_Dif_Div_Newton(x,y,n)\n",
    "    Triangulo_Newton = zeros(n,n)\n",
    "    c=zeros(n)\n",
    "    for j in 1:n\n",
    "        Triangulo_Newton[j,1]=y[j]\n",
    "    end\n",
    "    for i in 2:n\n",
    "        for j in 1:n+1-i\n",
    "            Triangulo_Newton[j,i]=(Triangulo_Newton[j+1,i-1]-Triangulo_Newton[j,i-1])/(x[j+i-1]-x[j])\n",
    "        end\n",
    "    end\n",
    "    for i in 1:n\n",
    "        \n",
    "        c[i] = Triangulo_Newton[1,i]\n",
    "    end\n",
    "    return c\n",
    "end"
   ]
  },
  {
   "cell_type": "code",
   "execution_count": 2,
   "metadata": {},
   "outputs": [],
   "source": [
    "x0=[0.0, 1.0, 2.0, 3.0];\n",
    "y0=[2.0, 1.0, 0.0, -1.0];"
   ]
  },
  {
   "cell_type": "code",
   "execution_count": 61,
   "metadata": {},
   "outputs": [
    {
     "data": {
      "text/plain": [
       "4-element Vector{Float64}:\n",
       "  2.0\n",
       " -1.0\n",
       "  0.0\n",
       "  0.0"
      ]
     },
     "execution_count": 61,
     "metadata": {},
     "output_type": "execute_result"
    }
   ],
   "source": [
    "Polinomio_Res = Met_Dif_Div_Newton(x0,y0,length(x0))"
   ]
  },
  {
   "cell_type": "code",
   "execution_count": 67,
   "metadata": {},
   "outputs": [
    {
     "data": {
      "text/plain": [
       "4-element Vector{Float64}:\n",
       "  2.0\n",
       " -1.0\n",
       "  0.0\n",
       "  0.0"
      ]
     },
     "execution_count": 67,
     "metadata": {},
     "output_type": "execute_result"
    }
   ],
   "source": [
    "Polinomio_Res"
   ]
  },
  {
   "cell_type": "code",
   "execution_count": 90,
   "metadata": {},
   "outputs": [
    {
     "name": "stdout",
     "output_type": "stream",
     "text": [
      "El polinomio resultante es:\n",
      "2.0x^3+-1.0x^2+0.0x^1+0.0x^0+"
     ]
    }
   ],
   "source": [
    "println(\"El polinomio resultante es:\")\n",
    "\n",
    "for i in 1:length(Polinomio_Res)\n",
    "    print(Polinomio_Res[i],\"x^\",length(Polinomio_Res)-i)\n",
    "    print(\"+\")\n",
    "end\n",
    "    "
   ]
  },
  {
   "cell_type": "markdown",
   "metadata": {},
   "source": [
    "## Multiplicación anidada"
   ]
  },
  {
   "cell_type": "markdown",
   "metadata": {},
   "source": [
    "La multiplicación anidada o método de horner consiste en un algoritmo que permite evaluar un polinomio de cualquier grado de manera mas sencilla mediante operaciones basicas de multiplicaciones y sumas.\n",
    "\n",
    "*Un polinomio de grado general $d$ se puede evaluar en d multiplicaciones y d adiciones o sumas*\n",
    "\n",
    "Por lo que la forma común para un polinomio de grado $d=4$, visto desde un sentido inverso, es decir de menor a mayor exponente, por ejemplo, sería $c_1+c_2x+c_3c^2+c_4x^3+c_5x^4$ puede escribir de la forma\n",
    "$$c_1+x(c_2+x(c_3+x(c_4+x(c_5))))$$\n",
    "\n",
    "En particular para uso en los cálculos de la interpolación la forma generalizada sería $$c_5+(x-r_1)(c_4+(x-r_2)(c_3+(x-r_3)(c_2+(x-r4)(c_1))))$$\n",
    "\n",
    "Donde $r_1,r_2,r_3,r_4$ se denominan **puntos base** y si tenemos que $r_1=r_2=r_3=r_4=0$ entonces resulta la forma inicial."
   ]
  },
  {
   "cell_type": "code",
   "execution_count": 19,
   "metadata": {},
   "outputs": [
    {
     "data": {
      "text/plain": [
       "Multiplicacion_anidada (generic function with 1 method)"
      ]
     },
     "execution_count": 19,
     "metadata": {},
     "output_type": "execute_result"
    }
   ],
   "source": [
    "function Multiplicacion_anidada(d, c, x, b)#Multiplicacion_anidada(grado,coeficientes,punto a evaluar,puntos base)\n",
    "    y=c[d+1]\n",
    "    for i in d:-1:1\n",
    "        y = y*(x-b[i])+c[i]\n",
    "    end\n",
    "    return y\n",
    "end"
   ]
  },
  {
   "cell_type": "markdown",
   "metadata": {},
   "source": [
    "Usamos como ejemplo los coeficientes del polinomio:  $P(x)=-1+5x-3x^2+3x^3+2x^4$ evaluado en el punto $x= \\frac {1}{2}$ cuyo resultado es $P(\\frac{1}{2})=1.25$"
   ]
  },
  {
   "cell_type": "code",
   "execution_count": 22,
   "metadata": {
    "scrolled": true
   },
   "outputs": [
    {
     "data": {
      "text/plain": [
       "1.25"
      ]
     },
     "execution_count": 22,
     "metadata": {},
     "output_type": "execute_result"
    }
   ],
   "source": [
    "Multiplicacion_anidada(4,[-1, 5, -3, 3, 2],1/2,[0, 0, 0, 0])"
   ]
  },
  {
   "cell_type": "code",
   "execution_count": null,
   "metadata": {},
   "outputs": [],
   "source": []
  }
 ],
 "metadata": {
  "kernelspec": {
   "display_name": "Julia 1.7.3",
   "language": "julia",
   "name": "julia-1.7"
  },
  "language_info": {
   "file_extension": ".jl",
   "mimetype": "application/julia",
   "name": "julia",
   "version": "1.7.3"
  }
 },
 "nbformat": 4,
 "nbformat_minor": 2
}
