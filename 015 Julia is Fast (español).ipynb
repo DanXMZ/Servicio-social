{
 "cells": [
  {
   "cell_type": "markdown",
   "id": "19284000",
   "metadata": {},
   "source": [
    "# Julia is Fast\n",
    "A menudo *benchmarks* es usado para comparar lenguajes. Estos benchmarks pueden dar lugar a largas discusiones, en primer lugar, sobre qué se está evaluando exactamente y, en segundo lugar, qué explica las diferencias. Estas preguntas simples a veces pueden volverse más complicadas de lo que podrías imaginar al principio.\n",
    "\n",
    "El propósito de este *notebook* es que veas un *benchmark* simple por ti mismo."
   ]
  },
  {
   "cell_type": "markdown",
   "id": "576cb791",
   "metadata": {},
   "source": [
    "Esquema de este *notebook*\n",
    "\n",
    "- Definir la función de suma\n",
    "- Implementaciones y benchmarking de sum en...\n",
    "    - Julia (*built-in*)\n",
    "    - Julia (*hand-written*)\n",
    "    - C (*built-in*)\n",
    "    - python (*hand-written*)\n",
    "    - python (*numpy*)\n",
    "    - python (*hand-written*)\n",
    "- Hacia la explotación del paralelismo con Julia\n",
    "    - Permitir la asociatividad de punto flotante\n",
    "    - Haciendo uso de cuatro núcleos a la vez: *built-in*\n",
    "    - Haciendo uso de cuatro núcleos a la vez: *hand-written*\n",
    "- Resumen de los *benchmarks*"
   ]
  },
  {
   "cell_type": "markdown",
   "id": "e617bdab",
   "metadata": {},
   "source": [
    "# `sum`: Una función fácil de entender"
   ]
  },
  {
   "cell_type": "markdown",
   "id": "c8931002",
   "metadata": {},
   "source": [
    "Considere la función suma `sum(a)`, la cual calcula\n",
    "$$\n",
    "\\mathrm{sum}(a) = \\sum_{i=1}^n a_i,\n",
    "$$\n",
    "Donde $n$ es la longitud `a`."
   ]
  },
  {
   "cell_type": "code",
   "execution_count": 3,
   "id": "0c78b5ea",
   "metadata": {},
   "outputs": [],
   "source": [
    "a = rand(10^7); # vector de 1D de numeros aleatorios, uniformes en el rango [0,1)"
   ]
  },
  {
   "cell_type": "code",
   "execution_count": 4,
   "id": "10e8b44c",
   "metadata": {},
   "outputs": [
    {
     "data": {
      "text/plain": [
       "5.000953330723257e6"
      ]
     },
     "execution_count": 4,
     "metadata": {},
     "output_type": "execute_result"
    }
   ],
   "source": [
    "sum(a)"
   ]
  },
  {
   "cell_type": "markdown",
   "id": "55467722",
   "metadata": {},
   "source": [
    "El resultado esperado es ~0.5 * 10^7, ya que la media entre entrada es 0.5"
   ]
  },
  {
   "cell_type": "markdown",
   "id": "a298d3f0",
   "metadata": {},
   "source": [
    "# Evaluación comparativa de algunas formas en algunos idiomas"
   ]
  },
  {
   "cell_type": "code",
   "execution_count": 7,
   "id": "4b7829c2",
   "metadata": {},
   "outputs": [
    {
     "name": "stdout",
     "output_type": "stream",
     "text": [
      "  0.014281 seconds (1 allocation: 16 bytes)\n"
     ]
    },
    {
     "data": {
      "text/plain": [
       "5.000953330723257e6"
      ]
     },
     "execution_count": 7,
     "metadata": {},
     "output_type": "execute_result"
    }
   ],
   "source": [
    "@time sum(a)"
   ]
  },
  {
   "cell_type": "code",
   "execution_count": 8,
   "id": "14dc41ef",
   "metadata": {},
   "outputs": [
    {
     "name": "stdout",
     "output_type": "stream",
     "text": [
      "  0.004342 seconds (1 allocation: 16 bytes)\n"
     ]
    },
    {
     "data": {
      "text/plain": [
       "5.000953330723257e6"
      ]
     },
     "execution_count": 8,
     "metadata": {},
     "output_type": "execute_result"
    }
   ],
   "source": [
    "@time sum(a)"
   ]
  },
  {
   "cell_type": "code",
   "execution_count": 9,
   "id": "8bd6eae0",
   "metadata": {},
   "outputs": [
    {
     "name": "stdout",
     "output_type": "stream",
     "text": [
      "  0.004342 seconds (1 allocation: 16 bytes)\n"
     ]
    },
    {
     "data": {
      "text/plain": [
       "5.000953330723257e6"
      ]
     },
     "execution_count": 9,
     "metadata": {},
     "output_type": "execute_result"
    }
   ],
   "source": [
    "@time sum(a)"
   ]
  },
  {
   "cell_type": "markdown",
   "id": "ccda9f20",
   "metadata": {},
   "source": [
    "La macro @time puede generar resultados *ruidosos*, por lo que no es nuestra mejor opción para la evaluación comparativa(*benchmarking*).\n",
    "Afortunadamente Julia tiene `BenchmarkTools.jl`, un paquete para hacer sencilla y precisa la comparación:"
   ]
  },
  {
   "cell_type": "code",
   "execution_count": 10,
   "id": "20267a20",
   "metadata": {},
   "outputs": [],
   "source": [
    "using BenchmarkTools"
   ]
  },
  {
   "cell_type": "code",
   "execution_count": 11,
   "id": "6bd01199",
   "metadata": {},
   "outputs": [
    {
     "data": {
      "text/plain": [
       "BenchmarkTools.Trial: 710 samples with 1 evaluation.\n",
       " Range \u001b[90m(\u001b[39m\u001b[36m\u001b[1mmin\u001b[22m\u001b[39m … \u001b[35mmax\u001b[39m\u001b[90m):  \u001b[39m\u001b[36m\u001b[1m4.544 ms\u001b[22m\u001b[39m … \u001b[35m 10.668 ms\u001b[39m  \u001b[90m┊\u001b[39m GC \u001b[90m(\u001b[39mmin … max\u001b[90m): \u001b[39m0.00% … 0.00%\n",
       " Time  \u001b[90m(\u001b[39m\u001b[34m\u001b[1mmedian\u001b[22m\u001b[39m\u001b[90m):     \u001b[39m\u001b[34m\u001b[1m6.844 ms               \u001b[22m\u001b[39m\u001b[90m┊\u001b[39m GC \u001b[90m(\u001b[39mmedian\u001b[90m):    \u001b[39m0.00%\n",
       " Time  \u001b[90m(\u001b[39m\u001b[32m\u001b[1mmean\u001b[22m\u001b[39m ± \u001b[32mσ\u001b[39m\u001b[90m):   \u001b[39m\u001b[32m\u001b[1m7.013 ms\u001b[22m\u001b[39m ± \u001b[32m890.062 μs\u001b[39m  \u001b[90m┊\u001b[39m GC \u001b[90m(\u001b[39mmean ± σ\u001b[90m):  \u001b[39m0.00% ± 0.00%\n",
       "\n",
       "  \u001b[39m \u001b[39m \u001b[39m \u001b[39m \u001b[39m \u001b[39m \u001b[39m \u001b[39m \u001b[39m \u001b[39m \u001b[39m \u001b[39m \u001b[39m \u001b[39m \u001b[39m \u001b[39m \u001b[39m \u001b[39m \u001b[39m \u001b[39m \u001b[39m \u001b[39m \u001b[39m▁\u001b[39m▄\u001b[39m█\u001b[34m▅\u001b[39m\u001b[39m▄\u001b[32m \u001b[39m\u001b[39m \u001b[39m \u001b[39m \u001b[39m \u001b[39m \u001b[39m \u001b[39m \u001b[39m \u001b[39m \u001b[39m \u001b[39m \u001b[39m \u001b[39m \u001b[39m \u001b[39m \u001b[39m \u001b[39m \u001b[39m \u001b[39m \u001b[39m \u001b[39m \u001b[39m \u001b[39m \u001b[39m \u001b[39m \u001b[39m \u001b[39m \u001b[39m \u001b[39m \u001b[39m \u001b[39m \u001b[39m \u001b[39m \n",
       "  \u001b[39m▂\u001b[39m▁\u001b[39m▂\u001b[39m▂\u001b[39m▂\u001b[39m▁\u001b[39m▁\u001b[39m▁\u001b[39m▂\u001b[39m▃\u001b[39m▃\u001b[39m▃\u001b[39m▂\u001b[39m▂\u001b[39m▃\u001b[39m▃\u001b[39m▅\u001b[39m▆\u001b[39m█\u001b[39m█\u001b[39m▇\u001b[39m█\u001b[39m█\u001b[39m█\u001b[39m█\u001b[34m█\u001b[39m\u001b[39m█\u001b[32m█\u001b[39m\u001b[39m█\u001b[39m▅\u001b[39m▅\u001b[39m▃\u001b[39m▅\u001b[39m▅\u001b[39m▃\u001b[39m▃\u001b[39m▄\u001b[39m▂\u001b[39m▃\u001b[39m▃\u001b[39m▂\u001b[39m▂\u001b[39m▄\u001b[39m▃\u001b[39m▂\u001b[39m▃\u001b[39m▃\u001b[39m▃\u001b[39m▂\u001b[39m▃\u001b[39m▃\u001b[39m▂\u001b[39m▃\u001b[39m▃\u001b[39m▂\u001b[39m▂\u001b[39m▂\u001b[39m▂\u001b[39m▃\u001b[39m \u001b[39m▃\n",
       "  4.54 ms\u001b[90m         Histogram: frequency by time\u001b[39m          10 ms \u001b[0m\u001b[1m<\u001b[22m\n",
       "\n",
       " Memory estimate\u001b[90m: \u001b[39m\u001b[33m0 bytes\u001b[39m, allocs estimate\u001b[90m: \u001b[39m\u001b[33m0\u001b[39m."
      ]
     },
     "execution_count": 11,
     "metadata": {},
     "output_type": "execute_result"
    }
   ],
   "source": [
    "@benchmark sum($a)"
   ]
  },
  {
   "cell_type": "markdown",
   "id": "58bf1a61",
   "metadata": {},
   "source": [
    "# 1. Julia *Built-in* (integrado)\n",
    "Así que ese es el rendimiento de la suma integrada de Julia, pero eso podría estar haciendo muchos trucos para ser rápido, ¡incluso no usar Julia en absoluto en primer lugar! Por supuesto, está escrito en Julia, pero ¿funcionaría si escribimos una implementación sencilla nosotros mismos?"
   ]
  },
  {
   "cell_type": "code",
   "execution_count": 12,
   "id": "1c705815",
   "metadata": {},
   "outputs": [
    {
     "data": {
      "text/html": [
       "sum(a::<b>AbstractArray</b>; <i>dims, kw...</i>) in Base at <a href=\"https://github.com/JuliaLang/julia/tree/742b9abb4dd4621b667ec5bb3434b8b3602f96fd/base/reducedim.jl#L889\" target=\"_blank\">reducedim.jl:889</a>"
      ],
      "text/plain": [
       "sum(a::AbstractArray; dims, kw...) in Base at reducedim.jl:889"
      ]
     },
     "execution_count": 12,
     "metadata": {},
     "output_type": "execute_result"
    }
   ],
   "source": [
    "@which sum(a)"
   ]
  },
  {
   "cell_type": "markdown",
   "id": "21eead8c",
   "metadata": {},
   "source": [
    "Guardemos estos resultados de referencia en un diccionario para que podamos comenzar a realizar un seguimiento de ellos y compararlos en el futuro."
   ]
  },
  {
   "cell_type": "code",
   "execution_count": 13,
   "id": "34278923",
   "metadata": {},
   "outputs": [
    {
     "data": {
      "text/plain": [
       "BenchmarkTools.Trial: 743 samples with 1 evaluation.\n",
       " Range \u001b[90m(\u001b[39m\u001b[36m\u001b[1mmin\u001b[22m\u001b[39m … \u001b[35mmax\u001b[39m\u001b[90m):  \u001b[39m\u001b[36m\u001b[1m4.131 ms\u001b[22m\u001b[39m … \u001b[35m 15.740 ms\u001b[39m  \u001b[90m┊\u001b[39m GC \u001b[90m(\u001b[39mmin … max\u001b[90m): \u001b[39m0.00% … 0.00%\n",
       " Time  \u001b[90m(\u001b[39m\u001b[34m\u001b[1mmedian\u001b[22m\u001b[39m\u001b[90m):     \u001b[39m\u001b[34m\u001b[1m6.611 ms               \u001b[22m\u001b[39m\u001b[90m┊\u001b[39m GC \u001b[90m(\u001b[39mmedian\u001b[90m):    \u001b[39m0.00%\n",
       " Time  \u001b[90m(\u001b[39m\u001b[32m\u001b[1mmean\u001b[22m\u001b[39m ± \u001b[32mσ\u001b[39m\u001b[90m):   \u001b[39m\u001b[32m\u001b[1m6.695 ms\u001b[22m\u001b[39m ± \u001b[32m808.673 μs\u001b[39m  \u001b[90m┊\u001b[39m GC \u001b[90m(\u001b[39mmean ± σ\u001b[90m):  \u001b[39m0.00% ± 0.00%\n",
       "\n",
       "  \u001b[39m \u001b[39m \u001b[39m \u001b[39m \u001b[39m \u001b[39m \u001b[39m \u001b[39m \u001b[39m \u001b[39m \u001b[39m \u001b[39m \u001b[39m \u001b[39m \u001b[39m \u001b[39m \u001b[39m \u001b[39m \u001b[39m \u001b[39m \u001b[39m \u001b[39m \u001b[39m \u001b[39m \u001b[39m▄\u001b[39m▆\u001b[39m▇\u001b[39m▅\u001b[39m▇\u001b[39m▅\u001b[34m█\u001b[39m\u001b[32m▄\u001b[39m\u001b[39m▃\u001b[39m▅\u001b[39m \u001b[39m \u001b[39m \u001b[39m \u001b[39m \u001b[39m \u001b[39m \u001b[39m \u001b[39m \u001b[39m \u001b[39m \u001b[39m \u001b[39m \u001b[39m \u001b[39m \u001b[39m \u001b[39m \u001b[39m \u001b[39m \u001b[39m \u001b[39m \u001b[39m \u001b[39m \u001b[39m \u001b[39m \u001b[39m \u001b[39m \n",
       "  \u001b[39m▂\u001b[39m▂\u001b[39m▁\u001b[39m▁\u001b[39m▂\u001b[39m▃\u001b[39m▂\u001b[39m▃\u001b[39m▂\u001b[39m▃\u001b[39m▃\u001b[39m▃\u001b[39m▂\u001b[39m▂\u001b[39m▃\u001b[39m▃\u001b[39m▄\u001b[39m▃\u001b[39m▃\u001b[39m▄\u001b[39m▆\u001b[39m▅\u001b[39m▆\u001b[39m▇\u001b[39m█\u001b[39m█\u001b[39m█\u001b[39m█\u001b[39m█\u001b[39m█\u001b[34m█\u001b[39m\u001b[32m█\u001b[39m\u001b[39m█\u001b[39m█\u001b[39m█\u001b[39m█\u001b[39m▆\u001b[39m▄\u001b[39m▆\u001b[39m▅\u001b[39m▄\u001b[39m▅\u001b[39m▄\u001b[39m▅\u001b[39m▄\u001b[39m▂\u001b[39m▄\u001b[39m▃\u001b[39m▃\u001b[39m▂\u001b[39m▃\u001b[39m▂\u001b[39m▃\u001b[39m▃\u001b[39m▃\u001b[39m▃\u001b[39m▃\u001b[39m▂\u001b[39m▃\u001b[39m \u001b[39m▄\n",
       "  4.13 ms\u001b[90m         Histogram: frequency by time\u001b[39m        9.06 ms \u001b[0m\u001b[1m<\u001b[22m\n",
       "\n",
       " Memory estimate\u001b[90m: \u001b[39m\u001b[33m0 bytes\u001b[39m, allocs estimate\u001b[90m: \u001b[39m\u001b[33m0\u001b[39m."
      ]
     },
     "execution_count": 13,
     "metadata": {},
     "output_type": "execute_result"
    }
   ],
   "source": [
    "j_bench = @benchmark sum($a)"
   ]
  },
  {
   "cell_type": "code",
   "execution_count": 14,
   "id": "b762dfa7",
   "metadata": {},
   "outputs": [
    {
     "data": {
      "text/plain": [
       "Dict{Any, Any} with 1 entry:\n",
       "  \"Julia built-in\" => 4.1308"
      ]
     },
     "execution_count": 14,
     "metadata": {},
     "output_type": "execute_result"
    }
   ],
   "source": [
    "d = Dict()\n",
    "d[\"Julia built-in\"] = minimum(j_bench.times) / 1e6\n",
    "d"
   ]
  },
  {
   "cell_type": "markdown",
   "id": "27348500",
   "metadata": {},
   "source": [
    "## 2. Julia *hand-written*(escrita a mano)"
   ]
  },
  {
   "cell_type": "code",
   "execution_count": 15,
   "id": "56eb5522",
   "metadata": {},
   "outputs": [
    {
     "data": {
      "text/plain": [
       "mysum (generic function with 1 method)"
      ]
     },
     "execution_count": 15,
     "metadata": {},
     "output_type": "execute_result"
    }
   ],
   "source": [
    "function mysum(A)\n",
    "    s = 0.0\n",
    "    for a in A\n",
    "        s += a\n",
    "    end\n",
    "    return s\n",
    "end"
   ]
  },
  {
   "cell_type": "code",
   "execution_count": 16,
   "id": "835529a9",
   "metadata": {},
   "outputs": [
    {
     "data": {
      "text/plain": [
       "BenchmarkTools.Trial: 187 samples with 1 evaluation.\n",
       " Range \u001b[90m(\u001b[39m\u001b[36m\u001b[1mmin\u001b[22m\u001b[39m … \u001b[35mmax\u001b[39m\u001b[90m):  \u001b[39m\u001b[36m\u001b[1m20.253 ms\u001b[22m\u001b[39m … \u001b[35m30.055 ms\u001b[39m  \u001b[90m┊\u001b[39m GC \u001b[90m(\u001b[39mmin … max\u001b[90m): \u001b[39m0.00% … 0.00%\n",
       " Time  \u001b[90m(\u001b[39m\u001b[34m\u001b[1mmedian\u001b[22m\u001b[39m\u001b[90m):     \u001b[39m\u001b[34m\u001b[1m27.104 ms              \u001b[22m\u001b[39m\u001b[90m┊\u001b[39m GC \u001b[90m(\u001b[39mmedian\u001b[90m):    \u001b[39m0.00%\n",
       " Time  \u001b[90m(\u001b[39m\u001b[32m\u001b[1mmean\u001b[22m\u001b[39m ± \u001b[32mσ\u001b[39m\u001b[90m):   \u001b[39m\u001b[32m\u001b[1m26.725 ms\u001b[22m\u001b[39m ± \u001b[32m 1.487 ms\u001b[39m  \u001b[90m┊\u001b[39m GC \u001b[90m(\u001b[39mmean ± σ\u001b[90m):  \u001b[39m0.00% ± 0.00%\n",
       "\n",
       "  \u001b[39m \u001b[39m \u001b[39m \u001b[39m \u001b[39m \u001b[39m \u001b[39m \u001b[39m \u001b[39m \u001b[39m \u001b[39m \u001b[39m \u001b[39m \u001b[39m \u001b[39m \u001b[39m \u001b[39m \u001b[39m \u001b[39m \u001b[39m \u001b[39m \u001b[39m \u001b[39m \u001b[39m \u001b[39m \u001b[39m \u001b[39m \u001b[39m \u001b[39m \u001b[39m \u001b[39m \u001b[39m \u001b[39m \u001b[39m \u001b[39m \u001b[39m \u001b[39m \u001b[39m \u001b[39m \u001b[39m▁\u001b[39m \u001b[39m \u001b[39m \u001b[32m▄\u001b[39m\u001b[39m▁\u001b[34m▆\u001b[39m\u001b[39m█\u001b[39m▆\u001b[39m█\u001b[39m▆\u001b[39m \u001b[39m \u001b[39m \u001b[39m \u001b[39m \u001b[39m \u001b[39m \u001b[39m \u001b[39m \u001b[39m \u001b[39m \n",
       "  \u001b[39m▃\u001b[39m▁\u001b[39m▁\u001b[39m▁\u001b[39m▁\u001b[39m▁\u001b[39m▃\u001b[39m▁\u001b[39m▁\u001b[39m▁\u001b[39m▁\u001b[39m▁\u001b[39m▃\u001b[39m▁\u001b[39m▁\u001b[39m▃\u001b[39m▄\u001b[39m▁\u001b[39m▁\u001b[39m▄\u001b[39m▁\u001b[39m▄\u001b[39m▁\u001b[39m▁\u001b[39m▄\u001b[39m▁\u001b[39m▄\u001b[39m▃\u001b[39m▅\u001b[39m▄\u001b[39m▁\u001b[39m▆\u001b[39m▃\u001b[39m▁\u001b[39m▄\u001b[39m▁\u001b[39m▅\u001b[39m▄\u001b[39m▆\u001b[39m█\u001b[39m▄\u001b[39m▆\u001b[39m▅\u001b[32m█\u001b[39m\u001b[39m█\u001b[34m█\u001b[39m\u001b[39m█\u001b[39m█\u001b[39m█\u001b[39m█\u001b[39m▆\u001b[39m▄\u001b[39m▄\u001b[39m▅\u001b[39m▄\u001b[39m▆\u001b[39m▄\u001b[39m▁\u001b[39m▃\u001b[39m \u001b[39m▃\n",
       "  20.3 ms\u001b[90m         Histogram: frequency by time\u001b[39m        29.1 ms \u001b[0m\u001b[1m<\u001b[22m\n",
       "\n",
       " Memory estimate\u001b[90m: \u001b[39m\u001b[33m0 bytes\u001b[39m, allocs estimate\u001b[90m: \u001b[39m\u001b[33m0\u001b[39m."
      ]
     },
     "execution_count": 16,
     "metadata": {},
     "output_type": "execute_result"
    }
   ],
   "source": [
    "j_bench_hand = @benchmark mysum($a)"
   ]
  },
  {
   "cell_type": "code",
   "execution_count": 17,
   "id": "a2f716f1",
   "metadata": {},
   "outputs": [
    {
     "data": {
      "text/plain": [
       "Dict{Any, Any} with 2 entries:\n",
       "  \"Julia hand-written\" => 20.2531\n",
       "  \"Julia built-in\"     => 4.1308"
      ]
     },
     "execution_count": 17,
     "metadata": {},
     "output_type": "execute_result"
    }
   ],
   "source": [
    "d[\"Julia hand-written\"] = minimum(j_bench_hand.times) / 1e6\n",
    "d"
   ]
  },
  {
   "cell_type": "markdown",
   "id": "f3136bcb",
   "metadata": {},
   "source": [
    "Eso es aproximadamente varias veces más lento que la definición integrada. Veremos porqué más adelante.\n",
    "\n",
    "Pero primero: ¿es esto rápido? ¿Cómo lo sabríamos? Comparémoslo con otros idiomas..."
   ]
  },
  {
   "cell_type": "markdown",
   "id": "9ca4d95f",
   "metadata": {},
   "source": [
    "# 3. Lenguaje C\n",
    "\n",
    "C a menudo se considera el referente dorado: difícil para el ser humano, agradable para la máquina. Llegar a un factor de 2 de C suele ser satisfactorio. No obstante, incluso dentro de C, hay muchos tipos de optimizaciones posibles que un escritor de C puede o no aprovechar.\n",
    "\n",
    "El autor actual no habla C, por lo que no lee la celda a continuación, pero está feliz de saber que puede poner código C en una sesión de Julia, compilarlo y ejecutarlo. Tenga en cuenta que el \"\"\" envuelve una cadena de varias líneas."
   ]
  },
  {
   "cell_type": "code",
   "execution_count": null,
   "id": "39e06dae",
   "metadata": {},
   "outputs": [],
   "source": []
  }
 ],
 "metadata": {
  "kernelspec": {
   "display_name": "Julia 1.7.3",
   "language": "julia",
   "name": "julia-1.7"
  },
  "language_info": {
   "file_extension": ".jl",
   "mimetype": "application/julia",
   "name": "julia",
   "version": "1.7.3"
  }
 },
 "nbformat": 4,
 "nbformat_minor": 5
}
