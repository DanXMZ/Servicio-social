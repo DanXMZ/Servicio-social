{
 "cells": [
  {
   "cell_type": "markdown",
   "metadata": {},
   "source": [
    "# Algoritmos paralelos: Pensando en paralelo\n",
    "Ahora que comenzamos a ver los desafíos del paralelismo, vale la pena dar un paso atrás y examinar cómo podemos diseñar algoritmos paralelos.\n",
    "Esta es una adaptación de [workshop paper](http://jiahao.github.io/parallel-prefix/) por Jiahao Chen y Alan Edelman titulado  \"*Parallel Prefix Polymorphism Permits Parallelization, Presentation '&' Proof*\" y aparecerá en los eventos de [First Workshop for High Performance Technical Computing in Dynamic\n",
    "Languages](http://jiahao.github.io/hptcdl-sc14/) celebrada en conjunto con [SC14: The International Conference on High Performance Computing, Networking, Storage and Analysis](http://sc14.supercomputing.org/)\n"
   ]
  },
  {
   "cell_type": "code",
   "execution_count": 4,
   "metadata": {
    "collapsed": true
   },
   "outputs": [
    {
     "name": "stderr",
     "output_type": "stream",
     "text": [
      "\u001b[32m\u001b[1m    Updating\u001b[22m\u001b[39m registry at `~/.julia/registries/General`\n",
      "\u001b[32m\u001b[1m    Updating\u001b[22m\u001b[39m git-repo `https://github.com/JuliaRegistries/General.git`\n",
      "\u001b[32m\u001b[1m   Resolving\u001b[22m\u001b[39m package versions...\n",
      "\u001b[32m\u001b[1m   Installed\u001b[22m\u001b[39m Glib_jll ───── v2.74.0+2\n",
      "\u001b[32m\u001b[1m   Installed\u001b[22m\u001b[39m Libiconv_jll ─ v1.16.1+2\n",
      "\u001b[32m\u001b[1m    Updating\u001b[22m\u001b[39m `~/.julia/environments/v1.8/Project.toml`\n",
      " \u001b[90m [44cfe95a] \u001b[39m\u001b[92m+ Pkg v1.8.0\u001b[39m\n",
      "\u001b[32m\u001b[1m    Updating\u001b[22m\u001b[39m `~/.julia/environments/v1.8/Manifest.toml`\n",
      " \u001b[90m [7746bdde] \u001b[39m\u001b[93m↑ Glib_jll v2.74.0+1 ⇒ v2.74.0+2\u001b[39m\n",
      " \u001b[90m [94ce4f54] \u001b[39m\u001b[93m↑ Libiconv_jll v1.16.1+1 ⇒ v1.16.1+2\u001b[39m\n",
      "\u001b[32m\u001b[1mPrecompiling\u001b[22m\u001b[39m project...\n",
      "\u001b[32m  ✓ \u001b[39mJuliaAcademyData\n",
      "\u001b[32m  ✓ \u001b[39m\u001b[90mLibiconv_jll\u001b[39m\n",
      "\u001b[32m  ✓ \u001b[39m\u001b[90mXML2_jll\u001b[39m\n",
      "\u001b[32m  ✓ \u001b[39m\u001b[90mGettext_jll\u001b[39m\n",
      "\u001b[32m  ✓ \u001b[39m\u001b[90mXSLT_jll\u001b[39m\n",
      "\u001b[32m  ✓ \u001b[39m\u001b[90mWayland_jll\u001b[39m\n",
      "\u001b[32m  ✓ \u001b[39m\u001b[90mGlib_jll\u001b[39m\n",
      "\u001b[32m  ✓ \u001b[39m\u001b[90mXorg_libxcb_jll\u001b[39m\n",
      "\u001b[32m  ✓ \u001b[39m\u001b[90mXorg_xcb_util_jll\u001b[39m\n",
      "\u001b[32m  ✓ \u001b[39m\u001b[90mXorg_libX11_jll\u001b[39m\n",
      "\u001b[32m  ✓ \u001b[39m\u001b[90mXorg_xcb_util_image_jll\u001b[39m\n",
      "\u001b[32m  ✓ \u001b[39m\u001b[90mXorg_xcb_util_renderutil_jll\u001b[39m\n",
      "\u001b[32m  ✓ \u001b[39m\u001b[90mXorg_xcb_util_keysyms_jll\u001b[39m\n",
      "\u001b[32m  ✓ \u001b[39m\u001b[90mXorg_xcb_util_wm_jll\u001b[39m\n",
      "\u001b[32m  ✓ \u001b[39m\u001b[90mXorg_libxkbfile_jll\u001b[39m\n",
      "\u001b[32m  ✓ \u001b[39m\u001b[90mXorg_libXfixes_jll\u001b[39m\n",
      "\u001b[32m  ✓ \u001b[39m\u001b[90mXorg_libXrender_jll\u001b[39m\n",
      "\u001b[32m  ✓ \u001b[39m\u001b[90mXorg_libXext_jll\u001b[39m\n",
      "\u001b[32m  ✓ \u001b[39m\u001b[90mgdk_pixbuf_jll\u001b[39m\n",
      "\u001b[32m  ✓ \u001b[39m\u001b[90mLibglvnd_jll\u001b[39m\n",
      "\u001b[32m  ✓ \u001b[39m\u001b[90mXorg_libXinerama_jll\u001b[39m\n",
      "\u001b[32m  ✓ \u001b[39m\u001b[90mXorg_libXi_jll\u001b[39m\n",
      "\u001b[32m  ✓ \u001b[39m\u001b[90mXorg_xkbcomp_jll\u001b[39m\n",
      "\u001b[32m  ✓ \u001b[39m\u001b[90mXorg_libXcursor_jll\u001b[39m\n",
      "\u001b[32m  ✓ \u001b[39m\u001b[90mXorg_libXrandr_jll\u001b[39m\n",
      "\u001b[32m  ✓ \u001b[39m\u001b[90mCairo_jll\u001b[39m\n",
      "\u001b[32m  ✓ \u001b[39m\u001b[90mXorg_xkeyboard_config_jll\u001b[39m\n",
      "\u001b[32m  ✓ \u001b[39m\u001b[90mxkbcommon_jll\u001b[39m\n",
      "\u001b[32m  ✓ \u001b[39m\u001b[90mGLFW_jll\u001b[39m\n",
      "\u001b[32m  ✓ \u001b[39m\u001b[90mHarfBuzz_jll\u001b[39m\n",
      "\u001b[32m  ✓ \u001b[39m\u001b[90mPoppler_jll\u001b[39m\n",
      "\u001b[32m  ✓ \u001b[39m\u001b[90mTikzPictures\u001b[39m\n",
      "\u001b[32m  ✓ \u001b[39m\u001b[90mPango_jll\u001b[39m\n",
      "\u001b[32m  ✓ \u001b[39m\u001b[90mlibass_jll\u001b[39m\n",
      "\u001b[32m  ✓ \u001b[39m\u001b[90mGLFW\u001b[39m\n",
      "\u001b[32m  ✓ \u001b[39m\u001b[90mQt5Base_jll\u001b[39m\n",
      "\u001b[32m  ✓ \u001b[39m\u001b[90mLibrsvg_jll\u001b[39m\n",
      "\u001b[32m  ✓ \u001b[39m\u001b[90mCairo\u001b[39m\n",
      "\u001b[32m  ✓ \u001b[39m\u001b[90mFFMPEG_jll\u001b[39m\n",
      "\u001b[32m  ✓ \u001b[39m\u001b[90mFFMPEG\u001b[39m\n",
      "\u001b[32m  ✓ \u001b[39m\u001b[90mRsvg\u001b[39m\n",
      "\u001b[32m  ✓ \u001b[39m\u001b[90mGR_jll\u001b[39m\n",
      "\u001b[32m  ✓ \u001b[39m\u001b[90mGR\u001b[39m\n",
      "\u001b[32m  ✓ \u001b[39m\u001b[90mLuxor\u001b[39m\n",
      "\u001b[32m  ✓ \u001b[39m\u001b[90mPlots\u001b[39m\n",
      "\u001b[32m  ✓ \u001b[39m\u001b[90mMakie\u001b[39m\n",
      "\u001b[91m  ✗ \u001b[39mGLMakie\n",
      "\u001b[32m  ✓ \u001b[39mCairoMakie\n",
      "  47 dependencies successfully precompiled in 164 seconds. 234 already precompiled.\n",
      "  \u001b[91m1\u001b[39m dependency errored. To see a full report either run `import Pkg; Pkg.precompile()` or load the package\n"
     ]
    }
   ],
   "source": [
    "]add Pkg"
   ]
  },
  {
   "cell_type": "code",
   "execution_count": 7,
   "metadata": {},
   "outputs": [],
   "source": [
    "import Pkg"
   ]
  },
  {
   "cell_type": "code",
   "execution_count": 8,
   "metadata": {
    "collapsed": true
   },
   "outputs": [
    {
     "name": "stderr",
     "output_type": "stream",
     "text": [
      "\u001b[32m\u001b[1m   Resolving\u001b[22m\u001b[39m package versions...\n",
      "\u001b[32m\u001b[1m   Installed\u001b[22m\u001b[39m Compose ─ v0.9.4\n",
      "\u001b[32m\u001b[1m    Updating\u001b[22m\u001b[39m `~/.julia/environments/v1.8/Project.toml`\n",
      " \u001b[90m [a81c6b42] \u001b[39m\u001b[92m+ Compose v0.9.4\u001b[39m\n",
      "\u001b[32m\u001b[1m    Updating\u001b[22m\u001b[39m `~/.julia/environments/v1.8/Manifest.toml`\n",
      " \u001b[90m [a81c6b42] \u001b[39m\u001b[92m+ Compose v0.9.4\u001b[39m\n",
      "\u001b[32m\u001b[1mPrecompiling\u001b[22m\u001b[39m project...\n",
      "\u001b[32m  ✓ \u001b[39mCompose\n",
      "  1 dependency successfully precompiled in 2 seconds. 281 already precompiled. 1 skipped during auto due to previous errors.\n"
     ]
    }
   ],
   "source": [
    "Pkg.add(\"Compose\")"
   ]
  },
  {
   "cell_type": "code",
   "execution_count": 10,
   "metadata": {
    "collapsed": true
   },
   "outputs": [
    {
     "name": "stderr",
     "output_type": "stream",
     "text": [
      "\u001b[32m\u001b[1m   Resolving\u001b[22m\u001b[39m package versions...\n",
      "\u001b[32m\u001b[1m   Installed\u001b[22m\u001b[39m StatsFuns ────────── v1.1.1\n",
      "\u001b[32m\u001b[1m   Installed\u001b[22m\u001b[39m PlotUtils ────────── v1.3.2\n",
      "\u001b[32m\u001b[1m   Installed\u001b[22m\u001b[39m TranscodingStreams ─ v0.9.10\n",
      "\u001b[32m\u001b[1m   Installed\u001b[22m\u001b[39m HTTP ─────────────── v1.6.1\n",
      "\u001b[32m\u001b[1m   Installed\u001b[22m\u001b[39m Parsers ──────────── v2.5.2\n",
      "\u001b[32m\u001b[1m   Installed\u001b[22m\u001b[39m Hexagons ─────────── v0.2.0\n",
      "\u001b[32m\u001b[1m   Installed\u001b[22m\u001b[39m CategoricalArrays ── v0.10.7\n",
      "\u001b[32m\u001b[1m   Installed\u001b[22m\u001b[39m ExproniconLite ───── v0.7.9\n",
      "\u001b[32m\u001b[1m   Installed\u001b[22m\u001b[39m Plots ────────────── v1.37.2\n",
      "\u001b[32m\u001b[1m   Installed\u001b[22m\u001b[39m Colors ───────────── v0.12.9\n",
      "\u001b[32m\u001b[1m   Installed\u001b[22m\u001b[39m GPUArraysCore ────── v0.1.2\n",
      "\u001b[32m\u001b[1m   Installed\u001b[22m\u001b[39m CoupledFields ────── v0.2.0\n",
      "\u001b[32m\u001b[1m   Installed\u001b[22m\u001b[39m StructArrays ─────── v0.6.14\n",
      "\u001b[32m\u001b[1m   Installed\u001b[22m\u001b[39m FillArrays ───────── v0.13.6\n",
      "\u001b[32m\u001b[1m   Installed\u001b[22m\u001b[39m Gadfly ───────────── v1.3.4\n",
      "\u001b[32m\u001b[1m   Installed\u001b[22m\u001b[39m Interpolations ───── v0.14.7\n",
      "\u001b[32m\u001b[1m   Installed\u001b[22m\u001b[39m PrettyTables ─────── v2.2.2\n",
      "\u001b[32m\u001b[1m   Installed\u001b[22m\u001b[39m Luxor ────────────── v3.6.0\n",
      "\u001b[32m\u001b[1m    Updating\u001b[22m\u001b[39m `~/.julia/environments/v1.8/Project.toml`\n",
      " \u001b[90m [c91e804a] \u001b[39m\u001b[92m+ Gadfly v1.3.4\u001b[39m\n",
      "\u001b[32m\u001b[1m    Updating\u001b[22m\u001b[39m `~/.julia/environments/v1.8/Manifest.toml`\n",
      " \u001b[90m [324d7699] \u001b[39m\u001b[92m+ CategoricalArrays v0.10.7\u001b[39m\n",
      " \u001b[90m [5ae59095] \u001b[39m\u001b[93m↑ Colors v0.12.8 ⇒ v0.12.9\u001b[39m\n",
      "\u001b[33m⌅\u001b[39m\u001b[90m [d38c429a] \u001b[39m\u001b[95m↓ Contour v0.6.2 ⇒ v0.5.7\u001b[39m\n",
      " \u001b[90m [7ad07ef1] \u001b[39m\u001b[92m+ CoupledFields v0.2.0\u001b[39m\n",
      " \u001b[90m [b4f34e82] \u001b[39m\u001b[92m+ Distances v0.10.7\u001b[39m\n",
      "\u001b[33m⌅\u001b[39m\u001b[90m [ffbed154] \u001b[39m\u001b[95m↓ DocStringExtensions v0.9.2 ⇒ v0.8.6\u001b[39m\n",
      " \u001b[90m [55351af7] \u001b[39m\u001b[93m↑ ExproniconLite v0.7.6 ⇒ v0.7.9\u001b[39m\n",
      " \u001b[90m [1a297f60] \u001b[39m\u001b[93m↑ FillArrays v0.13.5 ⇒ v0.13.6\u001b[39m\n",
      " \u001b[90m [46192b85] \u001b[39m\u001b[92m+ GPUArraysCore v0.1.2\u001b[39m\n",
      " \u001b[90m [c91e804a] \u001b[39m\u001b[92m+ Gadfly v1.3.4\u001b[39m\n",
      " \u001b[90m [cd3eb016] \u001b[39m\u001b[93m↑ HTTP v1.5.5 ⇒ v1.6.1\u001b[39m\n",
      " \u001b[90m [a1b4810d] \u001b[39m\u001b[92m+ Hexagons v0.2.0\u001b[39m\n",
      " \u001b[90m [a98d9a8b] \u001b[39m\u001b[93m↑ Interpolations v0.14.6 ⇒ v0.14.7\u001b[39m\n",
      " \u001b[90m [4345ca2d] \u001b[39m\u001b[92m+ Loess v0.5.4\u001b[39m\n",
      " \u001b[90m [ae8d54c2] \u001b[39m\u001b[93m↑ Luxor v3.5.0 ⇒ v3.6.0\u001b[39m\n",
      " \u001b[90m [69de0a69] \u001b[39m\u001b[93m↑ Parsers v2.5.1 ⇒ v2.5.2\u001b[39m\n",
      " \u001b[90m [995b91a9] \u001b[39m\u001b[93m↑ PlotUtils v1.3.1 ⇒ v1.3.2\u001b[39m\n",
      " \u001b[90m [91a5bcdd] \u001b[39m\u001b[93m↑ Plots v1.36.6 ⇒ v1.37.2\u001b[39m\n",
      " \u001b[90m [08abe8d2] \u001b[39m\u001b[93m↑ PrettyTables v2.2.1 ⇒ v2.2.2\u001b[39m\n",
      " \u001b[90m [4c63d2b9] \u001b[39m\u001b[93m↑ StatsFuns v1.1.0 ⇒ v1.1.1\u001b[39m\n",
      " \u001b[90m [09ab397b] \u001b[39m\u001b[93m↑ StructArrays v0.6.13 ⇒ v0.6.14\u001b[39m\n",
      " \u001b[90m [3bb67fe8] \u001b[39m\u001b[93m↑ TranscodingStreams v0.9.9 ⇒ v0.9.10\u001b[39m\n",
      "\u001b[36m\u001b[1m        Info\u001b[22m\u001b[39m Packages marked with \u001b[33m⌅\u001b[39m have new versions available but compatibility constraints restrict them from upgrading. To see why use `status --outdated -m`\n",
      "\u001b[32m\u001b[1mPrecompiling\u001b[22m\u001b[39m project...\n",
      "\u001b[32m  ✓ \u001b[39m\u001b[90mHexagons\u001b[39m\n",
      "\u001b[32m  ✓ \u001b[39m\u001b[90mGPUArraysCore\u001b[39m\n",
      "\u001b[32m  ✓ \u001b[39m\u001b[90mDocStringExtensions\u001b[39m\n",
      "\u001b[32m  ✓ \u001b[39m\u001b[90mTranscodingStreams\u001b[39m\n",
      "\u001b[32m  ✓ \u001b[39m\u001b[90mDistances\u001b[39m\n",
      "\u001b[32m  ✓ \u001b[39m\u001b[90mFillArrays\u001b[39m\n",
      "\u001b[32m  ✓ \u001b[39m\u001b[90mCategoricalArrays\u001b[39m\n",
      "\u001b[32m  ✓ \u001b[39m\u001b[90mStructArrays\u001b[39m\n",
      "\u001b[32m  ✓ \u001b[39m\u001b[90mExproniconLite\u001b[39m\n",
      "\u001b[32m  ✓ \u001b[39m\u001b[90mCodecZlib\u001b[39m\n",
      "\u001b[32m  ✓ \u001b[39m\u001b[90mContour\u001b[39m\n",
      "\u001b[32m  ✓ \u001b[39m\u001b[90mLoess\u001b[39m\n",
      "\u001b[32m  ✓ \u001b[39m\u001b[90mInterpolations\u001b[39m\n",
      "\u001b[32m  ✓ \u001b[39m\u001b[90mLogExpFunctions\u001b[39m\n",
      "\u001b[32m  ✓ \u001b[39m\u001b[90mAutoma\u001b[39m\n",
      "\u001b[33m  ✓ \u001b[39m\u001b[90mColors\u001b[39m\n",
      "\u001b[32m  ✓ \u001b[39m\u001b[90mConfigurations\u001b[39m\n",
      "\u001b[32m  ✓ \u001b[39m\u001b[90mGraphics\u001b[39m\n",
      "\u001b[32m  ✓ \u001b[39m\u001b[90mStatsBase\u001b[39m\n",
      "\u001b[32m  ✓ \u001b[39m\u001b[90mAnimations\u001b[39m\n",
      "\u001b[32m  ✓ \u001b[39m\u001b[90mOpenEXR\u001b[39m\n",
      "\u001b[32m  ✓ \u001b[39m\u001b[90mCoupledFields\u001b[39m\n",
      "\u001b[32m  ✓ \u001b[39m\u001b[90mHTTP\u001b[39m\n",
      "\u001b[32m  ✓ \u001b[39m\u001b[90mPrettyTables\u001b[39m\n",
      "\u001b[32m  ✓ \u001b[39m\u001b[90mCairo\u001b[39m\n",
      "\u001b[32m  ✓ \u001b[39m\u001b[90mSpecialFunctions\u001b[39m\n",
      "\u001b[32m  ✓ \u001b[39m\u001b[90mRsvg\u001b[39m\n",
      "\u001b[32m  ✓ \u001b[39m\u001b[90mDualNumbers\u001b[39m\n",
      "\u001b[32m  ✓ \u001b[39m\u001b[90mGeometryBasics\u001b[39m\n",
      "\u001b[32m  ✓ \u001b[39m\u001b[90mHypergeometricFunctions\u001b[39m\n",
      "\u001b[32m  ✓ \u001b[39m\u001b[90mColorVectorSpace\u001b[39m\n",
      "\u001b[32m  ✓ \u001b[39m\u001b[90mPacking\u001b[39m\n",
      "\u001b[32m  ✓ \u001b[39m\u001b[90mMeshIO\u001b[39m\n",
      "\u001b[32m  ✓ \u001b[39m\u001b[90mShaderAbstractions\u001b[39m\n",
      "\u001b[32m  ✓ \u001b[39m\u001b[90mStatsFuns\u001b[39m\n",
      "\u001b[32m  ✓ \u001b[39m\u001b[90mGridLayoutBase\u001b[39m\n",
      "\u001b[32m  ✓ \u001b[39m\u001b[90mLuxor\u001b[39m\n",
      "\u001b[33m  ✓ \u001b[39m\u001b[90mParsers\u001b[39m\n",
      "\u001b[32m  ✓ \u001b[39m\u001b[90mInlineStrings\u001b[39m\n",
      "\u001b[33m  ✓ \u001b[39m\u001b[90mJSON\u001b[39m\n",
      "\u001b[32m  ✓ \u001b[39mUpdateJulia\n",
      "\u001b[32m  ✓ \u001b[39m\u001b[90mFreeTypeAbstraction\u001b[39m\n",
      "\u001b[32m  ✓ \u001b[39m\u001b[90mWeakRefStrings\u001b[39m\n",
      "\u001b[33m  ✓ \u001b[39mConda\n",
      "\u001b[32m  ✓ \u001b[39m\u001b[90mColorSchemes\u001b[39m\n",
      "\u001b[32m  ✓ \u001b[39mBenchmarkTools\n",
      "\u001b[32m  ✓ \u001b[39m\u001b[90mColorBrewer\u001b[39m\n",
      "\u001b[32m  ✓ \u001b[39m\u001b[90mGR\u001b[39m\n",
      "\u001b[33m  ✓ \u001b[39mCompose\n",
      "\u001b[32m  ✓ \u001b[39m\u001b[90mDistributions\u001b[39m\n",
      "\u001b[33m  ✓ \u001b[39mIJulia\n",
      "\u001b[32m  ✓ \u001b[39mCSV\n",
      "\u001b[32m  ✓ \u001b[39mPyCall\n",
      "\u001b[32m  ✓ \u001b[39m\u001b[90mKernelDensity\u001b[39m\n",
      "\u001b[32m  ✓ \u001b[39mPluto\n",
      "\u001b[32m  ✓ \u001b[39m\u001b[90mMathTeXEngine\u001b[39m\n",
      "\u001b[32m  ✓ \u001b[39m\u001b[90mPlotUtils\u001b[39m\n",
      "\u001b[32m  ✓ \u001b[39mGadfly\n",
      "\u001b[32m  ✓ \u001b[39m\u001b[90mTiffImages\u001b[39m\n",
      "\u001b[32m  ✓ \u001b[39mDataFrames\n",
      "\u001b[32m  ✓ \u001b[39m\u001b[90mRecipesPipeline\u001b[39m\n",
      "\u001b[32m  ✓ \u001b[39m\u001b[90mPlotThemes\u001b[39m\n",
      "\u001b[32m  ✓ \u001b[39m\u001b[90mImageCore\u001b[39m\n",
      "\u001b[32m  ✓ \u001b[39m\u001b[90mImageBase\u001b[39m\n",
      "\u001b[32m  ✓ \u001b[39m\u001b[90mSixel\u001b[39m\n",
      "\u001b[32m  ✓ \u001b[39m\u001b[90mJpegTurbo\u001b[39m\n",
      "\u001b[32m  ✓ \u001b[39m\u001b[90mPNGFiles\u001b[39m\n",
      "\u001b[32m  ✓ \u001b[39m\u001b[90mImageAxes\u001b[39m\n",
      "\u001b[32m  ✓ \u001b[39m\u001b[90mImageMetadata\u001b[39m\n",
      "\u001b[32m  ✓ \u001b[39m\u001b[90mNetpbm\u001b[39m\n",
      "\u001b[32m  ✓ \u001b[39m\u001b[90mImageIO\u001b[39m\n",
      "\u001b[32m  ✓ \u001b[39m\u001b[90mPlots\u001b[39m\n",
      "\u001b[32m  ✓ \u001b[39m\u001b[90mMakie\u001b[39m\n",
      "\u001b[91m  ✗ \u001b[39mGLMakie\n",
      "\u001b[32m  ✓ \u001b[39mCairoMakie\n",
      "  74 dependencies successfully precompiled in 173 seconds. 215 already precompiled.\n",
      "  \u001b[33m6\u001b[39m dependencies precompiled but different versions are currently loaded. Restart julia to access the new versions\n",
      "  \u001b[91m1\u001b[39m dependency errored. To see a full report either run `import Pkg; Pkg.precompile()` or load the package\n"
     ]
    }
   ],
   "source": [
    "Pkg.add(\"Gadfly\")"
   ]
  },
  {
   "cell_type": "code",
   "execution_count": 11,
   "metadata": {
    "collapsed": true
   },
   "outputs": [
    {
     "name": "stderr",
     "output_type": "stream",
     "text": [
      "┌ Info: Precompiling Gadfly [c91e804a-d5a3-530f-b6f0-dfbca275c004]\n",
      "└ @ Base loading.jl:1664\n",
      "\u001b[33m\u001b[1m┌ \u001b[22m\u001b[39m\u001b[33m\u001b[1mWarning: \u001b[22m\u001b[39mModule Compose with build ID 4344716308180 is missing from the cache.\n",
      "\u001b[33m\u001b[1m│ \u001b[22m\u001b[39mThis may mean Compose [a81c6b42-2e10-5240-aca2-a61377ecd94b] does not support precompilation but is imported by a module that does.\n",
      "\u001b[33m\u001b[1m└ \u001b[22m\u001b[39m\u001b[90m@ Base loading.jl:1325\u001b[39m\n",
      "┌ Info: Skipping precompilation since __precompile__(false). Importing Gadfly [c91e804a-d5a3-530f-b6f0-dfbca275c004].\n",
      "└ @ Base loading.jl:1341\n"
     ]
    }
   ],
   "source": [
    "using Compose, Gadfly"
   ]
  },
  {
   "cell_type": "markdown",
   "metadata": {},
   "source": [
    "# `reduce()`\n",
    "\n",
    "La reducción aplica un operador binario a un vector repetidamente para devolver un escalar. Así, + se convierte en suma y * se convierte en producto.\n",
    "\n",
    "Se considera una primitiva de computación paralela básica."
   ]
  },
  {
   "cell_type": "code",
   "execution_count": 12,
   "metadata": {},
   "outputs": [
    {
     "data": {
      "text/plain": [
       "(36, 36)"
      ]
     },
     "execution_count": 12,
     "metadata": {},
     "output_type": "execute_result"
    }
   ],
   "source": [
    "reduce(+, 1:8), sum(1:8)  # triangular numbers"
   ]
  },
  {
   "cell_type": "code",
   "execution_count": 13,
   "metadata": {},
   "outputs": [
    {
     "data": {
      "text/plain": [
       "(40320, 40320)"
      ]
     },
     "execution_count": 13,
     "metadata": {},
     "output_type": "execute_result"
    }
   ],
   "source": [
    "reduce(*, 1:8), prod(1:8) # factorials"
   ]
  },
  {
   "cell_type": "code",
   "execution_count": 15,
   "metadata": {},
   "outputs": [
    {
     "name": "stdout",
     "output_type": "stream",
     "text": [
      "reduce(boring, 1:8) = 1\n",
      "reduce(boring2, 1:8) = 8\n"
     ]
    },
    {
     "data": {
      "text/plain": [
       "8"
      ]
     },
     "execution_count": 15,
     "metadata": {},
     "output_type": "execute_result"
    }
   ],
   "source": [
    "boring(a,b)=a\n",
    "@show reduce(boring, 1:8)\n",
    "boring2(a,b)=b\n",
    "@show reduce(boring2, 1:8)"
   ]
  },
  {
   "cell_type": "markdown",
   "metadata": {},
   "source": [
    "    Tambien puedes usar reduce() para calcular los numeros de fibonacci usando sus recurrencias.\n",
    "$$\\begin{pmatrix} f_2 \\\\f_1 \\end{pmatrix} = \\begin{pmatrix} f_1 + f_0 \\\\ f_1 \\end{pmatrix}\n",
    "= \\begin{pmatrix} 1 & 1 \\\\ 1 & 0 \\end{pmatrix} \\begin{pmatrix} f_1 \\\\ f_0 \\end{pmatrix} $$\n",
    "\n",
    "$$\\begin{pmatrix} f_{n+1} \\\\ f_n \\end{pmatrix} = \\dots\n",
    "= \\begin{pmatrix} 1 & 1 \\\\ 1 & 0 \\end{pmatrix}^n \\begin{pmatrix} f_1 \\\\ f_0 \\end{pmatrix} $$\n",
    "\n",
    "A partir de esto, puedes demostrar que\n",
    "$$\\begin{pmatrix} 1 & 1 \\\\ 1 & 0 \\end{pmatrix}^n  = \\begin{pmatrix} f_{n+1} & f_n \\\\ f_n & f_{n-1} \\end{pmatrix} $$\n",
    "\n",
    "(esto se aplica reducir al mismo argumento una y otra vez; por supuesto, hay otras formas)"
   ]
  },
  {
   "cell_type": "code",
   "execution_count": 57,
   "metadata": {},
   "outputs": [
    {
     "data": {
      "text/plain": [
       "2×2 Matrix{Int64}:\n",
       " 3  2\n",
       " 2  1"
      ]
     },
     "execution_count": 57,
     "metadata": {},
     "output_type": "execute_result"
    }
   ],
   "source": [
    "M=[1 1; 1 0]\n",
    "reduce(*,fill(M,3))\n",
    "prod(fill(M,3))"
   ]
  },
  {
   "cell_type": "code",
   "execution_count": 62,
   "metadata": {},
   "outputs": [
    {
     "data": {
      "text/plain": [
       "2×2 Matrix{BigInt}:\n",
       " 89  55\n",
       " 55  34"
      ]
     },
     "execution_count": 62,
     "metadata": {},
     "output_type": "execute_result"
    }
   ],
   "source": [
    "n= 10 #Intente manipular n para elegir diferentes valores (pruebe entre 0 y 100)\n",
    "prod(fill(big.(M),n))"
   ]
  },
  {
   "cell_type": "code",
   "execution_count": 63,
   "metadata": {},
   "outputs": [
    {
     "data": {
      "text/plain": [
       "2-element Vector{Matrix{Int64}}:\n",
       " [5 3; 3 2]\n",
       " [21 13; 13 8]"
      ]
     },
     "execution_count": 63,
     "metadata": {},
     "output_type": "execute_result"
    }
   ],
   "source": [
    "fib(j)=reduce(*, fill(M,j))\n",
    "fib.([4,7])"
   ]
  },
  {
   "cell_type": "markdown",
   "metadata": {},
   "source": [
    "Puede resolver recurrencias de cualquier complejidad usando `reduce()`. Por ejemplo, `reduce()` puede calcular una matriz de Hadamard a partir de su definición en términos de sus submatrices:\n",
    "\n",
    "$$H_2 = \\begin{pmatrix} H_1 & H_1 \\\\ H_1 & -H_1 \\end{pmatrix} = \\begin{pmatrix} 1 & 1 \\\\ 1 & -1 \\end{pmatrix} \\otimes H_1$$\n",
    "\n",
    "y así.\n",
    "\n",
    "(Nota: esto es solo usar reduce para calcular una matriz de potencia.\n",
    "Uno puede pensar en formas alternativas con seguridad.)"
   ]
  },
  {
   "cell_type": "code",
   "execution_count": 64,
   "metadata": {},
   "outputs": [],
   "source": [
    "# Si A es m x n\n",
    "# Si B es p x q\n",
    "# entonces kron(A,B) es mp x nq y tiene todos los elementos de A por todos los elementos de B"
   ]
  },
  {
   "cell_type": "code",
   "execution_count": 65,
   "metadata": {
    "collapsed": true
   },
   "outputs": [
    {
     "data": {
      "text/plain": [
       "16×16 Matrix{Int64}:\n",
       " 1   1   1   1   1   1   1   1   1   1   1   1   1   1   1   1\n",
       " 1  -1   1  -1   1  -1   1  -1   1  -1   1  -1   1  -1   1  -1\n",
       " 1   1  -1  -1   1   1  -1  -1   1   1  -1  -1   1   1  -1  -1\n",
       " 1  -1  -1   1   1  -1  -1   1   1  -1  -1   1   1  -1  -1   1\n",
       " 1   1   1   1  -1  -1  -1  -1   1   1   1   1  -1  -1  -1  -1\n",
       " 1  -1   1  -1  -1   1  -1   1   1  -1   1  -1  -1   1  -1   1\n",
       " 1   1  -1  -1  -1  -1   1   1   1   1  -1  -1  -1  -1   1   1\n",
       " 1  -1  -1   1  -1   1   1  -1   1  -1  -1   1  -1   1   1  -1\n",
       " 1   1   1   1   1   1   1   1  -1  -1  -1  -1  -1  -1  -1  -1\n",
       " 1  -1   1  -1   1  -1   1  -1  -1   1  -1   1  -1   1  -1   1\n",
       " 1   1  -1  -1   1   1  -1  -1  -1  -1   1   1  -1  -1   1   1\n",
       " 1  -1  -1   1   1  -1  -1   1  -1   1   1  -1  -1   1   1  -1\n",
       " 1   1   1   1  -1  -1  -1  -1  -1  -1  -1  -1   1   1   1   1\n",
       " 1  -1   1  -1  -1   1  -1   1  -1   1  -1   1   1  -1   1  -1\n",
       " 1   1  -1  -1  -1  -1   1   1  -1  -1   1   1   1   1  -1  -1\n",
       " 1  -1  -1   1  -1   1   1  -1  -1   1   1  -1   1  -1  -1   1"
      ]
     },
     "execution_count": 65,
     "metadata": {},
     "output_type": "execute_result"
    }
   ],
   "source": [
    "A=[1 2;3 4]\n",
    "B=[10 100; 1 -10]\n",
    "⊗(A,B)=kron(A,B)\n",
    "\n",
    "M=[ 1 1;1 -1]\n",
    "H=⊗(⊗(⊗(M,M),M),M)"
   ]
  },
  {
   "cell_type": "code",
   "execution_count": 66,
   "metadata": {
    "collapsed": true
   },
   "outputs": [
    {
     "data": {
      "text/plain": [
       "16×16 Matrix{Int64}:\n",
       " 16   0   0   0   0   0   0   0   0   0   0   0   0   0   0   0\n",
       "  0  16   0   0   0   0   0   0   0   0   0   0   0   0   0   0\n",
       "  0   0  16   0   0   0   0   0   0   0   0   0   0   0   0   0\n",
       "  0   0   0  16   0   0   0   0   0   0   0   0   0   0   0   0\n",
       "  0   0   0   0  16   0   0   0   0   0   0   0   0   0   0   0\n",
       "  0   0   0   0   0  16   0   0   0   0   0   0   0   0   0   0\n",
       "  0   0   0   0   0   0  16   0   0   0   0   0   0   0   0   0\n",
       "  0   0   0   0   0   0   0  16   0   0   0   0   0   0   0   0\n",
       "  0   0   0   0   0   0   0   0  16   0   0   0   0   0   0   0\n",
       "  0   0   0   0   0   0   0   0   0  16   0   0   0   0   0   0\n",
       "  0   0   0   0   0   0   0   0   0   0  16   0   0   0   0   0\n",
       "  0   0   0   0   0   0   0   0   0   0   0  16   0   0   0   0\n",
       "  0   0   0   0   0   0   0   0   0   0   0   0  16   0   0   0\n",
       "  0   0   0   0   0   0   0   0   0   0   0   0   0  16   0   0\n",
       "  0   0   0   0   0   0   0   0   0   0   0   0   0   0  16   0\n",
       "  0   0   0   0   0   0   0   0   0   0   0   0   0   0   0  16"
      ]
     },
     "execution_count": 66,
     "metadata": {},
     "output_type": "execute_result"
    }
   ],
   "source": [
    "H'H"
   ]
  },
  {
   "cell_type": "code",
   "execution_count": 67,
   "metadata": {
    "collapsed": true
   },
   "outputs": [
    {
     "data": {
      "text/plain": [
       "16×16 Matrix{Int64}:\n",
       " 1   1   1   1   1   1   1   1   1   1   1   1   1   1   1   1\n",
       " 1  -1   1  -1   1  -1   1  -1   1  -1   1  -1   1  -1   1  -1\n",
       " 1   1  -1  -1   1   1  -1  -1   1   1  -1  -1   1   1  -1  -1\n",
       " 1  -1  -1   1   1  -1  -1   1   1  -1  -1   1   1  -1  -1   1\n",
       " 1   1   1   1  -1  -1  -1  -1   1   1   1   1  -1  -1  -1  -1\n",
       " 1  -1   1  -1  -1   1  -1   1   1  -1   1  -1  -1   1  -1   1\n",
       " 1   1  -1  -1  -1  -1   1   1   1   1  -1  -1  -1  -1   1   1\n",
       " 1  -1  -1   1  -1   1   1  -1   1  -1  -1   1  -1   1   1  -1\n",
       " 1   1   1   1   1   1   1   1  -1  -1  -1  -1  -1  -1  -1  -1\n",
       " 1  -1   1  -1   1  -1   1  -1  -1   1  -1   1  -1   1  -1   1\n",
       " 1   1  -1  -1   1   1  -1  -1  -1  -1   1   1  -1  -1   1   1\n",
       " 1  -1  -1   1   1  -1  -1   1  -1   1   1  -1  -1   1   1  -1\n",
       " 1   1   1   1  -1  -1  -1  -1  -1  -1  -1  -1   1   1   1   1\n",
       " 1  -1   1  -1  -1   1  -1   1  -1   1  -1   1   1  -1   1  -1\n",
       " 1   1  -1  -1  -1  -1   1   1  -1  -1   1   1   1   1  -1  -1\n",
       " 1  -1  -1   1  -1   1   1  -1  -1   1   1  -1   1  -1  -1   1"
      ]
     },
     "execution_count": 67,
     "metadata": {},
     "output_type": "execute_result"
    }
   ],
   "source": [
    "Hadamard(n)=reduce(⊗, fill(M,n))\n",
    "H=Hadamard(4)"
   ]
  },
  {
   "cell_type": "code",
   "execution_count": 69,
   "metadata": {
    "collapsed": true
   },
   "outputs": [
    {
     "data": {
      "text/plain": [
       "8×8 Matrix{Int64}:\n",
       " 1  0  0  0  0  0  0  0\n",
       " 1  1  0  0  0  0  0  0\n",
       " 1  1  1  0  0  0  0  0\n",
       " 1  1  1  1  0  0  0  0\n",
       " 1  1  1  1  1  0  0  0\n",
       " 1  1  1  1  1  1  0  0\n",
       " 1  1  1  1  1  1  1  0\n",
       " 1  1  1  1  1  1  1  1"
      ]
     },
     "execution_count": 69,
     "metadata": {},
     "output_type": "execute_result"
    }
   ],
   "source": [
    "using LinearAlgebra\n",
    "cumsum(1:8)  # Es útil saber que cumsum es un operador lineal\n",
    "# ¡Puedes usar el metodo power! A continuación se muestra la matriz subyacente.\n",
    "A=tril(ones(Int,8,8))"
   ]
  },
  {
   "cell_type": "code",
   "execution_count": 72,
   "metadata": {},
   "outputs": [
    {
     "data": {
      "text/plain": [
       "2-element Vector{Vector{Int64}}:\n",
       " [1, 3, 6, 10, 15, 21, 28, 36]\n",
       " [1, 3, 6, 10, 15, 21, 28, 36]"
      ]
     },
     "execution_count": 72,
     "metadata": {},
     "output_type": "execute_result"
    }
   ],
   "source": [
    "[A*(1:8),cumsum(1:8)]"
   ]
  },
  {
   "cell_type": "markdown",
   "metadata": {},
   "source": [
    "# `prefix`\n",
    "\n",
    "Having discussed `reduce`, we are now ready for the idea behind prefix sum.\n",
    "Prefix or scan is long considered an important parallel\n",
    "primitive as well.\n",
    "\n",
    "Habiendo discutido `reduce`, ahora estamos listos para la idea detrás del prefijo sum.\n",
    "El prefijo o escaneo se considera durante mucho tiempo un paralelo importante\n",
    "primitivo también.\n",
    "\n",
    "Suponga que queria calcular las sumas parciales de un vector, es decir, dado`y[1:n]`, queremos sobre escribir `y` con el vector de sumas parciales\n",
    "\n",
    "```julia\n",
    "new_y[1] = y[1]\n",
    "new_y[2] = y[1] + y[2]\n",
    "new_y[3] = y[1] + y[2] + y[3]\n",
    "...\n",
    "```\n",
    "A primera vista, parece imposible paralelizar esto, ya que\n",
    "\n",
    "```julia\n",
    "new_y[1] = y[1]\n",
    "new_y[2] = new_y[1] + y[2]\n",
    "new_y[3] = new_y[2] + y[3]\n",
    "...\n",
    "```\n",
    "que parece ser un proceso intrínsecamente serial. Como se escribe con un `+`\n",
    "operador, esto es `cumsum`, pero tenga en cuenta que puede generalizarse a cualquier operación."
   ]
  },
  {
   "cell_type": "code",
   "execution_count": 73,
   "metadata": {},
   "outputs": [
    {
     "data": {
      "text/plain": [
       "prefix_serial! (generic function with 1 method)"
      ]
     },
     "execution_count": 73,
     "metadata": {},
     "output_type": "execute_result"
    }
   ],
   "source": [
    "function prefix_serial!(y, ⊕)\n",
    "    for i=2:length(y)\n",
    "        y[i] = y[i-1] ⊕ y[i]\n",
    "    end\n",
    "    y\n",
    "end"
   ]
  },
  {
   "cell_type": "code",
   "execution_count": 74,
   "metadata": {},
   "outputs": [
    {
     "data": {
      "text/plain": [
       "8-element Vector{Int64}:\n",
       "  1\n",
       "  3\n",
       "  6\n",
       " 10\n",
       " 15\n",
       " 21\n",
       " 28\n",
       " 36"
      ]
     },
     "execution_count": 74,
     "metadata": {},
     "output_type": "execute_result"
    }
   ],
   "source": [
    "prefix_serial!([1:8;],+)"
   ]
  },
  {
   "cell_type": "code",
   "execution_count": 75,
   "metadata": {},
   "outputs": [
    {
     "data": {
      "text/plain": [
       "8-element Vector{Int64}:\n",
       "  1\n",
       "  3\n",
       "  6\n",
       " 10\n",
       " 15\n",
       " 21\n",
       " 28\n",
       " 36"
      ]
     },
     "execution_count": 75,
     "metadata": {},
     "output_type": "execute_result"
    }
   ],
   "source": [
    "cumsum(1:8)"
   ]
  },
  {
   "cell_type": "code",
   "execution_count": 76,
   "metadata": {},
   "outputs": [
    {
     "data": {
      "text/plain": [
       "8-element Vector{Int64}:\n",
       "     1\n",
       "     2\n",
       "     6\n",
       "    24\n",
       "   120\n",
       "   720\n",
       "  5040\n",
       " 40320"
      ]
     },
     "execution_count": 76,
     "metadata": {},
     "output_type": "execute_result"
    }
   ],
   "source": [
    "prefix_serial!([1:8;], *)"
   ]
  },
  {
   "cell_type": "code",
   "execution_count": 77,
   "metadata": {},
   "outputs": [
    {
     "data": {
      "text/plain": [
       "8-element Vector{Int64}:\n",
       "     1\n",
       "     2\n",
       "     6\n",
       "    24\n",
       "   120\n",
       "   720\n",
       "  5040\n",
       " 40320"
      ]
     },
     "execution_count": 77,
     "metadata": {},
     "output_type": "execute_result"
    }
   ],
   "source": [
    "cumprod(1:8)"
   ]
  },
  {
   "cell_type": "markdown",
   "metadata": {},
   "source": [
    "Sin embargo, resulta que debido a que estas operaciones son asociativas, podemos reagrupar el orden de cómo se realizan estas sumas o productos. (Esto, por supuesto, también se extiende a otras operaciones asociativas). ¡Prefix8! proporciona otra ordenación de 8 operaciones asociativas:"
   ]
  },
  {
   "cell_type": "code",
   "execution_count": 78,
   "metadata": {},
   "outputs": [
    {
     "data": {
      "text/plain": [
       "prefix8! (generic function with 1 method)"
      ]
     },
     "execution_count": 78,
     "metadata": {},
     "output_type": "execute_result"
    }
   ],
   "source": [
    "# Magic :)\n",
    "function prefix8!(y, ⊕)\n",
    "    length(y)==8 || error(\"length 8 only\")\n",
    "    for i in (2,4,6,8); y[i] = y[i-1] ⊕ y[i]; end\n",
    "    for i in (  4,  8); y[i] = y[i-2] ⊕ y[i]; end\n",
    "    for i in (      8); y[i] = y[i-4] ⊕ y[i]; end\n",
    "    for i in (    6  ); y[i] = y[i-2] ⊕ y[i]; end\n",
    "    for i in ( 3,5,7 ); y[i] = y[i-1] ⊕ y[i]; end\n",
    "    y\n",
    "end"
   ]
  },
  {
   "cell_type": "code",
   "execution_count": 79,
   "metadata": {},
   "outputs": [
    {
     "data": {
      "text/plain": [
       "true"
      ]
     },
     "execution_count": 79,
     "metadata": {},
     "output_type": "execute_result"
    }
   ],
   "source": [
    "prefix8!([1:8;], +) == cumsum(1:8)"
   ]
  },
  {
   "cell_type": "markdown",
   "metadata": {},
   "source": [
    "De hecho, esto puede generalizarse más allá de las matrices de longitud 8:"
   ]
  },
  {
   "cell_type": "code",
   "execution_count": 81,
   "metadata": {},
   "outputs": [
    {
     "data": {
      "text/plain": [
       "prefix! (generic function with 1 method)"
      ]
     },
     "execution_count": 81,
     "metadata": {},
     "output_type": "execute_result"
    }
   ],
   "source": [
    "# More magic\n",
    "function prefix!(y, ⊕)\n",
    "    l=length(y)\n",
    "    k=ceil(Int, log2(l))\n",
    "    @inbounds for j=1:k, i=2^j:2^j:min(l, 2^k)              #\"reduce\"\n",
    "        y[i] = y[i-2^(j-1)] ⊕ y[i]\n",
    "    end\n",
    "    @inbounds for j=(k-1):-1:1, i=3*2^(j-1):2^j:min(l, 2^k) #\"expand\"\n",
    "        y[i] = y[i-2^(j-1)] ⊕ y[i]\n",
    "    end\n",
    "    y\n",
    "end"
   ]
  },
  {
   "cell_type": "code",
   "execution_count": 82,
   "metadata": {},
   "outputs": [
    {
     "data": {
      "text/plain": [
       "true"
      ]
     },
     "execution_count": 82,
     "metadata": {},
     "output_type": "execute_result"
    }
   ],
   "source": [
    "A = rand(0:9, 123)\n",
    "prefix!(copy(A), *) == cumprod(A)"
   ]
  },
  {
   "cell_type": "markdown",
   "metadata": {},
   "source": [
    "## ¿Qué es esta magia?"
   ]
  },
  {
   "cell_type": "markdown",
   "metadata": {},
   "source": [
    "We can visualize the operations with a little bit of trickery. In Julia, arrays are simply types that expose the array protocol. In particular, they need to implement  methods for the generic functions `length`, `getindex` and `setindex!`. The last two are used in indexing operations, since statements\n",
    "\n",
    "Podemos visualizar las operaciones con un poco de engaño. En Julia, las matrices son simplemente tipos que exponen el protocolo de matriz. En particular, necesitan implementar métodos para las funciones genéricas `length`, `getindex` y `setindex!`. Los dos últimos se utilizan en operaciones de *indexación*, ya que las sentencias\n",
    "\n",
    "    y = A[1]\n",
    "    A[3] = y\n"
   ]
  }
 ],
 "metadata": {
  "kernelspec": {
   "display_name": "Julia 1.8.3",
   "language": "julia",
   "name": "julia-1.8"
  },
  "language_info": {
   "file_extension": ".jl",
   "mimetype": "application/julia",
   "name": "julia",
   "version": "1.8.3"
  }
 },
 "nbformat": 4,
 "nbformat_minor": 2
}
