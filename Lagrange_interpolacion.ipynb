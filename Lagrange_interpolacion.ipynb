{
 "cells": [
  {
   "cell_type": "markdown",
   "id": "9e5d6c70",
   "metadata": {},
   "source": [
    "## Análisis numérico, Timothy Sauer"
   ]
  },
  {
   "cell_type": "markdown",
   "id": "bc65f2f2",
   "metadata": {},
   "source": [
    "### Interpolación"
   ]
  },
  {
   "cell_type": "markdown",
   "id": "bdf6e9a0",
   "metadata": {},
   "source": [
    "La *interpolacion polinomial* consiste en encontrar uno o más polinomios que relacione un conjunto de puntos dados y con el poder calcular nuevos puntos.\n",
    "\n",
    "Esto es, en un conjunto de datos de la forma $(x,y)$ encontramos su función siendo esta de la forma $y=P(x)$.\n",
    "Podemos decir entonces que la función $y=P(x)$ interpola los puntos $(x_1,y_1),(x_2,y_2),...,(x_n,y_n)$ si $P(x_i)=y_i$ para cada $i en 1 \\leq i \\leq n$\n",
    "\n",
    "**¿Por qué se usan polinomios?** De forma concreta, se utilizan polinomios por sus propiedades matemáticas sencillas, se dice que siempre existirá un polinomio cierto grado cualquier conjunto de puntos. De forma mas práctica y real los polinomios como mencionamos cuentan con propiedades sencillas las cuales pueden ser evaluadas por una computadora que facilita el tratamiento de una cantidad enorme de datos dado que tienen metodos rapidos para calcular operaciones básicas que son las operaciones necesarias para evaluar un polinomio."
   ]
  },
  {
   "cell_type": "markdown",
   "id": "72133e27",
   "metadata": {},
   "source": [
    "#### Interpolación de Lagrange"
   ]
  },
  {
   "cell_type": "markdown",
   "id": "2782b8cc",
   "metadata": {},
   "source": [
    "Supongamos que tenemos *n* puntos de datos *(x_1,y_1),...,(x_n,y_n)*. Existe una *fórmula de interpolación de Lagrange* para escribir un polinomio de grado *d=n-1*\n",
    "\n",
    "La generalización directa de la formula sería: $$P_{n-1}(x)=\\sum^n_{i=1} y_iL_i(x)$$\n",
    "\n",
    "\n",
    "\n",
    "Donde: $$L_i(x)=\\prod_{j=1,j\\neq i}^n\\frac{(x-x_j)}{(x_i-x_j)}$$"
   ]
  },
  {
   "cell_type": "code",
   "execution_count": null,
   "id": "e1e9aaf4",
   "metadata": {},
   "outputs": [],
   "source": []
  },
  {
   "cell_type": "code",
   "execution_count": null,
   "id": "6faba7bc",
   "metadata": {},
   "outputs": [],
   "source": []
  }
 ],
 "metadata": {
  "kernelspec": {
   "display_name": "Julia 1.7.3",
   "language": "julia",
   "name": "julia-1.7"
  },
  "language_info": {
   "file_extension": ".jl",
   "mimetype": "application/julia",
   "name": "julia",
   "version": "1.7.3"
  }
 },
 "nbformat": 4,
 "nbformat_minor": 5
}
