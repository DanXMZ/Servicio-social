{
 "cells": [
  {
   "cell_type": "markdown",
   "id": "74713ff0",
   "metadata": {},
   "source": [
    "# Manejo de variables"
   ]
  },
  {
   "cell_type": "markdown",
   "id": "2f7487b3",
   "metadata": {},
   "source": [
    "## Recomendaciones para mejorar la eficiencia de codigo"
   ]
  },
  {
   "cell_type": "markdown",
   "id": "8da1683a",
   "metadata": {},
   "source": [
    "Julia es un lenguaje de programacion en el cual los tipos de variables son fundamentales para hacer los procesos de manera eficiente, hablamos del despacho múltiple, que no abrodaremos mucho, pero en esencia Julia identifica el tipo de variable que se utiliza si no la definimos explicitamente. <br>Sin embargo, la idea es facilitar el procesamiento de nuestro codigo por lo cual tomando en cuenta lo anterior hay aspectos que podemos mejorar a la hora de programar."
   ]
  },
  {
   "cell_type": "markdown",
   "id": "32062439",
   "metadata": {},
   "source": [
    "### Evitar variables de tipo abstracto"
   ]
  },
  {
   "cell_type": "markdown",
   "id": "67323430",
   "metadata": {},
   "source": [
    "Para simplificar este concepto, podemos pensar en lo siguiente:\n",
    "-  Un *tipo abstracto* seria como *Real* (conjunto de los numeros reales).\n",
    "-  Un *tipo concreto* podria ser Int64, Float64, etc. "
   ]
  },
  {
   "cell_type": "code",
   "execution_count": 1,
   "id": "fe8d99be",
   "metadata": {},
   "outputs": [
    {
     "name": "stdout",
     "output_type": "stream",
     "text": [
      "Number\n",
      "|___Complex\n",
      "|___Real\n",
      "\t|___AbstractFloat\n",
      "\t\t|___BigFloat\n",
      "\t\t|___Float16\n",
      "\t\t|___Float32\n",
      "\t\t|___Float64\n",
      "\t|___AbstractIrrational\n",
      "\t\t|___Irrational\n",
      "\t|___Integer\n",
      "\t\t|___Bool\n",
      "\t\t|___Signed\n",
      "\t\t\t|___BigInt\n",
      "\t\t\t|___Int128\n",
      "\t\t\t|___Int16\n",
      "\t\t\t|___Int32\n",
      "\t\t\t|___Int64\n",
      "\t\t\t|___Int8\n",
      "\t\t|___Unsigned\n",
      "\t\t\t|___UInt128\n",
      "\t\t\t|___UInt16\n",
      "\t\t\t|___UInt32\n",
      "\t\t\t|___UInt64\n",
      "\t\t\t|___UInt8\n",
      "\t|___Rational\n"
     ]
    }
   ],
   "source": [
    "#Define una funcion que muestra las ramas de un tipo de variable.\n",
    "function _show_subtype_tree(mytype,printlevel)\n",
    "    allsubtypes = subtypes(mytype)\n",
    "    for cursubtype in allsubtypes\n",
    "        print(\"\\t\"^printlevel)\n",
    "        println(\"|___\",cursubtype)\n",
    "        printlevel += 1\n",
    "        _show_subtype_tree(cursubtype,printlevel)\n",
    "        printlevel -= 1\n",
    "    end\n",
    "end\n",
    "function show_type_tree(T)\n",
    "    println(T)\n",
    "    _show_subtype_tree(T,0)\n",
    "end\n",
    "show_type_tree(Number) #mostramos los subtipos de Number"
   ]
  },
  {
   "cell_type": "code",
   "execution_count": 2,
   "id": "55563546",
   "metadata": {},
   "outputs": [
    {
     "name": "stdout",
     "output_type": "stream",
     "text": [
      "isconcretetype(Float64) = true\n",
      "isconcretetype(Real) = false\n"
     ]
    }
   ],
   "source": [
    "#Podemos asegurarnos si el tipo de variable es concreto o abstracto\n",
    "@show isconcretetype(Float64);\n",
    "@show isconcretetype(Real);"
   ]
  },
  {
   "cell_type": "code",
   "execution_count": 3,
   "id": "34814784",
   "metadata": {},
   "outputs": [],
   "source": [
    "using BenchmarkTools"
   ]
  },
  {
   "cell_type": "code",
   "execution_count": 4,
   "id": "8caf4f67",
   "metadata": {},
   "outputs": [
    {
     "name": "stdout",
     "output_type": "stream",
     "text": [
      "  10.300 μs (197 allocations: 10.53 KiB)\n",
      "  8.500 μs (5 allocations: 7.55 KiB)\n"
     ]
    }
   ],
   "source": [
    "#Juego de lanzamiento de moneda.\n",
    "#Contabiliza el numero de veces que cae en una u otra cara, es decir cuantas veces \"ganamos\".\n",
    "\n",
    "function record_games_won(ngames)\n",
    "    games_won = [] #definimos solo el arreglo y julia interpreta el tipo\n",
    "    for i = 1:ngames\n",
    "        r = rand()\n",
    "        if r >= 0.5\n",
    "            push!(games_won,i)\n",
    "        end\n",
    "    end\n",
    "    return games_won\n",
    "end\n",
    "function record_games_won_v2(ngames)\n",
    "    games_won = Int64[] #definimos un arreglo de tipo entero\n",
    "    for i = 1:ngames\n",
    "        r = rand()\n",
    "        if r >= 0.5\n",
    "            push!(games_won,i)\n",
    "        end\n",
    "    end\n",
    "    return games_won\n",
    "end\n",
    "record_games_won(2);\n",
    "record_games_won_v2(2);\n",
    "\n",
    "ntrials = 1000\n",
    "@btime record_games_won(ntrials);\n",
    "@btime record_games_won_v2(ntrials);"
   ]
  },
  {
   "cell_type": "markdown",
   "id": "f1905992",
   "metadata": {},
   "source": [
    "Podemos observar los tiempos y uso de asignacion de memoria y como mejora cuando definimos un tipo de variable."
   ]
  },
  {
   "cell_type": "markdown",
   "id": "30214318",
   "metadata": {},
   "source": [
    "### Evitar entorno global"
   ]
  },
  {
   "cell_type": "markdown",
   "id": "d29257a3",
   "metadata": {},
   "source": [
    "Cuando programamos usualmente definimos nuestro codigo en funciones, ya sea por rendimiento o para una mejor ejecución o facilitar la comprehensión y usabilidad. Asi que todo lo que definimos dentro de dichas funciones se convierte en nuestro entorno local, y dichas funciones las llamamos al entorno global, que en este caso pueden ser el REPL o jupiter notebook por ejemplo."
   ]
  },
  {
   "cell_type": "code",
   "execution_count": 24,
   "id": "6d1d4d98",
   "metadata": {},
   "outputs": [
    {
     "name": "stdout",
     "output_type": "stream",
     "text": [
      "  100.200 μs (4495 allocations: 140.20 KiB)\n",
      "  7.500 μs (6 allocations: 15.48 KiB)\n"
     ]
    }
   ],
   "source": [
    "allgames = rand(ntrials)\n",
    "function record_games_won_global()\n",
    "    games_won = Int64[]\n",
    "    for (current_index,current_game) in enumerate(allgames)#iteramos en allgames con la funcion enumerate() en el ciclo for\n",
    "        if current_game >= 0.5                     #que produce un contador asociado al iterador actual (index,array_input)\n",
    "            push!(games_won,current_index) #guardamos en el arreglo definido(games_won en indice del evento)\n",
    "        end\n",
    "    end\n",
    "    return games_won  #regresamos el arreglo que contiene los indices de los juegos \"ganados\"\n",
    "end\n",
    "\n",
    "function record_games_won_local(ntrials)\n",
    "    allgames = rand(ntrials)#definimos de manera local el arreglo de juegos ganados\n",
    "    games_won = Int64[]\n",
    "    for (curi,curgame) in enumerate(allgames)\n",
    "        if curgame >= 0.5\n",
    "            push!(games_won,curi)\n",
    "        end\n",
    "    end\n",
    "    return games_won\n",
    "end\n",
    "\n",
    "record_games_won_global();\n",
    "record_games_won_local(ntrials);\n",
    "\n",
    "@btime record_games_won_global();\n",
    "@btime record_games_won_local(ntrials);"
   ]
  },
  {
   "cell_type": "markdown",
   "id": "7af26260",
   "metadata": {},
   "source": [
    "Podemos observar que al definir dentro de la función el arreglo y solo pasar como argumento el numero de muestras(juegos)  la ejecución utiliza menos memoria y tiempo pues no utiliza necesita acceder a una dirección en memoria y solo se genera durante la ejecución."
   ]
  },
  {
   "cell_type": "markdown",
   "id": "3ba7c557",
   "metadata": {},
   "source": [
    "**Nota:** Si es necesario crear una variable global, definirla como *const* servirá, esto no implica que no cambie de valo sino que no se modificara el tipo de variable durante la ejecución."
   ]
  },
  {
   "cell_type": "code",
   "execution_count": 25,
   "id": "84d56f20",
   "metadata": {},
   "outputs": [
    {
     "name": "stdout",
     "output_type": "stream",
     "text": [
      "myglobalint = 2\n"
     ]
    },
    {
     "name": "stderr",
     "output_type": "stream",
     "text": [
      "WARNING: redefinition of constant myglobalint. This may fail, cause incorrect answers, or produce other errors.\n"
     ]
    },
    {
     "data": {
      "text/plain": [
       "2"
      ]
     },
     "execution_count": 25,
     "metadata": {},
     "output_type": "execute_result"
    }
   ],
   "source": [
    "const myglobalint = 1\n",
    "myglobalint = 2\n",
    "@show myglobalint"
   ]
  },
  {
   "cell_type": "code",
   "execution_count": 26,
   "id": "876a7f41",
   "metadata": {},
   "outputs": [
    {
     "ename": "LoadError",
     "evalue": "invalid redefinition of constant myglobalint",
     "output_type": "error",
     "traceback": [
      "invalid redefinition of constant myglobalint",
      "",
      "Stacktrace:",
      " [1] top-level scope",
      "   @ In[26]:1",
      " [2] eval",
      "   @ .\\boot.jl:373 [inlined]",
      " [3] include_string(mapexpr::typeof(REPL.softscope), mod::Module, code::String, filename::String)",
      "   @ Base .\\loading.jl:1196"
     ]
    }
   ],
   "source": [
    "myglobalint = 1.5"
   ]
  },
  {
   "cell_type": "markdown",
   "id": "ce06f661",
   "metadata": {},
   "source": [
    "### Preasignar memoria"
   ]
  },
  {
   "cell_type": "markdown",
   "id": "fed502b7",
   "metadata": {},
   "source": [
    "En este caso debemos tomar en cuenta nuestra funcion y que nos devuelve, si es un arreglo u otro tipo de valor complejo deberiamos asignar memoria.\n",
    "A veces podemos evitar la necesidad de asignar memoria en cada llamada de función preasignando la salida."
   ]
  },
  {
   "cell_type": "code",
   "execution_count": 37,
   "id": "808dbea7",
   "metadata": {
    "scrolled": true
   },
   "outputs": [
    {
     "name": "stdout",
     "output_type": "stream",
     "text": [
      "  7.967 μs (5 allocations: 7.55 KiB)\n",
      "  4.650 μs (3 allocations: 19.73 KiB)\n"
     ]
    }
   ],
   "source": [
    "function record_games_won_v2(ngames)\n",
    "    games_won = Int64[]\n",
    "    for i = 1:ngames\n",
    "        r = rand()\n",
    "        if r >= 0.5\n",
    "            push!(games_won,i)\n",
    "        end\n",
    "    end\n",
    "    return games_won\n",
    "end\n",
    "\n",
    "\n",
    "function record_games_won_preallocate(ntrials)\n",
    "    allgames = rand(ntrials)\n",
    "    games_won = Vector{Int64}(undef,ntrials)#creamos un vector sin inicializar de tipo entero para los registros de juego\n",
    "    game_index = 1\n",
    "    for (current_index,current_game) in enumerate(allgames)\n",
    "        if current_game >= 0.5\n",
    "            games_won[game_index] = current_index\n",
    "            game_index += 1\n",
    "        end\n",
    "    end\n",
    "    return games_won[1:game_index-1]\n",
    "end\n",
    "\n",
    "\n",
    "record_games_won_preallocate(ntrials);\n",
    "\n",
    "@btime record_games_won_v2(ntrials);\n",
    "@btime record_games_won_preallocate(ntrials);"
   ]
  },
  {
   "cell_type": "markdown",
   "id": "9b4ce670",
   "metadata": {},
   "source": [
    "Se redujo el tiempo y la asignación de memoria debido a que hay un espacio preasignado del tamaño de la muestra inicial, por lo que ya no se reserva mas memoria de la necesaria."
   ]
  },
  {
   "cell_type": "markdown",
   "id": "32ba95bb",
   "metadata": {},
   "source": [
    "### Uso de operaciones vectorizadas fusionadas (difusión/broadcast)"
   ]
  },
  {
   "cell_type": "markdown",
   "id": "e14612d8",
   "metadata": {},
   "source": [
    "Dentro de las funciones de Julia para realizar operaciones matemáticas y analizar datos,una función escalar se aplica sobre variables escalares y tambien sobre vectores, sin embargo, las funciones solamente haran un elemento a la vez un ejemplo seria sin(x), exp(x), abs(x), etcétera, a no ser que se realice un ciclo para iterar.<br>Julia posee una sintaxis especial para el punto, el cual convierte una función escalar en una función *vectorizada* y un operador escalar en un operador *vectorizado*, esto además incluye que las llamadas de punto para *vectorizar* que estan anidadas se fusionan, es decir, se combinan sintacticamente en un solo bucle sin necesidad de crear matrices temporales por lo que mejoramos la eficiencia en recursos de memoria y tiempo.\n"
   ]
  },
  {
   "cell_type": "code",
   "execution_count": 40,
   "id": "5e97082f",
   "metadata": {},
   "outputs": [
    {
     "name": "stdout",
     "output_type": "stream",
     "text": [
      "  7.933 μs (5 allocations: 7.55 KiB)\n",
      "  1.390 μs (5 allocations: 16.25 KiB)\n"
     ]
    }
   ],
   "source": [
    "function record_games_won_preallocate_fused(ntrials)\n",
    "    allgames = rand(ntrials)\n",
    "    games_won = findall(allgames.>=0.5)\n",
    "    return games_won\n",
    "end\n",
    "\n",
    "record_games_won_preallocate_fused(ntrials);\n",
    "@btime record_games_won_v2(ntrials);#Version del ejemplo anterior con preasignación de memoria\n",
    "@btime record_games_won_preallocate_fused(ntrials);"
   ]
  },
  {
   "cell_type": "markdown",
   "id": "4195b841",
   "metadata": {},
   "source": [
    "Con esto, de primera instancia logramos reducir el código visualmente comparado con la ultima versión de la funcion(*record_games_won_preallocate()*) y además al no realizar una iteración de forma manual mediante un *ciclo for* mejoramos el tiempo."
   ]
  },
  {
   "cell_type": "code",
   "execution_count": 45,
   "id": "f159a8f4",
   "metadata": {},
   "outputs": [
    {
     "name": "stdout",
     "output_type": "stream",
     "text": [
      "  2.725 μs (6 allocations: 47.62 KiB)\n",
      "  751.818 ns (4 allocations: 8.00 KiB)\n",
      "  531.694 ns (1 allocation: 7.94 KiB)\n",
      "  727.473 ns (4 allocations: 8.00 KiB)\n"
     ]
    }
   ],
   "source": [
    "#Otro ejemplo de una función escalar aplicando el operador punto. \n",
    "f(x) = 3x.^2 + 4x + 7x.^3; #Sobre otros operadores(^)\n",
    "g(x) = @. 3x^2 + 4x + 7x^3 #tambien se puede definir con una macro que equivaldra a 3 .* x.^2 .+ 4 .* x .+ 7 .* x.^3\n",
    "x = rand(1000)\n",
    "@btime f(x);\n",
    "@btime f.(x);#Sobre la función misma\n",
    "@btime g(x);\n",
    "@btime g.(x);"
   ]
  },
  {
   "cell_type": "markdown",
   "id": "c7636d6d",
   "metadata": {},
   "source": [
    "Podemos observar los tiempos y notar que ultimas tres definiciones son mas rápidas sin embargo en las ultimas dos notamos que no siempre vectorizar sobre una función ya vectorizada es lo mejor puesto que se crean mas ciclos de los necesarios, lo ideal seria esparcir los puntos a lo largo de la función, definir un macro o aplicar sobre la función completa, segun sea el caso"
   ]
  },
  {
   "cell_type": "markdown",
   "id": "80cf221f",
   "metadata": {},
   "source": [
    "### No necesitas \" *vectorizar* \""
   ]
  },
  {
   "cell_type": "code",
   "execution_count": 51,
   "id": "d389117f",
   "metadata": {},
   "outputs": [
    {
     "name": "stdout",
     "output_type": "stream",
     "text": [
      "  2.788 μs (4 allocations: 31.75 KiB)\n",
      "  800.000 ns (1 allocation: 7.94 KiB)\n",
      "  1.480 μs (1 allocation: 7.94 KiB)\n"
     ]
    }
   ],
   "source": [
    "function find_hypotenuse_vectorized(b,h)\n",
    "    return sqrt.(b.^2+h.^2)\n",
    "end\n",
    "\n",
    "function find_hypotenuse_forloop(b,h)\n",
    "    accum_vec = similar(b)#Preasignamos en memoria un arreglo de tipo y tamaño como el de b\n",
    "    for i = 1:length(b)\n",
    "        accum_vec[i] = sqrt(b[i]^2+h[i]^2) #iteramos sobre el arreglo b y h\n",
    "    end\n",
    "    return accum_vec\n",
    "end\n",
    "\n",
    "b = rand(ntrials)\n",
    "h = rand(ntrials)\n",
    "@btime find_hypotenuse_vectorized($b,$h);\n",
    "@btime find_hypotenuse_vectorized.($b,$h);\n",
    "@btime find_hypotenuse_forloop($b,$h);"
   ]
  },
  {
   "cell_type": "markdown",
   "id": "23d2a42a",
   "metadata": {},
   "source": [
    "### Reutilizar memoria"
   ]
  },
  {
   "cell_type": "markdown",
   "id": "95acbe46",
   "metadata": {},
   "source": [
    "Este ejemplo es similar a la preasignación de memoria sin embargo el objetivo aqui es liberar la memoria al terminar la ejecución de a función"
   ]
  },
  {
   "cell_type": "code",
   "execution_count": 73,
   "id": "16664c22",
   "metadata": {},
   "outputs": [
    {
     "name": "stdout",
     "output_type": "stream",
     "text": [
      "  596.100 μs (1001 allocations: 3.96 MiB)\n",
      "  461.200 μs (2 allocations: 15.88 KiB)\n"
     ]
    }
   ],
   "source": [
    "function find_sum_of_sqrt_vectors(nvectors)\n",
    "    sumvector = Vector{Float64}(undef,nvectors)\n",
    "    for i = 1:nvectors\n",
    "        # v = sqrt.(1:i)\n",
    "        sumvector[i] = sum(sqrt.(1:i))\n",
    "    end\n",
    "    return sumvector\n",
    "end\n",
    "\n",
    "function find_sum_of_sqrt_vectors_reusemem(nvectors)\n",
    "    sumvector = Vector{Float64}(undef,nvectors)\n",
    "    v = Vector{Float64}(undef,nvectors)\n",
    "    for i in 1:nvectors\n",
    "        v[1:i] .= sqrt.(1:i)\n",
    "        sumvector[i] = sum(v)\n",
    "        v .= 0\n",
    "    end\n",
    "    return sumvector\n",
    "end\n",
    "\n",
    "@btime find_sum_of_sqrt_vectors($ntrials);\n",
    "@btime find_sum_of_sqrt_vectors_reusemem($ntrials);"
   ]
  },
  {
   "cell_type": "markdown",
   "id": "595fe4d8",
   "metadata": {},
   "source": [
    "### Usar @view cuando no necesites una copia de la información"
   ]
  },
  {
   "cell_type": "code",
   "execution_count": 112,
   "id": "6a92148a",
   "metadata": {},
   "outputs": [
    {
     "name": "stdout",
     "output_type": "stream",
     "text": [
      "  1.844 μs (17 allocations: 5.47 KiB)\n",
      "  1.290 μs (3 allocations: 304 bytes)\n"
     ]
    }
   ],
   "source": [
    "using SparseArrays\n",
    "using LinearAlgebra\n",
    "A = sprand(500,500,0.1)\n",
    "function set_sum(A,rowids,colids)\n",
    "    s = sum(A[rowids,colids])\n",
    "end\n",
    "function set_sum_view(A,rowids,colids)\n",
    "    s = sum(view(A,rowids,colids))\n",
    "end\n",
    "\n",
    "using Random\n",
    "@btime set_sum(A,randperm(10), randperm(10));\n",
    "@btime set_sum_view(A,randperm(10), randperm(10));"
   ]
  },
  {
   "cell_type": "markdown",
   "id": "aa33c971",
   "metadata": {},
   "source": [
    "### Accede a las matrices por columna primero"
   ]
  },
  {
   "cell_type": "markdown",
   "id": "ee948c6a",
   "metadata": {},
   "source": [
    "Las matrices se ordenan con un indice de orden mayor por columna, esto es que una matriz de orden Mat[m,n] se puede ver tambien como Mat[m*n] donde el indice recorre el arreglo por columnas, es decir, una matriz de tipo \n",
    "\\begin{pmatrix}\n",
    "1 & 2 \\\\\n",
    "a & b\n",
    "\\end{pmatrix} se ordenaria como un arreglo de la forma \\begin{pmatrix}\n",
    "1 & b & 2 & b\n",
    "\\end{pmatrix}"
   ]
  },
  {
   "cell_type": "code",
   "execution_count": 121,
   "id": "207c03a8",
   "metadata": {},
   "outputs": [
    {
     "name": "stdout",
     "output_type": "stream",
     "text": [
      "  41.008 ms (0 allocations: 0 bytes)\n",
      "  37.221 ms (0 allocations: 0 bytes)\n",
      "  37.841 ms (0 allocations: 0 bytes)\n"
     ]
    }
   ],
   "source": [
    "m = ntrials\n",
    "n = 10000\n",
    "A = rand(m,n)\n",
    "\n",
    "function matrix_sum_rows(A)\n",
    "    m,n = size(A)\n",
    "    mysum = 0\n",
    "    for i = 1:m # fix a row\n",
    "        for j = 1:n # loop over cols\n",
    "            mysum += A[i,j]\n",
    "        end\n",
    "    end\n",
    "    return mysum\n",
    "end\n",
    "\n",
    "function matrix_sum_cols(A)\n",
    "    m,n = size(A)\n",
    "    mysum = 0\n",
    "    for j = 1:n # fix a column\n",
    "        for i = 1:m # loop over rows\n",
    "            mysum += A[i,j]\n",
    "        end\n",
    "    end\n",
    "    return mysum\n",
    "end\n",
    "\n",
    "function matrix_sum_index(A)\n",
    "    m,n = size(A)\n",
    "    mysum = 0\n",
    "    for i = 1:m*n\n",
    "        mysum += A[i]\n",
    "    end\n",
    "    return mysum\n",
    "end\n",
    "@btime matrix_sum_rows($A);\n",
    "@btime matrix_sum_cols($A);\n",
    "@btime matrix_sum_index($A);"
   ]
  },
  {
   "cell_type": "markdown",
   "id": "093f75ff",
   "metadata": {},
   "source": [
    "Por lo tanto en este ejemplo podemos ver que el tiempo para recorrer el arreglo es menor si recorremos la matriz primero por columnas y luego por filas o en este caso por columnas y como arreglo de orden mayor que por filas, el tiempo es muy similar tanto en *matrix_sum_cols()* como en *matrix_sum_index()*"
   ]
  },
  {
   "cell_type": "code",
   "execution_count": 116,
   "id": "710c2433",
   "metadata": {},
   "outputs": [],
   "source": [
    "A = rand(m,n);"
   ]
  },
  {
   "cell_type": "code",
   "execution_count": 117,
   "id": "0d60d443",
   "metadata": {},
   "outputs": [
    {
     "data": {
      "text/plain": [
       "(1000, 10000)"
      ]
     },
     "execution_count": 117,
     "metadata": {},
     "output_type": "execute_result"
    }
   ],
   "source": [
    "m,n = size(A)"
   ]
  },
  {
   "cell_type": "code",
   "execution_count": 118,
   "id": "1eef118a",
   "metadata": {},
   "outputs": [
    {
     "data": {
      "text/plain": [
       "1000"
      ]
     },
     "execution_count": 118,
     "metadata": {},
     "output_type": "execute_result"
    }
   ],
   "source": [
    "m"
   ]
  },
  {
   "cell_type": "code",
   "execution_count": null,
   "id": "482f0861",
   "metadata": {},
   "outputs": [],
   "source": []
  }
 ],
 "metadata": {
  "kernelspec": {
   "display_name": "Julia 1.7.3",
   "language": "julia",
   "name": "julia-1.7"
  },
  "language_info": {
   "file_extension": ".jl",
   "mimetype": "application/julia",
   "name": "julia",
   "version": "1.7.3"
  }
 },
 "nbformat": 4,
 "nbformat_minor": 5
}
