{
 "cells": [
  {
   "cell_type": "markdown",
   "metadata": {},
   "source": [
    "# Multithreading (Procesos multiples)\n",
    "\n",
    "Ahora finalmente estamos listos para comenzar a hablar sobre ejecutar cosas en múltiples procesadores! La mayoría de las computadoras (incluso los teléfonos celulares) en estos días tienen múltiples núcleos o procesadores, por lo que el lugar obvio para comenzar a trabajar con el paralelismo es haciendo uso de aquellos dentro de nuestro proceso de Julia.\n",
    "\n",
    "Sin embargo, el primer desafío es saber con precisión cuántos \"procesadores\" tiene. \"Procesadores\" está entre comillas porque, bueno, es complicado."
   ]
  },
  {
   "cell_type": "code",
   "execution_count": 1,
   "metadata": {},
   "outputs": [
    {
     "name": "stdout",
     "output_type": "stream",
     "text": [
      "Julia Version 1.8.2\n",
      "Commit 36034abf260 (2022-09-29 15:21 UTC)\n",
      "Platform Info:\n",
      "  OS: Linux (x86_64-linux-gnu)\n",
      "      Ubuntu 22.04.1 LTS\n",
      "  uname: Linux 5.15.0-56-generic #62-Ubuntu SMP Tue Nov 22 19:54:14 UTC 2022 x86_64 x86_64\n",
      "  CPU: Intel(R) Core(TM) i7-4790 CPU @ 3.60GHz: \n",
      "              speed         user         nice          sys         idle          irq\n",
      "       #1  3500 MHz      64066 s         50 s       2738 s    2350732 s          0 s\n",
      "       #2   800 MHz      67002 s         51 s       2532 s    2350991 s          0 s\n",
      "       #3   800 MHz      57391 s         55 s       2036 s    2351542 s          0 s\n",
      "       #4   800 MHz      65958 s         62 s       1709 s    2352057 s          0 s\n",
      "       #5   800 MHz      14635 s         26 s       1504 s    2349683 s          0 s\n",
      "       #6   800 MHz      36363 s         66 s       2696 s    2350783 s          0 s\n",
      "       #7   800 MHz      53339 s         28 s       2149 s    2351035 s          0 s\n",
      "       #8  3598 MHz      70726 s         28 s       1932 s    2348618 s          0 s\n",
      "  Memory: 15.536357879638672 GB (12307.6640625 MB free)\n",
      "  Uptime: 236500.22 sec\n",
      "  Load Avg:  1.2  0.46  0.29\n",
      "  WORD_SIZE: 64\n",
      "  LIBM: libopenlibm\n",
      "  LLVM: libLLVM-13.0.1 (ORCJIT, haswell)\n",
      "  Threads: 4 on 8 virtual cores\n",
      "Environment:\n",
      "  JULIA_NUM_THREADS = 4\n",
      "  HOME = /home/oscar\n",
      "  TERM = xterm-256color\n",
      "  PATH = /home/oscar/anaconda3/bin:/home/oscar/anaconda3/bin:/home/oscar/anaconda3/condabin:/usr/local/sbin:/usr/local/bin:/usr/sbin:/usr/bin:/sbin:/bin:/usr/games:/usr/local/games:/snap/bin:/snap/bin:/home/oscar/Julia/julia-1.7.3/bin:/home/oscar/pacsab/bin:/home/oscar\n"
     ]
    }
   ],
   "source": [
    "versioninfo(verbose = true)"
   ]
  },
  {
   "cell_type": "code",
   "execution_count": 2,
   "metadata": {
    "scrolled": false
   },
   "outputs": [
    {
     "name": "stderr",
     "output_type": "stream",
     "text": [
      "\u001b[32m\u001b[1m    Updating\u001b[22m\u001b[39m registry at `~/.julia/registries/General`\n",
      "\u001b[32m\u001b[1m    Updating\u001b[22m\u001b[39m git-repo `https://github.com/JuliaRegistries/General.git`\n",
      "\u001b[32m\u001b[1m   Resolving\u001b[22m\u001b[39m package versions...\n",
      "\u001b[32m\u001b[1m  No Changes\u001b[22m\u001b[39m to `~/.julia/environments/v1.8/Project.toml`\n",
      "\u001b[32m\u001b[1m  No Changes\u001b[22m\u001b[39m to `~/.julia/environments/v1.8/Manifest.toml`\n",
      "\u001b[32m\u001b[1mPrecompiling\u001b[22m\u001b[39m project...\n",
      "\u001b[32m  ✓ \u001b[39m\u001b[90mPlots\u001b[39m\n",
      "\u001b[32m  ✓ \u001b[39m\u001b[90mMakie\u001b[39m\n",
      "\u001b[91m  ✗ \u001b[39mGLMakie\n",
      "\u001b[32m  ✓ \u001b[39mCairoMakie\n",
      "  3 dependencies successfully precompiled in 165 seconds. 278 already precompiled.\n",
      "  \u001b[91m1\u001b[39m dependency errored. To see a full report either run `import Pkg; Pkg.precompile()` or load the package\n"
     ]
    }
   ],
   "source": [
    "]add Hwloc"
   ]
  },
  {
   "cell_type": "code",
   "execution_count": 3,
   "metadata": {},
   "outputs": [
    {
     "data": {
      "text/plain": [
       "4"
      ]
     },
     "execution_count": 3,
     "metadata": {},
     "output_type": "execute_result"
    }
   ],
   "source": [
    "#; cat /proc/cpuinfo # En máquinas con S.O. Linux\n",
    "\n",
    "using Hwloc\n",
    "Hwloc.num_physical_cores()"
   ]
  },
  {
   "cell_type": "markdown",
   "metadata": {},
   "source": [
    "Lo que su computadora informa como la cantidad de procesadores podría no ser lo mismo que la cantidad total de \"núcleos\". Si bien a veces los procesadores virtuales pueden agregar rendimiento, la paralelización de un cálculo numérico típico sobre estos procesadores virtuales conducirá a un rendimiento significativamente peor porque todavía tienen que compartir gran parte de los aspectos básicos del hardware de cálculo."
   ]
  },
  {
   "cell_type": "markdown",
   "metadata": {},
   "source": [
    "¡Julia es algo multiproceso por defecto! Las llamadas BLAS(*Basic Linear Algebra Subroutines*),como la multiplicación de matrices por ejemplo, ya estan separadas en hilos de procesoo:"
   ]
  },
  {
   "cell_type": "code",
   "execution_count": 4,
   "metadata": {},
   "outputs": [
    {
     "name": "stdout",
     "output_type": "stream",
     "text": [
      "  89.897 ms (2 allocations: 30.52 MiB)\n"
     ]
    }
   ],
   "source": [
    "using BenchmarkTools\n",
    "A = rand(2000, 2000);\n",
    "B = rand(2000, 2000);\n",
    "@btime $A*$B;"
   ]
  },
  {
   "cell_type": "markdown",
   "metadata": {},
   "source": [
    "¡Esto, de forma predeterminada, ya está usando todos sus núcleos de CPU! Puede ver el efecto cambiando la cantidad de subprocesos (que BLAS admite hacer dinámicamente):"
   ]
  },
  {
   "cell_type": "code",
   "execution_count": 5,
   "metadata": {},
   "outputs": [
    {
     "name": "stdout",
     "output_type": "stream",
     "text": [
      "  317.830 ms (2 allocations: 30.52 MiB)\n",
      "  90.866 ms (2 allocations: 30.52 MiB)\n"
     ]
    },
    {
     "data": {
      "text/plain": [
       "2000×2000 Matrix{Float64}:\n",
       " 501.557  484.606  494.366  495.617  …  490.99   500.913  510.12   494.428\n",
       " 487.117  464.659  475.428  474.077     472.102  478.0    489.568  476.796\n",
       " 506.227  503.987  496.952  498.592     492.6    504.238  507.118  499.737\n",
       " 503.542  496.378  502.982  494.664     497.747  504.257  517.105  507.192\n",
       " 489.566  479.515  484.258  477.918     493.773  485.311  498.965  497.485\n",
       " 493.146  485.911  483.956  485.531  …  490.994  492.403  505.021  498.504\n",
       " 504.33   485.607  499.676  490.759     490.906  506.104  509.324  499.617\n",
       " 512.909  500.543  499.973  500.141     500.477  506.597  514.079  506.17\n",
       " 502.064  484.026  487.35   490.932     487.082  501.39   503.959  495.767\n",
       " 513.249  493.32   497.199  490.922     502.458  505.528  518.538  505.843\n",
       " 502.424  494.862  500.097  507.131  …  498.721  507.527  514.339  501.787\n",
       " 509.436  501.919  496.472  500.425     500.008  502.606  512.25   501.335\n",
       " 502.661  485.339  492.692  481.625     488.716  496.748  498.676  508.045\n",
       "   ⋮                                 ⋱                             \n",
       " 499.584  479.445  488.89   483.709     480.331  488.584  491.051  492.945\n",
       " 506.97   494.137  503.303  495.212     498.407  505.639  512.008  505.376\n",
       " 497.229  482.769  498.71   486.795  …  486.913  500.196  497.127  498.464\n",
       " 520.477  505.903  509.087  511.835     508.366  513.718  527.026  517.213\n",
       " 517.341  507.651  510.355  514.342     512.235  518.063  518.546  518.148\n",
       " 511.791  491.84   496.936  507.164     503.712  506.096  510.913  502.741\n",
       " 505.106  500.018  495.601  491.903     501.429  503.016  505.78   501.63\n",
       " 500.456  481.059  479.477  491.357  …  484.391  491.247  497.769  498.724\n",
       " 501.553  487.762  492.9    489.934     495.077  494.665  506.506  494.863\n",
       " 502.192  487.882  486.814  488.295     496.786  491.959  502.639  502.088\n",
       " 498.2    484.429  492.611  488.835     490.028  494.156  498.851  496.293\n",
       " 500.648  498.871  488.998  490.942     496.925  502.174  501.79   506.376"
      ]
     },
     "execution_count": 5,
     "metadata": {},
     "output_type": "execute_result"
    }
   ],
   "source": [
    "using LinearAlgebra\n",
    "BLAS.set_num_threads(1)\n",
    "@btime $A*$B\n",
    "BLAS.set_num_threads(4)\n",
    "@btime $A*$B"
   ]
  },
  {
   "cell_type": "markdown",
   "metadata": {},
   "source": [
    "## ¿Cómo luce la implementación de su propio algoritmo de subprocesos?\n",
    "\n",
    "La compatibilidad con subprocesos múltiples está marcada como \"experimental\" para Julia 1.0 y está pendiente de una gran renovación para la versión 1.2 o 1.3 de Julia. Los principios básicos serán los mismos, pero debería ser mucho más fácil de usar de manera eficiente."
   ]
  },
  {
   "cell_type": "code",
   "execution_count": 6,
   "metadata": {},
   "outputs": [
    {
     "data": {
      "text/plain": [
       "4"
      ]
     },
     "execution_count": 6,
     "metadata": {},
     "output_type": "execute_result"
    }
   ],
   "source": [
    "using .Threads\n",
    "\n",
    "nthreads()"
   ]
  },
  {
   "cell_type": "markdown",
   "metadata": {},
   "source": [
    "\n",
    "Actualmente, Julia necesita iniciarse sabiendo que tiene habilitada la compatibilidad con subprocesos.\n",
    "Lo haces con una variable de entorno. Para obtener cuatro subprocesos, inicie Julia con:\n",
    "\n",
    "JULIA_NUM_THREADS=4 julia"
   ]
  },
  {
   "cell_type": "markdown",
   "metadata": {},
   "source": [
    "En JuliaBox, esto es un desafío: ¡no tenemos acceso al proceso de lanzamiento!"
   ]
  },
  {
   "cell_type": "code",
   "execution_count": 7,
   "metadata": {},
   "outputs": [
    {
     "name": "stdout",
     "output_type": "stream",
     "text": [
      "4\n"
     ]
    }
   ],
   "source": [
    ";env JULIA_NUM_THREADS=4 julia -E 'using .Threads; nthreads()'"
   ]
  },
  {
   "cell_type": "code",
   "execution_count": 8,
   "metadata": {},
   "outputs": [
    {
     "data": {
      "text/plain": [
       "1"
      ]
     },
     "execution_count": 8,
     "metadata": {},
     "output_type": "execute_result"
    }
   ],
   "source": [
    "threadid()"
   ]
  },
  {
   "cell_type": "raw",
   "metadata": {},
   "source": [
    "Actualmente estamos en el subproceso 1. Por supuesto, un ciclo como éste, solo se fijará el primer elemento como \"uno\" del numero de veces:"
   ]
  },
  {
   "cell_type": "code",
   "execution_count": 9,
   "metadata": {},
   "outputs": [
    {
     "data": {
      "text/plain": [
       "4-element Vector{Union{Missing, Int64}}:\n",
       " 1\n",
       "  missing\n",
       "  missing\n",
       "  missing"
      ]
     },
     "execution_count": 9,
     "metadata": {},
     "output_type": "execute_result"
    }
   ],
   "source": [
    "A = Array{Union{Int,Missing}}(missing, nthreads())\n",
    "for i in 1:nthreads()\n",
    "    A[threadid()] = threadid()\n",
    "end\n",
    "A"
   ]
  },
  {
   "cell_type": "markdown",
   "metadata": {},
   "source": [
    "Pero si le ponemos el prefijo @threads, ¡entonces el cuerpo del ciclo se ejecuta en todos los hilos!"
   ]
  },
  {
   "cell_type": "code",
   "execution_count": 10,
   "metadata": {},
   "outputs": [
    {
     "data": {
      "text/plain": [
       "4-element Vector{Union{Missing, Int64}}:\n",
       " 1\n",
       " 2\n",
       " 3\n",
       " 4"
      ]
     },
     "execution_count": 10,
     "metadata": {},
     "output_type": "execute_result"
    }
   ],
   "source": [
    "@threads for i in 1:nthreads()\n",
    "    A[threadid()] = threadid()\n",
    "end\n",
    "A"
   ]
  },
  {
   "cell_type": "markdown",
   "metadata": {},
   "source": [
    "Entonces, intentemos implementar nuestro primer algoritmo sencillo de subprocesos, una suma:"
   ]
  },
  {
   "cell_type": "code",
   "execution_count": 11,
   "metadata": {},
   "outputs": [
    {
     "name": "stdout",
     "output_type": "stream",
     "text": [
      "  0.248360 seconds (20.00 M allocations: 305.178 MiB, 26.88% gc time)\n"
     ]
    },
    {
     "data": {
      "text/plain": [
       "1.2497898375531568e6"
      ]
     },
     "execution_count": 11,
     "metadata": {},
     "output_type": "execute_result"
    }
   ],
   "source": [
    "function threaded_sum1(A)\n",
    "    r = zero(eltype(A))\n",
    "    @threads for i in eachindex(A)\n",
    "        @inbounds r += A[i]\n",
    "    end\n",
    "    return r\n",
    "end\n",
    "\n",
    "A = rand(10_000_000)\n",
    "threaded_sum1(A)\n",
    "@time threaded_sum1(A)"
   ]
  },
  {
   "cell_type": "code",
   "execution_count": 12,
   "metadata": {},
   "outputs": [
    {
     "name": "stdout",
     "output_type": "stream",
     "text": [
      "  0.004626 seconds (1 allocation: 16 bytes)\n"
     ]
    },
    {
     "data": {
      "text/plain": [
       "4.999904134443589e6"
      ]
     },
     "execution_count": 12,
     "metadata": {},
     "output_type": "execute_result"
    }
   ],
   "source": [
    "sum(A)\n",
    "@time sum(A)"
   ]
  },
  {
   "cell_type": "markdown",
   "metadata": {},
   "source": [
    "¡Vaya! ¿Qué sucedió? ¡No solo obtuvimos la respuesta incorrecta, sino que fue lento obtenerla!"
   ]
  },
  {
   "cell_type": "code",
   "execution_count": 13,
   "metadata": {},
   "outputs": [
    {
     "name": "stdout",
     "output_type": "stream",
     "text": [
      "  0.799169 seconds (30 allocations: 2.234 KiB)\n"
     ]
    },
    {
     "data": {
      "text/plain": [
       "4.9999041344437245e6"
      ]
     },
     "execution_count": 13,
     "metadata": {},
     "output_type": "execute_result"
    }
   ],
   "source": [
    "function threaded_sum2(A)\n",
    "    r = Atomic{eltype(A)}(zero(eltype(A)))\n",
    "    @threads for i in eachindex(A)\n",
    "        @inbounds atomic_add!(r, A[i])\n",
    "    end\n",
    "    return r[]\n",
    "end\n",
    "\n",
    "threaded_sum2(A)\n",
    "@time threaded_sum2(A)"
   ]
  },
  {
   "cell_type": "markdown",
   "metadata": {},
   "source": [
    "¡Bien! Ahora obtuvimos la respuesta correcta (ajustando alguna asociatividad de punto flotante), pero aún es más lento que simplemente hacerlo en 1 núcleo."
   ]
  },
  {
   "cell_type": "code",
   "execution_count": 14,
   "metadata": {},
   "outputs": [
    {
     "data": {
      "text/plain": [
       "true"
      ]
     },
     "execution_count": 14,
     "metadata": {},
     "output_type": "execute_result"
    }
   ],
   "source": [
    "threaded_sum2(A) ≈ sum(A)"
   ]
  },
  {
   "cell_type": "markdown",
   "metadata": {},
   "source": [
    "¡Pero sigue siendo lento! ¡Usando *atomics* es mucho más lento que solo agregar números enteros porque constantemente tenemos que ir y verificar qué procesador tiene el último trabajo! Recuerde también que cada subproceso se ejecuta en su propio procesador, ¡y ese procesador también es compatible con SIMD! Bueno, eso si no tuviera que preocuparse por sincronizarse con los otros procesadores..."
   ]
  },
  {
   "cell_type": "code",
   "execution_count": 15,
   "metadata": {},
   "outputs": [
    {
     "name": "stdout",
     "output_type": "stream",
     "text": [
      "  0.003662 seconds (29 allocations: 2.266 KiB)\n"
     ]
    },
    {
     "data": {
      "text/plain": [
       "4.999904134443581e6"
      ]
     },
     "execution_count": 15,
     "metadata": {},
     "output_type": "execute_result"
    }
   ],
   "source": [
    "function threaded_sum3(A)\n",
    "    r = Atomic{eltype(A)}(zero(eltype(A)))\n",
    "    len, rem = divrem(length(A), nthreads())\n",
    "    @threads for t in 1:nthreads()\n",
    "        rₜ = zero(eltype(A))\n",
    "        @simd for i in (1:len) .+ (t-1)*len\n",
    "            @inbounds rₜ += A[i]\n",
    "        end\n",
    "        atomic_add!(r, rₜ)\n",
    "    end\n",
    "    # catch up any stragglers\n",
    "    result = r[]\n",
    "    @simd for i in length(A)-rem+1:length(A)\n",
    "        @inbounds result += A[i]\n",
    "    end\n",
    "    return result\n",
    "end\n",
    "\n",
    "threaded_sum3(A)\n",
    "@time threaded_sum3(A)"
   ]
  },
  {
   "cell_type": "markdown",
   "metadata": {},
   "source": [
    "Rayos, eso es complicado. También hay un problema:"
   ]
  },
  {
   "cell_type": "code",
   "execution_count": 16,
   "metadata": {},
   "outputs": [
    {
     "ename": "LoadError",
     "evalue": "TypeError: in Atomic, in T, expected T<:Union{Bool, Float16, Float32, Float64, Int128, Int16, Int32, Int64, Int8, UInt128, UInt16, UInt32, UInt64, UInt8}, got Type{ComplexF64}",
     "output_type": "error",
     "traceback": [
      "TypeError: in Atomic, in T, expected T<:Union{Bool, Float16, Float32, Float64, Int128, Int16, Int32, Int64, Int8, UInt128, UInt16, UInt32, UInt64, UInt8}, got Type{ComplexF64}",
      "",
      "Stacktrace:",
      " [1] threaded_sum3(A::Vector{ComplexF64})",
      "   @ Main ./In[15]:2",
      " [2] top-level scope",
      "   @ In[16]:1",
      " [3] eval",
      "   @ ./boot.jl:368 [inlined]",
      " [4] include_string(mapexpr::typeof(REPL.softscope), mod::Module, code::String, filename::String)",
      "   @ Base ./loading.jl:1428"
     ]
    }
   ],
   "source": [
    "threaded_sum3(rand(10) .+ rand(10)im) # ¡Prueba con un arreglo de numeros complejos!"
   ]
  },
  {
   "cell_type": "code",
   "execution_count": 17,
   "metadata": {},
   "outputs": [
    {
     "data": {
      "text/plain": [
       "4-element Vector{Float64}:\n",
       " 0.0\n",
       " 0.0\n",
       " 0.0\n",
       " 0.0"
      ]
     },
     "execution_count": 17,
     "metadata": {},
     "output_type": "execute_result"
    }
   ],
   "source": [
    "R = zeros(eltype(A), nthreads())"
   ]
  },
  {
   "cell_type": "code",
   "execution_count": 18,
   "metadata": {},
   "outputs": [
    {
     "name": "stdout",
     "output_type": "stream",
     "text": [
      "  0.003852 seconds (28 allocations: 2.281 KiB)\n"
     ]
    },
    {
     "data": {
      "text/plain": [
       "4.999904134443436e6"
      ]
     },
     "execution_count": 18,
     "metadata": {},
     "output_type": "execute_result"
    }
   ],
   "source": [
    "function threaded_sum4(A)\n",
    "    R = zeros(eltype(A), nthreads())\n",
    "    @threads for i in eachindex(A)\n",
    "        @inbounds R[threadid()] += A[i]\n",
    "    end\n",
    "    r = zero(eltype(A))\n",
    "    # sum the partial results from each thread\n",
    "    for i in eachindex(R)\n",
    "        @inbounds r += R[i]\n",
    "    end\n",
    "    return r\n",
    "end\n",
    "\n",
    "threaded_sum4(A)\n",
    "@time threaded_sum4(A)"
   ]
  },
  {
   "cell_type": "markdown",
   "metadata": {},
   "source": [
    "Esto sacrifica nuestra capacidad para `@simd`, por lo que es un poco más lento, ¡pero al menos no tenemos que preocuparnos por todos esos índices! Y tampoco necesitamos preocuparnos por lo atómico y podemos admitir nuevamente matrices de cualquier elemento:"
   ]
  },
  {
   "cell_type": "code",
   "execution_count": 19,
   "metadata": {},
   "outputs": [
    {
     "data": {
      "text/plain": [
       "4.512829084959211 + 4.473033077368201im"
      ]
     },
     "execution_count": 19,
     "metadata": {},
     "output_type": "execute_result"
    }
   ],
   "source": [
    "threaded_sum4(rand(10) .+ rand(10)im)"
   ]
  },
  {
   "cell_type": "markdown",
   "metadata": {},
   "source": [
    "\n",
    "## Conclusiones clave de `threaded_sum`:\n",
    "\n",
    "* Tenga cuidado con el estado compartido entre hilos: ¡puede dar lugar a respuestas incorrectas!\n",
    "    * Protéjase usando atomics (or [locks/mutexes](https://docs.julialang.org/en/v1/base/multi-threading/#Synchronization-Primitives-1))\n",
    "    * Mejor aún: divida el trabajo manualmente de modo que los bucles internos no compartan el estado. `@threads for i in 1:nthreads()` es una expresión útil.\n",
    "    * Alternativamente, solo use una matriz y solo acceda a los elementos de un solo hilo"
   ]
  },
  {
   "cell_type": "markdown",
   "metadata": {},
   "source": [
    "# Ser cuidadoso con el *global state*  (¡incluso si no es obvio!)\n",
    "\n",
    "Otra clase de algoritmo que puede querer paralelizar es un problema de monte-carlo. Dado que cada iteración es un nuevo sorteo aleatorio, y dado que está interesado en observar el resultado agregado, parece que debería prestarse a el paralelismo muy bien!"
   ]
  },
  {
   "cell_type": "markdown",
   "metadata": {},
   "source": [
    "### Metodo de Monte Carlo\n",
    "El método de Montecarlo es un método no determinista o estadístico numérico, usado para aproximar expresiones matemáticas complejas y costosas de evaluar con exactitud. El método se llamó así en referencia al Casino de Montecarlo (Mónaco) por ser “la capital del juego de azar”, al ser la ruleta un generador simple de números aleatorios. "
   ]
  },
  {
   "cell_type": "markdown",
   "metadata": {},
   "source": [
    "#### Cálculo de $\\pi$ por Montecarlo\n",
    "\n",
    "Consideremos al círculo unitario inscrito en el cuadrado de lado 2 centrado en el origen. Dado que el cociente de sus áreas es $\\frac{\\pi}{4}$, el valor de $\\pi$ puede aproximarse usando Montecarlo de acuerdo al siguiente método:\n",
    "\n",
    "1. Dibuja un círculo unitario, y al cuadrado de lado 2 que lo inscribe.\n",
    "2. Lanza un número $n$ de puntos aleatorios uniformes dentro del cuadrado.\n",
    "3. Cuenta el número de puntos dentro del círculo, es decir, puntos cuya distancia al origen es menor que 1.\n",
    "4. El cociente de los puntos dentro del círculo dividido entre $n$ es un estimado de $\\frac{\\pi}{4}$. Multiplica el resultado por 4 para estimar $\\pi$.\n",
    "\n",
    "<img src='Estimacion_de_Pi_por_Montercarlo.gif'>\n",
    "\n",
    "En este cálculo se tienen que hacer dos consideraciones importantes:\n",
    "\n",
    "1. Si los puntos no están uniformemente distribuidos, el método es inválido.\n",
    "2. La aproximación será pobre si solo se lanzan unos pocos puntos. En promedio, la aproximación mejora conforme se aumenta el número de puntos."
   ]
  },
  {
   "cell_type": "code",
   "execution_count": 20,
   "metadata": {},
   "outputs": [],
   "source": [
    "using BenchmarkTools"
   ]
  },
  {
   "cell_type": "code",
   "execution_count": 21,
   "metadata": {},
   "outputs": [
    {
     "name": "stdout",
     "output_type": "stream",
     "text": [
      "  0.338741 seconds\n"
     ]
    },
    {
     "data": {
      "text/plain": [
       "3.14179224"
      ]
     },
     "execution_count": 21,
     "metadata": {},
     "output_type": "execute_result"
    }
   ],
   "source": [
    "function serialpi(n)\n",
    "    inside = 0\n",
    "    for i in 1:n\n",
    "        x, y = rand(), rand()\n",
    "        inside += (x^2 + y^2 <= 1)\n",
    "    end\n",
    "    return 4 * inside / n\n",
    "end\n",
    "serialpi(1)\n",
    "@time serialpi(100_000_000)"
   ]
  },
  {
   "cell_type": "code",
   "execution_count": 22,
   "metadata": {},
   "outputs": [
    {
     "data": {
      "text/plain": [
       "4"
      ]
     },
     "execution_count": 22,
     "metadata": {},
     "output_type": "execute_result"
    }
   ],
   "source": [
    "using .Threads\n",
    "nthreads()"
   ]
  },
  {
   "cell_type": "markdown",
   "metadata": {},
   "source": [
    "Usemos las técnicas que aprendimos anteriormente para hacer una implementación de subprocesos rápida:"
   ]
  },
  {
   "cell_type": "code",
   "execution_count": 23,
   "metadata": {},
   "outputs": [
    {
     "name": "stdout",
     "output_type": "stream",
     "text": [
      "  0.089154 seconds (29 allocations: 2.297 KiB)\n"
     ]
    },
    {
     "data": {
      "text/plain": [
       "3.14148928"
      ]
     },
     "execution_count": 23,
     "metadata": {},
     "output_type": "execute_result"
    }
   ],
   "source": [
    "function threadedpi(n)\n",
    "    inside = zeros(Int, nthreads())\n",
    "    @threads for i in 1:n\n",
    "        x, y = rand(), rand()\n",
    "        @inbounds inside[threadid()] += (x^2 + y^2 <= 1)\n",
    "    end\n",
    "    return 4 * sum(inside) / n\n",
    "end\n",
    "threadedpi(100_000_000)\n",
    "@time threadedpi(100_000_000)"
   ]
  },
  {
   "cell_type": "markdown",
   "metadata": {},
   "source": [
    "Bien, ahora ¿por qué no funcionó? ¡Es lento! Veamos la secuencia de números aleatorios que generamos:"
   ]
  },
  {
   "cell_type": "code",
   "execution_count": 24,
   "metadata": {},
   "outputs": [
    {
     "data": {
      "text/plain": [
       "20000-element Vector{Float64}:\n",
       " 0.4056994708920292\n",
       " 0.06854582438651502\n",
       " 0.8621408571954849\n",
       " 0.08597086585842195\n",
       " 0.6616126907308237\n",
       " 0.11632735383158599\n",
       " 0.1093856021447891\n",
       " 0.7020044441837296\n",
       " 0.2895098423219379\n",
       " 0.028549977665983994\n",
       " 0.538639413965653\n",
       " 0.8969897902567084\n",
       " 0.25847781536337067\n",
       " ⋮\n",
       " 0.20453475366744478\n",
       " 0.5306149811432983\n",
       " 0.03456372966458843\n",
       " 0.220988862426311\n",
       " 0.9249279921301397\n",
       " 0.007990107701113969\n",
       " 0.6060173783083965\n",
       " 0.40485400823870843\n",
       " 0.9706620597853558\n",
       " 0.5881340040386561\n",
       " 0.46443211274507834\n",
       " 0.8518653025256372"
      ]
     },
     "execution_count": 24,
     "metadata": {},
     "output_type": "execute_result"
    }
   ],
   "source": [
    "import Random\n",
    "Random.seed!(0)\n",
    "N = 20000\n",
    "Rserial = zeros(N)\n",
    "for i in 1:N\n",
    "    Rserial[i] = rand()\n",
    "end\n",
    "Rserial"
   ]
  },
  {
   "cell_type": "code",
   "execution_count": 25,
   "metadata": {},
   "outputs": [
    {
     "data": {
      "text/plain": [
       "20000-element Vector{Float64}:\n",
       " 0.3337624014920011\n",
       " 0.08778934169751962\n",
       " 0.6975330242458738\n",
       " 0.638933502898981\n",
       " 0.00864887382901669\n",
       " 0.5512665131618238\n",
       " 0.3212281816145137\n",
       " 0.3463918406165878\n",
       " 0.6179993182252156\n",
       " 0.24281669365162994\n",
       " 0.8852899334338926\n",
       " 0.6993599111561082\n",
       " 0.4643813532164971\n",
       " ⋮\n",
       " 0.9373739994909909\n",
       " 0.00984536404533165\n",
       " 0.6010075144770451\n",
       " 0.6985782740022968\n",
       " 0.7528479401839744\n",
       " 0.03945273575026298\n",
       " 0.6860815783160642\n",
       " 0.6399224816495211\n",
       " 0.19193799465910422\n",
       " 0.9785012706620614\n",
       " 0.9281000132569841\n",
       " 0.021088421664114843"
      ]
     },
     "execution_count": 25,
     "metadata": {},
     "output_type": "execute_result"
    }
   ],
   "source": [
    "Random.seed!(0)\n",
    "Rthreaded = zeros(N)\n",
    "@threads for i in 1:N\n",
    "    Rthreaded[i] = rand()\n",
    "end\n",
    "Rthreaded"
   ]
  },
  {
   "cell_type": "code",
   "execution_count": 36,
   "metadata": {},
   "outputs": [
    {
     "data": {
      "text/plain": [
       "false"
      ]
     },
     "execution_count": 36,
     "metadata": {},
     "output_type": "execute_result"
    }
   ],
   "source": [
    "Set(Rserial) == Set(Rthreaded)"
   ]
  },
  {
   "cell_type": "code",
   "execution_count": 37,
   "metadata": {},
   "outputs": [
    {
     "data": {
      "text/plain": [
       "20000-element Vector{Union{Nothing, Int64}}:\n",
       " nothing\n",
       " nothing\n",
       " nothing\n",
       " nothing\n",
       " nothing\n",
       " nothing\n",
       " nothing\n",
       " nothing\n",
       " nothing\n",
       " nothing\n",
       " nothing\n",
       " nothing\n",
       " nothing\n",
       " ⋮\n",
       " nothing\n",
       " nothing\n",
       " nothing\n",
       " nothing\n",
       " nothing\n",
       " nothing\n",
       " nothing\n",
       " nothing\n",
       " nothing\n",
       " nothing\n",
       " nothing\n",
       " nothing"
      ]
     },
     "execution_count": 37,
     "metadata": {},
     "output_type": "execute_result"
    }
   ],
   "source": [
    "indexin(Rserial, Rthreaded)"
   ]
  },
  {
   "cell_type": "code",
   "execution_count": 38,
   "metadata": {},
   "outputs": [
    {
     "data": {
      "text/plain": [
       "20000"
      ]
     },
     "execution_count": 38,
     "metadata": {},
     "output_type": "execute_result"
    }
   ],
   "source": [
    "length(unique(Rthreaded))"
   ]
  },
  {
   "cell_type": "code",
   "execution_count": 39,
   "metadata": {},
   "outputs": [
    {
     "data": {
      "text/plain": [
       "20000"
      ]
     },
     "execution_count": 39,
     "metadata": {},
     "output_type": "execute_result"
    }
   ],
   "source": [
    "length(unique(Rserial))"
   ]
  },
  {
   "cell_type": "markdown",
   "metadata": {},
   "source": [
    "¡Ajá, rand() no es seguro para subprocesos! Está mutando (y leyendo) algo global cada vez para averiguar qué sigue. Esto conduce a ralentizaciones y, lo que es peor, sesga la distribución generada de números aleatorios, ¡ya que algunos se repiten!"
   ]
  },
  {
   "cell_type": "code",
   "execution_count": 41,
   "metadata": {},
   "outputs": [
    {
     "name": "stderr",
     "output_type": "stream",
     "text": [
      "WARNING: redefinition of constant ThreadRNG. This may fail, cause incorrect answers, or produce other errors.\n"
     ]
    },
    {
     "name": "stdout",
     "output_type": "stream",
     "text": [
      "  0.070393 seconds (126 allocations: 11.062 KiB)\n"
     ]
    },
    {
     "data": {
      "text/plain": [
       "3.14194636"
      ]
     },
     "execution_count": 41,
     "metadata": {},
     "output_type": "execute_result"
    }
   ],
   "source": [
    "const ThreadRNG = Vector{Random.MersenneTwister}(undef, nthreads())\n",
    "@threads for i in 1:nthreads()\n",
    "    ThreadRNG[Threads.threadid()] = Random.MersenneTwister()\n",
    "end\n",
    "function threadedpi2(n)\n",
    "    inside = zeros(Int, nthreads())\n",
    "    len, rem = divrem(n, nthreads())\n",
    "    rem == 0 || error(\"use a multiple of $(nthreads()), please!\")\n",
    "    @threads for i in 1:nthreads()\n",
    "        rng = ThreadRNG[threadid()]\n",
    "        v = 0\n",
    "        for j in 1:len\n",
    "            x, y = rand(rng), rand(rng)\n",
    "            v += (x^2 + y^2 <= 1)\n",
    "        end\n",
    "        inside[threadid()] = v\n",
    "    end\n",
    "    return 4 * sum(inside) / n\n",
    "end\n",
    "threadedpi2(8)\n",
    "@time threadedpi2(100_000_000)"
   ]
  },
  {
   "cell_type": "markdown",
   "metadata": {},
   "source": [
    "Aparte, tenga cuidado al inicializar muchos `MersenneTwister`s con diferentes estados. Es mejor usar [`randjump`](https://docs.julialang.org/en/v1/manual/parallel-computing/#Side-effects-and-mutable-function-arguments-1) para avanzar por un solo estado."
   ]
  },
  {
   "cell_type": "markdown",
   "metadata": {},
   "source": [
    "## Cuidado con la sobresuscripción\n",
    "¿Recuerdas cómo se distribuye(*Threaded*) BLAS de forma predeterminada? ¿Qué sucede si intentamos usar`@threads`\n",
    "en algo que usa BLAS?"
   ]
  },
  {
   "cell_type": "code",
   "execution_count": 42,
   "metadata": {},
   "outputs": [
    {
     "name": "stdout",
     "output_type": "stream",
     "text": [
      "  1.216967 seconds (201 allocations: 762.945 MiB, 7.51% gc time)\n"
     ]
    }
   ],
   "source": [
    "Ms = [rand(1000, 1000) for _ in 1:100]\n",
    "function serial_matmul(As)\n",
    "    first_idxs = zeros(length(As))\n",
    "    for i in eachindex(As)\n",
    "        @inbounds first_idxs[i] = (As[i]'*As[i])[1]\n",
    "    end\n",
    "    first_idxs\n",
    "end\n",
    "serial_matmul(Ms);\n",
    "@time serial_matmul(Ms);"
   ]
  },
  {
   "cell_type": "code",
   "execution_count": 44,
   "metadata": {},
   "outputs": [
    {
     "name": "stdout",
     "output_type": "stream",
     "text": [
      "  1.631044 seconds (233 allocations: 762.947 MiB)\n"
     ]
    }
   ],
   "source": [
    "using LinearAlgebra\n",
    "BLAS.set_num_threads(nthreads()) #Explicitamente se dice a BLAS que use el mismo numero de hilos(subprocesos)\n",
    "function threaded_matmul(As)\n",
    "    first_idxs = zeros(length(As))\n",
    "    @threads for i in eachindex(As)\n",
    "        @inbounds first_idxs[i] = (As[i]'*As[i])[1]\n",
    "    end\n",
    "    first_idxs\n",
    "end\n",
    "threaded_matmul(Ms)\n",
    "@time threaded_matmul(Ms);"
   ]
  },
  {
   "cell_type": "code",
   "execution_count": 45,
   "metadata": {},
   "outputs": [
    {
     "name": "stdout",
     "output_type": "stream",
     "text": [
      "  0.909218 seconds (233 allocations: 762.947 MiB, 0.33% gc time)\n"
     ]
    }
   ],
   "source": [
    "BLAS.set_num_threads(1)\n",
    "@time threaded_matmul(Ms);"
   ]
  },
  {
   "cell_type": "code",
   "execution_count": 48,
   "metadata": {},
   "outputs": [
    {
     "name": "stdout",
     "output_type": "stream",
     "text": [
      "  2.928124 seconds (201 allocations: 762.945 MiB, 0.90% gc time)\n"
     ]
    },
    {
     "data": {
      "text/plain": [
       "100-element Vector{Float64}:\n",
       " 339.0849100125747\n",
       " 338.2098656726803\n",
       " 342.4082577807274\n",
       " 311.08523863219614\n",
       " 319.5204869300619\n",
       " 341.97867401108164\n",
       " 330.169191474512\n",
       " 347.2614965789113\n",
       " 336.7961972346558\n",
       " 342.6469999594585\n",
       " 332.98055999136466\n",
       " 320.51666366414344\n",
       " 335.7288446163673\n",
       "   ⋮\n",
       " 343.3940418238871\n",
       " 336.4509531242172\n",
       " 321.7695590178687\n",
       " 322.99401977345406\n",
       " 329.0111918821839\n",
       " 323.32771707024796\n",
       " 337.1525924611082\n",
       " 330.9462705457354\n",
       " 321.9632769483542\n",
       " 315.19256871722143\n",
       " 332.3138451894599\n",
       " 331.19904089271836"
      ]
     },
     "execution_count": 48,
     "metadata": {},
     "output_type": "execute_result"
    }
   ],
   "source": [
    "@time serial_matmul(Ms) # Nuevamente, ahora BLAS tiene solo 1 subproceso(thread) "
   ]
  },
  {
   "cell_type": "markdown",
   "metadata": {},
   "source": [
    "# Cuidado con \"false sharing\""
   ]
  },
  {
   "cell_type": "raw",
   "metadata": {},
   "source": [
    "¿Recuerdas la tabla de latencia de memoria?\n",
    "\n",
    "\n",
    "| System Event                   | Actual Latency | Scaled Latency |                          |\n",
    "| ------------------------------ | -------------- | -------------- | ------------------------ |\n",
    "| One CPU cycle                  |     0.4 ns     |     1 s        | ← work happens here     |\n",
    "| Level 1 cache access           |     0.9 ns     |     2 s        |                          |\n",
    "| Level 2 cache access           |     2.8 ns     |     7 s        |                          |\n",
    "| Level 3 cache access           |      28 ns     |     1 min      |                          |\n",
    "| Main memory access (DDR DIMM)  |    ~100 ns     |     4 min      | ← we have control here  |\n",
    "\n",
    "Así es como un cpu moderno típico luce:\n",
    "\n",
    "![Intel Core i7](https://raw.githubusercontent.com/JuliaComputing/JuliaAcademyData.jl/master/courses/Parallel_Computing/images/i7.jpg)\n",
    "\n",
    "Multiples nucleos en el mismo procesador comparten la memoria caché L3, ¡pero no comparten la caché L1 y L2! Entonces, ¿que pasa si estamos accediendo y mutando datos desde el mismo arreglo en multiples núcleos?\n",
    "\n",
    "![Cache coherency](https://raw.githubusercontent.com/JuliaComputing/JuliaAcademyData.jl/master/courses/Parallel_Computing/images/false-sharing.gif)\n",
    "\n",
    "A diferencia del \"true\" sharing, que vimos anteriormente, ¡el intercambio falso aún devolverá la respuesta correcta! Pero lo hace a costa del rendimiento. Los núcleos reconocen que no tienen acceso exclusivo a la línea de caché y, por lo tanto, al modificarlos, alertan a todos los demás núcleos para que invaliden y vuelvan a obtener los datos.\n",
    "```julia\n",
    "function threaded_sum4(A)\n",
    "    R = zeros(eltype(A), nthreads())\n",
    "    @threads for i in eachindex(A)\n",
    "        @inbounds R[threadid()] += A[i]\n",
    "    end\n",
    "    r = zero(eltype(A))\n",
    "    # sum the partial results from each thread\n",
    "    for i in eachindex(R)\n",
    "        @inbounds r += R[i]\n",
    "    end\n",
    "    return r\n",
    "end\n",
    "```"
   ]
  },
  {
   "cell_type": "markdown",
   "metadata": {},
   "source": [
    "## ¡Más mejoras vienen aquí!\n",
    "\n",
    "PARTR Ready Run TimeLas mejoras de subprocesos(*hilos/threading*) que discutimos al inicio tienen como objetivo direccionar este problema de tener funciones de biblioteca implementadas con `@threads`y después tener a quien llama llamandolos con `@threads`. Usa una linea de trabajo del estado del arte del dispositivo para asegurarte que todos los subprocesos estan ocupados.\n"
   ]
  },
  {
   "cell_type": "code",
   "execution_count": null,
   "metadata": {},
   "outputs": [],
   "source": []
  }
 ],
 "metadata": {
  "kernelspec": {
   "display_name": "Julia (4 threads) 1.8.2",
   "language": "julia",
   "name": "julia-(4-threads)-1.8"
  },
  "language_info": {
   "file_extension": ".jl",
   "mimetype": "application/julia",
   "name": "julia",
   "version": "1.8.2"
  }
 },
 "nbformat": 4,
 "nbformat_minor": 2
}
