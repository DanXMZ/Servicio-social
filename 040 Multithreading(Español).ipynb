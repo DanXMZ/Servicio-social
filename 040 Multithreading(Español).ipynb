{
 "cells": [
  {
   "cell_type": "markdown",
   "metadata": {},
   "source": [
    "# Multithreading (Procesos multiples)\n",
    "\n",
    "Ahora finalmente estamos listos para comenzar a hablar sobre ejecutar cosas en múltiples procesadores! La mayoría de las computadoras (incluso los teléfonos celulares) en estos días tienen múltiples núcleos o procesadores, por lo que el lugar obvio para comenzar a trabajar con el paralelismo es haciendo uso de aquellos dentro de nuestro proceso de Julia.\n",
    "\n",
    "Sin embargo, el primer desafío es saber con precisión cuántos \"procesadores\" tiene. \"Procesadores\" está entre comillas porque, bueno, es complicado."
   ]
  },
  {
   "cell_type": "code",
   "execution_count": 1,
   "metadata": {},
   "outputs": [
    {
     "name": "stdout",
     "output_type": "stream",
     "text": [
      "Julia Version 1.8.3\n",
      "Commit 0434deb161e (2022-11-14 20:14 UTC)\n",
      "Platform Info:\n",
      "  OS: Linux (x86_64-linux-gnu)\n",
      "      Ubuntu 22.04.1 LTS\n",
      "  uname: Linux 5.15.0-53-generic #59-Ubuntu SMP Mon Oct 17 18:53:30 UTC 2022 x86_64 x86_64\n",
      "  CPU: Intel(R) Core(TM) i7-4790 CPU @ 3.60GHz: \n",
      "              speed         user         nice          sys         idle          irq\n",
      "       #1   800 MHz        299 s         23 s        115 s      10304 s          0 s\n",
      "       #2  3581 MHz        331 s         18 s        120 s      10552 s          0 s\n",
      "       #3   800 MHz        353 s         22 s        110 s      10729 s          0 s\n",
      "       #4  3600 MHz        291 s          7 s        105 s      10718 s          0 s\n",
      "       #5   800 MHz        259 s         13 s        105 s      10665 s          0 s\n",
      "       #6   800 MHz        275 s         11 s        114 s      10745 s          0 s\n",
      "       #7   800 MHz        320 s         14 s        107 s      10202 s          0 s\n",
      "       #8   800 MHz        294 s         22 s        136 s      10142 s          0 s\n",
      "  Memory: 15.536357879638672 GB (13103.7265625 MB free)\n",
      "  Uptime: 1231.6 sec\n",
      "  Load Avg:  0.56  0.75  1.03\n",
      "  WORD_SIZE: 64\n",
      "  LIBM: libopenlibm\n",
      "  LLVM: libLLVM-13.0.1 (ORCJIT, haswell)\n",
      "  Threads: 1 on 8 virtual cores\n",
      "Environment:\n",
      "  HOME = /home/oscar\n",
      "  TERM = xterm-256color\n",
      "  PATH = /home/oscar/anaconda3/bin:/home/oscar/anaconda3/bin:/home/oscar/anaconda3/condabin:/usr/local/sbin:/usr/local/bin:/usr/sbin:/usr/bin:/sbin:/bin:/usr/games:/usr/local/games:/snap/bin:/snap/bin:/home/oscar/Julia/julia-1.7.3/bin:/home/oscar/pacsab/bin:/home/oscar\n"
     ]
    }
   ],
   "source": [
    "versioninfo(verbose = true)"
   ]
  },
  {
   "cell_type": "code",
   "execution_count": 4,
   "metadata": {
    "scrolled": false
   },
   "outputs": [
    {
     "name": "stderr",
     "output_type": "stream",
     "text": [
      "\u001b[32m\u001b[1m    Updating\u001b[22m\u001b[39m registry at `~/.julia/registries/General`\n",
      "\u001b[32m\u001b[1m    Updating\u001b[22m\u001b[39m git-repo `https://github.com/JuliaRegistries/General.git`\n",
      "\u001b[32m\u001b[1m   Resolving\u001b[22m\u001b[39m package versions...\n",
      "\u001b[32m\u001b[1m   Installed\u001b[22m\u001b[39m Hwloc_jll ─ v2.8.0+1\n",
      "\u001b[32m\u001b[1m   Installed\u001b[22m\u001b[39m Hwloc ───── v2.2.0\n",
      "\u001b[32m\u001b[1m    Updating\u001b[22m\u001b[39m `~/.julia/environments/v1.8/Project.toml`\n",
      " \u001b[90m [0e44f5e4] \u001b[39m\u001b[92m+ Hwloc v2.2.0\u001b[39m\n",
      "\u001b[32m\u001b[1m    Updating\u001b[22m\u001b[39m `~/.julia/environments/v1.8/Manifest.toml`\n",
      " \u001b[90m [0e44f5e4] \u001b[39m\u001b[92m+ Hwloc v2.2.0\u001b[39m\n",
      " \u001b[90m [e33a78d0] \u001b[39m\u001b[92m+ Hwloc_jll v2.8.0+1\u001b[39m\n",
      "\u001b[32m\u001b[1mPrecompiling\u001b[22m\u001b[39m project...\n",
      "\u001b[32m  ✓ \u001b[39m\u001b[90mHwloc_jll\u001b[39m\n",
      "\u001b[32m  ✓ \u001b[39mHwloc\n",
      "  2 dependencies successfully precompiled in 18 seconds. 278 already precompiled. 1 skipped during auto due to previous errors.\n"
     ]
    }
   ],
   "source": [
    "]add Hwloc"
   ]
  },
  {
   "cell_type": "code",
   "execution_count": 33,
   "metadata": {},
   "outputs": [
    {
     "data": {
      "text/plain": [
       "4"
      ]
     },
     "execution_count": 33,
     "metadata": {},
     "output_type": "execute_result"
    }
   ],
   "source": [
    "#; cat /proc/cpuinfo # En máquinas con S.O. Linux\n",
    "\n",
    "using Hwloc\n",
    "Hwloc.num_physical_cores()"
   ]
  },
  {
   "cell_type": "markdown",
   "metadata": {},
   "source": [
    "Lo que su computadora informa como la cantidad de procesadores podría no ser lo mismo que la cantidad total de \"núcleos\". Si bien a veces los procesadores virtuales pueden agregar rendimiento, la paralelización de un cálculo numérico típico sobre estos procesadores virtuales conducirá a un rendimiento significativamente peor porque todavía tienen que compartir gran parte de los aspectos básicos del hardware de cálculo."
   ]
  },
  {
   "cell_type": "markdown",
   "metadata": {},
   "source": [
    "¡Julia es algo multiproceso por defecto! Las llamadas BLAS(*Basic Linear Algebra Subroutines*),como la multiplicación de matrices por ejemplo, ya estan separadas en hilos de procesoo:"
   ]
  },
  {
   "cell_type": "code",
   "execution_count": 30,
   "metadata": {},
   "outputs": [
    {
     "name": "stdout",
     "output_type": "stream",
     "text": [
      "  90.839 ms (2 allocations: 30.52 MiB)\n"
     ]
    }
   ],
   "source": [
    "using BenchmarkTools\n",
    "A = rand(2000, 2000);\n",
    "B = rand(2000, 2000);\n",
    "@btime $A*$B;"
   ]
  },
  {
   "cell_type": "markdown",
   "metadata": {},
   "source": [
    "¡Esto, de forma predeterminada, ya está usando todos sus núcleos de CPU! Puede ver el efecto cambiando la cantidad de subprocesos (que BLAS admite hacer dinámicamente):"
   ]
  },
  {
   "cell_type": "code",
   "execution_count": 34,
   "metadata": {},
   "outputs": [
    {
     "name": "stdout",
     "output_type": "stream",
     "text": [
      "  318.545 ms (2 allocations: 30.52 MiB)\n",
      "  89.585 ms (2 allocations: 30.52 MiB)\n"
     ]
    },
    {
     "data": {
      "text/plain": [
       "2000×2000 Matrix{Float64}:\n",
       " 493.764  511.7    508.259  510.549  …  516.319  517.921  494.235  499.896\n",
       " 497.313  518.849  516.03   523.746     516.64   525.141  492.888  509.257\n",
       " 490.165  509.078  505.331  513.398     508.085  519.951  492.625  502.362\n",
       " 497.596  512.482  501.949  504.023     511.122  521.753  493.886  505.074\n",
       " 488.939  499.532  498.152  496.361     503.681  510.706  487.794  503.422\n",
       " 487.473  507.14   492.703  501.106  …  499.099  511.274  478.229  504.224\n",
       " 497.465  517.869  513.205  515.071     516.291  521.224  495.822  514.05\n",
       " 516.053  533.57   529.882  528.162     533.811  538.227  511.331  523.337\n",
       " 469.224  483.383  473.252  479.806     482.659  496.15   465.86   483.869\n",
       " 497.197  507.107  509.418  506.915     518.051  514.088  491.444  503.385\n",
       " 495.523  525.249  507.925  520.445  …  513.69   528.267  495.391  508.575\n",
       " 505.173  515.311  512.38   518.78      513.043  523.536  495.549  513.313\n",
       " 489.137  506.695  505.148  505.886     510.814  516.288  484.823  498.044\n",
       "   ⋮                                 ⋱                             \n",
       " 490.0    511.145  507.197  509.035     518.834  520.238  489.179  499.817\n",
       " 499.317  517.283  512.557  514.169     516.013  523.138  494.351  503.564\n",
       " 497.94   522.209  518.466  518.548  …  518.399  522.751  500.347  508.898\n",
       " 490.221  514.343  505.104  506.221     503.618  512.58   486.736  512.615\n",
       " 494.495  520.837  510.295  514.596     515.697  521.952  494.303  505.33\n",
       " 496.839  514.973  508.021  513.692     513.701  515.062  493.504  503.661\n",
       " 483.882  505.137  498.555  500.164     503.558  513.182  483.019  501.489\n",
       " 495.968  508.532  496.559  499.16   …  513.754  516.082  490.026  503.49\n",
       " 490.377  502.404  497.344  502.789     511.54   506.76   489.389  500.247\n",
       " 485.727  509.159  499.796  506.361     507.776  518.943  493.366  497.713\n",
       " 482.795  502.881  486.667  497.609     509.192  512.521  485.052  493.473\n",
       " 501.818  509.996  503.892  509.252     520.5    519.17   495.173  510.537"
      ]
     },
     "execution_count": 34,
     "metadata": {},
     "output_type": "execute_result"
    }
   ],
   "source": [
    "using LinearAlgebra\n",
    "BLAS.set_num_threads(1)\n",
    "@btime $A*$B\n",
    "BLAS.set_num_threads(4)\n",
    "@btime $A*$B"
   ]
  },
  {
   "cell_type": "markdown",
   "metadata": {},
   "source": [
    "## ¿Cómo luce la implementación de su propio algoritmo de subprocesos?\n",
    "\n",
    "La compatibilidad con subprocesos múltiples está marcada como \"experimental\" para Julia 1.0 y está pendiente de una gran renovación para la versión 1.2 o 1.3 de Julia. Los principios básicos serán los mismos, pero debería ser mucho más fácil de usar de manera eficiente."
   ]
  },
  {
   "cell_type": "code",
   "execution_count": 2,
   "metadata": {},
   "outputs": [
    {
     "data": {
      "text/plain": [
       "4"
      ]
     },
     "execution_count": 2,
     "metadata": {},
     "output_type": "execute_result"
    }
   ],
   "source": [
    "using .Threads\n",
    "\n",
    "nthreads()"
   ]
  },
  {
   "cell_type": "markdown",
   "metadata": {},
   "source": [
    "\n",
    "Actualmente, Julia necesita iniciarse sabiendo que tiene habilitada la compatibilidad con subprocesos.\n",
    "Lo haces con una variable de entorno. Para obtener cuatro subprocesos, inicie Julia con:\n",
    "\n",
    "JULIA_NUM_THREADS=4 julia"
   ]
  },
  {
   "cell_type": "markdown",
   "metadata": {},
   "source": [
    "En JuliaBox, esto es un desafío: ¡no tenemos acceso al proceso de lanzamiento!"
   ]
  },
  {
   "cell_type": "code",
   "execution_count": 3,
   "metadata": {},
   "outputs": [
    {
     "name": "stdout",
     "output_type": "stream",
     "text": [
      "4\n"
     ]
    }
   ],
   "source": [
    ";env JULIA_NUM_THREADS=4 julia -E 'using .Threads; nthreads()'"
   ]
  },
  {
   "cell_type": "code",
   "execution_count": 4,
   "metadata": {},
   "outputs": [
    {
     "data": {
      "text/plain": [
       "1"
      ]
     },
     "execution_count": 4,
     "metadata": {},
     "output_type": "execute_result"
    }
   ],
   "source": [
    "threadid()"
   ]
  },
  {
   "cell_type": "raw",
   "metadata": {},
   "source": [
    "Actualmente estamos en el subproceso 1. Por supuesto, un ciclo como éste, solo se fijará el primer elemento como \"uno\" del numero de veces:"
   ]
  },
  {
   "cell_type": "code",
   "execution_count": 7,
   "metadata": {},
   "outputs": [
    {
     "data": {
      "text/plain": [
       "4-element Vector{Union{Missing, Int64}}:\n",
       " 1\n",
       "  missing\n",
       "  missing\n",
       "  missing"
      ]
     },
     "execution_count": 7,
     "metadata": {},
     "output_type": "execute_result"
    }
   ],
   "source": [
    "A = Array{Union{Int,Missing}}(missing, nthreads())\n",
    "for i in 1:nthreads()\n",
    "    A[threadid()] = threadid()\n",
    "end\n",
    "A"
   ]
  },
  {
   "cell_type": "markdown",
   "metadata": {},
   "source": [
    "Pero si le ponemos el prefijo @threads, ¡entonces el cuerpo del ciclo se ejecuta en todos los hilos!"
   ]
  },
  {
   "cell_type": "code",
   "execution_count": 8,
   "metadata": {},
   "outputs": [
    {
     "data": {
      "text/plain": [
       "4-element Vector{Union{Missing, Int64}}:\n",
       " 1\n",
       " 2\n",
       " 3\n",
       " 4"
      ]
     },
     "execution_count": 8,
     "metadata": {},
     "output_type": "execute_result"
    }
   ],
   "source": [
    "@threads for i in 1:nthreads()\n",
    "    A[threadid()] = threadid()\n",
    "end\n",
    "A"
   ]
  },
  {
   "cell_type": "markdown",
   "metadata": {},
   "source": [
    "Entonces, intentemos implementar nuestro primer algoritmo sencillo de subprocesos, una suma:"
   ]
  },
  {
   "cell_type": "code",
   "execution_count": 9,
   "metadata": {},
   "outputs": [
    {
     "name": "stdout",
     "output_type": "stream",
     "text": [
      "  0.308516 seconds (20.00 M allocations: 305.178 MiB, 19.96% gc time)\n"
     ]
    },
    {
     "data": {
      "text/plain": [
       "1.2504660065681003e6"
      ]
     },
     "execution_count": 9,
     "metadata": {},
     "output_type": "execute_result"
    }
   ],
   "source": [
    "function threaded_sum1(A)\n",
    "    r = zero(eltype(A))\n",
    "    @threads for i in eachindex(A)\n",
    "        @inbounds r += A[i]\n",
    "    end\n",
    "    return r\n",
    "end\n",
    "\n",
    "A = rand(10_000_000)\n",
    "threaded_sum1(A)\n",
    "@time threaded_sum1(A)"
   ]
  },
  {
   "cell_type": "code",
   "execution_count": 10,
   "metadata": {},
   "outputs": [
    {
     "name": "stdout",
     "output_type": "stream",
     "text": [
      "  0.005194 seconds (1 allocation: 16 bytes)\n"
     ]
    },
    {
     "data": {
      "text/plain": [
       "5.000803148883128e6"
      ]
     },
     "execution_count": 10,
     "metadata": {},
     "output_type": "execute_result"
    }
   ],
   "source": [
    "sum(A)\n",
    "@time sum(A)"
   ]
  },
  {
   "cell_type": "markdown",
   "metadata": {},
   "source": [
    "¡Vaya! ¿Qué sucedió? ¡No solo obtuvimos la respuesta incorrecta, sino que fue lento obtenerla!"
   ]
  },
  {
   "cell_type": "code",
   "execution_count": 11,
   "metadata": {},
   "outputs": [
    {
     "name": "stdout",
     "output_type": "stream",
     "text": [
      "  0.821814 seconds (30 allocations: 2.234 KiB)\n"
     ]
    },
    {
     "data": {
      "text/plain": [
       "5.000803148882506e6"
      ]
     },
     "execution_count": 11,
     "metadata": {},
     "output_type": "execute_result"
    }
   ],
   "source": [
    "function threaded_sum2(A)\n",
    "    r = Atomic{eltype(A)}(zero(eltype(A)))\n",
    "    @threads for i in eachindex(A)\n",
    "        @inbounds atomic_add!(r, A[i])\n",
    "    end\n",
    "    return r[]\n",
    "end\n",
    "\n",
    "threaded_sum2(A)\n",
    "@time threaded_sum2(A)"
   ]
  },
  {
   "cell_type": "markdown",
   "metadata": {},
   "source": [
    "¡Bien! Ahora obtuvimos la respuesta correcta (ajustando alguna asociatividad de punto flotante), pero aún es más lento que simplemente hacerlo en 1 núcleo."
   ]
  },
  {
   "cell_type": "code",
   "execution_count": 12,
   "metadata": {},
   "outputs": [
    {
     "data": {
      "text/plain": [
       "true"
      ]
     },
     "execution_count": 12,
     "metadata": {},
     "output_type": "execute_result"
    }
   ],
   "source": [
    "threaded_sum2(A) ≈ sum(A)"
   ]
  },
  {
   "cell_type": "markdown",
   "metadata": {},
   "source": [
    "¡Pero sigue siendo lento! ¡Usando *atomics* es mucho más lento que solo agregar números enteros porque constantemente tenemos que ir y verificar qué procesador tiene el último trabajo! Recuerde también que cada subproceso se ejecuta en su propio procesador, ¡y ese procesador también es compatible con SIMD! Bueno, eso si no tuviera que preocuparse por sincronizarse con los otros procesadores..."
   ]
  },
  {
   "cell_type": "code",
   "execution_count": 13,
   "metadata": {},
   "outputs": [
    {
     "name": "stdout",
     "output_type": "stream",
     "text": [
      "  0.003625 seconds (27 allocations: 2.234 KiB)\n"
     ]
    },
    {
     "data": {
      "text/plain": [
       "5.000803148883123e6"
      ]
     },
     "execution_count": 13,
     "metadata": {},
     "output_type": "execute_result"
    }
   ],
   "source": [
    "function threaded_sum3(A)\n",
    "    r = Atomic{eltype(A)}(zero(eltype(A)))\n",
    "    len, rem = divrem(length(A), nthreads())\n",
    "    @threads for t in 1:nthreads()\n",
    "        rₜ = zero(eltype(A))\n",
    "        @simd for i in (1:len) .+ (t-1)*len\n",
    "            @inbounds rₜ += A[i]\n",
    "        end\n",
    "        atomic_add!(r, rₜ)\n",
    "    end\n",
    "    # catch up any stragglers\n",
    "    result = r[]\n",
    "    @simd for i in length(A)-rem+1:length(A)\n",
    "        @inbounds result += A[i]\n",
    "    end\n",
    "    return result\n",
    "end\n",
    "\n",
    "threaded_sum3(A)\n",
    "@time threaded_sum3(A)"
   ]
  },
  {
   "cell_type": "markdown",
   "metadata": {},
   "source": [
    "Rayos, eso es complicado. También hay un problema:"
   ]
  },
  {
   "cell_type": "code",
   "execution_count": 14,
   "metadata": {},
   "outputs": [
    {
     "ename": "LoadError",
     "evalue": "TypeError: in Atomic, in T, expected T<:Union{Bool, Float16, Float32, Float64, Int128, Int16, Int32, Int64, Int8, UInt128, UInt16, UInt32, UInt64, UInt8}, got Type{ComplexF64}",
     "output_type": "error",
     "traceback": [
      "TypeError: in Atomic, in T, expected T<:Union{Bool, Float16, Float32, Float64, Int128, Int16, Int32, Int64, Int8, UInt128, UInt16, UInt32, UInt64, UInt8}, got Type{ComplexF64}",
      "",
      "Stacktrace:",
      " [1] threaded_sum3(A::Vector{ComplexF64})",
      "   @ Main ./In[13]:2",
      " [2] top-level scope",
      "   @ In[14]:1",
      " [3] eval",
      "   @ ./boot.jl:368 [inlined]",
      " [4] include_string(mapexpr::typeof(REPL.softscope), mod::Module, code::String, filename::String)",
      "   @ Base ./loading.jl:1428"
     ]
    }
   ],
   "source": [
    "threaded_sum3(rand(10) .+ rand(10)im) # ¡Prueba con un arreglo de numeros complejos!"
   ]
  },
  {
   "cell_type": "code",
   "execution_count": 16,
   "metadata": {},
   "outputs": [
    {
     "data": {
      "text/plain": [
       "4-element Vector{Float64}:\n",
       " 0.0\n",
       " 0.0\n",
       " 0.0\n",
       " 0.0"
      ]
     },
     "execution_count": 16,
     "metadata": {},
     "output_type": "execute_result"
    }
   ],
   "source": [
    "R = zeros(eltype(A), nthreads())"
   ]
  },
  {
   "cell_type": "code",
   "execution_count": 17,
   "metadata": {},
   "outputs": [
    {
     "name": "stdout",
     "output_type": "stream",
     "text": [
      "  0.003831 seconds (28 allocations: 2.281 KiB)\n"
     ]
    },
    {
     "data": {
      "text/plain": [
       "5.000803148883155e6"
      ]
     },
     "execution_count": 17,
     "metadata": {},
     "output_type": "execute_result"
    }
   ],
   "source": [
    "function threaded_sum4(A)\n",
    "    R = zeros(eltype(A), nthreads())\n",
    "    @threads for i in eachindex(A)\n",
    "        @inbounds R[threadid()] += A[i]\n",
    "    end\n",
    "    r = zero(eltype(A))\n",
    "    # sum the partial results from each thread\n",
    "    for i in eachindex(R)\n",
    "        @inbounds r += R[i]\n",
    "    end\n",
    "    return r\n",
    "end\n",
    "\n",
    "threaded_sum4(A)\n",
    "@time threaded_sum4(A)"
   ]
  },
  {
   "cell_type": "markdown",
   "metadata": {},
   "source": [
    "Esto sacrifica nuestra capacidad para `@simd`, por lo que es un poco más lento, ¡pero al menos no tenemos que preocuparnos por todos esos índices! Y tampoco necesitamos preocuparnos por lo atómico y podemos admitir nuevamente matrices de cualquier elemento:"
   ]
  },
  {
   "cell_type": "code",
   "execution_count": 18,
   "metadata": {},
   "outputs": [
    {
     "data": {
      "text/plain": [
       "5.054601479131771 + 3.595116453284855im"
      ]
     },
     "execution_count": 18,
     "metadata": {},
     "output_type": "execute_result"
    }
   ],
   "source": [
    "threaded_sum4(rand(10) .+ rand(10)im)"
   ]
  },
  {
   "cell_type": "markdown",
   "metadata": {},
   "source": [
    "\n",
    "## Conclusiones clave de `threaded_sum`:\n",
    "\n",
    "* Tenga cuidado con el estado compartido entre hilos: ¡puede dar lugar a respuestas incorrectas!\n",
    "    * Protéjase usando atomics (or [locks/mutexes](https://docs.julialang.org/en/v1/base/multi-threading/#Synchronization-Primitives-1))\n",
    "    * Mejor aún: divida el trabajo manualmente de modo que los bucles internos no compartan el estado. `@threads for i in 1:nthreads()` es una expresión útil.\n",
    "    * Alternativamente, solo use una matriz y solo acceda a los elementos de un solo hilo"
   ]
  },
  {
   "cell_type": "markdown",
   "metadata": {},
   "source": [
    "# Ser cuidadoso con el *global state*  (¡incluso si no es obvio!)\n",
    "\n",
    "Otra clase de algoritmo que puede querer paralelizar es un problema de monte-carlo. Dado que cada iteración es un nuevo sorteo aleatorio, y dado que está interesado en observar el resultado agregado, parece que debería prestarse a el paralelismo muy bien!"
   ]
  },
  {
   "cell_type": "markdown",
   "metadata": {},
   "source": [
    "### Metodo de Monte Carlo\n",
    "El método de Montecarlo es un método no determinista o estadístico numérico, usado para aproximar expresiones matemáticas complejas y costosas de evaluar con exactitud. El método se llamó así en referencia al Casino de Montecarlo (Mónaco) por ser “la capital del juego de azar”, al ser la ruleta un generador simple de números aleatorios. "
   ]
  },
  {
   "cell_type": "markdown",
   "metadata": {},
   "source": [
    "#### Cálculo de $\\pi$ por Montecarlo\n",
    "\n",
    "Consideremos al círculo unitario inscrito en el cuadrado de lado 2 centrado en el origen. Dado que el cociente de sus áreas es $\\frac{\\pi}{4}$, el valor de $\\pi$ puede aproximarse usando Montecarlo de acuerdo al siguiente método:\n",
    "\n",
    "1. Dibuja un círculo unitario, y al cuadrado de lado 2 que lo inscribe.\n",
    "2. Lanza un número $n$ de puntos aleatorios uniformes dentro del cuadrado.\n",
    "3. Cuenta el número de puntos dentro del círculo, es decir, puntos cuya distancia al origen es menor que 1.\n",
    "4. El cociente de los puntos dentro del círculo dividido entre $n$ es un estimado de $\\frac{\\pi}{4}$. Multiplica el resultado por 4 para estimar $\\pi$.\n",
    "\n",
    "<img src='Estimacion_de_Pi_por_Montercarlo.gif'>\n",
    "\n",
    "En este cálculo se tienen que hacer dos consideraciones importantes:\n",
    "\n",
    "1. Si los puntos no están uniformemente distribuidos, el método es inválido.\n",
    "2. La aproximación será pobre si solo se lanzan unos pocos puntos. En promedio, la aproximación mejora conforme se aumenta el número de puntos."
   ]
  },
  {
   "cell_type": "code",
   "execution_count": 19,
   "metadata": {},
   "outputs": [],
   "source": [
    "using BenchmarkTools"
   ]
  },
  {
   "cell_type": "code",
   "execution_count": 20,
   "metadata": {},
   "outputs": [
    {
     "name": "stdout",
     "output_type": "stream",
     "text": [
      "  0.356020 seconds\n"
     ]
    },
    {
     "data": {
      "text/plain": [
       "3.14147064"
      ]
     },
     "execution_count": 20,
     "metadata": {},
     "output_type": "execute_result"
    }
   ],
   "source": [
    "function serialpi(n)\n",
    "    inside = 0\n",
    "    for i in 1:n\n",
    "        x, y = rand(), rand()\n",
    "        inside += (x^2 + y^2 <= 1)\n",
    "    end\n",
    "    return 4 * inside / n\n",
    "end\n",
    "serialpi(1)\n",
    "@time serialpi(100_000_000)"
   ]
  },
  {
   "cell_type": "code",
   "execution_count": 28,
   "metadata": {},
   "outputs": [
    {
     "data": {
      "text/plain": [
       "4"
      ]
     },
     "execution_count": 28,
     "metadata": {},
     "output_type": "execute_result"
    }
   ],
   "source": [
    "using .Threads\n",
    "nthreads()"
   ]
  },
  {
   "cell_type": "markdown",
   "metadata": {},
   "source": [
    "Usemos las técnicas que aprendimos anteriormente para hacer una implementación de subprocesos rápida:"
   ]
  },
  {
   "cell_type": "code",
   "execution_count": 22,
   "metadata": {},
   "outputs": [
    {
     "name": "stdout",
     "output_type": "stream",
     "text": [
      "  0.093922 seconds (29 allocations: 2.297 KiB)\n"
     ]
    },
    {
     "data": {
      "text/plain": [
       "3.14130468"
      ]
     },
     "execution_count": 22,
     "metadata": {},
     "output_type": "execute_result"
    }
   ],
   "source": [
    "function threadedpi(n)\n",
    "    inside = zeros(Int, nthreads())\n",
    "    @threads for i in 1:n\n",
    "        x, y = rand(), rand()\n",
    "        @inbounds inside[threadid()] += (x^2 + y^2 <= 1)\n",
    "    end\n",
    "    return 4 * sum(inside) / n\n",
    "end\n",
    "threadedpi(100_000_000)\n",
    "@time threadedpi(100_000_000)"
   ]
  },
  {
   "cell_type": "markdown",
   "metadata": {},
   "source": [
    "Bien, ahora ¿por qué no funcionó? ¡Es lento! Veamos la secuencia de números aleatorios que generamos:"
   ]
  },
  {
   "cell_type": "code",
   "execution_count": 23,
   "metadata": {},
   "outputs": [
    {
     "data": {
      "text/plain": [
       "20000-element Vector{Float64}:\n",
       " 0.4056994708920292\n",
       " 0.06854582438651502\n",
       " 0.8621408571954849\n",
       " 0.08597086585842195\n",
       " 0.6616126907308237\n",
       " 0.11632735383158599\n",
       " 0.1093856021447891\n",
       " 0.7020044441837296\n",
       " 0.2895098423219379\n",
       " 0.028549977665983994\n",
       " 0.538639413965653\n",
       " 0.8969897902567084\n",
       " 0.25847781536337067\n",
       " ⋮\n",
       " 0.20453475366744478\n",
       " 0.5306149811432983\n",
       " 0.03456372966458843\n",
       " 0.220988862426311\n",
       " 0.9249279921301397\n",
       " 0.007990107701113969\n",
       " 0.6060173783083965\n",
       " 0.40485400823870843\n",
       " 0.9706620597853558\n",
       " 0.5881340040386561\n",
       " 0.46443211274507834\n",
       " 0.8518653025256372"
      ]
     },
     "execution_count": 23,
     "metadata": {},
     "output_type": "execute_result"
    }
   ],
   "source": [
    "import Random\n",
    "Random.seed!(0)\n",
    "N = 20000\n",
    "Rserial = zeros(N)\n",
    "for i in 1:N\n",
    "    Rserial[i] = rand()\n",
    "end\n",
    "Rserial"
   ]
  },
  {
   "cell_type": "code",
   "execution_count": 24,
   "metadata": {
    "collapsed": true
   },
   "outputs": [
    {
     "data": {
      "text/plain": [
       "20000-element Vector{Float64}:\n",
       " 0.3337624014920011\n",
       " 0.08778934169751962\n",
       " 0.6975330242458738\n",
       " 0.638933502898981\n",
       " 0.00864887382901669\n",
       " 0.5512665131618238\n",
       " 0.3212281816145137\n",
       " 0.3463918406165878\n",
       " 0.6179993182252156\n",
       " 0.24281669365162994\n",
       " 0.8852899334338926\n",
       " 0.6993599111561082\n",
       " 0.4643813532164971\n",
       " ⋮\n",
       " 0.9373739994909909\n",
       " 0.00984536404533165\n",
       " 0.6010075144770451\n",
       " 0.6985782740022968\n",
       " 0.7528479401839744\n",
       " 0.03945273575026298\n",
       " 0.6860815783160642\n",
       " 0.6399224816495211\n",
       " 0.19193799465910422\n",
       " 0.9785012706620614\n",
       " 0.9281000132569841\n",
       " 0.021088421664114843"
      ]
     },
     "execution_count": 24,
     "metadata": {},
     "output_type": "execute_result"
    }
   ],
   "source": [
    "Random.seed!(0)\n",
    "Rthreaded = zeros(N)\n",
    "@threads for i in 1:N\n",
    "    Rthreaded[i] = rand()\n",
    "end\n",
    "Rthreaded"
   ]
  },
  {
   "cell_type": "code",
   "execution_count": 25,
   "metadata": {},
   "outputs": [
    {
     "data": {
      "text/plain": [
       "false"
      ]
     },
     "execution_count": 25,
     "metadata": {},
     "output_type": "execute_result"
    }
   ],
   "source": [
    "Set(Rserial) == Set(Rthreaded)"
   ]
  },
  {
   "cell_type": "code",
   "execution_count": 26,
   "metadata": {
    "collapsed": true
   },
   "outputs": [
    {
     "data": {
      "text/plain": [
       "20000-element Vector{Union{Nothing, Int64}}:\n",
       " nothing\n",
       " nothing\n",
       " nothing\n",
       " nothing\n",
       " nothing\n",
       " nothing\n",
       " nothing\n",
       " nothing\n",
       " nothing\n",
       " nothing\n",
       " nothing\n",
       " nothing\n",
       " nothing\n",
       " ⋮\n",
       " nothing\n",
       " nothing\n",
       " nothing\n",
       " nothing\n",
       " nothing\n",
       " nothing\n",
       " nothing\n",
       " nothing\n",
       " nothing\n",
       " nothing\n",
       " nothing\n",
       " nothing"
      ]
     },
     "execution_count": 26,
     "metadata": {},
     "output_type": "execute_result"
    }
   ],
   "source": [
    "indexin(Rserial, Rthreaded)"
   ]
  },
  {
   "cell_type": "markdown",
   "metadata": {},
   "source": [
    "¡Ajá, rand() no es seguro para subprocesos! Está mutando (y leyendo) algo global cada vez para averiguar qué sigue. Esto conduce a ralentizaciones y, lo que es peor, sesga la distribución generada de números aleatorios, ¡ya que algunos se repiten!"
   ]
  },
  {
   "cell_type": "code",
   "execution_count": 27,
   "metadata": {},
   "outputs": [
    {
     "ename": "LoadError",
     "evalue": "use a multiple of 4, please!",
     "output_type": "error",
     "traceback": [
      "use a multiple of 4, please!",
      "",
      "Stacktrace:",
      " [1] error(s::String)",
      "   @ Base ./error.jl:35",
      " [2] threadedpi2(n::Int64)",
      "   @ Main ./In[27]:8",
      " [3] top-level scope",
      "   @ In[27]:20",
      " [4] eval",
      "   @ ./boot.jl:368 [inlined]",
      " [5] include_string(mapexpr::typeof(REPL.softscope), mod::Module, code::String, filename::String)",
      "   @ Base ./loading.jl:1428"
     ]
    }
   ],
   "source": [
    "const ThreadRNG = Vector{Random.MersenneTwister}(undef, nthreads())\n",
    "@threads for i in 1:nthreads()\n",
    "    ThreadRNG[Threads.threadid()] = Random.MersenneTwister()\n",
    "end\n",
    "function threadedpi2(n)\n",
    "    inside = zeros(Int, nthreads())\n",
    "    len, rem = divrem(n, nthreads())\n",
    "    rem == 0 || error(\"use a multiple of $(nthreads()), please!\")\n",
    "    @threads for i in 1:nthreads()\n",
    "        rng = ThreadRNG[threadid()]\n",
    "        v = 0\n",
    "        for j in 1:len\n",
    "            x, y = rand(rng), rand(rng)\n",
    "            v += (x^2 + y^2 <= 1)\n",
    "        end\n",
    "        inside[threadid()] = v\n",
    "    end\n",
    "    return 4 * sum(inside) / n\n",
    "end\n",
    "threadedpi2(10)\n",
    "@time threadedpi2(100_000_000)"
   ]
  },
  {
   "cell_type": "code",
   "execution_count": null,
   "metadata": {},
   "outputs": [],
   "source": []
  }
 ],
 "metadata": {
  "kernelspec": {
   "display_name": "Julia (4 threads) 1.8.2",
   "language": "julia",
   "name": "julia-(4-threads)-1.8"
  },
  "language_info": {
   "file_extension": ".jl",
   "mimetype": "application/julia",
   "name": "julia",
   "version": "1.8.2"
  }
 },
 "nbformat": 4,
 "nbformat_minor": 2
}
